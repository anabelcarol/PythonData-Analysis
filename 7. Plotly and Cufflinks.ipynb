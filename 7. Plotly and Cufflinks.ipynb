{
 "cells": [
  {
   "cell_type": "markdown",
   "metadata": {},
   "source": [
    "# Plotly and Cufflinks\n",
    "Plotly is a library that allows you to create interactive plots that you can use in dashboards or websites (you can save them as html files or static images).\n",
    "\n",
    "## Installation\n",
    "\n",
    "In order for this all to work, you'll need to install plotly and cufflinks to call plots directly off of a pandas dataframe.\n",
    "\n",
    "** NOTE: Make sure you only have one installation of Python on your computer when you do this, otherwise the installation may not work. **\n",
    "\n",
    "## Imports and Set-up"
   ]
  },
  {
   "cell_type": "code",
   "execution_count": 1,
   "metadata": {},
   "outputs": [],
   "source": [
    "import pandas as pd\n",
    "import numpy as np\n",
    "%matplotlib inline"
   ]
  },
  {
   "cell_type": "code",
   "execution_count": 2,
   "metadata": {},
   "outputs": [
    {
     "name": "stdout",
     "output_type": "stream",
     "text": [
      "4.6.0\n"
     ]
    }
   ],
   "source": [
    "from plotly import __version__\n",
    "print(__version__) # requires version >= 1.9.0"
   ]
  },
  {
   "cell_type": "code",
   "execution_count": 3,
   "metadata": {},
   "outputs": [],
   "source": [
    "import cufflinks as cf"
   ]
  },
  {
   "cell_type": "code",
   "execution_count": 4,
   "metadata": {},
   "outputs": [],
   "source": [
    "from plotly.offline import download_plotlyjs, init_notebook_mode, plot, iplot"
   ]
  },
  {
   "cell_type": "code",
   "execution_count": 5,
   "metadata": {},
   "outputs": [
    {
     "data": {
      "text/html": [
       "        <script type=\"text/javascript\">\n",
       "        window.PlotlyConfig = {MathJaxConfig: 'local'};\n",
       "        if (window.MathJax) {MathJax.Hub.Config({SVG: {font: \"STIX-Web\"}});}\n",
       "        if (typeof require !== 'undefined') {\n",
       "        require.undef(\"plotly\");\n",
       "        requirejs.config({\n",
       "            paths: {\n",
       "                'plotly': ['https://cdn.plot.ly/plotly-latest.min']\n",
       "            }\n",
       "        });\n",
       "        require(['plotly'], function(Plotly) {\n",
       "            window._Plotly = Plotly;\n",
       "        });\n",
       "        }\n",
       "        </script>\n",
       "        "
      ]
     },
     "metadata": {},
     "output_type": "display_data"
    }
   ],
   "source": [
    "# For Notebooks connect the javascript to the notebook\n",
    "init_notebook_mode(connected=True)"
   ]
  },
  {
   "cell_type": "code",
   "execution_count": 6,
   "metadata": {},
   "outputs": [
    {
     "data": {
      "text/html": [
       "        <script type=\"text/javascript\">\n",
       "        window.PlotlyConfig = {MathJaxConfig: 'local'};\n",
       "        if (window.MathJax) {MathJax.Hub.Config({SVG: {font: \"STIX-Web\"}});}\n",
       "        if (typeof require !== 'undefined') {\n",
       "        require.undef(\"plotly\");\n",
       "        requirejs.config({\n",
       "            paths: {\n",
       "                'plotly': ['https://cdn.plot.ly/plotly-latest.min']\n",
       "            }\n",
       "        });\n",
       "        require(['plotly'], function(Plotly) {\n",
       "            window._Plotly = Plotly;\n",
       "        });\n",
       "        }\n",
       "        </script>\n",
       "        "
      ]
     },
     "metadata": {},
     "output_type": "display_data"
    }
   ],
   "source": [
    "# For offline use\n",
    "cf.go_offline()"
   ]
  },
  {
   "cell_type": "markdown",
   "metadata": {},
   "source": [
    "### Fake Data"
   ]
  },
  {
   "cell_type": "code",
   "execution_count": 7,
   "metadata": {},
   "outputs": [],
   "source": [
    "df = pd.DataFrame(np.random.randn(100,4),columns='A B C D'.split())"
   ]
  },
  {
   "cell_type": "code",
   "execution_count": 9,
   "metadata": {},
   "outputs": [],
   "source": [
    "df2 = pd.DataFrame({'Category':['A','B','C'],'Values':[32,43,50]})"
   ]
  },
  {
   "cell_type": "code",
   "execution_count": 10,
   "metadata": {},
   "outputs": [
    {
     "data": {
      "text/html": [
       "<div>\n",
       "<style scoped>\n",
       "    .dataframe tbody tr th:only-of-type {\n",
       "        vertical-align: middle;\n",
       "    }\n",
       "\n",
       "    .dataframe tbody tr th {\n",
       "        vertical-align: top;\n",
       "    }\n",
       "\n",
       "    .dataframe thead th {\n",
       "        text-align: right;\n",
       "    }\n",
       "</style>\n",
       "<table border=\"1\" class=\"dataframe\">\n",
       "  <thead>\n",
       "    <tr style=\"text-align: right;\">\n",
       "      <th></th>\n",
       "      <th>Category</th>\n",
       "      <th>Values</th>\n",
       "    </tr>\n",
       "  </thead>\n",
       "  <tbody>\n",
       "    <tr>\n",
       "      <td>0</td>\n",
       "      <td>A</td>\n",
       "      <td>32</td>\n",
       "    </tr>\n",
       "    <tr>\n",
       "      <td>1</td>\n",
       "      <td>B</td>\n",
       "      <td>43</td>\n",
       "    </tr>\n",
       "    <tr>\n",
       "      <td>2</td>\n",
       "      <td>C</td>\n",
       "      <td>50</td>\n",
       "    </tr>\n",
       "  </tbody>\n",
       "</table>\n",
       "</div>"
      ],
      "text/plain": [
       "  Category  Values\n",
       "0        A      32\n",
       "1        B      43\n",
       "2        C      50"
      ]
     },
     "execution_count": 10,
     "metadata": {},
     "output_type": "execute_result"
    }
   ],
   "source": [
    "df2.head()"
   ]
  },
  {
   "cell_type": "markdown",
   "metadata": {},
   "source": [
    "## Using Cufflinks and iplot()\n",
    "\n",
    "* scatter\n",
    "* bar\n",
    "* box\n",
    "* spread\n",
    "* ratio\n",
    "* heatmap\n",
    "* surface\n",
    "* histogram\n",
    "* bubble"
   ]
  },
  {
   "cell_type": "code",
   "execution_count": 8,
   "metadata": {
    "scrolled": true
   },
   "outputs": [
    {
     "data": {
      "text/html": [
       "<div>\n",
       "<style scoped>\n",
       "    .dataframe tbody tr th:only-of-type {\n",
       "        vertical-align: middle;\n",
       "    }\n",
       "\n",
       "    .dataframe tbody tr th {\n",
       "        vertical-align: top;\n",
       "    }\n",
       "\n",
       "    .dataframe thead th {\n",
       "        text-align: right;\n",
       "    }\n",
       "</style>\n",
       "<table border=\"1\" class=\"dataframe\">\n",
       "  <thead>\n",
       "    <tr style=\"text-align: right;\">\n",
       "      <th></th>\n",
       "      <th>A</th>\n",
       "      <th>B</th>\n",
       "      <th>C</th>\n",
       "      <th>D</th>\n",
       "    </tr>\n",
       "  </thead>\n",
       "  <tbody>\n",
       "    <tr>\n",
       "      <td>0</td>\n",
       "      <td>0.927350</td>\n",
       "      <td>-1.447583</td>\n",
       "      <td>1.404924</td>\n",
       "      <td>0.689340</td>\n",
       "    </tr>\n",
       "    <tr>\n",
       "      <td>1</td>\n",
       "      <td>-0.533682</td>\n",
       "      <td>1.936342</td>\n",
       "      <td>0.154762</td>\n",
       "      <td>-0.634783</td>\n",
       "    </tr>\n",
       "    <tr>\n",
       "      <td>2</td>\n",
       "      <td>-0.471906</td>\n",
       "      <td>1.570302</td>\n",
       "      <td>0.642738</td>\n",
       "      <td>-1.365165</td>\n",
       "    </tr>\n",
       "    <tr>\n",
       "      <td>3</td>\n",
       "      <td>-0.989204</td>\n",
       "      <td>-1.141172</td>\n",
       "      <td>0.141770</td>\n",
       "      <td>0.565918</td>\n",
       "    </tr>\n",
       "    <tr>\n",
       "      <td>4</td>\n",
       "      <td>1.745699</td>\n",
       "      <td>0.708698</td>\n",
       "      <td>0.645274</td>\n",
       "      <td>0.141464</td>\n",
       "    </tr>\n",
       "  </tbody>\n",
       "</table>\n",
       "</div>"
      ],
      "text/plain": [
       "          A         B         C         D\n",
       "0  0.927350 -1.447583  1.404924  0.689340\n",
       "1 -0.533682  1.936342  0.154762 -0.634783\n",
       "2 -0.471906  1.570302  0.642738 -1.365165\n",
       "3 -0.989204 -1.141172  0.141770  0.565918\n",
       "4  1.745699  0.708698  0.645274  0.141464"
      ]
     },
     "execution_count": 8,
     "metadata": {},
     "output_type": "execute_result"
    }
   ],
   "source": [
    "df.head()"
   ]
  },
  {
   "cell_type": "code",
   "execution_count": 11,
   "metadata": {},
   "outputs": [
    {
     "data": {
      "text/plain": [
       "<matplotlib.axes._subplots.AxesSubplot at 0x1c2545e9d0>"
      ]
     },
     "execution_count": 11,
     "metadata": {},
     "output_type": "execute_result"
    },
    {
     "data": {
      "image/png": "[encoded data removed]",
      "text/plain": [
       "<Figure size 432x288 with 1 Axes>"
      ]
     },
     "metadata": {
      "needs_background": "light"
     },
     "output_type": "display_data"
    }
   ],
   "source": [
    "df.plot()"
   ]
  },
  {
   "cell_type": "code",
   "execution_count": 12,
   "metadata": {},
   "outputs": [
    {
     "data": {
      "application/vnd.plotly.v1+json": {
       "config": {
        "linkText": "Export to plot.ly",
        "plotlyServerURL": "https://plot.ly",
        "showLink": true
       },
       "data": [
        {
         "line": {
          "color": "rgba(255, 153, 51, 1.0)",
          "dash": "solid",
          "shape": "linear",
          "width": 1.3
         },
         "mode": "lines",
         "name": "A",
         "text": "",
         "type": "scatter",
         "x": [
          0,
          1,
          2,
          3,
          4,
          5,
          6,
          7,
          8,
          9,
          10,
          11,
          12,
          13,
          14,
          15,
          16,
          17,
          18,
          19,
          20,
          21,
          22,
          23,
          24,
          25,
          26,
          27,
          28,
          29,
          30,
          31,
          32,
          33,
          34,
          35,
          36,
          37,
          38,
          39,
          40,
          41,
          42,
          43,
          44,
          45,
          46,
          47,
          48,
          49,
          50,
          51,
          52,
          53,
          54,
          55,
          56,
          57,
          58,
          59,
          60,
          61,
          62,
          63,
          64,
          65,
          66,
          67,
          68,
          69,
          70,
          71,
          72,
          73,
          74,
          75,
          76,
          77,
          78,
          79,
          80,
          81,
          82,
          83,
          84,
          85,
          86,
          87,
          88,
          89,
          90,
          91,
          92,
          93,
          94,
          95,
          96,
          97,
          98,
          99
         ],
         "y": [
          0.9273501686452831,
          -0.5336819713432426,
          -0.4719061159137588,
          -0.9892039772850318,
          1.745699378229749,
          -0.26335462861925224,
          0.7908256324744336,
          -0.018916685629151987,
          1.4362821330775597,
          -0.32503355428080577,
          0.153676829720251,
          1.1318065272893738,
          0.08839548036838218,
          -0.13371513443907548,
          0.04554308700723792,
          -0.05877157631492504,
          0.9319619775407781,
          -0.892681343719326,
          -0.23869875455176157,
          -0.8071351942969122,
          -0.8460637342785593,
          0.5435124105045299,
          1.8829768691003779,
          0.26018907025834476,
          -0.9630329187123825,
          0.5924332239870846,
          0.05224067716215473,
          -0.22741409274250976,
          0.12187361251470992,
          0.195255432340129,
          -3.1675899599066684,
          0.4368530139763862,
          1.9289359381994984,
          0.8056938127943846,
          -0.37292655824780185,
          0.6512746095656167,
          -0.9938636126479036,
          0.7862381402545336,
          -1.1287854744382666,
          0.6094151867668576,
          -1.3345012926132753,
          -0.02281986102852559,
          2.1763311981289886,
          -0.09963573401996252,
          0.8464995922182782,
          -1.2042004296695825,
          2.1203247152475537,
          0.36791612384551403,
          -0.23999914272661843,
          0.024080904242700003,
          0.03482469604660009,
          1.8265286417264184,
          0.49707787161574435,
          -0.5323481640582688,
          -0.5904516820742872,
          -0.31429352820806933,
          -0.20083676978802706,
          -0.24576824746640213,
          0.4490649374540152,
          0.009106977618565758,
          -0.2601190686513889,
          -0.4885809019711191,
          -0.7065650259075594,
          -0.5655889024607965,
          1.1242265905343243,
          -1.289422567292631,
          -0.11079106339526591,
          0.025175648703488762,
          -1.0654028367316437,
          0.5876369583983077,
          -1.2193627328117418,
          0.27503948246745363,
          0.20062669512915307,
          -0.712497095962588,
          -0.5936065482919237,
          0.3162171738816598,
          -2.0801283752733593,
          0.05481389727834878,
          0.29834235948809595,
          -0.25193217959399716,
          -0.18815985965566256,
          -1.0993840202389924,
          1.3720808925772439,
          -1.3901447430249643,
          0.2952706310041869,
          -0.14215402384411635,
          0.2557152281650664,
          0.05237368863656635,
          0.1665134157650504,
          0.32752167656534614,
          -0.02638737238095419,
          -0.07622496454221706,
          1.5158939538061444,
          1.2842668521004519,
          1.1900091488359847,
          0.11950465514627728,
          0.20792715338952203,
          -0.7069618004958248,
          -1.0060679633961014,
          0.7402869780165224
         ]
        },
        {
         "line": {
          "color": "rgba(55, 128, 191, 1.0)",
          "dash": "solid",
          "shape": "linear",
          "width": 1.3
         },
         "mode": "lines",
         "name": "B",
         "text": "",
         "type": "scatter",
         "x": [
          0,
          1,
          2,
          3,
          4,
          5,
          6,
          7,
          8,
          9,
          10,
          11,
          12,
          13,
          14,
          15,
          16,
          17,
          18,
          19,
          20,
          21,
          22,
          23,
          24,
          25,
          26,
          27,
          28,
          29,
          30,
          31,
          32,
          33,
          34,
          35,
          36,
          37,
          38,
          39,
          40,
          41,
          42,
          43,
          44,
          45,
          46,
          47,
          48,
          49,
          50,
          51,
          52,
          53,
          54,
          55,
          56,
          57,
          58,
          59,
          60,
          61,
          62,
          63,
          64,
          65,
          66,
          67,
          68,
          69,
          70,
          71,
          72,
          73,
          74,
          75,
          76,
          77,
          78,
          79,
          80,
          81,
          82,
          83,
          84,
          85,
          86,
          87,
          88,
          89,
          90,
          91,
          92,
          93,
          94,
          95,
          96,
          97,
          98,
          99
         ],
         "y": [
          -1.4475834439088642,
          1.936342110293859,
          1.5703019396317082,
          -1.141171509843668,
          0.7086983057483757,
          -0.21548691100100484,
          -0.4935357265485408,
          -0.40008675780020697,
          0.24466237321409023,
          -0.5575940599375178,
          0.7174291311785046,
          0.6066901397467638,
          0.7183279064527168,
          0.9037822643675042,
          0.7922052580156334,
          0.33548132017685217,
          -0.20261143372834065,
          0.7973085569924002,
          1.0992036024784997,
          -0.49476558867100884,
          -0.33780792682176386,
          -1.338637353195344,
          1.1385637433257803,
          -0.20322491634641116,
          0.6844714764071702,
          -0.16617105280152625,
          1.3721896447655835,
          -0.432825142025372,
          -0.6979376497189357,
          -1.827219084945071,
          -0.08870604821904153,
          -0.7593429321290202,
          -1.1452326196090716,
          -0.6591873413644148,
          -0.024453262800700207,
          2.8961064396206346,
          1.363739087484403,
          -0.020299241643240123,
          -0.5503581956789931,
          0.202981852523745,
          -0.04318579863195509,
          1.3640507313160912,
          -1.0280179913191263,
          0.21129179119723718,
          0.10297146234534578,
          -1.2433243782994525,
          -0.021709600661412465,
          1.1984399083378903,
          -1.3599613321180355,
          1.3891357969076896,
          0.07820929637177787,
          -0.6378218867551335,
          -1.0039159825678918,
          -2.126997043628774,
          0.06341984518776161,
          0.32731593946564225,
          2.0722346896488597,
          -1.8756884771290674,
          -1.8738446512520954,
          -0.1688759685449708,
          0.345763386677497,
          -1.4914130382877966,
          -1.4107957310164405,
          -0.4184816338943611,
          1.1964942739671964,
          -0.42009278182817616,
          0.10668530708683387,
          -0.7525150643124401,
          -0.010377553383409528,
          -0.2561262290407313,
          -0.5193080456284674,
          0.2376140021029851,
          0.22650863712631936,
          -0.023683051465336405,
          -0.10574186404763539,
          -1.3388266088658878,
          1.8649371415743328,
          -0.0011472808149724546,
          -0.5809929109198254,
          0.7474919614838859,
          -0.816872565749726,
          1.0410209931608316,
          -0.39785709352618437,
          -1.0815621564988975,
          1.176812583300365,
          0.9895727666875234,
          -0.756797865773887,
          -0.3816828597434053,
          0.42707439730370905,
          -0.1562011388869837,
          0.9675610510066449,
          0.02891219020418467,
          -0.6378898829804626,
          -0.8479768977153376,
          -0.41446797004090963,
          2.564737002195348,
          0.13364725564235924,
          -0.6973271644929159,
          -0.4527411973437712,
          -1.0237425044832327
         ]
        },
        {
         "line": {
          "color": "rgba(50, 171, 96, 1.0)",
          "dash": "solid",
          "shape": "linear",
          "width": 1.3
         },
         "mode": "lines",
         "name": "C",
         "text": "",
         "type": "scatter",
         "x": [
          0,
          1,
          2,
          3,
          4,
          5,
          6,
          7,
          8,
          9,
          10,
          11,
          12,
          13,
          14,
          15,
          16,
          17,
          18,
          19,
          20,
          21,
          22,
          23,
          24,
          25,
          26,
          27,
          28,
          29,
          30,
          31,
          32,
          33,
          34,
          35,
          36,
          37,
          38,
          39,
          40,
          41,
          42,
          43,
          44,
          45,
          46,
          47,
          48,
          49,
          50,
          51,
          52,
          53,
          54,
          55,
          56,
          57,
          58,
          59,
          60,
          61,
          62,
          63,
          64,
          65,
          66,
          67,
          68,
          69,
          70,
          71,
          72,
          73,
          74,
          75,
          76,
          77,
          78,
          79,
          80,
          81,
          82,
          83,
          84,
          85,
          86,
          87,
          88,
          89,
          90,
          91,
          92,
          93,
          94,
          95,
          96,
          97,
          98,
          99
         ],
         "y": [
          1.4049242054570623,
          0.1547621834006053,
          0.6427377446553894,
          0.14176958512210536,
          0.6452742473253624,
          -1.1029515760211577,
          0.004636889360956238,
          -1.4867686806843832,
          1.5347473240196792,
          0.15995536296369012,
          0.31029386900621286,
          -1.549795310649013,
          0.4618488125890316,
          1.1201251521430575,
          0.4690802803947774,
          1.6432681308561372,
          0.008389568495615356,
          -0.01239621104004811,
          0.24131053638423328,
          -1.4103219963121891,
          1.2492004628011075,
          0.18955669364213737,
          0.8157350982642384,
          0.07675734152535334,
          -0.30505179092398904,
          -0.5078562267149158,
          -0.4179911704810528,
          0.5408776143582213,
          1.8372513308449336,
          -0.2501002967666486,
          0.1996512023214983,
          0.8691901065752327,
          0.4495597707471277,
          -2.801023933962865,
          -0.8238229519352759,
          0.04128400296717988,
          -0.6901701140888579,
          1.1916495037586128,
          -0.9295614751372788,
          -0.3231576891007971,
          -0.7040182646953186,
          1.9790020173304628,
          0.985673156309637,
          0.6222213952844792,
          -0.1690695981714178,
          1.3063478136705455,
          -0.5537556528688246,
          0.06401592476986435,
          -0.0008402575602733345,
          -0.5639327228761422,
          0.6608360365296245,
          0.2932081224527548,
          0.6024607368840637,
          0.6096916892907379,
          -0.8679904449478311,
          -0.12208563224647935,
          -1.132526357998367,
          -0.3968559663885494,
          0.5730640969363368,
          0.3827904667250426,
          -0.8200063265474274,
          -0.45552898404631365,
          0.08141056318368534,
          0.5051122350181024,
          -2.0250450421281125,
          0.014663387828365947,
          0.5667760720620605,
          0.2022882687234411,
          1.187387385536581,
          1.0189024742420798,
          -0.7298071957786113,
          0.05948535909929114,
          -0.5079171949110749,
          -0.7440860797142066,
          0.3268609879345079,
          1.4598066328833745,
          1.012654544868541,
          -0.6403355542078821,
          -0.08502020694767025,
          1.4850038202651428,
          0.08081454059719645,
          0.2627642445729847,
          -0.8642028436313269,
          -0.49831337549218374,
          -0.2800136845430416,
          0.040417289509109944,
          -1.144179761118651,
          1.807443770703011,
          0.3806342224989023,
          1.2287603745892146,
          0.8735308102245346,
          -0.8352237499555955,
          1.2123633864099363,
          0.5996684543315636,
          -1.2552732180664523,
          -0.33749497322565136,
          -0.3596282323596586,
          -0.36185868788703535,
          0.8894345743403884,
          -0.8404253713393572
         ]
        },
        {
         "line": {
          "color": "rgba(128, 0, 128, 1.0)",
          "dash": "solid",
          "shape": "linear",
          "width": 1.3
         },
         "mode": "lines",
         "name": "D",
         "text": "",
         "type": "scatter",
         "x": [
          0,
          1,
          2,
          3,
          4,
          5,
          6,
          7,
          8,
          9,
          10,
          11,
          12,
          13,
          14,
          15,
          16,
          17,
          18,
          19,
          20,
          21,
          22,
          23,
          24,
          25,
          26,
          27,
          28,
          29,
          30,
          31,
          32,
          33,
          34,
          35,
          36,
          37,
          38,
          39,
          40,
          41,
          42,
          43,
          44,
          45,
          46,
          47,
          48,
          49,
          50,
          51,
          52,
          53,
          54,
          55,
          56,
          57,
          58,
          59,
          60,
          61,
          62,
          63,
          64,
          65,
          66,
          67,
          68,
          69,
          70,
          71,
          72,
          73,
          74,
          75,
          76,
          77,
          78,
          79,
          80,
          81,
          82,
          83,
          84,
          85,
          86,
          87,
          88,
          89,
          90,
          91,
          92,
          93,
          94,
          95,
          96,
          97,
          98,
          99
         ],
         "y": [
          0.6893397535031753,
          -0.634782770197293,
          -1.3651647455238947,
          0.5659178518454178,
          0.14146422009809448,
          0.20585568742835458,
          -0.323569057620845,
          0.24781586608556125,
          0.8208949499246398,
          1.3351105498079698,
          0.7989279478030678,
          -0.6468933836371301,
          0.39863035992129003,
          0.47095104852203645,
          0.2693234881822479,
          0.5149635994224956,
          0.540039861790419,
          -1.0560385502243055,
          1.420309355013242,
          -1.3271645563971741,
          0.02428842976034102,
          -1.1279761762651903,
          0.7425629834247508,
          0.12454951520226333,
          -0.8900025088723069,
          -1.0415293745293592,
          -1.032703442507068,
          0.08858842850306446,
          0.21673451116324674,
          1.0773810976744913,
          -0.8005023910645993,
          -0.8250117982933071,
          -0.875049873565815,
          0.12047064633653336,
          1.5518281540606154,
          -0.48950713262227397,
          1.158258147987117,
          0.11856343615655199,
          1.6570380736340358,
          2.127076507548714,
          -1.5071492237481672,
          1.3878540441851652,
          1.7967392604687493,
          -2.427511091257778,
          0.6638920325166114,
          -1.0243866636811134,
          -0.9977307088517342,
          1.1332705619033097,
          0.1787949995440567,
          1.8294622360138504,
          1.336117505283273,
          -0.9747308204149058,
          -0.21060626994445616,
          -1.6792949349020025,
          -1.6977453195697814,
          -1.486859332377673,
          0.4614839606236429,
          1.7033598737816464,
          0.3469648988028317,
          -0.6698873840875732,
          1.1598972264121405,
          0.6215349000091484,
          -1.2264167086553013,
          0.23438318536696298,
          1.0633039804419662,
          0.14760634745273152,
          1.2677451019504973,
          0.6535051309470021,
          -0.6851207475862858,
          -1.8591972638103833,
          -0.37396971449307076,
          -1.2208452591467445,
          0.18790967127387492,
          -0.6058533913589577,
          0.01130864506496672,
          -3.1060627472728273,
          -0.27687656929833604,
          0.34068588900417174,
          -0.04575381175627021,
          0.9099625078425607,
          -0.5794692122519473,
          -0.1965604817374992,
          -0.30034716768779113,
          -0.8263038743589,
          0.3559471996961158,
          -0.618517658506671,
          -0.5489259138475905,
          -1.192280245987357,
          -0.17765596325209876,
          -1.7786305738644168,
          0.6023764476041314,
          0.5177743526185985,
          1.625948563551156,
          0.732401806275617,
          0.5159331202280345,
          0.9004335661442393,
          0.12533332537820574,
          0.05145474359691806,
          -1.1901492124514266,
          1.3226574609114097
         ]
        }
       ],
       "layout": {
        "legend": {
         "bgcolor": "#F5F6F9",
         "font": {
          "color": "#4D5663"
         }
        },
        "paper_bgcolor": "#F5F6F9",
        "plot_bgcolor": "#F5F6F9",
        "template": {
         "data": {
          "bar": [
           {
            "error_x": {
             "color": "#2a3f5f"
            },
            "error_y": {
             "color": "#2a3f5f"
            },
            "marker": {
             "line": {
              "color": "#E5ECF6",
              "width": 0.5
             }
            },
            "type": "bar"
           }
          ],
          "barpolar": [
           {
            "marker": {
             "line": {
              "color": "#E5ECF6",
              "width": 0.5
             }
            },
            "type": "barpolar"
           }
          ],
          "carpet": [
           {
            "aaxis": {
             "endlinecolor": "#2a3f5f",
             "gridcolor": "white",
             "linecolor": "white",
             "minorgridcolor": "white",
             "startlinecolor": "#2a3f5f"
            },
            "baxis": {
             "endlinecolor": "#2a3f5f",
             "gridcolor": "white",
             "linecolor": "white",
             "minorgridcolor": "white",
             "startlinecolor": "#2a3f5f"
            },
            "type": "carpet"
           }
          ],
          "choropleth": [
           {
            "colorbar": {
             "outlinewidth": 0,
             "ticks": ""
            },
            "type": "choropleth"
           }
          ],
          "contour": [
           {
            "colorbar": {
             "outlinewidth": 0,
             "ticks": ""
            },
            "colorscale": [
             [
              0,
              "#0d0887"
             ],
             [
              0.1111111111111111,
              "#46039f"
             ],
             [
              0.2222222222222222,
              "#7201a8"
             ],
             [
              0.3333333333333333,
              "#9c179e"
             ],
             [
              0.4444444444444444,
              "#bd3786"
             ],
             [
              0.5555555555555556,
              "#d8576b"
             ],
             [
              0.6666666666666666,
              "#ed7953"
             ],
             [
              0.7777777777777778,
              "#fb9f3a"
             ],
             [
              0.8888888888888888,
              "#fdca26"
             ],
             [
              1,
              "#f0f921"
             ]
            ],
            "type": "contour"
           }
          ],
          "contourcarpet": [
           {
            "colorbar": {
             "outlinewidth": 0,
             "ticks": ""
            },
            "type": "contourcarpet"
           }
          ],
          "heatmap": [
           {
            "colorbar": {
             "outlinewidth": 0,
             "ticks": ""
            },
            "colorscale": [
             [
              0,
              "#0d0887"
             ],
             [
              0.1111111111111111,
              "#46039f"
             ],
             [
              0.2222222222222222,
              "#7201a8"
             ],
             [
              0.3333333333333333,
              "#9c179e"
             ],
             [
              0.4444444444444444,
              "#bd3786"
             ],
             [
              0.5555555555555556,
              "#d8576b"
             ],
             [
              0.6666666666666666,
              "#ed7953"
             ],
             [
              0.7777777777777778,
              "#fb9f3a"
             ],
             [
              0.8888888888888888,
              "#fdca26"
             ],
             [
              1,
              "#f0f921"
             ]
            ],
            "type": "heatmap"
           }
          ],
          "heatmapgl": [
           {
            "colorbar": {
             "outlinewidth": 0,
             "ticks": ""
            },
            "colorscale": [
             [
              0,
              "#0d0887"
             ],
             [
              0.1111111111111111,
              "#46039f"
             ],
             [
              0.2222222222222222,
              "#7201a8"
             ],
             [
              0.3333333333333333,
              "#9c179e"
             ],
             [
              0.4444444444444444,
              "#bd3786"
             ],
             [
              0.5555555555555556,
              "#d8576b"
             ],
             [
              0.6666666666666666,
              "#ed7953"
             ],
             [
              0.7777777777777778,
              "#fb9f3a"
             ],
             [
              0.8888888888888888,
              "#fdca26"
             ],
             [
              1,
              "#f0f921"
             ]
            ],
            "type": "heatmapgl"
           }
          ],
          "histogram": [
           {
            "marker": {
             "colorbar": {
              "outlinewidth": 0,
              "ticks": ""
             }
            },
            "type": "histogram"
           }
          ],
          "histogram2d": [
           {
            "colorbar": {
             "outlinewidth": 0,
             "ticks": ""
            },
            "colorscale": [
             [
              0,
              "#0d0887"
             ],
             [
              0.1111111111111111,
              "#46039f"
             ],
             [
              0.2222222222222222,
              "#7201a8"
             ],
             [
              0.3333333333333333,
              "#9c179e"
             ],
             [
              0.4444444444444444,
              "#bd3786"
             ],
             [
              0.5555555555555556,
              "#d8576b"
             ],
             [
              0.6666666666666666,
              "#ed7953"
             ],
             [
              0.7777777777777778,
              "#fb9f3a"
             ],
             [
              0.8888888888888888,
              "#fdca26"
             ],
             [
              1,
              "#f0f921"
             ]
            ],
            "type": "histogram2d"
           }
          ],
          "histogram2dcontour": [
           {
            "colorbar": {
             "outlinewidth": 0,
             "ticks": ""
            },
            "colorscale": [
             [
              0,
              "#0d0887"
             ],
             [
              0.1111111111111111,
              "#46039f"
             ],
             [
              0.2222222222222222,
              "#7201a8"
             ],
             [
              0.3333333333333333,
              "#9c179e"
             ],
             [
              0.4444444444444444,
              "#bd3786"
             ],
             [
              0.5555555555555556,
              "#d8576b"
             ],
             [
              0.6666666666666666,
              "#ed7953"
             ],
             [
              0.7777777777777778,
              "#fb9f3a"
             ],
             [
              0.8888888888888888,
              "#fdca26"
             ],
             [
              1,
              "#f0f921"
             ]
            ],
            "type": "histogram2dcontour"
           }
          ],
          "mesh3d": [
           {
            "colorbar": {
             "outlinewidth": 0,
             "ticks": ""
            },
            "type": "mesh3d"
           }
          ],
          "parcoords": [
           {
            "line": {
             "colorbar": {
              "outlinewidth": 0,
              "ticks": ""
             }
            },
            "type": "parcoords"
           }
          ],
          "pie": [
           {
            "automargin": true,
            "type": "pie"
           }
          ],
          "scatter": [
           {
            "marker": {
             "colorbar": {
              "outlinewidth": 0,
              "ticks": ""
             }
            },
            "type": "scatter"
           }
          ],
          "scatter3d": [
           {
            "line": {
             "colorbar": {
              "outlinewidth": 0,
              "ticks": ""
             }
            },
            "marker": {
             "colorbar": {
              "outlinewidth": 0,
              "ticks": ""
             }
            },
            "type": "scatter3d"
           }
          ],
          "scattercarpet": [
           {
            "marker": {
             "colorbar": {
              "outlinewidth": 0,
              "ticks": ""
             }
            },
            "type": "scattercarpet"
           }
          ],
          "scattergeo": [
           {
            "marker": {
             "colorbar": {
              "outlinewidth": 0,
              "ticks": ""
             }
            },
            "type": "scattergeo"
           }
          ],
          "scattergl": [
           {
            "marker": {
             "colorbar": {
              "outlinewidth": 0,
              "ticks": ""
             }
            },
            "type": "scattergl"
           }
          ],
          "scattermapbox": [
           {
            "marker": {
             "colorbar": {
              "outlinewidth": 0,
              "ticks": ""
             }
            },
            "type": "scattermapbox"
           }
          ],
          "scatterpolar": [
           {
            "marker": {
             "colorbar": {
              "outlinewidth": 0,
              "ticks": ""
             }
            },
            "type": "scatterpolar"
           }
          ],
          "scatterpolargl": [
           {
            "marker": {
             "colorbar": {
              "outlinewidth": 0,
              "ticks": ""
             }
            },
            "type": "scatterpolargl"
           }
          ],
          "scatterternary": [
           {
            "marker": {
             "colorbar": {
              "outlinewidth": 0,
              "ticks": ""
             }
            },
            "type": "scatterternary"
           }
          ],
          "surface": [
           {
            "colorbar": {
             "outlinewidth": 0,
             "ticks": ""
            },
            "colorscale": [
             [
              0,
              "#0d0887"
             ],
             [
              0.1111111111111111,
              "#46039f"
             ],
             [
              0.2222222222222222,
              "#7201a8"
             ],
             [
              0.3333333333333333,
              "#9c179e"
             ],
             [
              0.4444444444444444,
              "#bd3786"
             ],
             [
              0.5555555555555556,
              "#d8576b"
             ],
             [
              0.6666666666666666,
              "#ed7953"
             ],
             [
              0.7777777777777778,
              "#fb9f3a"
             ],
             [
              0.8888888888888888,
              "#fdca26"
             ],
             [
              1,
              "#f0f921"
             ]
            ],
            "type": "surface"
           }
          ],
          "table": [
           {
            "cells": {
             "fill": {
              "color": "#EBF0F8"
             },
             "line": {
              "color": "white"
             }
            },
            "header": {
             "fill": {
              "color": "#C8D4E3"
             },
             "line": {
              "color": "white"
             }
            },
            "type": "table"
           }
          ]
         },
         "layout": {
          "annotationdefaults": {
           "arrowcolor": "#2a3f5f",
           "arrowhead": 0,
           "arrowwidth": 1
          },
          "coloraxis": {
           "colorbar": {
            "outlinewidth": 0,
            "ticks": ""
           }
          },
          "colorscale": {
           "diverging": [
            [
             0,
             "#8e0152"
            ],
            [
             0.1,
             "#c51b7d"
            ],
            [
             0.2,
             "#de77ae"
            ],
            [
             0.3,
             "#f1b6da"
            ],
            [
             0.4,
             "#fde0ef"
            ],
            [
             0.5,
             "#f7f7f7"
            ],
            [
             0.6,
             "#e6f5d0"
            ],
            [
             0.7,
             "#b8e186"
            ],
            [
             0.8,
             "#7fbc41"
            ],
            [
             0.9,
             "#4d9221"
            ],
            [
             1,
             "#276419"
            ]
           ],
           "sequential": [
            [
             0,
             "#0d0887"
            ],
            [
             0.1111111111111111,
             "#46039f"
            ],
            [
             0.2222222222222222,
             "#7201a8"
            ],
            [
             0.3333333333333333,
             "#9c179e"
            ],
            [
             0.4444444444444444,
             "#bd3786"
            ],
            [
             0.5555555555555556,
             "#d8576b"
            ],
            [
             0.6666666666666666,
             "#ed7953"
            ],
            [
             0.7777777777777778,
             "#fb9f3a"
            ],
            [
             0.8888888888888888,
             "#fdca26"
            ],
            [
             1,
             "#f0f921"
            ]
           ],
           "sequentialminus": [
            [
             0,
             "#0d0887"
            ],
            [
             0.1111111111111111,
             "#46039f"
            ],
            [
             0.2222222222222222,
             "#7201a8"
            ],
            [
             0.3333333333333333,
             "#9c179e"
            ],
            [
             0.4444444444444444,
             "#bd3786"
            ],
            [
             0.5555555555555556,
             "#d8576b"
            ],
            [
             0.6666666666666666,
             "#ed7953"
            ],
            [
             0.7777777777777778,
             "#fb9f3a"
            ],
            [
             0.8888888888888888,
             "#fdca26"
            ],
            [
             1,
             "#f0f921"
            ]
           ]
          },
          "colorway": [
           "#636efa",
           "#EF553B",
           "#00cc96",
           "#ab63fa",
           "#FFA15A",
           "#19d3f3",
           "#FF6692",
           "#B6E880",
           "#FF97FF",
           "#FECB52"
          ],
          "font": {
           "color": "#2a3f5f"
          },
          "geo": {
           "bgcolor": "white",
           "lakecolor": "white",
           "landcolor": "#E5ECF6",
           "showlakes": true,
           "showland": true,
           "subunitcolor": "white"
          },
          "hoverlabel": {
           "align": "left"
          },
          "hovermode": "closest",
          "mapbox": {
           "style": "light"
          },
          "paper_bgcolor": "white",
          "plot_bgcolor": "#E5ECF6",
          "polar": {
           "angularaxis": {
            "gridcolor": "white",
            "linecolor": "white",
            "ticks": ""
           },
           "bgcolor": "#E5ECF6",
           "radialaxis": {
            "gridcolor": "white",
            "linecolor": "white",
            "ticks": ""
           }
          },
          "scene": {
           "xaxis": {
            "backgroundcolor": "#E5ECF6",
            "gridcolor": "white",
            "gridwidth": 2,
            "linecolor": "white",
            "showbackground": true,
            "ticks": "",
            "zerolinecolor": "white"
           },
           "yaxis": {
            "backgroundcolor": "#E5ECF6",
            "gridcolor": "white",
            "gridwidth": 2,
            "linecolor": "white",
            "showbackground": true,
            "ticks": "",
            "zerolinecolor": "white"
           },
           "zaxis": {
            "backgroundcolor": "#E5ECF6",
            "gridcolor": "white",
            "gridwidth": 2,
            "linecolor": "white",
            "showbackground": true,
            "ticks": "",
            "zerolinecolor": "white"
           }
          },
          "shapedefaults": {
           "line": {
            "color": "#2a3f5f"
           }
          },
          "ternary": {
           "aaxis": {
            "gridcolor": "white",
            "linecolor": "white",
            "ticks": ""
           },
           "baxis": {
            "gridcolor": "white",
            "linecolor": "white",
            "ticks": ""
           },
           "bgcolor": "#E5ECF6",
           "caxis": {
            "gridcolor": "white",
            "linecolor": "white",
            "ticks": ""
           }
          },
          "title": {
           "x": 0.05
          },
          "xaxis": {
           "automargin": true,
           "gridcolor": "white",
           "linecolor": "white",
           "ticks": "",
           "title": {
            "standoff": 15
           },
           "zerolinecolor": "white",
           "zerolinewidth": 2
          },
          "yaxis": {
           "automargin": true,
           "gridcolor": "white",
           "linecolor": "white",
           "ticks": "",
           "title": {
            "standoff": 15
           },
           "zerolinecolor": "white",
           "zerolinewidth": 2
          }
         }
        },
        "title": {
         "font": {
          "color": "#4D5663"
         }
        },
        "xaxis": {
         "gridcolor": "#E1E5ED",
         "showgrid": true,
         "tickfont": {
          "color": "#4D5663"
         },
         "title": {
          "font": {
           "color": "#4D5663"
          },
          "text": ""
         },
         "zerolinecolor": "#E1E5ED"
        },
        "yaxis": {
         "gridcolor": "#E1E5ED",
         "showgrid": true,
         "tickfont": {
          "color": "#4D5663"
         },
         "title": {
          "font": {
           "color": "#4D5663"
          },
          "text": ""
         },
         "zerolinecolor": "#E1E5ED"
        }
       }
      },
      "text/html": [
       "<div>\n",
       "        \n",
       "        \n",
       "            <div id=\"e3fe02a8-74c2-4811-bcf1-c744f4634380\" class=\"plotly-graph-div\" style=\"height:525px; width:100%;\"></div>\n",
       "            <script type=\"text/javascript\">\n",
       "                require([\"plotly\"], function(Plotly) {\n",
       "                    window.PLOTLYENV=window.PLOTLYENV || {};\n",
       "                    window.PLOTLYENV.BASE_URL='https://plot.ly';\n",
       "                    \n",
       "                if (document.getElementById(\"e3fe02a8-74c2-4811-bcf1-c744f4634380\")) {\n",
       "                    Plotly.newPlot(\n",
       "                        'e3fe02a8-74c2-4811-bcf1-c744f4634380',\n",
       "                        [{\"line\": {\"color\": \"rgba(255, 153, 51, 1.0)\", \"dash\": \"solid\", \"shape\": \"linear\", \"width\": 1.3}, \"mode\": \"lines\", \"name\": \"A\", \"text\": \"\", \"type\": \"scatter\", \"x\": [0, 1, 2, 3, 4, 5, 6, 7, 8, 9, 10, 11, 12, 13, 14, 15, 16, 17, 18, 19, 20, 21, 22, 23, 24, 25, 26, 27, 28, 29, 30, 31, 32, 33, 34, 35, 36, 37, 38, 39, 40, 41, 42, 43, 44, 45, 46, 47, 48, 49, 50, 51, 52, 53, 54, 55, 56, 57, 58, 59, 60, 61, 62, 63, 64, 65, 66, 67, 68, 69, 70, 71, 72, 73, 74, 75, 76, 77, 78, 79, 80, 81, 82, 83, 84, 85, 86, 87, 88, 89, 90, 91, 92, 93, 94, 95, 96, 97, 98, 99], \"y\": [0.9273501686452831, -0.5336819713432426, -0.4719061159137588, -0.9892039772850318, 1.745699378229749, -0.26335462861925224, 0.7908256324744336, -0.018916685629151987, 1.4362821330775597, -0.32503355428080577, 0.153676829720251, 1.1318065272893738, 0.08839548036838218, -0.13371513443907548, 0.04554308700723792, -0.05877157631492504, 0.9319619775407781, -0.892681343719326, -0.23869875455176157, -0.8071351942969122, -0.8460637342785593, 0.5435124105045299, 1.8829768691003779, 0.26018907025834476, -0.9630329187123825, 0.5924332239870846, 0.05224067716215473, -0.22741409274250976, 0.12187361251470992, 0.195255432340129, -3.1675899599066684, 0.4368530139763862, 1.9289359381994984, 0.8056938127943846, -0.37292655824780185, 0.6512746095656167, -0.9938636126479036, 0.7862381402545336, -1.1287854744382666, 0.6094151867668576, -1.3345012926132753, -0.02281986102852559, 2.1763311981289886, -0.09963573401996252, 0.8464995922182782, -1.2042004296695825, 2.1203247152475537, 0.36791612384551403, -0.23999914272661843, 0.024080904242700003, 0.03482469604660009, 1.8265286417264184, 0.49707787161574435, -0.5323481640582688, -0.5904516820742872, -0.31429352820806933, -0.20083676978802706, -0.24576824746640213, 0.4490649374540152, 0.009106977618565758, -0.2601190686513889, -0.4885809019711191, -0.7065650259075594, -0.5655889024607965, 1.1242265905343243, -1.289422567292631, -0.11079106339526591, 0.025175648703488762, -1.0654028367316437, 0.5876369583983077, -1.2193627328117418, 0.27503948246745363, 0.20062669512915307, -0.712497095962588, -0.5936065482919237, 0.3162171738816598, -2.0801283752733593, 0.05481389727834878, 0.29834235948809595, -0.25193217959399716, -0.18815985965566256, -1.0993840202389924, 1.3720808925772439, -1.3901447430249643, 0.2952706310041869, -0.14215402384411635, 0.2557152281650664, 0.05237368863656635, 0.1665134157650504, 0.32752167656534614, -0.02638737238095419, -0.07622496454221706, 1.5158939538061444, 1.2842668521004519, 1.1900091488359847, 0.11950465514627728, 0.20792715338952203, -0.7069618004958248, -1.0060679633961014, 0.7402869780165224]}, {\"line\": {\"color\": \"rgba(55, 128, 191, 1.0)\", \"dash\": \"solid\", \"shape\": \"linear\", \"width\": 1.3}, \"mode\": \"lines\", \"name\": \"B\", \"text\": \"\", \"type\": \"scatter\", \"x\": [0, 1, 2, 3, 4, 5, 6, 7, 8, 9, 10, 11, 12, 13, 14, 15, 16, 17, 18, 19, 20, 21, 22, 23, 24, 25, 26, 27, 28, 29, 30, 31, 32, 33, 34, 35, 36, 37, 38, 39, 40, 41, 42, 43, 44, 45, 46, 47, 48, 49, 50, 51, 52, 53, 54, 55, 56, 57, 58, 59, 60, 61, 62, 63, 64, 65, 66, 67, 68, 69, 70, 71, 72, 73, 74, 75, 76, 77, 78, 79, 80, 81, 82, 83, 84, 85, 86, 87, 88, 89, 90, 91, 92, 93, 94, 95, 96, 97, 98, 99], \"y\": [-1.4475834439088642, 1.936342110293859, 1.5703019396317082, -1.141171509843668, 0.7086983057483757, -0.21548691100100484, -0.4935357265485408, -0.40008675780020697, 0.24466237321409023, -0.5575940599375178, 0.7174291311785046, 0.6066901397467638, 0.7183279064527168, 0.9037822643675042, 0.7922052580156334, 0.33548132017685217, -0.20261143372834065, 0.7973085569924002, 1.0992036024784997, -0.49476558867100884, -0.33780792682176386, -1.338637353195344, 1.1385637433257803, -0.20322491634641116, 0.6844714764071702, -0.16617105280152625, 1.3721896447655835, -0.432825142025372, -0.6979376497189357, -1.827219084945071, -0.08870604821904153, -0.7593429321290202, -1.1452326196090716, -0.6591873413644148, -0.024453262800700207, 2.8961064396206346, 1.363739087484403, -0.020299241643240123, -0.5503581956789931, 0.202981852523745, -0.04318579863195509, 1.3640507313160912, -1.0280179913191263, 0.21129179119723718, 0.10297146234534578, -1.2433243782994525, -0.021709600661412465, 1.1984399083378903, -1.3599613321180355, 1.3891357969076896, 0.07820929637177787, -0.6378218867551335, -1.0039159825678918, -2.126997043628774, 0.06341984518776161, 0.32731593946564225, 2.0722346896488597, -1.8756884771290674, -1.8738446512520954, -0.1688759685449708, 0.345763386677497, -1.4914130382877966, -1.4107957310164405, -0.4184816338943611, 1.1964942739671964, -0.42009278182817616, 0.10668530708683387, -0.7525150643124401, -0.010377553383409528, -0.2561262290407313, -0.5193080456284674, 0.2376140021029851, 0.22650863712631936, -0.023683051465336405, -0.10574186404763539, -1.3388266088658878, 1.8649371415743328, -0.0011472808149724546, -0.5809929109198254, 0.7474919614838859, -0.816872565749726, 1.0410209931608316, -0.39785709352618437, -1.0815621564988975, 1.176812583300365, 0.9895727666875234, -0.756797865773887, -0.3816828597434053, 0.42707439730370905, -0.1562011388869837, 0.9675610510066449, 0.02891219020418467, -0.6378898829804626, -0.8479768977153376, -0.41446797004090963, 2.564737002195348, 0.13364725564235924, -0.6973271644929159, -0.4527411973437712, -1.0237425044832327]}, {\"line\": {\"color\": \"rgba(50, 171, 96, 1.0)\", \"dash\": \"solid\", \"shape\": \"linear\", \"width\": 1.3}, \"mode\": \"lines\", \"name\": \"C\", \"text\": \"\", \"type\": \"scatter\", \"x\": [0, 1, 2, 3, 4, 5, 6, 7, 8, 9, 10, 11, 12, 13, 14, 15, 16, 17, 18, 19, 20, 21, 22, 23, 24, 25, 26, 27, 28, 29, 30, 31, 32, 33, 34, 35, 36, 37, 38, 39, 40, 41, 42, 43, 44, 45, 46, 47, 48, 49, 50, 51, 52, 53, 54, 55, 56, 57, 58, 59, 60, 61, 62, 63, 64, 65, 66, 67, 68, 69, 70, 71, 72, 73, 74, 75, 76, 77, 78, 79, 80, 81, 82, 83, 84, 85, 86, 87, 88, 89, 90, 91, 92, 93, 94, 95, 96, 97, 98, 99], \"y\": [1.4049242054570623, 0.1547621834006053, 0.6427377446553894, 0.14176958512210536, 0.6452742473253624, -1.1029515760211577, 0.004636889360956238, -1.4867686806843832, 1.5347473240196792, 0.15995536296369012, 0.31029386900621286, -1.549795310649013, 0.4618488125890316, 1.1201251521430575, 0.4690802803947774, 1.6432681308561372, 0.008389568495615356, -0.01239621104004811, 0.24131053638423328, -1.4103219963121891, 1.2492004628011075, 0.18955669364213737, 0.8157350982642384, 0.07675734152535334, -0.30505179092398904, -0.5078562267149158, -0.4179911704810528, 0.5408776143582213, 1.8372513308449336, -0.2501002967666486, 0.1996512023214983, 0.8691901065752327, 0.4495597707471277, -2.801023933962865, -0.8238229519352759, 0.04128400296717988, -0.6901701140888579, 1.1916495037586128, -0.9295614751372788, -0.3231576891007971, -0.7040182646953186, 1.9790020173304628, 0.985673156309637, 0.6222213952844792, -0.1690695981714178, 1.3063478136705455, -0.5537556528688246, 0.06401592476986435, -0.0008402575602733345, -0.5639327228761422, 0.6608360365296245, 0.2932081224527548, 0.6024607368840637, 0.6096916892907379, -0.8679904449478311, -0.12208563224647935, -1.132526357998367, -0.3968559663885494, 0.5730640969363368, 0.3827904667250426, -0.8200063265474274, -0.45552898404631365, 0.08141056318368534, 0.5051122350181024, -2.0250450421281125, 0.014663387828365947, 0.5667760720620605, 0.2022882687234411, 1.187387385536581, 1.0189024742420798, -0.7298071957786113, 0.05948535909929114, -0.5079171949110749, -0.7440860797142066, 0.3268609879345079, 1.4598066328833745, 1.012654544868541, -0.6403355542078821, -0.08502020694767025, 1.4850038202651428, 0.08081454059719645, 0.2627642445729847, -0.8642028436313269, -0.49831337549218374, -0.2800136845430416, 0.040417289509109944, -1.144179761118651, 1.807443770703011, 0.3806342224989023, 1.2287603745892146, 0.8735308102245346, -0.8352237499555955, 1.2123633864099363, 0.5996684543315636, -1.2552732180664523, -0.33749497322565136, -0.3596282323596586, -0.36185868788703535, 0.8894345743403884, -0.8404253713393572]}, {\"line\": {\"color\": \"rgba(128, 0, 128, 1.0)\", \"dash\": \"solid\", \"shape\": \"linear\", \"width\": 1.3}, \"mode\": \"lines\", \"name\": \"D\", \"text\": \"\", \"type\": \"scatter\", \"x\": [0, 1, 2, 3, 4, 5, 6, 7, 8, 9, 10, 11, 12, 13, 14, 15, 16, 17, 18, 19, 20, 21, 22, 23, 24, 25, 26, 27, 28, 29, 30, 31, 32, 33, 34, 35, 36, 37, 38, 39, 40, 41, 42, 43, 44, 45, 46, 47, 48, 49, 50, 51, 52, 53, 54, 55, 56, 57, 58, 59, 60, 61, 62, 63, 64, 65, 66, 67, 68, 69, 70, 71, 72, 73, 74, 75, 76, 77, 78, 79, 80, 81, 82, 83, 84, 85, 86, 87, 88, 89, 90, 91, 92, 93, 94, 95, 96, 97, 98, 99], \"y\": [0.6893397535031753, -0.634782770197293, -1.3651647455238947, 0.5659178518454178, 0.14146422009809448, 0.20585568742835458, -0.323569057620845, 0.24781586608556125, 0.8208949499246398, 1.3351105498079698, 0.7989279478030678, -0.6468933836371301, 0.39863035992129003, 0.47095104852203645, 0.2693234881822479, 0.5149635994224956, 0.540039861790419, -1.0560385502243055, 1.420309355013242, -1.3271645563971741, 0.02428842976034102, -1.1279761762651903, 0.7425629834247508, 0.12454951520226333, -0.8900025088723069, -1.0415293745293592, -1.032703442507068, 0.08858842850306446, 0.21673451116324674, 1.0773810976744913, -0.8005023910645993, -0.8250117982933071, -0.875049873565815, 0.12047064633653336, 1.5518281540606154, -0.48950713262227397, 1.158258147987117, 0.11856343615655199, 1.6570380736340358, 2.127076507548714, -1.5071492237481672, 1.3878540441851652, 1.7967392604687493, -2.427511091257778, 0.6638920325166114, -1.0243866636811134, -0.9977307088517342, 1.1332705619033097, 0.1787949995440567, 1.8294622360138504, 1.336117505283273, -0.9747308204149058, -0.21060626994445616, -1.6792949349020025, -1.6977453195697814, -1.486859332377673, 0.4614839606236429, 1.7033598737816464, 0.3469648988028317, -0.6698873840875732, 1.1598972264121405, 0.6215349000091484, -1.2264167086553013, 0.23438318536696298, 1.0633039804419662, 0.14760634745273152, 1.2677451019504973, 0.6535051309470021, -0.6851207475862858, -1.8591972638103833, -0.37396971449307076, -1.2208452591467445, 0.18790967127387492, -0.6058533913589577, 0.01130864506496672, -3.1060627472728273, -0.27687656929833604, 0.34068588900417174, -0.04575381175627021, 0.9099625078425607, -0.5794692122519473, -0.1965604817374992, -0.30034716768779113, -0.8263038743589, 0.3559471996961158, -0.618517658506671, -0.5489259138475905, -1.192280245987357, -0.17765596325209876, -1.7786305738644168, 0.6023764476041314, 0.5177743526185985, 1.625948563551156, 0.732401806275617, 0.5159331202280345, 0.9004335661442393, 0.12533332537820574, 0.05145474359691806, -1.1901492124514266, 1.3226574609114097]}],\n",
       "                        {\"legend\": {\"bgcolor\": \"#F5F6F9\", \"font\": {\"color\": \"#4D5663\"}}, \"paper_bgcolor\": \"#F5F6F9\", \"plot_bgcolor\": \"#F5F6F9\", \"template\": {\"data\": {\"bar\": [{\"error_x\": {\"color\": \"#2a3f5f\"}, \"error_y\": {\"color\": \"#2a3f5f\"}, \"marker\": {\"line\": {\"color\": \"#E5ECF6\", \"width\": 0.5}}, \"type\": \"bar\"}], \"barpolar\": [{\"marker\": {\"line\": {\"color\": \"#E5ECF6\", \"width\": 0.5}}, \"type\": \"barpolar\"}], \"carpet\": [{\"aaxis\": {\"endlinecolor\": \"#2a3f5f\", \"gridcolor\": \"white\", \"linecolor\": \"white\", \"minorgridcolor\": \"white\", \"startlinecolor\": \"#2a3f5f\"}, \"baxis\": {\"endlinecolor\": \"#2a3f5f\", \"gridcolor\": \"white\", \"linecolor\": \"white\", \"minorgridcolor\": \"white\", \"startlinecolor\": \"#2a3f5f\"}, \"type\": \"carpet\"}], \"choropleth\": [{\"colorbar\": {\"outlinewidth\": 0, \"ticks\": \"\"}, \"type\": \"choropleth\"}], \"contour\": [{\"colorbar\": {\"outlinewidth\": 0, \"ticks\": \"\"}, \"colorscale\": [[0.0, \"#0d0887\"], [0.1111111111111111, \"#46039f\"], [0.2222222222222222, \"#7201a8\"], [0.3333333333333333, \"#9c179e\"], [0.4444444444444444, \"#bd3786\"], [0.5555555555555556, \"#d8576b\"], [0.6666666666666666, \"#ed7953\"], [0.7777777777777778, \"#fb9f3a\"], [0.8888888888888888, \"#fdca26\"], [1.0, \"#f0f921\"]], \"type\": \"contour\"}], \"contourcarpet\": [{\"colorbar\": {\"outlinewidth\": 0, \"ticks\": \"\"}, \"type\": \"contourcarpet\"}], \"heatmap\": [{\"colorbar\": {\"outlinewidth\": 0, \"ticks\": \"\"}, \"colorscale\": [[0.0, \"#0d0887\"], [0.1111111111111111, \"#46039f\"], [0.2222222222222222, \"#7201a8\"], [0.3333333333333333, \"#9c179e\"], [0.4444444444444444, \"#bd3786\"], [0.5555555555555556, \"#d8576b\"], [0.6666666666666666, \"#ed7953\"], [0.7777777777777778, \"#fb9f3a\"], [0.8888888888888888, \"#fdca26\"], [1.0, \"#f0f921\"]], \"type\": \"heatmap\"}], \"heatmapgl\": [{\"colorbar\": {\"outlinewidth\": 0, \"ticks\": \"\"}, \"colorscale\": [[0.0, \"#0d0887\"], [0.1111111111111111, \"#46039f\"], [0.2222222222222222, \"#7201a8\"], [0.3333333333333333, \"#9c179e\"], [0.4444444444444444, \"#bd3786\"], [0.5555555555555556, \"#d8576b\"], [0.6666666666666666, \"#ed7953\"], [0.7777777777777778, \"#fb9f3a\"], [0.8888888888888888, \"#fdca26\"], [1.0, \"#f0f921\"]], \"type\": \"heatmapgl\"}], \"histogram\": [{\"marker\": {\"colorbar\": {\"outlinewidth\": 0, \"ticks\": \"\"}}, \"type\": \"histogram\"}], \"histogram2d\": [{\"colorbar\": {\"outlinewidth\": 0, \"ticks\": \"\"}, \"colorscale\": [[0.0, \"#0d0887\"], [0.1111111111111111, \"#46039f\"], [0.2222222222222222, \"#7201a8\"], [0.3333333333333333, \"#9c179e\"], [0.4444444444444444, \"#bd3786\"], [0.5555555555555556, \"#d8576b\"], [0.6666666666666666, \"#ed7953\"], [0.7777777777777778, \"#fb9f3a\"], [0.8888888888888888, \"#fdca26\"], [1.0, \"#f0f921\"]], \"type\": \"histogram2d\"}], \"histogram2dcontour\": [{\"colorbar\": {\"outlinewidth\": 0, \"ticks\": \"\"}, \"colorscale\": [[0.0, \"#0d0887\"], [0.1111111111111111, \"#46039f\"], [0.2222222222222222, \"#7201a8\"], [0.3333333333333333, \"#9c179e\"], [0.4444444444444444, \"#bd3786\"], [0.5555555555555556, \"#d8576b\"], [0.6666666666666666, \"#ed7953\"], [0.7777777777777778, \"#fb9f3a\"], [0.8888888888888888, \"#fdca26\"], [1.0, \"#f0f921\"]], \"type\": \"histogram2dcontour\"}], \"mesh3d\": [{\"colorbar\": {\"outlinewidth\": 0, \"ticks\": \"\"}, \"type\": \"mesh3d\"}], \"parcoords\": [{\"line\": {\"colorbar\": {\"outlinewidth\": 0, \"ticks\": \"\"}}, \"type\": \"parcoords\"}], \"pie\": [{\"automargin\": true, \"type\": \"pie\"}], \"scatter\": [{\"marker\": {\"colorbar\": {\"outlinewidth\": 0, \"ticks\": \"\"}}, \"type\": \"scatter\"}], \"scatter3d\": [{\"line\": {\"colorbar\": {\"outlinewidth\": 0, \"ticks\": \"\"}}, \"marker\": {\"colorbar\": {\"outlinewidth\": 0, \"ticks\": \"\"}}, \"type\": \"scatter3d\"}], \"scattercarpet\": [{\"marker\": {\"colorbar\": {\"outlinewidth\": 0, \"ticks\": \"\"}}, \"type\": \"scattercarpet\"}], \"scattergeo\": [{\"marker\": {\"colorbar\": {\"outlinewidth\": 0, \"ticks\": \"\"}}, \"type\": \"scattergeo\"}], \"scattergl\": [{\"marker\": {\"colorbar\": {\"outlinewidth\": 0, \"ticks\": \"\"}}, \"type\": \"scattergl\"}], \"scattermapbox\": [{\"marker\": {\"colorbar\": {\"outlinewidth\": 0, \"ticks\": \"\"}}, \"type\": \"scattermapbox\"}], \"scatterpolar\": [{\"marker\": {\"colorbar\": {\"outlinewidth\": 0, \"ticks\": \"\"}}, \"type\": \"scatterpolar\"}], \"scatterpolargl\": [{\"marker\": {\"colorbar\": {\"outlinewidth\": 0, \"ticks\": \"\"}}, \"type\": \"scatterpolargl\"}], \"scatterternary\": [{\"marker\": {\"colorbar\": {\"outlinewidth\": 0, \"ticks\": \"\"}}, \"type\": \"scatterternary\"}], \"surface\": [{\"colorbar\": {\"outlinewidth\": 0, \"ticks\": \"\"}, \"colorscale\": [[0.0, \"#0d0887\"], [0.1111111111111111, \"#46039f\"], [0.2222222222222222, \"#7201a8\"], [0.3333333333333333, \"#9c179e\"], [0.4444444444444444, \"#bd3786\"], [0.5555555555555556, \"#d8576b\"], [0.6666666666666666, \"#ed7953\"], [0.7777777777777778, \"#fb9f3a\"], [0.8888888888888888, \"#fdca26\"], [1.0, \"#f0f921\"]], \"type\": \"surface\"}], \"table\": [{\"cells\": {\"fill\": {\"color\": \"#EBF0F8\"}, \"line\": {\"color\": \"white\"}}, \"header\": {\"fill\": {\"color\": \"#C8D4E3\"}, \"line\": {\"color\": \"white\"}}, \"type\": \"table\"}]}, \"layout\": {\"annotationdefaults\": {\"arrowcolor\": \"#2a3f5f\", \"arrowhead\": 0, \"arrowwidth\": 1}, \"coloraxis\": {\"colorbar\": {\"outlinewidth\": 0, \"ticks\": \"\"}}, \"colorscale\": {\"diverging\": [[0, \"#8e0152\"], [0.1, \"#c51b7d\"], [0.2, \"#de77ae\"], [0.3, \"#f1b6da\"], [0.4, \"#fde0ef\"], [0.5, \"#f7f7f7\"], [0.6, \"#e6f5d0\"], [0.7, \"#b8e186\"], [0.8, \"#7fbc41\"], [0.9, \"#4d9221\"], [1, \"#276419\"]], \"sequential\": [[0.0, \"#0d0887\"], [0.1111111111111111, \"#46039f\"], [0.2222222222222222, \"#7201a8\"], [0.3333333333333333, \"#9c179e\"], [0.4444444444444444, \"#bd3786\"], [0.5555555555555556, \"#d8576b\"], [0.6666666666666666, \"#ed7953\"], [0.7777777777777778, \"#fb9f3a\"], [0.8888888888888888, \"#fdca26\"], [1.0, \"#f0f921\"]], \"sequentialminus\": [[0.0, \"#0d0887\"], [0.1111111111111111, \"#46039f\"], [0.2222222222222222, \"#7201a8\"], [0.3333333333333333, \"#9c179e\"], [0.4444444444444444, \"#bd3786\"], [0.5555555555555556, \"#d8576b\"], [0.6666666666666666, \"#ed7953\"], [0.7777777777777778, \"#fb9f3a\"], [0.8888888888888888, \"#fdca26\"], [1.0, \"#f0f921\"]]}, \"colorway\": [\"#636efa\", \"#EF553B\", \"#00cc96\", \"#ab63fa\", \"#FFA15A\", \"#19d3f3\", \"#FF6692\", \"#B6E880\", \"#FF97FF\", \"#FECB52\"], \"font\": {\"color\": \"#2a3f5f\"}, \"geo\": {\"bgcolor\": \"white\", \"lakecolor\": \"white\", \"landcolor\": \"#E5ECF6\", \"showlakes\": true, \"showland\": true, \"subunitcolor\": \"white\"}, \"hoverlabel\": {\"align\": \"left\"}, \"hovermode\": \"closest\", \"mapbox\": {\"style\": \"light\"}, \"paper_bgcolor\": \"white\", \"plot_bgcolor\": \"#E5ECF6\", \"polar\": {\"angularaxis\": {\"gridcolor\": \"white\", \"linecolor\": \"white\", \"ticks\": \"\"}, \"bgcolor\": \"#E5ECF6\", \"radialaxis\": {\"gridcolor\": \"white\", \"linecolor\": \"white\", \"ticks\": \"\"}}, \"scene\": {\"xaxis\": {\"backgroundcolor\": \"#E5ECF6\", \"gridcolor\": \"white\", \"gridwidth\": 2, \"linecolor\": \"white\", \"showbackground\": true, \"ticks\": \"\", \"zerolinecolor\": \"white\"}, \"yaxis\": {\"backgroundcolor\": \"#E5ECF6\", \"gridcolor\": \"white\", \"gridwidth\": 2, \"linecolor\": \"white\", \"showbackground\": true, \"ticks\": \"\", \"zerolinecolor\": \"white\"}, \"zaxis\": {\"backgroundcolor\": \"#E5ECF6\", \"gridcolor\": \"white\", \"gridwidth\": 2, \"linecolor\": \"white\", \"showbackground\": true, \"ticks\": \"\", \"zerolinecolor\": \"white\"}}, \"shapedefaults\": {\"line\": {\"color\": \"#2a3f5f\"}}, \"ternary\": {\"aaxis\": {\"gridcolor\": \"white\", \"linecolor\": \"white\", \"ticks\": \"\"}, \"baxis\": {\"gridcolor\": \"white\", \"linecolor\": \"white\", \"ticks\": \"\"}, \"bgcolor\": \"#E5ECF6\", \"caxis\": {\"gridcolor\": \"white\", \"linecolor\": \"white\", \"ticks\": \"\"}}, \"title\": {\"x\": 0.05}, \"xaxis\": {\"automargin\": true, \"gridcolor\": \"white\", \"linecolor\": \"white\", \"ticks\": \"\", \"title\": {\"standoff\": 15}, \"zerolinecolor\": \"white\", \"zerolinewidth\": 2}, \"yaxis\": {\"automargin\": true, \"gridcolor\": \"white\", \"linecolor\": \"white\", \"ticks\": \"\", \"title\": {\"standoff\": 15}, \"zerolinecolor\": \"white\", \"zerolinewidth\": 2}}}, \"title\": {\"font\": {\"color\": \"#4D5663\"}}, \"xaxis\": {\"gridcolor\": \"#E1E5ED\", \"showgrid\": true, \"tickfont\": {\"color\": \"#4D5663\"}, \"title\": {\"font\": {\"color\": \"#4D5663\"}, \"text\": \"\"}, \"zerolinecolor\": \"#E1E5ED\"}, \"yaxis\": {\"gridcolor\": \"#E1E5ED\", \"showgrid\": true, \"tickfont\": {\"color\": \"#4D5663\"}, \"title\": {\"font\": {\"color\": \"#4D5663\"}, \"text\": \"\"}, \"zerolinecolor\": \"#E1E5ED\"}},\n",
       "                        {\"showLink\": true, \"linkText\": \"Export to plot.ly\", \"plotlyServerURL\": \"https://plot.ly\", \"responsive\": true}\n",
       "                    ).then(function(){\n",
       "                            \n",
       "var gd = document.getElementById('e3fe02a8-74c2-4811-bcf1-c744f4634380');\n",
       "var x = new MutationObserver(function (mutations, observer) {{\n",
       "        var display = window.getComputedStyle(gd).display;\n",
       "        if (!display || display === 'none') {{\n",
       "            console.log([gd, 'removed!']);\n",
       "            Plotly.purge(gd);\n",
       "            observer.disconnect();\n",
       "        }}\n",
       "}});\n",
       "\n",
       "// Listen for the removal of the full notebook cells\n",
       "var notebookContainer = gd.closest('#notebook-container');\n",
       "if (notebookContainer) {{\n",
       "    x.observe(notebookContainer, {childList: true});\n",
       "}}\n",
       "\n",
       "// Listen for the clearing of the current output cell\n",
       "var outputEl = gd.closest('.output');\n",
       "if (outputEl) {{\n",
       "    x.observe(outputEl, {childList: true});\n",
       "}}\n",
       "\n",
       "                        })\n",
       "                };\n",
       "                });\n",
       "            </script>\n",
       "        </div>"
      ]
     },
     "metadata": {},
     "output_type": "display_data"
    }
   ],
   "source": [
    "df.iplot()"
   ]
  },
  {
   "cell_type": "markdown",
   "metadata": {},
   "source": [
    "## Scatter"
   ]
  },
  {
   "cell_type": "code",
   "execution_count": 13,
   "metadata": {},
   "outputs": [
    {
     "data": {
      "application/vnd.plotly.v1+json": {
       "config": {
        "linkText": "Export to plot.ly",
        "plotlyServerURL": "https://plot.ly",
        "showLink": true
       },
       "data": [
        {
         "line": {
          "color": "rgba(255, 153, 51, 1.0)",
          "dash": "solid",
          "shape": "linear",
          "width": 1.3
         },
         "marker": {
          "size": 10,
          "symbol": "circle"
         },
         "mode": "markers",
         "name": "B",
         "text": "",
         "type": "scatter",
         "x": [
          0.9273501686452831,
          -0.5336819713432426,
          -0.4719061159137588,
          -0.9892039772850318,
          1.745699378229749,
          -0.26335462861925224,
          0.7908256324744336,
          -0.018916685629151987,
          1.4362821330775597,
          -0.32503355428080577,
          0.153676829720251,
          1.1318065272893738,
          0.08839548036838218,
          -0.13371513443907548,
          0.04554308700723792,
          -0.05877157631492504,
          0.9319619775407781,
          -0.892681343719326,
          -0.23869875455176157,
          -0.8071351942969122,
          -0.8460637342785593,
          0.5435124105045299,
          1.8829768691003779,
          0.26018907025834476,
          -0.9630329187123825,
          0.5924332239870846,
          0.05224067716215473,
          -0.22741409274250976,
          0.12187361251470992,
          0.195255432340129,
          -3.1675899599066684,
          0.4368530139763862,
          1.9289359381994984,
          0.8056938127943846,
          -0.37292655824780185,
          0.6512746095656167,
          -0.9938636126479036,
          0.7862381402545336,
          -1.1287854744382666,
          0.6094151867668576,
          -1.3345012926132753,
          -0.02281986102852559,
          2.1763311981289886,
          -0.09963573401996252,
          0.8464995922182782,
          -1.2042004296695825,
          2.1203247152475537,
          0.36791612384551403,
          -0.23999914272661843,
          0.024080904242700003,
          0.03482469604660009,
          1.8265286417264184,
          0.49707787161574435,
          -0.5323481640582688,
          -0.5904516820742872,
          -0.31429352820806933,
          -0.20083676978802706,
          -0.24576824746640213,
          0.4490649374540152,
          0.009106977618565758,
          -0.2601190686513889,
          -0.4885809019711191,
          -0.7065650259075594,
          -0.5655889024607965,
          1.1242265905343243,
          -1.289422567292631,
          -0.11079106339526591,
          0.025175648703488762,
          -1.0654028367316437,
          0.5876369583983077,
          -1.2193627328117418,
          0.27503948246745363,
          0.20062669512915307,
          -0.712497095962588,
          -0.5936065482919237,
          0.3162171738816598,
          -2.0801283752733593,
          0.05481389727834878,
          0.29834235948809595,
          -0.25193217959399716,
          -0.18815985965566256,
          -1.0993840202389924,
          1.3720808925772439,
          -1.3901447430249643,
          0.2952706310041869,
          -0.14215402384411635,
          0.2557152281650664,
          0.05237368863656635,
          0.1665134157650504,
          0.32752167656534614,
          -0.02638737238095419,
          -0.07622496454221706,
          1.5158939538061444,
          1.2842668521004519,
          1.1900091488359847,
          0.11950465514627728,
          0.20792715338952203,
          -0.7069618004958248,
          -1.0060679633961014,
          0.7402869780165224
         ],
         "y": [
          -1.4475834439088642,
          1.936342110293859,
          1.5703019396317082,
          -1.141171509843668,
          0.7086983057483757,
          -0.21548691100100484,
          -0.4935357265485408,
          -0.40008675780020697,
          0.24466237321409023,
          -0.5575940599375178,
          0.7174291311785046,
          0.6066901397467638,
          0.7183279064527168,
          0.9037822643675042,
          0.7922052580156334,
          0.33548132017685217,
          -0.20261143372834065,
          0.7973085569924002,
          1.0992036024784997,
          -0.49476558867100884,
          -0.33780792682176386,
          -1.338637353195344,
          1.1385637433257803,
          -0.20322491634641116,
          0.6844714764071702,
          -0.16617105280152625,
          1.3721896447655835,
          -0.432825142025372,
          -0.6979376497189357,
          -1.827219084945071,
          -0.08870604821904153,
          -0.7593429321290202,
          -1.1452326196090716,
          -0.6591873413644148,
          -0.024453262800700207,
          2.8961064396206346,
          1.363739087484403,
          -0.020299241643240123,
          -0.5503581956789931,
          0.202981852523745,
          -0.04318579863195509,
          1.3640507313160912,
          -1.0280179913191263,
          0.21129179119723718,
          0.10297146234534578,
          -1.2433243782994525,
          -0.021709600661412465,
          1.1984399083378903,
          -1.3599613321180355,
          1.3891357969076896,
          0.07820929637177787,
          -0.6378218867551335,
          -1.0039159825678918,
          -2.126997043628774,
          0.06341984518776161,
          0.32731593946564225,
          2.0722346896488597,
          -1.8756884771290674,
          -1.8738446512520954,
          -0.1688759685449708,
          0.345763386677497,
          -1.4914130382877966,
          -1.4107957310164405,
          -0.4184816338943611,
          1.1964942739671964,
          -0.42009278182817616,
          0.10668530708683387,
          -0.7525150643124401,
          -0.010377553383409528,
          -0.2561262290407313,
          -0.5193080456284674,
          0.2376140021029851,
          0.22650863712631936,
          -0.023683051465336405,
          -0.10574186404763539,
          -1.3388266088658878,
          1.8649371415743328,
          -0.0011472808149724546,
          -0.5809929109198254,
          0.7474919614838859,
          -0.816872565749726,
          1.0410209931608316,
          -0.39785709352618437,
          -1.0815621564988975,
          1.176812583300365,
          0.9895727666875234,
          -0.756797865773887,
          -0.3816828597434053,
          0.42707439730370905,
          -0.1562011388869837,
          0.9675610510066449,
          0.02891219020418467,
          -0.6378898829804626,
          -0.8479768977153376,
          -0.41446797004090963,
          2.564737002195348,
          0.13364725564235924,
          -0.6973271644929159,
          -0.4527411973437712,
          -1.0237425044832327
         ]
        }
       ],
       "layout": {
        "legend": {
         "bgcolor": "#F5F6F9",
         "font": {
          "color": "#4D5663"
         }
        },
        "paper_bgcolor": "#F5F6F9",
        "plot_bgcolor": "#F5F6F9",
        "template": {
         "data": {
          "bar": [
           {
            "error_x": {
             "color": "#2a3f5f"
            },
            "error_y": {
             "color": "#2a3f5f"
            },
            "marker": {
             "line": {
              "color": "#E5ECF6",
              "width": 0.5
             }
            },
            "type": "bar"
           }
          ],
          "barpolar": [
           {
            "marker": {
             "line": {
              "color": "#E5ECF6",
              "width": 0.5
             }
            },
            "type": "barpolar"
           }
          ],
          "carpet": [
           {
            "aaxis": {
             "endlinecolor": "#2a3f5f",
             "gridcolor": "white",
             "linecolor": "white",
             "minorgridcolor": "white",
             "startlinecolor": "#2a3f5f"
            },
            "baxis": {
             "endlinecolor": "#2a3f5f",
             "gridcolor": "white",
             "linecolor": "white",
             "minorgridcolor": "white",
             "startlinecolor": "#2a3f5f"
            },
            "type": "carpet"
           }
          ],
          "choropleth": [
           {
            "colorbar": {
             "outlinewidth": 0,
             "ticks": ""
            },
            "type": "choropleth"
           }
          ],
          "contour": [
           {
            "colorbar": {
             "outlinewidth": 0,
             "ticks": ""
            },
            "colorscale": [
             [
              0,
              "#0d0887"
             ],
             [
              0.1111111111111111,
              "#46039f"
             ],
             [
              0.2222222222222222,
              "#7201a8"
             ],
             [
              0.3333333333333333,
              "#9c179e"
             ],
             [
              0.4444444444444444,
              "#bd3786"
             ],
             [
              0.5555555555555556,
              "#d8576b"
             ],
             [
              0.6666666666666666,
              "#ed7953"
             ],
             [
              0.7777777777777778,
              "#fb9f3a"
             ],
             [
              0.8888888888888888,
              "#fdca26"
             ],
             [
              1,
              "#f0f921"
             ]
            ],
            "type": "contour"
           }
          ],
          "contourcarpet": [
           {
            "colorbar": {
             "outlinewidth": 0,
             "ticks": ""
            },
            "type": "contourcarpet"
           }
          ],
          "heatmap": [
           {
            "colorbar": {
             "outlinewidth": 0,
             "ticks": ""
            },
            "colorscale": [
             [
              0,
              "#0d0887"
             ],
             [
              0.1111111111111111,
              "#46039f"
             ],
             [
              0.2222222222222222,
              "#7201a8"
             ],
             [
              0.3333333333333333,
              "#9c179e"
             ],
             [
              0.4444444444444444,
              "#bd3786"
             ],
             [
              0.5555555555555556,
              "#d8576b"
             ],
             [
              0.6666666666666666,
              "#ed7953"
             ],
             [
              0.7777777777777778,
              "#fb9f3a"
             ],
             [
              0.8888888888888888,
              "#fdca26"
             ],
             [
              1,
              "#f0f921"
             ]
            ],
            "type": "heatmap"
           }
          ],
          "heatmapgl": [
           {
            "colorbar": {
             "outlinewidth": 0,
             "ticks": ""
            },
            "colorscale": [
             [
              0,
              "#0d0887"
             ],
             [
              0.1111111111111111,
              "#46039f"
             ],
             [
              0.2222222222222222,
              "#7201a8"
             ],
             [
              0.3333333333333333,
              "#9c179e"
             ],
             [
              0.4444444444444444,
              "#bd3786"
             ],
             [
              0.5555555555555556,
              "#d8576b"
             ],
             [
              0.6666666666666666,
              "#ed7953"
             ],
             [
              0.7777777777777778,
              "#fb9f3a"
             ],
             [
              0.8888888888888888,
              "#fdca26"
             ],
             [
              1,
              "#f0f921"
             ]
            ],
            "type": "heatmapgl"
           }
          ],
          "histogram": [
           {
            "marker": {
             "colorbar": {
              "outlinewidth": 0,
              "ticks": ""
             }
            },
            "type": "histogram"
           }
          ],
          "histogram2d": [
           {
            "colorbar": {
             "outlinewidth": 0,
             "ticks": ""
            },
            "colorscale": [
             [
              0,
              "#0d0887"
             ],
             [
              0.1111111111111111,
              "#46039f"
             ],
             [
              0.2222222222222222,
              "#7201a8"
             ],
             [
              0.3333333333333333,
              "#9c179e"
             ],
             [
              0.4444444444444444,
              "#bd3786"
             ],
             [
              0.5555555555555556,
              "#d8576b"
             ],
             [
              0.6666666666666666,
              "#ed7953"
             ],
             [
              0.7777777777777778,
              "#fb9f3a"
             ],
             [
              0.8888888888888888,
              "#fdca26"
             ],
             [
              1,
              "#f0f921"
             ]
            ],
            "type": "histogram2d"
           }
          ],
          "histogram2dcontour": [
           {
            "colorbar": {
             "outlinewidth": 0,
             "ticks": ""
            },
            "colorscale": [
             [
              0,
              "#0d0887"
             ],
             [
              0.1111111111111111,
              "#46039f"
             ],
             [
              0.2222222222222222,
              "#7201a8"
             ],
             [
              0.3333333333333333,
              "#9c179e"
             ],
             [
              0.4444444444444444,
              "#bd3786"
             ],
             [
              0.5555555555555556,
              "#d8576b"
             ],
             [
              0.6666666666666666,
              "#ed7953"
             ],
             [
              0.7777777777777778,
              "#fb9f3a"
             ],
             [
              0.8888888888888888,
              "#fdca26"
             ],
             [
              1,
              "#f0f921"
             ]
            ],
            "type": "histogram2dcontour"
           }
          ],
          "mesh3d": [
           {
            "colorbar": {
             "outlinewidth": 0,
             "ticks": ""
            },
            "type": "mesh3d"
           }
          ],
          "parcoords": [
           {
            "line": {
             "colorbar": {
              "outlinewidth": 0,
              "ticks": ""
             }
            },
            "type": "parcoords"
           }
          ],
          "pie": [
           {
            "automargin": true,
            "type": "pie"
           }
          ],
          "scatter": [
           {
            "marker": {
             "colorbar": {
              "outlinewidth": 0,
              "ticks": ""
             }
            },
            "type": "scatter"
           }
          ],
          "scatter3d": [
           {
            "line": {
             "colorbar": {
              "outlinewidth": 0,
              "ticks": ""
             }
            },
            "marker": {
             "colorbar": {
              "outlinewidth": 0,
              "ticks": ""
             }
            },
            "type": "scatter3d"
           }
          ],
          "scattercarpet": [
           {
            "marker": {
             "colorbar": {
              "outlinewidth": 0,
              "ticks": ""
             }
            },
            "type": "scattercarpet"
           }
          ],
          "scattergeo": [
           {
            "marker": {
             "colorbar": {
              "outlinewidth": 0,
              "ticks": ""
             }
            },
            "type": "scattergeo"
           }
          ],
          "scattergl": [
           {
            "marker": {
             "colorbar": {
              "outlinewidth": 0,
              "ticks": ""
             }
            },
            "type": "scattergl"
           }
          ],
          "scattermapbox": [
           {
            "marker": {
             "colorbar": {
              "outlinewidth": 0,
              "ticks": ""
             }
            },
            "type": "scattermapbox"
           }
          ],
          "scatterpolar": [
           {
            "marker": {
             "colorbar": {
              "outlinewidth": 0,
              "ticks": ""
             }
            },
            "type": "scatterpolar"
           }
          ],
          "scatterpolargl": [
           {
            "marker": {
             "colorbar": {
              "outlinewidth": 0,
              "ticks": ""
             }
            },
            "type": "scatterpolargl"
           }
          ],
          "scatterternary": [
           {
            "marker": {
             "colorbar": {
              "outlinewidth": 0,
              "ticks": ""
             }
            },
            "type": "scatterternary"
           }
          ],
          "surface": [
           {
            "colorbar": {
             "outlinewidth": 0,
             "ticks": ""
            },
            "colorscale": [
             [
              0,
              "#0d0887"
             ],
             [
              0.1111111111111111,
              "#46039f"
             ],
             [
              0.2222222222222222,
              "#7201a8"
             ],
             [
              0.3333333333333333,
              "#9c179e"
             ],
             [
              0.4444444444444444,
              "#bd3786"
             ],
             [
              0.5555555555555556,
              "#d8576b"
             ],
             [
              0.6666666666666666,
              "#ed7953"
             ],
             [
              0.7777777777777778,
              "#fb9f3a"
             ],
             [
              0.8888888888888888,
              "#fdca26"
             ],
             [
              1,
              "#f0f921"
             ]
            ],
            "type": "surface"
           }
          ],
          "table": [
           {
            "cells": {
             "fill": {
              "color": "#EBF0F8"
             },
             "line": {
              "color": "white"
             }
            },
            "header": {
             "fill": {
              "color": "#C8D4E3"
             },
             "line": {
              "color": "white"
             }
            },
            "type": "table"
           }
          ]
         },
         "layout": {
          "annotationdefaults": {
           "arrowcolor": "#2a3f5f",
           "arrowhead": 0,
           "arrowwidth": 1
          },
          "coloraxis": {
           "colorbar": {
            "outlinewidth": 0,
            "ticks": ""
           }
          },
          "colorscale": {
           "diverging": [
            [
             0,
             "#8e0152"
            ],
            [
             0.1,
             "#c51b7d"
            ],
            [
             0.2,
             "#de77ae"
            ],
            [
             0.3,
             "#f1b6da"
            ],
            [
             0.4,
             "#fde0ef"
            ],
            [
             0.5,
             "#f7f7f7"
            ],
            [
             0.6,
             "#e6f5d0"
            ],
            [
             0.7,
             "#b8e186"
            ],
            [
             0.8,
             "#7fbc41"
            ],
            [
             0.9,
             "#4d9221"
            ],
            [
             1,
             "#276419"
            ]
           ],
           "sequential": [
            [
             0,
             "#0d0887"
            ],
            [
             0.1111111111111111,
             "#46039f"
            ],
            [
             0.2222222222222222,
             "#7201a8"
            ],
            [
             0.3333333333333333,
             "#9c179e"
            ],
            [
             0.4444444444444444,
             "#bd3786"
            ],
            [
             0.5555555555555556,
             "#d8576b"
            ],
            [
             0.6666666666666666,
             "#ed7953"
            ],
            [
             0.7777777777777778,
             "#fb9f3a"
            ],
            [
             0.8888888888888888,
             "#fdca26"
            ],
            [
             1,
             "#f0f921"
            ]
           ],
           "sequentialminus": [
            [
             0,
             "#0d0887"
            ],
            [
             0.1111111111111111,
             "#46039f"
            ],
            [
             0.2222222222222222,
             "#7201a8"
            ],
            [
             0.3333333333333333,
             "#9c179e"
            ],
            [
             0.4444444444444444,
             "#bd3786"
            ],
            [
             0.5555555555555556,
             "#d8576b"
            ],
            [
             0.6666666666666666,
             "#ed7953"
            ],
            [
             0.7777777777777778,
             "#fb9f3a"
            ],
            [
             0.8888888888888888,
             "#fdca26"
            ],
            [
             1,
             "#f0f921"
            ]
           ]
          },
          "colorway": [
           "#636efa",
           "#EF553B",
           "#00cc96",
           "#ab63fa",
           "#FFA15A",
           "#19d3f3",
           "#FF6692",
           "#B6E880",
           "#FF97FF",
           "#FECB52"
          ],
          "font": {
           "color": "#2a3f5f"
          },
          "geo": {
           "bgcolor": "white",
           "lakecolor": "white",
           "landcolor": "#E5ECF6",
           "showlakes": true,
           "showland": true,
           "subunitcolor": "white"
          },
          "hoverlabel": {
           "align": "left"
          },
          "hovermode": "closest",
          "mapbox": {
           "style": "light"
          },
          "paper_bgcolor": "white",
          "plot_bgcolor": "#E5ECF6",
          "polar": {
           "angularaxis": {
            "gridcolor": "white",
            "linecolor": "white",
            "ticks": ""
           },
           "bgcolor": "#E5ECF6",
           "radialaxis": {
            "gridcolor": "white",
            "linecolor": "white",
            "ticks": ""
           }
          },
          "scene": {
           "xaxis": {
            "backgroundcolor": "#E5ECF6",
            "gridcolor": "white",
            "gridwidth": 2,
            "linecolor": "white",
            "showbackground": true,
            "ticks": "",
            "zerolinecolor": "white"
           },
           "yaxis": {
            "backgroundcolor": "#E5ECF6",
            "gridcolor": "white",
            "gridwidth": 2,
            "linecolor": "white",
            "showbackground": true,
            "ticks": "",
            "zerolinecolor": "white"
           },
           "zaxis": {
            "backgroundcolor": "#E5ECF6",
            "gridcolor": "white",
            "gridwidth": 2,
            "linecolor": "white",
            "showbackground": true,
            "ticks": "",
            "zerolinecolor": "white"
           }
          },
          "shapedefaults": {
           "line": {
            "color": "#2a3f5f"
           }
          },
          "ternary": {
           "aaxis": {
            "gridcolor": "white",
            "linecolor": "white",
            "ticks": ""
           },
           "baxis": {
            "gridcolor": "white",
            "linecolor": "white",
            "ticks": ""
           },
           "bgcolor": "#E5ECF6",
           "caxis": {
            "gridcolor": "white",
            "linecolor": "white",
            "ticks": ""
           }
          },
          "title": {
           "x": 0.05
          },
          "xaxis": {
           "automargin": true,
           "gridcolor": "white",
           "linecolor": "white",
           "ticks": "",
           "title": {
            "standoff": 15
           },
           "zerolinecolor": "white",
           "zerolinewidth": 2
          },
          "yaxis": {
           "automargin": true,
           "gridcolor": "white",
           "linecolor": "white",
           "ticks": "",
           "title": {
            "standoff": 15
           },
           "zerolinecolor": "white",
           "zerolinewidth": 2
          }
         }
        },
        "title": {
         "font": {
          "color": "#4D5663"
         }
        },
        "xaxis": {
         "gridcolor": "#E1E5ED",
         "showgrid": true,
         "tickfont": {
          "color": "#4D5663"
         },
         "title": {
          "font": {
           "color": "#4D5663"
          },
          "text": ""
         },
         "zerolinecolor": "#E1E5ED"
        },
        "yaxis": {
         "gridcolor": "#E1E5ED",
         "showgrid": true,
         "tickfont": {
          "color": "#4D5663"
         },
         "title": {
          "font": {
           "color": "#4D5663"
          },
          "text": ""
         },
         "zerolinecolor": "#E1E5ED"
        }
       }
      },
      "text/html": [
       "<div>\n",
       "        \n",
       "        \n",
       "            <div id=\"d99253cc-b2d6-4916-a065-a139f71cf71c\" class=\"plotly-graph-div\" style=\"height:525px; width:100%;\"></div>\n",
       "            <script type=\"text/javascript\">\n",
       "                require([\"plotly\"], function(Plotly) {\n",
       "                    window.PLOTLYENV=window.PLOTLYENV || {};\n",
       "                    window.PLOTLYENV.BASE_URL='https://plot.ly';\n",
       "                    \n",
       "                if (document.getElementById(\"d99253cc-b2d6-4916-a065-a139f71cf71c\")) {\n",
       "                    Plotly.newPlot(\n",
       "                        'd99253cc-b2d6-4916-a065-a139f71cf71c',\n",
       "                        [{\"line\": {\"color\": \"rgba(255, 153, 51, 1.0)\", \"dash\": \"solid\", \"shape\": \"linear\", \"width\": 1.3}, \"marker\": {\"size\": 10, \"symbol\": \"circle\"}, \"mode\": \"markers\", \"name\": \"B\", \"text\": \"\", \"type\": \"scatter\", \"x\": [0.9273501686452831, -0.5336819713432426, -0.4719061159137588, -0.9892039772850318, 1.745699378229749, -0.26335462861925224, 0.7908256324744336, -0.018916685629151987, 1.4362821330775597, -0.32503355428080577, 0.153676829720251, 1.1318065272893738, 0.08839548036838218, -0.13371513443907548, 0.04554308700723792, -0.05877157631492504, 0.9319619775407781, -0.892681343719326, -0.23869875455176157, -0.8071351942969122, -0.8460637342785593, 0.5435124105045299, 1.8829768691003779, 0.26018907025834476, -0.9630329187123825, 0.5924332239870846, 0.05224067716215473, -0.22741409274250976, 0.12187361251470992, 0.195255432340129, -3.1675899599066684, 0.4368530139763862, 1.9289359381994984, 0.8056938127943846, -0.37292655824780185, 0.6512746095656167, -0.9938636126479036, 0.7862381402545336, -1.1287854744382666, 0.6094151867668576, -1.3345012926132753, -0.02281986102852559, 2.1763311981289886, -0.09963573401996252, 0.8464995922182782, -1.2042004296695825, 2.1203247152475537, 0.36791612384551403, -0.23999914272661843, 0.024080904242700003, 0.03482469604660009, 1.8265286417264184, 0.49707787161574435, -0.5323481640582688, -0.5904516820742872, -0.31429352820806933, -0.20083676978802706, -0.24576824746640213, 0.4490649374540152, 0.009106977618565758, -0.2601190686513889, -0.4885809019711191, -0.7065650259075594, -0.5655889024607965, 1.1242265905343243, -1.289422567292631, -0.11079106339526591, 0.025175648703488762, -1.0654028367316437, 0.5876369583983077, -1.2193627328117418, 0.27503948246745363, 0.20062669512915307, -0.712497095962588, -0.5936065482919237, 0.3162171738816598, -2.0801283752733593, 0.05481389727834878, 0.29834235948809595, -0.25193217959399716, -0.18815985965566256, -1.0993840202389924, 1.3720808925772439, -1.3901447430249643, 0.2952706310041869, -0.14215402384411635, 0.2557152281650664, 0.05237368863656635, 0.1665134157650504, 0.32752167656534614, -0.02638737238095419, -0.07622496454221706, 1.5158939538061444, 1.2842668521004519, 1.1900091488359847, 0.11950465514627728, 0.20792715338952203, -0.7069618004958248, -1.0060679633961014, 0.7402869780165224], \"y\": [-1.4475834439088642, 1.936342110293859, 1.5703019396317082, -1.141171509843668, 0.7086983057483757, -0.21548691100100484, -0.4935357265485408, -0.40008675780020697, 0.24466237321409023, -0.5575940599375178, 0.7174291311785046, 0.6066901397467638, 0.7183279064527168, 0.9037822643675042, 0.7922052580156334, 0.33548132017685217, -0.20261143372834065, 0.7973085569924002, 1.0992036024784997, -0.49476558867100884, -0.33780792682176386, -1.338637353195344, 1.1385637433257803, -0.20322491634641116, 0.6844714764071702, -0.16617105280152625, 1.3721896447655835, -0.432825142025372, -0.6979376497189357, -1.827219084945071, -0.08870604821904153, -0.7593429321290202, -1.1452326196090716, -0.6591873413644148, -0.024453262800700207, 2.8961064396206346, 1.363739087484403, -0.020299241643240123, -0.5503581956789931, 0.202981852523745, -0.04318579863195509, 1.3640507313160912, -1.0280179913191263, 0.21129179119723718, 0.10297146234534578, -1.2433243782994525, -0.021709600661412465, 1.1984399083378903, -1.3599613321180355, 1.3891357969076896, 0.07820929637177787, -0.6378218867551335, -1.0039159825678918, -2.126997043628774, 0.06341984518776161, 0.32731593946564225, 2.0722346896488597, -1.8756884771290674, -1.8738446512520954, -0.1688759685449708, 0.345763386677497, -1.4914130382877966, -1.4107957310164405, -0.4184816338943611, 1.1964942739671964, -0.42009278182817616, 0.10668530708683387, -0.7525150643124401, -0.010377553383409528, -0.2561262290407313, -0.5193080456284674, 0.2376140021029851, 0.22650863712631936, -0.023683051465336405, -0.10574186404763539, -1.3388266088658878, 1.8649371415743328, -0.0011472808149724546, -0.5809929109198254, 0.7474919614838859, -0.816872565749726, 1.0410209931608316, -0.39785709352618437, -1.0815621564988975, 1.176812583300365, 0.9895727666875234, -0.756797865773887, -0.3816828597434053, 0.42707439730370905, -0.1562011388869837, 0.9675610510066449, 0.02891219020418467, -0.6378898829804626, -0.8479768977153376, -0.41446797004090963, 2.564737002195348, 0.13364725564235924, -0.6973271644929159, -0.4527411973437712, -1.0237425044832327]}],\n",
       "                        {\"legend\": {\"bgcolor\": \"#F5F6F9\", \"font\": {\"color\": \"#4D5663\"}}, \"paper_bgcolor\": \"#F5F6F9\", \"plot_bgcolor\": \"#F5F6F9\", \"template\": {\"data\": {\"bar\": [{\"error_x\": {\"color\": \"#2a3f5f\"}, \"error_y\": {\"color\": \"#2a3f5f\"}, \"marker\": {\"line\": {\"color\": \"#E5ECF6\", \"width\": 0.5}}, \"type\": \"bar\"}], \"barpolar\": [{\"marker\": {\"line\": {\"color\": \"#E5ECF6\", \"width\": 0.5}}, \"type\": \"barpolar\"}], \"carpet\": [{\"aaxis\": {\"endlinecolor\": \"#2a3f5f\", \"gridcolor\": \"white\", \"linecolor\": \"white\", \"minorgridcolor\": \"white\", \"startlinecolor\": \"#2a3f5f\"}, \"baxis\": {\"endlinecolor\": \"#2a3f5f\", \"gridcolor\": \"white\", \"linecolor\": \"white\", \"minorgridcolor\": \"white\", \"startlinecolor\": \"#2a3f5f\"}, \"type\": \"carpet\"}], \"choropleth\": [{\"colorbar\": {\"outlinewidth\": 0, \"ticks\": \"\"}, \"type\": \"choropleth\"}], \"contour\": [{\"colorbar\": {\"outlinewidth\": 0, \"ticks\": \"\"}, \"colorscale\": [[0.0, \"#0d0887\"], [0.1111111111111111, \"#46039f\"], [0.2222222222222222, \"#7201a8\"], [0.3333333333333333, \"#9c179e\"], [0.4444444444444444, \"#bd3786\"], [0.5555555555555556, \"#d8576b\"], [0.6666666666666666, \"#ed7953\"], [0.7777777777777778, \"#fb9f3a\"], [0.8888888888888888, \"#fdca26\"], [1.0, \"#f0f921\"]], \"type\": \"contour\"}], \"contourcarpet\": [{\"colorbar\": {\"outlinewidth\": 0, \"ticks\": \"\"}, \"type\": \"contourcarpet\"}], \"heatmap\": [{\"colorbar\": {\"outlinewidth\": 0, \"ticks\": \"\"}, \"colorscale\": [[0.0, \"#0d0887\"], [0.1111111111111111, \"#46039f\"], [0.2222222222222222, \"#7201a8\"], [0.3333333333333333, \"#9c179e\"], [0.4444444444444444, \"#bd3786\"], [0.5555555555555556, \"#d8576b\"], [0.6666666666666666, \"#ed7953\"], [0.7777777777777778, \"#fb9f3a\"], [0.8888888888888888, \"#fdca26\"], [1.0, \"#f0f921\"]], \"type\": \"heatmap\"}], \"heatmapgl\": [{\"colorbar\": {\"outlinewidth\": 0, \"ticks\": \"\"}, \"colorscale\": [[0.0, \"#0d0887\"], [0.1111111111111111, \"#46039f\"], [0.2222222222222222, \"#7201a8\"], [0.3333333333333333, \"#9c179e\"], [0.4444444444444444, \"#bd3786\"], [0.5555555555555556, \"#d8576b\"], [0.6666666666666666, \"#ed7953\"], [0.7777777777777778, \"#fb9f3a\"], [0.8888888888888888, \"#fdca26\"], [1.0, \"#f0f921\"]], \"type\": \"heatmapgl\"}], \"histogram\": [{\"marker\": {\"colorbar\": {\"outlinewidth\": 0, \"ticks\": \"\"}}, \"type\": \"histogram\"}], \"histogram2d\": [{\"colorbar\": {\"outlinewidth\": 0, \"ticks\": \"\"}, \"colorscale\": [[0.0, \"#0d0887\"], [0.1111111111111111, \"#46039f\"], [0.2222222222222222, \"#7201a8\"], [0.3333333333333333, \"#9c179e\"], [0.4444444444444444, \"#bd3786\"], [0.5555555555555556, \"#d8576b\"], [0.6666666666666666, \"#ed7953\"], [0.7777777777777778, \"#fb9f3a\"], [0.8888888888888888, \"#fdca26\"], [1.0, \"#f0f921\"]], \"type\": \"histogram2d\"}], \"histogram2dcontour\": [{\"colorbar\": {\"outlinewidth\": 0, \"ticks\": \"\"}, \"colorscale\": [[0.0, \"#0d0887\"], [0.1111111111111111, \"#46039f\"], [0.2222222222222222, \"#7201a8\"], [0.3333333333333333, \"#9c179e\"], [0.4444444444444444, \"#bd3786\"], [0.5555555555555556, \"#d8576b\"], [0.6666666666666666, \"#ed7953\"], [0.7777777777777778, \"#fb9f3a\"], [0.8888888888888888, \"#fdca26\"], [1.0, \"#f0f921\"]], \"type\": \"histogram2dcontour\"}], \"mesh3d\": [{\"colorbar\": {\"outlinewidth\": 0, \"ticks\": \"\"}, \"type\": \"mesh3d\"}], \"parcoords\": [{\"line\": {\"colorbar\": {\"outlinewidth\": 0, \"ticks\": \"\"}}, \"type\": \"parcoords\"}], \"pie\": [{\"automargin\": true, \"type\": \"pie\"}], \"scatter\": [{\"marker\": {\"colorbar\": {\"outlinewidth\": 0, \"ticks\": \"\"}}, \"type\": \"scatter\"}], \"scatter3d\": [{\"line\": {\"colorbar\": {\"outlinewidth\": 0, \"ticks\": \"\"}}, \"marker\": {\"colorbar\": {\"outlinewidth\": 0, \"ticks\": \"\"}}, \"type\": \"scatter3d\"}], \"scattercarpet\": [{\"marker\": {\"colorbar\": {\"outlinewidth\": 0, \"ticks\": \"\"}}, \"type\": \"scattercarpet\"}], \"scattergeo\": [{\"marker\": {\"colorbar\": {\"outlinewidth\": 0, \"ticks\": \"\"}}, \"type\": \"scattergeo\"}], \"scattergl\": [{\"marker\": {\"colorbar\": {\"outlinewidth\": 0, \"ticks\": \"\"}}, \"type\": \"scattergl\"}], \"scattermapbox\": [{\"marker\": {\"colorbar\": {\"outlinewidth\": 0, \"ticks\": \"\"}}, \"type\": \"scattermapbox\"}], \"scatterpolar\": [{\"marker\": {\"colorbar\": {\"outlinewidth\": 0, \"ticks\": \"\"}}, \"type\": \"scatterpolar\"}], \"scatterpolargl\": [{\"marker\": {\"colorbar\": {\"outlinewidth\": 0, \"ticks\": \"\"}}, \"type\": \"scatterpolargl\"}], \"scatterternary\": [{\"marker\": {\"colorbar\": {\"outlinewidth\": 0, \"ticks\": \"\"}}, \"type\": \"scatterternary\"}], \"surface\": [{\"colorbar\": {\"outlinewidth\": 0, \"ticks\": \"\"}, \"colorscale\": [[0.0, \"#0d0887\"], [0.1111111111111111, \"#46039f\"], [0.2222222222222222, \"#7201a8\"], [0.3333333333333333, \"#9c179e\"], [0.4444444444444444, \"#bd3786\"], [0.5555555555555556, \"#d8576b\"], [0.6666666666666666, \"#ed7953\"], [0.7777777777777778, \"#fb9f3a\"], [0.8888888888888888, \"#fdca26\"], [1.0, \"#f0f921\"]], \"type\": \"surface\"}], \"table\": [{\"cells\": {\"fill\": {\"color\": \"#EBF0F8\"}, \"line\": {\"color\": \"white\"}}, \"header\": {\"fill\": {\"color\": \"#C8D4E3\"}, \"line\": {\"color\": \"white\"}}, \"type\": \"table\"}]}, \"layout\": {\"annotationdefaults\": {\"arrowcolor\": \"#2a3f5f\", \"arrowhead\": 0, \"arrowwidth\": 1}, \"coloraxis\": {\"colorbar\": {\"outlinewidth\": 0, \"ticks\": \"\"}}, \"colorscale\": {\"diverging\": [[0, \"#8e0152\"], [0.1, \"#c51b7d\"], [0.2, \"#de77ae\"], [0.3, \"#f1b6da\"], [0.4, \"#fde0ef\"], [0.5, \"#f7f7f7\"], [0.6, \"#e6f5d0\"], [0.7, \"#b8e186\"], [0.8, \"#7fbc41\"], [0.9, \"#4d9221\"], [1, \"#276419\"]], \"sequential\": [[0.0, \"#0d0887\"], [0.1111111111111111, \"#46039f\"], [0.2222222222222222, \"#7201a8\"], [0.3333333333333333, \"#9c179e\"], [0.4444444444444444, \"#bd3786\"], [0.5555555555555556, \"#d8576b\"], [0.6666666666666666, \"#ed7953\"], [0.7777777777777778, \"#fb9f3a\"], [0.8888888888888888, \"#fdca26\"], [1.0, \"#f0f921\"]], \"sequentialminus\": [[0.0, \"#0d0887\"], [0.1111111111111111, \"#46039f\"], [0.2222222222222222, \"#7201a8\"], [0.3333333333333333, \"#9c179e\"], [0.4444444444444444, \"#bd3786\"], [0.5555555555555556, \"#d8576b\"], [0.6666666666666666, \"#ed7953\"], [0.7777777777777778, \"#fb9f3a\"], [0.8888888888888888, \"#fdca26\"], [1.0, \"#f0f921\"]]}, \"colorway\": [\"#636efa\", \"#EF553B\", \"#00cc96\", \"#ab63fa\", \"#FFA15A\", \"#19d3f3\", \"#FF6692\", \"#B6E880\", \"#FF97FF\", \"#FECB52\"], \"font\": {\"color\": \"#2a3f5f\"}, \"geo\": {\"bgcolor\": \"white\", \"lakecolor\": \"white\", \"landcolor\": \"#E5ECF6\", \"showlakes\": true, \"showland\": true, \"subunitcolor\": \"white\"}, \"hoverlabel\": {\"align\": \"left\"}, \"hovermode\": \"closest\", \"mapbox\": {\"style\": \"light\"}, \"paper_bgcolor\": \"white\", \"plot_bgcolor\": \"#E5ECF6\", \"polar\": {\"angularaxis\": {\"gridcolor\": \"white\", \"linecolor\": \"white\", \"ticks\": \"\"}, \"bgcolor\": \"#E5ECF6\", \"radialaxis\": {\"gridcolor\": \"white\", \"linecolor\": \"white\", \"ticks\": \"\"}}, \"scene\": {\"xaxis\": {\"backgroundcolor\": \"#E5ECF6\", \"gridcolor\": \"white\", \"gridwidth\": 2, \"linecolor\": \"white\", \"showbackground\": true, \"ticks\": \"\", \"zerolinecolor\": \"white\"}, \"yaxis\": {\"backgroundcolor\": \"#E5ECF6\", \"gridcolor\": \"white\", \"gridwidth\": 2, \"linecolor\": \"white\", \"showbackground\": true, \"ticks\": \"\", \"zerolinecolor\": \"white\"}, \"zaxis\": {\"backgroundcolor\": \"#E5ECF6\", \"gridcolor\": \"white\", \"gridwidth\": 2, \"linecolor\": \"white\", \"showbackground\": true, \"ticks\": \"\", \"zerolinecolor\": \"white\"}}, \"shapedefaults\": {\"line\": {\"color\": \"#2a3f5f\"}}, \"ternary\": {\"aaxis\": {\"gridcolor\": \"white\", \"linecolor\": \"white\", \"ticks\": \"\"}, \"baxis\": {\"gridcolor\": \"white\", \"linecolor\": \"white\", \"ticks\": \"\"}, \"bgcolor\": \"#E5ECF6\", \"caxis\": {\"gridcolor\": \"white\", \"linecolor\": \"white\", \"ticks\": \"\"}}, \"title\": {\"x\": 0.05}, \"xaxis\": {\"automargin\": true, \"gridcolor\": \"white\", \"linecolor\": \"white\", \"ticks\": \"\", \"title\": {\"standoff\": 15}, \"zerolinecolor\": \"white\", \"zerolinewidth\": 2}, \"yaxis\": {\"automargin\": true, \"gridcolor\": \"white\", \"linecolor\": \"white\", \"ticks\": \"\", \"title\": {\"standoff\": 15}, \"zerolinecolor\": \"white\", \"zerolinewidth\": 2}}}, \"title\": {\"font\": {\"color\": \"#4D5663\"}}, \"xaxis\": {\"gridcolor\": \"#E1E5ED\", \"showgrid\": true, \"tickfont\": {\"color\": \"#4D5663\"}, \"title\": {\"font\": {\"color\": \"#4D5663\"}, \"text\": \"\"}, \"zerolinecolor\": \"#E1E5ED\"}, \"yaxis\": {\"gridcolor\": \"#E1E5ED\", \"showgrid\": true, \"tickfont\": {\"color\": \"#4D5663\"}, \"title\": {\"font\": {\"color\": \"#4D5663\"}, \"text\": \"\"}, \"zerolinecolor\": \"#E1E5ED\"}},\n",
       "                        {\"showLink\": true, \"linkText\": \"Export to plot.ly\", \"plotlyServerURL\": \"https://plot.ly\", \"responsive\": true}\n",
       "                    ).then(function(){\n",
       "                            \n",
       "var gd = document.getElementById('d99253cc-b2d6-4916-a065-a139f71cf71c');\n",
       "var x = new MutationObserver(function (mutations, observer) {{\n",
       "        var display = window.getComputedStyle(gd).display;\n",
       "        if (!display || display === 'none') {{\n",
       "            console.log([gd, 'removed!']);\n",
       "            Plotly.purge(gd);\n",
       "            observer.disconnect();\n",
       "        }}\n",
       "}});\n",
       "\n",
       "// Listen for the removal of the full notebook cells\n",
       "var notebookContainer = gd.closest('#notebook-container');\n",
       "if (notebookContainer) {{\n",
       "    x.observe(notebookContainer, {childList: true});\n",
       "}}\n",
       "\n",
       "// Listen for the clearing of the current output cell\n",
       "var outputEl = gd.closest('.output');\n",
       "if (outputEl) {{\n",
       "    x.observe(outputEl, {childList: true});\n",
       "}}\n",
       "\n",
       "                        })\n",
       "                };\n",
       "                });\n",
       "            </script>\n",
       "        </div>"
      ]
     },
     "metadata": {},
     "output_type": "display_data"
    }
   ],
   "source": [
    "df.iplot(kind='scatter',x='A',y='B',mode='markers',size=10)"
   ]
  },
  {
   "cell_type": "markdown",
   "metadata": {},
   "source": [
    "## Bar Plots"
   ]
  },
  {
   "cell_type": "code",
   "execution_count": 14,
   "metadata": {},
   "outputs": [
    {
     "data": {
      "application/vnd.plotly.v1+json": {
       "config": {
        "linkText": "Export to plot.ly",
        "plotlyServerURL": "https://plot.ly",
        "showLink": true
       },
       "data": [
        {
         "marker": {
          "color": "rgba(255, 153, 51, 0.6)",
          "line": {
           "color": "rgba(255, 153, 51, 1.0)",
           "width": 1
          }
         },
         "name": "Values",
         "orientation": "v",
         "text": "",
         "type": "bar",
         "x": [
          "A",
          "B",
          "C"
         ],
         "y": [
          32,
          43,
          50
         ]
        }
       ],
       "layout": {
        "legend": {
         "bgcolor": "#F5F6F9",
         "font": {
          "color": "#4D5663"
         }
        },
        "paper_bgcolor": "#F5F6F9",
        "plot_bgcolor": "#F5F6F9",
        "template": {
         "data": {
          "bar": [
           {
            "error_x": {
             "color": "#2a3f5f"
            },
            "error_y": {
             "color": "#2a3f5f"
            },
            "marker": {
             "line": {
              "color": "#E5ECF6",
              "width": 0.5
             }
            },
            "type": "bar"
           }
          ],
          "barpolar": [
           {
            "marker": {
             "line": {
              "color": "#E5ECF6",
              "width": 0.5
             }
            },
            "type": "barpolar"
           }
          ],
          "carpet": [
           {
            "aaxis": {
             "endlinecolor": "#2a3f5f",
             "gridcolor": "white",
             "linecolor": "white",
             "minorgridcolor": "white",
             "startlinecolor": "#2a3f5f"
            },
            "baxis": {
             "endlinecolor": "#2a3f5f",
             "gridcolor": "white",
             "linecolor": "white",
             "minorgridcolor": "white",
             "startlinecolor": "#2a3f5f"
            },
            "type": "carpet"
           }
          ],
          "choropleth": [
           {
            "colorbar": {
             "outlinewidth": 0,
             "ticks": ""
            },
            "type": "choropleth"
           }
          ],
          "contour": [
           {
            "colorbar": {
             "outlinewidth": 0,
             "ticks": ""
            },
            "colorscale": [
             [
              0,
              "#0d0887"
             ],
             [
              0.1111111111111111,
              "#46039f"
             ],
             [
              0.2222222222222222,
              "#7201a8"
             ],
             [
              0.3333333333333333,
              "#9c179e"
             ],
             [
              0.4444444444444444,
              "#bd3786"
             ],
             [
              0.5555555555555556,
              "#d8576b"
             ],
             [
              0.6666666666666666,
              "#ed7953"
             ],
             [
              0.7777777777777778,
              "#fb9f3a"
             ],
             [
              0.8888888888888888,
              "#fdca26"
             ],
             [
              1,
              "#f0f921"
             ]
            ],
            "type": "contour"
           }
          ],
          "contourcarpet": [
           {
            "colorbar": {
             "outlinewidth": 0,
             "ticks": ""
            },
            "type": "contourcarpet"
           }
          ],
          "heatmap": [
           {
            "colorbar": {
             "outlinewidth": 0,
             "ticks": ""
            },
            "colorscale": [
             [
              0,
              "#0d0887"
             ],
             [
              0.1111111111111111,
              "#46039f"
             ],
             [
              0.2222222222222222,
              "#7201a8"
             ],
             [
              0.3333333333333333,
              "#9c179e"
             ],
             [
              0.4444444444444444,
              "#bd3786"
             ],
             [
              0.5555555555555556,
              "#d8576b"
             ],
             [
              0.6666666666666666,
              "#ed7953"
             ],
             [
              0.7777777777777778,
              "#fb9f3a"
             ],
             [
              0.8888888888888888,
              "#fdca26"
             ],
             [
              1,
              "#f0f921"
             ]
            ],
            "type": "heatmap"
           }
          ],
          "heatmapgl": [
           {
            "colorbar": {
             "outlinewidth": 0,
             "ticks": ""
            },
            "colorscale": [
             [
              0,
              "#0d0887"
             ],
             [
              0.1111111111111111,
              "#46039f"
             ],
             [
              0.2222222222222222,
              "#7201a8"
             ],
             [
              0.3333333333333333,
              "#9c179e"
             ],
             [
              0.4444444444444444,
              "#bd3786"
             ],
             [
              0.5555555555555556,
              "#d8576b"
             ],
             [
              0.6666666666666666,
              "#ed7953"
             ],
             [
              0.7777777777777778,
              "#fb9f3a"
             ],
             [
              0.8888888888888888,
              "#fdca26"
             ],
             [
              1,
              "#f0f921"
             ]
            ],
            "type": "heatmapgl"
           }
          ],
          "histogram": [
           {
            "marker": {
             "colorbar": {
              "outlinewidth": 0,
              "ticks": ""
             }
            },
            "type": "histogram"
           }
          ],
          "histogram2d": [
           {
            "colorbar": {
             "outlinewidth": 0,
             "ticks": ""
            },
            "colorscale": [
             [
              0,
              "#0d0887"
             ],
             [
              0.1111111111111111,
              "#46039f"
             ],
             [
              0.2222222222222222,
              "#7201a8"
             ],
             [
              0.3333333333333333,
              "#9c179e"
             ],
             [
              0.4444444444444444,
              "#bd3786"
             ],
             [
              0.5555555555555556,
              "#d8576b"
             ],
             [
              0.6666666666666666,
              "#ed7953"
             ],
             [
              0.7777777777777778,
              "#fb9f3a"
             ],
             [
              0.8888888888888888,
              "#fdca26"
             ],
             [
              1,
              "#f0f921"
             ]
            ],
            "type": "histogram2d"
           }
          ],
          "histogram2dcontour": [
           {
            "colorbar": {
             "outlinewidth": 0,
             "ticks": ""
            },
            "colorscale": [
             [
              0,
              "#0d0887"
             ],
             [
              0.1111111111111111,
              "#46039f"
             ],
             [
              0.2222222222222222,
              "#7201a8"
             ],
             [
              0.3333333333333333,
              "#9c179e"
             ],
             [
              0.4444444444444444,
              "#bd3786"
             ],
             [
              0.5555555555555556,
              "#d8576b"
             ],
             [
              0.6666666666666666,
              "#ed7953"
             ],
             [
              0.7777777777777778,
              "#fb9f3a"
             ],
             [
              0.8888888888888888,
              "#fdca26"
             ],
             [
              1,
              "#f0f921"
             ]
            ],
            "type": "histogram2dcontour"
           }
          ],
          "mesh3d": [
           {
            "colorbar": {
             "outlinewidth": 0,
             "ticks": ""
            },
            "type": "mesh3d"
           }
          ],
          "parcoords": [
           {
            "line": {
             "colorbar": {
              "outlinewidth": 0,
              "ticks": ""
             }
            },
            "type": "parcoords"
           }
          ],
          "pie": [
           {
            "automargin": true,
            "type": "pie"
           }
          ],
          "scatter": [
           {
            "marker": {
             "colorbar": {
              "outlinewidth": 0,
              "ticks": ""
             }
            },
            "type": "scatter"
           }
          ],
          "scatter3d": [
           {
            "line": {
             "colorbar": {
              "outlinewidth": 0,
              "ticks": ""
             }
            },
            "marker": {
             "colorbar": {
              "outlinewidth": 0,
              "ticks": ""
             }
            },
            "type": "scatter3d"
           }
          ],
          "scattercarpet": [
           {
            "marker": {
             "colorbar": {
              "outlinewidth": 0,
              "ticks": ""
             }
            },
            "type": "scattercarpet"
           }
          ],
          "scattergeo": [
           {
            "marker": {
             "colorbar": {
              "outlinewidth": 0,
              "ticks": ""
             }
            },
            "type": "scattergeo"
           }
          ],
          "scattergl": [
           {
            "marker": {
             "colorbar": {
              "outlinewidth": 0,
              "ticks": ""
             }
            },
            "type": "scattergl"
           }
          ],
          "scattermapbox": [
           {
            "marker": {
             "colorbar": {
              "outlinewidth": 0,
              "ticks": ""
             }
            },
            "type": "scattermapbox"
           }
          ],
          "scatterpolar": [
           {
            "marker": {
             "colorbar": {
              "outlinewidth": 0,
              "ticks": ""
             }
            },
            "type": "scatterpolar"
           }
          ],
          "scatterpolargl": [
           {
            "marker": {
             "colorbar": {
              "outlinewidth": 0,
              "ticks": ""
             }
            },
            "type": "scatterpolargl"
           }
          ],
          "scatterternary": [
           {
            "marker": {
             "colorbar": {
              "outlinewidth": 0,
              "ticks": ""
             }
            },
            "type": "scatterternary"
           }
          ],
          "surface": [
           {
            "colorbar": {
             "outlinewidth": 0,
             "ticks": ""
            },
            "colorscale": [
             [
              0,
              "#0d0887"
             ],
             [
              0.1111111111111111,
              "#46039f"
             ],
             [
              0.2222222222222222,
              "#7201a8"
             ],
             [
              0.3333333333333333,
              "#9c179e"
             ],
             [
              0.4444444444444444,
              "#bd3786"
             ],
             [
              0.5555555555555556,
              "#d8576b"
             ],
             [
              0.6666666666666666,
              "#ed7953"
             ],
             [
              0.7777777777777778,
              "#fb9f3a"
             ],
             [
              0.8888888888888888,
              "#fdca26"
             ],
             [
              1,
              "#f0f921"
             ]
            ],
            "type": "surface"
           }
          ],
          "table": [
           {
            "cells": {
             "fill": {
              "color": "#EBF0F8"
             },
             "line": {
              "color": "white"
             }
            },
            "header": {
             "fill": {
              "color": "#C8D4E3"
             },
             "line": {
              "color": "white"
             }
            },
            "type": "table"
           }
          ]
         },
         "layout": {
          "annotationdefaults": {
           "arrowcolor": "#2a3f5f",
           "arrowhead": 0,
           "arrowwidth": 1
          },
          "coloraxis": {
           "colorbar": {
            "outlinewidth": 0,
            "ticks": ""
           }
          },
          "colorscale": {
           "diverging": [
            [
             0,
             "#8e0152"
            ],
            [
             0.1,
             "#c51b7d"
            ],
            [
             0.2,
             "#de77ae"
            ],
            [
             0.3,
             "#f1b6da"
            ],
            [
             0.4,
             "#fde0ef"
            ],
            [
             0.5,
             "#f7f7f7"
            ],
            [
             0.6,
             "#e6f5d0"
            ],
            [
             0.7,
             "#b8e186"
            ],
            [
             0.8,
             "#7fbc41"
            ],
            [
             0.9,
             "#4d9221"
            ],
            [
             1,
             "#276419"
            ]
           ],
           "sequential": [
            [
             0,
             "#0d0887"
            ],
            [
             0.1111111111111111,
             "#46039f"
            ],
            [
             0.2222222222222222,
             "#7201a8"
            ],
            [
             0.3333333333333333,
             "#9c179e"
            ],
            [
             0.4444444444444444,
             "#bd3786"
            ],
            [
             0.5555555555555556,
             "#d8576b"
            ],
            [
             0.6666666666666666,
             "#ed7953"
            ],
            [
             0.7777777777777778,
             "#fb9f3a"
            ],
            [
             0.8888888888888888,
             "#fdca26"
            ],
            [
             1,
             "#f0f921"
            ]
           ],
           "sequentialminus": [
            [
             0,
             "#0d0887"
            ],
            [
             0.1111111111111111,
             "#46039f"
            ],
            [
             0.2222222222222222,
             "#7201a8"
            ],
            [
             0.3333333333333333,
             "#9c179e"
            ],
            [
             0.4444444444444444,
             "#bd3786"
            ],
            [
             0.5555555555555556,
             "#d8576b"
            ],
            [
             0.6666666666666666,
             "#ed7953"
            ],
            [
             0.7777777777777778,
             "#fb9f3a"
            ],
            [
             0.8888888888888888,
             "#fdca26"
            ],
            [
             1,
             "#f0f921"
            ]
           ]
          },
          "colorway": [
           "#636efa",
           "#EF553B",
           "#00cc96",
           "#ab63fa",
           "#FFA15A",
           "#19d3f3",
           "#FF6692",
           "#B6E880",
           "#FF97FF",
           "#FECB52"
          ],
          "font": {
           "color": "#2a3f5f"
          },
          "geo": {
           "bgcolor": "white",
           "lakecolor": "white",
           "landcolor": "#E5ECF6",
           "showlakes": true,
           "showland": true,
           "subunitcolor": "white"
          },
          "hoverlabel": {
           "align": "left"
          },
          "hovermode": "closest",
          "mapbox": {
           "style": "light"
          },
          "paper_bgcolor": "white",
          "plot_bgcolor": "#E5ECF6",
          "polar": {
           "angularaxis": {
            "gridcolor": "white",
            "linecolor": "white",
            "ticks": ""
           },
           "bgcolor": "#E5ECF6",
           "radialaxis": {
            "gridcolor": "white",
            "linecolor": "white",
            "ticks": ""
           }
          },
          "scene": {
           "xaxis": {
            "backgroundcolor": "#E5ECF6",
            "gridcolor": "white",
            "gridwidth": 2,
            "linecolor": "white",
            "showbackground": true,
            "ticks": "",
            "zerolinecolor": "white"
           },
           "yaxis": {
            "backgroundcolor": "#E5ECF6",
            "gridcolor": "white",
            "gridwidth": 2,
            "linecolor": "white",
            "showbackground": true,
            "ticks": "",
            "zerolinecolor": "white"
           },
           "zaxis": {
            "backgroundcolor": "#E5ECF6",
            "gridcolor": "white",
            "gridwidth": 2,
            "linecolor": "white",
            "showbackground": true,
            "ticks": "",
            "zerolinecolor": "white"
           }
          },
          "shapedefaults": {
           "line": {
            "color": "#2a3f5f"
           }
          },
          "ternary": {
           "aaxis": {
            "gridcolor": "white",
            "linecolor": "white",
            "ticks": ""
           },
           "baxis": {
            "gridcolor": "white",
            "linecolor": "white",
            "ticks": ""
           },
           "bgcolor": "#E5ECF6",
           "caxis": {
            "gridcolor": "white",
            "linecolor": "white",
            "ticks": ""
           }
          },
          "title": {
           "x": 0.05
          },
          "xaxis": {
           "automargin": true,
           "gridcolor": "white",
           "linecolor": "white",
           "ticks": "",
           "title": {
            "standoff": 15
           },
           "zerolinecolor": "white",
           "zerolinewidth": 2
          },
          "yaxis": {
           "automargin": true,
           "gridcolor": "white",
           "linecolor": "white",
           "ticks": "",
           "title": {
            "standoff": 15
           },
           "zerolinecolor": "white",
           "zerolinewidth": 2
          }
         }
        },
        "title": {
         "font": {
          "color": "#4D5663"
         }
        },
        "xaxis": {
         "gridcolor": "#E1E5ED",
         "showgrid": true,
         "tickfont": {
          "color": "#4D5663"
         },
         "title": {
          "font": {
           "color": "#4D5663"
          },
          "text": ""
         },
         "zerolinecolor": "#E1E5ED"
        },
        "yaxis": {
         "gridcolor": "#E1E5ED",
         "showgrid": true,
         "tickfont": {
          "color": "#4D5663"
         },
         "title": {
          "font": {
           "color": "#4D5663"
          },
          "text": ""
         },
         "zerolinecolor": "#E1E5ED"
        }
       }
      },
      "text/html": [
       "<div>\n",
       "        \n",
       "        \n",
       "            <div id=\"073a654d-d9f3-40a6-a84a-a43789de0d10\" class=\"plotly-graph-div\" style=\"height:525px; width:100%;\"></div>\n",
       "            <script type=\"text/javascript\">\n",
       "                require([\"plotly\"], function(Plotly) {\n",
       "                    window.PLOTLYENV=window.PLOTLYENV || {};\n",
       "                    window.PLOTLYENV.BASE_URL='https://plot.ly';\n",
       "                    \n",
       "                if (document.getElementById(\"073a654d-d9f3-40a6-a84a-a43789de0d10\")) {\n",
       "                    Plotly.newPlot(\n",
       "                        '073a654d-d9f3-40a6-a84a-a43789de0d10',\n",
       "                        [{\"marker\": {\"color\": \"rgba(255, 153, 51, 0.6)\", \"line\": {\"color\": \"rgba(255, 153, 51, 1.0)\", \"width\": 1}}, \"name\": \"Values\", \"orientation\": \"v\", \"text\": \"\", \"type\": \"bar\", \"x\": [\"A\", \"B\", \"C\"], \"y\": [32, 43, 50]}],\n",
       "                        {\"legend\": {\"bgcolor\": \"#F5F6F9\", \"font\": {\"color\": \"#4D5663\"}}, \"paper_bgcolor\": \"#F5F6F9\", \"plot_bgcolor\": \"#F5F6F9\", \"template\": {\"data\": {\"bar\": [{\"error_x\": {\"color\": \"#2a3f5f\"}, \"error_y\": {\"color\": \"#2a3f5f\"}, \"marker\": {\"line\": {\"color\": \"#E5ECF6\", \"width\": 0.5}}, \"type\": \"bar\"}], \"barpolar\": [{\"marker\": {\"line\": {\"color\": \"#E5ECF6\", \"width\": 0.5}}, \"type\": \"barpolar\"}], \"carpet\": [{\"aaxis\": {\"endlinecolor\": \"#2a3f5f\", \"gridcolor\": \"white\", \"linecolor\": \"white\", \"minorgridcolor\": \"white\", \"startlinecolor\": \"#2a3f5f\"}, \"baxis\": {\"endlinecolor\": \"#2a3f5f\", \"gridcolor\": \"white\", \"linecolor\": \"white\", \"minorgridcolor\": \"white\", \"startlinecolor\": \"#2a3f5f\"}, \"type\": \"carpet\"}], \"choropleth\": [{\"colorbar\": {\"outlinewidth\": 0, \"ticks\": \"\"}, \"type\": \"choropleth\"}], \"contour\": [{\"colorbar\": {\"outlinewidth\": 0, \"ticks\": \"\"}, \"colorscale\": [[0.0, \"#0d0887\"], [0.1111111111111111, \"#46039f\"], [0.2222222222222222, \"#7201a8\"], [0.3333333333333333, \"#9c179e\"], [0.4444444444444444, \"#bd3786\"], [0.5555555555555556, \"#d8576b\"], [0.6666666666666666, \"#ed7953\"], [0.7777777777777778, \"#fb9f3a\"], [0.8888888888888888, \"#fdca26\"], [1.0, \"#f0f921\"]], \"type\": \"contour\"}], \"contourcarpet\": [{\"colorbar\": {\"outlinewidth\": 0, \"ticks\": \"\"}, \"type\": \"contourcarpet\"}], \"heatmap\": [{\"colorbar\": {\"outlinewidth\": 0, \"ticks\": \"\"}, \"colorscale\": [[0.0, \"#0d0887\"], [0.1111111111111111, \"#46039f\"], [0.2222222222222222, \"#7201a8\"], [0.3333333333333333, \"#9c179e\"], [0.4444444444444444, \"#bd3786\"], [0.5555555555555556, \"#d8576b\"], [0.6666666666666666, \"#ed7953\"], [0.7777777777777778, \"#fb9f3a\"], [0.8888888888888888, \"#fdca26\"], [1.0, \"#f0f921\"]], \"type\": \"heatmap\"}], \"heatmapgl\": [{\"colorbar\": {\"outlinewidth\": 0, \"ticks\": \"\"}, \"colorscale\": [[0.0, \"#0d0887\"], [0.1111111111111111, \"#46039f\"], [0.2222222222222222, \"#7201a8\"], [0.3333333333333333, \"#9c179e\"], [0.4444444444444444, \"#bd3786\"], [0.5555555555555556, \"#d8576b\"], [0.6666666666666666, \"#ed7953\"], [0.7777777777777778, \"#fb9f3a\"], [0.8888888888888888, \"#fdca26\"], [1.0, \"#f0f921\"]], \"type\": \"heatmapgl\"}], \"histogram\": [{\"marker\": {\"colorbar\": {\"outlinewidth\": 0, \"ticks\": \"\"}}, \"type\": \"histogram\"}], \"histogram2d\": [{\"colorbar\": {\"outlinewidth\": 0, \"ticks\": \"\"}, \"colorscale\": [[0.0, \"#0d0887\"], [0.1111111111111111, \"#46039f\"], [0.2222222222222222, \"#7201a8\"], [0.3333333333333333, \"#9c179e\"], [0.4444444444444444, \"#bd3786\"], [0.5555555555555556, \"#d8576b\"], [0.6666666666666666, \"#ed7953\"], [0.7777777777777778, \"#fb9f3a\"], [0.8888888888888888, \"#fdca26\"], [1.0, \"#f0f921\"]], \"type\": \"histogram2d\"}], \"histogram2dcontour\": [{\"colorbar\": {\"outlinewidth\": 0, \"ticks\": \"\"}, \"colorscale\": [[0.0, \"#0d0887\"], [0.1111111111111111, \"#46039f\"], [0.2222222222222222, \"#7201a8\"], [0.3333333333333333, \"#9c179e\"], [0.4444444444444444, \"#bd3786\"], [0.5555555555555556, \"#d8576b\"], [0.6666666666666666, \"#ed7953\"], [0.7777777777777778, \"#fb9f3a\"], [0.8888888888888888, \"#fdca26\"], [1.0, \"#f0f921\"]], \"type\": \"histogram2dcontour\"}], \"mesh3d\": [{\"colorbar\": {\"outlinewidth\": 0, \"ticks\": \"\"}, \"type\": \"mesh3d\"}], \"parcoords\": [{\"line\": {\"colorbar\": {\"outlinewidth\": 0, \"ticks\": \"\"}}, \"type\": \"parcoords\"}], \"pie\": [{\"automargin\": true, \"type\": \"pie\"}], \"scatter\": [{\"marker\": {\"colorbar\": {\"outlinewidth\": 0, \"ticks\": \"\"}}, \"type\": \"scatter\"}], \"scatter3d\": [{\"line\": {\"colorbar\": {\"outlinewidth\": 0, \"ticks\": \"\"}}, \"marker\": {\"colorbar\": {\"outlinewidth\": 0, \"ticks\": \"\"}}, \"type\": \"scatter3d\"}], \"scattercarpet\": [{\"marker\": {\"colorbar\": {\"outlinewidth\": 0, \"ticks\": \"\"}}, \"type\": \"scattercarpet\"}], \"scattergeo\": [{\"marker\": {\"colorbar\": {\"outlinewidth\": 0, \"ticks\": \"\"}}, \"type\": \"scattergeo\"}], \"scattergl\": [{\"marker\": {\"colorbar\": {\"outlinewidth\": 0, \"ticks\": \"\"}}, \"type\": \"scattergl\"}], \"scattermapbox\": [{\"marker\": {\"colorbar\": {\"outlinewidth\": 0, \"ticks\": \"\"}}, \"type\": \"scattermapbox\"}], \"scatterpolar\": [{\"marker\": {\"colorbar\": {\"outlinewidth\": 0, \"ticks\": \"\"}}, \"type\": \"scatterpolar\"}], \"scatterpolargl\": [{\"marker\": {\"colorbar\": {\"outlinewidth\": 0, \"ticks\": \"\"}}, \"type\": \"scatterpolargl\"}], \"scatterternary\": [{\"marker\": {\"colorbar\": {\"outlinewidth\": 0, \"ticks\": \"\"}}, \"type\": \"scatterternary\"}], \"surface\": [{\"colorbar\": {\"outlinewidth\": 0, \"ticks\": \"\"}, \"colorscale\": [[0.0, \"#0d0887\"], [0.1111111111111111, \"#46039f\"], [0.2222222222222222, \"#7201a8\"], [0.3333333333333333, \"#9c179e\"], [0.4444444444444444, \"#bd3786\"], [0.5555555555555556, \"#d8576b\"], [0.6666666666666666, \"#ed7953\"], [0.7777777777777778, \"#fb9f3a\"], [0.8888888888888888, \"#fdca26\"], [1.0, \"#f0f921\"]], \"type\": \"surface\"}], \"table\": [{\"cells\": {\"fill\": {\"color\": \"#EBF0F8\"}, \"line\": {\"color\": \"white\"}}, \"header\": {\"fill\": {\"color\": \"#C8D4E3\"}, \"line\": {\"color\": \"white\"}}, \"type\": \"table\"}]}, \"layout\": {\"annotationdefaults\": {\"arrowcolor\": \"#2a3f5f\", \"arrowhead\": 0, \"arrowwidth\": 1}, \"coloraxis\": {\"colorbar\": {\"outlinewidth\": 0, \"ticks\": \"\"}}, \"colorscale\": {\"diverging\": [[0, \"#8e0152\"], [0.1, \"#c51b7d\"], [0.2, \"#de77ae\"], [0.3, \"#f1b6da\"], [0.4, \"#fde0ef\"], [0.5, \"#f7f7f7\"], [0.6, \"#e6f5d0\"], [0.7, \"#b8e186\"], [0.8, \"#7fbc41\"], [0.9, \"#4d9221\"], [1, \"#276419\"]], \"sequential\": [[0.0, \"#0d0887\"], [0.1111111111111111, \"#46039f\"], [0.2222222222222222, \"#7201a8\"], [0.3333333333333333, \"#9c179e\"], [0.4444444444444444, \"#bd3786\"], [0.5555555555555556, \"#d8576b\"], [0.6666666666666666, \"#ed7953\"], [0.7777777777777778, \"#fb9f3a\"], [0.8888888888888888, \"#fdca26\"], [1.0, \"#f0f921\"]], \"sequentialminus\": [[0.0, \"#0d0887\"], [0.1111111111111111, \"#46039f\"], [0.2222222222222222, \"#7201a8\"], [0.3333333333333333, \"#9c179e\"], [0.4444444444444444, \"#bd3786\"], [0.5555555555555556, \"#d8576b\"], [0.6666666666666666, \"#ed7953\"], [0.7777777777777778, \"#fb9f3a\"], [0.8888888888888888, \"#fdca26\"], [1.0, \"#f0f921\"]]}, \"colorway\": [\"#636efa\", \"#EF553B\", \"#00cc96\", \"#ab63fa\", \"#FFA15A\", \"#19d3f3\", \"#FF6692\", \"#B6E880\", \"#FF97FF\", \"#FECB52\"], \"font\": {\"color\": \"#2a3f5f\"}, \"geo\": {\"bgcolor\": \"white\", \"lakecolor\": \"white\", \"landcolor\": \"#E5ECF6\", \"showlakes\": true, \"showland\": true, \"subunitcolor\": \"white\"}, \"hoverlabel\": {\"align\": \"left\"}, \"hovermode\": \"closest\", \"mapbox\": {\"style\": \"light\"}, \"paper_bgcolor\": \"white\", \"plot_bgcolor\": \"#E5ECF6\", \"polar\": {\"angularaxis\": {\"gridcolor\": \"white\", \"linecolor\": \"white\", \"ticks\": \"\"}, \"bgcolor\": \"#E5ECF6\", \"radialaxis\": {\"gridcolor\": \"white\", \"linecolor\": \"white\", \"ticks\": \"\"}}, \"scene\": {\"xaxis\": {\"backgroundcolor\": \"#E5ECF6\", \"gridcolor\": \"white\", \"gridwidth\": 2, \"linecolor\": \"white\", \"showbackground\": true, \"ticks\": \"\", \"zerolinecolor\": \"white\"}, \"yaxis\": {\"backgroundcolor\": \"#E5ECF6\", \"gridcolor\": \"white\", \"gridwidth\": 2, \"linecolor\": \"white\", \"showbackground\": true, \"ticks\": \"\", \"zerolinecolor\": \"white\"}, \"zaxis\": {\"backgroundcolor\": \"#E5ECF6\", \"gridcolor\": \"white\", \"gridwidth\": 2, \"linecolor\": \"white\", \"showbackground\": true, \"ticks\": \"\", \"zerolinecolor\": \"white\"}}, \"shapedefaults\": {\"line\": {\"color\": \"#2a3f5f\"}}, \"ternary\": {\"aaxis\": {\"gridcolor\": \"white\", \"linecolor\": \"white\", \"ticks\": \"\"}, \"baxis\": {\"gridcolor\": \"white\", \"linecolor\": \"white\", \"ticks\": \"\"}, \"bgcolor\": \"#E5ECF6\", \"caxis\": {\"gridcolor\": \"white\", \"linecolor\": \"white\", \"ticks\": \"\"}}, \"title\": {\"x\": 0.05}, \"xaxis\": {\"automargin\": true, \"gridcolor\": \"white\", \"linecolor\": \"white\", \"ticks\": \"\", \"title\": {\"standoff\": 15}, \"zerolinecolor\": \"white\", \"zerolinewidth\": 2}, \"yaxis\": {\"automargin\": true, \"gridcolor\": \"white\", \"linecolor\": \"white\", \"ticks\": \"\", \"title\": {\"standoff\": 15}, \"zerolinecolor\": \"white\", \"zerolinewidth\": 2}}}, \"title\": {\"font\": {\"color\": \"#4D5663\"}}, \"xaxis\": {\"gridcolor\": \"#E1E5ED\", \"showgrid\": true, \"tickfont\": {\"color\": \"#4D5663\"}, \"title\": {\"font\": {\"color\": \"#4D5663\"}, \"text\": \"\"}, \"zerolinecolor\": \"#E1E5ED\"}, \"yaxis\": {\"gridcolor\": \"#E1E5ED\", \"showgrid\": true, \"tickfont\": {\"color\": \"#4D5663\"}, \"title\": {\"font\": {\"color\": \"#4D5663\"}, \"text\": \"\"}, \"zerolinecolor\": \"#E1E5ED\"}},\n",
       "                        {\"showLink\": true, \"linkText\": \"Export to plot.ly\", \"plotlyServerURL\": \"https://plot.ly\", \"responsive\": true}\n",
       "                    ).then(function(){\n",
       "                            \n",
       "var gd = document.getElementById('073a654d-d9f3-40a6-a84a-a43789de0d10');\n",
       "var x = new MutationObserver(function (mutations, observer) {{\n",
       "        var display = window.getComputedStyle(gd).display;\n",
       "        if (!display || display === 'none') {{\n",
       "            console.log([gd, 'removed!']);\n",
       "            Plotly.purge(gd);\n",
       "            observer.disconnect();\n",
       "        }}\n",
       "}});\n",
       "\n",
       "// Listen for the removal of the full notebook cells\n",
       "var notebookContainer = gd.closest('#notebook-container');\n",
       "if (notebookContainer) {{\n",
       "    x.observe(notebookContainer, {childList: true});\n",
       "}}\n",
       "\n",
       "// Listen for the clearing of the current output cell\n",
       "var outputEl = gd.closest('.output');\n",
       "if (outputEl) {{\n",
       "    x.observe(outputEl, {childList: true});\n",
       "}}\n",
       "\n",
       "                        })\n",
       "                };\n",
       "                });\n",
       "            </script>\n",
       "        </div>"
      ]
     },
     "metadata": {},
     "output_type": "display_data"
    }
   ],
   "source": [
    "df2.iplot(kind='bar',x='Category',y='Values')"
   ]
  },
  {
   "cell_type": "code",
   "execution_count": 15,
   "metadata": {},
   "outputs": [
    {
     "data": {
      "application/vnd.plotly.v1+json": {
       "config": {
        "linkText": "Export to plot.ly",
        "plotlyServerURL": "https://plot.ly",
        "showLink": true
       },
       "data": [
        {
         "marker": {
          "color": "rgba(255, 153, 51, 0.6)",
          "line": {
           "color": "rgba(255, 153, 51, 1.0)",
           "width": 1
          }
         },
         "name": "A",
         "orientation": "v",
         "text": "",
         "type": "bar",
         "x": [
          0,
          1,
          2,
          3,
          4,
          5,
          6,
          7,
          8,
          9,
          10,
          11,
          12,
          13,
          14,
          15,
          16,
          17,
          18,
          19,
          20,
          21,
          22,
          23,
          24,
          25,
          26,
          27,
          28,
          29,
          30,
          31,
          32,
          33,
          34,
          35,
          36,
          37,
          38,
          39,
          40,
          41,
          42,
          43,
          44,
          45,
          46,
          47,
          48,
          49,
          50,
          51,
          52,
          53,
          54,
          55,
          56,
          57,
          58,
          59,
          60,
          61,
          62,
          63,
          64,
          65,
          66,
          67,
          68,
          69,
          70,
          71,
          72,
          73,
          74,
          75,
          76,
          77,
          78,
          79,
          80,
          81,
          82,
          83,
          84,
          85,
          86,
          87,
          88,
          89,
          90,
          91,
          92,
          93,
          94,
          95,
          96,
          97,
          98,
          99
         ],
         "y": [
          0.9273501686452831,
          -0.5336819713432426,
          -0.4719061159137588,
          -0.9892039772850318,
          1.745699378229749,
          -0.26335462861925224,
          0.7908256324744336,
          -0.018916685629151987,
          1.4362821330775597,
          -0.32503355428080577,
          0.153676829720251,
          1.1318065272893738,
          0.08839548036838218,
          -0.13371513443907548,
          0.04554308700723792,
          -0.05877157631492504,
          0.9319619775407781,
          -0.892681343719326,
          -0.23869875455176157,
          -0.8071351942969122,
          -0.8460637342785593,
          0.5435124105045299,
          1.8829768691003779,
          0.26018907025834476,
          -0.9630329187123825,
          0.5924332239870846,
          0.05224067716215473,
          -0.22741409274250976,
          0.12187361251470992,
          0.195255432340129,
          -3.1675899599066684,
          0.4368530139763862,
          1.9289359381994984,
          0.8056938127943846,
          -0.37292655824780185,
          0.6512746095656167,
          -0.9938636126479036,
          0.7862381402545336,
          -1.1287854744382666,
          0.6094151867668576,
          -1.3345012926132753,
          -0.02281986102852559,
          2.1763311981289886,
          -0.09963573401996252,
          0.8464995922182782,
          -1.2042004296695825,
          2.1203247152475537,
          0.36791612384551403,
          -0.23999914272661843,
          0.024080904242700003,
          0.03482469604660009,
          1.8265286417264184,
          0.49707787161574435,
          -0.5323481640582688,
          -0.5904516820742872,
          -0.31429352820806933,
          -0.20083676978802706,
          -0.24576824746640213,
          0.4490649374540152,
          0.009106977618565758,
          -0.2601190686513889,
          -0.4885809019711191,
          -0.7065650259075594,
          -0.5655889024607965,
          1.1242265905343243,
          -1.289422567292631,
          -0.11079106339526591,
          0.025175648703488762,
          -1.0654028367316437,
          0.5876369583983077,
          -1.2193627328117418,
          0.27503948246745363,
          0.20062669512915307,
          -0.712497095962588,
          -0.5936065482919237,
          0.3162171738816598,
          -2.0801283752733593,
          0.05481389727834878,
          0.29834235948809595,
          -0.25193217959399716,
          -0.18815985965566256,
          -1.0993840202389924,
          1.3720808925772439,
          -1.3901447430249643,
          0.2952706310041869,
          -0.14215402384411635,
          0.2557152281650664,
          0.05237368863656635,
          0.1665134157650504,
          0.32752167656534614,
          -0.02638737238095419,
          -0.07622496454221706,
          1.5158939538061444,
          1.2842668521004519,
          1.1900091488359847,
          0.11950465514627728,
          0.20792715338952203,
          -0.7069618004958248,
          -1.0060679633961014,
          0.7402869780165224
         ]
        },
        {
         "marker": {
          "color": "rgba(55, 128, 191, 0.6)",
          "line": {
           "color": "rgba(55, 128, 191, 1.0)",
           "width": 1
          }
         },
         "name": "B",
         "orientation": "v",
         "text": "",
         "type": "bar",
         "x": [
          0,
          1,
          2,
          3,
          4,
          5,
          6,
          7,
          8,
          9,
          10,
          11,
          12,
          13,
          14,
          15,
          16,
          17,
          18,
          19,
          20,
          21,
          22,
          23,
          24,
          25,
          26,
          27,
          28,
          29,
          30,
          31,
          32,
          33,
          34,
          35,
          36,
          37,
          38,
          39,
          40,
          41,
          42,
          43,
          44,
          45,
          46,
          47,
          48,
          49,
          50,
          51,
          52,
          53,
          54,
          55,
          56,
          57,
          58,
          59,
          60,
          61,
          62,
          63,
          64,
          65,
          66,
          67,
          68,
          69,
          70,
          71,
          72,
          73,
          74,
          75,
          76,
          77,
          78,
          79,
          80,
          81,
          82,
          83,
          84,
          85,
          86,
          87,
          88,
          89,
          90,
          91,
          92,
          93,
          94,
          95,
          96,
          97,
          98,
          99
         ],
         "y": [
          -1.4475834439088642,
          1.936342110293859,
          1.5703019396317082,
          -1.141171509843668,
          0.7086983057483757,
          -0.21548691100100484,
          -0.4935357265485408,
          -0.40008675780020697,
          0.24466237321409023,
          -0.5575940599375178,
          0.7174291311785046,
          0.6066901397467638,
          0.7183279064527168,
          0.9037822643675042,
          0.7922052580156334,
          0.33548132017685217,
          -0.20261143372834065,
          0.7973085569924002,
          1.0992036024784997,
          -0.49476558867100884,
          -0.33780792682176386,
          -1.338637353195344,
          1.1385637433257803,
          -0.20322491634641116,
          0.6844714764071702,
          -0.16617105280152625,
          1.3721896447655835,
          -0.432825142025372,
          -0.6979376497189357,
          -1.827219084945071,
          -0.08870604821904153,
          -0.7593429321290202,
          -1.1452326196090716,
          -0.6591873413644148,
          -0.024453262800700207,
          2.8961064396206346,
          1.363739087484403,
          -0.020299241643240123,
          -0.5503581956789931,
          0.202981852523745,
          -0.04318579863195509,
          1.3640507313160912,
          -1.0280179913191263,
          0.21129179119723718,
          0.10297146234534578,
          -1.2433243782994525,
          -0.021709600661412465,
          1.1984399083378903,
          -1.3599613321180355,
          1.3891357969076896,
          0.07820929637177787,
          -0.6378218867551335,
          -1.0039159825678918,
          -2.126997043628774,
          0.06341984518776161,
          0.32731593946564225,
          2.0722346896488597,
          -1.8756884771290674,
          -1.8738446512520954,
          -0.1688759685449708,
          0.345763386677497,
          -1.4914130382877966,
          -1.4107957310164405,
          -0.4184816338943611,
          1.1964942739671964,
          -0.42009278182817616,
          0.10668530708683387,
          -0.7525150643124401,
          -0.010377553383409528,
          -0.2561262290407313,
          -0.5193080456284674,
          0.2376140021029851,
          0.22650863712631936,
          -0.023683051465336405,
          -0.10574186404763539,
          -1.3388266088658878,
          1.8649371415743328,
          -0.0011472808149724546,
          -0.5809929109198254,
          0.7474919614838859,
          -0.816872565749726,
          1.0410209931608316,
          -0.39785709352618437,
          -1.0815621564988975,
          1.176812583300365,
          0.9895727666875234,
          -0.756797865773887,
          -0.3816828597434053,
          0.42707439730370905,
          -0.1562011388869837,
          0.9675610510066449,
          0.02891219020418467,
          -0.6378898829804626,
          -0.8479768977153376,
          -0.41446797004090963,
          2.564737002195348,
          0.13364725564235924,
          -0.6973271644929159,
          -0.4527411973437712,
          -1.0237425044832327
         ]
        },
        {
         "marker": {
          "color": "rgba(50, 171, 96, 0.6)",
          "line": {
           "color": "rgba(50, 171, 96, 1.0)",
           "width": 1
          }
         },
         "name": "C",
         "orientation": "v",
         "text": "",
         "type": "bar",
         "x": [
          0,
          1,
          2,
          3,
          4,
          5,
          6,
          7,
          8,
          9,
          10,
          11,
          12,
          13,
          14,
          15,
          16,
          17,
          18,
          19,
          20,
          21,
          22,
          23,
          24,
          25,
          26,
          27,
          28,
          29,
          30,
          31,
          32,
          33,
          34,
          35,
          36,
          37,
          38,
          39,
          40,
          41,
          42,
          43,
          44,
          45,
          46,
          47,
          48,
          49,
          50,
          51,
          52,
          53,
          54,
          55,
          56,
          57,
          58,
          59,
          60,
          61,
          62,
          63,
          64,
          65,
          66,
          67,
          68,
          69,
          70,
          71,
          72,
          73,
          74,
          75,
          76,
          77,
          78,
          79,
          80,
          81,
          82,
          83,
          84,
          85,
          86,
          87,
          88,
          89,
          90,
          91,
          92,
          93,
          94,
          95,
          96,
          97,
          98,
          99
         ],
         "y": [
          1.4049242054570623,
          0.1547621834006053,
          0.6427377446553894,
          0.14176958512210536,
          0.6452742473253624,
          -1.1029515760211577,
          0.004636889360956238,
          -1.4867686806843832,
          1.5347473240196792,
          0.15995536296369012,
          0.31029386900621286,
          -1.549795310649013,
          0.4618488125890316,
          1.1201251521430575,
          0.4690802803947774,
          1.6432681308561372,
          0.008389568495615356,
          -0.01239621104004811,
          0.24131053638423328,
          -1.4103219963121891,
          1.2492004628011075,
          0.18955669364213737,
          0.8157350982642384,
          0.07675734152535334,
          -0.30505179092398904,
          -0.5078562267149158,
          -0.4179911704810528,
          0.5408776143582213,
          1.8372513308449336,
          -0.2501002967666486,
          0.1996512023214983,
          0.8691901065752327,
          0.4495597707471277,
          -2.801023933962865,
          -0.8238229519352759,
          0.04128400296717988,
          -0.6901701140888579,
          1.1916495037586128,
          -0.9295614751372788,
          -0.3231576891007971,
          -0.7040182646953186,
          1.9790020173304628,
          0.985673156309637,
          0.6222213952844792,
          -0.1690695981714178,
          1.3063478136705455,
          -0.5537556528688246,
          0.06401592476986435,
          -0.0008402575602733345,
          -0.5639327228761422,
          0.6608360365296245,
          0.2932081224527548,
          0.6024607368840637,
          0.6096916892907379,
          -0.8679904449478311,
          -0.12208563224647935,
          -1.132526357998367,
          -0.3968559663885494,
          0.5730640969363368,
          0.3827904667250426,
          -0.8200063265474274,
          -0.45552898404631365,
          0.08141056318368534,
          0.5051122350181024,
          -2.0250450421281125,
          0.014663387828365947,
          0.5667760720620605,
          0.2022882687234411,
          1.187387385536581,
          1.0189024742420798,
          -0.7298071957786113,
          0.05948535909929114,
          -0.5079171949110749,
          -0.7440860797142066,
          0.3268609879345079,
          1.4598066328833745,
          1.012654544868541,
          -0.6403355542078821,
          -0.08502020694767025,
          1.4850038202651428,
          0.08081454059719645,
          0.2627642445729847,
          -0.8642028436313269,
          -0.49831337549218374,
          -0.2800136845430416,
          0.040417289509109944,
          -1.144179761118651,
          1.807443770703011,
          0.3806342224989023,
          1.2287603745892146,
          0.8735308102245346,
          -0.8352237499555955,
          1.2123633864099363,
          0.5996684543315636,
          -1.2552732180664523,
          -0.33749497322565136,
          -0.3596282323596586,
          -0.36185868788703535,
          0.8894345743403884,
          -0.8404253713393572
         ]
        },
        {
         "marker": {
          "color": "rgba(128, 0, 128, 0.6)",
          "line": {
           "color": "rgba(128, 0, 128, 1.0)",
           "width": 1
          }
         },
         "name": "D",
         "orientation": "v",
         "text": "",
         "type": "bar",
         "x": [
          0,
          1,
          2,
          3,
          4,
          5,
          6,
          7,
          8,
          9,
          10,
          11,
          12,
          13,
          14,
          15,
          16,
          17,
          18,
          19,
          20,
          21,
          22,
          23,
          24,
          25,
          26,
          27,
          28,
          29,
          30,
          31,
          32,
          33,
          34,
          35,
          36,
          37,
          38,
          39,
          40,
          41,
          42,
          43,
          44,
          45,
          46,
          47,
          48,
          49,
          50,
          51,
          52,
          53,
          54,
          55,
          56,
          57,
          58,
          59,
          60,
          61,
          62,
          63,
          64,
          65,
          66,
          67,
          68,
          69,
          70,
          71,
          72,
          73,
          74,
          75,
          76,
          77,
          78,
          79,
          80,
          81,
          82,
          83,
          84,
          85,
          86,
          87,
          88,
          89,
          90,
          91,
          92,
          93,
          94,
          95,
          96,
          97,
          98,
          99
         ],
         "y": [
          0.6893397535031753,
          -0.634782770197293,
          -1.3651647455238947,
          0.5659178518454178,
          0.14146422009809448,
          0.20585568742835458,
          -0.323569057620845,
          0.24781586608556125,
          0.8208949499246398,
          1.3351105498079698,
          0.7989279478030678,
          -0.6468933836371301,
          0.39863035992129003,
          0.47095104852203645,
          0.2693234881822479,
          0.5149635994224956,
          0.540039861790419,
          -1.0560385502243055,
          1.420309355013242,
          -1.3271645563971741,
          0.02428842976034102,
          -1.1279761762651903,
          0.7425629834247508,
          0.12454951520226333,
          -0.8900025088723069,
          -1.0415293745293592,
          -1.032703442507068,
          0.08858842850306446,
          0.21673451116324674,
          1.0773810976744913,
          -0.8005023910645993,
          -0.8250117982933071,
          -0.875049873565815,
          0.12047064633653336,
          1.5518281540606154,
          -0.48950713262227397,
          1.158258147987117,
          0.11856343615655199,
          1.6570380736340358,
          2.127076507548714,
          -1.5071492237481672,
          1.3878540441851652,
          1.7967392604687493,
          -2.427511091257778,
          0.6638920325166114,
          -1.0243866636811134,
          -0.9977307088517342,
          1.1332705619033097,
          0.1787949995440567,
          1.8294622360138504,
          1.336117505283273,
          -0.9747308204149058,
          -0.21060626994445616,
          -1.6792949349020025,
          -1.6977453195697814,
          -1.486859332377673,
          0.4614839606236429,
          1.7033598737816464,
          0.3469648988028317,
          -0.6698873840875732,
          1.1598972264121405,
          0.6215349000091484,
          -1.2264167086553013,
          0.23438318536696298,
          1.0633039804419662,
          0.14760634745273152,
          1.2677451019504973,
          0.6535051309470021,
          -0.6851207475862858,
          -1.8591972638103833,
          -0.37396971449307076,
          -1.2208452591467445,
          0.18790967127387492,
          -0.6058533913589577,
          0.01130864506496672,
          -3.1060627472728273,
          -0.27687656929833604,
          0.34068588900417174,
          -0.04575381175627021,
          0.9099625078425607,
          -0.5794692122519473,
          -0.1965604817374992,
          -0.30034716768779113,
          -0.8263038743589,
          0.3559471996961158,
          -0.618517658506671,
          -0.5489259138475905,
          -1.192280245987357,
          -0.17765596325209876,
          -1.7786305738644168,
          0.6023764476041314,
          0.5177743526185985,
          1.625948563551156,
          0.732401806275617,
          0.5159331202280345,
          0.9004335661442393,
          0.12533332537820574,
          0.05145474359691806,
          -1.1901492124514266,
          1.3226574609114097
         ]
        }
       ],
       "layout": {
        "legend": {
         "bgcolor": "#F5F6F9",
         "font": {
          "color": "#4D5663"
         }
        },
        "paper_bgcolor": "#F5F6F9",
        "plot_bgcolor": "#F5F6F9",
        "template": {
         "data": {
          "bar": [
           {
            "error_x": {
             "color": "#2a3f5f"
            },
            "error_y": {
             "color": "#2a3f5f"
            },
            "marker": {
             "line": {
              "color": "#E5ECF6",
              "width": 0.5
             }
            },
            "type": "bar"
           }
          ],
          "barpolar": [
           {
            "marker": {
             "line": {
              "color": "#E5ECF6",
              "width": 0.5
             }
            },
            "type": "barpolar"
           }
          ],
          "carpet": [
           {
            "aaxis": {
             "endlinecolor": "#2a3f5f",
             "gridcolor": "white",
             "linecolor": "white",
             "minorgridcolor": "white",
             "startlinecolor": "#2a3f5f"
            },
            "baxis": {
             "endlinecolor": "#2a3f5f",
             "gridcolor": "white",
             "linecolor": "white",
             "minorgridcolor": "white",
             "startlinecolor": "#2a3f5f"
            },
            "type": "carpet"
           }
          ],
          "choropleth": [
           {
            "colorbar": {
             "outlinewidth": 0,
             "ticks": ""
            },
            "type": "choropleth"
           }
          ],
          "contour": [
           {
            "colorbar": {
             "outlinewidth": 0,
             "ticks": ""
            },
            "colorscale": [
             [
              0,
              "#0d0887"
             ],
             [
              0.1111111111111111,
              "#46039f"
             ],
             [
              0.2222222222222222,
              "#7201a8"
             ],
             [
              0.3333333333333333,
              "#9c179e"
             ],
             [
              0.4444444444444444,
              "#bd3786"
             ],
             [
              0.5555555555555556,
              "#d8576b"
             ],
             [
              0.6666666666666666,
              "#ed7953"
             ],
             [
              0.7777777777777778,
              "#fb9f3a"
             ],
             [
              0.8888888888888888,
              "#fdca26"
             ],
             [
              1,
              "#f0f921"
             ]
            ],
            "type": "contour"
           }
          ],
          "contourcarpet": [
           {
            "colorbar": {
             "outlinewidth": 0,
             "ticks": ""
            },
            "type": "contourcarpet"
           }
          ],
          "heatmap": [
           {
            "colorbar": {
             "outlinewidth": 0,
             "ticks": ""
            },
            "colorscale": [
             [
              0,
              "#0d0887"
             ],
             [
              0.1111111111111111,
              "#46039f"
             ],
             [
              0.2222222222222222,
              "#7201a8"
             ],
             [
              0.3333333333333333,
              "#9c179e"
             ],
             [
              0.4444444444444444,
              "#bd3786"
             ],
             [
              0.5555555555555556,
              "#d8576b"
             ],
             [
              0.6666666666666666,
              "#ed7953"
             ],
             [
              0.7777777777777778,
              "#fb9f3a"
             ],
             [
              0.8888888888888888,
              "#fdca26"
             ],
             [
              1,
              "#f0f921"
             ]
            ],
            "type": "heatmap"
           }
          ],
          "heatmapgl": [
           {
            "colorbar": {
             "outlinewidth": 0,
             "ticks": ""
            },
            "colorscale": [
             [
              0,
              "#0d0887"
             ],
             [
              0.1111111111111111,
              "#46039f"
             ],
             [
              0.2222222222222222,
              "#7201a8"
             ],
             [
              0.3333333333333333,
              "#9c179e"
             ],
             [
              0.4444444444444444,
              "#bd3786"
             ],
             [
              0.5555555555555556,
              "#d8576b"
             ],
             [
              0.6666666666666666,
              "#ed7953"
             ],
             [
              0.7777777777777778,
              "#fb9f3a"
             ],
             [
              0.8888888888888888,
              "#fdca26"
             ],
             [
              1,
              "#f0f921"
             ]
            ],
            "type": "heatmapgl"
           }
          ],
          "histogram": [
           {
            "marker": {
             "colorbar": {
              "outlinewidth": 0,
              "ticks": ""
             }
            },
            "type": "histogram"
           }
          ],
          "histogram2d": [
           {
            "colorbar": {
             "outlinewidth": 0,
             "ticks": ""
            },
            "colorscale": [
             [
              0,
              "#0d0887"
             ],
             [
              0.1111111111111111,
              "#46039f"
             ],
             [
              0.2222222222222222,
              "#7201a8"
             ],
             [
              0.3333333333333333,
              "#9c179e"
             ],
             [
              0.4444444444444444,
              "#bd3786"
             ],
             [
              0.5555555555555556,
              "#d8576b"
             ],
             [
              0.6666666666666666,
              "#ed7953"
             ],
             [
              0.7777777777777778,
              "#fb9f3a"
             ],
             [
              0.8888888888888888,
              "#fdca26"
             ],
             [
              1,
              "#f0f921"
             ]
            ],
            "type": "histogram2d"
           }
          ],
          "histogram2dcontour": [
           {
            "colorbar": {
             "outlinewidth": 0,
             "ticks": ""
            },
            "colorscale": [
             [
              0,
              "#0d0887"
             ],
             [
              0.1111111111111111,
              "#46039f"
             ],
             [
              0.2222222222222222,
              "#7201a8"
             ],
             [
              0.3333333333333333,
              "#9c179e"
             ],
             [
              0.4444444444444444,
              "#bd3786"
             ],
             [
              0.5555555555555556,
              "#d8576b"
             ],
             [
              0.6666666666666666,
              "#ed7953"
             ],
             [
              0.7777777777777778,
              "#fb9f3a"
             ],
             [
              0.8888888888888888,
              "#fdca26"
             ],
             [
              1,
              "#f0f921"
             ]
            ],
            "type": "histogram2dcontour"
           }
          ],
          "mesh3d": [
           {
            "colorbar": {
             "outlinewidth": 0,
             "ticks": ""
            },
            "type": "mesh3d"
           }
          ],
          "parcoords": [
           {
            "line": {
             "colorbar": {
              "outlinewidth": 0,
              "ticks": ""
             }
            },
            "type": "parcoords"
           }
          ],
          "pie": [
           {
            "automargin": true,
            "type": "pie"
           }
          ],
          "scatter": [
           {
            "marker": {
             "colorbar": {
              "outlinewidth": 0,
              "ticks": ""
             }
            },
            "type": "scatter"
           }
          ],
          "scatter3d": [
           {
            "line": {
             "colorbar": {
              "outlinewidth": 0,
              "ticks": ""
             }
            },
            "marker": {
             "colorbar": {
              "outlinewidth": 0,
              "ticks": ""
             }
            },
            "type": "scatter3d"
           }
          ],
          "scattercarpet": [
           {
            "marker": {
             "colorbar": {
              "outlinewidth": 0,
              "ticks": ""
             }
            },
            "type": "scattercarpet"
           }
          ],
          "scattergeo": [
           {
            "marker": {
             "colorbar": {
              "outlinewidth": 0,
              "ticks": ""
             }
            },
            "type": "scattergeo"
           }
          ],
          "scattergl": [
           {
            "marker": {
             "colorbar": {
              "outlinewidth": 0,
              "ticks": ""
             }
            },
            "type": "scattergl"
           }
          ],
          "scattermapbox": [
           {
            "marker": {
             "colorbar": {
              "outlinewidth": 0,
              "ticks": ""
             }
            },
            "type": "scattermapbox"
           }
          ],
          "scatterpolar": [
           {
            "marker": {
             "colorbar": {
              "outlinewidth": 0,
              "ticks": ""
             }
            },
            "type": "scatterpolar"
           }
          ],
          "scatterpolargl": [
           {
            "marker": {
             "colorbar": {
              "outlinewidth": 0,
              "ticks": ""
             }
            },
            "type": "scatterpolargl"
           }
          ],
          "scatterternary": [
           {
            "marker": {
             "colorbar": {
              "outlinewidth": 0,
              "ticks": ""
             }
            },
            "type": "scatterternary"
           }
          ],
          "surface": [
           {
            "colorbar": {
             "outlinewidth": 0,
             "ticks": ""
            },
            "colorscale": [
             [
              0,
              "#0d0887"
             ],
             [
              0.1111111111111111,
              "#46039f"
             ],
             [
              0.2222222222222222,
              "#7201a8"
             ],
             [
              0.3333333333333333,
              "#9c179e"
             ],
             [
              0.4444444444444444,
              "#bd3786"
             ],
             [
              0.5555555555555556,
              "#d8576b"
             ],
             [
              0.6666666666666666,
              "#ed7953"
             ],
             [
              0.7777777777777778,
              "#fb9f3a"
             ],
             [
              0.8888888888888888,
              "#fdca26"
             ],
             [
              1,
              "#f0f921"
             ]
            ],
            "type": "surface"
           }
          ],
          "table": [
           {
            "cells": {
             "fill": {
              "color": "#EBF0F8"
             },
             "line": {
              "color": "white"
             }
            },
            "header": {
             "fill": {
              "color": "#C8D4E3"
             },
             "line": {
              "color": "white"
             }
            },
            "type": "table"
           }
          ]
         },
         "layout": {
          "annotationdefaults": {
           "arrowcolor": "#2a3f5f",
           "arrowhead": 0,
           "arrowwidth": 1
          },
          "coloraxis": {
           "colorbar": {
            "outlinewidth": 0,
            "ticks": ""
           }
          },
          "colorscale": {
           "diverging": [
            [
             0,
             "#8e0152"
            ],
            [
             0.1,
             "#c51b7d"
            ],
            [
             0.2,
             "#de77ae"
            ],
            [
             0.3,
             "#f1b6da"
            ],
            [
             0.4,
             "#fde0ef"
            ],
            [
             0.5,
             "#f7f7f7"
            ],
            [
             0.6,
             "#e6f5d0"
            ],
            [
             0.7,
             "#b8e186"
            ],
            [
             0.8,
             "#7fbc41"
            ],
            [
             0.9,
             "#4d9221"
            ],
            [
             1,
             "#276419"
            ]
           ],
           "sequential": [
            [
             0,
             "#0d0887"
            ],
            [
             0.1111111111111111,
             "#46039f"
            ],
            [
             0.2222222222222222,
             "#7201a8"
            ],
            [
             0.3333333333333333,
             "#9c179e"
            ],
            [
             0.4444444444444444,
             "#bd3786"
            ],
            [
             0.5555555555555556,
             "#d8576b"
            ],
            [
             0.6666666666666666,
             "#ed7953"
            ],
            [
             0.7777777777777778,
             "#fb9f3a"
            ],
            [
             0.8888888888888888,
             "#fdca26"
            ],
            [
             1,
             "#f0f921"
            ]
           ],
           "sequentialminus": [
            [
             0,
             "#0d0887"
            ],
            [
             0.1111111111111111,
             "#46039f"
            ],
            [
             0.2222222222222222,
             "#7201a8"
            ],
            [
             0.3333333333333333,
             "#9c179e"
            ],
            [
             0.4444444444444444,
             "#bd3786"
            ],
            [
             0.5555555555555556,
             "#d8576b"
            ],
            [
             0.6666666666666666,
             "#ed7953"
            ],
            [
             0.7777777777777778,
             "#fb9f3a"
            ],
            [
             0.8888888888888888,
             "#fdca26"
            ],
            [
             1,
             "#f0f921"
            ]
           ]
          },
          "colorway": [
           "#636efa",
           "#EF553B",
           "#00cc96",
           "#ab63fa",
           "#FFA15A",
           "#19d3f3",
           "#FF6692",
           "#B6E880",
           "#FF97FF",
           "#FECB52"
          ],
          "font": {
           "color": "#2a3f5f"
          },
          "geo": {
           "bgcolor": "white",
           "lakecolor": "white",
           "landcolor": "#E5ECF6",
           "showlakes": true,
           "showland": true,
           "subunitcolor": "white"
          },
          "hoverlabel": {
           "align": "left"
          },
          "hovermode": "closest",
          "mapbox": {
           "style": "light"
          },
          "paper_bgcolor": "white",
          "plot_bgcolor": "#E5ECF6",
          "polar": {
           "angularaxis": {
            "gridcolor": "white",
            "linecolor": "white",
            "ticks": ""
           },
           "bgcolor": "#E5ECF6",
           "radialaxis": {
            "gridcolor": "white",
            "linecolor": "white",
            "ticks": ""
           }
          },
          "scene": {
           "xaxis": {
            "backgroundcolor": "#E5ECF6",
            "gridcolor": "white",
            "gridwidth": 2,
            "linecolor": "white",
            "showbackground": true,
            "ticks": "",
            "zerolinecolor": "white"
           },
           "yaxis": {
            "backgroundcolor": "#E5ECF6",
            "gridcolor": "white",
            "gridwidth": 2,
            "linecolor": "white",
            "showbackground": true,
            "ticks": "",
            "zerolinecolor": "white"
           },
           "zaxis": {
            "backgroundcolor": "#E5ECF6",
            "gridcolor": "white",
            "gridwidth": 2,
            "linecolor": "white",
            "showbackground": true,
            "ticks": "",
            "zerolinecolor": "white"
           }
          },
          "shapedefaults": {
           "line": {
            "color": "#2a3f5f"
           }
          },
          "ternary": {
           "aaxis": {
            "gridcolor": "white",
            "linecolor": "white",
            "ticks": ""
           },
           "baxis": {
            "gridcolor": "white",
            "linecolor": "white",
            "ticks": ""
           },
           "bgcolor": "#E5ECF6",
           "caxis": {
            "gridcolor": "white",
            "linecolor": "white",
            "ticks": ""
           }
          },
          "title": {
           "x": 0.05
          },
          "xaxis": {
           "automargin": true,
           "gridcolor": "white",
           "linecolor": "white",
           "ticks": "",
           "title": {
            "standoff": 15
           },
           "zerolinecolor": "white",
           "zerolinewidth": 2
          },
          "yaxis": {
           "automargin": true,
           "gridcolor": "white",
           "linecolor": "white",
           "ticks": "",
           "title": {
            "standoff": 15
           },
           "zerolinecolor": "white",
           "zerolinewidth": 2
          }
         }
        },
        "title": {
         "font": {
          "color": "#4D5663"
         }
        },
        "xaxis": {
         "gridcolor": "#E1E5ED",
         "showgrid": true,
         "tickfont": {
          "color": "#4D5663"
         },
         "title": {
          "font": {
           "color": "#4D5663"
          },
          "text": ""
         },
         "zerolinecolor": "#E1E5ED"
        },
        "yaxis": {
         "gridcolor": "#E1E5ED",
         "showgrid": true,
         "tickfont": {
          "color": "#4D5663"
         },
         "title": {
          "font": {
           "color": "#4D5663"
          },
          "text": ""
         },
         "zerolinecolor": "#E1E5ED"
        }
       }
      },
      "text/html": [
       "<div>\n",
       "        \n",
       "        \n",
       "            <div id=\"354e9969-532a-4765-b69f-9f1949568acc\" class=\"plotly-graph-div\" style=\"height:525px; width:100%;\"></div>\n",
       "            <script type=\"text/javascript\">\n",
       "                require([\"plotly\"], function(Plotly) {\n",
       "                    window.PLOTLYENV=window.PLOTLYENV || {};\n",
       "                    window.PLOTLYENV.BASE_URL='https://plot.ly';\n",
       "                    \n",
       "                if (document.getElementById(\"354e9969-532a-4765-b69f-9f1949568acc\")) {\n",
       "                    Plotly.newPlot(\n",
       "                        '354e9969-532a-4765-b69f-9f1949568acc',\n",
       "                        [{\"marker\": {\"color\": \"rgba(255, 153, 51, 0.6)\", \"line\": {\"color\": \"rgba(255, 153, 51, 1.0)\", \"width\": 1}}, \"name\": \"A\", \"orientation\": \"v\", \"text\": \"\", \"type\": \"bar\", \"x\": [0, 1, 2, 3, 4, 5, 6, 7, 8, 9, 10, 11, 12, 13, 14, 15, 16, 17, 18, 19, 20, 21, 22, 23, 24, 25, 26, 27, 28, 29, 30, 31, 32, 33, 34, 35, 36, 37, 38, 39, 40, 41, 42, 43, 44, 45, 46, 47, 48, 49, 50, 51, 52, 53, 54, 55, 56, 57, 58, 59, 60, 61, 62, 63, 64, 65, 66, 67, 68, 69, 70, 71, 72, 73, 74, 75, 76, 77, 78, 79, 80, 81, 82, 83, 84, 85, 86, 87, 88, 89, 90, 91, 92, 93, 94, 95, 96, 97, 98, 99], \"y\": [0.9273501686452831, -0.5336819713432426, -0.4719061159137588, -0.9892039772850318, 1.745699378229749, -0.26335462861925224, 0.7908256324744336, -0.018916685629151987, 1.4362821330775597, -0.32503355428080577, 0.153676829720251, 1.1318065272893738, 0.08839548036838218, -0.13371513443907548, 0.04554308700723792, -0.05877157631492504, 0.9319619775407781, -0.892681343719326, -0.23869875455176157, -0.8071351942969122, -0.8460637342785593, 0.5435124105045299, 1.8829768691003779, 0.26018907025834476, -0.9630329187123825, 0.5924332239870846, 0.05224067716215473, -0.22741409274250976, 0.12187361251470992, 0.195255432340129, -3.1675899599066684, 0.4368530139763862, 1.9289359381994984, 0.8056938127943846, -0.37292655824780185, 0.6512746095656167, -0.9938636126479036, 0.7862381402545336, -1.1287854744382666, 0.6094151867668576, -1.3345012926132753, -0.02281986102852559, 2.1763311981289886, -0.09963573401996252, 0.8464995922182782, -1.2042004296695825, 2.1203247152475537, 0.36791612384551403, -0.23999914272661843, 0.024080904242700003, 0.03482469604660009, 1.8265286417264184, 0.49707787161574435, -0.5323481640582688, -0.5904516820742872, -0.31429352820806933, -0.20083676978802706, -0.24576824746640213, 0.4490649374540152, 0.009106977618565758, -0.2601190686513889, -0.4885809019711191, -0.7065650259075594, -0.5655889024607965, 1.1242265905343243, -1.289422567292631, -0.11079106339526591, 0.025175648703488762, -1.0654028367316437, 0.5876369583983077, -1.2193627328117418, 0.27503948246745363, 0.20062669512915307, -0.712497095962588, -0.5936065482919237, 0.3162171738816598, -2.0801283752733593, 0.05481389727834878, 0.29834235948809595, -0.25193217959399716, -0.18815985965566256, -1.0993840202389924, 1.3720808925772439, -1.3901447430249643, 0.2952706310041869, -0.14215402384411635, 0.2557152281650664, 0.05237368863656635, 0.1665134157650504, 0.32752167656534614, -0.02638737238095419, -0.07622496454221706, 1.5158939538061444, 1.2842668521004519, 1.1900091488359847, 0.11950465514627728, 0.20792715338952203, -0.7069618004958248, -1.0060679633961014, 0.7402869780165224]}, {\"marker\": {\"color\": \"rgba(55, 128, 191, 0.6)\", \"line\": {\"color\": \"rgba(55, 128, 191, 1.0)\", \"width\": 1}}, \"name\": \"B\", \"orientation\": \"v\", \"text\": \"\", \"type\": \"bar\", \"x\": [0, 1, 2, 3, 4, 5, 6, 7, 8, 9, 10, 11, 12, 13, 14, 15, 16, 17, 18, 19, 20, 21, 22, 23, 24, 25, 26, 27, 28, 29, 30, 31, 32, 33, 34, 35, 36, 37, 38, 39, 40, 41, 42, 43, 44, 45, 46, 47, 48, 49, 50, 51, 52, 53, 54, 55, 56, 57, 58, 59, 60, 61, 62, 63, 64, 65, 66, 67, 68, 69, 70, 71, 72, 73, 74, 75, 76, 77, 78, 79, 80, 81, 82, 83, 84, 85, 86, 87, 88, 89, 90, 91, 92, 93, 94, 95, 96, 97, 98, 99], \"y\": [-1.4475834439088642, 1.936342110293859, 1.5703019396317082, -1.141171509843668, 0.7086983057483757, -0.21548691100100484, -0.4935357265485408, -0.40008675780020697, 0.24466237321409023, -0.5575940599375178, 0.7174291311785046, 0.6066901397467638, 0.7183279064527168, 0.9037822643675042, 0.7922052580156334, 0.33548132017685217, -0.20261143372834065, 0.7973085569924002, 1.0992036024784997, -0.49476558867100884, -0.33780792682176386, -1.338637353195344, 1.1385637433257803, -0.20322491634641116, 0.6844714764071702, -0.16617105280152625, 1.3721896447655835, -0.432825142025372, -0.6979376497189357, -1.827219084945071, -0.08870604821904153, -0.7593429321290202, -1.1452326196090716, -0.6591873413644148, -0.024453262800700207, 2.8961064396206346, 1.363739087484403, -0.020299241643240123, -0.5503581956789931, 0.202981852523745, -0.04318579863195509, 1.3640507313160912, -1.0280179913191263, 0.21129179119723718, 0.10297146234534578, -1.2433243782994525, -0.021709600661412465, 1.1984399083378903, -1.3599613321180355, 1.3891357969076896, 0.07820929637177787, -0.6378218867551335, -1.0039159825678918, -2.126997043628774, 0.06341984518776161, 0.32731593946564225, 2.0722346896488597, -1.8756884771290674, -1.8738446512520954, -0.1688759685449708, 0.345763386677497, -1.4914130382877966, -1.4107957310164405, -0.4184816338943611, 1.1964942739671964, -0.42009278182817616, 0.10668530708683387, -0.7525150643124401, -0.010377553383409528, -0.2561262290407313, -0.5193080456284674, 0.2376140021029851, 0.22650863712631936, -0.023683051465336405, -0.10574186404763539, -1.3388266088658878, 1.8649371415743328, -0.0011472808149724546, -0.5809929109198254, 0.7474919614838859, -0.816872565749726, 1.0410209931608316, -0.39785709352618437, -1.0815621564988975, 1.176812583300365, 0.9895727666875234, -0.756797865773887, -0.3816828597434053, 0.42707439730370905, -0.1562011388869837, 0.9675610510066449, 0.02891219020418467, -0.6378898829804626, -0.8479768977153376, -0.41446797004090963, 2.564737002195348, 0.13364725564235924, -0.6973271644929159, -0.4527411973437712, -1.0237425044832327]}, {\"marker\": {\"color\": \"rgba(50, 171, 96, 0.6)\", \"line\": {\"color\": \"rgba(50, 171, 96, 1.0)\", \"width\": 1}}, \"name\": \"C\", \"orientation\": \"v\", \"text\": \"\", \"type\": \"bar\", \"x\": [0, 1, 2, 3, 4, 5, 6, 7, 8, 9, 10, 11, 12, 13, 14, 15, 16, 17, 18, 19, 20, 21, 22, 23, 24, 25, 26, 27, 28, 29, 30, 31, 32, 33, 34, 35, 36, 37, 38, 39, 40, 41, 42, 43, 44, 45, 46, 47, 48, 49, 50, 51, 52, 53, 54, 55, 56, 57, 58, 59, 60, 61, 62, 63, 64, 65, 66, 67, 68, 69, 70, 71, 72, 73, 74, 75, 76, 77, 78, 79, 80, 81, 82, 83, 84, 85, 86, 87, 88, 89, 90, 91, 92, 93, 94, 95, 96, 97, 98, 99], \"y\": [1.4049242054570623, 0.1547621834006053, 0.6427377446553894, 0.14176958512210536, 0.6452742473253624, -1.1029515760211577, 0.004636889360956238, -1.4867686806843832, 1.5347473240196792, 0.15995536296369012, 0.31029386900621286, -1.549795310649013, 0.4618488125890316, 1.1201251521430575, 0.4690802803947774, 1.6432681308561372, 0.008389568495615356, -0.01239621104004811, 0.24131053638423328, -1.4103219963121891, 1.2492004628011075, 0.18955669364213737, 0.8157350982642384, 0.07675734152535334, -0.30505179092398904, -0.5078562267149158, -0.4179911704810528, 0.5408776143582213, 1.8372513308449336, -0.2501002967666486, 0.1996512023214983, 0.8691901065752327, 0.4495597707471277, -2.801023933962865, -0.8238229519352759, 0.04128400296717988, -0.6901701140888579, 1.1916495037586128, -0.9295614751372788, -0.3231576891007971, -0.7040182646953186, 1.9790020173304628, 0.985673156309637, 0.6222213952844792, -0.1690695981714178, 1.3063478136705455, -0.5537556528688246, 0.06401592476986435, -0.0008402575602733345, -0.5639327228761422, 0.6608360365296245, 0.2932081224527548, 0.6024607368840637, 0.6096916892907379, -0.8679904449478311, -0.12208563224647935, -1.132526357998367, -0.3968559663885494, 0.5730640969363368, 0.3827904667250426, -0.8200063265474274, -0.45552898404631365, 0.08141056318368534, 0.5051122350181024, -2.0250450421281125, 0.014663387828365947, 0.5667760720620605, 0.2022882687234411, 1.187387385536581, 1.0189024742420798, -0.7298071957786113, 0.05948535909929114, -0.5079171949110749, -0.7440860797142066, 0.3268609879345079, 1.4598066328833745, 1.012654544868541, -0.6403355542078821, -0.08502020694767025, 1.4850038202651428, 0.08081454059719645, 0.2627642445729847, -0.8642028436313269, -0.49831337549218374, -0.2800136845430416, 0.040417289509109944, -1.144179761118651, 1.807443770703011, 0.3806342224989023, 1.2287603745892146, 0.8735308102245346, -0.8352237499555955, 1.2123633864099363, 0.5996684543315636, -1.2552732180664523, -0.33749497322565136, -0.3596282323596586, -0.36185868788703535, 0.8894345743403884, -0.8404253713393572]}, {\"marker\": {\"color\": \"rgba(128, 0, 128, 0.6)\", \"line\": {\"color\": \"rgba(128, 0, 128, 1.0)\", \"width\": 1}}, \"name\": \"D\", \"orientation\": \"v\", \"text\": \"\", \"type\": \"bar\", \"x\": [0, 1, 2, 3, 4, 5, 6, 7, 8, 9, 10, 11, 12, 13, 14, 15, 16, 17, 18, 19, 20, 21, 22, 23, 24, 25, 26, 27, 28, 29, 30, 31, 32, 33, 34, 35, 36, 37, 38, 39, 40, 41, 42, 43, 44, 45, 46, 47, 48, 49, 50, 51, 52, 53, 54, 55, 56, 57, 58, 59, 60, 61, 62, 63, 64, 65, 66, 67, 68, 69, 70, 71, 72, 73, 74, 75, 76, 77, 78, 79, 80, 81, 82, 83, 84, 85, 86, 87, 88, 89, 90, 91, 92, 93, 94, 95, 96, 97, 98, 99], \"y\": [0.6893397535031753, -0.634782770197293, -1.3651647455238947, 0.5659178518454178, 0.14146422009809448, 0.20585568742835458, -0.323569057620845, 0.24781586608556125, 0.8208949499246398, 1.3351105498079698, 0.7989279478030678, -0.6468933836371301, 0.39863035992129003, 0.47095104852203645, 0.2693234881822479, 0.5149635994224956, 0.540039861790419, -1.0560385502243055, 1.420309355013242, -1.3271645563971741, 0.02428842976034102, -1.1279761762651903, 0.7425629834247508, 0.12454951520226333, -0.8900025088723069, -1.0415293745293592, -1.032703442507068, 0.08858842850306446, 0.21673451116324674, 1.0773810976744913, -0.8005023910645993, -0.8250117982933071, -0.875049873565815, 0.12047064633653336, 1.5518281540606154, -0.48950713262227397, 1.158258147987117, 0.11856343615655199, 1.6570380736340358, 2.127076507548714, -1.5071492237481672, 1.3878540441851652, 1.7967392604687493, -2.427511091257778, 0.6638920325166114, -1.0243866636811134, -0.9977307088517342, 1.1332705619033097, 0.1787949995440567, 1.8294622360138504, 1.336117505283273, -0.9747308204149058, -0.21060626994445616, -1.6792949349020025, -1.6977453195697814, -1.486859332377673, 0.4614839606236429, 1.7033598737816464, 0.3469648988028317, -0.6698873840875732, 1.1598972264121405, 0.6215349000091484, -1.2264167086553013, 0.23438318536696298, 1.0633039804419662, 0.14760634745273152, 1.2677451019504973, 0.6535051309470021, -0.6851207475862858, -1.8591972638103833, -0.37396971449307076, -1.2208452591467445, 0.18790967127387492, -0.6058533913589577, 0.01130864506496672, -3.1060627472728273, -0.27687656929833604, 0.34068588900417174, -0.04575381175627021, 0.9099625078425607, -0.5794692122519473, -0.1965604817374992, -0.30034716768779113, -0.8263038743589, 0.3559471996961158, -0.618517658506671, -0.5489259138475905, -1.192280245987357, -0.17765596325209876, -1.7786305738644168, 0.6023764476041314, 0.5177743526185985, 1.625948563551156, 0.732401806275617, 0.5159331202280345, 0.9004335661442393, 0.12533332537820574, 0.05145474359691806, -1.1901492124514266, 1.3226574609114097]}],\n",
       "                        {\"legend\": {\"bgcolor\": \"#F5F6F9\", \"font\": {\"color\": \"#4D5663\"}}, \"paper_bgcolor\": \"#F5F6F9\", \"plot_bgcolor\": \"#F5F6F9\", \"template\": {\"data\": {\"bar\": [{\"error_x\": {\"color\": \"#2a3f5f\"}, \"error_y\": {\"color\": \"#2a3f5f\"}, \"marker\": {\"line\": {\"color\": \"#E5ECF6\", \"width\": 0.5}}, \"type\": \"bar\"}], \"barpolar\": [{\"marker\": {\"line\": {\"color\": \"#E5ECF6\", \"width\": 0.5}}, \"type\": \"barpolar\"}], \"carpet\": [{\"aaxis\": {\"endlinecolor\": \"#2a3f5f\", \"gridcolor\": \"white\", \"linecolor\": \"white\", \"minorgridcolor\": \"white\", \"startlinecolor\": \"#2a3f5f\"}, \"baxis\": {\"endlinecolor\": \"#2a3f5f\", \"gridcolor\": \"white\", \"linecolor\": \"white\", \"minorgridcolor\": \"white\", \"startlinecolor\": \"#2a3f5f\"}, \"type\": \"carpet\"}], \"choropleth\": [{\"colorbar\": {\"outlinewidth\": 0, \"ticks\": \"\"}, \"type\": \"choropleth\"}], \"contour\": [{\"colorbar\": {\"outlinewidth\": 0, \"ticks\": \"\"}, \"colorscale\": [[0.0, \"#0d0887\"], [0.1111111111111111, \"#46039f\"], [0.2222222222222222, \"#7201a8\"], [0.3333333333333333, \"#9c179e\"], [0.4444444444444444, \"#bd3786\"], [0.5555555555555556, \"#d8576b\"], [0.6666666666666666, \"#ed7953\"], [0.7777777777777778, \"#fb9f3a\"], [0.8888888888888888, \"#fdca26\"], [1.0, \"#f0f921\"]], \"type\": \"contour\"}], \"contourcarpet\": [{\"colorbar\": {\"outlinewidth\": 0, \"ticks\": \"\"}, \"type\": \"contourcarpet\"}], \"heatmap\": [{\"colorbar\": {\"outlinewidth\": 0, \"ticks\": \"\"}, \"colorscale\": [[0.0, \"#0d0887\"], [0.1111111111111111, \"#46039f\"], [0.2222222222222222, \"#7201a8\"], [0.3333333333333333, \"#9c179e\"], [0.4444444444444444, \"#bd3786\"], [0.5555555555555556, \"#d8576b\"], [0.6666666666666666, \"#ed7953\"], [0.7777777777777778, \"#fb9f3a\"], [0.8888888888888888, \"#fdca26\"], [1.0, \"#f0f921\"]], \"type\": \"heatmap\"}], \"heatmapgl\": [{\"colorbar\": {\"outlinewidth\": 0, \"ticks\": \"\"}, \"colorscale\": [[0.0, \"#0d0887\"], [0.1111111111111111, \"#46039f\"], [0.2222222222222222, \"#7201a8\"], [0.3333333333333333, \"#9c179e\"], [0.4444444444444444, \"#bd3786\"], [0.5555555555555556, \"#d8576b\"], [0.6666666666666666, \"#ed7953\"], [0.7777777777777778, \"#fb9f3a\"], [0.8888888888888888, \"#fdca26\"], [1.0, \"#f0f921\"]], \"type\": \"heatmapgl\"}], \"histogram\": [{\"marker\": {\"colorbar\": {\"outlinewidth\": 0, \"ticks\": \"\"}}, \"type\": \"histogram\"}], \"histogram2d\": [{\"colorbar\": {\"outlinewidth\": 0, \"ticks\": \"\"}, \"colorscale\": [[0.0, \"#0d0887\"], [0.1111111111111111, \"#46039f\"], [0.2222222222222222, \"#7201a8\"], [0.3333333333333333, \"#9c179e\"], [0.4444444444444444, \"#bd3786\"], [0.5555555555555556, \"#d8576b\"], [0.6666666666666666, \"#ed7953\"], [0.7777777777777778, \"#fb9f3a\"], [0.8888888888888888, \"#fdca26\"], [1.0, \"#f0f921\"]], \"type\": \"histogram2d\"}], \"histogram2dcontour\": [{\"colorbar\": {\"outlinewidth\": 0, \"ticks\": \"\"}, \"colorscale\": [[0.0, \"#0d0887\"], [0.1111111111111111, \"#46039f\"], [0.2222222222222222, \"#7201a8\"], [0.3333333333333333, \"#9c179e\"], [0.4444444444444444, \"#bd3786\"], [0.5555555555555556, \"#d8576b\"], [0.6666666666666666, \"#ed7953\"], [0.7777777777777778, \"#fb9f3a\"], [0.8888888888888888, \"#fdca26\"], [1.0, \"#f0f921\"]], \"type\": \"histogram2dcontour\"}], \"mesh3d\": [{\"colorbar\": {\"outlinewidth\": 0, \"ticks\": \"\"}, \"type\": \"mesh3d\"}], \"parcoords\": [{\"line\": {\"colorbar\": {\"outlinewidth\": 0, \"ticks\": \"\"}}, \"type\": \"parcoords\"}], \"pie\": [{\"automargin\": true, \"type\": \"pie\"}], \"scatter\": [{\"marker\": {\"colorbar\": {\"outlinewidth\": 0, \"ticks\": \"\"}}, \"type\": \"scatter\"}], \"scatter3d\": [{\"line\": {\"colorbar\": {\"outlinewidth\": 0, \"ticks\": \"\"}}, \"marker\": {\"colorbar\": {\"outlinewidth\": 0, \"ticks\": \"\"}}, \"type\": \"scatter3d\"}], \"scattercarpet\": [{\"marker\": {\"colorbar\": {\"outlinewidth\": 0, \"ticks\": \"\"}}, \"type\": \"scattercarpet\"}], \"scattergeo\": [{\"marker\": {\"colorbar\": {\"outlinewidth\": 0, \"ticks\": \"\"}}, \"type\": \"scattergeo\"}], \"scattergl\": [{\"marker\": {\"colorbar\": {\"outlinewidth\": 0, \"ticks\": \"\"}}, \"type\": \"scattergl\"}], \"scattermapbox\": [{\"marker\": {\"colorbar\": {\"outlinewidth\": 0, \"ticks\": \"\"}}, \"type\": \"scattermapbox\"}], \"scatterpolar\": [{\"marker\": {\"colorbar\": {\"outlinewidth\": 0, \"ticks\": \"\"}}, \"type\": \"scatterpolar\"}], \"scatterpolargl\": [{\"marker\": {\"colorbar\": {\"outlinewidth\": 0, \"ticks\": \"\"}}, \"type\": \"scatterpolargl\"}], \"scatterternary\": [{\"marker\": {\"colorbar\": {\"outlinewidth\": 0, \"ticks\": \"\"}}, \"type\": \"scatterternary\"}], \"surface\": [{\"colorbar\": {\"outlinewidth\": 0, \"ticks\": \"\"}, \"colorscale\": [[0.0, \"#0d0887\"], [0.1111111111111111, \"#46039f\"], [0.2222222222222222, \"#7201a8\"], [0.3333333333333333, \"#9c179e\"], [0.4444444444444444, \"#bd3786\"], [0.5555555555555556, \"#d8576b\"], [0.6666666666666666, \"#ed7953\"], [0.7777777777777778, \"#fb9f3a\"], [0.8888888888888888, \"#fdca26\"], [1.0, \"#f0f921\"]], \"type\": \"surface\"}], \"table\": [{\"cells\": {\"fill\": {\"color\": \"#EBF0F8\"}, \"line\": {\"color\": \"white\"}}, \"header\": {\"fill\": {\"color\": \"#C8D4E3\"}, \"line\": {\"color\": \"white\"}}, \"type\": \"table\"}]}, \"layout\": {\"annotationdefaults\": {\"arrowcolor\": \"#2a3f5f\", \"arrowhead\": 0, \"arrowwidth\": 1}, \"coloraxis\": {\"colorbar\": {\"outlinewidth\": 0, \"ticks\": \"\"}}, \"colorscale\": {\"diverging\": [[0, \"#8e0152\"], [0.1, \"#c51b7d\"], [0.2, \"#de77ae\"], [0.3, \"#f1b6da\"], [0.4, \"#fde0ef\"], [0.5, \"#f7f7f7\"], [0.6, \"#e6f5d0\"], [0.7, \"#b8e186\"], [0.8, \"#7fbc41\"], [0.9, \"#4d9221\"], [1, \"#276419\"]], \"sequential\": [[0.0, \"#0d0887\"], [0.1111111111111111, \"#46039f\"], [0.2222222222222222, \"#7201a8\"], [0.3333333333333333, \"#9c179e\"], [0.4444444444444444, \"#bd3786\"], [0.5555555555555556, \"#d8576b\"], [0.6666666666666666, \"#ed7953\"], [0.7777777777777778, \"#fb9f3a\"], [0.8888888888888888, \"#fdca26\"], [1.0, \"#f0f921\"]], \"sequentialminus\": [[0.0, \"#0d0887\"], [0.1111111111111111, \"#46039f\"], [0.2222222222222222, \"#7201a8\"], [0.3333333333333333, \"#9c179e\"], [0.4444444444444444, \"#bd3786\"], [0.5555555555555556, \"#d8576b\"], [0.6666666666666666, \"#ed7953\"], [0.7777777777777778, \"#fb9f3a\"], [0.8888888888888888, \"#fdca26\"], [1.0, \"#f0f921\"]]}, \"colorway\": [\"#636efa\", \"#EF553B\", \"#00cc96\", \"#ab63fa\", \"#FFA15A\", \"#19d3f3\", \"#FF6692\", \"#B6E880\", \"#FF97FF\", \"#FECB52\"], \"font\": {\"color\": \"#2a3f5f\"}, \"geo\": {\"bgcolor\": \"white\", \"lakecolor\": \"white\", \"landcolor\": \"#E5ECF6\", \"showlakes\": true, \"showland\": true, \"subunitcolor\": \"white\"}, \"hoverlabel\": {\"align\": \"left\"}, \"hovermode\": \"closest\", \"mapbox\": {\"style\": \"light\"}, \"paper_bgcolor\": \"white\", \"plot_bgcolor\": \"#E5ECF6\", \"polar\": {\"angularaxis\": {\"gridcolor\": \"white\", \"linecolor\": \"white\", \"ticks\": \"\"}, \"bgcolor\": \"#E5ECF6\", \"radialaxis\": {\"gridcolor\": \"white\", \"linecolor\": \"white\", \"ticks\": \"\"}}, \"scene\": {\"xaxis\": {\"backgroundcolor\": \"#E5ECF6\", \"gridcolor\": \"white\", \"gridwidth\": 2, \"linecolor\": \"white\", \"showbackground\": true, \"ticks\": \"\", \"zerolinecolor\": \"white\"}, \"yaxis\": {\"backgroundcolor\": \"#E5ECF6\", \"gridcolor\": \"white\", \"gridwidth\": 2, \"linecolor\": \"white\", \"showbackground\": true, \"ticks\": \"\", \"zerolinecolor\": \"white\"}, \"zaxis\": {\"backgroundcolor\": \"#E5ECF6\", \"gridcolor\": \"white\", \"gridwidth\": 2, \"linecolor\": \"white\", \"showbackground\": true, \"ticks\": \"\", \"zerolinecolor\": \"white\"}}, \"shapedefaults\": {\"line\": {\"color\": \"#2a3f5f\"}}, \"ternary\": {\"aaxis\": {\"gridcolor\": \"white\", \"linecolor\": \"white\", \"ticks\": \"\"}, \"baxis\": {\"gridcolor\": \"white\", \"linecolor\": \"white\", \"ticks\": \"\"}, \"bgcolor\": \"#E5ECF6\", \"caxis\": {\"gridcolor\": \"white\", \"linecolor\": \"white\", \"ticks\": \"\"}}, \"title\": {\"x\": 0.05}, \"xaxis\": {\"automargin\": true, \"gridcolor\": \"white\", \"linecolor\": \"white\", \"ticks\": \"\", \"title\": {\"standoff\": 15}, \"zerolinecolor\": \"white\", \"zerolinewidth\": 2}, \"yaxis\": {\"automargin\": true, \"gridcolor\": \"white\", \"linecolor\": \"white\", \"ticks\": \"\", \"title\": {\"standoff\": 15}, \"zerolinecolor\": \"white\", \"zerolinewidth\": 2}}}, \"title\": {\"font\": {\"color\": \"#4D5663\"}}, \"xaxis\": {\"gridcolor\": \"#E1E5ED\", \"showgrid\": true, \"tickfont\": {\"color\": \"#4D5663\"}, \"title\": {\"font\": {\"color\": \"#4D5663\"}, \"text\": \"\"}, \"zerolinecolor\": \"#E1E5ED\"}, \"yaxis\": {\"gridcolor\": \"#E1E5ED\", \"showgrid\": true, \"tickfont\": {\"color\": \"#4D5663\"}, \"title\": {\"font\": {\"color\": \"#4D5663\"}, \"text\": \"\"}, \"zerolinecolor\": \"#E1E5ED\"}},\n",
       "                        {\"showLink\": true, \"linkText\": \"Export to plot.ly\", \"plotlyServerURL\": \"https://plot.ly\", \"responsive\": true}\n",
       "                    ).then(function(){\n",
       "                            \n",
       "var gd = document.getElementById('354e9969-532a-4765-b69f-9f1949568acc');\n",
       "var x = new MutationObserver(function (mutations, observer) {{\n",
       "        var display = window.getComputedStyle(gd).display;\n",
       "        if (!display || display === 'none') {{\n",
       "            console.log([gd, 'removed!']);\n",
       "            Plotly.purge(gd);\n",
       "            observer.disconnect();\n",
       "        }}\n",
       "}});\n",
       "\n",
       "// Listen for the removal of the full notebook cells\n",
       "var notebookContainer = gd.closest('#notebook-container');\n",
       "if (notebookContainer) {{\n",
       "    x.observe(notebookContainer, {childList: true});\n",
       "}}\n",
       "\n",
       "// Listen for the clearing of the current output cell\n",
       "var outputEl = gd.closest('.output');\n",
       "if (outputEl) {{\n",
       "    x.observe(outputEl, {childList: true});\n",
       "}}\n",
       "\n",
       "                        })\n",
       "                };\n",
       "                });\n",
       "            </script>\n",
       "        </div>"
      ]
     },
     "metadata": {},
     "output_type": "display_data"
    }
   ],
   "source": [
    "df.iplot(kind='bar') # just like that is not ok\n",
    "\n",
    "# we need to do some aggregation above this\n"
   ]
  },
  {
   "cell_type": "code",
   "execution_count": 16,
   "metadata": {},
   "outputs": [
    {
     "data": {
      "application/vnd.plotly.v1+json": {
       "config": {
        "linkText": "Export to plot.ly",
        "plotlyServerURL": "https://plot.ly",
        "showLink": true
       },
       "data": [
        {
         "marker": {
          "color": "rgba(255, 153, 51, 0.6)",
          "line": {
           "color": "rgba(255, 153, 51, 1.0)",
           "width": 1
          }
         },
         "name": "None",
         "orientation": "v",
         "text": "",
         "type": "bar",
         "x": [
          "A",
          "B",
          "C",
          "D"
         ],
         "y": [
          100,
          100,
          100,
          100
         ]
        }
       ],
       "layout": {
        "legend": {
         "bgcolor": "#F5F6F9",
         "font": {
          "color": "#4D5663"
         }
        },
        "paper_bgcolor": "#F5F6F9",
        "plot_bgcolor": "#F5F6F9",
        "template": {
         "data": {
          "bar": [
           {
            "error_x": {
             "color": "#2a3f5f"
            },
            "error_y": {
             "color": "#2a3f5f"
            },
            "marker": {
             "line": {
              "color": "#E5ECF6",
              "width": 0.5
             }
            },
            "type": "bar"
           }
          ],
          "barpolar": [
           {
            "marker": {
             "line": {
              "color": "#E5ECF6",
              "width": 0.5
             }
            },
            "type": "barpolar"
           }
          ],
          "carpet": [
           {
            "aaxis": {
             "endlinecolor": "#2a3f5f",
             "gridcolor": "white",
             "linecolor": "white",
             "minorgridcolor": "white",
             "startlinecolor": "#2a3f5f"
            },
            "baxis": {
             "endlinecolor": "#2a3f5f",
             "gridcolor": "white",
             "linecolor": "white",
             "minorgridcolor": "white",
             "startlinecolor": "#2a3f5f"
            },
            "type": "carpet"
           }
          ],
          "choropleth": [
           {
            "colorbar": {
             "outlinewidth": 0,
             "ticks": ""
            },
            "type": "choropleth"
           }
          ],
          "contour": [
           {
            "colorbar": {
             "outlinewidth": 0,
             "ticks": ""
            },
            "colorscale": [
             [
              0,
              "#0d0887"
             ],
             [
              0.1111111111111111,
              "#46039f"
             ],
             [
              0.2222222222222222,
              "#7201a8"
             ],
             [
              0.3333333333333333,
              "#9c179e"
             ],
             [
              0.4444444444444444,
              "#bd3786"
             ],
             [
              0.5555555555555556,
              "#d8576b"
             ],
             [
              0.6666666666666666,
              "#ed7953"
             ],
             [
              0.7777777777777778,
              "#fb9f3a"
             ],
             [
              0.8888888888888888,
              "#fdca26"
             ],
             [
              1,
              "#f0f921"
             ]
            ],
            "type": "contour"
           }
          ],
          "contourcarpet": [
           {
            "colorbar": {
             "outlinewidth": 0,
             "ticks": ""
            },
            "type": "contourcarpet"
           }
          ],
          "heatmap": [
           {
            "colorbar": {
             "outlinewidth": 0,
             "ticks": ""
            },
            "colorscale": [
             [
              0,
              "#0d0887"
             ],
             [
              0.1111111111111111,
              "#46039f"
             ],
             [
              0.2222222222222222,
              "#7201a8"
             ],
             [
              0.3333333333333333,
              "#9c179e"
             ],
             [
              0.4444444444444444,
              "#bd3786"
             ],
             [
              0.5555555555555556,
              "#d8576b"
             ],
             [
              0.6666666666666666,
              "#ed7953"
             ],
             [
              0.7777777777777778,
              "#fb9f3a"
             ],
             [
              0.8888888888888888,
              "#fdca26"
             ],
             [
              1,
              "#f0f921"
             ]
            ],
            "type": "heatmap"
           }
          ],
          "heatmapgl": [
           {
            "colorbar": {
             "outlinewidth": 0,
             "ticks": ""
            },
            "colorscale": [
             [
              0,
              "#0d0887"
             ],
             [
              0.1111111111111111,
              "#46039f"
             ],
             [
              0.2222222222222222,
              "#7201a8"
             ],
             [
              0.3333333333333333,
              "#9c179e"
             ],
             [
              0.4444444444444444,
              "#bd3786"
             ],
             [
              0.5555555555555556,
              "#d8576b"
             ],
             [
              0.6666666666666666,
              "#ed7953"
             ],
             [
              0.7777777777777778,
              "#fb9f3a"
             ],
             [
              0.8888888888888888,
              "#fdca26"
             ],
             [
              1,
              "#f0f921"
             ]
            ],
            "type": "heatmapgl"
           }
          ],
          "histogram": [
           {
            "marker": {
             "colorbar": {
              "outlinewidth": 0,
              "ticks": ""
             }
            },
            "type": "histogram"
           }
          ],
          "histogram2d": [
           {
            "colorbar": {
             "outlinewidth": 0,
             "ticks": ""
            },
            "colorscale": [
             [
              0,
              "#0d0887"
             ],
             [
              0.1111111111111111,
              "#46039f"
             ],
             [
              0.2222222222222222,
              "#7201a8"
             ],
             [
              0.3333333333333333,
              "#9c179e"
             ],
             [
              0.4444444444444444,
              "#bd3786"
             ],
             [
              0.5555555555555556,
              "#d8576b"
             ],
             [
              0.6666666666666666,
              "#ed7953"
             ],
             [
              0.7777777777777778,
              "#fb9f3a"
             ],
             [
              0.8888888888888888,
              "#fdca26"
             ],
             [
              1,
              "#f0f921"
             ]
            ],
            "type": "histogram2d"
           }
          ],
          "histogram2dcontour": [
           {
            "colorbar": {
             "outlinewidth": 0,
             "ticks": ""
            },
            "colorscale": [
             [
              0,
              "#0d0887"
             ],
             [
              0.1111111111111111,
              "#46039f"
             ],
             [
              0.2222222222222222,
              "#7201a8"
             ],
             [
              0.3333333333333333,
              "#9c179e"
             ],
             [
              0.4444444444444444,
              "#bd3786"
             ],
             [
              0.5555555555555556,
              "#d8576b"
             ],
             [
              0.6666666666666666,
              "#ed7953"
             ],
             [
              0.7777777777777778,
              "#fb9f3a"
             ],
             [
              0.8888888888888888,
              "#fdca26"
             ],
             [
              1,
              "#f0f921"
             ]
            ],
            "type": "histogram2dcontour"
           }
          ],
          "mesh3d": [
           {
            "colorbar": {
             "outlinewidth": 0,
             "ticks": ""
            },
            "type": "mesh3d"
           }
          ],
          "parcoords": [
           {
            "line": {
             "colorbar": {
              "outlinewidth": 0,
              "ticks": ""
             }
            },
            "type": "parcoords"
           }
          ],
          "pie": [
           {
            "automargin": true,
            "type": "pie"
           }
          ],
          "scatter": [
           {
            "marker": {
             "colorbar": {
              "outlinewidth": 0,
              "ticks": ""
             }
            },
            "type": "scatter"
           }
          ],
          "scatter3d": [
           {
            "line": {
             "colorbar": {
              "outlinewidth": 0,
              "ticks": ""
             }
            },
            "marker": {
             "colorbar": {
              "outlinewidth": 0,
              "ticks": ""
             }
            },
            "type": "scatter3d"
           }
          ],
          "scattercarpet": [
           {
            "marker": {
             "colorbar": {
              "outlinewidth": 0,
              "ticks": ""
             }
            },
            "type": "scattercarpet"
           }
          ],
          "scattergeo": [
           {
            "marker": {
             "colorbar": {
              "outlinewidth": 0,
              "ticks": ""
             }
            },
            "type": "scattergeo"
           }
          ],
          "scattergl": [
           {
            "marker": {
             "colorbar": {
              "outlinewidth": 0,
              "ticks": ""
             }
            },
            "type": "scattergl"
           }
          ],
          "scattermapbox": [
           {
            "marker": {
             "colorbar": {
              "outlinewidth": 0,
              "ticks": ""
             }
            },
            "type": "scattermapbox"
           }
          ],
          "scatterpolar": [
           {
            "marker": {
             "colorbar": {
              "outlinewidth": 0,
              "ticks": ""
             }
            },
            "type": "scatterpolar"
           }
          ],
          "scatterpolargl": [
           {
            "marker": {
             "colorbar": {
              "outlinewidth": 0,
              "ticks": ""
             }
            },
            "type": "scatterpolargl"
           }
          ],
          "scatterternary": [
           {
            "marker": {
             "colorbar": {
              "outlinewidth": 0,
              "ticks": ""
             }
            },
            "type": "scatterternary"
           }
          ],
          "surface": [
           {
            "colorbar": {
             "outlinewidth": 0,
             "ticks": ""
            },
            "colorscale": [
             [
              0,
              "#0d0887"
             ],
             [
              0.1111111111111111,
              "#46039f"
             ],
             [
              0.2222222222222222,
              "#7201a8"
             ],
             [
              0.3333333333333333,
              "#9c179e"
             ],
             [
              0.4444444444444444,
              "#bd3786"
             ],
             [
              0.5555555555555556,
              "#d8576b"
             ],
             [
              0.6666666666666666,
              "#ed7953"
             ],
             [
              0.7777777777777778,
              "#fb9f3a"
             ],
             [
              0.8888888888888888,
              "#fdca26"
             ],
             [
              1,
              "#f0f921"
             ]
            ],
            "type": "surface"
           }
          ],
          "table": [
           {
            "cells": {
             "fill": {
              "color": "#EBF0F8"
             },
             "line": {
              "color": "white"
             }
            },
            "header": {
             "fill": {
              "color": "#C8D4E3"
             },
             "line": {
              "color": "white"
             }
            },
            "type": "table"
           }
          ]
         },
         "layout": {
          "annotationdefaults": {
           "arrowcolor": "#2a3f5f",
           "arrowhead": 0,
           "arrowwidth": 1
          },
          "coloraxis": {
           "colorbar": {
            "outlinewidth": 0,
            "ticks": ""
           }
          },
          "colorscale": {
           "diverging": [
            [
             0,
             "#8e0152"
            ],
            [
             0.1,
             "#c51b7d"
            ],
            [
             0.2,
             "#de77ae"
            ],
            [
             0.3,
             "#f1b6da"
            ],
            [
             0.4,
             "#fde0ef"
            ],
            [
             0.5,
             "#f7f7f7"
            ],
            [
             0.6,
             "#e6f5d0"
            ],
            [
             0.7,
             "#b8e186"
            ],
            [
             0.8,
             "#7fbc41"
            ],
            [
             0.9,
             "#4d9221"
            ],
            [
             1,
             "#276419"
            ]
           ],
           "sequential": [
            [
             0,
             "#0d0887"
            ],
            [
             0.1111111111111111,
             "#46039f"
            ],
            [
             0.2222222222222222,
             "#7201a8"
            ],
            [
             0.3333333333333333,
             "#9c179e"
            ],
            [
             0.4444444444444444,
             "#bd3786"
            ],
            [
             0.5555555555555556,
             "#d8576b"
            ],
            [
             0.6666666666666666,
             "#ed7953"
            ],
            [
             0.7777777777777778,
             "#fb9f3a"
            ],
            [
             0.8888888888888888,
             "#fdca26"
            ],
            [
             1,
             "#f0f921"
            ]
           ],
           "sequentialminus": [
            [
             0,
             "#0d0887"
            ],
            [
             0.1111111111111111,
             "#46039f"
            ],
            [
             0.2222222222222222,
             "#7201a8"
            ],
            [
             0.3333333333333333,
             "#9c179e"
            ],
            [
             0.4444444444444444,
             "#bd3786"
            ],
            [
             0.5555555555555556,
             "#d8576b"
            ],
            [
             0.6666666666666666,
             "#ed7953"
            ],
            [
             0.7777777777777778,
             "#fb9f3a"
            ],
            [
             0.8888888888888888,
             "#fdca26"
            ],
            [
             1,
             "#f0f921"
            ]
           ]
          },
          "colorway": [
           "#636efa",
           "#EF553B",
           "#00cc96",
           "#ab63fa",
           "#FFA15A",
           "#19d3f3",
           "#FF6692",
           "#B6E880",
           "#FF97FF",
           "#FECB52"
          ],
          "font": {
           "color": "#2a3f5f"
          },
          "geo": {
           "bgcolor": "white",
           "lakecolor": "white",
           "landcolor": "#E5ECF6",
           "showlakes": true,
           "showland": true,
           "subunitcolor": "white"
          },
          "hoverlabel": {
           "align": "left"
          },
          "hovermode": "closest",
          "mapbox": {
           "style": "light"
          },
          "paper_bgcolor": "white",
          "plot_bgcolor": "#E5ECF6",
          "polar": {
           "angularaxis": {
            "gridcolor": "white",
            "linecolor": "white",
            "ticks": ""
           },
           "bgcolor": "#E5ECF6",
           "radialaxis": {
            "gridcolor": "white",
            "linecolor": "white",
            "ticks": ""
           }
          },
          "scene": {
           "xaxis": {
            "backgroundcolor": "#E5ECF6",
            "gridcolor": "white",
            "gridwidth": 2,
            "linecolor": "white",
            "showbackground": true,
            "ticks": "",
            "zerolinecolor": "white"
           },
           "yaxis": {
            "backgroundcolor": "#E5ECF6",
            "gridcolor": "white",
            "gridwidth": 2,
            "linecolor": "white",
            "showbackground": true,
            "ticks": "",
            "zerolinecolor": "white"
           },
           "zaxis": {
            "backgroundcolor": "#E5ECF6",
            "gridcolor": "white",
            "gridwidth": 2,
            "linecolor": "white",
            "showbackground": true,
            "ticks": "",
            "zerolinecolor": "white"
           }
          },
          "shapedefaults": {
           "line": {
            "color": "#2a3f5f"
           }
          },
          "ternary": {
           "aaxis": {
            "gridcolor": "white",
            "linecolor": "white",
            "ticks": ""
           },
           "baxis": {
            "gridcolor": "white",
            "linecolor": "white",
            "ticks": ""
           },
           "bgcolor": "#E5ECF6",
           "caxis": {
            "gridcolor": "white",
            "linecolor": "white",
            "ticks": ""
           }
          },
          "title": {
           "x": 0.05
          },
          "xaxis": {
           "automargin": true,
           "gridcolor": "white",
           "linecolor": "white",
           "ticks": "",
           "title": {
            "standoff": 15
           },
           "zerolinecolor": "white",
           "zerolinewidth": 2
          },
          "yaxis": {
           "automargin": true,
           "gridcolor": "white",
           "linecolor": "white",
           "ticks": "",
           "title": {
            "standoff": 15
           },
           "zerolinecolor": "white",
           "zerolinewidth": 2
          }
         }
        },
        "title": {
         "font": {
          "color": "#4D5663"
         }
        },
        "xaxis": {
         "gridcolor": "#E1E5ED",
         "showgrid": true,
         "tickfont": {
          "color": "#4D5663"
         },
         "title": {
          "font": {
           "color": "#4D5663"
          },
          "text": ""
         },
         "zerolinecolor": "#E1E5ED"
        },
        "yaxis": {
         "gridcolor": "#E1E5ED",
         "showgrid": true,
         "tickfont": {
          "color": "#4D5663"
         },
         "title": {
          "font": {
           "color": "#4D5663"
          },
          "text": ""
         },
         "zerolinecolor": "#E1E5ED"
        }
       }
      },
      "text/html": [
       "<div>\n",
       "        \n",
       "        \n",
       "            <div id=\"4dd31c4a-74c2-4ca9-b19a-b44e32688409\" class=\"plotly-graph-div\" style=\"height:525px; width:100%;\"></div>\n",
       "            <script type=\"text/javascript\">\n",
       "                require([\"plotly\"], function(Plotly) {\n",
       "                    window.PLOTLYENV=window.PLOTLYENV || {};\n",
       "                    window.PLOTLYENV.BASE_URL='https://plot.ly';\n",
       "                    \n",
       "                if (document.getElementById(\"4dd31c4a-74c2-4ca9-b19a-b44e32688409\")) {\n",
       "                    Plotly.newPlot(\n",
       "                        '4dd31c4a-74c2-4ca9-b19a-b44e32688409',\n",
       "                        [{\"marker\": {\"color\": \"rgba(255, 153, 51, 0.6)\", \"line\": {\"color\": \"rgba(255, 153, 51, 1.0)\", \"width\": 1}}, \"name\": \"None\", \"orientation\": \"v\", \"text\": \"\", \"type\": \"bar\", \"x\": [\"A\", \"B\", \"C\", \"D\"], \"y\": [100, 100, 100, 100]}],\n",
       "                        {\"legend\": {\"bgcolor\": \"#F5F6F9\", \"font\": {\"color\": \"#4D5663\"}}, \"paper_bgcolor\": \"#F5F6F9\", \"plot_bgcolor\": \"#F5F6F9\", \"template\": {\"data\": {\"bar\": [{\"error_x\": {\"color\": \"#2a3f5f\"}, \"error_y\": {\"color\": \"#2a3f5f\"}, \"marker\": {\"line\": {\"color\": \"#E5ECF6\", \"width\": 0.5}}, \"type\": \"bar\"}], \"barpolar\": [{\"marker\": {\"line\": {\"color\": \"#E5ECF6\", \"width\": 0.5}}, \"type\": \"barpolar\"}], \"carpet\": [{\"aaxis\": {\"endlinecolor\": \"#2a3f5f\", \"gridcolor\": \"white\", \"linecolor\": \"white\", \"minorgridcolor\": \"white\", \"startlinecolor\": \"#2a3f5f\"}, \"baxis\": {\"endlinecolor\": \"#2a3f5f\", \"gridcolor\": \"white\", \"linecolor\": \"white\", \"minorgridcolor\": \"white\", \"startlinecolor\": \"#2a3f5f\"}, \"type\": \"carpet\"}], \"choropleth\": [{\"colorbar\": {\"outlinewidth\": 0, \"ticks\": \"\"}, \"type\": \"choropleth\"}], \"contour\": [{\"colorbar\": {\"outlinewidth\": 0, \"ticks\": \"\"}, \"colorscale\": [[0.0, \"#0d0887\"], [0.1111111111111111, \"#46039f\"], [0.2222222222222222, \"#7201a8\"], [0.3333333333333333, \"#9c179e\"], [0.4444444444444444, \"#bd3786\"], [0.5555555555555556, \"#d8576b\"], [0.6666666666666666, \"#ed7953\"], [0.7777777777777778, \"#fb9f3a\"], [0.8888888888888888, \"#fdca26\"], [1.0, \"#f0f921\"]], \"type\": \"contour\"}], \"contourcarpet\": [{\"colorbar\": {\"outlinewidth\": 0, \"ticks\": \"\"}, \"type\": \"contourcarpet\"}], \"heatmap\": [{\"colorbar\": {\"outlinewidth\": 0, \"ticks\": \"\"}, \"colorscale\": [[0.0, \"#0d0887\"], [0.1111111111111111, \"#46039f\"], [0.2222222222222222, \"#7201a8\"], [0.3333333333333333, \"#9c179e\"], [0.4444444444444444, \"#bd3786\"], [0.5555555555555556, \"#d8576b\"], [0.6666666666666666, \"#ed7953\"], [0.7777777777777778, \"#fb9f3a\"], [0.8888888888888888, \"#fdca26\"], [1.0, \"#f0f921\"]], \"type\": \"heatmap\"}], \"heatmapgl\": [{\"colorbar\": {\"outlinewidth\": 0, \"ticks\": \"\"}, \"colorscale\": [[0.0, \"#0d0887\"], [0.1111111111111111, \"#46039f\"], [0.2222222222222222, \"#7201a8\"], [0.3333333333333333, \"#9c179e\"], [0.4444444444444444, \"#bd3786\"], [0.5555555555555556, \"#d8576b\"], [0.6666666666666666, \"#ed7953\"], [0.7777777777777778, \"#fb9f3a\"], [0.8888888888888888, \"#fdca26\"], [1.0, \"#f0f921\"]], \"type\": \"heatmapgl\"}], \"histogram\": [{\"marker\": {\"colorbar\": {\"outlinewidth\": 0, \"ticks\": \"\"}}, \"type\": \"histogram\"}], \"histogram2d\": [{\"colorbar\": {\"outlinewidth\": 0, \"ticks\": \"\"}, \"colorscale\": [[0.0, \"#0d0887\"], [0.1111111111111111, \"#46039f\"], [0.2222222222222222, \"#7201a8\"], [0.3333333333333333, \"#9c179e\"], [0.4444444444444444, \"#bd3786\"], [0.5555555555555556, \"#d8576b\"], [0.6666666666666666, \"#ed7953\"], [0.7777777777777778, \"#fb9f3a\"], [0.8888888888888888, \"#fdca26\"], [1.0, \"#f0f921\"]], \"type\": \"histogram2d\"}], \"histogram2dcontour\": [{\"colorbar\": {\"outlinewidth\": 0, \"ticks\": \"\"}, \"colorscale\": [[0.0, \"#0d0887\"], [0.1111111111111111, \"#46039f\"], [0.2222222222222222, \"#7201a8\"], [0.3333333333333333, \"#9c179e\"], [0.4444444444444444, \"#bd3786\"], [0.5555555555555556, \"#d8576b\"], [0.6666666666666666, \"#ed7953\"], [0.7777777777777778, \"#fb9f3a\"], [0.8888888888888888, \"#fdca26\"], [1.0, \"#f0f921\"]], \"type\": \"histogram2dcontour\"}], \"mesh3d\": [{\"colorbar\": {\"outlinewidth\": 0, \"ticks\": \"\"}, \"type\": \"mesh3d\"}], \"parcoords\": [{\"line\": {\"colorbar\": {\"outlinewidth\": 0, \"ticks\": \"\"}}, \"type\": \"parcoords\"}], \"pie\": [{\"automargin\": true, \"type\": \"pie\"}], \"scatter\": [{\"marker\": {\"colorbar\": {\"outlinewidth\": 0, \"ticks\": \"\"}}, \"type\": \"scatter\"}], \"scatter3d\": [{\"line\": {\"colorbar\": {\"outlinewidth\": 0, \"ticks\": \"\"}}, \"marker\": {\"colorbar\": {\"outlinewidth\": 0, \"ticks\": \"\"}}, \"type\": \"scatter3d\"}], \"scattercarpet\": [{\"marker\": {\"colorbar\": {\"outlinewidth\": 0, \"ticks\": \"\"}}, \"type\": \"scattercarpet\"}], \"scattergeo\": [{\"marker\": {\"colorbar\": {\"outlinewidth\": 0, \"ticks\": \"\"}}, \"type\": \"scattergeo\"}], \"scattergl\": [{\"marker\": {\"colorbar\": {\"outlinewidth\": 0, \"ticks\": \"\"}}, \"type\": \"scattergl\"}], \"scattermapbox\": [{\"marker\": {\"colorbar\": {\"outlinewidth\": 0, \"ticks\": \"\"}}, \"type\": \"scattermapbox\"}], \"scatterpolar\": [{\"marker\": {\"colorbar\": {\"outlinewidth\": 0, \"ticks\": \"\"}}, \"type\": \"scatterpolar\"}], \"scatterpolargl\": [{\"marker\": {\"colorbar\": {\"outlinewidth\": 0, \"ticks\": \"\"}}, \"type\": \"scatterpolargl\"}], \"scatterternary\": [{\"marker\": {\"colorbar\": {\"outlinewidth\": 0, \"ticks\": \"\"}}, \"type\": \"scatterternary\"}], \"surface\": [{\"colorbar\": {\"outlinewidth\": 0, \"ticks\": \"\"}, \"colorscale\": [[0.0, \"#0d0887\"], [0.1111111111111111, \"#46039f\"], [0.2222222222222222, \"#7201a8\"], [0.3333333333333333, \"#9c179e\"], [0.4444444444444444, \"#bd3786\"], [0.5555555555555556, \"#d8576b\"], [0.6666666666666666, \"#ed7953\"], [0.7777777777777778, \"#fb9f3a\"], [0.8888888888888888, \"#fdca26\"], [1.0, \"#f0f921\"]], \"type\": \"surface\"}], \"table\": [{\"cells\": {\"fill\": {\"color\": \"#EBF0F8\"}, \"line\": {\"color\": \"white\"}}, \"header\": {\"fill\": {\"color\": \"#C8D4E3\"}, \"line\": {\"color\": \"white\"}}, \"type\": \"table\"}]}, \"layout\": {\"annotationdefaults\": {\"arrowcolor\": \"#2a3f5f\", \"arrowhead\": 0, \"arrowwidth\": 1}, \"coloraxis\": {\"colorbar\": {\"outlinewidth\": 0, \"ticks\": \"\"}}, \"colorscale\": {\"diverging\": [[0, \"#8e0152\"], [0.1, \"#c51b7d\"], [0.2, \"#de77ae\"], [0.3, \"#f1b6da\"], [0.4, \"#fde0ef\"], [0.5, \"#f7f7f7\"], [0.6, \"#e6f5d0\"], [0.7, \"#b8e186\"], [0.8, \"#7fbc41\"], [0.9, \"#4d9221\"], [1, \"#276419\"]], \"sequential\": [[0.0, \"#0d0887\"], [0.1111111111111111, \"#46039f\"], [0.2222222222222222, \"#7201a8\"], [0.3333333333333333, \"#9c179e\"], [0.4444444444444444, \"#bd3786\"], [0.5555555555555556, \"#d8576b\"], [0.6666666666666666, \"#ed7953\"], [0.7777777777777778, \"#fb9f3a\"], [0.8888888888888888, \"#fdca26\"], [1.0, \"#f0f921\"]], \"sequentialminus\": [[0.0, \"#0d0887\"], [0.1111111111111111, \"#46039f\"], [0.2222222222222222, \"#7201a8\"], [0.3333333333333333, \"#9c179e\"], [0.4444444444444444, \"#bd3786\"], [0.5555555555555556, \"#d8576b\"], [0.6666666666666666, \"#ed7953\"], [0.7777777777777778, \"#fb9f3a\"], [0.8888888888888888, \"#fdca26\"], [1.0, \"#f0f921\"]]}, \"colorway\": [\"#636efa\", \"#EF553B\", \"#00cc96\", \"#ab63fa\", \"#FFA15A\", \"#19d3f3\", \"#FF6692\", \"#B6E880\", \"#FF97FF\", \"#FECB52\"], \"font\": {\"color\": \"#2a3f5f\"}, \"geo\": {\"bgcolor\": \"white\", \"lakecolor\": \"white\", \"landcolor\": \"#E5ECF6\", \"showlakes\": true, \"showland\": true, \"subunitcolor\": \"white\"}, \"hoverlabel\": {\"align\": \"left\"}, \"hovermode\": \"closest\", \"mapbox\": {\"style\": \"light\"}, \"paper_bgcolor\": \"white\", \"plot_bgcolor\": \"#E5ECF6\", \"polar\": {\"angularaxis\": {\"gridcolor\": \"white\", \"linecolor\": \"white\", \"ticks\": \"\"}, \"bgcolor\": \"#E5ECF6\", \"radialaxis\": {\"gridcolor\": \"white\", \"linecolor\": \"white\", \"ticks\": \"\"}}, \"scene\": {\"xaxis\": {\"backgroundcolor\": \"#E5ECF6\", \"gridcolor\": \"white\", \"gridwidth\": 2, \"linecolor\": \"white\", \"showbackground\": true, \"ticks\": \"\", \"zerolinecolor\": \"white\"}, \"yaxis\": {\"backgroundcolor\": \"#E5ECF6\", \"gridcolor\": \"white\", \"gridwidth\": 2, \"linecolor\": \"white\", \"showbackground\": true, \"ticks\": \"\", \"zerolinecolor\": \"white\"}, \"zaxis\": {\"backgroundcolor\": \"#E5ECF6\", \"gridcolor\": \"white\", \"gridwidth\": 2, \"linecolor\": \"white\", \"showbackground\": true, \"ticks\": \"\", \"zerolinecolor\": \"white\"}}, \"shapedefaults\": {\"line\": {\"color\": \"#2a3f5f\"}}, \"ternary\": {\"aaxis\": {\"gridcolor\": \"white\", \"linecolor\": \"white\", \"ticks\": \"\"}, \"baxis\": {\"gridcolor\": \"white\", \"linecolor\": \"white\", \"ticks\": \"\"}, \"bgcolor\": \"#E5ECF6\", \"caxis\": {\"gridcolor\": \"white\", \"linecolor\": \"white\", \"ticks\": \"\"}}, \"title\": {\"x\": 0.05}, \"xaxis\": {\"automargin\": true, \"gridcolor\": \"white\", \"linecolor\": \"white\", \"ticks\": \"\", \"title\": {\"standoff\": 15}, \"zerolinecolor\": \"white\", \"zerolinewidth\": 2}, \"yaxis\": {\"automargin\": true, \"gridcolor\": \"white\", \"linecolor\": \"white\", \"ticks\": \"\", \"title\": {\"standoff\": 15}, \"zerolinecolor\": \"white\", \"zerolinewidth\": 2}}}, \"title\": {\"font\": {\"color\": \"#4D5663\"}}, \"xaxis\": {\"gridcolor\": \"#E1E5ED\", \"showgrid\": true, \"tickfont\": {\"color\": \"#4D5663\"}, \"title\": {\"font\": {\"color\": \"#4D5663\"}, \"text\": \"\"}, \"zerolinecolor\": \"#E1E5ED\"}, \"yaxis\": {\"gridcolor\": \"#E1E5ED\", \"showgrid\": true, \"tickfont\": {\"color\": \"#4D5663\"}, \"title\": {\"font\": {\"color\": \"#4D5663\"}, \"text\": \"\"}, \"zerolinecolor\": \"#E1E5ED\"}},\n",
       "                        {\"showLink\": true, \"linkText\": \"Export to plot.ly\", \"plotlyServerURL\": \"https://plot.ly\", \"responsive\": true}\n",
       "                    ).then(function(){\n",
       "                            \n",
       "var gd = document.getElementById('4dd31c4a-74c2-4ca9-b19a-b44e32688409');\n",
       "var x = new MutationObserver(function (mutations, observer) {{\n",
       "        var display = window.getComputedStyle(gd).display;\n",
       "        if (!display || display === 'none') {{\n",
       "            console.log([gd, 'removed!']);\n",
       "            Plotly.purge(gd);\n",
       "            observer.disconnect();\n",
       "        }}\n",
       "}});\n",
       "\n",
       "// Listen for the removal of the full notebook cells\n",
       "var notebookContainer = gd.closest('#notebook-container');\n",
       "if (notebookContainer) {{\n",
       "    x.observe(notebookContainer, {childList: true});\n",
       "}}\n",
       "\n",
       "// Listen for the clearing of the current output cell\n",
       "var outputEl = gd.closest('.output');\n",
       "if (outputEl) {{\n",
       "    x.observe(outputEl, {childList: true});\n",
       "}}\n",
       "\n",
       "                        })\n",
       "                };\n",
       "                });\n",
       "            </script>\n",
       "        </div>"
      ]
     },
     "metadata": {},
     "output_type": "display_data"
    }
   ],
   "source": [
    "df.count().iplot(kind='bar')"
   ]
  },
  {
   "cell_type": "code",
   "execution_count": 17,
   "metadata": {},
   "outputs": [
    {
     "data": {
      "application/vnd.plotly.v1+json": {
       "config": {
        "linkText": "Export to plot.ly",
        "plotlyServerURL": "https://plot.ly",
        "showLink": true
       },
       "data": [
        {
         "marker": {
          "color": "rgba(255, 153, 51, 0.6)",
          "line": {
           "color": "rgba(255, 153, 51, 1.0)",
           "width": 1
          }
         },
         "name": "None",
         "orientation": "v",
         "text": "",
         "type": "bar",
         "x": [
          "A",
          "B",
          "C",
          "D"
         ],
         "y": [
          3.682519764868027,
          -2.6318148376646295,
          9.872927072113193,
          -0.30780701178630054
         ]
        }
       ],
       "layout": {
        "legend": {
         "bgcolor": "#F5F6F9",
         "font": {
          "color": "#4D5663"
         }
        },
        "paper_bgcolor": "#F5F6F9",
        "plot_bgcolor": "#F5F6F9",
        "template": {
         "data": {
          "bar": [
           {
            "error_x": {
             "color": "#2a3f5f"
            },
            "error_y": {
             "color": "#2a3f5f"
            },
            "marker": {
             "line": {
              "color": "#E5ECF6",
              "width": 0.5
             }
            },
            "type": "bar"
           }
          ],
          "barpolar": [
           {
            "marker": {
             "line": {
              "color": "#E5ECF6",
              "width": 0.5
             }
            },
            "type": "barpolar"
           }
          ],
          "carpet": [
           {
            "aaxis": {
             "endlinecolor": "#2a3f5f",
             "gridcolor": "white",
             "linecolor": "white",
             "minorgridcolor": "white",
             "startlinecolor": "#2a3f5f"
            },
            "baxis": {
             "endlinecolor": "#2a3f5f",
             "gridcolor": "white",
             "linecolor": "white",
             "minorgridcolor": "white",
             "startlinecolor": "#2a3f5f"
            },
            "type": "carpet"
           }
          ],
          "choropleth": [
           {
            "colorbar": {
             "outlinewidth": 0,
             "ticks": ""
            },
            "type": "choropleth"
           }
          ],
          "contour": [
           {
            "colorbar": {
             "outlinewidth": 0,
             "ticks": ""
            },
            "colorscale": [
             [
              0,
              "#0d0887"
             ],
             [
              0.1111111111111111,
              "#46039f"
             ],
             [
              0.2222222222222222,
              "#7201a8"
             ],
             [
              0.3333333333333333,
              "#9c179e"
             ],
             [
              0.4444444444444444,
              "#bd3786"
             ],
             [
              0.5555555555555556,
              "#d8576b"
             ],
             [
              0.6666666666666666,
              "#ed7953"
             ],
             [
              0.7777777777777778,
              "#fb9f3a"
             ],
             [
              0.8888888888888888,
              "#fdca26"
             ],
             [
              1,
              "#f0f921"
             ]
            ],
            "type": "contour"
           }
          ],
          "contourcarpet": [
           {
            "colorbar": {
             "outlinewidth": 0,
             "ticks": ""
            },
            "type": "contourcarpet"
           }
          ],
          "heatmap": [
           {
            "colorbar": {
             "outlinewidth": 0,
             "ticks": ""
            },
            "colorscale": [
             [
              0,
              "#0d0887"
             ],
             [
              0.1111111111111111,
              "#46039f"
             ],
             [
              0.2222222222222222,
              "#7201a8"
             ],
             [
              0.3333333333333333,
              "#9c179e"
             ],
             [
              0.4444444444444444,
              "#bd3786"
             ],
             [
              0.5555555555555556,
              "#d8576b"
             ],
             [
              0.6666666666666666,
              "#ed7953"
             ],
             [
              0.7777777777777778,
              "#fb9f3a"
             ],
             [
              0.8888888888888888,
              "#fdca26"
             ],
             [
              1,
              "#f0f921"
             ]
            ],
            "type": "heatmap"
           }
          ],
          "heatmapgl": [
           {
            "colorbar": {
             "outlinewidth": 0,
             "ticks": ""
            },
            "colorscale": [
             [
              0,
              "#0d0887"
             ],
             [
              0.1111111111111111,
              "#46039f"
             ],
             [
              0.2222222222222222,
              "#7201a8"
             ],
             [
              0.3333333333333333,
              "#9c179e"
             ],
             [
              0.4444444444444444,
              "#bd3786"
             ],
             [
              0.5555555555555556,
              "#d8576b"
             ],
             [
              0.6666666666666666,
              "#ed7953"
             ],
             [
              0.7777777777777778,
              "#fb9f3a"
             ],
             [
              0.8888888888888888,
              "#fdca26"
             ],
             [
              1,
              "#f0f921"
             ]
            ],
            "type": "heatmapgl"
           }
          ],
          "histogram": [
           {
            "marker": {
             "colorbar": {
              "outlinewidth": 0,
              "ticks": ""
             }
            },
            "type": "histogram"
           }
          ],
          "histogram2d": [
           {
            "colorbar": {
             "outlinewidth": 0,
             "ticks": ""
            },
            "colorscale": [
             [
              0,
              "#0d0887"
             ],
             [
              0.1111111111111111,
              "#46039f"
             ],
             [
              0.2222222222222222,
              "#7201a8"
             ],
             [
              0.3333333333333333,
              "#9c179e"
             ],
             [
              0.4444444444444444,
              "#bd3786"
             ],
             [
              0.5555555555555556,
              "#d8576b"
             ],
             [
              0.6666666666666666,
              "#ed7953"
             ],
             [
              0.7777777777777778,
              "#fb9f3a"
             ],
             [
              0.8888888888888888,
              "#fdca26"
             ],
             [
              1,
              "#f0f921"
             ]
            ],
            "type": "histogram2d"
           }
          ],
          "histogram2dcontour": [
           {
            "colorbar": {
             "outlinewidth": 0,
             "ticks": ""
            },
            "colorscale": [
             [
              0,
              "#0d0887"
             ],
             [
              0.1111111111111111,
              "#46039f"
             ],
             [
              0.2222222222222222,
              "#7201a8"
             ],
             [
              0.3333333333333333,
              "#9c179e"
             ],
             [
              0.4444444444444444,
              "#bd3786"
             ],
             [
              0.5555555555555556,
              "#d8576b"
             ],
             [
              0.6666666666666666,
              "#ed7953"
             ],
             [
              0.7777777777777778,
              "#fb9f3a"
             ],
             [
              0.8888888888888888,
              "#fdca26"
             ],
             [
              1,
              "#f0f921"
             ]
            ],
            "type": "histogram2dcontour"
           }
          ],
          "mesh3d": [
           {
            "colorbar": {
             "outlinewidth": 0,
             "ticks": ""
            },
            "type": "mesh3d"
           }
          ],
          "parcoords": [
           {
            "line": {
             "colorbar": {
              "outlinewidth": 0,
              "ticks": ""
             }
            },
            "type": "parcoords"
           }
          ],
          "pie": [
           {
            "automargin": true,
            "type": "pie"
           }
          ],
          "scatter": [
           {
            "marker": {
             "colorbar": {
              "outlinewidth": 0,
              "ticks": ""
             }
            },
            "type": "scatter"
           }
          ],
          "scatter3d": [
           {
            "line": {
             "colorbar": {
              "outlinewidth": 0,
              "ticks": ""
             }
            },
            "marker": {
             "colorbar": {
              "outlinewidth": 0,
              "ticks": ""
             }
            },
            "type": "scatter3d"
           }
          ],
          "scattercarpet": [
           {
            "marker": {
             "colorbar": {
              "outlinewidth": 0,
              "ticks": ""
             }
            },
            "type": "scattercarpet"
           }
          ],
          "scattergeo": [
           {
            "marker": {
             "colorbar": {
              "outlinewidth": 0,
              "ticks": ""
             }
            },
            "type": "scattergeo"
           }
          ],
          "scattergl": [
           {
            "marker": {
             "colorbar": {
              "outlinewidth": 0,
              "ticks": ""
             }
            },
            "type": "scattergl"
           }
          ],
          "scattermapbox": [
           {
            "marker": {
             "colorbar": {
              "outlinewidth": 0,
              "ticks": ""
             }
            },
            "type": "scattermapbox"
           }
          ],
          "scatterpolar": [
           {
            "marker": {
             "colorbar": {
              "outlinewidth": 0,
              "ticks": ""
             }
            },
            "type": "scatterpolar"
           }
          ],
          "scatterpolargl": [
           {
            "marker": {
             "colorbar": {
              "outlinewidth": 0,
              "ticks": ""
             }
            },
            "type": "scatterpolargl"
           }
          ],
          "scatterternary": [
           {
            "marker": {
             "colorbar": {
              "outlinewidth": 0,
              "ticks": ""
             }
            },
            "type": "scatterternary"
           }
          ],
          "surface": [
           {
            "colorbar": {
             "outlinewidth": 0,
             "ticks": ""
            },
            "colorscale": [
             [
              0,
              "#0d0887"
             ],
             [
              0.1111111111111111,
              "#46039f"
             ],
             [
              0.2222222222222222,
              "#7201a8"
             ],
             [
              0.3333333333333333,
              "#9c179e"
             ],
             [
              0.4444444444444444,
              "#bd3786"
             ],
             [
              0.5555555555555556,
              "#d8576b"
             ],
             [
              0.6666666666666666,
              "#ed7953"
             ],
             [
              0.7777777777777778,
              "#fb9f3a"
             ],
             [
              0.8888888888888888,
              "#fdca26"
             ],
             [
              1,
              "#f0f921"
             ]
            ],
            "type": "surface"
           }
          ],
          "table": [
           {
            "cells": {
             "fill": {
              "color": "#EBF0F8"
             },
             "line": {
              "color": "white"
             }
            },
            "header": {
             "fill": {
              "color": "#C8D4E3"
             },
             "line": {
              "color": "white"
             }
            },
            "type": "table"
           }
          ]
         },
         "layout": {
          "annotationdefaults": {
           "arrowcolor": "#2a3f5f",
           "arrowhead": 0,
           "arrowwidth": 1
          },
          "coloraxis": {
           "colorbar": {
            "outlinewidth": 0,
            "ticks": ""
           }
          },
          "colorscale": {
           "diverging": [
            [
             0,
             "#8e0152"
            ],
            [
             0.1,
             "#c51b7d"
            ],
            [
             0.2,
             "#de77ae"
            ],
            [
             0.3,
             "#f1b6da"
            ],
            [
             0.4,
             "#fde0ef"
            ],
            [
             0.5,
             "#f7f7f7"
            ],
            [
             0.6,
             "#e6f5d0"
            ],
            [
             0.7,
             "#b8e186"
            ],
            [
             0.8,
             "#7fbc41"
            ],
            [
             0.9,
             "#4d9221"
            ],
            [
             1,
             "#276419"
            ]
           ],
           "sequential": [
            [
             0,
             "#0d0887"
            ],
            [
             0.1111111111111111,
             "#46039f"
            ],
            [
             0.2222222222222222,
             "#7201a8"
            ],
            [
             0.3333333333333333,
             "#9c179e"
            ],
            [
             0.4444444444444444,
             "#bd3786"
            ],
            [
             0.5555555555555556,
             "#d8576b"
            ],
            [
             0.6666666666666666,
             "#ed7953"
            ],
            [
             0.7777777777777778,
             "#fb9f3a"
            ],
            [
             0.8888888888888888,
             "#fdca26"
            ],
            [
             1,
             "#f0f921"
            ]
           ],
           "sequentialminus": [
            [
             0,
             "#0d0887"
            ],
            [
             0.1111111111111111,
             "#46039f"
            ],
            [
             0.2222222222222222,
             "#7201a8"
            ],
            [
             0.3333333333333333,
             "#9c179e"
            ],
            [
             0.4444444444444444,
             "#bd3786"
            ],
            [
             0.5555555555555556,
             "#d8576b"
            ],
            [
             0.6666666666666666,
             "#ed7953"
            ],
            [
             0.7777777777777778,
             "#fb9f3a"
            ],
            [
             0.8888888888888888,
             "#fdca26"
            ],
            [
             1,
             "#f0f921"
            ]
           ]
          },
          "colorway": [
           "#636efa",
           "#EF553B",
           "#00cc96",
           "#ab63fa",
           "#FFA15A",
           "#19d3f3",
           "#FF6692",
           "#B6E880",
           "#FF97FF",
           "#FECB52"
          ],
          "font": {
           "color": "#2a3f5f"
          },
          "geo": {
           "bgcolor": "white",
           "lakecolor": "white",
           "landcolor": "#E5ECF6",
           "showlakes": true,
           "showland": true,
           "subunitcolor": "white"
          },
          "hoverlabel": {
           "align": "left"
          },
          "hovermode": "closest",
          "mapbox": {
           "style": "light"
          },
          "paper_bgcolor": "white",
          "plot_bgcolor": "#E5ECF6",
          "polar": {
           "angularaxis": {
            "gridcolor": "white",
            "linecolor": "white",
            "ticks": ""
           },
           "bgcolor": "#E5ECF6",
           "radialaxis": {
            "gridcolor": "white",
            "linecolor": "white",
            "ticks": ""
           }
          },
          "scene": {
           "xaxis": {
            "backgroundcolor": "#E5ECF6",
            "gridcolor": "white",
            "gridwidth": 2,
            "linecolor": "white",
            "showbackground": true,
            "ticks": "",
            "zerolinecolor": "white"
           },
           "yaxis": {
            "backgroundcolor": "#E5ECF6",
            "gridcolor": "white",
            "gridwidth": 2,
            "linecolor": "white",
            "showbackground": true,
            "ticks": "",
            "zerolinecolor": "white"
           },
           "zaxis": {
            "backgroundcolor": "#E5ECF6",
            "gridcolor": "white",
            "gridwidth": 2,
            "linecolor": "white",
            "showbackground": true,
            "ticks": "",
            "zerolinecolor": "white"
           }
          },
          "shapedefaults": {
           "line": {
            "color": "#2a3f5f"
           }
          },
          "ternary": {
           "aaxis": {
            "gridcolor": "white",
            "linecolor": "white",
            "ticks": ""
           },
           "baxis": {
            "gridcolor": "white",
            "linecolor": "white",
            "ticks": ""
           },
           "bgcolor": "#E5ECF6",
           "caxis": {
            "gridcolor": "white",
            "linecolor": "white",
            "ticks": ""
           }
          },
          "title": {
           "x": 0.05
          },
          "xaxis": {
           "automargin": true,
           "gridcolor": "white",
           "linecolor": "white",
           "ticks": "",
           "title": {
            "standoff": 15
           },
           "zerolinecolor": "white",
           "zerolinewidth": 2
          },
          "yaxis": {
           "automargin": true,
           "gridcolor": "white",
           "linecolor": "white",
           "ticks": "",
           "title": {
            "standoff": 15
           },
           "zerolinecolor": "white",
           "zerolinewidth": 2
          }
         }
        },
        "title": {
         "font": {
          "color": "#4D5663"
         }
        },
        "xaxis": {
         "gridcolor": "#E1E5ED",
         "showgrid": true,
         "tickfont": {
          "color": "#4D5663"
         },
         "title": {
          "font": {
           "color": "#4D5663"
          },
          "text": ""
         },
         "zerolinecolor": "#E1E5ED"
        },
        "yaxis": {
         "gridcolor": "#E1E5ED",
         "showgrid": true,
         "tickfont": {
          "color": "#4D5663"
         },
         "title": {
          "font": {
           "color": "#4D5663"
          },
          "text": ""
         },
         "zerolinecolor": "#E1E5ED"
        }
       }
      },
      "text/html": [
       "<div>\n",
       "        \n",
       "        \n",
       "            <div id=\"2a82e932-f111-4785-b6f1-c2a4cf9969d4\" class=\"plotly-graph-div\" style=\"height:525px; width:100%;\"></div>\n",
       "            <script type=\"text/javascript\">\n",
       "                require([\"plotly\"], function(Plotly) {\n",
       "                    window.PLOTLYENV=window.PLOTLYENV || {};\n",
       "                    window.PLOTLYENV.BASE_URL='https://plot.ly';\n",
       "                    \n",
       "                if (document.getElementById(\"2a82e932-f111-4785-b6f1-c2a4cf9969d4\")) {\n",
       "                    Plotly.newPlot(\n",
       "                        '2a82e932-f111-4785-b6f1-c2a4cf9969d4',\n",
       "                        [{\"marker\": {\"color\": \"rgba(255, 153, 51, 0.6)\", \"line\": {\"color\": \"rgba(255, 153, 51, 1.0)\", \"width\": 1}}, \"name\": \"None\", \"orientation\": \"v\", \"text\": \"\", \"type\": \"bar\", \"x\": [\"A\", \"B\", \"C\", \"D\"], \"y\": [3.682519764868027, -2.6318148376646295, 9.872927072113193, -0.30780701178630054]}],\n",
       "                        {\"legend\": {\"bgcolor\": \"#F5F6F9\", \"font\": {\"color\": \"#4D5663\"}}, \"paper_bgcolor\": \"#F5F6F9\", \"plot_bgcolor\": \"#F5F6F9\", \"template\": {\"data\": {\"bar\": [{\"error_x\": {\"color\": \"#2a3f5f\"}, \"error_y\": {\"color\": \"#2a3f5f\"}, \"marker\": {\"line\": {\"color\": \"#E5ECF6\", \"width\": 0.5}}, \"type\": \"bar\"}], \"barpolar\": [{\"marker\": {\"line\": {\"color\": \"#E5ECF6\", \"width\": 0.5}}, \"type\": \"barpolar\"}], \"carpet\": [{\"aaxis\": {\"endlinecolor\": \"#2a3f5f\", \"gridcolor\": \"white\", \"linecolor\": \"white\", \"minorgridcolor\": \"white\", \"startlinecolor\": \"#2a3f5f\"}, \"baxis\": {\"endlinecolor\": \"#2a3f5f\", \"gridcolor\": \"white\", \"linecolor\": \"white\", \"minorgridcolor\": \"white\", \"startlinecolor\": \"#2a3f5f\"}, \"type\": \"carpet\"}], \"choropleth\": [{\"colorbar\": {\"outlinewidth\": 0, \"ticks\": \"\"}, \"type\": \"choropleth\"}], \"contour\": [{\"colorbar\": {\"outlinewidth\": 0, \"ticks\": \"\"}, \"colorscale\": [[0.0, \"#0d0887\"], [0.1111111111111111, \"#46039f\"], [0.2222222222222222, \"#7201a8\"], [0.3333333333333333, \"#9c179e\"], [0.4444444444444444, \"#bd3786\"], [0.5555555555555556, \"#d8576b\"], [0.6666666666666666, \"#ed7953\"], [0.7777777777777778, \"#fb9f3a\"], [0.8888888888888888, \"#fdca26\"], [1.0, \"#f0f921\"]], \"type\": \"contour\"}], \"contourcarpet\": [{\"colorbar\": {\"outlinewidth\": 0, \"ticks\": \"\"}, \"type\": \"contourcarpet\"}], \"heatmap\": [{\"colorbar\": {\"outlinewidth\": 0, \"ticks\": \"\"}, \"colorscale\": [[0.0, \"#0d0887\"], [0.1111111111111111, \"#46039f\"], [0.2222222222222222, \"#7201a8\"], [0.3333333333333333, \"#9c179e\"], [0.4444444444444444, \"#bd3786\"], [0.5555555555555556, \"#d8576b\"], [0.6666666666666666, \"#ed7953\"], [0.7777777777777778, \"#fb9f3a\"], [0.8888888888888888, \"#fdca26\"], [1.0, \"#f0f921\"]], \"type\": \"heatmap\"}], \"heatmapgl\": [{\"colorbar\": {\"outlinewidth\": 0, \"ticks\": \"\"}, \"colorscale\": [[0.0, \"#0d0887\"], [0.1111111111111111, \"#46039f\"], [0.2222222222222222, \"#7201a8\"], [0.3333333333333333, \"#9c179e\"], [0.4444444444444444, \"#bd3786\"], [0.5555555555555556, \"#d8576b\"], [0.6666666666666666, \"#ed7953\"], [0.7777777777777778, \"#fb9f3a\"], [0.8888888888888888, \"#fdca26\"], [1.0, \"#f0f921\"]], \"type\": \"heatmapgl\"}], \"histogram\": [{\"marker\": {\"colorbar\": {\"outlinewidth\": 0, \"ticks\": \"\"}}, \"type\": \"histogram\"}], \"histogram2d\": [{\"colorbar\": {\"outlinewidth\": 0, \"ticks\": \"\"}, \"colorscale\": [[0.0, \"#0d0887\"], [0.1111111111111111, \"#46039f\"], [0.2222222222222222, \"#7201a8\"], [0.3333333333333333, \"#9c179e\"], [0.4444444444444444, \"#bd3786\"], [0.5555555555555556, \"#d8576b\"], [0.6666666666666666, \"#ed7953\"], [0.7777777777777778, \"#fb9f3a\"], [0.8888888888888888, \"#fdca26\"], [1.0, \"#f0f921\"]], \"type\": \"histogram2d\"}], \"histogram2dcontour\": [{\"colorbar\": {\"outlinewidth\": 0, \"ticks\": \"\"}, \"colorscale\": [[0.0, \"#0d0887\"], [0.1111111111111111, \"#46039f\"], [0.2222222222222222, \"#7201a8\"], [0.3333333333333333, \"#9c179e\"], [0.4444444444444444, \"#bd3786\"], [0.5555555555555556, \"#d8576b\"], [0.6666666666666666, \"#ed7953\"], [0.7777777777777778, \"#fb9f3a\"], [0.8888888888888888, \"#fdca26\"], [1.0, \"#f0f921\"]], \"type\": \"histogram2dcontour\"}], \"mesh3d\": [{\"colorbar\": {\"outlinewidth\": 0, \"ticks\": \"\"}, \"type\": \"mesh3d\"}], \"parcoords\": [{\"line\": {\"colorbar\": {\"outlinewidth\": 0, \"ticks\": \"\"}}, \"type\": \"parcoords\"}], \"pie\": [{\"automargin\": true, \"type\": \"pie\"}], \"scatter\": [{\"marker\": {\"colorbar\": {\"outlinewidth\": 0, \"ticks\": \"\"}}, \"type\": \"scatter\"}], \"scatter3d\": [{\"line\": {\"colorbar\": {\"outlinewidth\": 0, \"ticks\": \"\"}}, \"marker\": {\"colorbar\": {\"outlinewidth\": 0, \"ticks\": \"\"}}, \"type\": \"scatter3d\"}], \"scattercarpet\": [{\"marker\": {\"colorbar\": {\"outlinewidth\": 0, \"ticks\": \"\"}}, \"type\": \"scattercarpet\"}], \"scattergeo\": [{\"marker\": {\"colorbar\": {\"outlinewidth\": 0, \"ticks\": \"\"}}, \"type\": \"scattergeo\"}], \"scattergl\": [{\"marker\": {\"colorbar\": {\"outlinewidth\": 0, \"ticks\": \"\"}}, \"type\": \"scattergl\"}], \"scattermapbox\": [{\"marker\": {\"colorbar\": {\"outlinewidth\": 0, \"ticks\": \"\"}}, \"type\": \"scattermapbox\"}], \"scatterpolar\": [{\"marker\": {\"colorbar\": {\"outlinewidth\": 0, \"ticks\": \"\"}}, \"type\": \"scatterpolar\"}], \"scatterpolargl\": [{\"marker\": {\"colorbar\": {\"outlinewidth\": 0, \"ticks\": \"\"}}, \"type\": \"scatterpolargl\"}], \"scatterternary\": [{\"marker\": {\"colorbar\": {\"outlinewidth\": 0, \"ticks\": \"\"}}, \"type\": \"scatterternary\"}], \"surface\": [{\"colorbar\": {\"outlinewidth\": 0, \"ticks\": \"\"}, \"colorscale\": [[0.0, \"#0d0887\"], [0.1111111111111111, \"#46039f\"], [0.2222222222222222, \"#7201a8\"], [0.3333333333333333, \"#9c179e\"], [0.4444444444444444, \"#bd3786\"], [0.5555555555555556, \"#d8576b\"], [0.6666666666666666, \"#ed7953\"], [0.7777777777777778, \"#fb9f3a\"], [0.8888888888888888, \"#fdca26\"], [1.0, \"#f0f921\"]], \"type\": \"surface\"}], \"table\": [{\"cells\": {\"fill\": {\"color\": \"#EBF0F8\"}, \"line\": {\"color\": \"white\"}}, \"header\": {\"fill\": {\"color\": \"#C8D4E3\"}, \"line\": {\"color\": \"white\"}}, \"type\": \"table\"}]}, \"layout\": {\"annotationdefaults\": {\"arrowcolor\": \"#2a3f5f\", \"arrowhead\": 0, \"arrowwidth\": 1}, \"coloraxis\": {\"colorbar\": {\"outlinewidth\": 0, \"ticks\": \"\"}}, \"colorscale\": {\"diverging\": [[0, \"#8e0152\"], [0.1, \"#c51b7d\"], [0.2, \"#de77ae\"], [0.3, \"#f1b6da\"], [0.4, \"#fde0ef\"], [0.5, \"#f7f7f7\"], [0.6, \"#e6f5d0\"], [0.7, \"#b8e186\"], [0.8, \"#7fbc41\"], [0.9, \"#4d9221\"], [1, \"#276419\"]], \"sequential\": [[0.0, \"#0d0887\"], [0.1111111111111111, \"#46039f\"], [0.2222222222222222, \"#7201a8\"], [0.3333333333333333, \"#9c179e\"], [0.4444444444444444, \"#bd3786\"], [0.5555555555555556, \"#d8576b\"], [0.6666666666666666, \"#ed7953\"], [0.7777777777777778, \"#fb9f3a\"], [0.8888888888888888, \"#fdca26\"], [1.0, \"#f0f921\"]], \"sequentialminus\": [[0.0, \"#0d0887\"], [0.1111111111111111, \"#46039f\"], [0.2222222222222222, \"#7201a8\"], [0.3333333333333333, \"#9c179e\"], [0.4444444444444444, \"#bd3786\"], [0.5555555555555556, \"#d8576b\"], [0.6666666666666666, \"#ed7953\"], [0.7777777777777778, \"#fb9f3a\"], [0.8888888888888888, \"#fdca26\"], [1.0, \"#f0f921\"]]}, \"colorway\": [\"#636efa\", \"#EF553B\", \"#00cc96\", \"#ab63fa\", \"#FFA15A\", \"#19d3f3\", \"#FF6692\", \"#B6E880\", \"#FF97FF\", \"#FECB52\"], \"font\": {\"color\": \"#2a3f5f\"}, \"geo\": {\"bgcolor\": \"white\", \"lakecolor\": \"white\", \"landcolor\": \"#E5ECF6\", \"showlakes\": true, \"showland\": true, \"subunitcolor\": \"white\"}, \"hoverlabel\": {\"align\": \"left\"}, \"hovermode\": \"closest\", \"mapbox\": {\"style\": \"light\"}, \"paper_bgcolor\": \"white\", \"plot_bgcolor\": \"#E5ECF6\", \"polar\": {\"angularaxis\": {\"gridcolor\": \"white\", \"linecolor\": \"white\", \"ticks\": \"\"}, \"bgcolor\": \"#E5ECF6\", \"radialaxis\": {\"gridcolor\": \"white\", \"linecolor\": \"white\", \"ticks\": \"\"}}, \"scene\": {\"xaxis\": {\"backgroundcolor\": \"#E5ECF6\", \"gridcolor\": \"white\", \"gridwidth\": 2, \"linecolor\": \"white\", \"showbackground\": true, \"ticks\": \"\", \"zerolinecolor\": \"white\"}, \"yaxis\": {\"backgroundcolor\": \"#E5ECF6\", \"gridcolor\": \"white\", \"gridwidth\": 2, \"linecolor\": \"white\", \"showbackground\": true, \"ticks\": \"\", \"zerolinecolor\": \"white\"}, \"zaxis\": {\"backgroundcolor\": \"#E5ECF6\", \"gridcolor\": \"white\", \"gridwidth\": 2, \"linecolor\": \"white\", \"showbackground\": true, \"ticks\": \"\", \"zerolinecolor\": \"white\"}}, \"shapedefaults\": {\"line\": {\"color\": \"#2a3f5f\"}}, \"ternary\": {\"aaxis\": {\"gridcolor\": \"white\", \"linecolor\": \"white\", \"ticks\": \"\"}, \"baxis\": {\"gridcolor\": \"white\", \"linecolor\": \"white\", \"ticks\": \"\"}, \"bgcolor\": \"#E5ECF6\", \"caxis\": {\"gridcolor\": \"white\", \"linecolor\": \"white\", \"ticks\": \"\"}}, \"title\": {\"x\": 0.05}, \"xaxis\": {\"automargin\": true, \"gridcolor\": \"white\", \"linecolor\": \"white\", \"ticks\": \"\", \"title\": {\"standoff\": 15}, \"zerolinecolor\": \"white\", \"zerolinewidth\": 2}, \"yaxis\": {\"automargin\": true, \"gridcolor\": \"white\", \"linecolor\": \"white\", \"ticks\": \"\", \"title\": {\"standoff\": 15}, \"zerolinecolor\": \"white\", \"zerolinewidth\": 2}}}, \"title\": {\"font\": {\"color\": \"#4D5663\"}}, \"xaxis\": {\"gridcolor\": \"#E1E5ED\", \"showgrid\": true, \"tickfont\": {\"color\": \"#4D5663\"}, \"title\": {\"font\": {\"color\": \"#4D5663\"}, \"text\": \"\"}, \"zerolinecolor\": \"#E1E5ED\"}, \"yaxis\": {\"gridcolor\": \"#E1E5ED\", \"showgrid\": true, \"tickfont\": {\"color\": \"#4D5663\"}, \"title\": {\"font\": {\"color\": \"#4D5663\"}, \"text\": \"\"}, \"zerolinecolor\": \"#E1E5ED\"}},\n",
       "                        {\"showLink\": true, \"linkText\": \"Export to plot.ly\", \"plotlyServerURL\": \"https://plot.ly\", \"responsive\": true}\n",
       "                    ).then(function(){\n",
       "                            \n",
       "var gd = document.getElementById('2a82e932-f111-4785-b6f1-c2a4cf9969d4');\n",
       "var x = new MutationObserver(function (mutations, observer) {{\n",
       "        var display = window.getComputedStyle(gd).display;\n",
       "        if (!display || display === 'none') {{\n",
       "            console.log([gd, 'removed!']);\n",
       "            Plotly.purge(gd);\n",
       "            observer.disconnect();\n",
       "        }}\n",
       "}});\n",
       "\n",
       "// Listen for the removal of the full notebook cells\n",
       "var notebookContainer = gd.closest('#notebook-container');\n",
       "if (notebookContainer) {{\n",
       "    x.observe(notebookContainer, {childList: true});\n",
       "}}\n",
       "\n",
       "// Listen for the clearing of the current output cell\n",
       "var outputEl = gd.closest('.output');\n",
       "if (outputEl) {{\n",
       "    x.observe(outputEl, {childList: true});\n",
       "}}\n",
       "\n",
       "                        })\n",
       "                };\n",
       "                });\n",
       "            </script>\n",
       "        </div>"
      ]
     },
     "metadata": {},
     "output_type": "display_data"
    }
   ],
   "source": [
    "df.sum().iplot(kind='bar')"
   ]
  },
  {
   "cell_type": "markdown",
   "metadata": {},
   "source": [
    "## Boxplots"
   ]
  },
  {
   "cell_type": "code",
   "execution_count": 18,
   "metadata": {},
   "outputs": [
    {
     "data": {
      "application/vnd.plotly.v1+json": {
       "config": {
        "linkText": "Export to plot.ly",
        "plotlyServerURL": "https://plot.ly",
        "showLink": true
       },
       "data": [
        {
         "boxpoints": false,
         "line": {
          "width": 1.3
         },
         "marker": {
          "color": "rgba(255, 153, 51, 1.0)"
         },
         "name": "A",
         "orientation": "v",
         "type": "box",
         "y": [
          0.9273501686452831,
          -0.5336819713432426,
          -0.4719061159137588,
          -0.9892039772850318,
          1.745699378229749,
          -0.26335462861925224,
          0.7908256324744336,
          -0.018916685629151987,
          1.4362821330775597,
          -0.32503355428080577,
          0.153676829720251,
          1.1318065272893738,
          0.08839548036838218,
          -0.13371513443907548,
          0.04554308700723792,
          -0.05877157631492504,
          0.9319619775407781,
          -0.892681343719326,
          -0.23869875455176157,
          -0.8071351942969122,
          -0.8460637342785593,
          0.5435124105045299,
          1.8829768691003779,
          0.26018907025834476,
          -0.9630329187123825,
          0.5924332239870846,
          0.05224067716215473,
          -0.22741409274250976,
          0.12187361251470992,
          0.195255432340129,
          -3.1675899599066684,
          0.4368530139763862,
          1.9289359381994984,
          0.8056938127943846,
          -0.37292655824780185,
          0.6512746095656167,
          -0.9938636126479036,
          0.7862381402545336,
          -1.1287854744382666,
          0.6094151867668576,
          -1.3345012926132753,
          -0.02281986102852559,
          2.1763311981289886,
          -0.09963573401996252,
          0.8464995922182782,
          -1.2042004296695825,
          2.1203247152475537,
          0.36791612384551403,
          -0.23999914272661843,
          0.024080904242700003,
          0.03482469604660009,
          1.8265286417264184,
          0.49707787161574435,
          -0.5323481640582688,
          -0.5904516820742872,
          -0.31429352820806933,
          -0.20083676978802706,
          -0.24576824746640213,
          0.4490649374540152,
          0.009106977618565758,
          -0.2601190686513889,
          -0.4885809019711191,
          -0.7065650259075594,
          -0.5655889024607965,
          1.1242265905343243,
          -1.289422567292631,
          -0.11079106339526591,
          0.025175648703488762,
          -1.0654028367316437,
          0.5876369583983077,
          -1.2193627328117418,
          0.27503948246745363,
          0.20062669512915307,
          -0.712497095962588,
          -0.5936065482919237,
          0.3162171738816598,
          -2.0801283752733593,
          0.05481389727834878,
          0.29834235948809595,
          -0.25193217959399716,
          -0.18815985965566256,
          -1.0993840202389924,
          1.3720808925772439,
          -1.3901447430249643,
          0.2952706310041869,
          -0.14215402384411635,
          0.2557152281650664,
          0.05237368863656635,
          0.1665134157650504,
          0.32752167656534614,
          -0.02638737238095419,
          -0.07622496454221706,
          1.5158939538061444,
          1.2842668521004519,
          1.1900091488359847,
          0.11950465514627728,
          0.20792715338952203,
          -0.7069618004958248,
          -1.0060679633961014,
          0.7402869780165224
         ]
        },
        {
         "boxpoints": false,
         "line": {
          "width": 1.3
         },
         "marker": {
          "color": "rgba(55, 128, 191, 1.0)"
         },
         "name": "B",
         "orientation": "v",
         "type": "box",
         "y": [
          -1.4475834439088642,
          1.936342110293859,
          1.5703019396317082,
          -1.141171509843668,
          0.7086983057483757,
          -0.21548691100100484,
          -0.4935357265485408,
          -0.40008675780020697,
          0.24466237321409023,
          -0.5575940599375178,
          0.7174291311785046,
          0.6066901397467638,
          0.7183279064527168,
          0.9037822643675042,
          0.7922052580156334,
          0.33548132017685217,
          -0.20261143372834065,
          0.7973085569924002,
          1.0992036024784997,
          -0.49476558867100884,
          -0.33780792682176386,
          -1.338637353195344,
          1.1385637433257803,
          -0.20322491634641116,
          0.6844714764071702,
          -0.16617105280152625,
          1.3721896447655835,
          -0.432825142025372,
          -0.6979376497189357,
          -1.827219084945071,
          -0.08870604821904153,
          -0.7593429321290202,
          -1.1452326196090716,
          -0.6591873413644148,
          -0.024453262800700207,
          2.8961064396206346,
          1.363739087484403,
          -0.020299241643240123,
          -0.5503581956789931,
          0.202981852523745,
          -0.04318579863195509,
          1.3640507313160912,
          -1.0280179913191263,
          0.21129179119723718,
          0.10297146234534578,
          -1.2433243782994525,
          -0.021709600661412465,
          1.1984399083378903,
          -1.3599613321180355,
          1.3891357969076896,
          0.07820929637177787,
          -0.6378218867551335,
          -1.0039159825678918,
          -2.126997043628774,
          0.06341984518776161,
          0.32731593946564225,
          2.0722346896488597,
          -1.8756884771290674,
          -1.8738446512520954,
          -0.1688759685449708,
          0.345763386677497,
          -1.4914130382877966,
          -1.4107957310164405,
          -0.4184816338943611,
          1.1964942739671964,
          -0.42009278182817616,
          0.10668530708683387,
          -0.7525150643124401,
          -0.010377553383409528,
          -0.2561262290407313,
          -0.5193080456284674,
          0.2376140021029851,
          0.22650863712631936,
          -0.023683051465336405,
          -0.10574186404763539,
          -1.3388266088658878,
          1.8649371415743328,
          -0.0011472808149724546,
          -0.5809929109198254,
          0.7474919614838859,
          -0.816872565749726,
          1.0410209931608316,
          -0.39785709352618437,
          -1.0815621564988975,
          1.176812583300365,
          0.9895727666875234,
          -0.756797865773887,
          -0.3816828597434053,
          0.42707439730370905,
          -0.1562011388869837,
          0.9675610510066449,
          0.02891219020418467,
          -0.6378898829804626,
          -0.8479768977153376,
          -0.41446797004090963,
          2.564737002195348,
          0.13364725564235924,
          -0.6973271644929159,
          -0.4527411973437712,
          -1.0237425044832327
         ]
        },
        {
         "boxpoints": false,
         "line": {
          "width": 1.3
         },
         "marker": {
          "color": "rgba(50, 171, 96, 1.0)"
         },
         "name": "C",
         "orientation": "v",
         "type": "box",
         "y": [
          1.4049242054570623,
          0.1547621834006053,
          0.6427377446553894,
          0.14176958512210536,
          0.6452742473253624,
          -1.1029515760211577,
          0.004636889360956238,
          -1.4867686806843832,
          1.5347473240196792,
          0.15995536296369012,
          0.31029386900621286,
          -1.549795310649013,
          0.4618488125890316,
          1.1201251521430575,
          0.4690802803947774,
          1.6432681308561372,
          0.008389568495615356,
          -0.01239621104004811,
          0.24131053638423328,
          -1.4103219963121891,
          1.2492004628011075,
          0.18955669364213737,
          0.8157350982642384,
          0.07675734152535334,
          -0.30505179092398904,
          -0.5078562267149158,
          -0.4179911704810528,
          0.5408776143582213,
          1.8372513308449336,
          -0.2501002967666486,
          0.1996512023214983,
          0.8691901065752327,
          0.4495597707471277,
          -2.801023933962865,
          -0.8238229519352759,
          0.04128400296717988,
          -0.6901701140888579,
          1.1916495037586128,
          -0.9295614751372788,
          -0.3231576891007971,
          -0.7040182646953186,
          1.9790020173304628,
          0.985673156309637,
          0.6222213952844792,
          -0.1690695981714178,
          1.3063478136705455,
          -0.5537556528688246,
          0.06401592476986435,
          -0.0008402575602733345,
          -0.5639327228761422,
          0.6608360365296245,
          0.2932081224527548,
          0.6024607368840637,
          0.6096916892907379,
          -0.8679904449478311,
          -0.12208563224647935,
          -1.132526357998367,
          -0.3968559663885494,
          0.5730640969363368,
          0.3827904667250426,
          -0.8200063265474274,
          -0.45552898404631365,
          0.08141056318368534,
          0.5051122350181024,
          -2.0250450421281125,
          0.014663387828365947,
          0.5667760720620605,
          0.2022882687234411,
          1.187387385536581,
          1.0189024742420798,
          -0.7298071957786113,
          0.05948535909929114,
          -0.5079171949110749,
          -0.7440860797142066,
          0.3268609879345079,
          1.4598066328833745,
          1.012654544868541,
          -0.6403355542078821,
          -0.08502020694767025,
          1.4850038202651428,
          0.08081454059719645,
          0.2627642445729847,
          -0.8642028436313269,
          -0.49831337549218374,
          -0.2800136845430416,
          0.040417289509109944,
          -1.144179761118651,
          1.807443770703011,
          0.3806342224989023,
          1.2287603745892146,
          0.8735308102245346,
          -0.8352237499555955,
          1.2123633864099363,
          0.5996684543315636,
          -1.2552732180664523,
          -0.33749497322565136,
          -0.3596282323596586,
          -0.36185868788703535,
          0.8894345743403884,
          -0.8404253713393572
         ]
        },
        {
         "boxpoints": false,
         "line": {
          "width": 1.3
         },
         "marker": {
          "color": "rgba(128, 0, 128, 1.0)"
         },
         "name": "D",
         "orientation": "v",
         "type": "box",
         "y": [
          0.6893397535031753,
          -0.634782770197293,
          -1.3651647455238947,
          0.5659178518454178,
          0.14146422009809448,
          0.20585568742835458,
          -0.323569057620845,
          0.24781586608556125,
          0.8208949499246398,
          1.3351105498079698,
          0.7989279478030678,
          -0.6468933836371301,
          0.39863035992129003,
          0.47095104852203645,
          0.2693234881822479,
          0.5149635994224956,
          0.540039861790419,
          -1.0560385502243055,
          1.420309355013242,
          -1.3271645563971741,
          0.02428842976034102,
          -1.1279761762651903,
          0.7425629834247508,
          0.12454951520226333,
          -0.8900025088723069,
          -1.0415293745293592,
          -1.032703442507068,
          0.08858842850306446,
          0.21673451116324674,
          1.0773810976744913,
          -0.8005023910645993,
          -0.8250117982933071,
          -0.875049873565815,
          0.12047064633653336,
          1.5518281540606154,
          -0.48950713262227397,
          1.158258147987117,
          0.11856343615655199,
          1.6570380736340358,
          2.127076507548714,
          -1.5071492237481672,
          1.3878540441851652,
          1.7967392604687493,
          -2.427511091257778,
          0.6638920325166114,
          -1.0243866636811134,
          -0.9977307088517342,
          1.1332705619033097,
          0.1787949995440567,
          1.8294622360138504,
          1.336117505283273,
          -0.9747308204149058,
          -0.21060626994445616,
          -1.6792949349020025,
          -1.6977453195697814,
          -1.486859332377673,
          0.4614839606236429,
          1.7033598737816464,
          0.3469648988028317,
          -0.6698873840875732,
          1.1598972264121405,
          0.6215349000091484,
          -1.2264167086553013,
          0.23438318536696298,
          1.0633039804419662,
          0.14760634745273152,
          1.2677451019504973,
          0.6535051309470021,
          -0.6851207475862858,
          -1.8591972638103833,
          -0.37396971449307076,
          -1.2208452591467445,
          0.18790967127387492,
          -0.6058533913589577,
          0.01130864506496672,
          -3.1060627472728273,
          -0.27687656929833604,
          0.34068588900417174,
          -0.04575381175627021,
          0.9099625078425607,
          -0.5794692122519473,
          -0.1965604817374992,
          -0.30034716768779113,
          -0.8263038743589,
          0.3559471996961158,
          -0.618517658506671,
          -0.5489259138475905,
          -1.192280245987357,
          -0.17765596325209876,
          -1.7786305738644168,
          0.6023764476041314,
          0.5177743526185985,
          1.625948563551156,
          0.732401806275617,
          0.5159331202280345,
          0.9004335661442393,
          0.12533332537820574,
          0.05145474359691806,
          -1.1901492124514266,
          1.3226574609114097
         ]
        }
       ],
       "layout": {
        "legend": {
         "bgcolor": "#F5F6F9",
         "font": {
          "color": "#4D5663"
         }
        },
        "paper_bgcolor": "#F5F6F9",
        "plot_bgcolor": "#F5F6F9",
        "template": {
         "data": {
          "bar": [
           {
            "error_x": {
             "color": "#2a3f5f"
            },
            "error_y": {
             "color": "#2a3f5f"
            },
            "marker": {
             "line": {
              "color": "#E5ECF6",
              "width": 0.5
             }
            },
            "type": "bar"
           }
          ],
          "barpolar": [
           {
            "marker": {
             "line": {
              "color": "#E5ECF6",
              "width": 0.5
             }
            },
            "type": "barpolar"
           }
          ],
          "carpet": [
           {
            "aaxis": {
             "endlinecolor": "#2a3f5f",
             "gridcolor": "white",
             "linecolor": "white",
             "minorgridcolor": "white",
             "startlinecolor": "#2a3f5f"
            },
            "baxis": {
             "endlinecolor": "#2a3f5f",
             "gridcolor": "white",
             "linecolor": "white",
             "minorgridcolor": "white",
             "startlinecolor": "#2a3f5f"
            },
            "type": "carpet"
           }
          ],
          "choropleth": [
           {
            "colorbar": {
             "outlinewidth": 0,
             "ticks": ""
            },
            "type": "choropleth"
           }
          ],
          "contour": [
           {
            "colorbar": {
             "outlinewidth": 0,
             "ticks": ""
            },
            "colorscale": [
             [
              0,
              "#0d0887"
             ],
             [
              0.1111111111111111,
              "#46039f"
             ],
             [
              0.2222222222222222,
              "#7201a8"
             ],
             [
              0.3333333333333333,
              "#9c179e"
             ],
             [
              0.4444444444444444,
              "#bd3786"
             ],
             [
              0.5555555555555556,
              "#d8576b"
             ],
             [
              0.6666666666666666,
              "#ed7953"
             ],
             [
              0.7777777777777778,
              "#fb9f3a"
             ],
             [
              0.8888888888888888,
              "#fdca26"
             ],
             [
              1,
              "#f0f921"
             ]
            ],
            "type": "contour"
           }
          ],
          "contourcarpet": [
           {
            "colorbar": {
             "outlinewidth": 0,
             "ticks": ""
            },
            "type": "contourcarpet"
           }
          ],
          "heatmap": [
           {
            "colorbar": {
             "outlinewidth": 0,
             "ticks": ""
            },
            "colorscale": [
             [
              0,
              "#0d0887"
             ],
             [
              0.1111111111111111,
              "#46039f"
             ],
             [
              0.2222222222222222,
              "#7201a8"
             ],
             [
              0.3333333333333333,
              "#9c179e"
             ],
             [
              0.4444444444444444,
              "#bd3786"
             ],
             [
              0.5555555555555556,
              "#d8576b"
             ],
             [
              0.6666666666666666,
              "#ed7953"
             ],
             [
              0.7777777777777778,
              "#fb9f3a"
             ],
             [
              0.8888888888888888,
              "#fdca26"
             ],
             [
              1,
              "#f0f921"
             ]
            ],
            "type": "heatmap"
           }
          ],
          "heatmapgl": [
           {
            "colorbar": {
             "outlinewidth": 0,
             "ticks": ""
            },
            "colorscale": [
             [
              0,
              "#0d0887"
             ],
             [
              0.1111111111111111,
              "#46039f"
             ],
             [
              0.2222222222222222,
              "#7201a8"
             ],
             [
              0.3333333333333333,
              "#9c179e"
             ],
             [
              0.4444444444444444,
              "#bd3786"
             ],
             [
              0.5555555555555556,
              "#d8576b"
             ],
             [
              0.6666666666666666,
              "#ed7953"
             ],
             [
              0.7777777777777778,
              "#fb9f3a"
             ],
             [
              0.8888888888888888,
              "#fdca26"
             ],
             [
              1,
              "#f0f921"
             ]
            ],
            "type": "heatmapgl"
           }
          ],
          "histogram": [
           {
            "marker": {
             "colorbar": {
              "outlinewidth": 0,
              "ticks": ""
             }
            },
            "type": "histogram"
           }
          ],
          "histogram2d": [
           {
            "colorbar": {
             "outlinewidth": 0,
             "ticks": ""
            },
            "colorscale": [
             [
              0,
              "#0d0887"
             ],
             [
              0.1111111111111111,
              "#46039f"
             ],
             [
              0.2222222222222222,
              "#7201a8"
             ],
             [
              0.3333333333333333,
              "#9c179e"
             ],
             [
              0.4444444444444444,
              "#bd3786"
             ],
             [
              0.5555555555555556,
              "#d8576b"
             ],
             [
              0.6666666666666666,
              "#ed7953"
             ],
             [
              0.7777777777777778,
              "#fb9f3a"
             ],
             [
              0.8888888888888888,
              "#fdca26"
             ],
             [
              1,
              "#f0f921"
             ]
            ],
            "type": "histogram2d"
           }
          ],
          "histogram2dcontour": [
           {
            "colorbar": {
             "outlinewidth": 0,
             "ticks": ""
            },
            "colorscale": [
             [
              0,
              "#0d0887"
             ],
             [
              0.1111111111111111,
              "#46039f"
             ],
             [
              0.2222222222222222,
              "#7201a8"
             ],
             [
              0.3333333333333333,
              "#9c179e"
             ],
             [
              0.4444444444444444,
              "#bd3786"
             ],
             [
              0.5555555555555556,
              "#d8576b"
             ],
             [
              0.6666666666666666,
              "#ed7953"
             ],
             [
              0.7777777777777778,
              "#fb9f3a"
             ],
             [
              0.8888888888888888,
              "#fdca26"
             ],
             [
              1,
              "#f0f921"
             ]
            ],
            "type": "histogram2dcontour"
           }
          ],
          "mesh3d": [
           {
            "colorbar": {
             "outlinewidth": 0,
             "ticks": ""
            },
            "type": "mesh3d"
           }
          ],
          "parcoords": [
           {
            "line": {
             "colorbar": {
              "outlinewidth": 0,
              "ticks": ""
             }
            },
            "type": "parcoords"
           }
          ],
          "pie": [
           {
            "automargin": true,
            "type": "pie"
           }
          ],
          "scatter": [
           {
            "marker": {
             "colorbar": {
              "outlinewidth": 0,
              "ticks": ""
             }
            },
            "type": "scatter"
           }
          ],
          "scatter3d": [
           {
            "line": {
             "colorbar": {
              "outlinewidth": 0,
              "ticks": ""
             }
            },
            "marker": {
             "colorbar": {
              "outlinewidth": 0,
              "ticks": ""
             }
            },
            "type": "scatter3d"
           }
          ],
          "scattercarpet": [
           {
            "marker": {
             "colorbar": {
              "outlinewidth": 0,
              "ticks": ""
             }
            },
            "type": "scattercarpet"
           }
          ],
          "scattergeo": [
           {
            "marker": {
             "colorbar": {
              "outlinewidth": 0,
              "ticks": ""
             }
            },
            "type": "scattergeo"
           }
          ],
          "scattergl": [
           {
            "marker": {
             "colorbar": {
              "outlinewidth": 0,
              "ticks": ""
             }
            },
            "type": "scattergl"
           }
          ],
          "scattermapbox": [
           {
            "marker": {
             "colorbar": {
              "outlinewidth": 0,
              "ticks": ""
             }
            },
            "type": "scattermapbox"
           }
          ],
          "scatterpolar": [
           {
            "marker": {
             "colorbar": {
              "outlinewidth": 0,
              "ticks": ""
             }
            },
            "type": "scatterpolar"
           }
          ],
          "scatterpolargl": [
           {
            "marker": {
             "colorbar": {
              "outlinewidth": 0,
              "ticks": ""
             }
            },
            "type": "scatterpolargl"
           }
          ],
          "scatterternary": [
           {
            "marker": {
             "colorbar": {
              "outlinewidth": 0,
              "ticks": ""
             }
            },
            "type": "scatterternary"
           }
          ],
          "surface": [
           {
            "colorbar": {
             "outlinewidth": 0,
             "ticks": ""
            },
            "colorscale": [
             [
              0,
              "#0d0887"
             ],
             [
              0.1111111111111111,
              "#46039f"
             ],
             [
              0.2222222222222222,
              "#7201a8"
             ],
             [
              0.3333333333333333,
              "#9c179e"
             ],
             [
              0.4444444444444444,
              "#bd3786"
             ],
             [
              0.5555555555555556,
              "#d8576b"
             ],
             [
              0.6666666666666666,
              "#ed7953"
             ],
             [
              0.7777777777777778,
              "#fb9f3a"
             ],
             [
              0.8888888888888888,
              "#fdca26"
             ],
             [
              1,
              "#f0f921"
             ]
            ],
            "type": "surface"
           }
          ],
          "table": [
           {
            "cells": {
             "fill": {
              "color": "#EBF0F8"
             },
             "line": {
              "color": "white"
             }
            },
            "header": {
             "fill": {
              "color": "#C8D4E3"
             },
             "line": {
              "color": "white"
             }
            },
            "type": "table"
           }
          ]
         },
         "layout": {
          "annotationdefaults": {
           "arrowcolor": "#2a3f5f",
           "arrowhead": 0,
           "arrowwidth": 1
          },
          "coloraxis": {
           "colorbar": {
            "outlinewidth": 0,
            "ticks": ""
           }
          },
          "colorscale": {
           "diverging": [
            [
             0,
             "#8e0152"
            ],
            [
             0.1,
             "#c51b7d"
            ],
            [
             0.2,
             "#de77ae"
            ],
            [
             0.3,
             "#f1b6da"
            ],
            [
             0.4,
             "#fde0ef"
            ],
            [
             0.5,
             "#f7f7f7"
            ],
            [
             0.6,
             "#e6f5d0"
            ],
            [
             0.7,
             "#b8e186"
            ],
            [
             0.8,
             "#7fbc41"
            ],
            [
             0.9,
             "#4d9221"
            ],
            [
             1,
             "#276419"
            ]
           ],
           "sequential": [
            [
             0,
             "#0d0887"
            ],
            [
             0.1111111111111111,
             "#46039f"
            ],
            [
             0.2222222222222222,
             "#7201a8"
            ],
            [
             0.3333333333333333,
             "#9c179e"
            ],
            [
             0.4444444444444444,
             "#bd3786"
            ],
            [
             0.5555555555555556,
             "#d8576b"
            ],
            [
             0.6666666666666666,
             "#ed7953"
            ],
            [
             0.7777777777777778,
             "#fb9f3a"
            ],
            [
             0.8888888888888888,
             "#fdca26"
            ],
            [
             1,
             "#f0f921"
            ]
           ],
           "sequentialminus": [
            [
             0,
             "#0d0887"
            ],
            [
             0.1111111111111111,
             "#46039f"
            ],
            [
             0.2222222222222222,
             "#7201a8"
            ],
            [
             0.3333333333333333,
             "#9c179e"
            ],
            [
             0.4444444444444444,
             "#bd3786"
            ],
            [
             0.5555555555555556,
             "#d8576b"
            ],
            [
             0.6666666666666666,
             "#ed7953"
            ],
            [
             0.7777777777777778,
             "#fb9f3a"
            ],
            [
             0.8888888888888888,
             "#fdca26"
            ],
            [
             1,
             "#f0f921"
            ]
           ]
          },
          "colorway": [
           "#636efa",
           "#EF553B",
           "#00cc96",
           "#ab63fa",
           "#FFA15A",
           "#19d3f3",
           "#FF6692",
           "#B6E880",
           "#FF97FF",
           "#FECB52"
          ],
          "font": {
           "color": "#2a3f5f"
          },
          "geo": {
           "bgcolor": "white",
           "lakecolor": "white",
           "landcolor": "#E5ECF6",
           "showlakes": true,
           "showland": true,
           "subunitcolor": "white"
          },
          "hoverlabel": {
           "align": "left"
          },
          "hovermode": "closest",
          "mapbox": {
           "style": "light"
          },
          "paper_bgcolor": "white",
          "plot_bgcolor": "#E5ECF6",
          "polar": {
           "angularaxis": {
            "gridcolor": "white",
            "linecolor": "white",
            "ticks": ""
           },
           "bgcolor": "#E5ECF6",
           "radialaxis": {
            "gridcolor": "white",
            "linecolor": "white",
            "ticks": ""
           }
          },
          "scene": {
           "xaxis": {
            "backgroundcolor": "#E5ECF6",
            "gridcolor": "white",
            "gridwidth": 2,
            "linecolor": "white",
            "showbackground": true,
            "ticks": "",
            "zerolinecolor": "white"
           },
           "yaxis": {
            "backgroundcolor": "#E5ECF6",
            "gridcolor": "white",
            "gridwidth": 2,
            "linecolor": "white",
            "showbackground": true,
            "ticks": "",
            "zerolinecolor": "white"
           },
           "zaxis": {
            "backgroundcolor": "#E5ECF6",
            "gridcolor": "white",
            "gridwidth": 2,
            "linecolor": "white",
            "showbackground": true,
            "ticks": "",
            "zerolinecolor": "white"
           }
          },
          "shapedefaults": {
           "line": {
            "color": "#2a3f5f"
           }
          },
          "ternary": {
           "aaxis": {
            "gridcolor": "white",
            "linecolor": "white",
            "ticks": ""
           },
           "baxis": {
            "gridcolor": "white",
            "linecolor": "white",
            "ticks": ""
           },
           "bgcolor": "#E5ECF6",
           "caxis": {
            "gridcolor": "white",
            "linecolor": "white",
            "ticks": ""
           }
          },
          "title": {
           "x": 0.05
          },
          "xaxis": {
           "automargin": true,
           "gridcolor": "white",
           "linecolor": "white",
           "ticks": "",
           "title": {
            "standoff": 15
           },
           "zerolinecolor": "white",
           "zerolinewidth": 2
          },
          "yaxis": {
           "automargin": true,
           "gridcolor": "white",
           "linecolor": "white",
           "ticks": "",
           "title": {
            "standoff": 15
           },
           "zerolinecolor": "white",
           "zerolinewidth": 2
          }
         }
        },
        "title": {
         "font": {
          "color": "#4D5663"
         }
        },
        "xaxis": {
         "gridcolor": "#E1E5ED",
         "showgrid": true,
         "tickfont": {
          "color": "#4D5663"
         },
         "title": {
          "font": {
           "color": "#4D5663"
          },
          "text": ""
         },
         "zerolinecolor": "#E1E5ED"
        },
        "yaxis": {
         "gridcolor": "#E1E5ED",
         "showgrid": true,
         "tickfont": {
          "color": "#4D5663"
         },
         "title": {
          "font": {
           "color": "#4D5663"
          },
          "text": ""
         },
         "zerolinecolor": "#E1E5ED"
        }
       }
      },
      "text/html": [
       "<div>\n",
       "        \n",
       "        \n",
       "            <div id=\"88cb8d25-b652-479e-9f1d-ab623e3adfe8\" class=\"plotly-graph-div\" style=\"height:525px; width:100%;\"></div>\n",
       "            <script type=\"text/javascript\">\n",
       "                require([\"plotly\"], function(Plotly) {\n",
       "                    window.PLOTLYENV=window.PLOTLYENV || {};\n",
       "                    window.PLOTLYENV.BASE_URL='https://plot.ly';\n",
       "                    \n",
       "                if (document.getElementById(\"88cb8d25-b652-479e-9f1d-ab623e3adfe8\")) {\n",
       "                    Plotly.newPlot(\n",
       "                        '88cb8d25-b652-479e-9f1d-ab623e3adfe8',\n",
       "                        [{\"boxpoints\": false, \"line\": {\"width\": 1.3}, \"marker\": {\"color\": \"rgba(255, 153, 51, 1.0)\"}, \"name\": \"A\", \"orientation\": \"v\", \"type\": \"box\", \"y\": [0.9273501686452831, -0.5336819713432426, -0.4719061159137588, -0.9892039772850318, 1.745699378229749, -0.26335462861925224, 0.7908256324744336, -0.018916685629151987, 1.4362821330775597, -0.32503355428080577, 0.153676829720251, 1.1318065272893738, 0.08839548036838218, -0.13371513443907548, 0.04554308700723792, -0.05877157631492504, 0.9319619775407781, -0.892681343719326, -0.23869875455176157, -0.8071351942969122, -0.8460637342785593, 0.5435124105045299, 1.8829768691003779, 0.26018907025834476, -0.9630329187123825, 0.5924332239870846, 0.05224067716215473, -0.22741409274250976, 0.12187361251470992, 0.195255432340129, -3.1675899599066684, 0.4368530139763862, 1.9289359381994984, 0.8056938127943846, -0.37292655824780185, 0.6512746095656167, -0.9938636126479036, 0.7862381402545336, -1.1287854744382666, 0.6094151867668576, -1.3345012926132753, -0.02281986102852559, 2.1763311981289886, -0.09963573401996252, 0.8464995922182782, -1.2042004296695825, 2.1203247152475537, 0.36791612384551403, -0.23999914272661843, 0.024080904242700003, 0.03482469604660009, 1.8265286417264184, 0.49707787161574435, -0.5323481640582688, -0.5904516820742872, -0.31429352820806933, -0.20083676978802706, -0.24576824746640213, 0.4490649374540152, 0.009106977618565758, -0.2601190686513889, -0.4885809019711191, -0.7065650259075594, -0.5655889024607965, 1.1242265905343243, -1.289422567292631, -0.11079106339526591, 0.025175648703488762, -1.0654028367316437, 0.5876369583983077, -1.2193627328117418, 0.27503948246745363, 0.20062669512915307, -0.712497095962588, -0.5936065482919237, 0.3162171738816598, -2.0801283752733593, 0.05481389727834878, 0.29834235948809595, -0.25193217959399716, -0.18815985965566256, -1.0993840202389924, 1.3720808925772439, -1.3901447430249643, 0.2952706310041869, -0.14215402384411635, 0.2557152281650664, 0.05237368863656635, 0.1665134157650504, 0.32752167656534614, -0.02638737238095419, -0.07622496454221706, 1.5158939538061444, 1.2842668521004519, 1.1900091488359847, 0.11950465514627728, 0.20792715338952203, -0.7069618004958248, -1.0060679633961014, 0.7402869780165224]}, {\"boxpoints\": false, \"line\": {\"width\": 1.3}, \"marker\": {\"color\": \"rgba(55, 128, 191, 1.0)\"}, \"name\": \"B\", \"orientation\": \"v\", \"type\": \"box\", \"y\": [-1.4475834439088642, 1.936342110293859, 1.5703019396317082, -1.141171509843668, 0.7086983057483757, -0.21548691100100484, -0.4935357265485408, -0.40008675780020697, 0.24466237321409023, -0.5575940599375178, 0.7174291311785046, 0.6066901397467638, 0.7183279064527168, 0.9037822643675042, 0.7922052580156334, 0.33548132017685217, -0.20261143372834065, 0.7973085569924002, 1.0992036024784997, -0.49476558867100884, -0.33780792682176386, -1.338637353195344, 1.1385637433257803, -0.20322491634641116, 0.6844714764071702, -0.16617105280152625, 1.3721896447655835, -0.432825142025372, -0.6979376497189357, -1.827219084945071, -0.08870604821904153, -0.7593429321290202, -1.1452326196090716, -0.6591873413644148, -0.024453262800700207, 2.8961064396206346, 1.363739087484403, -0.020299241643240123, -0.5503581956789931, 0.202981852523745, -0.04318579863195509, 1.3640507313160912, -1.0280179913191263, 0.21129179119723718, 0.10297146234534578, -1.2433243782994525, -0.021709600661412465, 1.1984399083378903, -1.3599613321180355, 1.3891357969076896, 0.07820929637177787, -0.6378218867551335, -1.0039159825678918, -2.126997043628774, 0.06341984518776161, 0.32731593946564225, 2.0722346896488597, -1.8756884771290674, -1.8738446512520954, -0.1688759685449708, 0.345763386677497, -1.4914130382877966, -1.4107957310164405, -0.4184816338943611, 1.1964942739671964, -0.42009278182817616, 0.10668530708683387, -0.7525150643124401, -0.010377553383409528, -0.2561262290407313, -0.5193080456284674, 0.2376140021029851, 0.22650863712631936, -0.023683051465336405, -0.10574186404763539, -1.3388266088658878, 1.8649371415743328, -0.0011472808149724546, -0.5809929109198254, 0.7474919614838859, -0.816872565749726, 1.0410209931608316, -0.39785709352618437, -1.0815621564988975, 1.176812583300365, 0.9895727666875234, -0.756797865773887, -0.3816828597434053, 0.42707439730370905, -0.1562011388869837, 0.9675610510066449, 0.02891219020418467, -0.6378898829804626, -0.8479768977153376, -0.41446797004090963, 2.564737002195348, 0.13364725564235924, -0.6973271644929159, -0.4527411973437712, -1.0237425044832327]}, {\"boxpoints\": false, \"line\": {\"width\": 1.3}, \"marker\": {\"color\": \"rgba(50, 171, 96, 1.0)\"}, \"name\": \"C\", \"orientation\": \"v\", \"type\": \"box\", \"y\": [1.4049242054570623, 0.1547621834006053, 0.6427377446553894, 0.14176958512210536, 0.6452742473253624, -1.1029515760211577, 0.004636889360956238, -1.4867686806843832, 1.5347473240196792, 0.15995536296369012, 0.31029386900621286, -1.549795310649013, 0.4618488125890316, 1.1201251521430575, 0.4690802803947774, 1.6432681308561372, 0.008389568495615356, -0.01239621104004811, 0.24131053638423328, -1.4103219963121891, 1.2492004628011075, 0.18955669364213737, 0.8157350982642384, 0.07675734152535334, -0.30505179092398904, -0.5078562267149158, -0.4179911704810528, 0.5408776143582213, 1.8372513308449336, -0.2501002967666486, 0.1996512023214983, 0.8691901065752327, 0.4495597707471277, -2.801023933962865, -0.8238229519352759, 0.04128400296717988, -0.6901701140888579, 1.1916495037586128, -0.9295614751372788, -0.3231576891007971, -0.7040182646953186, 1.9790020173304628, 0.985673156309637, 0.6222213952844792, -0.1690695981714178, 1.3063478136705455, -0.5537556528688246, 0.06401592476986435, -0.0008402575602733345, -0.5639327228761422, 0.6608360365296245, 0.2932081224527548, 0.6024607368840637, 0.6096916892907379, -0.8679904449478311, -0.12208563224647935, -1.132526357998367, -0.3968559663885494, 0.5730640969363368, 0.3827904667250426, -0.8200063265474274, -0.45552898404631365, 0.08141056318368534, 0.5051122350181024, -2.0250450421281125, 0.014663387828365947, 0.5667760720620605, 0.2022882687234411, 1.187387385536581, 1.0189024742420798, -0.7298071957786113, 0.05948535909929114, -0.5079171949110749, -0.7440860797142066, 0.3268609879345079, 1.4598066328833745, 1.012654544868541, -0.6403355542078821, -0.08502020694767025, 1.4850038202651428, 0.08081454059719645, 0.2627642445729847, -0.8642028436313269, -0.49831337549218374, -0.2800136845430416, 0.040417289509109944, -1.144179761118651, 1.807443770703011, 0.3806342224989023, 1.2287603745892146, 0.8735308102245346, -0.8352237499555955, 1.2123633864099363, 0.5996684543315636, -1.2552732180664523, -0.33749497322565136, -0.3596282323596586, -0.36185868788703535, 0.8894345743403884, -0.8404253713393572]}, {\"boxpoints\": false, \"line\": {\"width\": 1.3}, \"marker\": {\"color\": \"rgba(128, 0, 128, 1.0)\"}, \"name\": \"D\", \"orientation\": \"v\", \"type\": \"box\", \"y\": [0.6893397535031753, -0.634782770197293, -1.3651647455238947, 0.5659178518454178, 0.14146422009809448, 0.20585568742835458, -0.323569057620845, 0.24781586608556125, 0.8208949499246398, 1.3351105498079698, 0.7989279478030678, -0.6468933836371301, 0.39863035992129003, 0.47095104852203645, 0.2693234881822479, 0.5149635994224956, 0.540039861790419, -1.0560385502243055, 1.420309355013242, -1.3271645563971741, 0.02428842976034102, -1.1279761762651903, 0.7425629834247508, 0.12454951520226333, -0.8900025088723069, -1.0415293745293592, -1.032703442507068, 0.08858842850306446, 0.21673451116324674, 1.0773810976744913, -0.8005023910645993, -0.8250117982933071, -0.875049873565815, 0.12047064633653336, 1.5518281540606154, -0.48950713262227397, 1.158258147987117, 0.11856343615655199, 1.6570380736340358, 2.127076507548714, -1.5071492237481672, 1.3878540441851652, 1.7967392604687493, -2.427511091257778, 0.6638920325166114, -1.0243866636811134, -0.9977307088517342, 1.1332705619033097, 0.1787949995440567, 1.8294622360138504, 1.336117505283273, -0.9747308204149058, -0.21060626994445616, -1.6792949349020025, -1.6977453195697814, -1.486859332377673, 0.4614839606236429, 1.7033598737816464, 0.3469648988028317, -0.6698873840875732, 1.1598972264121405, 0.6215349000091484, -1.2264167086553013, 0.23438318536696298, 1.0633039804419662, 0.14760634745273152, 1.2677451019504973, 0.6535051309470021, -0.6851207475862858, -1.8591972638103833, -0.37396971449307076, -1.2208452591467445, 0.18790967127387492, -0.6058533913589577, 0.01130864506496672, -3.1060627472728273, -0.27687656929833604, 0.34068588900417174, -0.04575381175627021, 0.9099625078425607, -0.5794692122519473, -0.1965604817374992, -0.30034716768779113, -0.8263038743589, 0.3559471996961158, -0.618517658506671, -0.5489259138475905, -1.192280245987357, -0.17765596325209876, -1.7786305738644168, 0.6023764476041314, 0.5177743526185985, 1.625948563551156, 0.732401806275617, 0.5159331202280345, 0.9004335661442393, 0.12533332537820574, 0.05145474359691806, -1.1901492124514266, 1.3226574609114097]}],\n",
       "                        {\"legend\": {\"bgcolor\": \"#F5F6F9\", \"font\": {\"color\": \"#4D5663\"}}, \"paper_bgcolor\": \"#F5F6F9\", \"plot_bgcolor\": \"#F5F6F9\", \"template\": {\"data\": {\"bar\": [{\"error_x\": {\"color\": \"#2a3f5f\"}, \"error_y\": {\"color\": \"#2a3f5f\"}, \"marker\": {\"line\": {\"color\": \"#E5ECF6\", \"width\": 0.5}}, \"type\": \"bar\"}], \"barpolar\": [{\"marker\": {\"line\": {\"color\": \"#E5ECF6\", \"width\": 0.5}}, \"type\": \"barpolar\"}], \"carpet\": [{\"aaxis\": {\"endlinecolor\": \"#2a3f5f\", \"gridcolor\": \"white\", \"linecolor\": \"white\", \"minorgridcolor\": \"white\", \"startlinecolor\": \"#2a3f5f\"}, \"baxis\": {\"endlinecolor\": \"#2a3f5f\", \"gridcolor\": \"white\", \"linecolor\": \"white\", \"minorgridcolor\": \"white\", \"startlinecolor\": \"#2a3f5f\"}, \"type\": \"carpet\"}], \"choropleth\": [{\"colorbar\": {\"outlinewidth\": 0, \"ticks\": \"\"}, \"type\": \"choropleth\"}], \"contour\": [{\"colorbar\": {\"outlinewidth\": 0, \"ticks\": \"\"}, \"colorscale\": [[0.0, \"#0d0887\"], [0.1111111111111111, \"#46039f\"], [0.2222222222222222, \"#7201a8\"], [0.3333333333333333, \"#9c179e\"], [0.4444444444444444, \"#bd3786\"], [0.5555555555555556, \"#d8576b\"], [0.6666666666666666, \"#ed7953\"], [0.7777777777777778, \"#fb9f3a\"], [0.8888888888888888, \"#fdca26\"], [1.0, \"#f0f921\"]], \"type\": \"contour\"}], \"contourcarpet\": [{\"colorbar\": {\"outlinewidth\": 0, \"ticks\": \"\"}, \"type\": \"contourcarpet\"}], \"heatmap\": [{\"colorbar\": {\"outlinewidth\": 0, \"ticks\": \"\"}, \"colorscale\": [[0.0, \"#0d0887\"], [0.1111111111111111, \"#46039f\"], [0.2222222222222222, \"#7201a8\"], [0.3333333333333333, \"#9c179e\"], [0.4444444444444444, \"#bd3786\"], [0.5555555555555556, \"#d8576b\"], [0.6666666666666666, \"#ed7953\"], [0.7777777777777778, \"#fb9f3a\"], [0.8888888888888888, \"#fdca26\"], [1.0, \"#f0f921\"]], \"type\": \"heatmap\"}], \"heatmapgl\": [{\"colorbar\": {\"outlinewidth\": 0, \"ticks\": \"\"}, \"colorscale\": [[0.0, \"#0d0887\"], [0.1111111111111111, \"#46039f\"], [0.2222222222222222, \"#7201a8\"], [0.3333333333333333, \"#9c179e\"], [0.4444444444444444, \"#bd3786\"], [0.5555555555555556, \"#d8576b\"], [0.6666666666666666, \"#ed7953\"], [0.7777777777777778, \"#fb9f3a\"], [0.8888888888888888, \"#fdca26\"], [1.0, \"#f0f921\"]], \"type\": \"heatmapgl\"}], \"histogram\": [{\"marker\": {\"colorbar\": {\"outlinewidth\": 0, \"ticks\": \"\"}}, \"type\": \"histogram\"}], \"histogram2d\": [{\"colorbar\": {\"outlinewidth\": 0, \"ticks\": \"\"}, \"colorscale\": [[0.0, \"#0d0887\"], [0.1111111111111111, \"#46039f\"], [0.2222222222222222, \"#7201a8\"], [0.3333333333333333, \"#9c179e\"], [0.4444444444444444, \"#bd3786\"], [0.5555555555555556, \"#d8576b\"], [0.6666666666666666, \"#ed7953\"], [0.7777777777777778, \"#fb9f3a\"], [0.8888888888888888, \"#fdca26\"], [1.0, \"#f0f921\"]], \"type\": \"histogram2d\"}], \"histogram2dcontour\": [{\"colorbar\": {\"outlinewidth\": 0, \"ticks\": \"\"}, \"colorscale\": [[0.0, \"#0d0887\"], [0.1111111111111111, \"#46039f\"], [0.2222222222222222, \"#7201a8\"], [0.3333333333333333, \"#9c179e\"], [0.4444444444444444, \"#bd3786\"], [0.5555555555555556, \"#d8576b\"], [0.6666666666666666, \"#ed7953\"], [0.7777777777777778, \"#fb9f3a\"], [0.8888888888888888, \"#fdca26\"], [1.0, \"#f0f921\"]], \"type\": \"histogram2dcontour\"}], \"mesh3d\": [{\"colorbar\": {\"outlinewidth\": 0, \"ticks\": \"\"}, \"type\": \"mesh3d\"}], \"parcoords\": [{\"line\": {\"colorbar\": {\"outlinewidth\": 0, \"ticks\": \"\"}}, \"type\": \"parcoords\"}], \"pie\": [{\"automargin\": true, \"type\": \"pie\"}], \"scatter\": [{\"marker\": {\"colorbar\": {\"outlinewidth\": 0, \"ticks\": \"\"}}, \"type\": \"scatter\"}], \"scatter3d\": [{\"line\": {\"colorbar\": {\"outlinewidth\": 0, \"ticks\": \"\"}}, \"marker\": {\"colorbar\": {\"outlinewidth\": 0, \"ticks\": \"\"}}, \"type\": \"scatter3d\"}], \"scattercarpet\": [{\"marker\": {\"colorbar\": {\"outlinewidth\": 0, \"ticks\": \"\"}}, \"type\": \"scattercarpet\"}], \"scattergeo\": [{\"marker\": {\"colorbar\": {\"outlinewidth\": 0, \"ticks\": \"\"}}, \"type\": \"scattergeo\"}], \"scattergl\": [{\"marker\": {\"colorbar\": {\"outlinewidth\": 0, \"ticks\": \"\"}}, \"type\": \"scattergl\"}], \"scattermapbox\": [{\"marker\": {\"colorbar\": {\"outlinewidth\": 0, \"ticks\": \"\"}}, \"type\": \"scattermapbox\"}], \"scatterpolar\": [{\"marker\": {\"colorbar\": {\"outlinewidth\": 0, \"ticks\": \"\"}}, \"type\": \"scatterpolar\"}], \"scatterpolargl\": [{\"marker\": {\"colorbar\": {\"outlinewidth\": 0, \"ticks\": \"\"}}, \"type\": \"scatterpolargl\"}], \"scatterternary\": [{\"marker\": {\"colorbar\": {\"outlinewidth\": 0, \"ticks\": \"\"}}, \"type\": \"scatterternary\"}], \"surface\": [{\"colorbar\": {\"outlinewidth\": 0, \"ticks\": \"\"}, \"colorscale\": [[0.0, \"#0d0887\"], [0.1111111111111111, \"#46039f\"], [0.2222222222222222, \"#7201a8\"], [0.3333333333333333, \"#9c179e\"], [0.4444444444444444, \"#bd3786\"], [0.5555555555555556, \"#d8576b\"], [0.6666666666666666, \"#ed7953\"], [0.7777777777777778, \"#fb9f3a\"], [0.8888888888888888, \"#fdca26\"], [1.0, \"#f0f921\"]], \"type\": \"surface\"}], \"table\": [{\"cells\": {\"fill\": {\"color\": \"#EBF0F8\"}, \"line\": {\"color\": \"white\"}}, \"header\": {\"fill\": {\"color\": \"#C8D4E3\"}, \"line\": {\"color\": \"white\"}}, \"type\": \"table\"}]}, \"layout\": {\"annotationdefaults\": {\"arrowcolor\": \"#2a3f5f\", \"arrowhead\": 0, \"arrowwidth\": 1}, \"coloraxis\": {\"colorbar\": {\"outlinewidth\": 0, \"ticks\": \"\"}}, \"colorscale\": {\"diverging\": [[0, \"#8e0152\"], [0.1, \"#c51b7d\"], [0.2, \"#de77ae\"], [0.3, \"#f1b6da\"], [0.4, \"#fde0ef\"], [0.5, \"#f7f7f7\"], [0.6, \"#e6f5d0\"], [0.7, \"#b8e186\"], [0.8, \"#7fbc41\"], [0.9, \"#4d9221\"], [1, \"#276419\"]], \"sequential\": [[0.0, \"#0d0887\"], [0.1111111111111111, \"#46039f\"], [0.2222222222222222, \"#7201a8\"], [0.3333333333333333, \"#9c179e\"], [0.4444444444444444, \"#bd3786\"], [0.5555555555555556, \"#d8576b\"], [0.6666666666666666, \"#ed7953\"], [0.7777777777777778, \"#fb9f3a\"], [0.8888888888888888, \"#fdca26\"], [1.0, \"#f0f921\"]], \"sequentialminus\": [[0.0, \"#0d0887\"], [0.1111111111111111, \"#46039f\"], [0.2222222222222222, \"#7201a8\"], [0.3333333333333333, \"#9c179e\"], [0.4444444444444444, \"#bd3786\"], [0.5555555555555556, \"#d8576b\"], [0.6666666666666666, \"#ed7953\"], [0.7777777777777778, \"#fb9f3a\"], [0.8888888888888888, \"#fdca26\"], [1.0, \"#f0f921\"]]}, \"colorway\": [\"#636efa\", \"#EF553B\", \"#00cc96\", \"#ab63fa\", \"#FFA15A\", \"#19d3f3\", \"#FF6692\", \"#B6E880\", \"#FF97FF\", \"#FECB52\"], \"font\": {\"color\": \"#2a3f5f\"}, \"geo\": {\"bgcolor\": \"white\", \"lakecolor\": \"white\", \"landcolor\": \"#E5ECF6\", \"showlakes\": true, \"showland\": true, \"subunitcolor\": \"white\"}, \"hoverlabel\": {\"align\": \"left\"}, \"hovermode\": \"closest\", \"mapbox\": {\"style\": \"light\"}, \"paper_bgcolor\": \"white\", \"plot_bgcolor\": \"#E5ECF6\", \"polar\": {\"angularaxis\": {\"gridcolor\": \"white\", \"linecolor\": \"white\", \"ticks\": \"\"}, \"bgcolor\": \"#E5ECF6\", \"radialaxis\": {\"gridcolor\": \"white\", \"linecolor\": \"white\", \"ticks\": \"\"}}, \"scene\": {\"xaxis\": {\"backgroundcolor\": \"#E5ECF6\", \"gridcolor\": \"white\", \"gridwidth\": 2, \"linecolor\": \"white\", \"showbackground\": true, \"ticks\": \"\", \"zerolinecolor\": \"white\"}, \"yaxis\": {\"backgroundcolor\": \"#E5ECF6\", \"gridcolor\": \"white\", \"gridwidth\": 2, \"linecolor\": \"white\", \"showbackground\": true, \"ticks\": \"\", \"zerolinecolor\": \"white\"}, \"zaxis\": {\"backgroundcolor\": \"#E5ECF6\", \"gridcolor\": \"white\", \"gridwidth\": 2, \"linecolor\": \"white\", \"showbackground\": true, \"ticks\": \"\", \"zerolinecolor\": \"white\"}}, \"shapedefaults\": {\"line\": {\"color\": \"#2a3f5f\"}}, \"ternary\": {\"aaxis\": {\"gridcolor\": \"white\", \"linecolor\": \"white\", \"ticks\": \"\"}, \"baxis\": {\"gridcolor\": \"white\", \"linecolor\": \"white\", \"ticks\": \"\"}, \"bgcolor\": \"#E5ECF6\", \"caxis\": {\"gridcolor\": \"white\", \"linecolor\": \"white\", \"ticks\": \"\"}}, \"title\": {\"x\": 0.05}, \"xaxis\": {\"automargin\": true, \"gridcolor\": \"white\", \"linecolor\": \"white\", \"ticks\": \"\", \"title\": {\"standoff\": 15}, \"zerolinecolor\": \"white\", \"zerolinewidth\": 2}, \"yaxis\": {\"automargin\": true, \"gridcolor\": \"white\", \"linecolor\": \"white\", \"ticks\": \"\", \"title\": {\"standoff\": 15}, \"zerolinecolor\": \"white\", \"zerolinewidth\": 2}}}, \"title\": {\"font\": {\"color\": \"#4D5663\"}}, \"xaxis\": {\"gridcolor\": \"#E1E5ED\", \"showgrid\": true, \"tickfont\": {\"color\": \"#4D5663\"}, \"title\": {\"font\": {\"color\": \"#4D5663\"}, \"text\": \"\"}, \"zerolinecolor\": \"#E1E5ED\"}, \"yaxis\": {\"gridcolor\": \"#E1E5ED\", \"showgrid\": true, \"tickfont\": {\"color\": \"#4D5663\"}, \"title\": {\"font\": {\"color\": \"#4D5663\"}, \"text\": \"\"}, \"zerolinecolor\": \"#E1E5ED\"}},\n",
       "                        {\"showLink\": true, \"linkText\": \"Export to plot.ly\", \"plotlyServerURL\": \"https://plot.ly\", \"responsive\": true}\n",
       "                    ).then(function(){\n",
       "                            \n",
       "var gd = document.getElementById('88cb8d25-b652-479e-9f1d-ab623e3adfe8');\n",
       "var x = new MutationObserver(function (mutations, observer) {{\n",
       "        var display = window.getComputedStyle(gd).display;\n",
       "        if (!display || display === 'none') {{\n",
       "            console.log([gd, 'removed!']);\n",
       "            Plotly.purge(gd);\n",
       "            observer.disconnect();\n",
       "        }}\n",
       "}});\n",
       "\n",
       "// Listen for the removal of the full notebook cells\n",
       "var notebookContainer = gd.closest('#notebook-container');\n",
       "if (notebookContainer) {{\n",
       "    x.observe(notebookContainer, {childList: true});\n",
       "}}\n",
       "\n",
       "// Listen for the clearing of the current output cell\n",
       "var outputEl = gd.closest('.output');\n",
       "if (outputEl) {{\n",
       "    x.observe(outputEl, {childList: true});\n",
       "}}\n",
       "\n",
       "                        })\n",
       "                };\n",
       "                });\n",
       "            </script>\n",
       "        </div>"
      ]
     },
     "metadata": {},
     "output_type": "display_data"
    }
   ],
   "source": [
    "df.iplot(kind='box')"
   ]
  },
  {
   "cell_type": "markdown",
   "metadata": {},
   "source": [
    "## 3d Surface"
   ]
  },
  {
   "cell_type": "code",
   "execution_count": 19,
   "metadata": {
    "scrolled": true
   },
   "outputs": [
    {
     "data": {
      "application/vnd.plotly.v1+json": {
       "config": {
        "linkText": "Export to plot.ly",
        "plotlyServerURL": "https://plot.ly",
        "showLink": true
       },
       "data": [
        {
         "colorscale": [
          [
           0,
           "rgb(165,0,38)"
          ],
          [
           0.1,
           "rgb(215,48,39)"
          ],
          [
           0.2,
           "rgb(244,109,67)"
          ],
          [
           0.3,
           "rgb(253,174,97)"
          ],
          [
           0.4,
           "rgb(254,224,144)"
          ],
          [
           0.5,
           "rgb(255,255,191)"
          ],
          [
           0.6,
           "rgb(224,243,248)"
          ],
          [
           0.7,
           "rgb(171,217,233)"
          ],
          [
           0.8,
           "rgb(116,173,209)"
          ],
          [
           0.9,
           "rgb(69,117,180)"
          ],
          [
           1,
           "rgb(49,54,149)"
          ]
         ],
         "type": "surface",
         "x": [
          0,
          1,
          2,
          3,
          4
         ],
         "y": [
          "x",
          "y",
          "z"
         ],
         "z": [
          [
           1,
           2,
           3,
           4,
           5
          ],
          [
           10,
           20,
           30,
           20,
           10
          ],
          [
           5,
           4,
           3,
           2,
           1
          ]
         ]
        }
       ],
       "layout": {
        "legend": {
         "bgcolor": "#F5F6F9",
         "font": {
          "color": "#4D5663"
         }
        },
        "paper_bgcolor": "#F5F6F9",
        "plot_bgcolor": "#F5F6F9",
        "template": {
         "data": {
          "bar": [
           {
            "error_x": {
             "color": "#2a3f5f"
            },
            "error_y": {
             "color": "#2a3f5f"
            },
            "marker": {
             "line": {
              "color": "#E5ECF6",
              "width": 0.5
             }
            },
            "type": "bar"
           }
          ],
          "barpolar": [
           {
            "marker": {
             "line": {
              "color": "#E5ECF6",
              "width": 0.5
             }
            },
            "type": "barpolar"
           }
          ],
          "carpet": [
           {
            "aaxis": {
             "endlinecolor": "#2a3f5f",
             "gridcolor": "white",
             "linecolor": "white",
             "minorgridcolor": "white",
             "startlinecolor": "#2a3f5f"
            },
            "baxis": {
             "endlinecolor": "#2a3f5f",
             "gridcolor": "white",
             "linecolor": "white",
             "minorgridcolor": "white",
             "startlinecolor": "#2a3f5f"
            },
            "type": "carpet"
           }
          ],
          "choropleth": [
           {
            "colorbar": {
             "outlinewidth": 0,
             "ticks": ""
            },
            "type": "choropleth"
           }
          ],
          "contour": [
           {
            "colorbar": {
             "outlinewidth": 0,
             "ticks": ""
            },
            "colorscale": [
             [
              0,
              "#0d0887"
             ],
             [
              0.1111111111111111,
              "#46039f"
             ],
             [
              0.2222222222222222,
              "#7201a8"
             ],
             [
              0.3333333333333333,
              "#9c179e"
             ],
             [
              0.4444444444444444,
              "#bd3786"
             ],
             [
              0.5555555555555556,
              "#d8576b"
             ],
             [
              0.6666666666666666,
              "#ed7953"
             ],
             [
              0.7777777777777778,
              "#fb9f3a"
             ],
             [
              0.8888888888888888,
              "#fdca26"
             ],
             [
              1,
              "#f0f921"
             ]
            ],
            "type": "contour"
           }
          ],
          "contourcarpet": [
           {
            "colorbar": {
             "outlinewidth": 0,
             "ticks": ""
            },
            "type": "contourcarpet"
           }
          ],
          "heatmap": [
           {
            "colorbar": {
             "outlinewidth": 0,
             "ticks": ""
            },
            "colorscale": [
             [
              0,
              "#0d0887"
             ],
             [
              0.1111111111111111,
              "#46039f"
             ],
             [
              0.2222222222222222,
              "#7201a8"
             ],
             [
              0.3333333333333333,
              "#9c179e"
             ],
             [
              0.4444444444444444,
              "#bd3786"
             ],
             [
              0.5555555555555556,
              "#d8576b"
             ],
             [
              0.6666666666666666,
              "#ed7953"
             ],
             [
              0.7777777777777778,
              "#fb9f3a"
             ],
             [
              0.8888888888888888,
              "#fdca26"
             ],
             [
              1,
              "#f0f921"
             ]
            ],
            "type": "heatmap"
           }
          ],
          "heatmapgl": [
           {
            "colorbar": {
             "outlinewidth": 0,
             "ticks": ""
            },
            "colorscale": [
             [
              0,
              "#0d0887"
             ],
             [
              0.1111111111111111,
              "#46039f"
             ],
             [
              0.2222222222222222,
              "#7201a8"
             ],
             [
              0.3333333333333333,
              "#9c179e"
             ],
             [
              0.4444444444444444,
              "#bd3786"
             ],
             [
              0.5555555555555556,
              "#d8576b"
             ],
             [
              0.6666666666666666,
              "#ed7953"
             ],
             [
              0.7777777777777778,
              "#fb9f3a"
             ],
             [
              0.8888888888888888,
              "#fdca26"
             ],
             [
              1,
              "#f0f921"
             ]
            ],
            "type": "heatmapgl"
           }
          ],
          "histogram": [
           {
            "marker": {
             "colorbar": {
              "outlinewidth": 0,
              "ticks": ""
             }
            },
            "type": "histogram"
           }
          ],
          "histogram2d": [
           {
            "colorbar": {
             "outlinewidth": 0,
             "ticks": ""
            },
            "colorscale": [
             [
              0,
              "#0d0887"
             ],
             [
              0.1111111111111111,
              "#46039f"
             ],
             [
              0.2222222222222222,
              "#7201a8"
             ],
             [
              0.3333333333333333,
              "#9c179e"
             ],
             [
              0.4444444444444444,
              "#bd3786"
             ],
             [
              0.5555555555555556,
              "#d8576b"
             ],
             [
              0.6666666666666666,
              "#ed7953"
             ],
             [
              0.7777777777777778,
              "#fb9f3a"
             ],
             [
              0.8888888888888888,
              "#fdca26"
             ],
             [
              1,
              "#f0f921"
             ]
            ],
            "type": "histogram2d"
           }
          ],
          "histogram2dcontour": [
           {
            "colorbar": {
             "outlinewidth": 0,
             "ticks": ""
            },
            "colorscale": [
             [
              0,
              "#0d0887"
             ],
             [
              0.1111111111111111,
              "#46039f"
             ],
             [
              0.2222222222222222,
              "#7201a8"
             ],
             [
              0.3333333333333333,
              "#9c179e"
             ],
             [
              0.4444444444444444,
              "#bd3786"
             ],
             [
              0.5555555555555556,
              "#d8576b"
             ],
             [
              0.6666666666666666,
              "#ed7953"
             ],
             [
              0.7777777777777778,
              "#fb9f3a"
             ],
             [
              0.8888888888888888,
              "#fdca26"
             ],
             [
              1,
              "#f0f921"
             ]
            ],
            "type": "histogram2dcontour"
           }
          ],
          "mesh3d": [
           {
            "colorbar": {
             "outlinewidth": 0,
             "ticks": ""
            },
            "type": "mesh3d"
           }
          ],
          "parcoords": [
           {
            "line": {
             "colorbar": {
              "outlinewidth": 0,
              "ticks": ""
             }
            },
            "type": "parcoords"
           }
          ],
          "pie": [
           {
            "automargin": true,
            "type": "pie"
           }
          ],
          "scatter": [
           {
            "marker": {
             "colorbar": {
              "outlinewidth": 0,
              "ticks": ""
             }
            },
            "type": "scatter"
           }
          ],
          "scatter3d": [
           {
            "line": {
             "colorbar": {
              "outlinewidth": 0,
              "ticks": ""
             }
            },
            "marker": {
             "colorbar": {
              "outlinewidth": 0,
              "ticks": ""
             }
            },
            "type": "scatter3d"
           }
          ],
          "scattercarpet": [
           {
            "marker": {
             "colorbar": {
              "outlinewidth": 0,
              "ticks": ""
             }
            },
            "type": "scattercarpet"
           }
          ],
          "scattergeo": [
           {
            "marker": {
             "colorbar": {
              "outlinewidth": 0,
              "ticks": ""
             }
            },
            "type": "scattergeo"
           }
          ],
          "scattergl": [
           {
            "marker": {
             "colorbar": {
              "outlinewidth": 0,
              "ticks": ""
             }
            },
            "type": "scattergl"
           }
          ],
          "scattermapbox": [
           {
            "marker": {
             "colorbar": {
              "outlinewidth": 0,
              "ticks": ""
             }
            },
            "type": "scattermapbox"
           }
          ],
          "scatterpolar": [
           {
            "marker": {
             "colorbar": {
              "outlinewidth": 0,
              "ticks": ""
             }
            },
            "type": "scatterpolar"
           }
          ],
          "scatterpolargl": [
           {
            "marker": {
             "colorbar": {
              "outlinewidth": 0,
              "ticks": ""
             }
            },
            "type": "scatterpolargl"
           }
          ],
          "scatterternary": [
           {
            "marker": {
             "colorbar": {
              "outlinewidth": 0,
              "ticks": ""
             }
            },
            "type": "scatterternary"
           }
          ],
          "surface": [
           {
            "colorbar": {
             "outlinewidth": 0,
             "ticks": ""
            },
            "colorscale": [
             [
              0,
              "#0d0887"
             ],
             [
              0.1111111111111111,
              "#46039f"
             ],
             [
              0.2222222222222222,
              "#7201a8"
             ],
             [
              0.3333333333333333,
              "#9c179e"
             ],
             [
              0.4444444444444444,
              "#bd3786"
             ],
             [
              0.5555555555555556,
              "#d8576b"
             ],
             [
              0.6666666666666666,
              "#ed7953"
             ],
             [
              0.7777777777777778,
              "#fb9f3a"
             ],
             [
              0.8888888888888888,
              "#fdca26"
             ],
             [
              1,
              "#f0f921"
             ]
            ],
            "type": "surface"
           }
          ],
          "table": [
           {
            "cells": {
             "fill": {
              "color": "#EBF0F8"
             },
             "line": {
              "color": "white"
             }
            },
            "header": {
             "fill": {
              "color": "#C8D4E3"
             },
             "line": {
              "color": "white"
             }
            },
            "type": "table"
           }
          ]
         },
         "layout": {
          "annotationdefaults": {
           "arrowcolor": "#2a3f5f",
           "arrowhead": 0,
           "arrowwidth": 1
          },
          "coloraxis": {
           "colorbar": {
            "outlinewidth": 0,
            "ticks": ""
           }
          },
          "colorscale": {
           "diverging": [
            [
             0,
             "#8e0152"
            ],
            [
             0.1,
             "#c51b7d"
            ],
            [
             0.2,
             "#de77ae"
            ],
            [
             0.3,
             "#f1b6da"
            ],
            [
             0.4,
             "#fde0ef"
            ],
            [
             0.5,
             "#f7f7f7"
            ],
            [
             0.6,
             "#e6f5d0"
            ],
            [
             0.7,
             "#b8e186"
            ],
            [
             0.8,
             "#7fbc41"
            ],
            [
             0.9,
             "#4d9221"
            ],
            [
             1,
             "#276419"
            ]
           ],
           "sequential": [
            [
             0,
             "#0d0887"
            ],
            [
             0.1111111111111111,
             "#46039f"
            ],
            [
             0.2222222222222222,
             "#7201a8"
            ],
            [
             0.3333333333333333,
             "#9c179e"
            ],
            [
             0.4444444444444444,
             "#bd3786"
            ],
            [
             0.5555555555555556,
             "#d8576b"
            ],
            [
             0.6666666666666666,
             "#ed7953"
            ],
            [
             0.7777777777777778,
             "#fb9f3a"
            ],
            [
             0.8888888888888888,
             "#fdca26"
            ],
            [
             1,
             "#f0f921"
            ]
           ],
           "sequentialminus": [
            [
             0,
             "#0d0887"
            ],
            [
             0.1111111111111111,
             "#46039f"
            ],
            [
             0.2222222222222222,
             "#7201a8"
            ],
            [
             0.3333333333333333,
             "#9c179e"
            ],
            [
             0.4444444444444444,
             "#bd3786"
            ],
            [
             0.5555555555555556,
             "#d8576b"
            ],
            [
             0.6666666666666666,
             "#ed7953"
            ],
            [
             0.7777777777777778,
             "#fb9f3a"
            ],
            [
             0.8888888888888888,
             "#fdca26"
            ],
            [
             1,
             "#f0f921"
            ]
           ]
          },
          "colorway": [
           "#636efa",
           "#EF553B",
           "#00cc96",
           "#ab63fa",
           "#FFA15A",
           "#19d3f3",
           "#FF6692",
           "#B6E880",
           "#FF97FF",
           "#FECB52"
          ],
          "font": {
           "color": "#2a3f5f"
          },
          "geo": {
           "bgcolor": "white",
           "lakecolor": "white",
           "landcolor": "#E5ECF6",
           "showlakes": true,
           "showland": true,
           "subunitcolor": "white"
          },
          "hoverlabel": {
           "align": "left"
          },
          "hovermode": "closest",
          "mapbox": {
           "style": "light"
          },
          "paper_bgcolor": "white",
          "plot_bgcolor": "#E5ECF6",
          "polar": {
           "angularaxis": {
            "gridcolor": "white",
            "linecolor": "white",
            "ticks": ""
           },
           "bgcolor": "#E5ECF6",
           "radialaxis": {
            "gridcolor": "white",
            "linecolor": "white",
            "ticks": ""
           }
          },
          "scene": {
           "xaxis": {
            "backgroundcolor": "#E5ECF6",
            "gridcolor": "white",
            "gridwidth": 2,
            "linecolor": "white",
            "showbackground": true,
            "ticks": "",
            "zerolinecolor": "white"
           },
           "yaxis": {
            "backgroundcolor": "#E5ECF6",
            "gridcolor": "white",
            "gridwidth": 2,
            "linecolor": "white",
            "showbackground": true,
            "ticks": "",
            "zerolinecolor": "white"
           },
           "zaxis": {
            "backgroundcolor": "#E5ECF6",
            "gridcolor": "white",
            "gridwidth": 2,
            "linecolor": "white",
            "showbackground": true,
            "ticks": "",
            "zerolinecolor": "white"
           }
          },
          "shapedefaults": {
           "line": {
            "color": "#2a3f5f"
           }
          },
          "ternary": {
           "aaxis": {
            "gridcolor": "white",
            "linecolor": "white",
            "ticks": ""
           },
           "baxis": {
            "gridcolor": "white",
            "linecolor": "white",
            "ticks": ""
           },
           "bgcolor": "#E5ECF6",
           "caxis": {
            "gridcolor": "white",
            "linecolor": "white",
            "ticks": ""
           }
          },
          "title": {
           "x": 0.05
          },
          "xaxis": {
           "automargin": true,
           "gridcolor": "white",
           "linecolor": "white",
           "ticks": "",
           "title": {
            "standoff": 15
           },
           "zerolinecolor": "white",
           "zerolinewidth": 2
          },
          "yaxis": {
           "automargin": true,
           "gridcolor": "white",
           "linecolor": "white",
           "ticks": "",
           "title": {
            "standoff": 15
           },
           "zerolinecolor": "white",
           "zerolinewidth": 2
          }
         }
        },
        "title": {
         "font": {
          "color": "#4D5663"
         }
        },
        "xaxis": {
         "gridcolor": "#E1E5ED",
         "showgrid": true,
         "tickfont": {
          "color": "#4D5663"
         },
         "title": {
          "font": {
           "color": "#4D5663"
          },
          "text": ""
         },
         "zerolinecolor": "#E1E5ED"
        },
        "yaxis": {
         "gridcolor": "#E1E5ED",
         "showgrid": true,
         "tickfont": {
          "color": "#4D5663"
         },
         "title": {
          "font": {
           "color": "#4D5663"
          },
          "text": ""
         },
         "zerolinecolor": "#E1E5ED"
        }
       }
      },
      "text/html": [
       "<div>\n",
       "        \n",
       "        \n",
       "            <div id=\"ba3c08ed-3da4-426f-94af-e7b42e0b3767\" class=\"plotly-graph-div\" style=\"height:525px; width:100%;\"></div>\n",
       "            <script type=\"text/javascript\">\n",
       "                require([\"plotly\"], function(Plotly) {\n",
       "                    window.PLOTLYENV=window.PLOTLYENV || {};\n",
       "                    window.PLOTLYENV.BASE_URL='https://plot.ly';\n",
       "                    \n",
       "                if (document.getElementById(\"ba3c08ed-3da4-426f-94af-e7b42e0b3767\")) {\n",
       "                    Plotly.newPlot(\n",
       "                        'ba3c08ed-3da4-426f-94af-e7b42e0b3767',\n",
       "                        [{\"colorscale\": [[0.0, \"rgb(165,0,38)\"], [0.1, \"rgb(215,48,39)\"], [0.2, \"rgb(244,109,67)\"], [0.3, \"rgb(253,174,97)\"], [0.4, \"rgb(254,224,144)\"], [0.5, \"rgb(255,255,191)\"], [0.6, \"rgb(224,243,248)\"], [0.7, \"rgb(171,217,233)\"], [0.8, \"rgb(116,173,209)\"], [0.9, \"rgb(69,117,180)\"], [1.0, \"rgb(49,54,149)\"]], \"type\": \"surface\", \"x\": [0, 1, 2, 3, 4], \"y\": [\"x\", \"y\", \"z\"], \"z\": [[1, 2, 3, 4, 5], [10, 20, 30, 20, 10], [5, 4, 3, 2, 1]]}],\n",
       "                        {\"legend\": {\"bgcolor\": \"#F5F6F9\", \"font\": {\"color\": \"#4D5663\"}}, \"paper_bgcolor\": \"#F5F6F9\", \"plot_bgcolor\": \"#F5F6F9\", \"template\": {\"data\": {\"bar\": [{\"error_x\": {\"color\": \"#2a3f5f\"}, \"error_y\": {\"color\": \"#2a3f5f\"}, \"marker\": {\"line\": {\"color\": \"#E5ECF6\", \"width\": 0.5}}, \"type\": \"bar\"}], \"barpolar\": [{\"marker\": {\"line\": {\"color\": \"#E5ECF6\", \"width\": 0.5}}, \"type\": \"barpolar\"}], \"carpet\": [{\"aaxis\": {\"endlinecolor\": \"#2a3f5f\", \"gridcolor\": \"white\", \"linecolor\": \"white\", \"minorgridcolor\": \"white\", \"startlinecolor\": \"#2a3f5f\"}, \"baxis\": {\"endlinecolor\": \"#2a3f5f\", \"gridcolor\": \"white\", \"linecolor\": \"white\", \"minorgridcolor\": \"white\", \"startlinecolor\": \"#2a3f5f\"}, \"type\": \"carpet\"}], \"choropleth\": [{\"colorbar\": {\"outlinewidth\": 0, \"ticks\": \"\"}, \"type\": \"choropleth\"}], \"contour\": [{\"colorbar\": {\"outlinewidth\": 0, \"ticks\": \"\"}, \"colorscale\": [[0.0, \"#0d0887\"], [0.1111111111111111, \"#46039f\"], [0.2222222222222222, \"#7201a8\"], [0.3333333333333333, \"#9c179e\"], [0.4444444444444444, \"#bd3786\"], [0.5555555555555556, \"#d8576b\"], [0.6666666666666666, \"#ed7953\"], [0.7777777777777778, \"#fb9f3a\"], [0.8888888888888888, \"#fdca26\"], [1.0, \"#f0f921\"]], \"type\": \"contour\"}], \"contourcarpet\": [{\"colorbar\": {\"outlinewidth\": 0, \"ticks\": \"\"}, \"type\": \"contourcarpet\"}], \"heatmap\": [{\"colorbar\": {\"outlinewidth\": 0, \"ticks\": \"\"}, \"colorscale\": [[0.0, \"#0d0887\"], [0.1111111111111111, \"#46039f\"], [0.2222222222222222, \"#7201a8\"], [0.3333333333333333, \"#9c179e\"], [0.4444444444444444, \"#bd3786\"], [0.5555555555555556, \"#d8576b\"], [0.6666666666666666, \"#ed7953\"], [0.7777777777777778, \"#fb9f3a\"], [0.8888888888888888, \"#fdca26\"], [1.0, \"#f0f921\"]], \"type\": \"heatmap\"}], \"heatmapgl\": [{\"colorbar\": {\"outlinewidth\": 0, \"ticks\": \"\"}, \"colorscale\": [[0.0, \"#0d0887\"], [0.1111111111111111, \"#46039f\"], [0.2222222222222222, \"#7201a8\"], [0.3333333333333333, \"#9c179e\"], [0.4444444444444444, \"#bd3786\"], [0.5555555555555556, \"#d8576b\"], [0.6666666666666666, \"#ed7953\"], [0.7777777777777778, \"#fb9f3a\"], [0.8888888888888888, \"#fdca26\"], [1.0, \"#f0f921\"]], \"type\": \"heatmapgl\"}], \"histogram\": [{\"marker\": {\"colorbar\": {\"outlinewidth\": 0, \"ticks\": \"\"}}, \"type\": \"histogram\"}], \"histogram2d\": [{\"colorbar\": {\"outlinewidth\": 0, \"ticks\": \"\"}, \"colorscale\": [[0.0, \"#0d0887\"], [0.1111111111111111, \"#46039f\"], [0.2222222222222222, \"#7201a8\"], [0.3333333333333333, \"#9c179e\"], [0.4444444444444444, \"#bd3786\"], [0.5555555555555556, \"#d8576b\"], [0.6666666666666666, \"#ed7953\"], [0.7777777777777778, \"#fb9f3a\"], [0.8888888888888888, \"#fdca26\"], [1.0, \"#f0f921\"]], \"type\": \"histogram2d\"}], \"histogram2dcontour\": [{\"colorbar\": {\"outlinewidth\": 0, \"ticks\": \"\"}, \"colorscale\": [[0.0, \"#0d0887\"], [0.1111111111111111, \"#46039f\"], [0.2222222222222222, \"#7201a8\"], [0.3333333333333333, \"#9c179e\"], [0.4444444444444444, \"#bd3786\"], [0.5555555555555556, \"#d8576b\"], [0.6666666666666666, \"#ed7953\"], [0.7777777777777778, \"#fb9f3a\"], [0.8888888888888888, \"#fdca26\"], [1.0, \"#f0f921\"]], \"type\": \"histogram2dcontour\"}], \"mesh3d\": [{\"colorbar\": {\"outlinewidth\": 0, \"ticks\": \"\"}, \"type\": \"mesh3d\"}], \"parcoords\": [{\"line\": {\"colorbar\": {\"outlinewidth\": 0, \"ticks\": \"\"}}, \"type\": \"parcoords\"}], \"pie\": [{\"automargin\": true, \"type\": \"pie\"}], \"scatter\": [{\"marker\": {\"colorbar\": {\"outlinewidth\": 0, \"ticks\": \"\"}}, \"type\": \"scatter\"}], \"scatter3d\": [{\"line\": {\"colorbar\": {\"outlinewidth\": 0, \"ticks\": \"\"}}, \"marker\": {\"colorbar\": {\"outlinewidth\": 0, \"ticks\": \"\"}}, \"type\": \"scatter3d\"}], \"scattercarpet\": [{\"marker\": {\"colorbar\": {\"outlinewidth\": 0, \"ticks\": \"\"}}, \"type\": \"scattercarpet\"}], \"scattergeo\": [{\"marker\": {\"colorbar\": {\"outlinewidth\": 0, \"ticks\": \"\"}}, \"type\": \"scattergeo\"}], \"scattergl\": [{\"marker\": {\"colorbar\": {\"outlinewidth\": 0, \"ticks\": \"\"}}, \"type\": \"scattergl\"}], \"scattermapbox\": [{\"marker\": {\"colorbar\": {\"outlinewidth\": 0, \"ticks\": \"\"}}, \"type\": \"scattermapbox\"}], \"scatterpolar\": [{\"marker\": {\"colorbar\": {\"outlinewidth\": 0, \"ticks\": \"\"}}, \"type\": \"scatterpolar\"}], \"scatterpolargl\": [{\"marker\": {\"colorbar\": {\"outlinewidth\": 0, \"ticks\": \"\"}}, \"type\": \"scatterpolargl\"}], \"scatterternary\": [{\"marker\": {\"colorbar\": {\"outlinewidth\": 0, \"ticks\": \"\"}}, \"type\": \"scatterternary\"}], \"surface\": [{\"colorbar\": {\"outlinewidth\": 0, \"ticks\": \"\"}, \"colorscale\": [[0.0, \"#0d0887\"], [0.1111111111111111, \"#46039f\"], [0.2222222222222222, \"#7201a8\"], [0.3333333333333333, \"#9c179e\"], [0.4444444444444444, \"#bd3786\"], [0.5555555555555556, \"#d8576b\"], [0.6666666666666666, \"#ed7953\"], [0.7777777777777778, \"#fb9f3a\"], [0.8888888888888888, \"#fdca26\"], [1.0, \"#f0f921\"]], \"type\": \"surface\"}], \"table\": [{\"cells\": {\"fill\": {\"color\": \"#EBF0F8\"}, \"line\": {\"color\": \"white\"}}, \"header\": {\"fill\": {\"color\": \"#C8D4E3\"}, \"line\": {\"color\": \"white\"}}, \"type\": \"table\"}]}, \"layout\": {\"annotationdefaults\": {\"arrowcolor\": \"#2a3f5f\", \"arrowhead\": 0, \"arrowwidth\": 1}, \"coloraxis\": {\"colorbar\": {\"outlinewidth\": 0, \"ticks\": \"\"}}, \"colorscale\": {\"diverging\": [[0, \"#8e0152\"], [0.1, \"#c51b7d\"], [0.2, \"#de77ae\"], [0.3, \"#f1b6da\"], [0.4, \"#fde0ef\"], [0.5, \"#f7f7f7\"], [0.6, \"#e6f5d0\"], [0.7, \"#b8e186\"], [0.8, \"#7fbc41\"], [0.9, \"#4d9221\"], [1, \"#276419\"]], \"sequential\": [[0.0, \"#0d0887\"], [0.1111111111111111, \"#46039f\"], [0.2222222222222222, \"#7201a8\"], [0.3333333333333333, \"#9c179e\"], [0.4444444444444444, \"#bd3786\"], [0.5555555555555556, \"#d8576b\"], [0.6666666666666666, \"#ed7953\"], [0.7777777777777778, \"#fb9f3a\"], [0.8888888888888888, \"#fdca26\"], [1.0, \"#f0f921\"]], \"sequentialminus\": [[0.0, \"#0d0887\"], [0.1111111111111111, \"#46039f\"], [0.2222222222222222, \"#7201a8\"], [0.3333333333333333, \"#9c179e\"], [0.4444444444444444, \"#bd3786\"], [0.5555555555555556, \"#d8576b\"], [0.6666666666666666, \"#ed7953\"], [0.7777777777777778, \"#fb9f3a\"], [0.8888888888888888, \"#fdca26\"], [1.0, \"#f0f921\"]]}, \"colorway\": [\"#636efa\", \"#EF553B\", \"#00cc96\", \"#ab63fa\", \"#FFA15A\", \"#19d3f3\", \"#FF6692\", \"#B6E880\", \"#FF97FF\", \"#FECB52\"], \"font\": {\"color\": \"#2a3f5f\"}, \"geo\": {\"bgcolor\": \"white\", \"lakecolor\": \"white\", \"landcolor\": \"#E5ECF6\", \"showlakes\": true, \"showland\": true, \"subunitcolor\": \"white\"}, \"hoverlabel\": {\"align\": \"left\"}, \"hovermode\": \"closest\", \"mapbox\": {\"style\": \"light\"}, \"paper_bgcolor\": \"white\", \"plot_bgcolor\": \"#E5ECF6\", \"polar\": {\"angularaxis\": {\"gridcolor\": \"white\", \"linecolor\": \"white\", \"ticks\": \"\"}, \"bgcolor\": \"#E5ECF6\", \"radialaxis\": {\"gridcolor\": \"white\", \"linecolor\": \"white\", \"ticks\": \"\"}}, \"scene\": {\"xaxis\": {\"backgroundcolor\": \"#E5ECF6\", \"gridcolor\": \"white\", \"gridwidth\": 2, \"linecolor\": \"white\", \"showbackground\": true, \"ticks\": \"\", \"zerolinecolor\": \"white\"}, \"yaxis\": {\"backgroundcolor\": \"#E5ECF6\", \"gridcolor\": \"white\", \"gridwidth\": 2, \"linecolor\": \"white\", \"showbackground\": true, \"ticks\": \"\", \"zerolinecolor\": \"white\"}, \"zaxis\": {\"backgroundcolor\": \"#E5ECF6\", \"gridcolor\": \"white\", \"gridwidth\": 2, \"linecolor\": \"white\", \"showbackground\": true, \"ticks\": \"\", \"zerolinecolor\": \"white\"}}, \"shapedefaults\": {\"line\": {\"color\": \"#2a3f5f\"}}, \"ternary\": {\"aaxis\": {\"gridcolor\": \"white\", \"linecolor\": \"white\", \"ticks\": \"\"}, \"baxis\": {\"gridcolor\": \"white\", \"linecolor\": \"white\", \"ticks\": \"\"}, \"bgcolor\": \"#E5ECF6\", \"caxis\": {\"gridcolor\": \"white\", \"linecolor\": \"white\", \"ticks\": \"\"}}, \"title\": {\"x\": 0.05}, \"xaxis\": {\"automargin\": true, \"gridcolor\": \"white\", \"linecolor\": \"white\", \"ticks\": \"\", \"title\": {\"standoff\": 15}, \"zerolinecolor\": \"white\", \"zerolinewidth\": 2}, \"yaxis\": {\"automargin\": true, \"gridcolor\": \"white\", \"linecolor\": \"white\", \"ticks\": \"\", \"title\": {\"standoff\": 15}, \"zerolinecolor\": \"white\", \"zerolinewidth\": 2}}}, \"title\": {\"font\": {\"color\": \"#4D5663\"}}, \"xaxis\": {\"gridcolor\": \"#E1E5ED\", \"showgrid\": true, \"tickfont\": {\"color\": \"#4D5663\"}, \"title\": {\"font\": {\"color\": \"#4D5663\"}, \"text\": \"\"}, \"zerolinecolor\": \"#E1E5ED\"}, \"yaxis\": {\"gridcolor\": \"#E1E5ED\", \"showgrid\": true, \"tickfont\": {\"color\": \"#4D5663\"}, \"title\": {\"font\": {\"color\": \"#4D5663\"}, \"text\": \"\"}, \"zerolinecolor\": \"#E1E5ED\"}},\n",
       "                        {\"showLink\": true, \"linkText\": \"Export to plot.ly\", \"plotlyServerURL\": \"https://plot.ly\", \"responsive\": true}\n",
       "                    ).then(function(){\n",
       "                            \n",
       "var gd = document.getElementById('ba3c08ed-3da4-426f-94af-e7b42e0b3767');\n",
       "var x = new MutationObserver(function (mutations, observer) {{\n",
       "        var display = window.getComputedStyle(gd).display;\n",
       "        if (!display || display === 'none') {{\n",
       "            console.log([gd, 'removed!']);\n",
       "            Plotly.purge(gd);\n",
       "            observer.disconnect();\n",
       "        }}\n",
       "}});\n",
       "\n",
       "// Listen for the removal of the full notebook cells\n",
       "var notebookContainer = gd.closest('#notebook-container');\n",
       "if (notebookContainer) {{\n",
       "    x.observe(notebookContainer, {childList: true});\n",
       "}}\n",
       "\n",
       "// Listen for the clearing of the current output cell\n",
       "var outputEl = gd.closest('.output');\n",
       "if (outputEl) {{\n",
       "    x.observe(outputEl, {childList: true});\n",
       "}}\n",
       "\n",
       "                        })\n",
       "                };\n",
       "                });\n",
       "            </script>\n",
       "        </div>"
      ]
     },
     "metadata": {},
     "output_type": "display_data"
    }
   ],
   "source": [
    "df3 = pd.DataFrame({'x':[1,2,3,4,5],'y':[10,20,30,20,10],'z':[5,4,3,2,1]})\n",
    "df3.iplot(kind='surface',colorscale='rdylbu')"
   ]
  },
  {
   "cell_type": "code",
   "execution_count": 21,
   "metadata": {
    "scrolled": true
   },
   "outputs": [
    {
     "data": {
      "application/vnd.plotly.v1+json": {
       "config": {
        "linkText": "Export to plot.ly",
        "plotlyServerURL": "https://plot.ly",
        "showLink": true
       },
       "data": [
        {
         "histfunc": "count",
         "histnorm": "",
         "marker": {
          "color": "rgba(255, 153, 51, 1.0)",
          "line": {
           "color": "#4D5663",
           "width": 1.3
          }
         },
         "name": "A",
         "nbinsx": 50,
         "opacity": 0.8,
         "orientation": "v",
         "type": "histogram",
         "x": [
          0.9273501686452831,
          -0.5336819713432426,
          -0.4719061159137588,
          -0.9892039772850318,
          1.745699378229749,
          -0.26335462861925224,
          0.7908256324744336,
          -0.018916685629151987,
          1.4362821330775597,
          -0.32503355428080577,
          0.153676829720251,
          1.1318065272893738,
          0.08839548036838218,
          -0.13371513443907548,
          0.04554308700723792,
          -0.05877157631492504,
          0.9319619775407781,
          -0.892681343719326,
          -0.23869875455176157,
          -0.8071351942969122,
          -0.8460637342785593,
          0.5435124105045299,
          1.8829768691003779,
          0.26018907025834476,
          -0.9630329187123825,
          0.5924332239870846,
          0.05224067716215473,
          -0.22741409274250976,
          0.12187361251470992,
          0.195255432340129,
          -3.1675899599066684,
          0.4368530139763862,
          1.9289359381994984,
          0.8056938127943846,
          -0.37292655824780185,
          0.6512746095656167,
          -0.9938636126479036,
          0.7862381402545336,
          -1.1287854744382666,
          0.6094151867668576,
          -1.3345012926132753,
          -0.02281986102852559,
          2.1763311981289886,
          -0.09963573401996252,
          0.8464995922182782,
          -1.2042004296695825,
          2.1203247152475537,
          0.36791612384551403,
          -0.23999914272661843,
          0.024080904242700003,
          0.03482469604660009,
          1.8265286417264184,
          0.49707787161574435,
          -0.5323481640582688,
          -0.5904516820742872,
          -0.31429352820806933,
          -0.20083676978802706,
          -0.24576824746640213,
          0.4490649374540152,
          0.009106977618565758,
          -0.2601190686513889,
          -0.4885809019711191,
          -0.7065650259075594,
          -0.5655889024607965,
          1.1242265905343243,
          -1.289422567292631,
          -0.11079106339526591,
          0.025175648703488762,
          -1.0654028367316437,
          0.5876369583983077,
          -1.2193627328117418,
          0.27503948246745363,
          0.20062669512915307,
          -0.712497095962588,
          -0.5936065482919237,
          0.3162171738816598,
          -2.0801283752733593,
          0.05481389727834878,
          0.29834235948809595,
          -0.25193217959399716,
          -0.18815985965566256,
          -1.0993840202389924,
          1.3720808925772439,
          -1.3901447430249643,
          0.2952706310041869,
          -0.14215402384411635,
          0.2557152281650664,
          0.05237368863656635,
          0.1665134157650504,
          0.32752167656534614,
          -0.02638737238095419,
          -0.07622496454221706,
          1.5158939538061444,
          1.2842668521004519,
          1.1900091488359847,
          0.11950465514627728,
          0.20792715338952203,
          -0.7069618004958248,
          -1.0060679633961014,
          0.7402869780165224
         ]
        }
       ],
       "layout": {
        "barmode": "overlay",
        "legend": {
         "bgcolor": "#F5F6F9",
         "font": {
          "color": "#4D5663"
         }
        },
        "paper_bgcolor": "#F5F6F9",
        "plot_bgcolor": "#F5F6F9",
        "template": {
         "data": {
          "bar": [
           {
            "error_x": {
             "color": "#2a3f5f"
            },
            "error_y": {
             "color": "#2a3f5f"
            },
            "marker": {
             "line": {
              "color": "#E5ECF6",
              "width": 0.5
             }
            },
            "type": "bar"
           }
          ],
          "barpolar": [
           {
            "marker": {
             "line": {
              "color": "#E5ECF6",
              "width": 0.5
             }
            },
            "type": "barpolar"
           }
          ],
          "carpet": [
           {
            "aaxis": {
             "endlinecolor": "#2a3f5f",
             "gridcolor": "white",
             "linecolor": "white",
             "minorgridcolor": "white",
             "startlinecolor": "#2a3f5f"
            },
            "baxis": {
             "endlinecolor": "#2a3f5f",
             "gridcolor": "white",
             "linecolor": "white",
             "minorgridcolor": "white",
             "startlinecolor": "#2a3f5f"
            },
            "type": "carpet"
           }
          ],
          "choropleth": [
           {
            "colorbar": {
             "outlinewidth": 0,
             "ticks": ""
            },
            "type": "choropleth"
           }
          ],
          "contour": [
           {
            "colorbar": {
             "outlinewidth": 0,
             "ticks": ""
            },
            "colorscale": [
             [
              0,
              "#0d0887"
             ],
             [
              0.1111111111111111,
              "#46039f"
             ],
             [
              0.2222222222222222,
              "#7201a8"
             ],
             [
              0.3333333333333333,
              "#9c179e"
             ],
             [
              0.4444444444444444,
              "#bd3786"
             ],
             [
              0.5555555555555556,
              "#d8576b"
             ],
             [
              0.6666666666666666,
              "#ed7953"
             ],
             [
              0.7777777777777778,
              "#fb9f3a"
             ],
             [
              0.8888888888888888,
              "#fdca26"
             ],
             [
              1,
              "#f0f921"
             ]
            ],
            "type": "contour"
           }
          ],
          "contourcarpet": [
           {
            "colorbar": {
             "outlinewidth": 0,
             "ticks": ""
            },
            "type": "contourcarpet"
           }
          ],
          "heatmap": [
           {
            "colorbar": {
             "outlinewidth": 0,
             "ticks": ""
            },
            "colorscale": [
             [
              0,
              "#0d0887"
             ],
             [
              0.1111111111111111,
              "#46039f"
             ],
             [
              0.2222222222222222,
              "#7201a8"
             ],
             [
              0.3333333333333333,
              "#9c179e"
             ],
             [
              0.4444444444444444,
              "#bd3786"
             ],
             [
              0.5555555555555556,
              "#d8576b"
             ],
             [
              0.6666666666666666,
              "#ed7953"
             ],
             [
              0.7777777777777778,
              "#fb9f3a"
             ],
             [
              0.8888888888888888,
              "#fdca26"
             ],
             [
              1,
              "#f0f921"
             ]
            ],
            "type": "heatmap"
           }
          ],
          "heatmapgl": [
           {
            "colorbar": {
             "outlinewidth": 0,
             "ticks": ""
            },
            "colorscale": [
             [
              0,
              "#0d0887"
             ],
             [
              0.1111111111111111,
              "#46039f"
             ],
             [
              0.2222222222222222,
              "#7201a8"
             ],
             [
              0.3333333333333333,
              "#9c179e"
             ],
             [
              0.4444444444444444,
              "#bd3786"
             ],
             [
              0.5555555555555556,
              "#d8576b"
             ],
             [
              0.6666666666666666,
              "#ed7953"
             ],
             [
              0.7777777777777778,
              "#fb9f3a"
             ],
             [
              0.8888888888888888,
              "#fdca26"
             ],
             [
              1,
              "#f0f921"
             ]
            ],
            "type": "heatmapgl"
           }
          ],
          "histogram": [
           {
            "marker": {
             "colorbar": {
              "outlinewidth": 0,
              "ticks": ""
             }
            },
            "type": "histogram"
           }
          ],
          "histogram2d": [
           {
            "colorbar": {
             "outlinewidth": 0,
             "ticks": ""
            },
            "colorscale": [
             [
              0,
              "#0d0887"
             ],
             [
              0.1111111111111111,
              "#46039f"
             ],
             [
              0.2222222222222222,
              "#7201a8"
             ],
             [
              0.3333333333333333,
              "#9c179e"
             ],
             [
              0.4444444444444444,
              "#bd3786"
             ],
             [
              0.5555555555555556,
              "#d8576b"
             ],
             [
              0.6666666666666666,
              "#ed7953"
             ],
             [
              0.7777777777777778,
              "#fb9f3a"
             ],
             [
              0.8888888888888888,
              "#fdca26"
             ],
             [
              1,
              "#f0f921"
             ]
            ],
            "type": "histogram2d"
           }
          ],
          "histogram2dcontour": [
           {
            "colorbar": {
             "outlinewidth": 0,
             "ticks": ""
            },
            "colorscale": [
             [
              0,
              "#0d0887"
             ],
             [
              0.1111111111111111,
              "#46039f"
             ],
             [
              0.2222222222222222,
              "#7201a8"
             ],
             [
              0.3333333333333333,
              "#9c179e"
             ],
             [
              0.4444444444444444,
              "#bd3786"
             ],
             [
              0.5555555555555556,
              "#d8576b"
             ],
             [
              0.6666666666666666,
              "#ed7953"
             ],
             [
              0.7777777777777778,
              "#fb9f3a"
             ],
             [
              0.8888888888888888,
              "#fdca26"
             ],
             [
              1,
              "#f0f921"
             ]
            ],
            "type": "histogram2dcontour"
           }
          ],
          "mesh3d": [
           {
            "colorbar": {
             "outlinewidth": 0,
             "ticks": ""
            },
            "type": "mesh3d"
           }
          ],
          "parcoords": [
           {
            "line": {
             "colorbar": {
              "outlinewidth": 0,
              "ticks": ""
             }
            },
            "type": "parcoords"
           }
          ],
          "pie": [
           {
            "automargin": true,
            "type": "pie"
           }
          ],
          "scatter": [
           {
            "marker": {
             "colorbar": {
              "outlinewidth": 0,
              "ticks": ""
             }
            },
            "type": "scatter"
           }
          ],
          "scatter3d": [
           {
            "line": {
             "colorbar": {
              "outlinewidth": 0,
              "ticks": ""
             }
            },
            "marker": {
             "colorbar": {
              "outlinewidth": 0,
              "ticks": ""
             }
            },
            "type": "scatter3d"
           }
          ],
          "scattercarpet": [
           {
            "marker": {
             "colorbar": {
              "outlinewidth": 0,
              "ticks": ""
             }
            },
            "type": "scattercarpet"
           }
          ],
          "scattergeo": [
           {
            "marker": {
             "colorbar": {
              "outlinewidth": 0,
              "ticks": ""
             }
            },
            "type": "scattergeo"
           }
          ],
          "scattergl": [
           {
            "marker": {
             "colorbar": {
              "outlinewidth": 0,
              "ticks": ""
             }
            },
            "type": "scattergl"
           }
          ],
          "scattermapbox": [
           {
            "marker": {
             "colorbar": {
              "outlinewidth": 0,
              "ticks": ""
             }
            },
            "type": "scattermapbox"
           }
          ],
          "scatterpolar": [
           {
            "marker": {
             "colorbar": {
              "outlinewidth": 0,
              "ticks": ""
             }
            },
            "type": "scatterpolar"
           }
          ],
          "scatterpolargl": [
           {
            "marker": {
             "colorbar": {
              "outlinewidth": 0,
              "ticks": ""
             }
            },
            "type": "scatterpolargl"
           }
          ],
          "scatterternary": [
           {
            "marker": {
             "colorbar": {
              "outlinewidth": 0,
              "ticks": ""
             }
            },
            "type": "scatterternary"
           }
          ],
          "surface": [
           {
            "colorbar": {
             "outlinewidth": 0,
             "ticks": ""
            },
            "colorscale": [
             [
              0,
              "#0d0887"
             ],
             [
              0.1111111111111111,
              "#46039f"
             ],
             [
              0.2222222222222222,
              "#7201a8"
             ],
             [
              0.3333333333333333,
              "#9c179e"
             ],
             [
              0.4444444444444444,
              "#bd3786"
             ],
             [
              0.5555555555555556,
              "#d8576b"
             ],
             [
              0.6666666666666666,
              "#ed7953"
             ],
             [
              0.7777777777777778,
              "#fb9f3a"
             ],
             [
              0.8888888888888888,
              "#fdca26"
             ],
             [
              1,
              "#f0f921"
             ]
            ],
            "type": "surface"
           }
          ],
          "table": [
           {
            "cells": {
             "fill": {
              "color": "#EBF0F8"
             },
             "line": {
              "color": "white"
             }
            },
            "header": {
             "fill": {
              "color": "#C8D4E3"
             },
             "line": {
              "color": "white"
             }
            },
            "type": "table"
           }
          ]
         },
         "layout": {
          "annotationdefaults": {
           "arrowcolor": "#2a3f5f",
           "arrowhead": 0,
           "arrowwidth": 1
          },
          "coloraxis": {
           "colorbar": {
            "outlinewidth": 0,
            "ticks": ""
           }
          },
          "colorscale": {
           "diverging": [
            [
             0,
             "#8e0152"
            ],
            [
             0.1,
             "#c51b7d"
            ],
            [
             0.2,
             "#de77ae"
            ],
            [
             0.3,
             "#f1b6da"
            ],
            [
             0.4,
             "#fde0ef"
            ],
            [
             0.5,
             "#f7f7f7"
            ],
            [
             0.6,
             "#e6f5d0"
            ],
            [
             0.7,
             "#b8e186"
            ],
            [
             0.8,
             "#7fbc41"
            ],
            [
             0.9,
             "#4d9221"
            ],
            [
             1,
             "#276419"
            ]
           ],
           "sequential": [
            [
             0,
             "#0d0887"
            ],
            [
             0.1111111111111111,
             "#46039f"
            ],
            [
             0.2222222222222222,
             "#7201a8"
            ],
            [
             0.3333333333333333,
             "#9c179e"
            ],
            [
             0.4444444444444444,
             "#bd3786"
            ],
            [
             0.5555555555555556,
             "#d8576b"
            ],
            [
             0.6666666666666666,
             "#ed7953"
            ],
            [
             0.7777777777777778,
             "#fb9f3a"
            ],
            [
             0.8888888888888888,
             "#fdca26"
            ],
            [
             1,
             "#f0f921"
            ]
           ],
           "sequentialminus": [
            [
             0,
             "#0d0887"
            ],
            [
             0.1111111111111111,
             "#46039f"
            ],
            [
             0.2222222222222222,
             "#7201a8"
            ],
            [
             0.3333333333333333,
             "#9c179e"
            ],
            [
             0.4444444444444444,
             "#bd3786"
            ],
            [
             0.5555555555555556,
             "#d8576b"
            ],
            [
             0.6666666666666666,
             "#ed7953"
            ],
            [
             0.7777777777777778,
             "#fb9f3a"
            ],
            [
             0.8888888888888888,
             "#fdca26"
            ],
            [
             1,
             "#f0f921"
            ]
           ]
          },
          "colorway": [
           "#636efa",
           "#EF553B",
           "#00cc96",
           "#ab63fa",
           "#FFA15A",
           "#19d3f3",
           "#FF6692",
           "#B6E880",
           "#FF97FF",
           "#FECB52"
          ],
          "font": {
           "color": "#2a3f5f"
          },
          "geo": {
           "bgcolor": "white",
           "lakecolor": "white",
           "landcolor": "#E5ECF6",
           "showlakes": true,
           "showland": true,
           "subunitcolor": "white"
          },
          "hoverlabel": {
           "align": "left"
          },
          "hovermode": "closest",
          "mapbox": {
           "style": "light"
          },
          "paper_bgcolor": "white",
          "plot_bgcolor": "#E5ECF6",
          "polar": {
           "angularaxis": {
            "gridcolor": "white",
            "linecolor": "white",
            "ticks": ""
           },
           "bgcolor": "#E5ECF6",
           "radialaxis": {
            "gridcolor": "white",
            "linecolor": "white",
            "ticks": ""
           }
          },
          "scene": {
           "xaxis": {
            "backgroundcolor": "#E5ECF6",
            "gridcolor": "white",
            "gridwidth": 2,
            "linecolor": "white",
            "showbackground": true,
            "ticks": "",
            "zerolinecolor": "white"
           },
           "yaxis": {
            "backgroundcolor": "#E5ECF6",
            "gridcolor": "white",
            "gridwidth": 2,
            "linecolor": "white",
            "showbackground": true,
            "ticks": "",
            "zerolinecolor": "white"
           },
           "zaxis": {
            "backgroundcolor": "#E5ECF6",
            "gridcolor": "white",
            "gridwidth": 2,
            "linecolor": "white",
            "showbackground": true,
            "ticks": "",
            "zerolinecolor": "white"
           }
          },
          "shapedefaults": {
           "line": {
            "color": "#2a3f5f"
           }
          },
          "ternary": {
           "aaxis": {
            "gridcolor": "white",
            "linecolor": "white",
            "ticks": ""
           },
           "baxis": {
            "gridcolor": "white",
            "linecolor": "white",
            "ticks": ""
           },
           "bgcolor": "#E5ECF6",
           "caxis": {
            "gridcolor": "white",
            "linecolor": "white",
            "ticks": ""
           }
          },
          "title": {
           "x": 0.05
          },
          "xaxis": {
           "automargin": true,
           "gridcolor": "white",
           "linecolor": "white",
           "ticks": "",
           "title": {
            "standoff": 15
           },
           "zerolinecolor": "white",
           "zerolinewidth": 2
          },
          "yaxis": {
           "automargin": true,
           "gridcolor": "white",
           "linecolor": "white",
           "ticks": "",
           "title": {
            "standoff": 15
           },
           "zerolinecolor": "white",
           "zerolinewidth": 2
          }
         }
        },
        "title": {
         "font": {
          "color": "#4D5663"
         }
        },
        "xaxis": {
         "gridcolor": "#E1E5ED",
         "showgrid": true,
         "tickfont": {
          "color": "#4D5663"
         },
         "title": {
          "font": {
           "color": "#4D5663"
          },
          "text": ""
         },
         "zerolinecolor": "#E1E5ED"
        },
        "yaxis": {
         "gridcolor": "#E1E5ED",
         "showgrid": true,
         "tickfont": {
          "color": "#4D5663"
         },
         "title": {
          "font": {
           "color": "#4D5663"
          },
          "text": ""
         },
         "zerolinecolor": "#E1E5ED"
        }
       }
      },
      "text/html": [
       "<div>\n",
       "        \n",
       "        \n",
       "            <div id=\"008d50e9-e748-4c15-8783-a4c42ebd4f52\" class=\"plotly-graph-div\" style=\"height:525px; width:100%;\"></div>\n",
       "            <script type=\"text/javascript\">\n",
       "                require([\"plotly\"], function(Plotly) {\n",
       "                    window.PLOTLYENV=window.PLOTLYENV || {};\n",
       "                    window.PLOTLYENV.BASE_URL='https://plot.ly';\n",
       "                    \n",
       "                if (document.getElementById(\"008d50e9-e748-4c15-8783-a4c42ebd4f52\")) {\n",
       "                    Plotly.newPlot(\n",
       "                        '008d50e9-e748-4c15-8783-a4c42ebd4f52',\n",
       "                        [{\"histfunc\": \"count\", \"histnorm\": \"\", \"marker\": {\"color\": \"rgba(255, 153, 51, 1.0)\", \"line\": {\"color\": \"#4D5663\", \"width\": 1.3}}, \"name\": \"A\", \"nbinsx\": 50, \"opacity\": 0.8, \"orientation\": \"v\", \"type\": \"histogram\", \"x\": [0.9273501686452831, -0.5336819713432426, -0.4719061159137588, -0.9892039772850318, 1.745699378229749, -0.26335462861925224, 0.7908256324744336, -0.018916685629151987, 1.4362821330775597, -0.32503355428080577, 0.153676829720251, 1.1318065272893738, 0.08839548036838218, -0.13371513443907548, 0.04554308700723792, -0.05877157631492504, 0.9319619775407781, -0.892681343719326, -0.23869875455176157, -0.8071351942969122, -0.8460637342785593, 0.5435124105045299, 1.8829768691003779, 0.26018907025834476, -0.9630329187123825, 0.5924332239870846, 0.05224067716215473, -0.22741409274250976, 0.12187361251470992, 0.195255432340129, -3.1675899599066684, 0.4368530139763862, 1.9289359381994984, 0.8056938127943846, -0.37292655824780185, 0.6512746095656167, -0.9938636126479036, 0.7862381402545336, -1.1287854744382666, 0.6094151867668576, -1.3345012926132753, -0.02281986102852559, 2.1763311981289886, -0.09963573401996252, 0.8464995922182782, -1.2042004296695825, 2.1203247152475537, 0.36791612384551403, -0.23999914272661843, 0.024080904242700003, 0.03482469604660009, 1.8265286417264184, 0.49707787161574435, -0.5323481640582688, -0.5904516820742872, -0.31429352820806933, -0.20083676978802706, -0.24576824746640213, 0.4490649374540152, 0.009106977618565758, -0.2601190686513889, -0.4885809019711191, -0.7065650259075594, -0.5655889024607965, 1.1242265905343243, -1.289422567292631, -0.11079106339526591, 0.025175648703488762, -1.0654028367316437, 0.5876369583983077, -1.2193627328117418, 0.27503948246745363, 0.20062669512915307, -0.712497095962588, -0.5936065482919237, 0.3162171738816598, -2.0801283752733593, 0.05481389727834878, 0.29834235948809595, -0.25193217959399716, -0.18815985965566256, -1.0993840202389924, 1.3720808925772439, -1.3901447430249643, 0.2952706310041869, -0.14215402384411635, 0.2557152281650664, 0.05237368863656635, 0.1665134157650504, 0.32752167656534614, -0.02638737238095419, -0.07622496454221706, 1.5158939538061444, 1.2842668521004519, 1.1900091488359847, 0.11950465514627728, 0.20792715338952203, -0.7069618004958248, -1.0060679633961014, 0.7402869780165224]}],\n",
       "                        {\"barmode\": \"overlay\", \"legend\": {\"bgcolor\": \"#F5F6F9\", \"font\": {\"color\": \"#4D5663\"}}, \"paper_bgcolor\": \"#F5F6F9\", \"plot_bgcolor\": \"#F5F6F9\", \"template\": {\"data\": {\"bar\": [{\"error_x\": {\"color\": \"#2a3f5f\"}, \"error_y\": {\"color\": \"#2a3f5f\"}, \"marker\": {\"line\": {\"color\": \"#E5ECF6\", \"width\": 0.5}}, \"type\": \"bar\"}], \"barpolar\": [{\"marker\": {\"line\": {\"color\": \"#E5ECF6\", \"width\": 0.5}}, \"type\": \"barpolar\"}], \"carpet\": [{\"aaxis\": {\"endlinecolor\": \"#2a3f5f\", \"gridcolor\": \"white\", \"linecolor\": \"white\", \"minorgridcolor\": \"white\", \"startlinecolor\": \"#2a3f5f\"}, \"baxis\": {\"endlinecolor\": \"#2a3f5f\", \"gridcolor\": \"white\", \"linecolor\": \"white\", \"minorgridcolor\": \"white\", \"startlinecolor\": \"#2a3f5f\"}, \"type\": \"carpet\"}], \"choropleth\": [{\"colorbar\": {\"outlinewidth\": 0, \"ticks\": \"\"}, \"type\": \"choropleth\"}], \"contour\": [{\"colorbar\": {\"outlinewidth\": 0, \"ticks\": \"\"}, \"colorscale\": [[0.0, \"#0d0887\"], [0.1111111111111111, \"#46039f\"], [0.2222222222222222, \"#7201a8\"], [0.3333333333333333, \"#9c179e\"], [0.4444444444444444, \"#bd3786\"], [0.5555555555555556, \"#d8576b\"], [0.6666666666666666, \"#ed7953\"], [0.7777777777777778, \"#fb9f3a\"], [0.8888888888888888, \"#fdca26\"], [1.0, \"#f0f921\"]], \"type\": \"contour\"}], \"contourcarpet\": [{\"colorbar\": {\"outlinewidth\": 0, \"ticks\": \"\"}, \"type\": \"contourcarpet\"}], \"heatmap\": [{\"colorbar\": {\"outlinewidth\": 0, \"ticks\": \"\"}, \"colorscale\": [[0.0, \"#0d0887\"], [0.1111111111111111, \"#46039f\"], [0.2222222222222222, \"#7201a8\"], [0.3333333333333333, \"#9c179e\"], [0.4444444444444444, \"#bd3786\"], [0.5555555555555556, \"#d8576b\"], [0.6666666666666666, \"#ed7953\"], [0.7777777777777778, \"#fb9f3a\"], [0.8888888888888888, \"#fdca26\"], [1.0, \"#f0f921\"]], \"type\": \"heatmap\"}], \"heatmapgl\": [{\"colorbar\": {\"outlinewidth\": 0, \"ticks\": \"\"}, \"colorscale\": [[0.0, \"#0d0887\"], [0.1111111111111111, \"#46039f\"], [0.2222222222222222, \"#7201a8\"], [0.3333333333333333, \"#9c179e\"], [0.4444444444444444, \"#bd3786\"], [0.5555555555555556, \"#d8576b\"], [0.6666666666666666, \"#ed7953\"], [0.7777777777777778, \"#fb9f3a\"], [0.8888888888888888, \"#fdca26\"], [1.0, \"#f0f921\"]], \"type\": \"heatmapgl\"}], \"histogram\": [{\"marker\": {\"colorbar\": {\"outlinewidth\": 0, \"ticks\": \"\"}}, \"type\": \"histogram\"}], \"histogram2d\": [{\"colorbar\": {\"outlinewidth\": 0, \"ticks\": \"\"}, \"colorscale\": [[0.0, \"#0d0887\"], [0.1111111111111111, \"#46039f\"], [0.2222222222222222, \"#7201a8\"], [0.3333333333333333, \"#9c179e\"], [0.4444444444444444, \"#bd3786\"], [0.5555555555555556, \"#d8576b\"], [0.6666666666666666, \"#ed7953\"], [0.7777777777777778, \"#fb9f3a\"], [0.8888888888888888, \"#fdca26\"], [1.0, \"#f0f921\"]], \"type\": \"histogram2d\"}], \"histogram2dcontour\": [{\"colorbar\": {\"outlinewidth\": 0, \"ticks\": \"\"}, \"colorscale\": [[0.0, \"#0d0887\"], [0.1111111111111111, \"#46039f\"], [0.2222222222222222, \"#7201a8\"], [0.3333333333333333, \"#9c179e\"], [0.4444444444444444, \"#bd3786\"], [0.5555555555555556, \"#d8576b\"], [0.6666666666666666, \"#ed7953\"], [0.7777777777777778, \"#fb9f3a\"], [0.8888888888888888, \"#fdca26\"], [1.0, \"#f0f921\"]], \"type\": \"histogram2dcontour\"}], \"mesh3d\": [{\"colorbar\": {\"outlinewidth\": 0, \"ticks\": \"\"}, \"type\": \"mesh3d\"}], \"parcoords\": [{\"line\": {\"colorbar\": {\"outlinewidth\": 0, \"ticks\": \"\"}}, \"type\": \"parcoords\"}], \"pie\": [{\"automargin\": true, \"type\": \"pie\"}], \"scatter\": [{\"marker\": {\"colorbar\": {\"outlinewidth\": 0, \"ticks\": \"\"}}, \"type\": \"scatter\"}], \"scatter3d\": [{\"line\": {\"colorbar\": {\"outlinewidth\": 0, \"ticks\": \"\"}}, \"marker\": {\"colorbar\": {\"outlinewidth\": 0, \"ticks\": \"\"}}, \"type\": \"scatter3d\"}], \"scattercarpet\": [{\"marker\": {\"colorbar\": {\"outlinewidth\": 0, \"ticks\": \"\"}}, \"type\": \"scattercarpet\"}], \"scattergeo\": [{\"marker\": {\"colorbar\": {\"outlinewidth\": 0, \"ticks\": \"\"}}, \"type\": \"scattergeo\"}], \"scattergl\": [{\"marker\": {\"colorbar\": {\"outlinewidth\": 0, \"ticks\": \"\"}}, \"type\": \"scattergl\"}], \"scattermapbox\": [{\"marker\": {\"colorbar\": {\"outlinewidth\": 0, \"ticks\": \"\"}}, \"type\": \"scattermapbox\"}], \"scatterpolar\": [{\"marker\": {\"colorbar\": {\"outlinewidth\": 0, \"ticks\": \"\"}}, \"type\": \"scatterpolar\"}], \"scatterpolargl\": [{\"marker\": {\"colorbar\": {\"outlinewidth\": 0, \"ticks\": \"\"}}, \"type\": \"scatterpolargl\"}], \"scatterternary\": [{\"marker\": {\"colorbar\": {\"outlinewidth\": 0, \"ticks\": \"\"}}, \"type\": \"scatterternary\"}], \"surface\": [{\"colorbar\": {\"outlinewidth\": 0, \"ticks\": \"\"}, \"colorscale\": [[0.0, \"#0d0887\"], [0.1111111111111111, \"#46039f\"], [0.2222222222222222, \"#7201a8\"], [0.3333333333333333, \"#9c179e\"], [0.4444444444444444, \"#bd3786\"], [0.5555555555555556, \"#d8576b\"], [0.6666666666666666, \"#ed7953\"], [0.7777777777777778, \"#fb9f3a\"], [0.8888888888888888, \"#fdca26\"], [1.0, \"#f0f921\"]], \"type\": \"surface\"}], \"table\": [{\"cells\": {\"fill\": {\"color\": \"#EBF0F8\"}, \"line\": {\"color\": \"white\"}}, \"header\": {\"fill\": {\"color\": \"#C8D4E3\"}, \"line\": {\"color\": \"white\"}}, \"type\": \"table\"}]}, \"layout\": {\"annotationdefaults\": {\"arrowcolor\": \"#2a3f5f\", \"arrowhead\": 0, \"arrowwidth\": 1}, \"coloraxis\": {\"colorbar\": {\"outlinewidth\": 0, \"ticks\": \"\"}}, \"colorscale\": {\"diverging\": [[0, \"#8e0152\"], [0.1, \"#c51b7d\"], [0.2, \"#de77ae\"], [0.3, \"#f1b6da\"], [0.4, \"#fde0ef\"], [0.5, \"#f7f7f7\"], [0.6, \"#e6f5d0\"], [0.7, \"#b8e186\"], [0.8, \"#7fbc41\"], [0.9, \"#4d9221\"], [1, \"#276419\"]], \"sequential\": [[0.0, \"#0d0887\"], [0.1111111111111111, \"#46039f\"], [0.2222222222222222, \"#7201a8\"], [0.3333333333333333, \"#9c179e\"], [0.4444444444444444, \"#bd3786\"], [0.5555555555555556, \"#d8576b\"], [0.6666666666666666, \"#ed7953\"], [0.7777777777777778, \"#fb9f3a\"], [0.8888888888888888, \"#fdca26\"], [1.0, \"#f0f921\"]], \"sequentialminus\": [[0.0, \"#0d0887\"], [0.1111111111111111, \"#46039f\"], [0.2222222222222222, \"#7201a8\"], [0.3333333333333333, \"#9c179e\"], [0.4444444444444444, \"#bd3786\"], [0.5555555555555556, \"#d8576b\"], [0.6666666666666666, \"#ed7953\"], [0.7777777777777778, \"#fb9f3a\"], [0.8888888888888888, \"#fdca26\"], [1.0, \"#f0f921\"]]}, \"colorway\": [\"#636efa\", \"#EF553B\", \"#00cc96\", \"#ab63fa\", \"#FFA15A\", \"#19d3f3\", \"#FF6692\", \"#B6E880\", \"#FF97FF\", \"#FECB52\"], \"font\": {\"color\": \"#2a3f5f\"}, \"geo\": {\"bgcolor\": \"white\", \"lakecolor\": \"white\", \"landcolor\": \"#E5ECF6\", \"showlakes\": true, \"showland\": true, \"subunitcolor\": \"white\"}, \"hoverlabel\": {\"align\": \"left\"}, \"hovermode\": \"closest\", \"mapbox\": {\"style\": \"light\"}, \"paper_bgcolor\": \"white\", \"plot_bgcolor\": \"#E5ECF6\", \"polar\": {\"angularaxis\": {\"gridcolor\": \"white\", \"linecolor\": \"white\", \"ticks\": \"\"}, \"bgcolor\": \"#E5ECF6\", \"radialaxis\": {\"gridcolor\": \"white\", \"linecolor\": \"white\", \"ticks\": \"\"}}, \"scene\": {\"xaxis\": {\"backgroundcolor\": \"#E5ECF6\", \"gridcolor\": \"white\", \"gridwidth\": 2, \"linecolor\": \"white\", \"showbackground\": true, \"ticks\": \"\", \"zerolinecolor\": \"white\"}, \"yaxis\": {\"backgroundcolor\": \"#E5ECF6\", \"gridcolor\": \"white\", \"gridwidth\": 2, \"linecolor\": \"white\", \"showbackground\": true, \"ticks\": \"\", \"zerolinecolor\": \"white\"}, \"zaxis\": {\"backgroundcolor\": \"#E5ECF6\", \"gridcolor\": \"white\", \"gridwidth\": 2, \"linecolor\": \"white\", \"showbackground\": true, \"ticks\": \"\", \"zerolinecolor\": \"white\"}}, \"shapedefaults\": {\"line\": {\"color\": \"#2a3f5f\"}}, \"ternary\": {\"aaxis\": {\"gridcolor\": \"white\", \"linecolor\": \"white\", \"ticks\": \"\"}, \"baxis\": {\"gridcolor\": \"white\", \"linecolor\": \"white\", \"ticks\": \"\"}, \"bgcolor\": \"#E5ECF6\", \"caxis\": {\"gridcolor\": \"white\", \"linecolor\": \"white\", \"ticks\": \"\"}}, \"title\": {\"x\": 0.05}, \"xaxis\": {\"automargin\": true, \"gridcolor\": \"white\", \"linecolor\": \"white\", \"ticks\": \"\", \"title\": {\"standoff\": 15}, \"zerolinecolor\": \"white\", \"zerolinewidth\": 2}, \"yaxis\": {\"automargin\": true, \"gridcolor\": \"white\", \"linecolor\": \"white\", \"ticks\": \"\", \"title\": {\"standoff\": 15}, \"zerolinecolor\": \"white\", \"zerolinewidth\": 2}}}, \"title\": {\"font\": {\"color\": \"#4D5663\"}}, \"xaxis\": {\"gridcolor\": \"#E1E5ED\", \"showgrid\": true, \"tickfont\": {\"color\": \"#4D5663\"}, \"title\": {\"font\": {\"color\": \"#4D5663\"}, \"text\": \"\"}, \"zerolinecolor\": \"#E1E5ED\"}, \"yaxis\": {\"gridcolor\": \"#E1E5ED\", \"showgrid\": true, \"tickfont\": {\"color\": \"#4D5663\"}, \"title\": {\"font\": {\"color\": \"#4D5663\"}, \"text\": \"\"}, \"zerolinecolor\": \"#E1E5ED\"}},\n",
       "                        {\"showLink\": true, \"linkText\": \"Export to plot.ly\", \"plotlyServerURL\": \"https://plot.ly\", \"responsive\": true}\n",
       "                    ).then(function(){\n",
       "                            \n",
       "var gd = document.getElementById('008d50e9-e748-4c15-8783-a4c42ebd4f52');\n",
       "var x = new MutationObserver(function (mutations, observer) {{\n",
       "        var display = window.getComputedStyle(gd).display;\n",
       "        if (!display || display === 'none') {{\n",
       "            console.log([gd, 'removed!']);\n",
       "            Plotly.purge(gd);\n",
       "            observer.disconnect();\n",
       "        }}\n",
       "}});\n",
       "\n",
       "// Listen for the removal of the full notebook cells\n",
       "var notebookContainer = gd.closest('#notebook-container');\n",
       "if (notebookContainer) {{\n",
       "    x.observe(notebookContainer, {childList: true});\n",
       "}}\n",
       "\n",
       "// Listen for the clearing of the current output cell\n",
       "var outputEl = gd.closest('.output');\n",
       "if (outputEl) {{\n",
       "    x.observe(outputEl, {childList: true});\n",
       "}}\n",
       "\n",
       "                        })\n",
       "                };\n",
       "                });\n",
       "            </script>\n",
       "        </div>"
      ]
     },
     "metadata": {},
     "output_type": "display_data"
    }
   ],
   "source": [
    "df['A'].iplot(kind='hist', bins=50) # plotting just one column"
   ]
  },
  {
   "cell_type": "code",
   "execution_count": 22,
   "metadata": {},
   "outputs": [
    {
     "data": {
      "application/vnd.plotly.v1+json": {
       "config": {
        "linkText": "Export to plot.ly",
        "plotlyServerURL": "https://plot.ly",
        "showLink": true
       },
       "data": [
        {
         "histfunc": "count",
         "histnorm": "",
         "marker": {
          "color": "rgba(255, 153, 51, 1.0)",
          "line": {
           "color": "#4D5663",
           "width": 1.3
          }
         },
         "name": "A",
         "nbinsx": 50,
         "opacity": 0.8,
         "orientation": "v",
         "type": "histogram",
         "x": [
          0.9273501686452831,
          -0.5336819713432426,
          -0.4719061159137588,
          -0.9892039772850318,
          1.745699378229749,
          -0.26335462861925224,
          0.7908256324744336,
          -0.018916685629151987,
          1.4362821330775597,
          -0.32503355428080577,
          0.153676829720251,
          1.1318065272893738,
          0.08839548036838218,
          -0.13371513443907548,
          0.04554308700723792,
          -0.05877157631492504,
          0.9319619775407781,
          -0.892681343719326,
          -0.23869875455176157,
          -0.8071351942969122,
          -0.8460637342785593,
          0.5435124105045299,
          1.8829768691003779,
          0.26018907025834476,
          -0.9630329187123825,
          0.5924332239870846,
          0.05224067716215473,
          -0.22741409274250976,
          0.12187361251470992,
          0.195255432340129,
          -3.1675899599066684,
          0.4368530139763862,
          1.9289359381994984,
          0.8056938127943846,
          -0.37292655824780185,
          0.6512746095656167,
          -0.9938636126479036,
          0.7862381402545336,
          -1.1287854744382666,
          0.6094151867668576,
          -1.3345012926132753,
          -0.02281986102852559,
          2.1763311981289886,
          -0.09963573401996252,
          0.8464995922182782,
          -1.2042004296695825,
          2.1203247152475537,
          0.36791612384551403,
          -0.23999914272661843,
          0.024080904242700003,
          0.03482469604660009,
          1.8265286417264184,
          0.49707787161574435,
          -0.5323481640582688,
          -0.5904516820742872,
          -0.31429352820806933,
          -0.20083676978802706,
          -0.24576824746640213,
          0.4490649374540152,
          0.009106977618565758,
          -0.2601190686513889,
          -0.4885809019711191,
          -0.7065650259075594,
          -0.5655889024607965,
          1.1242265905343243,
          -1.289422567292631,
          -0.11079106339526591,
          0.025175648703488762,
          -1.0654028367316437,
          0.5876369583983077,
          -1.2193627328117418,
          0.27503948246745363,
          0.20062669512915307,
          -0.712497095962588,
          -0.5936065482919237,
          0.3162171738816598,
          -2.0801283752733593,
          0.05481389727834878,
          0.29834235948809595,
          -0.25193217959399716,
          -0.18815985965566256,
          -1.0993840202389924,
          1.3720808925772439,
          -1.3901447430249643,
          0.2952706310041869,
          -0.14215402384411635,
          0.2557152281650664,
          0.05237368863656635,
          0.1665134157650504,
          0.32752167656534614,
          -0.02638737238095419,
          -0.07622496454221706,
          1.5158939538061444,
          1.2842668521004519,
          1.1900091488359847,
          0.11950465514627728,
          0.20792715338952203,
          -0.7069618004958248,
          -1.0060679633961014,
          0.7402869780165224
         ]
        },
        {
         "histfunc": "count",
         "histnorm": "",
         "marker": {
          "color": "rgba(55, 128, 191, 1.0)",
          "line": {
           "color": "#4D5663",
           "width": 1.3
          }
         },
         "name": "B",
         "nbinsx": 50,
         "opacity": 0.8,
         "orientation": "v",
         "type": "histogram",
         "x": [
          -1.4475834439088642,
          1.936342110293859,
          1.5703019396317082,
          -1.141171509843668,
          0.7086983057483757,
          -0.21548691100100484,
          -0.4935357265485408,
          -0.40008675780020697,
          0.24466237321409023,
          -0.5575940599375178,
          0.7174291311785046,
          0.6066901397467638,
          0.7183279064527168,
          0.9037822643675042,
          0.7922052580156334,
          0.33548132017685217,
          -0.20261143372834065,
          0.7973085569924002,
          1.0992036024784997,
          -0.49476558867100884,
          -0.33780792682176386,
          -1.338637353195344,
          1.1385637433257803,
          -0.20322491634641116,
          0.6844714764071702,
          -0.16617105280152625,
          1.3721896447655835,
          -0.432825142025372,
          -0.6979376497189357,
          -1.827219084945071,
          -0.08870604821904153,
          -0.7593429321290202,
          -1.1452326196090716,
          -0.6591873413644148,
          -0.024453262800700207,
          2.8961064396206346,
          1.363739087484403,
          -0.020299241643240123,
          -0.5503581956789931,
          0.202981852523745,
          -0.04318579863195509,
          1.3640507313160912,
          -1.0280179913191263,
          0.21129179119723718,
          0.10297146234534578,
          -1.2433243782994525,
          -0.021709600661412465,
          1.1984399083378903,
          -1.3599613321180355,
          1.3891357969076896,
          0.07820929637177787,
          -0.6378218867551335,
          -1.0039159825678918,
          -2.126997043628774,
          0.06341984518776161,
          0.32731593946564225,
          2.0722346896488597,
          -1.8756884771290674,
          -1.8738446512520954,
          -0.1688759685449708,
          0.345763386677497,
          -1.4914130382877966,
          -1.4107957310164405,
          -0.4184816338943611,
          1.1964942739671964,
          -0.42009278182817616,
          0.10668530708683387,
          -0.7525150643124401,
          -0.010377553383409528,
          -0.2561262290407313,
          -0.5193080456284674,
          0.2376140021029851,
          0.22650863712631936,
          -0.023683051465336405,
          -0.10574186404763539,
          -1.3388266088658878,
          1.8649371415743328,
          -0.0011472808149724546,
          -0.5809929109198254,
          0.7474919614838859,
          -0.816872565749726,
          1.0410209931608316,
          -0.39785709352618437,
          -1.0815621564988975,
          1.176812583300365,
          0.9895727666875234,
          -0.756797865773887,
          -0.3816828597434053,
          0.42707439730370905,
          -0.1562011388869837,
          0.9675610510066449,
          0.02891219020418467,
          -0.6378898829804626,
          -0.8479768977153376,
          -0.41446797004090963,
          2.564737002195348,
          0.13364725564235924,
          -0.6973271644929159,
          -0.4527411973437712,
          -1.0237425044832327
         ]
        },
        {
         "histfunc": "count",
         "histnorm": "",
         "marker": {
          "color": "rgba(50, 171, 96, 1.0)",
          "line": {
           "color": "#4D5663",
           "width": 1.3
          }
         },
         "name": "C",
         "nbinsx": 50,
         "opacity": 0.8,
         "orientation": "v",
         "type": "histogram",
         "x": [
          1.4049242054570623,
          0.1547621834006053,
          0.6427377446553894,
          0.14176958512210536,
          0.6452742473253624,
          -1.1029515760211577,
          0.004636889360956238,
          -1.4867686806843832,
          1.5347473240196792,
          0.15995536296369012,
          0.31029386900621286,
          -1.549795310649013,
          0.4618488125890316,
          1.1201251521430575,
          0.4690802803947774,
          1.6432681308561372,
          0.008389568495615356,
          -0.01239621104004811,
          0.24131053638423328,
          -1.4103219963121891,
          1.2492004628011075,
          0.18955669364213737,
          0.8157350982642384,
          0.07675734152535334,
          -0.30505179092398904,
          -0.5078562267149158,
          -0.4179911704810528,
          0.5408776143582213,
          1.8372513308449336,
          -0.2501002967666486,
          0.1996512023214983,
          0.8691901065752327,
          0.4495597707471277,
          -2.801023933962865,
          -0.8238229519352759,
          0.04128400296717988,
          -0.6901701140888579,
          1.1916495037586128,
          -0.9295614751372788,
          -0.3231576891007971,
          -0.7040182646953186,
          1.9790020173304628,
          0.985673156309637,
          0.6222213952844792,
          -0.1690695981714178,
          1.3063478136705455,
          -0.5537556528688246,
          0.06401592476986435,
          -0.0008402575602733345,
          -0.5639327228761422,
          0.6608360365296245,
          0.2932081224527548,
          0.6024607368840637,
          0.6096916892907379,
          -0.8679904449478311,
          -0.12208563224647935,
          -1.132526357998367,
          -0.3968559663885494,
          0.5730640969363368,
          0.3827904667250426,
          -0.8200063265474274,
          -0.45552898404631365,
          0.08141056318368534,
          0.5051122350181024,
          -2.0250450421281125,
          0.014663387828365947,
          0.5667760720620605,
          0.2022882687234411,
          1.187387385536581,
          1.0189024742420798,
          -0.7298071957786113,
          0.05948535909929114,
          -0.5079171949110749,
          -0.7440860797142066,
          0.3268609879345079,
          1.4598066328833745,
          1.012654544868541,
          -0.6403355542078821,
          -0.08502020694767025,
          1.4850038202651428,
          0.08081454059719645,
          0.2627642445729847,
          -0.8642028436313269,
          -0.49831337549218374,
          -0.2800136845430416,
          0.040417289509109944,
          -1.144179761118651,
          1.807443770703011,
          0.3806342224989023,
          1.2287603745892146,
          0.8735308102245346,
          -0.8352237499555955,
          1.2123633864099363,
          0.5996684543315636,
          -1.2552732180664523,
          -0.33749497322565136,
          -0.3596282323596586,
          -0.36185868788703535,
          0.8894345743403884,
          -0.8404253713393572
         ]
        },
        {
         "histfunc": "count",
         "histnorm": "",
         "marker": {
          "color": "rgba(128, 0, 128, 1.0)",
          "line": {
           "color": "#4D5663",
           "width": 1.3
          }
         },
         "name": "D",
         "nbinsx": 50,
         "opacity": 0.8,
         "orientation": "v",
         "type": "histogram",
         "x": [
          0.6893397535031753,
          -0.634782770197293,
          -1.3651647455238947,
          0.5659178518454178,
          0.14146422009809448,
          0.20585568742835458,
          -0.323569057620845,
          0.24781586608556125,
          0.8208949499246398,
          1.3351105498079698,
          0.7989279478030678,
          -0.6468933836371301,
          0.39863035992129003,
          0.47095104852203645,
          0.2693234881822479,
          0.5149635994224956,
          0.540039861790419,
          -1.0560385502243055,
          1.420309355013242,
          -1.3271645563971741,
          0.02428842976034102,
          -1.1279761762651903,
          0.7425629834247508,
          0.12454951520226333,
          -0.8900025088723069,
          -1.0415293745293592,
          -1.032703442507068,
          0.08858842850306446,
          0.21673451116324674,
          1.0773810976744913,
          -0.8005023910645993,
          -0.8250117982933071,
          -0.875049873565815,
          0.12047064633653336,
          1.5518281540606154,
          -0.48950713262227397,
          1.158258147987117,
          0.11856343615655199,
          1.6570380736340358,
          2.127076507548714,
          -1.5071492237481672,
          1.3878540441851652,
          1.7967392604687493,
          -2.427511091257778,
          0.6638920325166114,
          -1.0243866636811134,
          -0.9977307088517342,
          1.1332705619033097,
          0.1787949995440567,
          1.8294622360138504,
          1.336117505283273,
          -0.9747308204149058,
          -0.21060626994445616,
          -1.6792949349020025,
          -1.6977453195697814,
          -1.486859332377673,
          0.4614839606236429,
          1.7033598737816464,
          0.3469648988028317,
          -0.6698873840875732,
          1.1598972264121405,
          0.6215349000091484,
          -1.2264167086553013,
          0.23438318536696298,
          1.0633039804419662,
          0.14760634745273152,
          1.2677451019504973,
          0.6535051309470021,
          -0.6851207475862858,
          -1.8591972638103833,
          -0.37396971449307076,
          -1.2208452591467445,
          0.18790967127387492,
          -0.6058533913589577,
          0.01130864506496672,
          -3.1060627472728273,
          -0.27687656929833604,
          0.34068588900417174,
          -0.04575381175627021,
          0.9099625078425607,
          -0.5794692122519473,
          -0.1965604817374992,
          -0.30034716768779113,
          -0.8263038743589,
          0.3559471996961158,
          -0.618517658506671,
          -0.5489259138475905,
          -1.192280245987357,
          -0.17765596325209876,
          -1.7786305738644168,
          0.6023764476041314,
          0.5177743526185985,
          1.625948563551156,
          0.732401806275617,
          0.5159331202280345,
          0.9004335661442393,
          0.12533332537820574,
          0.05145474359691806,
          -1.1901492124514266,
          1.3226574609114097
         ]
        }
       ],
       "layout": {
        "barmode": "overlay",
        "legend": {
         "bgcolor": "#F5F6F9",
         "font": {
          "color": "#4D5663"
         }
        },
        "paper_bgcolor": "#F5F6F9",
        "plot_bgcolor": "#F5F6F9",
        "template": {
         "data": {
          "bar": [
           {
            "error_x": {
             "color": "#2a3f5f"
            },
            "error_y": {
             "color": "#2a3f5f"
            },
            "marker": {
             "line": {
              "color": "#E5ECF6",
              "width": 0.5
             }
            },
            "type": "bar"
           }
          ],
          "barpolar": [
           {
            "marker": {
             "line": {
              "color": "#E5ECF6",
              "width": 0.5
             }
            },
            "type": "barpolar"
           }
          ],
          "carpet": [
           {
            "aaxis": {
             "endlinecolor": "#2a3f5f",
             "gridcolor": "white",
             "linecolor": "white",
             "minorgridcolor": "white",
             "startlinecolor": "#2a3f5f"
            },
            "baxis": {
             "endlinecolor": "#2a3f5f",
             "gridcolor": "white",
             "linecolor": "white",
             "minorgridcolor": "white",
             "startlinecolor": "#2a3f5f"
            },
            "type": "carpet"
           }
          ],
          "choropleth": [
           {
            "colorbar": {
             "outlinewidth": 0,
             "ticks": ""
            },
            "type": "choropleth"
           }
          ],
          "contour": [
           {
            "colorbar": {
             "outlinewidth": 0,
             "ticks": ""
            },
            "colorscale": [
             [
              0,
              "#0d0887"
             ],
             [
              0.1111111111111111,
              "#46039f"
             ],
             [
              0.2222222222222222,
              "#7201a8"
             ],
             [
              0.3333333333333333,
              "#9c179e"
             ],
             [
              0.4444444444444444,
              "#bd3786"
             ],
             [
              0.5555555555555556,
              "#d8576b"
             ],
             [
              0.6666666666666666,
              "#ed7953"
             ],
             [
              0.7777777777777778,
              "#fb9f3a"
             ],
             [
              0.8888888888888888,
              "#fdca26"
             ],
             [
              1,
              "#f0f921"
             ]
            ],
            "type": "contour"
           }
          ],
          "contourcarpet": [
           {
            "colorbar": {
             "outlinewidth": 0,
             "ticks": ""
            },
            "type": "contourcarpet"
           }
          ],
          "heatmap": [
           {
            "colorbar": {
             "outlinewidth": 0,
             "ticks": ""
            },
            "colorscale": [
             [
              0,
              "#0d0887"
             ],
             [
              0.1111111111111111,
              "#46039f"
             ],
             [
              0.2222222222222222,
              "#7201a8"
             ],
             [
              0.3333333333333333,
              "#9c179e"
             ],
             [
              0.4444444444444444,
              "#bd3786"
             ],
             [
              0.5555555555555556,
              "#d8576b"
             ],
             [
              0.6666666666666666,
              "#ed7953"
             ],
             [
              0.7777777777777778,
              "#fb9f3a"
             ],
             [
              0.8888888888888888,
              "#fdca26"
             ],
             [
              1,
              "#f0f921"
             ]
            ],
            "type": "heatmap"
           }
          ],
          "heatmapgl": [
           {
            "colorbar": {
             "outlinewidth": 0,
             "ticks": ""
            },
            "colorscale": [
             [
              0,
              "#0d0887"
             ],
             [
              0.1111111111111111,
              "#46039f"
             ],
             [
              0.2222222222222222,
              "#7201a8"
             ],
             [
              0.3333333333333333,
              "#9c179e"
             ],
             [
              0.4444444444444444,
              "#bd3786"
             ],
             [
              0.5555555555555556,
              "#d8576b"
             ],
             [
              0.6666666666666666,
              "#ed7953"
             ],
             [
              0.7777777777777778,
              "#fb9f3a"
             ],
             [
              0.8888888888888888,
              "#fdca26"
             ],
             [
              1,
              "#f0f921"
             ]
            ],
            "type": "heatmapgl"
           }
          ],
          "histogram": [
           {
            "marker": {
             "colorbar": {
              "outlinewidth": 0,
              "ticks": ""
             }
            },
            "type": "histogram"
           }
          ],
          "histogram2d": [
           {
            "colorbar": {
             "outlinewidth": 0,
             "ticks": ""
            },
            "colorscale": [
             [
              0,
              "#0d0887"
             ],
             [
              0.1111111111111111,
              "#46039f"
             ],
             [
              0.2222222222222222,
              "#7201a8"
             ],
             [
              0.3333333333333333,
              "#9c179e"
             ],
             [
              0.4444444444444444,
              "#bd3786"
             ],
             [
              0.5555555555555556,
              "#d8576b"
             ],
             [
              0.6666666666666666,
              "#ed7953"
             ],
             [
              0.7777777777777778,
              "#fb9f3a"
             ],
             [
              0.8888888888888888,
              "#fdca26"
             ],
             [
              1,
              "#f0f921"
             ]
            ],
            "type": "histogram2d"
           }
          ],
          "histogram2dcontour": [
           {
            "colorbar": {
             "outlinewidth": 0,
             "ticks": ""
            },
            "colorscale": [
             [
              0,
              "#0d0887"
             ],
             [
              0.1111111111111111,
              "#46039f"
             ],
             [
              0.2222222222222222,
              "#7201a8"
             ],
             [
              0.3333333333333333,
              "#9c179e"
             ],
             [
              0.4444444444444444,
              "#bd3786"
             ],
             [
              0.5555555555555556,
              "#d8576b"
             ],
             [
              0.6666666666666666,
              "#ed7953"
             ],
             [
              0.7777777777777778,
              "#fb9f3a"
             ],
             [
              0.8888888888888888,
              "#fdca26"
             ],
             [
              1,
              "#f0f921"
             ]
            ],
            "type": "histogram2dcontour"
           }
          ],
          "mesh3d": [
           {
            "colorbar": {
             "outlinewidth": 0,
             "ticks": ""
            },
            "type": "mesh3d"
           }
          ],
          "parcoords": [
           {
            "line": {
             "colorbar": {
              "outlinewidth": 0,
              "ticks": ""
             }
            },
            "type": "parcoords"
           }
          ],
          "pie": [
           {
            "automargin": true,
            "type": "pie"
           }
          ],
          "scatter": [
           {
            "marker": {
             "colorbar": {
              "outlinewidth": 0,
              "ticks": ""
             }
            },
            "type": "scatter"
           }
          ],
          "scatter3d": [
           {
            "line": {
             "colorbar": {
              "outlinewidth": 0,
              "ticks": ""
             }
            },
            "marker": {
             "colorbar": {
              "outlinewidth": 0,
              "ticks": ""
             }
            },
            "type": "scatter3d"
           }
          ],
          "scattercarpet": [
           {
            "marker": {
             "colorbar": {
              "outlinewidth": 0,
              "ticks": ""
             }
            },
            "type": "scattercarpet"
           }
          ],
          "scattergeo": [
           {
            "marker": {
             "colorbar": {
              "outlinewidth": 0,
              "ticks": ""
             }
            },
            "type": "scattergeo"
           }
          ],
          "scattergl": [
           {
            "marker": {
             "colorbar": {
              "outlinewidth": 0,
              "ticks": ""
             }
            },
            "type": "scattergl"
           }
          ],
          "scattermapbox": [
           {
            "marker": {
             "colorbar": {
              "outlinewidth": 0,
              "ticks": ""
             }
            },
            "type": "scattermapbox"
           }
          ],
          "scatterpolar": [
           {
            "marker": {
             "colorbar": {
              "outlinewidth": 0,
              "ticks": ""
             }
            },
            "type": "scatterpolar"
           }
          ],
          "scatterpolargl": [
           {
            "marker": {
             "colorbar": {
              "outlinewidth": 0,
              "ticks": ""
             }
            },
            "type": "scatterpolargl"
           }
          ],
          "scatterternary": [
           {
            "marker": {
             "colorbar": {
              "outlinewidth": 0,
              "ticks": ""
             }
            },
            "type": "scatterternary"
           }
          ],
          "surface": [
           {
            "colorbar": {
             "outlinewidth": 0,
             "ticks": ""
            },
            "colorscale": [
             [
              0,
              "#0d0887"
             ],
             [
              0.1111111111111111,
              "#46039f"
             ],
             [
              0.2222222222222222,
              "#7201a8"
             ],
             [
              0.3333333333333333,
              "#9c179e"
             ],
             [
              0.4444444444444444,
              "#bd3786"
             ],
             [
              0.5555555555555556,
              "#d8576b"
             ],
             [
              0.6666666666666666,
              "#ed7953"
             ],
             [
              0.7777777777777778,
              "#fb9f3a"
             ],
             [
              0.8888888888888888,
              "#fdca26"
             ],
             [
              1,
              "#f0f921"
             ]
            ],
            "type": "surface"
           }
          ],
          "table": [
           {
            "cells": {
             "fill": {
              "color": "#EBF0F8"
             },
             "line": {
              "color": "white"
             }
            },
            "header": {
             "fill": {
              "color": "#C8D4E3"
             },
             "line": {
              "color": "white"
             }
            },
            "type": "table"
           }
          ]
         },
         "layout": {
          "annotationdefaults": {
           "arrowcolor": "#2a3f5f",
           "arrowhead": 0,
           "arrowwidth": 1
          },
          "coloraxis": {
           "colorbar": {
            "outlinewidth": 0,
            "ticks": ""
           }
          },
          "colorscale": {
           "diverging": [
            [
             0,
             "#8e0152"
            ],
            [
             0.1,
             "#c51b7d"
            ],
            [
             0.2,
             "#de77ae"
            ],
            [
             0.3,
             "#f1b6da"
            ],
            [
             0.4,
             "#fde0ef"
            ],
            [
             0.5,
             "#f7f7f7"
            ],
            [
             0.6,
             "#e6f5d0"
            ],
            [
             0.7,
             "#b8e186"
            ],
            [
             0.8,
             "#7fbc41"
            ],
            [
             0.9,
             "#4d9221"
            ],
            [
             1,
             "#276419"
            ]
           ],
           "sequential": [
            [
             0,
             "#0d0887"
            ],
            [
             0.1111111111111111,
             "#46039f"
            ],
            [
             0.2222222222222222,
             "#7201a8"
            ],
            [
             0.3333333333333333,
             "#9c179e"
            ],
            [
             0.4444444444444444,
             "#bd3786"
            ],
            [
             0.5555555555555556,
             "#d8576b"
            ],
            [
             0.6666666666666666,
             "#ed7953"
            ],
            [
             0.7777777777777778,
             "#fb9f3a"
            ],
            [
             0.8888888888888888,
             "#fdca26"
            ],
            [
             1,
             "#f0f921"
            ]
           ],
           "sequentialminus": [
            [
             0,
             "#0d0887"
            ],
            [
             0.1111111111111111,
             "#46039f"
            ],
            [
             0.2222222222222222,
             "#7201a8"
            ],
            [
             0.3333333333333333,
             "#9c179e"
            ],
            [
             0.4444444444444444,
             "#bd3786"
            ],
            [
             0.5555555555555556,
             "#d8576b"
            ],
            [
             0.6666666666666666,
             "#ed7953"
            ],
            [
             0.7777777777777778,
             "#fb9f3a"
            ],
            [
             0.8888888888888888,
             "#fdca26"
            ],
            [
             1,
             "#f0f921"
            ]
           ]
          },
          "colorway": [
           "#636efa",
           "#EF553B",
           "#00cc96",
           "#ab63fa",
           "#FFA15A",
           "#19d3f3",
           "#FF6692",
           "#B6E880",
           "#FF97FF",
           "#FECB52"
          ],
          "font": {
           "color": "#2a3f5f"
          },
          "geo": {
           "bgcolor": "white",
           "lakecolor": "white",
           "landcolor": "#E5ECF6",
           "showlakes": true,
           "showland": true,
           "subunitcolor": "white"
          },
          "hoverlabel": {
           "align": "left"
          },
          "hovermode": "closest",
          "mapbox": {
           "style": "light"
          },
          "paper_bgcolor": "white",
          "plot_bgcolor": "#E5ECF6",
          "polar": {
           "angularaxis": {
            "gridcolor": "white",
            "linecolor": "white",
            "ticks": ""
           },
           "bgcolor": "#E5ECF6",
           "radialaxis": {
            "gridcolor": "white",
            "linecolor": "white",
            "ticks": ""
           }
          },
          "scene": {
           "xaxis": {
            "backgroundcolor": "#E5ECF6",
            "gridcolor": "white",
            "gridwidth": 2,
            "linecolor": "white",
            "showbackground": true,
            "ticks": "",
            "zerolinecolor": "white"
           },
           "yaxis": {
            "backgroundcolor": "#E5ECF6",
            "gridcolor": "white",
            "gridwidth": 2,
            "linecolor": "white",
            "showbackground": true,
            "ticks": "",
            "zerolinecolor": "white"
           },
           "zaxis": {
            "backgroundcolor": "#E5ECF6",
            "gridcolor": "white",
            "gridwidth": 2,
            "linecolor": "white",
            "showbackground": true,
            "ticks": "",
            "zerolinecolor": "white"
           }
          },
          "shapedefaults": {
           "line": {
            "color": "#2a3f5f"
           }
          },
          "ternary": {
           "aaxis": {
            "gridcolor": "white",
            "linecolor": "white",
            "ticks": ""
           },
           "baxis": {
            "gridcolor": "white",
            "linecolor": "white",
            "ticks": ""
           },
           "bgcolor": "#E5ECF6",
           "caxis": {
            "gridcolor": "white",
            "linecolor": "white",
            "ticks": ""
           }
          },
          "title": {
           "x": 0.05
          },
          "xaxis": {
           "automargin": true,
           "gridcolor": "white",
           "linecolor": "white",
           "ticks": "",
           "title": {
            "standoff": 15
           },
           "zerolinecolor": "white",
           "zerolinewidth": 2
          },
          "yaxis": {
           "automargin": true,
           "gridcolor": "white",
           "linecolor": "white",
           "ticks": "",
           "title": {
            "standoff": 15
           },
           "zerolinecolor": "white",
           "zerolinewidth": 2
          }
         }
        },
        "title": {
         "font": {
          "color": "#4D5663"
         }
        },
        "xaxis": {
         "gridcolor": "#E1E5ED",
         "showgrid": true,
         "tickfont": {
          "color": "#4D5663"
         },
         "title": {
          "font": {
           "color": "#4D5663"
          },
          "text": ""
         },
         "zerolinecolor": "#E1E5ED"
        },
        "yaxis": {
         "gridcolor": "#E1E5ED",
         "showgrid": true,
         "tickfont": {
          "color": "#4D5663"
         },
         "title": {
          "font": {
           "color": "#4D5663"
          },
          "text": ""
         },
         "zerolinecolor": "#E1E5ED"
        }
       }
      },
      "text/html": [
       "<div>\n",
       "        \n",
       "        \n",
       "            <div id=\"548cb206-dabd-40cc-be87-c3601e7bbf43\" class=\"plotly-graph-div\" style=\"height:525px; width:100%;\"></div>\n",
       "            <script type=\"text/javascript\">\n",
       "                require([\"plotly\"], function(Plotly) {\n",
       "                    window.PLOTLYENV=window.PLOTLYENV || {};\n",
       "                    window.PLOTLYENV.BASE_URL='https://plot.ly';\n",
       "                    \n",
       "                if (document.getElementById(\"548cb206-dabd-40cc-be87-c3601e7bbf43\")) {\n",
       "                    Plotly.newPlot(\n",
       "                        '548cb206-dabd-40cc-be87-c3601e7bbf43',\n",
       "                        [{\"histfunc\": \"count\", \"histnorm\": \"\", \"marker\": {\"color\": \"rgba(255, 153, 51, 1.0)\", \"line\": {\"color\": \"#4D5663\", \"width\": 1.3}}, \"name\": \"A\", \"nbinsx\": 50, \"opacity\": 0.8, \"orientation\": \"v\", \"type\": \"histogram\", \"x\": [0.9273501686452831, -0.5336819713432426, -0.4719061159137588, -0.9892039772850318, 1.745699378229749, -0.26335462861925224, 0.7908256324744336, -0.018916685629151987, 1.4362821330775597, -0.32503355428080577, 0.153676829720251, 1.1318065272893738, 0.08839548036838218, -0.13371513443907548, 0.04554308700723792, -0.05877157631492504, 0.9319619775407781, -0.892681343719326, -0.23869875455176157, -0.8071351942969122, -0.8460637342785593, 0.5435124105045299, 1.8829768691003779, 0.26018907025834476, -0.9630329187123825, 0.5924332239870846, 0.05224067716215473, -0.22741409274250976, 0.12187361251470992, 0.195255432340129, -3.1675899599066684, 0.4368530139763862, 1.9289359381994984, 0.8056938127943846, -0.37292655824780185, 0.6512746095656167, -0.9938636126479036, 0.7862381402545336, -1.1287854744382666, 0.6094151867668576, -1.3345012926132753, -0.02281986102852559, 2.1763311981289886, -0.09963573401996252, 0.8464995922182782, -1.2042004296695825, 2.1203247152475537, 0.36791612384551403, -0.23999914272661843, 0.024080904242700003, 0.03482469604660009, 1.8265286417264184, 0.49707787161574435, -0.5323481640582688, -0.5904516820742872, -0.31429352820806933, -0.20083676978802706, -0.24576824746640213, 0.4490649374540152, 0.009106977618565758, -0.2601190686513889, -0.4885809019711191, -0.7065650259075594, -0.5655889024607965, 1.1242265905343243, -1.289422567292631, -0.11079106339526591, 0.025175648703488762, -1.0654028367316437, 0.5876369583983077, -1.2193627328117418, 0.27503948246745363, 0.20062669512915307, -0.712497095962588, -0.5936065482919237, 0.3162171738816598, -2.0801283752733593, 0.05481389727834878, 0.29834235948809595, -0.25193217959399716, -0.18815985965566256, -1.0993840202389924, 1.3720808925772439, -1.3901447430249643, 0.2952706310041869, -0.14215402384411635, 0.2557152281650664, 0.05237368863656635, 0.1665134157650504, 0.32752167656534614, -0.02638737238095419, -0.07622496454221706, 1.5158939538061444, 1.2842668521004519, 1.1900091488359847, 0.11950465514627728, 0.20792715338952203, -0.7069618004958248, -1.0060679633961014, 0.7402869780165224]}, {\"histfunc\": \"count\", \"histnorm\": \"\", \"marker\": {\"color\": \"rgba(55, 128, 191, 1.0)\", \"line\": {\"color\": \"#4D5663\", \"width\": 1.3}}, \"name\": \"B\", \"nbinsx\": 50, \"opacity\": 0.8, \"orientation\": \"v\", \"type\": \"histogram\", \"x\": [-1.4475834439088642, 1.936342110293859, 1.5703019396317082, -1.141171509843668, 0.7086983057483757, -0.21548691100100484, -0.4935357265485408, -0.40008675780020697, 0.24466237321409023, -0.5575940599375178, 0.7174291311785046, 0.6066901397467638, 0.7183279064527168, 0.9037822643675042, 0.7922052580156334, 0.33548132017685217, -0.20261143372834065, 0.7973085569924002, 1.0992036024784997, -0.49476558867100884, -0.33780792682176386, -1.338637353195344, 1.1385637433257803, -0.20322491634641116, 0.6844714764071702, -0.16617105280152625, 1.3721896447655835, -0.432825142025372, -0.6979376497189357, -1.827219084945071, -0.08870604821904153, -0.7593429321290202, -1.1452326196090716, -0.6591873413644148, -0.024453262800700207, 2.8961064396206346, 1.363739087484403, -0.020299241643240123, -0.5503581956789931, 0.202981852523745, -0.04318579863195509, 1.3640507313160912, -1.0280179913191263, 0.21129179119723718, 0.10297146234534578, -1.2433243782994525, -0.021709600661412465, 1.1984399083378903, -1.3599613321180355, 1.3891357969076896, 0.07820929637177787, -0.6378218867551335, -1.0039159825678918, -2.126997043628774, 0.06341984518776161, 0.32731593946564225, 2.0722346896488597, -1.8756884771290674, -1.8738446512520954, -0.1688759685449708, 0.345763386677497, -1.4914130382877966, -1.4107957310164405, -0.4184816338943611, 1.1964942739671964, -0.42009278182817616, 0.10668530708683387, -0.7525150643124401, -0.010377553383409528, -0.2561262290407313, -0.5193080456284674, 0.2376140021029851, 0.22650863712631936, -0.023683051465336405, -0.10574186404763539, -1.3388266088658878, 1.8649371415743328, -0.0011472808149724546, -0.5809929109198254, 0.7474919614838859, -0.816872565749726, 1.0410209931608316, -0.39785709352618437, -1.0815621564988975, 1.176812583300365, 0.9895727666875234, -0.756797865773887, -0.3816828597434053, 0.42707439730370905, -0.1562011388869837, 0.9675610510066449, 0.02891219020418467, -0.6378898829804626, -0.8479768977153376, -0.41446797004090963, 2.564737002195348, 0.13364725564235924, -0.6973271644929159, -0.4527411973437712, -1.0237425044832327]}, {\"histfunc\": \"count\", \"histnorm\": \"\", \"marker\": {\"color\": \"rgba(50, 171, 96, 1.0)\", \"line\": {\"color\": \"#4D5663\", \"width\": 1.3}}, \"name\": \"C\", \"nbinsx\": 50, \"opacity\": 0.8, \"orientation\": \"v\", \"type\": \"histogram\", \"x\": [1.4049242054570623, 0.1547621834006053, 0.6427377446553894, 0.14176958512210536, 0.6452742473253624, -1.1029515760211577, 0.004636889360956238, -1.4867686806843832, 1.5347473240196792, 0.15995536296369012, 0.31029386900621286, -1.549795310649013, 0.4618488125890316, 1.1201251521430575, 0.4690802803947774, 1.6432681308561372, 0.008389568495615356, -0.01239621104004811, 0.24131053638423328, -1.4103219963121891, 1.2492004628011075, 0.18955669364213737, 0.8157350982642384, 0.07675734152535334, -0.30505179092398904, -0.5078562267149158, -0.4179911704810528, 0.5408776143582213, 1.8372513308449336, -0.2501002967666486, 0.1996512023214983, 0.8691901065752327, 0.4495597707471277, -2.801023933962865, -0.8238229519352759, 0.04128400296717988, -0.6901701140888579, 1.1916495037586128, -0.9295614751372788, -0.3231576891007971, -0.7040182646953186, 1.9790020173304628, 0.985673156309637, 0.6222213952844792, -0.1690695981714178, 1.3063478136705455, -0.5537556528688246, 0.06401592476986435, -0.0008402575602733345, -0.5639327228761422, 0.6608360365296245, 0.2932081224527548, 0.6024607368840637, 0.6096916892907379, -0.8679904449478311, -0.12208563224647935, -1.132526357998367, -0.3968559663885494, 0.5730640969363368, 0.3827904667250426, -0.8200063265474274, -0.45552898404631365, 0.08141056318368534, 0.5051122350181024, -2.0250450421281125, 0.014663387828365947, 0.5667760720620605, 0.2022882687234411, 1.187387385536581, 1.0189024742420798, -0.7298071957786113, 0.05948535909929114, -0.5079171949110749, -0.7440860797142066, 0.3268609879345079, 1.4598066328833745, 1.012654544868541, -0.6403355542078821, -0.08502020694767025, 1.4850038202651428, 0.08081454059719645, 0.2627642445729847, -0.8642028436313269, -0.49831337549218374, -0.2800136845430416, 0.040417289509109944, -1.144179761118651, 1.807443770703011, 0.3806342224989023, 1.2287603745892146, 0.8735308102245346, -0.8352237499555955, 1.2123633864099363, 0.5996684543315636, -1.2552732180664523, -0.33749497322565136, -0.3596282323596586, -0.36185868788703535, 0.8894345743403884, -0.8404253713393572]}, {\"histfunc\": \"count\", \"histnorm\": \"\", \"marker\": {\"color\": \"rgba(128, 0, 128, 1.0)\", \"line\": {\"color\": \"#4D5663\", \"width\": 1.3}}, \"name\": \"D\", \"nbinsx\": 50, \"opacity\": 0.8, \"orientation\": \"v\", \"type\": \"histogram\", \"x\": [0.6893397535031753, -0.634782770197293, -1.3651647455238947, 0.5659178518454178, 0.14146422009809448, 0.20585568742835458, -0.323569057620845, 0.24781586608556125, 0.8208949499246398, 1.3351105498079698, 0.7989279478030678, -0.6468933836371301, 0.39863035992129003, 0.47095104852203645, 0.2693234881822479, 0.5149635994224956, 0.540039861790419, -1.0560385502243055, 1.420309355013242, -1.3271645563971741, 0.02428842976034102, -1.1279761762651903, 0.7425629834247508, 0.12454951520226333, -0.8900025088723069, -1.0415293745293592, -1.032703442507068, 0.08858842850306446, 0.21673451116324674, 1.0773810976744913, -0.8005023910645993, -0.8250117982933071, -0.875049873565815, 0.12047064633653336, 1.5518281540606154, -0.48950713262227397, 1.158258147987117, 0.11856343615655199, 1.6570380736340358, 2.127076507548714, -1.5071492237481672, 1.3878540441851652, 1.7967392604687493, -2.427511091257778, 0.6638920325166114, -1.0243866636811134, -0.9977307088517342, 1.1332705619033097, 0.1787949995440567, 1.8294622360138504, 1.336117505283273, -0.9747308204149058, -0.21060626994445616, -1.6792949349020025, -1.6977453195697814, -1.486859332377673, 0.4614839606236429, 1.7033598737816464, 0.3469648988028317, -0.6698873840875732, 1.1598972264121405, 0.6215349000091484, -1.2264167086553013, 0.23438318536696298, 1.0633039804419662, 0.14760634745273152, 1.2677451019504973, 0.6535051309470021, -0.6851207475862858, -1.8591972638103833, -0.37396971449307076, -1.2208452591467445, 0.18790967127387492, -0.6058533913589577, 0.01130864506496672, -3.1060627472728273, -0.27687656929833604, 0.34068588900417174, -0.04575381175627021, 0.9099625078425607, -0.5794692122519473, -0.1965604817374992, -0.30034716768779113, -0.8263038743589, 0.3559471996961158, -0.618517658506671, -0.5489259138475905, -1.192280245987357, -0.17765596325209876, -1.7786305738644168, 0.6023764476041314, 0.5177743526185985, 1.625948563551156, 0.732401806275617, 0.5159331202280345, 0.9004335661442393, 0.12533332537820574, 0.05145474359691806, -1.1901492124514266, 1.3226574609114097]}],\n",
       "                        {\"barmode\": \"overlay\", \"legend\": {\"bgcolor\": \"#F5F6F9\", \"font\": {\"color\": \"#4D5663\"}}, \"paper_bgcolor\": \"#F5F6F9\", \"plot_bgcolor\": \"#F5F6F9\", \"template\": {\"data\": {\"bar\": [{\"error_x\": {\"color\": \"#2a3f5f\"}, \"error_y\": {\"color\": \"#2a3f5f\"}, \"marker\": {\"line\": {\"color\": \"#E5ECF6\", \"width\": 0.5}}, \"type\": \"bar\"}], \"barpolar\": [{\"marker\": {\"line\": {\"color\": \"#E5ECF6\", \"width\": 0.5}}, \"type\": \"barpolar\"}], \"carpet\": [{\"aaxis\": {\"endlinecolor\": \"#2a3f5f\", \"gridcolor\": \"white\", \"linecolor\": \"white\", \"minorgridcolor\": \"white\", \"startlinecolor\": \"#2a3f5f\"}, \"baxis\": {\"endlinecolor\": \"#2a3f5f\", \"gridcolor\": \"white\", \"linecolor\": \"white\", \"minorgridcolor\": \"white\", \"startlinecolor\": \"#2a3f5f\"}, \"type\": \"carpet\"}], \"choropleth\": [{\"colorbar\": {\"outlinewidth\": 0, \"ticks\": \"\"}, \"type\": \"choropleth\"}], \"contour\": [{\"colorbar\": {\"outlinewidth\": 0, \"ticks\": \"\"}, \"colorscale\": [[0.0, \"#0d0887\"], [0.1111111111111111, \"#46039f\"], [0.2222222222222222, \"#7201a8\"], [0.3333333333333333, \"#9c179e\"], [0.4444444444444444, \"#bd3786\"], [0.5555555555555556, \"#d8576b\"], [0.6666666666666666, \"#ed7953\"], [0.7777777777777778, \"#fb9f3a\"], [0.8888888888888888, \"#fdca26\"], [1.0, \"#f0f921\"]], \"type\": \"contour\"}], \"contourcarpet\": [{\"colorbar\": {\"outlinewidth\": 0, \"ticks\": \"\"}, \"type\": \"contourcarpet\"}], \"heatmap\": [{\"colorbar\": {\"outlinewidth\": 0, \"ticks\": \"\"}, \"colorscale\": [[0.0, \"#0d0887\"], [0.1111111111111111, \"#46039f\"], [0.2222222222222222, \"#7201a8\"], [0.3333333333333333, \"#9c179e\"], [0.4444444444444444, \"#bd3786\"], [0.5555555555555556, \"#d8576b\"], [0.6666666666666666, \"#ed7953\"], [0.7777777777777778, \"#fb9f3a\"], [0.8888888888888888, \"#fdca26\"], [1.0, \"#f0f921\"]], \"type\": \"heatmap\"}], \"heatmapgl\": [{\"colorbar\": {\"outlinewidth\": 0, \"ticks\": \"\"}, \"colorscale\": [[0.0, \"#0d0887\"], [0.1111111111111111, \"#46039f\"], [0.2222222222222222, \"#7201a8\"], [0.3333333333333333, \"#9c179e\"], [0.4444444444444444, \"#bd3786\"], [0.5555555555555556, \"#d8576b\"], [0.6666666666666666, \"#ed7953\"], [0.7777777777777778, \"#fb9f3a\"], [0.8888888888888888, \"#fdca26\"], [1.0, \"#f0f921\"]], \"type\": \"heatmapgl\"}], \"histogram\": [{\"marker\": {\"colorbar\": {\"outlinewidth\": 0, \"ticks\": \"\"}}, \"type\": \"histogram\"}], \"histogram2d\": [{\"colorbar\": {\"outlinewidth\": 0, \"ticks\": \"\"}, \"colorscale\": [[0.0, \"#0d0887\"], [0.1111111111111111, \"#46039f\"], [0.2222222222222222, \"#7201a8\"], [0.3333333333333333, \"#9c179e\"], [0.4444444444444444, \"#bd3786\"], [0.5555555555555556, \"#d8576b\"], [0.6666666666666666, \"#ed7953\"], [0.7777777777777778, \"#fb9f3a\"], [0.8888888888888888, \"#fdca26\"], [1.0, \"#f0f921\"]], \"type\": \"histogram2d\"}], \"histogram2dcontour\": [{\"colorbar\": {\"outlinewidth\": 0, \"ticks\": \"\"}, \"colorscale\": [[0.0, \"#0d0887\"], [0.1111111111111111, \"#46039f\"], [0.2222222222222222, \"#7201a8\"], [0.3333333333333333, \"#9c179e\"], [0.4444444444444444, \"#bd3786\"], [0.5555555555555556, \"#d8576b\"], [0.6666666666666666, \"#ed7953\"], [0.7777777777777778, \"#fb9f3a\"], [0.8888888888888888, \"#fdca26\"], [1.0, \"#f0f921\"]], \"type\": \"histogram2dcontour\"}], \"mesh3d\": [{\"colorbar\": {\"outlinewidth\": 0, \"ticks\": \"\"}, \"type\": \"mesh3d\"}], \"parcoords\": [{\"line\": {\"colorbar\": {\"outlinewidth\": 0, \"ticks\": \"\"}}, \"type\": \"parcoords\"}], \"pie\": [{\"automargin\": true, \"type\": \"pie\"}], \"scatter\": [{\"marker\": {\"colorbar\": {\"outlinewidth\": 0, \"ticks\": \"\"}}, \"type\": \"scatter\"}], \"scatter3d\": [{\"line\": {\"colorbar\": {\"outlinewidth\": 0, \"ticks\": \"\"}}, \"marker\": {\"colorbar\": {\"outlinewidth\": 0, \"ticks\": \"\"}}, \"type\": \"scatter3d\"}], \"scattercarpet\": [{\"marker\": {\"colorbar\": {\"outlinewidth\": 0, \"ticks\": \"\"}}, \"type\": \"scattercarpet\"}], \"scattergeo\": [{\"marker\": {\"colorbar\": {\"outlinewidth\": 0, \"ticks\": \"\"}}, \"type\": \"scattergeo\"}], \"scattergl\": [{\"marker\": {\"colorbar\": {\"outlinewidth\": 0, \"ticks\": \"\"}}, \"type\": \"scattergl\"}], \"scattermapbox\": [{\"marker\": {\"colorbar\": {\"outlinewidth\": 0, \"ticks\": \"\"}}, \"type\": \"scattermapbox\"}], \"scatterpolar\": [{\"marker\": {\"colorbar\": {\"outlinewidth\": 0, \"ticks\": \"\"}}, \"type\": \"scatterpolar\"}], \"scatterpolargl\": [{\"marker\": {\"colorbar\": {\"outlinewidth\": 0, \"ticks\": \"\"}}, \"type\": \"scatterpolargl\"}], \"scatterternary\": [{\"marker\": {\"colorbar\": {\"outlinewidth\": 0, \"ticks\": \"\"}}, \"type\": \"scatterternary\"}], \"surface\": [{\"colorbar\": {\"outlinewidth\": 0, \"ticks\": \"\"}, \"colorscale\": [[0.0, \"#0d0887\"], [0.1111111111111111, \"#46039f\"], [0.2222222222222222, \"#7201a8\"], [0.3333333333333333, \"#9c179e\"], [0.4444444444444444, \"#bd3786\"], [0.5555555555555556, \"#d8576b\"], [0.6666666666666666, \"#ed7953\"], [0.7777777777777778, \"#fb9f3a\"], [0.8888888888888888, \"#fdca26\"], [1.0, \"#f0f921\"]], \"type\": \"surface\"}], \"table\": [{\"cells\": {\"fill\": {\"color\": \"#EBF0F8\"}, \"line\": {\"color\": \"white\"}}, \"header\": {\"fill\": {\"color\": \"#C8D4E3\"}, \"line\": {\"color\": \"white\"}}, \"type\": \"table\"}]}, \"layout\": {\"annotationdefaults\": {\"arrowcolor\": \"#2a3f5f\", \"arrowhead\": 0, \"arrowwidth\": 1}, \"coloraxis\": {\"colorbar\": {\"outlinewidth\": 0, \"ticks\": \"\"}}, \"colorscale\": {\"diverging\": [[0, \"#8e0152\"], [0.1, \"#c51b7d\"], [0.2, \"#de77ae\"], [0.3, \"#f1b6da\"], [0.4, \"#fde0ef\"], [0.5, \"#f7f7f7\"], [0.6, \"#e6f5d0\"], [0.7, \"#b8e186\"], [0.8, \"#7fbc41\"], [0.9, \"#4d9221\"], [1, \"#276419\"]], \"sequential\": [[0.0, \"#0d0887\"], [0.1111111111111111, \"#46039f\"], [0.2222222222222222, \"#7201a8\"], [0.3333333333333333, \"#9c179e\"], [0.4444444444444444, \"#bd3786\"], [0.5555555555555556, \"#d8576b\"], [0.6666666666666666, \"#ed7953\"], [0.7777777777777778, \"#fb9f3a\"], [0.8888888888888888, \"#fdca26\"], [1.0, \"#f0f921\"]], \"sequentialminus\": [[0.0, \"#0d0887\"], [0.1111111111111111, \"#46039f\"], [0.2222222222222222, \"#7201a8\"], [0.3333333333333333, \"#9c179e\"], [0.4444444444444444, \"#bd3786\"], [0.5555555555555556, \"#d8576b\"], [0.6666666666666666, \"#ed7953\"], [0.7777777777777778, \"#fb9f3a\"], [0.8888888888888888, \"#fdca26\"], [1.0, \"#f0f921\"]]}, \"colorway\": [\"#636efa\", \"#EF553B\", \"#00cc96\", \"#ab63fa\", \"#FFA15A\", \"#19d3f3\", \"#FF6692\", \"#B6E880\", \"#FF97FF\", \"#FECB52\"], \"font\": {\"color\": \"#2a3f5f\"}, \"geo\": {\"bgcolor\": \"white\", \"lakecolor\": \"white\", \"landcolor\": \"#E5ECF6\", \"showlakes\": true, \"showland\": true, \"subunitcolor\": \"white\"}, \"hoverlabel\": {\"align\": \"left\"}, \"hovermode\": \"closest\", \"mapbox\": {\"style\": \"light\"}, \"paper_bgcolor\": \"white\", \"plot_bgcolor\": \"#E5ECF6\", \"polar\": {\"angularaxis\": {\"gridcolor\": \"white\", \"linecolor\": \"white\", \"ticks\": \"\"}, \"bgcolor\": \"#E5ECF6\", \"radialaxis\": {\"gridcolor\": \"white\", \"linecolor\": \"white\", \"ticks\": \"\"}}, \"scene\": {\"xaxis\": {\"backgroundcolor\": \"#E5ECF6\", \"gridcolor\": \"white\", \"gridwidth\": 2, \"linecolor\": \"white\", \"showbackground\": true, \"ticks\": \"\", \"zerolinecolor\": \"white\"}, \"yaxis\": {\"backgroundcolor\": \"#E5ECF6\", \"gridcolor\": \"white\", \"gridwidth\": 2, \"linecolor\": \"white\", \"showbackground\": true, \"ticks\": \"\", \"zerolinecolor\": \"white\"}, \"zaxis\": {\"backgroundcolor\": \"#E5ECF6\", \"gridcolor\": \"white\", \"gridwidth\": 2, \"linecolor\": \"white\", \"showbackground\": true, \"ticks\": \"\", \"zerolinecolor\": \"white\"}}, \"shapedefaults\": {\"line\": {\"color\": \"#2a3f5f\"}}, \"ternary\": {\"aaxis\": {\"gridcolor\": \"white\", \"linecolor\": \"white\", \"ticks\": \"\"}, \"baxis\": {\"gridcolor\": \"white\", \"linecolor\": \"white\", \"ticks\": \"\"}, \"bgcolor\": \"#E5ECF6\", \"caxis\": {\"gridcolor\": \"white\", \"linecolor\": \"white\", \"ticks\": \"\"}}, \"title\": {\"x\": 0.05}, \"xaxis\": {\"automargin\": true, \"gridcolor\": \"white\", \"linecolor\": \"white\", \"ticks\": \"\", \"title\": {\"standoff\": 15}, \"zerolinecolor\": \"white\", \"zerolinewidth\": 2}, \"yaxis\": {\"automargin\": true, \"gridcolor\": \"white\", \"linecolor\": \"white\", \"ticks\": \"\", \"title\": {\"standoff\": 15}, \"zerolinecolor\": \"white\", \"zerolinewidth\": 2}}}, \"title\": {\"font\": {\"color\": \"#4D5663\"}}, \"xaxis\": {\"gridcolor\": \"#E1E5ED\", \"showgrid\": true, \"tickfont\": {\"color\": \"#4D5663\"}, \"title\": {\"font\": {\"color\": \"#4D5663\"}, \"text\": \"\"}, \"zerolinecolor\": \"#E1E5ED\"}, \"yaxis\": {\"gridcolor\": \"#E1E5ED\", \"showgrid\": true, \"tickfont\": {\"color\": \"#4D5663\"}, \"title\": {\"font\": {\"color\": \"#4D5663\"}, \"text\": \"\"}, \"zerolinecolor\": \"#E1E5ED\"}},\n",
       "                        {\"showLink\": true, \"linkText\": \"Export to plot.ly\", \"plotlyServerURL\": \"https://plot.ly\", \"responsive\": true}\n",
       "                    ).then(function(){\n",
       "                            \n",
       "var gd = document.getElementById('548cb206-dabd-40cc-be87-c3601e7bbf43');\n",
       "var x = new MutationObserver(function (mutations, observer) {{\n",
       "        var display = window.getComputedStyle(gd).display;\n",
       "        if (!display || display === 'none') {{\n",
       "            console.log([gd, 'removed!']);\n",
       "            Plotly.purge(gd);\n",
       "            observer.disconnect();\n",
       "        }}\n",
       "}});\n",
       "\n",
       "// Listen for the removal of the full notebook cells\n",
       "var notebookContainer = gd.closest('#notebook-container');\n",
       "if (notebookContainer) {{\n",
       "    x.observe(notebookContainer, {childList: true});\n",
       "}}\n",
       "\n",
       "// Listen for the clearing of the current output cell\n",
       "var outputEl = gd.closest('.output');\n",
       "if (outputEl) {{\n",
       "    x.observe(outputEl, {childList: true});\n",
       "}}\n",
       "\n",
       "                        })\n",
       "                };\n",
       "                });\n",
       "            </script>\n",
       "        </div>"
      ]
     },
     "metadata": {},
     "output_type": "display_data"
    }
   ],
   "source": [
    "df.iplot(kind='hist', bins=50) # plotting all the dataset"
   ]
  },
  {
   "cell_type": "markdown",
   "metadata": {},
   "source": [
    "## Spread compare two stocks"
   ]
  },
  {
   "cell_type": "code",
   "execution_count": 23,
   "metadata": {},
   "outputs": [
    {
     "data": {
      "application/vnd.plotly.v1+json": {
       "config": {
        "linkText": "Export to plot.ly",
        "plotlyServerURL": "https://plot.ly",
        "showLink": true
       },
       "data": [
        {
         "line": {
          "color": "rgba(255, 153, 51, 1.0)",
          "dash": "solid",
          "shape": "linear",
          "width": 1.3
         },
         "mode": "lines",
         "name": "A",
         "text": "",
         "type": "scatter",
         "x": [
          0,
          1,
          2,
          3,
          4,
          5,
          6,
          7,
          8,
          9,
          10,
          11,
          12,
          13,
          14,
          15,
          16,
          17,
          18,
          19,
          20,
          21,
          22,
          23,
          24,
          25,
          26,
          27,
          28,
          29,
          30,
          31,
          32,
          33,
          34,
          35,
          36,
          37,
          38,
          39,
          40,
          41,
          42,
          43,
          44,
          45,
          46,
          47,
          48,
          49,
          50,
          51,
          52,
          53,
          54,
          55,
          56,
          57,
          58,
          59,
          60,
          61,
          62,
          63,
          64,
          65,
          66,
          67,
          68,
          69,
          70,
          71,
          72,
          73,
          74,
          75,
          76,
          77,
          78,
          79,
          80,
          81,
          82,
          83,
          84,
          85,
          86,
          87,
          88,
          89,
          90,
          91,
          92,
          93,
          94,
          95,
          96,
          97,
          98,
          99
         ],
         "y": [
          0.9273501686452831,
          -0.5336819713432426,
          -0.4719061159137588,
          -0.9892039772850318,
          1.745699378229749,
          -0.26335462861925224,
          0.7908256324744336,
          -0.018916685629151987,
          1.4362821330775597,
          -0.32503355428080577,
          0.153676829720251,
          1.1318065272893738,
          0.08839548036838218,
          -0.13371513443907548,
          0.04554308700723792,
          -0.05877157631492504,
          0.9319619775407781,
          -0.892681343719326,
          -0.23869875455176157,
          -0.8071351942969122,
          -0.8460637342785593,
          0.5435124105045299,
          1.8829768691003779,
          0.26018907025834476,
          -0.9630329187123825,
          0.5924332239870846,
          0.05224067716215473,
          -0.22741409274250976,
          0.12187361251470992,
          0.195255432340129,
          -3.1675899599066684,
          0.4368530139763862,
          1.9289359381994984,
          0.8056938127943846,
          -0.37292655824780185,
          0.6512746095656167,
          -0.9938636126479036,
          0.7862381402545336,
          -1.1287854744382666,
          0.6094151867668576,
          -1.3345012926132753,
          -0.02281986102852559,
          2.1763311981289886,
          -0.09963573401996252,
          0.8464995922182782,
          -1.2042004296695825,
          2.1203247152475537,
          0.36791612384551403,
          -0.23999914272661843,
          0.024080904242700003,
          0.03482469604660009,
          1.8265286417264184,
          0.49707787161574435,
          -0.5323481640582688,
          -0.5904516820742872,
          -0.31429352820806933,
          -0.20083676978802706,
          -0.24576824746640213,
          0.4490649374540152,
          0.009106977618565758,
          -0.2601190686513889,
          -0.4885809019711191,
          -0.7065650259075594,
          -0.5655889024607965,
          1.1242265905343243,
          -1.289422567292631,
          -0.11079106339526591,
          0.025175648703488762,
          -1.0654028367316437,
          0.5876369583983077,
          -1.2193627328117418,
          0.27503948246745363,
          0.20062669512915307,
          -0.712497095962588,
          -0.5936065482919237,
          0.3162171738816598,
          -2.0801283752733593,
          0.05481389727834878,
          0.29834235948809595,
          -0.25193217959399716,
          -0.18815985965566256,
          -1.0993840202389924,
          1.3720808925772439,
          -1.3901447430249643,
          0.2952706310041869,
          -0.14215402384411635,
          0.2557152281650664,
          0.05237368863656635,
          0.1665134157650504,
          0.32752167656534614,
          -0.02638737238095419,
          -0.07622496454221706,
          1.5158939538061444,
          1.2842668521004519,
          1.1900091488359847,
          0.11950465514627728,
          0.20792715338952203,
          -0.7069618004958248,
          -1.0060679633961014,
          0.7402869780165224
         ]
        },
        {
         "line": {
          "color": "rgba(55, 128, 191, 1.0)",
          "dash": "solid",
          "shape": "linear",
          "width": 1.3
         },
         "mode": "lines",
         "name": "B",
         "text": "",
         "type": "scatter",
         "x": [
          0,
          1,
          2,
          3,
          4,
          5,
          6,
          7,
          8,
          9,
          10,
          11,
          12,
          13,
          14,
          15,
          16,
          17,
          18,
          19,
          20,
          21,
          22,
          23,
          24,
          25,
          26,
          27,
          28,
          29,
          30,
          31,
          32,
          33,
          34,
          35,
          36,
          37,
          38,
          39,
          40,
          41,
          42,
          43,
          44,
          45,
          46,
          47,
          48,
          49,
          50,
          51,
          52,
          53,
          54,
          55,
          56,
          57,
          58,
          59,
          60,
          61,
          62,
          63,
          64,
          65,
          66,
          67,
          68,
          69,
          70,
          71,
          72,
          73,
          74,
          75,
          76,
          77,
          78,
          79,
          80,
          81,
          82,
          83,
          84,
          85,
          86,
          87,
          88,
          89,
          90,
          91,
          92,
          93,
          94,
          95,
          96,
          97,
          98,
          99
         ],
         "y": [
          -1.4475834439088642,
          1.936342110293859,
          1.5703019396317082,
          -1.141171509843668,
          0.7086983057483757,
          -0.21548691100100484,
          -0.4935357265485408,
          -0.40008675780020697,
          0.24466237321409023,
          -0.5575940599375178,
          0.7174291311785046,
          0.6066901397467638,
          0.7183279064527168,
          0.9037822643675042,
          0.7922052580156334,
          0.33548132017685217,
          -0.20261143372834065,
          0.7973085569924002,
          1.0992036024784997,
          -0.49476558867100884,
          -0.33780792682176386,
          -1.338637353195344,
          1.1385637433257803,
          -0.20322491634641116,
          0.6844714764071702,
          -0.16617105280152625,
          1.3721896447655835,
          -0.432825142025372,
          -0.6979376497189357,
          -1.827219084945071,
          -0.08870604821904153,
          -0.7593429321290202,
          -1.1452326196090716,
          -0.6591873413644148,
          -0.024453262800700207,
          2.8961064396206346,
          1.363739087484403,
          -0.020299241643240123,
          -0.5503581956789931,
          0.202981852523745,
          -0.04318579863195509,
          1.3640507313160912,
          -1.0280179913191263,
          0.21129179119723718,
          0.10297146234534578,
          -1.2433243782994525,
          -0.021709600661412465,
          1.1984399083378903,
          -1.3599613321180355,
          1.3891357969076896,
          0.07820929637177787,
          -0.6378218867551335,
          -1.0039159825678918,
          -2.126997043628774,
          0.06341984518776161,
          0.32731593946564225,
          2.0722346896488597,
          -1.8756884771290674,
          -1.8738446512520954,
          -0.1688759685449708,
          0.345763386677497,
          -1.4914130382877966,
          -1.4107957310164405,
          -0.4184816338943611,
          1.1964942739671964,
          -0.42009278182817616,
          0.10668530708683387,
          -0.7525150643124401,
          -0.010377553383409528,
          -0.2561262290407313,
          -0.5193080456284674,
          0.2376140021029851,
          0.22650863712631936,
          -0.023683051465336405,
          -0.10574186404763539,
          -1.3388266088658878,
          1.8649371415743328,
          -0.0011472808149724546,
          -0.5809929109198254,
          0.7474919614838859,
          -0.816872565749726,
          1.0410209931608316,
          -0.39785709352618437,
          -1.0815621564988975,
          1.176812583300365,
          0.9895727666875234,
          -0.756797865773887,
          -0.3816828597434053,
          0.42707439730370905,
          -0.1562011388869837,
          0.9675610510066449,
          0.02891219020418467,
          -0.6378898829804626,
          -0.8479768977153376,
          -0.41446797004090963,
          2.564737002195348,
          0.13364725564235924,
          -0.6973271644929159,
          -0.4527411973437712,
          -1.0237425044832327
         ]
        },
        {
         "connectgaps": false,
         "fill": "tozeroy",
         "line": {
          "color": "green",
          "dash": "solid",
          "shape": "linear",
          "width": 0.5
         },
         "mode": "lines",
         "name": "Spread",
         "showlegend": false,
         "type": "scatter",
         "x": [
          0,
          1,
          2,
          3,
          4,
          5,
          6,
          7,
          8,
          9,
          10,
          11,
          12,
          13,
          14,
          15,
          16,
          17,
          18,
          19,
          20,
          21,
          22,
          23,
          24,
          25,
          26,
          27,
          28,
          29,
          30,
          31,
          32,
          33,
          34,
          35,
          36,
          37,
          38,
          39,
          40,
          41,
          42,
          43,
          44,
          45,
          46,
          47,
          48,
          49,
          50,
          51,
          52,
          53,
          54,
          55,
          56,
          57,
          58,
          59,
          60,
          61,
          62,
          63,
          64,
          65,
          66,
          67,
          68,
          69,
          70,
          71,
          72,
          73,
          74,
          75,
          76,
          77,
          78,
          79,
          80,
          81,
          82,
          83,
          84,
          85,
          86,
          87,
          88,
          89,
          90,
          91,
          92,
          93,
          94,
          95,
          96,
          97,
          98,
          99
         ],
         "xaxis": "x2",
         "y": [
          2.3749336125541474,
          "",
          "",
          0.15196753255863626,
          1.0370010724813734,
          "",
          1.2843613590229743,
          0.381170072171055,
          1.1916197598634695,
          0.232560505656712,
          "",
          0.52511638754261,
          "",
          "",
          "",
          "",
          1.1345734112691188,
          "",
          "",
          "",
          "",
          1.8821497636998739,
          0.7444131257745976,
          0.4634139866047559,
          "",
          0.7586042767886109,
          "",
          0.20541104928286222,
          0.8198112622336456,
          2.0224745172852,
          "",
          1.1961959461054064,
          3.0741685578085702,
          1.4648811541587994,
          "",
          "",
          "",
          0.8065373818977738,
          "",
          0.40643333424311257,
          "",
          "",
          3.2043491894481146,
          "",
          0.7435281298729324,
          0.03912394862987001,
          2.1420343159089663,
          "",
          1.1199621893914171,
          "",
          "",
          2.464350528481552,
          1.500993854183636,
          1.5946488795705054,
          "",
          "",
          "",
          1.6299202296626651,
          2.3229095887061106,
          0.17798294616353658,
          "",
          1.0028321363166774,
          0.7042307051088811,
          "",
          "",
          "",
          "",
          0.7776907130159288,
          "",
          0.843763187439039,
          "",
          0.03742548036446852,
          "",
          "",
          "",
          1.6550437827475477,
          "",
          0.05596117809332124,
          0.8793352704079214,
          "",
          0.6287127060940634,
          "",
          1.7699379861034283,
          "",
          "",
          "",
          1.0125130939389533,
          0.43405654837997165,
          "",
          0.48372281545232987,
          "",
          "",
          2.153783836786607,
          2.1322437498157893,
          1.6044771188768943,
          "",
          0.07427989774716279,
          "",
          "",
          1.764029482499755
         ],
         "yaxis": "y2"
        },
        {
         "connectgaps": false,
         "fill": "tozeroy",
         "line": {
          "color": "red",
          "dash": "solid",
          "shape": "linear",
          "width": 0.5
         },
         "mode": "lines",
         "name": "Spread",
         "showlegend": false,
         "type": "scatter",
         "x": [
          0,
          1,
          2,
          3,
          4,
          5,
          6,
          7,
          8,
          9,
          10,
          11,
          12,
          13,
          14,
          15,
          16,
          17,
          18,
          19,
          20,
          21,
          22,
          23,
          24,
          25,
          26,
          27,
          28,
          29,
          30,
          31,
          32,
          33,
          34,
          35,
          36,
          37,
          38,
          39,
          40,
          41,
          42,
          43,
          44,
          45,
          46,
          47,
          48,
          49,
          50,
          51,
          52,
          53,
          54,
          55,
          56,
          57,
          58,
          59,
          60,
          61,
          62,
          63,
          64,
          65,
          66,
          67,
          68,
          69,
          70,
          71,
          72,
          73,
          74,
          75,
          76,
          77,
          78,
          79,
          80,
          81,
          82,
          83,
          84,
          85,
          86,
          87,
          88,
          89,
          90,
          91,
          92,
          93,
          94,
          95,
          96,
          97,
          98,
          99
         ],
         "xaxis": "x2",
         "y": [
          "",
          -2.4700240816371015,
          -2.042208055545467,
          "",
          "",
          -0.0478677176182474,
          "",
          "",
          "",
          "",
          -0.5637523014582536,
          "",
          -0.6299324260843346,
          -1.0374973988065797,
          -0.7466621710083954,
          -0.3942528964917772,
          "",
          -1.6899899007117263,
          -1.3379023570302613,
          -0.3123696056259033,
          -0.5082558074567954,
          "",
          "",
          "",
          -1.6475043951195527,
          "",
          -1.3199489676034288,
          "",
          "",
          "",
          -3.078883911687627,
          "",
          "",
          "",
          -0.34847329544710165,
          -2.244831830055018,
          -2.3576027001323068,
          "",
          -0.5784272787592735,
          "",
          -1.2913154939813203,
          -1.3868705923446167,
          "",
          -0.3109275252171997,
          "",
          "",
          "",
          -0.8305237844923763,
          "",
          -1.3650548926649897,
          -0.04338460032517778,
          "",
          "",
          "",
          -0.6538715272620488,
          -0.6416094676737116,
          -2.2730714594368866,
          "",
          "",
          "",
          -0.605882455328886,
          "",
          "",
          -0.1471072685664354,
          -0.07226768343287215,
          -0.8693297854644548,
          -0.21747637048209978,
          "",
          -1.055025283348234,
          "",
          -0.7000546871832743,
          "",
          -0.025881941997166286,
          -0.6888140444972516,
          -0.4878646842442883,
          "",
          -3.9450655168476922,
          "",
          "",
          -0.999424141077883,
          "",
          -2.140405013399824,
          "",
          -0.30858258652606674,
          -0.8815419522961783,
          -1.1317267905316397,
          "",
          "",
          -0.26056098153865864,
          "",
          -0.9939484233875991,
          -0.10513715474640173,
          "",
          "",
          "",
          -2.4452323470490707,
          "",
          -0.009634636002908925,
          -0.5533267660523302,
          ""
         ],
         "yaxis": "y2"
        }
       ],
       "layout": {
        "hovermode": "x",
        "legend": {
         "bgcolor": "#F5F6F9",
         "font": {
          "color": "#4D5663"
         }
        },
        "paper_bgcolor": "#F5F6F9",
        "plot_bgcolor": "#F5F6F9",
        "template": {
         "data": {
          "bar": [
           {
            "error_x": {
             "color": "#2a3f5f"
            },
            "error_y": {
             "color": "#2a3f5f"
            },
            "marker": {
             "line": {
              "color": "#E5ECF6",
              "width": 0.5
             }
            },
            "type": "bar"
           }
          ],
          "barpolar": [
           {
            "marker": {
             "line": {
              "color": "#E5ECF6",
              "width": 0.5
             }
            },
            "type": "barpolar"
           }
          ],
          "carpet": [
           {
            "aaxis": {
             "endlinecolor": "#2a3f5f",
             "gridcolor": "white",
             "linecolor": "white",
             "minorgridcolor": "white",
             "startlinecolor": "#2a3f5f"
            },
            "baxis": {
             "endlinecolor": "#2a3f5f",
             "gridcolor": "white",
             "linecolor": "white",
             "minorgridcolor": "white",
             "startlinecolor": "#2a3f5f"
            },
            "type": "carpet"
           }
          ],
          "choropleth": [
           {
            "colorbar": {
             "outlinewidth": 0,
             "ticks": ""
            },
            "type": "choropleth"
           }
          ],
          "contour": [
           {
            "colorbar": {
             "outlinewidth": 0,
             "ticks": ""
            },
            "colorscale": [
             [
              0,
              "#0d0887"
             ],
             [
              0.1111111111111111,
              "#46039f"
             ],
             [
              0.2222222222222222,
              "#7201a8"
             ],
             [
              0.3333333333333333,
              "#9c179e"
             ],
             [
              0.4444444444444444,
              "#bd3786"
             ],
             [
              0.5555555555555556,
              "#d8576b"
             ],
             [
              0.6666666666666666,
              "#ed7953"
             ],
             [
              0.7777777777777778,
              "#fb9f3a"
             ],
             [
              0.8888888888888888,
              "#fdca26"
             ],
             [
              1,
              "#f0f921"
             ]
            ],
            "type": "contour"
           }
          ],
          "contourcarpet": [
           {
            "colorbar": {
             "outlinewidth": 0,
             "ticks": ""
            },
            "type": "contourcarpet"
           }
          ],
          "heatmap": [
           {
            "colorbar": {
             "outlinewidth": 0,
             "ticks": ""
            },
            "colorscale": [
             [
              0,
              "#0d0887"
             ],
             [
              0.1111111111111111,
              "#46039f"
             ],
             [
              0.2222222222222222,
              "#7201a8"
             ],
             [
              0.3333333333333333,
              "#9c179e"
             ],
             [
              0.4444444444444444,
              "#bd3786"
             ],
             [
              0.5555555555555556,
              "#d8576b"
             ],
             [
              0.6666666666666666,
              "#ed7953"
             ],
             [
              0.7777777777777778,
              "#fb9f3a"
             ],
             [
              0.8888888888888888,
              "#fdca26"
             ],
             [
              1,
              "#f0f921"
             ]
            ],
            "type": "heatmap"
           }
          ],
          "heatmapgl": [
           {
            "colorbar": {
             "outlinewidth": 0,
             "ticks": ""
            },
            "colorscale": [
             [
              0,
              "#0d0887"
             ],
             [
              0.1111111111111111,
              "#46039f"
             ],
             [
              0.2222222222222222,
              "#7201a8"
             ],
             [
              0.3333333333333333,
              "#9c179e"
             ],
             [
              0.4444444444444444,
              "#bd3786"
             ],
             [
              0.5555555555555556,
              "#d8576b"
             ],
             [
              0.6666666666666666,
              "#ed7953"
             ],
             [
              0.7777777777777778,
              "#fb9f3a"
             ],
             [
              0.8888888888888888,
              "#fdca26"
             ],
             [
              1,
              "#f0f921"
             ]
            ],
            "type": "heatmapgl"
           }
          ],
          "histogram": [
           {
            "marker": {
             "colorbar": {
              "outlinewidth": 0,
              "ticks": ""
             }
            },
            "type": "histogram"
           }
          ],
          "histogram2d": [
           {
            "colorbar": {
             "outlinewidth": 0,
             "ticks": ""
            },
            "colorscale": [
             [
              0,
              "#0d0887"
             ],
             [
              0.1111111111111111,
              "#46039f"
             ],
             [
              0.2222222222222222,
              "#7201a8"
             ],
             [
              0.3333333333333333,
              "#9c179e"
             ],
             [
              0.4444444444444444,
              "#bd3786"
             ],
             [
              0.5555555555555556,
              "#d8576b"
             ],
             [
              0.6666666666666666,
              "#ed7953"
             ],
             [
              0.7777777777777778,
              "#fb9f3a"
             ],
             [
              0.8888888888888888,
              "#fdca26"
             ],
             [
              1,
              "#f0f921"
             ]
            ],
            "type": "histogram2d"
           }
          ],
          "histogram2dcontour": [
           {
            "colorbar": {
             "outlinewidth": 0,
             "ticks": ""
            },
            "colorscale": [
             [
              0,
              "#0d0887"
             ],
             [
              0.1111111111111111,
              "#46039f"
             ],
             [
              0.2222222222222222,
              "#7201a8"
             ],
             [
              0.3333333333333333,
              "#9c179e"
             ],
             [
              0.4444444444444444,
              "#bd3786"
             ],
             [
              0.5555555555555556,
              "#d8576b"
             ],
             [
              0.6666666666666666,
              "#ed7953"
             ],
             [
              0.7777777777777778,
              "#fb9f3a"
             ],
             [
              0.8888888888888888,
              "#fdca26"
             ],
             [
              1,
              "#f0f921"
             ]
            ],
            "type": "histogram2dcontour"
           }
          ],
          "mesh3d": [
           {
            "colorbar": {
             "outlinewidth": 0,
             "ticks": ""
            },
            "type": "mesh3d"
           }
          ],
          "parcoords": [
           {
            "line": {
             "colorbar": {
              "outlinewidth": 0,
              "ticks": ""
             }
            },
            "type": "parcoords"
           }
          ],
          "pie": [
           {
            "automargin": true,
            "type": "pie"
           }
          ],
          "scatter": [
           {
            "marker": {
             "colorbar": {
              "outlinewidth": 0,
              "ticks": ""
             }
            },
            "type": "scatter"
           }
          ],
          "scatter3d": [
           {
            "line": {
             "colorbar": {
              "outlinewidth": 0,
              "ticks": ""
             }
            },
            "marker": {
             "colorbar": {
              "outlinewidth": 0,
              "ticks": ""
             }
            },
            "type": "scatter3d"
           }
          ],
          "scattercarpet": [
           {
            "marker": {
             "colorbar": {
              "outlinewidth": 0,
              "ticks": ""
             }
            },
            "type": "scattercarpet"
           }
          ],
          "scattergeo": [
           {
            "marker": {
             "colorbar": {
              "outlinewidth": 0,
              "ticks": ""
             }
            },
            "type": "scattergeo"
           }
          ],
          "scattergl": [
           {
            "marker": {
             "colorbar": {
              "outlinewidth": 0,
              "ticks": ""
             }
            },
            "type": "scattergl"
           }
          ],
          "scattermapbox": [
           {
            "marker": {
             "colorbar": {
              "outlinewidth": 0,
              "ticks": ""
             }
            },
            "type": "scattermapbox"
           }
          ],
          "scatterpolar": [
           {
            "marker": {
             "colorbar": {
              "outlinewidth": 0,
              "ticks": ""
             }
            },
            "type": "scatterpolar"
           }
          ],
          "scatterpolargl": [
           {
            "marker": {
             "colorbar": {
              "outlinewidth": 0,
              "ticks": ""
             }
            },
            "type": "scatterpolargl"
           }
          ],
          "scatterternary": [
           {
            "marker": {
             "colorbar": {
              "outlinewidth": 0,
              "ticks": ""
             }
            },
            "type": "scatterternary"
           }
          ],
          "surface": [
           {
            "colorbar": {
             "outlinewidth": 0,
             "ticks": ""
            },
            "colorscale": [
             [
              0,
              "#0d0887"
             ],
             [
              0.1111111111111111,
              "#46039f"
             ],
             [
              0.2222222222222222,
              "#7201a8"
             ],
             [
              0.3333333333333333,
              "#9c179e"
             ],
             [
              0.4444444444444444,
              "#bd3786"
             ],
             [
              0.5555555555555556,
              "#d8576b"
             ],
             [
              0.6666666666666666,
              "#ed7953"
             ],
             [
              0.7777777777777778,
              "#fb9f3a"
             ],
             [
              0.8888888888888888,
              "#fdca26"
             ],
             [
              1,
              "#f0f921"
             ]
            ],
            "type": "surface"
           }
          ],
          "table": [
           {
            "cells": {
             "fill": {
              "color": "#EBF0F8"
             },
             "line": {
              "color": "white"
             }
            },
            "header": {
             "fill": {
              "color": "#C8D4E3"
             },
             "line": {
              "color": "white"
             }
            },
            "type": "table"
           }
          ]
         },
         "layout": {
          "annotationdefaults": {
           "arrowcolor": "#2a3f5f",
           "arrowhead": 0,
           "arrowwidth": 1
          },
          "coloraxis": {
           "colorbar": {
            "outlinewidth": 0,
            "ticks": ""
           }
          },
          "colorscale": {
           "diverging": [
            [
             0,
             "#8e0152"
            ],
            [
             0.1,
             "#c51b7d"
            ],
            [
             0.2,
             "#de77ae"
            ],
            [
             0.3,
             "#f1b6da"
            ],
            [
             0.4,
             "#fde0ef"
            ],
            [
             0.5,
             "#f7f7f7"
            ],
            [
             0.6,
             "#e6f5d0"
            ],
            [
             0.7,
             "#b8e186"
            ],
            [
             0.8,
             "#7fbc41"
            ],
            [
             0.9,
             "#4d9221"
            ],
            [
             1,
             "#276419"
            ]
           ],
           "sequential": [
            [
             0,
             "#0d0887"
            ],
            [
             0.1111111111111111,
             "#46039f"
            ],
            [
             0.2222222222222222,
             "#7201a8"
            ],
            [
             0.3333333333333333,
             "#9c179e"
            ],
            [
             0.4444444444444444,
             "#bd3786"
            ],
            [
             0.5555555555555556,
             "#d8576b"
            ],
            [
             0.6666666666666666,
             "#ed7953"
            ],
            [
             0.7777777777777778,
             "#fb9f3a"
            ],
            [
             0.8888888888888888,
             "#fdca26"
            ],
            [
             1,
             "#f0f921"
            ]
           ],
           "sequentialminus": [
            [
             0,
             "#0d0887"
            ],
            [
             0.1111111111111111,
             "#46039f"
            ],
            [
             0.2222222222222222,
             "#7201a8"
            ],
            [
             0.3333333333333333,
             "#9c179e"
            ],
            [
             0.4444444444444444,
             "#bd3786"
            ],
            [
             0.5555555555555556,
             "#d8576b"
            ],
            [
             0.6666666666666666,
             "#ed7953"
            ],
            [
             0.7777777777777778,
             "#fb9f3a"
            ],
            [
             0.8888888888888888,
             "#fdca26"
            ],
            [
             1,
             "#f0f921"
            ]
           ]
          },
          "colorway": [
           "#636efa",
           "#EF553B",
           "#00cc96",
           "#ab63fa",
           "#FFA15A",
           "#19d3f3",
           "#FF6692",
           "#B6E880",
           "#FF97FF",
           "#FECB52"
          ],
          "font": {
           "color": "#2a3f5f"
          },
          "geo": {
           "bgcolor": "white",
           "lakecolor": "white",
           "landcolor": "#E5ECF6",
           "showlakes": true,
           "showland": true,
           "subunitcolor": "white"
          },
          "hoverlabel": {
           "align": "left"
          },
          "hovermode": "closest",
          "mapbox": {
           "style": "light"
          },
          "paper_bgcolor": "white",
          "plot_bgcolor": "#E5ECF6",
          "polar": {
           "angularaxis": {
            "gridcolor": "white",
            "linecolor": "white",
            "ticks": ""
           },
           "bgcolor": "#E5ECF6",
           "radialaxis": {
            "gridcolor": "white",
            "linecolor": "white",
            "ticks": ""
           }
          },
          "scene": {
           "xaxis": {
            "backgroundcolor": "#E5ECF6",
            "gridcolor": "white",
            "gridwidth": 2,
            "linecolor": "white",
            "showbackground": true,
            "ticks": "",
            "zerolinecolor": "white"
           },
           "yaxis": {
            "backgroundcolor": "#E5ECF6",
            "gridcolor": "white",
            "gridwidth": 2,
            "linecolor": "white",
            "showbackground": true,
            "ticks": "",
            "zerolinecolor": "white"
           },
           "zaxis": {
            "backgroundcolor": "#E5ECF6",
            "gridcolor": "white",
            "gridwidth": 2,
            "linecolor": "white",
            "showbackground": true,
            "ticks": "",
            "zerolinecolor": "white"
           }
          },
          "shapedefaults": {
           "line": {
            "color": "#2a3f5f"
           }
          },
          "ternary": {
           "aaxis": {
            "gridcolor": "white",
            "linecolor": "white",
            "ticks": ""
           },
           "baxis": {
            "gridcolor": "white",
            "linecolor": "white",
            "ticks": ""
           },
           "bgcolor": "#E5ECF6",
           "caxis": {
            "gridcolor": "white",
            "linecolor": "white",
            "ticks": ""
           }
          },
          "title": {
           "x": 0.05
          },
          "xaxis": {
           "automargin": true,
           "gridcolor": "white",
           "linecolor": "white",
           "ticks": "",
           "title": {
            "standoff": 15
           },
           "zerolinecolor": "white",
           "zerolinewidth": 2
          },
          "yaxis": {
           "automargin": true,
           "gridcolor": "white",
           "linecolor": "white",
           "ticks": "",
           "title": {
            "standoff": 15
           },
           "zerolinecolor": "white",
           "zerolinewidth": 2
          }
         }
        },
        "title": {
         "font": {
          "color": "#4D5663"
         }
        },
        "xaxis": {
         "gridcolor": "#E1E5ED",
         "showgrid": true,
         "tickfont": {
          "color": "#4D5663"
         },
         "title": {
          "font": {
           "color": "#4D5663"
          },
          "text": ""
         },
         "zerolinecolor": "#E1E5ED"
        },
        "xaxis2": {
         "anchor": "y2",
         "gridcolor": "#E1E5ED",
         "showgrid": true,
         "showticklabels": false,
         "tickfont": {
          "color": "#4D5663"
         },
         "title": {
          "font": {
           "color": "#4D5663"
          },
          "text": ""
         },
         "zerolinecolor": "#E1E5ED"
        },
        "yaxis": {
         "domain": [
          0.3,
          1
         ],
         "gridcolor": "#E1E5ED",
         "showgrid": true,
         "tickfont": {
          "color": "#4D5663"
         },
         "title": {
          "font": {
           "color": "#4D5663"
          },
          "text": ""
         },
         "zerolinecolor": "#E1E5ED"
        },
        "yaxis2": {
         "domain": [
          0,
          0.25
         ],
         "gridcolor": "#E1E5ED",
         "showgrid": true,
         "tickfont": {
          "color": "#4D5663"
         },
         "title": {
          "font": {
           "color": "#4D5663"
          },
          "text": "Spread"
         },
         "zerolinecolor": "#E1E5ED"
        }
       }
      },
      "text/html": [
       "<div>\n",
       "        \n",
       "        \n",
       "            <div id=\"06281654-82cf-4e20-b191-1e5ad303d0cf\" class=\"plotly-graph-div\" style=\"height:525px; width:100%;\"></div>\n",
       "            <script type=\"text/javascript\">\n",
       "                require([\"plotly\"], function(Plotly) {\n",
       "                    window.PLOTLYENV=window.PLOTLYENV || {};\n",
       "                    window.PLOTLYENV.BASE_URL='https://plot.ly';\n",
       "                    \n",
       "                if (document.getElementById(\"06281654-82cf-4e20-b191-1e5ad303d0cf\")) {\n",
       "                    Plotly.newPlot(\n",
       "                        '06281654-82cf-4e20-b191-1e5ad303d0cf',\n",
       "                        [{\"line\": {\"color\": \"rgba(255, 153, 51, 1.0)\", \"dash\": \"solid\", \"shape\": \"linear\", \"width\": 1.3}, \"mode\": \"lines\", \"name\": \"A\", \"text\": \"\", \"type\": \"scatter\", \"x\": [0, 1, 2, 3, 4, 5, 6, 7, 8, 9, 10, 11, 12, 13, 14, 15, 16, 17, 18, 19, 20, 21, 22, 23, 24, 25, 26, 27, 28, 29, 30, 31, 32, 33, 34, 35, 36, 37, 38, 39, 40, 41, 42, 43, 44, 45, 46, 47, 48, 49, 50, 51, 52, 53, 54, 55, 56, 57, 58, 59, 60, 61, 62, 63, 64, 65, 66, 67, 68, 69, 70, 71, 72, 73, 74, 75, 76, 77, 78, 79, 80, 81, 82, 83, 84, 85, 86, 87, 88, 89, 90, 91, 92, 93, 94, 95, 96, 97, 98, 99], \"y\": [0.9273501686452831, -0.5336819713432426, -0.4719061159137588, -0.9892039772850318, 1.745699378229749, -0.26335462861925224, 0.7908256324744336, -0.018916685629151987, 1.4362821330775597, -0.32503355428080577, 0.153676829720251, 1.1318065272893738, 0.08839548036838218, -0.13371513443907548, 0.04554308700723792, -0.05877157631492504, 0.9319619775407781, -0.892681343719326, -0.23869875455176157, -0.8071351942969122, -0.8460637342785593, 0.5435124105045299, 1.8829768691003779, 0.26018907025834476, -0.9630329187123825, 0.5924332239870846, 0.05224067716215473, -0.22741409274250976, 0.12187361251470992, 0.195255432340129, -3.1675899599066684, 0.4368530139763862, 1.9289359381994984, 0.8056938127943846, -0.37292655824780185, 0.6512746095656167, -0.9938636126479036, 0.7862381402545336, -1.1287854744382666, 0.6094151867668576, -1.3345012926132753, -0.02281986102852559, 2.1763311981289886, -0.09963573401996252, 0.8464995922182782, -1.2042004296695825, 2.1203247152475537, 0.36791612384551403, -0.23999914272661843, 0.024080904242700003, 0.03482469604660009, 1.8265286417264184, 0.49707787161574435, -0.5323481640582688, -0.5904516820742872, -0.31429352820806933, -0.20083676978802706, -0.24576824746640213, 0.4490649374540152, 0.009106977618565758, -0.2601190686513889, -0.4885809019711191, -0.7065650259075594, -0.5655889024607965, 1.1242265905343243, -1.289422567292631, -0.11079106339526591, 0.025175648703488762, -1.0654028367316437, 0.5876369583983077, -1.2193627328117418, 0.27503948246745363, 0.20062669512915307, -0.712497095962588, -0.5936065482919237, 0.3162171738816598, -2.0801283752733593, 0.05481389727834878, 0.29834235948809595, -0.25193217959399716, -0.18815985965566256, -1.0993840202389924, 1.3720808925772439, -1.3901447430249643, 0.2952706310041869, -0.14215402384411635, 0.2557152281650664, 0.05237368863656635, 0.1665134157650504, 0.32752167656534614, -0.02638737238095419, -0.07622496454221706, 1.5158939538061444, 1.2842668521004519, 1.1900091488359847, 0.11950465514627728, 0.20792715338952203, -0.7069618004958248, -1.0060679633961014, 0.7402869780165224]}, {\"line\": {\"color\": \"rgba(55, 128, 191, 1.0)\", \"dash\": \"solid\", \"shape\": \"linear\", \"width\": 1.3}, \"mode\": \"lines\", \"name\": \"B\", \"text\": \"\", \"type\": \"scatter\", \"x\": [0, 1, 2, 3, 4, 5, 6, 7, 8, 9, 10, 11, 12, 13, 14, 15, 16, 17, 18, 19, 20, 21, 22, 23, 24, 25, 26, 27, 28, 29, 30, 31, 32, 33, 34, 35, 36, 37, 38, 39, 40, 41, 42, 43, 44, 45, 46, 47, 48, 49, 50, 51, 52, 53, 54, 55, 56, 57, 58, 59, 60, 61, 62, 63, 64, 65, 66, 67, 68, 69, 70, 71, 72, 73, 74, 75, 76, 77, 78, 79, 80, 81, 82, 83, 84, 85, 86, 87, 88, 89, 90, 91, 92, 93, 94, 95, 96, 97, 98, 99], \"y\": [-1.4475834439088642, 1.936342110293859, 1.5703019396317082, -1.141171509843668, 0.7086983057483757, -0.21548691100100484, -0.4935357265485408, -0.40008675780020697, 0.24466237321409023, -0.5575940599375178, 0.7174291311785046, 0.6066901397467638, 0.7183279064527168, 0.9037822643675042, 0.7922052580156334, 0.33548132017685217, -0.20261143372834065, 0.7973085569924002, 1.0992036024784997, -0.49476558867100884, -0.33780792682176386, -1.338637353195344, 1.1385637433257803, -0.20322491634641116, 0.6844714764071702, -0.16617105280152625, 1.3721896447655835, -0.432825142025372, -0.6979376497189357, -1.827219084945071, -0.08870604821904153, -0.7593429321290202, -1.1452326196090716, -0.6591873413644148, -0.024453262800700207, 2.8961064396206346, 1.363739087484403, -0.020299241643240123, -0.5503581956789931, 0.202981852523745, -0.04318579863195509, 1.3640507313160912, -1.0280179913191263, 0.21129179119723718, 0.10297146234534578, -1.2433243782994525, -0.021709600661412465, 1.1984399083378903, -1.3599613321180355, 1.3891357969076896, 0.07820929637177787, -0.6378218867551335, -1.0039159825678918, -2.126997043628774, 0.06341984518776161, 0.32731593946564225, 2.0722346896488597, -1.8756884771290674, -1.8738446512520954, -0.1688759685449708, 0.345763386677497, -1.4914130382877966, -1.4107957310164405, -0.4184816338943611, 1.1964942739671964, -0.42009278182817616, 0.10668530708683387, -0.7525150643124401, -0.010377553383409528, -0.2561262290407313, -0.5193080456284674, 0.2376140021029851, 0.22650863712631936, -0.023683051465336405, -0.10574186404763539, -1.3388266088658878, 1.8649371415743328, -0.0011472808149724546, -0.5809929109198254, 0.7474919614838859, -0.816872565749726, 1.0410209931608316, -0.39785709352618437, -1.0815621564988975, 1.176812583300365, 0.9895727666875234, -0.756797865773887, -0.3816828597434053, 0.42707439730370905, -0.1562011388869837, 0.9675610510066449, 0.02891219020418467, -0.6378898829804626, -0.8479768977153376, -0.41446797004090963, 2.564737002195348, 0.13364725564235924, -0.6973271644929159, -0.4527411973437712, -1.0237425044832327]}, {\"connectgaps\": false, \"fill\": \"tozeroy\", \"line\": {\"color\": \"green\", \"dash\": \"solid\", \"shape\": \"linear\", \"width\": 0.5}, \"mode\": \"lines\", \"name\": \"Spread\", \"showlegend\": false, \"type\": \"scatter\", \"x\": [0, 1, 2, 3, 4, 5, 6, 7, 8, 9, 10, 11, 12, 13, 14, 15, 16, 17, 18, 19, 20, 21, 22, 23, 24, 25, 26, 27, 28, 29, 30, 31, 32, 33, 34, 35, 36, 37, 38, 39, 40, 41, 42, 43, 44, 45, 46, 47, 48, 49, 50, 51, 52, 53, 54, 55, 56, 57, 58, 59, 60, 61, 62, 63, 64, 65, 66, 67, 68, 69, 70, 71, 72, 73, 74, 75, 76, 77, 78, 79, 80, 81, 82, 83, 84, 85, 86, 87, 88, 89, 90, 91, 92, 93, 94, 95, 96, 97, 98, 99], \"xaxis\": \"x2\", \"y\": [2.3749336125541474, \"\", \"\", 0.15196753255863626, 1.0370010724813734, \"\", 1.2843613590229743, 0.381170072171055, 1.1916197598634695, 0.232560505656712, \"\", 0.52511638754261, \"\", \"\", \"\", \"\", 1.1345734112691188, \"\", \"\", \"\", \"\", 1.8821497636998739, 0.7444131257745976, 0.4634139866047559, \"\", 0.7586042767886109, \"\", 0.20541104928286222, 0.8198112622336456, 2.0224745172852, \"\", 1.1961959461054064, 3.0741685578085702, 1.4648811541587994, \"\", \"\", \"\", 0.8065373818977738, \"\", 0.40643333424311257, \"\", \"\", 3.2043491894481146, \"\", 0.7435281298729324, 0.03912394862987001, 2.1420343159089663, \"\", 1.1199621893914171, \"\", \"\", 2.464350528481552, 1.500993854183636, 1.5946488795705054, \"\", \"\", \"\", 1.6299202296626651, 2.3229095887061106, 0.17798294616353658, \"\", 1.0028321363166774, 0.7042307051088811, \"\", \"\", \"\", \"\", 0.7776907130159288, \"\", 0.843763187439039, \"\", 0.03742548036446852, \"\", \"\", \"\", 1.6550437827475477, \"\", 0.05596117809332124, 0.8793352704079214, \"\", 0.6287127060940634, \"\", 1.7699379861034283, \"\", \"\", \"\", 1.0125130939389533, 0.43405654837997165, \"\", 0.48372281545232987, \"\", \"\", 2.153783836786607, 2.1322437498157893, 1.6044771188768943, \"\", 0.07427989774716279, \"\", \"\", 1.764029482499755], \"yaxis\": \"y2\"}, {\"connectgaps\": false, \"fill\": \"tozeroy\", \"line\": {\"color\": \"red\", \"dash\": \"solid\", \"shape\": \"linear\", \"width\": 0.5}, \"mode\": \"lines\", \"name\": \"Spread\", \"showlegend\": false, \"type\": \"scatter\", \"x\": [0, 1, 2, 3, 4, 5, 6, 7, 8, 9, 10, 11, 12, 13, 14, 15, 16, 17, 18, 19, 20, 21, 22, 23, 24, 25, 26, 27, 28, 29, 30, 31, 32, 33, 34, 35, 36, 37, 38, 39, 40, 41, 42, 43, 44, 45, 46, 47, 48, 49, 50, 51, 52, 53, 54, 55, 56, 57, 58, 59, 60, 61, 62, 63, 64, 65, 66, 67, 68, 69, 70, 71, 72, 73, 74, 75, 76, 77, 78, 79, 80, 81, 82, 83, 84, 85, 86, 87, 88, 89, 90, 91, 92, 93, 94, 95, 96, 97, 98, 99], \"xaxis\": \"x2\", \"y\": [\"\", -2.4700240816371015, -2.042208055545467, \"\", \"\", -0.0478677176182474, \"\", \"\", \"\", \"\", -0.5637523014582536, \"\", -0.6299324260843346, -1.0374973988065797, -0.7466621710083954, -0.3942528964917772, \"\", -1.6899899007117263, -1.3379023570302613, -0.3123696056259033, -0.5082558074567954, \"\", \"\", \"\", -1.6475043951195527, \"\", -1.3199489676034288, \"\", \"\", \"\", -3.078883911687627, \"\", \"\", \"\", -0.34847329544710165, -2.244831830055018, -2.3576027001323068, \"\", -0.5784272787592735, \"\", -1.2913154939813203, -1.3868705923446167, \"\", -0.3109275252171997, \"\", \"\", \"\", -0.8305237844923763, \"\", -1.3650548926649897, -0.04338460032517778, \"\", \"\", \"\", -0.6538715272620488, -0.6416094676737116, -2.2730714594368866, \"\", \"\", \"\", -0.605882455328886, \"\", \"\", -0.1471072685664354, -0.07226768343287215, -0.8693297854644548, -0.21747637048209978, \"\", -1.055025283348234, \"\", -0.7000546871832743, \"\", -0.025881941997166286, -0.6888140444972516, -0.4878646842442883, \"\", -3.9450655168476922, \"\", \"\", -0.999424141077883, \"\", -2.140405013399824, \"\", -0.30858258652606674, -0.8815419522961783, -1.1317267905316397, \"\", \"\", -0.26056098153865864, \"\", -0.9939484233875991, -0.10513715474640173, \"\", \"\", \"\", -2.4452323470490707, \"\", -0.009634636002908925, -0.5533267660523302, \"\"], \"yaxis\": \"y2\"}],\n",
       "                        {\"hovermode\": \"x\", \"legend\": {\"bgcolor\": \"#F5F6F9\", \"font\": {\"color\": \"#4D5663\"}}, \"paper_bgcolor\": \"#F5F6F9\", \"plot_bgcolor\": \"#F5F6F9\", \"template\": {\"data\": {\"bar\": [{\"error_x\": {\"color\": \"#2a3f5f\"}, \"error_y\": {\"color\": \"#2a3f5f\"}, \"marker\": {\"line\": {\"color\": \"#E5ECF6\", \"width\": 0.5}}, \"type\": \"bar\"}], \"barpolar\": [{\"marker\": {\"line\": {\"color\": \"#E5ECF6\", \"width\": 0.5}}, \"type\": \"barpolar\"}], \"carpet\": [{\"aaxis\": {\"endlinecolor\": \"#2a3f5f\", \"gridcolor\": \"white\", \"linecolor\": \"white\", \"minorgridcolor\": \"white\", \"startlinecolor\": \"#2a3f5f\"}, \"baxis\": {\"endlinecolor\": \"#2a3f5f\", \"gridcolor\": \"white\", \"linecolor\": \"white\", \"minorgridcolor\": \"white\", \"startlinecolor\": \"#2a3f5f\"}, \"type\": \"carpet\"}], \"choropleth\": [{\"colorbar\": {\"outlinewidth\": 0, \"ticks\": \"\"}, \"type\": \"choropleth\"}], \"contour\": [{\"colorbar\": {\"outlinewidth\": 0, \"ticks\": \"\"}, \"colorscale\": [[0.0, \"#0d0887\"], [0.1111111111111111, \"#46039f\"], [0.2222222222222222, \"#7201a8\"], [0.3333333333333333, \"#9c179e\"], [0.4444444444444444, \"#bd3786\"], [0.5555555555555556, \"#d8576b\"], [0.6666666666666666, \"#ed7953\"], [0.7777777777777778, \"#fb9f3a\"], [0.8888888888888888, \"#fdca26\"], [1.0, \"#f0f921\"]], \"type\": \"contour\"}], \"contourcarpet\": [{\"colorbar\": {\"outlinewidth\": 0, \"ticks\": \"\"}, \"type\": \"contourcarpet\"}], \"heatmap\": [{\"colorbar\": {\"outlinewidth\": 0, \"ticks\": \"\"}, \"colorscale\": [[0.0, \"#0d0887\"], [0.1111111111111111, \"#46039f\"], [0.2222222222222222, \"#7201a8\"], [0.3333333333333333, \"#9c179e\"], [0.4444444444444444, \"#bd3786\"], [0.5555555555555556, \"#d8576b\"], [0.6666666666666666, \"#ed7953\"], [0.7777777777777778, \"#fb9f3a\"], [0.8888888888888888, \"#fdca26\"], [1.0, \"#f0f921\"]], \"type\": \"heatmap\"}], \"heatmapgl\": [{\"colorbar\": {\"outlinewidth\": 0, \"ticks\": \"\"}, \"colorscale\": [[0.0, \"#0d0887\"], [0.1111111111111111, \"#46039f\"], [0.2222222222222222, \"#7201a8\"], [0.3333333333333333, \"#9c179e\"], [0.4444444444444444, \"#bd3786\"], [0.5555555555555556, \"#d8576b\"], [0.6666666666666666, \"#ed7953\"], [0.7777777777777778, \"#fb9f3a\"], [0.8888888888888888, \"#fdca26\"], [1.0, \"#f0f921\"]], \"type\": \"heatmapgl\"}], \"histogram\": [{\"marker\": {\"colorbar\": {\"outlinewidth\": 0, \"ticks\": \"\"}}, \"type\": \"histogram\"}], \"histogram2d\": [{\"colorbar\": {\"outlinewidth\": 0, \"ticks\": \"\"}, \"colorscale\": [[0.0, \"#0d0887\"], [0.1111111111111111, \"#46039f\"], [0.2222222222222222, \"#7201a8\"], [0.3333333333333333, \"#9c179e\"], [0.4444444444444444, \"#bd3786\"], [0.5555555555555556, \"#d8576b\"], [0.6666666666666666, \"#ed7953\"], [0.7777777777777778, \"#fb9f3a\"], [0.8888888888888888, \"#fdca26\"], [1.0, \"#f0f921\"]], \"type\": \"histogram2d\"}], \"histogram2dcontour\": [{\"colorbar\": {\"outlinewidth\": 0, \"ticks\": \"\"}, \"colorscale\": [[0.0, \"#0d0887\"], [0.1111111111111111, \"#46039f\"], [0.2222222222222222, \"#7201a8\"], [0.3333333333333333, \"#9c179e\"], [0.4444444444444444, \"#bd3786\"], [0.5555555555555556, \"#d8576b\"], [0.6666666666666666, \"#ed7953\"], [0.7777777777777778, \"#fb9f3a\"], [0.8888888888888888, \"#fdca26\"], [1.0, \"#f0f921\"]], \"type\": \"histogram2dcontour\"}], \"mesh3d\": [{\"colorbar\": {\"outlinewidth\": 0, \"ticks\": \"\"}, \"type\": \"mesh3d\"}], \"parcoords\": [{\"line\": {\"colorbar\": {\"outlinewidth\": 0, \"ticks\": \"\"}}, \"type\": \"parcoords\"}], \"pie\": [{\"automargin\": true, \"type\": \"pie\"}], \"scatter\": [{\"marker\": {\"colorbar\": {\"outlinewidth\": 0, \"ticks\": \"\"}}, \"type\": \"scatter\"}], \"scatter3d\": [{\"line\": {\"colorbar\": {\"outlinewidth\": 0, \"ticks\": \"\"}}, \"marker\": {\"colorbar\": {\"outlinewidth\": 0, \"ticks\": \"\"}}, \"type\": \"scatter3d\"}], \"scattercarpet\": [{\"marker\": {\"colorbar\": {\"outlinewidth\": 0, \"ticks\": \"\"}}, \"type\": \"scattercarpet\"}], \"scattergeo\": [{\"marker\": {\"colorbar\": {\"outlinewidth\": 0, \"ticks\": \"\"}}, \"type\": \"scattergeo\"}], \"scattergl\": [{\"marker\": {\"colorbar\": {\"outlinewidth\": 0, \"ticks\": \"\"}}, \"type\": \"scattergl\"}], \"scattermapbox\": [{\"marker\": {\"colorbar\": {\"outlinewidth\": 0, \"ticks\": \"\"}}, \"type\": \"scattermapbox\"}], \"scatterpolar\": [{\"marker\": {\"colorbar\": {\"outlinewidth\": 0, \"ticks\": \"\"}}, \"type\": \"scatterpolar\"}], \"scatterpolargl\": [{\"marker\": {\"colorbar\": {\"outlinewidth\": 0, \"ticks\": \"\"}}, \"type\": \"scatterpolargl\"}], \"scatterternary\": [{\"marker\": {\"colorbar\": {\"outlinewidth\": 0, \"ticks\": \"\"}}, \"type\": \"scatterternary\"}], \"surface\": [{\"colorbar\": {\"outlinewidth\": 0, \"ticks\": \"\"}, \"colorscale\": [[0.0, \"#0d0887\"], [0.1111111111111111, \"#46039f\"], [0.2222222222222222, \"#7201a8\"], [0.3333333333333333, \"#9c179e\"], [0.4444444444444444, \"#bd3786\"], [0.5555555555555556, \"#d8576b\"], [0.6666666666666666, \"#ed7953\"], [0.7777777777777778, \"#fb9f3a\"], [0.8888888888888888, \"#fdca26\"], [1.0, \"#f0f921\"]], \"type\": \"surface\"}], \"table\": [{\"cells\": {\"fill\": {\"color\": \"#EBF0F8\"}, \"line\": {\"color\": \"white\"}}, \"header\": {\"fill\": {\"color\": \"#C8D4E3\"}, \"line\": {\"color\": \"white\"}}, \"type\": \"table\"}]}, \"layout\": {\"annotationdefaults\": {\"arrowcolor\": \"#2a3f5f\", \"arrowhead\": 0, \"arrowwidth\": 1}, \"coloraxis\": {\"colorbar\": {\"outlinewidth\": 0, \"ticks\": \"\"}}, \"colorscale\": {\"diverging\": [[0, \"#8e0152\"], [0.1, \"#c51b7d\"], [0.2, \"#de77ae\"], [0.3, \"#f1b6da\"], [0.4, \"#fde0ef\"], [0.5, \"#f7f7f7\"], [0.6, \"#e6f5d0\"], [0.7, \"#b8e186\"], [0.8, \"#7fbc41\"], [0.9, \"#4d9221\"], [1, \"#276419\"]], \"sequential\": [[0.0, \"#0d0887\"], [0.1111111111111111, \"#46039f\"], [0.2222222222222222, \"#7201a8\"], [0.3333333333333333, \"#9c179e\"], [0.4444444444444444, \"#bd3786\"], [0.5555555555555556, \"#d8576b\"], [0.6666666666666666, \"#ed7953\"], [0.7777777777777778, \"#fb9f3a\"], [0.8888888888888888, \"#fdca26\"], [1.0, \"#f0f921\"]], \"sequentialminus\": [[0.0, \"#0d0887\"], [0.1111111111111111, \"#46039f\"], [0.2222222222222222, \"#7201a8\"], [0.3333333333333333, \"#9c179e\"], [0.4444444444444444, \"#bd3786\"], [0.5555555555555556, \"#d8576b\"], [0.6666666666666666, \"#ed7953\"], [0.7777777777777778, \"#fb9f3a\"], [0.8888888888888888, \"#fdca26\"], [1.0, \"#f0f921\"]]}, \"colorway\": [\"#636efa\", \"#EF553B\", \"#00cc96\", \"#ab63fa\", \"#FFA15A\", \"#19d3f3\", \"#FF6692\", \"#B6E880\", \"#FF97FF\", \"#FECB52\"], \"font\": {\"color\": \"#2a3f5f\"}, \"geo\": {\"bgcolor\": \"white\", \"lakecolor\": \"white\", \"landcolor\": \"#E5ECF6\", \"showlakes\": true, \"showland\": true, \"subunitcolor\": \"white\"}, \"hoverlabel\": {\"align\": \"left\"}, \"hovermode\": \"closest\", \"mapbox\": {\"style\": \"light\"}, \"paper_bgcolor\": \"white\", \"plot_bgcolor\": \"#E5ECF6\", \"polar\": {\"angularaxis\": {\"gridcolor\": \"white\", \"linecolor\": \"white\", \"ticks\": \"\"}, \"bgcolor\": \"#E5ECF6\", \"radialaxis\": {\"gridcolor\": \"white\", \"linecolor\": \"white\", \"ticks\": \"\"}}, \"scene\": {\"xaxis\": {\"backgroundcolor\": \"#E5ECF6\", \"gridcolor\": \"white\", \"gridwidth\": 2, \"linecolor\": \"white\", \"showbackground\": true, \"ticks\": \"\", \"zerolinecolor\": \"white\"}, \"yaxis\": {\"backgroundcolor\": \"#E5ECF6\", \"gridcolor\": \"white\", \"gridwidth\": 2, \"linecolor\": \"white\", \"showbackground\": true, \"ticks\": \"\", \"zerolinecolor\": \"white\"}, \"zaxis\": {\"backgroundcolor\": \"#E5ECF6\", \"gridcolor\": \"white\", \"gridwidth\": 2, \"linecolor\": \"white\", \"showbackground\": true, \"ticks\": \"\", \"zerolinecolor\": \"white\"}}, \"shapedefaults\": {\"line\": {\"color\": \"#2a3f5f\"}}, \"ternary\": {\"aaxis\": {\"gridcolor\": \"white\", \"linecolor\": \"white\", \"ticks\": \"\"}, \"baxis\": {\"gridcolor\": \"white\", \"linecolor\": \"white\", \"ticks\": \"\"}, \"bgcolor\": \"#E5ECF6\", \"caxis\": {\"gridcolor\": \"white\", \"linecolor\": \"white\", \"ticks\": \"\"}}, \"title\": {\"x\": 0.05}, \"xaxis\": {\"automargin\": true, \"gridcolor\": \"white\", \"linecolor\": \"white\", \"ticks\": \"\", \"title\": {\"standoff\": 15}, \"zerolinecolor\": \"white\", \"zerolinewidth\": 2}, \"yaxis\": {\"automargin\": true, \"gridcolor\": \"white\", \"linecolor\": \"white\", \"ticks\": \"\", \"title\": {\"standoff\": 15}, \"zerolinecolor\": \"white\", \"zerolinewidth\": 2}}}, \"title\": {\"font\": {\"color\": \"#4D5663\"}}, \"xaxis\": {\"gridcolor\": \"#E1E5ED\", \"showgrid\": true, \"tickfont\": {\"color\": \"#4D5663\"}, \"title\": {\"font\": {\"color\": \"#4D5663\"}, \"text\": \"\"}, \"zerolinecolor\": \"#E1E5ED\"}, \"xaxis2\": {\"anchor\": \"y2\", \"gridcolor\": \"#E1E5ED\", \"showgrid\": true, \"showticklabels\": false, \"tickfont\": {\"color\": \"#4D5663\"}, \"title\": {\"font\": {\"color\": \"#4D5663\"}, \"text\": \"\"}, \"zerolinecolor\": \"#E1E5ED\"}, \"yaxis\": {\"domain\": [0.3, 1], \"gridcolor\": \"#E1E5ED\", \"showgrid\": true, \"tickfont\": {\"color\": \"#4D5663\"}, \"title\": {\"font\": {\"color\": \"#4D5663\"}, \"text\": \"\"}, \"zerolinecolor\": \"#E1E5ED\"}, \"yaxis2\": {\"domain\": [0, 0.25], \"gridcolor\": \"#E1E5ED\", \"showgrid\": true, \"tickfont\": {\"color\": \"#4D5663\"}, \"title\": {\"font\": {\"color\": \"#4D5663\"}, \"text\": \"Spread\"}, \"zerolinecolor\": \"#E1E5ED\"}},\n",
       "                        {\"showLink\": true, \"linkText\": \"Export to plot.ly\", \"plotlyServerURL\": \"https://plot.ly\", \"responsive\": true}\n",
       "                    ).then(function(){\n",
       "                            \n",
       "var gd = document.getElementById('06281654-82cf-4e20-b191-1e5ad303d0cf');\n",
       "var x = new MutationObserver(function (mutations, observer) {{\n",
       "        var display = window.getComputedStyle(gd).display;\n",
       "        if (!display || display === 'none') {{\n",
       "            console.log([gd, 'removed!']);\n",
       "            Plotly.purge(gd);\n",
       "            observer.disconnect();\n",
       "        }}\n",
       "}});\n",
       "\n",
       "// Listen for the removal of the full notebook cells\n",
       "var notebookContainer = gd.closest('#notebook-container');\n",
       "if (notebookContainer) {{\n",
       "    x.observe(notebookContainer, {childList: true});\n",
       "}}\n",
       "\n",
       "// Listen for the clearing of the current output cell\n",
       "var outputEl = gd.closest('.output');\n",
       "if (outputEl) {{\n",
       "    x.observe(outputEl, {childList: true});\n",
       "}}\n",
       "\n",
       "                        })\n",
       "                };\n",
       "                });\n",
       "            </script>\n",
       "        </div>"
      ]
     },
     "metadata": {},
     "output_type": "display_data"
    }
   ],
   "source": [
    "df[['A','B']].iplot(kind='spread')"
   ]
  },
  {
   "cell_type": "markdown",
   "metadata": {},
   "source": [
    "## histogram"
   ]
  },
  {
   "cell_type": "code",
   "execution_count": 56,
   "metadata": {
    "scrolled": true
   },
   "outputs": [
    {
     "data": {
      "text/html": [
       "<div id=\"be69ae84-c3c4-4776-a0e8-f44c59817e90\" style=\"height: 525px; width: 100%;\" class=\"plotly-graph-div\"></div><script type=\"text/javascript\">require([\"plotly\"], function(Plotly) { window.PLOTLYENV=window.PLOTLYENV || {};window.PLOTLYENV.BASE_URL=\"https://plot.ly\";Plotly.newPlot(\"be69ae84-c3c4-4776-a0e8-f44c59817e90\", [{\"x\": [1.8787246669561561, 0.028733616663923985, -0.1587931161277573, -1.2219723462024636, 1.2531523973363488, 0.8312132082951045, 1.1740170898586173, -0.24393002059589958, -0.296966543277261, 0.7621695759158762, 0.04210347865555278, -0.7791970481917073, 0.3943032396655093, -1.0146190736152443, -0.4841710096782867, 0.5522466668361006, -2.77187556758784, -0.5181226698708166, -0.49722040792422156, -1.6534757596659548, -0.06027439377033132, 1.4769243769038323, 1.1796346669498379, -0.7816898015019265, 0.8630132212967984, 0.6590246731638996, -1.1013906677685679, -0.9446804895542242, -1.788022470413331, 0.8775002821729455, 0.3546715768521251, -0.16532125735222183, 1.8914747239632839, -1.1251772915449791, 0.8888981026894395, -0.6066117727706714, 0.8314777742724779, 0.3830457069359529, -0.937459527593053, -0.844561047334305, 1.1280232245052606, -1.640427972598561, 0.8971269652786067, 0.4848047458342485, 0.19373507090654035, -0.7387091317560727, -0.3566733282792827, -0.43158335134818315, -0.4899640124314907, 0.5488715658495908, 0.2821768987731658, -0.8832439438038343, 1.271863067044618, 0.10680856505919414, 0.8269478103679717, -0.03266751467505833, -0.34021520002722894, -0.6769186069469743, 0.7126188256918854, 1.8871150025438166, -0.06742662656190869, -1.4789736197389265, 0.346978601690099, -0.3757389938313092, 0.715285859520045, 1.5994858611908638, -0.3692558358591885, 0.13827360227735647, -0.40690530542342296, 0.636973800943974, 0.14658752987818605, -0.3949906255692418, 1.5076392623927681, -0.15486042602397807, 0.22159940179664614, -1.0878244818277978, -0.03354417910293162, 1.2258839316932069, -0.048951028800266715, -1.1089870994157809, 0.021452684803338333, 1.2548854256528554, -1.0913797662237141, -0.539059741192553, 0.6901269187662552, -1.4810451728120602, -0.8468654201203714, 0.3763927872506507, 0.8120568488462931, 0.0031767062628090745, 0.697742291538818, -0.7429703118062226, -0.842231117346612, -0.0666718362166121, 1.8829720647783421, 1.320112956074407, 0.42394324402947475, 0.466299928509142, 0.9415282138953815, -0.7707938096473991], \"orientation\": \"v\", \"name\": \"A\", \"opacity\": 0.8, \"histfunc\": \"count\", \"type\": \"histogram\", \"histnorm\": \"\", \"nbinsx\": 25, \"marker\": {\"line\": {\"width\": 1.3, \"color\": \"#D9D9D9\"}, \"color\": \"rgba(226, 74, 51, 1.0)\"}}], {\"legend\": {\"font\": {\"color\": \"#666666\"}, \"bgcolor\": \"#FFFFFF\"}, \"titlefont\": {\"color\": \"#151516\"}, \"xaxis1\": {\"titlefont\": {\"color\": \"#666666\"}, \"zerolinecolor\": \"#F6F6F6\", \"title\": \"\", \"tickfont\": {\"color\": \"#666666\"}, \"showgrid\": true, \"gridcolor\": \"#F6F6F6\"}, \"paper_bgcolor\": \"#FFFFFF\", \"barmode\": \"overlay\", \"plot_bgcolor\": \"#E5E5E5\", \"yaxis1\": {\"titlefont\": {\"color\": \"#666666\"}, \"zerolinecolor\": \"#F6F6F6\", \"title\": \"\", \"tickfont\": {\"color\": \"#666666\"}, \"showgrid\": true, \"gridcolor\": \"#F6F6F6\"}}, {\"showLink\": true, \"linkText\": \"Export to plot.ly\"})});</script>"
      ],
      "text/plain": [
       "<IPython.core.display.HTML object>"
      ]
     },
     "metadata": {},
     "output_type": "display_data"
    }
   ],
   "source": [
    "df['A'].iplot(kind='hist',bins=25)"
   ]
  },
  {
   "cell_type": "code",
   "execution_count": 26,
   "metadata": {
    "scrolled": true
   },
   "outputs": [
    {
     "data": {
      "application/vnd.plotly.v1+json": {
       "config": {
        "linkText": "Export to plot.ly",
        "plotlyServerURL": "https://plot.ly",
        "showLink": true
       },
       "data": [
        {
         "marker": {
          "color": [
           "rgb(255, 153, 51)",
           "rgb(55, 128, 191)",
           "rgb(50, 171, 96)",
           "rgb(128, 0, 128)",
           "rgb(219, 64, 82)",
           "rgb(0, 128, 128)",
           "rgb(255, 255, 51)",
           "rgb(128, 128, 0)",
           "rgb(251, 128, 114)",
           "rgb(128, 177, 211)"
          ],
          "line": {
           "width": 1.3
          },
          "size": [
           99,
           73,
           84,
           73,
           84,
           47,
           70,
           39,
           102,
           73,
           77,
           38,
           80,
           94,
           80,
           104,
           70,
           70,
           75,
           41,
           96,
           74,
           87,
           72,
           64,
           59,
           61,
           81,
           109,
           65,
           74,
           88,
           80,
           12,
           53,
           71,
           56,
           95,
           51,
           63,
           55,
           112,
           91,
           83,
           67,
           97,
           59,
           71,
           70,
           58,
           84,
           76,
           83,
           83,
           52,
           68,
           46,
           62,
           82,
           78,
           53,
           61,
           72,
           81,
           28,
           70,
           82,
           74,
           95,
           91,
           55,
           71,
           59,
           55,
           77,
           101,
           91,
           57,
           68,
           101,
           72,
           76,
           52,
           60,
           64,
           71,
           46,
           108,
           78,
           96,
           88,
           53,
           95,
           83,
           44,
           63,
           63,
           63,
           89,
           53
          ],
          "symbol": "circle"
         },
         "mode": "markers",
         "text": "",
         "type": "scatter",
         "x": [
          0.9273501686452831,
          -0.5336819713432426,
          -0.4719061159137588,
          -0.9892039772850318,
          1.745699378229749,
          -0.26335462861925224,
          0.7908256324744336,
          -0.018916685629151987,
          1.4362821330775597,
          -0.32503355428080577,
          0.153676829720251,
          1.1318065272893738,
          0.08839548036838218,
          -0.13371513443907548,
          0.04554308700723792,
          -0.05877157631492504,
          0.9319619775407781,
          -0.892681343719326,
          -0.23869875455176157,
          -0.8071351942969122,
          -0.8460637342785593,
          0.5435124105045299,
          1.8829768691003779,
          0.26018907025834476,
          -0.9630329187123825,
          0.5924332239870846,
          0.05224067716215473,
          -0.22741409274250976,
          0.12187361251470992,
          0.195255432340129,
          -3.1675899599066684,
          0.4368530139763862,
          1.9289359381994984,
          0.8056938127943846,
          -0.37292655824780185,
          0.6512746095656167,
          -0.9938636126479036,
          0.7862381402545336,
          -1.1287854744382666,
          0.6094151867668576,
          -1.3345012926132753,
          -0.02281986102852559,
          2.1763311981289886,
          -0.09963573401996252,
          0.8464995922182782,
          -1.2042004296695825,
          2.1203247152475537,
          0.36791612384551403,
          -0.23999914272661843,
          0.024080904242700003,
          0.03482469604660009,
          1.8265286417264184,
          0.49707787161574435,
          -0.5323481640582688,
          -0.5904516820742872,
          -0.31429352820806933,
          -0.20083676978802706,
          -0.24576824746640213,
          0.4490649374540152,
          0.009106977618565758,
          -0.2601190686513889,
          -0.4885809019711191,
          -0.7065650259075594,
          -0.5655889024607965,
          1.1242265905343243,
          -1.289422567292631,
          -0.11079106339526591,
          0.025175648703488762,
          -1.0654028367316437,
          0.5876369583983077,
          -1.2193627328117418,
          0.27503948246745363,
          0.20062669512915307,
          -0.712497095962588,
          -0.5936065482919237,
          0.3162171738816598,
          -2.0801283752733593,
          0.05481389727834878,
          0.29834235948809595,
          -0.25193217959399716,
          -0.18815985965566256,
          -1.0993840202389924,
          1.3720808925772439,
          -1.3901447430249643,
          0.2952706310041869,
          -0.14215402384411635,
          0.2557152281650664,
          0.05237368863656635,
          0.1665134157650504,
          0.32752167656534614,
          -0.02638737238095419,
          -0.07622496454221706,
          1.5158939538061444,
          1.2842668521004519,
          1.1900091488359847,
          0.11950465514627728,
          0.20792715338952203,
          -0.7069618004958248,
          -1.0060679633961014,
          0.7402869780165224
         ],
         "y": [
          -1.4475834439088642,
          1.936342110293859,
          1.5703019396317082,
          -1.141171509843668,
          0.7086983057483757,
          -0.21548691100100484,
          -0.4935357265485408,
          -0.40008675780020697,
          0.24466237321409023,
          -0.5575940599375178,
          0.7174291311785046,
          0.6066901397467638,
          0.7183279064527168,
          0.9037822643675042,
          0.7922052580156334,
          0.33548132017685217,
          -0.20261143372834065,
          0.7973085569924002,
          1.0992036024784997,
          -0.49476558867100884,
          -0.33780792682176386,
          -1.338637353195344,
          1.1385637433257803,
          -0.20322491634641116,
          0.6844714764071702,
          -0.16617105280152625,
          1.3721896447655835,
          -0.432825142025372,
          -0.6979376497189357,
          -1.827219084945071,
          -0.08870604821904153,
          -0.7593429321290202,
          -1.1452326196090716,
          -0.6591873413644148,
          -0.024453262800700207,
          2.8961064396206346,
          1.363739087484403,
          -0.020299241643240123,
          -0.5503581956789931,
          0.202981852523745,
          -0.04318579863195509,
          1.3640507313160912,
          -1.0280179913191263,
          0.21129179119723718,
          0.10297146234534578,
          -1.2433243782994525,
          -0.021709600661412465,
          1.1984399083378903,
          -1.3599613321180355,
          1.3891357969076896,
          0.07820929637177787,
          -0.6378218867551335,
          -1.0039159825678918,
          -2.126997043628774,
          0.06341984518776161,
          0.32731593946564225,
          2.0722346896488597,
          -1.8756884771290674,
          -1.8738446512520954,
          -0.1688759685449708,
          0.345763386677497,
          -1.4914130382877966,
          -1.4107957310164405,
          -0.4184816338943611,
          1.1964942739671964,
          -0.42009278182817616,
          0.10668530708683387,
          -0.7525150643124401,
          -0.010377553383409528,
          -0.2561262290407313,
          -0.5193080456284674,
          0.2376140021029851,
          0.22650863712631936,
          -0.023683051465336405,
          -0.10574186404763539,
          -1.3388266088658878,
          1.8649371415743328,
          -0.0011472808149724546,
          -0.5809929109198254,
          0.7474919614838859,
          -0.816872565749726,
          1.0410209931608316,
          -0.39785709352618437,
          -1.0815621564988975,
          1.176812583300365,
          0.9895727666875234,
          -0.756797865773887,
          -0.3816828597434053,
          0.42707439730370905,
          -0.1562011388869837,
          0.9675610510066449,
          0.02891219020418467,
          -0.6378898829804626,
          -0.8479768977153376,
          -0.41446797004090963,
          2.564737002195348,
          0.13364725564235924,
          -0.6973271644929159,
          -0.4527411973437712,
          -1.0237425044832327
         ]
        }
       ],
       "layout": {
        "legend": {
         "bgcolor": "#F5F6F9",
         "font": {
          "color": "#4D5663"
         }
        },
        "paper_bgcolor": "#F5F6F9",
        "plot_bgcolor": "#F5F6F9",
        "template": {
         "data": {
          "bar": [
           {
            "error_x": {
             "color": "#2a3f5f"
            },
            "error_y": {
             "color": "#2a3f5f"
            },
            "marker": {
             "line": {
              "color": "#E5ECF6",
              "width": 0.5
             }
            },
            "type": "bar"
           }
          ],
          "barpolar": [
           {
            "marker": {
             "line": {
              "color": "#E5ECF6",
              "width": 0.5
             }
            },
            "type": "barpolar"
           }
          ],
          "carpet": [
           {
            "aaxis": {
             "endlinecolor": "#2a3f5f",
             "gridcolor": "white",
             "linecolor": "white",
             "minorgridcolor": "white",
             "startlinecolor": "#2a3f5f"
            },
            "baxis": {
             "endlinecolor": "#2a3f5f",
             "gridcolor": "white",
             "linecolor": "white",
             "minorgridcolor": "white",
             "startlinecolor": "#2a3f5f"
            },
            "type": "carpet"
           }
          ],
          "choropleth": [
           {
            "colorbar": {
             "outlinewidth": 0,
             "ticks": ""
            },
            "type": "choropleth"
           }
          ],
          "contour": [
           {
            "colorbar": {
             "outlinewidth": 0,
             "ticks": ""
            },
            "colorscale": [
             [
              0,
              "#0d0887"
             ],
             [
              0.1111111111111111,
              "#46039f"
             ],
             [
              0.2222222222222222,
              "#7201a8"
             ],
             [
              0.3333333333333333,
              "#9c179e"
             ],
             [
              0.4444444444444444,
              "#bd3786"
             ],
             [
              0.5555555555555556,
              "#d8576b"
             ],
             [
              0.6666666666666666,
              "#ed7953"
             ],
             [
              0.7777777777777778,
              "#fb9f3a"
             ],
             [
              0.8888888888888888,
              "#fdca26"
             ],
             [
              1,
              "#f0f921"
             ]
            ],
            "type": "contour"
           }
          ],
          "contourcarpet": [
           {
            "colorbar": {
             "outlinewidth": 0,
             "ticks": ""
            },
            "type": "contourcarpet"
           }
          ],
          "heatmap": [
           {
            "colorbar": {
             "outlinewidth": 0,
             "ticks": ""
            },
            "colorscale": [
             [
              0,
              "#0d0887"
             ],
             [
              0.1111111111111111,
              "#46039f"
             ],
             [
              0.2222222222222222,
              "#7201a8"
             ],
             [
              0.3333333333333333,
              "#9c179e"
             ],
             [
              0.4444444444444444,
              "#bd3786"
             ],
             [
              0.5555555555555556,
              "#d8576b"
             ],
             [
              0.6666666666666666,
              "#ed7953"
             ],
             [
              0.7777777777777778,
              "#fb9f3a"
             ],
             [
              0.8888888888888888,
              "#fdca26"
             ],
             [
              1,
              "#f0f921"
             ]
            ],
            "type": "heatmap"
           }
          ],
          "heatmapgl": [
           {
            "colorbar": {
             "outlinewidth": 0,
             "ticks": ""
            },
            "colorscale": [
             [
              0,
              "#0d0887"
             ],
             [
              0.1111111111111111,
              "#46039f"
             ],
             [
              0.2222222222222222,
              "#7201a8"
             ],
             [
              0.3333333333333333,
              "#9c179e"
             ],
             [
              0.4444444444444444,
              "#bd3786"
             ],
             [
              0.5555555555555556,
              "#d8576b"
             ],
             [
              0.6666666666666666,
              "#ed7953"
             ],
             [
              0.7777777777777778,
              "#fb9f3a"
             ],
             [
              0.8888888888888888,
              "#fdca26"
             ],
             [
              1,
              "#f0f921"
             ]
            ],
            "type": "heatmapgl"
           }
          ],
          "histogram": [
           {
            "marker": {
             "colorbar": {
              "outlinewidth": 0,
              "ticks": ""
             }
            },
            "type": "histogram"
           }
          ],
          "histogram2d": [
           {
            "colorbar": {
             "outlinewidth": 0,
             "ticks": ""
            },
            "colorscale": [
             [
              0,
              "#0d0887"
             ],
             [
              0.1111111111111111,
              "#46039f"
             ],
             [
              0.2222222222222222,
              "#7201a8"
             ],
             [
              0.3333333333333333,
              "#9c179e"
             ],
             [
              0.4444444444444444,
              "#bd3786"
             ],
             [
              0.5555555555555556,
              "#d8576b"
             ],
             [
              0.6666666666666666,
              "#ed7953"
             ],
             [
              0.7777777777777778,
              "#fb9f3a"
             ],
             [
              0.8888888888888888,
              "#fdca26"
             ],
             [
              1,
              "#f0f921"
             ]
            ],
            "type": "histogram2d"
           }
          ],
          "histogram2dcontour": [
           {
            "colorbar": {
             "outlinewidth": 0,
             "ticks": ""
            },
            "colorscale": [
             [
              0,
              "#0d0887"
             ],
             [
              0.1111111111111111,
              "#46039f"
             ],
             [
              0.2222222222222222,
              "#7201a8"
             ],
             [
              0.3333333333333333,
              "#9c179e"
             ],
             [
              0.4444444444444444,
              "#bd3786"
             ],
             [
              0.5555555555555556,
              "#d8576b"
             ],
             [
              0.6666666666666666,
              "#ed7953"
             ],
             [
              0.7777777777777778,
              "#fb9f3a"
             ],
             [
              0.8888888888888888,
              "#fdca26"
             ],
             [
              1,
              "#f0f921"
             ]
            ],
            "type": "histogram2dcontour"
           }
          ],
          "mesh3d": [
           {
            "colorbar": {
             "outlinewidth": 0,
             "ticks": ""
            },
            "type": "mesh3d"
           }
          ],
          "parcoords": [
           {
            "line": {
             "colorbar": {
              "outlinewidth": 0,
              "ticks": ""
             }
            },
            "type": "parcoords"
           }
          ],
          "pie": [
           {
            "automargin": true,
            "type": "pie"
           }
          ],
          "scatter": [
           {
            "marker": {
             "colorbar": {
              "outlinewidth": 0,
              "ticks": ""
             }
            },
            "type": "scatter"
           }
          ],
          "scatter3d": [
           {
            "line": {
             "colorbar": {
              "outlinewidth": 0,
              "ticks": ""
             }
            },
            "marker": {
             "colorbar": {
              "outlinewidth": 0,
              "ticks": ""
             }
            },
            "type": "scatter3d"
           }
          ],
          "scattercarpet": [
           {
            "marker": {
             "colorbar": {
              "outlinewidth": 0,
              "ticks": ""
             }
            },
            "type": "scattercarpet"
           }
          ],
          "scattergeo": [
           {
            "marker": {
             "colorbar": {
              "outlinewidth": 0,
              "ticks": ""
             }
            },
            "type": "scattergeo"
           }
          ],
          "scattergl": [
           {
            "marker": {
             "colorbar": {
              "outlinewidth": 0,
              "ticks": ""
             }
            },
            "type": "scattergl"
           }
          ],
          "scattermapbox": [
           {
            "marker": {
             "colorbar": {
              "outlinewidth": 0,
              "ticks": ""
             }
            },
            "type": "scattermapbox"
           }
          ],
          "scatterpolar": [
           {
            "marker": {
             "colorbar": {
              "outlinewidth": 0,
              "ticks": ""
             }
            },
            "type": "scatterpolar"
           }
          ],
          "scatterpolargl": [
           {
            "marker": {
             "colorbar": {
              "outlinewidth": 0,
              "ticks": ""
             }
            },
            "type": "scatterpolargl"
           }
          ],
          "scatterternary": [
           {
            "marker": {
             "colorbar": {
              "outlinewidth": 0,
              "ticks": ""
             }
            },
            "type": "scatterternary"
           }
          ],
          "surface": [
           {
            "colorbar": {
             "outlinewidth": 0,
             "ticks": ""
            },
            "colorscale": [
             [
              0,
              "#0d0887"
             ],
             [
              0.1111111111111111,
              "#46039f"
             ],
             [
              0.2222222222222222,
              "#7201a8"
             ],
             [
              0.3333333333333333,
              "#9c179e"
             ],
             [
              0.4444444444444444,
              "#bd3786"
             ],
             [
              0.5555555555555556,
              "#d8576b"
             ],
             [
              0.6666666666666666,
              "#ed7953"
             ],
             [
              0.7777777777777778,
              "#fb9f3a"
             ],
             [
              0.8888888888888888,
              "#fdca26"
             ],
             [
              1,
              "#f0f921"
             ]
            ],
            "type": "surface"
           }
          ],
          "table": [
           {
            "cells": {
             "fill": {
              "color": "#EBF0F8"
             },
             "line": {
              "color": "white"
             }
            },
            "header": {
             "fill": {
              "color": "#C8D4E3"
             },
             "line": {
              "color": "white"
             }
            },
            "type": "table"
           }
          ]
         },
         "layout": {
          "annotationdefaults": {
           "arrowcolor": "#2a3f5f",
           "arrowhead": 0,
           "arrowwidth": 1
          },
          "coloraxis": {
           "colorbar": {
            "outlinewidth": 0,
            "ticks": ""
           }
          },
          "colorscale": {
           "diverging": [
            [
             0,
             "#8e0152"
            ],
            [
             0.1,
             "#c51b7d"
            ],
            [
             0.2,
             "#de77ae"
            ],
            [
             0.3,
             "#f1b6da"
            ],
            [
             0.4,
             "#fde0ef"
            ],
            [
             0.5,
             "#f7f7f7"
            ],
            [
             0.6,
             "#e6f5d0"
            ],
            [
             0.7,
             "#b8e186"
            ],
            [
             0.8,
             "#7fbc41"
            ],
            [
             0.9,
             "#4d9221"
            ],
            [
             1,
             "#276419"
            ]
           ],
           "sequential": [
            [
             0,
             "#0d0887"
            ],
            [
             0.1111111111111111,
             "#46039f"
            ],
            [
             0.2222222222222222,
             "#7201a8"
            ],
            [
             0.3333333333333333,
             "#9c179e"
            ],
            [
             0.4444444444444444,
             "#bd3786"
            ],
            [
             0.5555555555555556,
             "#d8576b"
            ],
            [
             0.6666666666666666,
             "#ed7953"
            ],
            [
             0.7777777777777778,
             "#fb9f3a"
            ],
            [
             0.8888888888888888,
             "#fdca26"
            ],
            [
             1,
             "#f0f921"
            ]
           ],
           "sequentialminus": [
            [
             0,
             "#0d0887"
            ],
            [
             0.1111111111111111,
             "#46039f"
            ],
            [
             0.2222222222222222,
             "#7201a8"
            ],
            [
             0.3333333333333333,
             "#9c179e"
            ],
            [
             0.4444444444444444,
             "#bd3786"
            ],
            [
             0.5555555555555556,
             "#d8576b"
            ],
            [
             0.6666666666666666,
             "#ed7953"
            ],
            [
             0.7777777777777778,
             "#fb9f3a"
            ],
            [
             0.8888888888888888,
             "#fdca26"
            ],
            [
             1,
             "#f0f921"
            ]
           ]
          },
          "colorway": [
           "#636efa",
           "#EF553B",
           "#00cc96",
           "#ab63fa",
           "#FFA15A",
           "#19d3f3",
           "#FF6692",
           "#B6E880",
           "#FF97FF",
           "#FECB52"
          ],
          "font": {
           "color": "#2a3f5f"
          },
          "geo": {
           "bgcolor": "white",
           "lakecolor": "white",
           "landcolor": "#E5ECF6",
           "showlakes": true,
           "showland": true,
           "subunitcolor": "white"
          },
          "hoverlabel": {
           "align": "left"
          },
          "hovermode": "closest",
          "mapbox": {
           "style": "light"
          },
          "paper_bgcolor": "white",
          "plot_bgcolor": "#E5ECF6",
          "polar": {
           "angularaxis": {
            "gridcolor": "white",
            "linecolor": "white",
            "ticks": ""
           },
           "bgcolor": "#E5ECF6",
           "radialaxis": {
            "gridcolor": "white",
            "linecolor": "white",
            "ticks": ""
           }
          },
          "scene": {
           "xaxis": {
            "backgroundcolor": "#E5ECF6",
            "gridcolor": "white",
            "gridwidth": 2,
            "linecolor": "white",
            "showbackground": true,
            "ticks": "",
            "zerolinecolor": "white"
           },
           "yaxis": {
            "backgroundcolor": "#E5ECF6",
            "gridcolor": "white",
            "gridwidth": 2,
            "linecolor": "white",
            "showbackground": true,
            "ticks": "",
            "zerolinecolor": "white"
           },
           "zaxis": {
            "backgroundcolor": "#E5ECF6",
            "gridcolor": "white",
            "gridwidth": 2,
            "linecolor": "white",
            "showbackground": true,
            "ticks": "",
            "zerolinecolor": "white"
           }
          },
          "shapedefaults": {
           "line": {
            "color": "#2a3f5f"
           }
          },
          "ternary": {
           "aaxis": {
            "gridcolor": "white",
            "linecolor": "white",
            "ticks": ""
           },
           "baxis": {
            "gridcolor": "white",
            "linecolor": "white",
            "ticks": ""
           },
           "bgcolor": "#E5ECF6",
           "caxis": {
            "gridcolor": "white",
            "linecolor": "white",
            "ticks": ""
           }
          },
          "title": {
           "x": 0.05
          },
          "xaxis": {
           "automargin": true,
           "gridcolor": "white",
           "linecolor": "white",
           "ticks": "",
           "title": {
            "standoff": 15
           },
           "zerolinecolor": "white",
           "zerolinewidth": 2
          },
          "yaxis": {
           "automargin": true,
           "gridcolor": "white",
           "linecolor": "white",
           "ticks": "",
           "title": {
            "standoff": 15
           },
           "zerolinecolor": "white",
           "zerolinewidth": 2
          }
         }
        },
        "title": {
         "font": {
          "color": "#4D5663"
         }
        },
        "xaxis": {
         "gridcolor": "#E1E5ED",
         "showgrid": true,
         "tickfont": {
          "color": "#4D5663"
         },
         "title": {
          "font": {
           "color": "#4D5663"
          },
          "text": ""
         },
         "zerolinecolor": "#E1E5ED"
        },
        "yaxis": {
         "gridcolor": "#E1E5ED",
         "showgrid": true,
         "tickfont": {
          "color": "#4D5663"
         },
         "title": {
          "font": {
           "color": "#4D5663"
          },
          "text": ""
         },
         "zerolinecolor": "#E1E5ED"
        }
       }
      },
      "text/html": [
       "<div>\n",
       "        \n",
       "        \n",
       "            <div id=\"830bc3fa-1e3b-478e-9563-1ebabe81edad\" class=\"plotly-graph-div\" style=\"height:525px; width:100%;\"></div>\n",
       "            <script type=\"text/javascript\">\n",
       "                require([\"plotly\"], function(Plotly) {\n",
       "                    window.PLOTLYENV=window.PLOTLYENV || {};\n",
       "                    window.PLOTLYENV.BASE_URL='https://plot.ly';\n",
       "                    \n",
       "                if (document.getElementById(\"830bc3fa-1e3b-478e-9563-1ebabe81edad\")) {\n",
       "                    Plotly.newPlot(\n",
       "                        '830bc3fa-1e3b-478e-9563-1ebabe81edad',\n",
       "                        [{\"marker\": {\"color\": [\"rgb(255, 153, 51)\", \"rgb(55, 128, 191)\", \"rgb(50, 171, 96)\", \"rgb(128, 0, 128)\", \"rgb(219, 64, 82)\", \"rgb(0, 128, 128)\", \"rgb(255, 255, 51)\", \"rgb(128, 128, 0)\", \"rgb(251, 128, 114)\", \"rgb(128, 177, 211)\"], \"line\": {\"width\": 1.3}, \"size\": [99, 73, 84, 73, 84, 47, 70, 39, 102, 73, 77, 38, 80, 94, 80, 104, 70, 70, 75, 41, 96, 74, 87, 72, 64, 59, 61, 81, 109, 65, 74, 88, 80, 12, 53, 71, 56, 95, 51, 63, 55, 112, 91, 83, 67, 97, 59, 71, 70, 58, 84, 76, 83, 83, 52, 68, 46, 62, 82, 78, 53, 61, 72, 81, 28, 70, 82, 74, 95, 91, 55, 71, 59, 55, 77, 101, 91, 57, 68, 101, 72, 76, 52, 60, 64, 71, 46, 108, 78, 96, 88, 53, 95, 83, 44, 63, 63, 63, 89, 53], \"symbol\": \"circle\"}, \"mode\": \"markers\", \"text\": \"\", \"type\": \"scatter\", \"x\": [0.9273501686452831, -0.5336819713432426, -0.4719061159137588, -0.9892039772850318, 1.745699378229749, -0.26335462861925224, 0.7908256324744336, -0.018916685629151987, 1.4362821330775597, -0.32503355428080577, 0.153676829720251, 1.1318065272893738, 0.08839548036838218, -0.13371513443907548, 0.04554308700723792, -0.05877157631492504, 0.9319619775407781, -0.892681343719326, -0.23869875455176157, -0.8071351942969122, -0.8460637342785593, 0.5435124105045299, 1.8829768691003779, 0.26018907025834476, -0.9630329187123825, 0.5924332239870846, 0.05224067716215473, -0.22741409274250976, 0.12187361251470992, 0.195255432340129, -3.1675899599066684, 0.4368530139763862, 1.9289359381994984, 0.8056938127943846, -0.37292655824780185, 0.6512746095656167, -0.9938636126479036, 0.7862381402545336, -1.1287854744382666, 0.6094151867668576, -1.3345012926132753, -0.02281986102852559, 2.1763311981289886, -0.09963573401996252, 0.8464995922182782, -1.2042004296695825, 2.1203247152475537, 0.36791612384551403, -0.23999914272661843, 0.024080904242700003, 0.03482469604660009, 1.8265286417264184, 0.49707787161574435, -0.5323481640582688, -0.5904516820742872, -0.31429352820806933, -0.20083676978802706, -0.24576824746640213, 0.4490649374540152, 0.009106977618565758, -0.2601190686513889, -0.4885809019711191, -0.7065650259075594, -0.5655889024607965, 1.1242265905343243, -1.289422567292631, -0.11079106339526591, 0.025175648703488762, -1.0654028367316437, 0.5876369583983077, -1.2193627328117418, 0.27503948246745363, 0.20062669512915307, -0.712497095962588, -0.5936065482919237, 0.3162171738816598, -2.0801283752733593, 0.05481389727834878, 0.29834235948809595, -0.25193217959399716, -0.18815985965566256, -1.0993840202389924, 1.3720808925772439, -1.3901447430249643, 0.2952706310041869, -0.14215402384411635, 0.2557152281650664, 0.05237368863656635, 0.1665134157650504, 0.32752167656534614, -0.02638737238095419, -0.07622496454221706, 1.5158939538061444, 1.2842668521004519, 1.1900091488359847, 0.11950465514627728, 0.20792715338952203, -0.7069618004958248, -1.0060679633961014, 0.7402869780165224], \"y\": [-1.4475834439088642, 1.936342110293859, 1.5703019396317082, -1.141171509843668, 0.7086983057483757, -0.21548691100100484, -0.4935357265485408, -0.40008675780020697, 0.24466237321409023, -0.5575940599375178, 0.7174291311785046, 0.6066901397467638, 0.7183279064527168, 0.9037822643675042, 0.7922052580156334, 0.33548132017685217, -0.20261143372834065, 0.7973085569924002, 1.0992036024784997, -0.49476558867100884, -0.33780792682176386, -1.338637353195344, 1.1385637433257803, -0.20322491634641116, 0.6844714764071702, -0.16617105280152625, 1.3721896447655835, -0.432825142025372, -0.6979376497189357, -1.827219084945071, -0.08870604821904153, -0.7593429321290202, -1.1452326196090716, -0.6591873413644148, -0.024453262800700207, 2.8961064396206346, 1.363739087484403, -0.020299241643240123, -0.5503581956789931, 0.202981852523745, -0.04318579863195509, 1.3640507313160912, -1.0280179913191263, 0.21129179119723718, 0.10297146234534578, -1.2433243782994525, -0.021709600661412465, 1.1984399083378903, -1.3599613321180355, 1.3891357969076896, 0.07820929637177787, -0.6378218867551335, -1.0039159825678918, -2.126997043628774, 0.06341984518776161, 0.32731593946564225, 2.0722346896488597, -1.8756884771290674, -1.8738446512520954, -0.1688759685449708, 0.345763386677497, -1.4914130382877966, -1.4107957310164405, -0.4184816338943611, 1.1964942739671964, -0.42009278182817616, 0.10668530708683387, -0.7525150643124401, -0.010377553383409528, -0.2561262290407313, -0.5193080456284674, 0.2376140021029851, 0.22650863712631936, -0.023683051465336405, -0.10574186404763539, -1.3388266088658878, 1.8649371415743328, -0.0011472808149724546, -0.5809929109198254, 0.7474919614838859, -0.816872565749726, 1.0410209931608316, -0.39785709352618437, -1.0815621564988975, 1.176812583300365, 0.9895727666875234, -0.756797865773887, -0.3816828597434053, 0.42707439730370905, -0.1562011388869837, 0.9675610510066449, 0.02891219020418467, -0.6378898829804626, -0.8479768977153376, -0.41446797004090963, 2.564737002195348, 0.13364725564235924, -0.6973271644929159, -0.4527411973437712, -1.0237425044832327]}],\n",
       "                        {\"legend\": {\"bgcolor\": \"#F5F6F9\", \"font\": {\"color\": \"#4D5663\"}}, \"paper_bgcolor\": \"#F5F6F9\", \"plot_bgcolor\": \"#F5F6F9\", \"template\": {\"data\": {\"bar\": [{\"error_x\": {\"color\": \"#2a3f5f\"}, \"error_y\": {\"color\": \"#2a3f5f\"}, \"marker\": {\"line\": {\"color\": \"#E5ECF6\", \"width\": 0.5}}, \"type\": \"bar\"}], \"barpolar\": [{\"marker\": {\"line\": {\"color\": \"#E5ECF6\", \"width\": 0.5}}, \"type\": \"barpolar\"}], \"carpet\": [{\"aaxis\": {\"endlinecolor\": \"#2a3f5f\", \"gridcolor\": \"white\", \"linecolor\": \"white\", \"minorgridcolor\": \"white\", \"startlinecolor\": \"#2a3f5f\"}, \"baxis\": {\"endlinecolor\": \"#2a3f5f\", \"gridcolor\": \"white\", \"linecolor\": \"white\", \"minorgridcolor\": \"white\", \"startlinecolor\": \"#2a3f5f\"}, \"type\": \"carpet\"}], \"choropleth\": [{\"colorbar\": {\"outlinewidth\": 0, \"ticks\": \"\"}, \"type\": \"choropleth\"}], \"contour\": [{\"colorbar\": {\"outlinewidth\": 0, \"ticks\": \"\"}, \"colorscale\": [[0.0, \"#0d0887\"], [0.1111111111111111, \"#46039f\"], [0.2222222222222222, \"#7201a8\"], [0.3333333333333333, \"#9c179e\"], [0.4444444444444444, \"#bd3786\"], [0.5555555555555556, \"#d8576b\"], [0.6666666666666666, \"#ed7953\"], [0.7777777777777778, \"#fb9f3a\"], [0.8888888888888888, \"#fdca26\"], [1.0, \"#f0f921\"]], \"type\": \"contour\"}], \"contourcarpet\": [{\"colorbar\": {\"outlinewidth\": 0, \"ticks\": \"\"}, \"type\": \"contourcarpet\"}], \"heatmap\": [{\"colorbar\": {\"outlinewidth\": 0, \"ticks\": \"\"}, \"colorscale\": [[0.0, \"#0d0887\"], [0.1111111111111111, \"#46039f\"], [0.2222222222222222, \"#7201a8\"], [0.3333333333333333, \"#9c179e\"], [0.4444444444444444, \"#bd3786\"], [0.5555555555555556, \"#d8576b\"], [0.6666666666666666, \"#ed7953\"], [0.7777777777777778, \"#fb9f3a\"], [0.8888888888888888, \"#fdca26\"], [1.0, \"#f0f921\"]], \"type\": \"heatmap\"}], \"heatmapgl\": [{\"colorbar\": {\"outlinewidth\": 0, \"ticks\": \"\"}, \"colorscale\": [[0.0, \"#0d0887\"], [0.1111111111111111, \"#46039f\"], [0.2222222222222222, \"#7201a8\"], [0.3333333333333333, \"#9c179e\"], [0.4444444444444444, \"#bd3786\"], [0.5555555555555556, \"#d8576b\"], [0.6666666666666666, \"#ed7953\"], [0.7777777777777778, \"#fb9f3a\"], [0.8888888888888888, \"#fdca26\"], [1.0, \"#f0f921\"]], \"type\": \"heatmapgl\"}], \"histogram\": [{\"marker\": {\"colorbar\": {\"outlinewidth\": 0, \"ticks\": \"\"}}, \"type\": \"histogram\"}], \"histogram2d\": [{\"colorbar\": {\"outlinewidth\": 0, \"ticks\": \"\"}, \"colorscale\": [[0.0, \"#0d0887\"], [0.1111111111111111, \"#46039f\"], [0.2222222222222222, \"#7201a8\"], [0.3333333333333333, \"#9c179e\"], [0.4444444444444444, \"#bd3786\"], [0.5555555555555556, \"#d8576b\"], [0.6666666666666666, \"#ed7953\"], [0.7777777777777778, \"#fb9f3a\"], [0.8888888888888888, \"#fdca26\"], [1.0, \"#f0f921\"]], \"type\": \"histogram2d\"}], \"histogram2dcontour\": [{\"colorbar\": {\"outlinewidth\": 0, \"ticks\": \"\"}, \"colorscale\": [[0.0, \"#0d0887\"], [0.1111111111111111, \"#46039f\"], [0.2222222222222222, \"#7201a8\"], [0.3333333333333333, \"#9c179e\"], [0.4444444444444444, \"#bd3786\"], [0.5555555555555556, \"#d8576b\"], [0.6666666666666666, \"#ed7953\"], [0.7777777777777778, \"#fb9f3a\"], [0.8888888888888888, \"#fdca26\"], [1.0, \"#f0f921\"]], \"type\": \"histogram2dcontour\"}], \"mesh3d\": [{\"colorbar\": {\"outlinewidth\": 0, \"ticks\": \"\"}, \"type\": \"mesh3d\"}], \"parcoords\": [{\"line\": {\"colorbar\": {\"outlinewidth\": 0, \"ticks\": \"\"}}, \"type\": \"parcoords\"}], \"pie\": [{\"automargin\": true, \"type\": \"pie\"}], \"scatter\": [{\"marker\": {\"colorbar\": {\"outlinewidth\": 0, \"ticks\": \"\"}}, \"type\": \"scatter\"}], \"scatter3d\": [{\"line\": {\"colorbar\": {\"outlinewidth\": 0, \"ticks\": \"\"}}, \"marker\": {\"colorbar\": {\"outlinewidth\": 0, \"ticks\": \"\"}}, \"type\": \"scatter3d\"}], \"scattercarpet\": [{\"marker\": {\"colorbar\": {\"outlinewidth\": 0, \"ticks\": \"\"}}, \"type\": \"scattercarpet\"}], \"scattergeo\": [{\"marker\": {\"colorbar\": {\"outlinewidth\": 0, \"ticks\": \"\"}}, \"type\": \"scattergeo\"}], \"scattergl\": [{\"marker\": {\"colorbar\": {\"outlinewidth\": 0, \"ticks\": \"\"}}, \"type\": \"scattergl\"}], \"scattermapbox\": [{\"marker\": {\"colorbar\": {\"outlinewidth\": 0, \"ticks\": \"\"}}, \"type\": \"scattermapbox\"}], \"scatterpolar\": [{\"marker\": {\"colorbar\": {\"outlinewidth\": 0, \"ticks\": \"\"}}, \"type\": \"scatterpolar\"}], \"scatterpolargl\": [{\"marker\": {\"colorbar\": {\"outlinewidth\": 0, \"ticks\": \"\"}}, \"type\": \"scatterpolargl\"}], \"scatterternary\": [{\"marker\": {\"colorbar\": {\"outlinewidth\": 0, \"ticks\": \"\"}}, \"type\": \"scatterternary\"}], \"surface\": [{\"colorbar\": {\"outlinewidth\": 0, \"ticks\": \"\"}, \"colorscale\": [[0.0, \"#0d0887\"], [0.1111111111111111, \"#46039f\"], [0.2222222222222222, \"#7201a8\"], [0.3333333333333333, \"#9c179e\"], [0.4444444444444444, \"#bd3786\"], [0.5555555555555556, \"#d8576b\"], [0.6666666666666666, \"#ed7953\"], [0.7777777777777778, \"#fb9f3a\"], [0.8888888888888888, \"#fdca26\"], [1.0, \"#f0f921\"]], \"type\": \"surface\"}], \"table\": [{\"cells\": {\"fill\": {\"color\": \"#EBF0F8\"}, \"line\": {\"color\": \"white\"}}, \"header\": {\"fill\": {\"color\": \"#C8D4E3\"}, \"line\": {\"color\": \"white\"}}, \"type\": \"table\"}]}, \"layout\": {\"annotationdefaults\": {\"arrowcolor\": \"#2a3f5f\", \"arrowhead\": 0, \"arrowwidth\": 1}, \"coloraxis\": {\"colorbar\": {\"outlinewidth\": 0, \"ticks\": \"\"}}, \"colorscale\": {\"diverging\": [[0, \"#8e0152\"], [0.1, \"#c51b7d\"], [0.2, \"#de77ae\"], [0.3, \"#f1b6da\"], [0.4, \"#fde0ef\"], [0.5, \"#f7f7f7\"], [0.6, \"#e6f5d0\"], [0.7, \"#b8e186\"], [0.8, \"#7fbc41\"], [0.9, \"#4d9221\"], [1, \"#276419\"]], \"sequential\": [[0.0, \"#0d0887\"], [0.1111111111111111, \"#46039f\"], [0.2222222222222222, \"#7201a8\"], [0.3333333333333333, \"#9c179e\"], [0.4444444444444444, \"#bd3786\"], [0.5555555555555556, \"#d8576b\"], [0.6666666666666666, \"#ed7953\"], [0.7777777777777778, \"#fb9f3a\"], [0.8888888888888888, \"#fdca26\"], [1.0, \"#f0f921\"]], \"sequentialminus\": [[0.0, \"#0d0887\"], [0.1111111111111111, \"#46039f\"], [0.2222222222222222, \"#7201a8\"], [0.3333333333333333, \"#9c179e\"], [0.4444444444444444, \"#bd3786\"], [0.5555555555555556, \"#d8576b\"], [0.6666666666666666, \"#ed7953\"], [0.7777777777777778, \"#fb9f3a\"], [0.8888888888888888, \"#fdca26\"], [1.0, \"#f0f921\"]]}, \"colorway\": [\"#636efa\", \"#EF553B\", \"#00cc96\", \"#ab63fa\", \"#FFA15A\", \"#19d3f3\", \"#FF6692\", \"#B6E880\", \"#FF97FF\", \"#FECB52\"], \"font\": {\"color\": \"#2a3f5f\"}, \"geo\": {\"bgcolor\": \"white\", \"lakecolor\": \"white\", \"landcolor\": \"#E5ECF6\", \"showlakes\": true, \"showland\": true, \"subunitcolor\": \"white\"}, \"hoverlabel\": {\"align\": \"left\"}, \"hovermode\": \"closest\", \"mapbox\": {\"style\": \"light\"}, \"paper_bgcolor\": \"white\", \"plot_bgcolor\": \"#E5ECF6\", \"polar\": {\"angularaxis\": {\"gridcolor\": \"white\", \"linecolor\": \"white\", \"ticks\": \"\"}, \"bgcolor\": \"#E5ECF6\", \"radialaxis\": {\"gridcolor\": \"white\", \"linecolor\": \"white\", \"ticks\": \"\"}}, \"scene\": {\"xaxis\": {\"backgroundcolor\": \"#E5ECF6\", \"gridcolor\": \"white\", \"gridwidth\": 2, \"linecolor\": \"white\", \"showbackground\": true, \"ticks\": \"\", \"zerolinecolor\": \"white\"}, \"yaxis\": {\"backgroundcolor\": \"#E5ECF6\", \"gridcolor\": \"white\", \"gridwidth\": 2, \"linecolor\": \"white\", \"showbackground\": true, \"ticks\": \"\", \"zerolinecolor\": \"white\"}, \"zaxis\": {\"backgroundcolor\": \"#E5ECF6\", \"gridcolor\": \"white\", \"gridwidth\": 2, \"linecolor\": \"white\", \"showbackground\": true, \"ticks\": \"\", \"zerolinecolor\": \"white\"}}, \"shapedefaults\": {\"line\": {\"color\": \"#2a3f5f\"}}, \"ternary\": {\"aaxis\": {\"gridcolor\": \"white\", \"linecolor\": \"white\", \"ticks\": \"\"}, \"baxis\": {\"gridcolor\": \"white\", \"linecolor\": \"white\", \"ticks\": \"\"}, \"bgcolor\": \"#E5ECF6\", \"caxis\": {\"gridcolor\": \"white\", \"linecolor\": \"white\", \"ticks\": \"\"}}, \"title\": {\"x\": 0.05}, \"xaxis\": {\"automargin\": true, \"gridcolor\": \"white\", \"linecolor\": \"white\", \"ticks\": \"\", \"title\": {\"standoff\": 15}, \"zerolinecolor\": \"white\", \"zerolinewidth\": 2}, \"yaxis\": {\"automargin\": true, \"gridcolor\": \"white\", \"linecolor\": \"white\", \"ticks\": \"\", \"title\": {\"standoff\": 15}, \"zerolinecolor\": \"white\", \"zerolinewidth\": 2}}}, \"title\": {\"font\": {\"color\": \"#4D5663\"}}, \"xaxis\": {\"gridcolor\": \"#E1E5ED\", \"showgrid\": true, \"tickfont\": {\"color\": \"#4D5663\"}, \"title\": {\"font\": {\"color\": \"#4D5663\"}, \"text\": \"\"}, \"zerolinecolor\": \"#E1E5ED\"}, \"yaxis\": {\"gridcolor\": \"#E1E5ED\", \"showgrid\": true, \"tickfont\": {\"color\": \"#4D5663\"}, \"title\": {\"font\": {\"color\": \"#4D5663\"}, \"text\": \"\"}, \"zerolinecolor\": \"#E1E5ED\"}},\n",
       "                        {\"showLink\": true, \"linkText\": \"Export to plot.ly\", \"plotlyServerURL\": \"https://plot.ly\", \"responsive\": true}\n",
       "                    ).then(function(){\n",
       "                            \n",
       "var gd = document.getElementById('830bc3fa-1e3b-478e-9563-1ebabe81edad');\n",
       "var x = new MutationObserver(function (mutations, observer) {{\n",
       "        var display = window.getComputedStyle(gd).display;\n",
       "        if (!display || display === 'none') {{\n",
       "            console.log([gd, 'removed!']);\n",
       "            Plotly.purge(gd);\n",
       "            observer.disconnect();\n",
       "        }}\n",
       "}});\n",
       "\n",
       "// Listen for the removal of the full notebook cells\n",
       "var notebookContainer = gd.closest('#notebook-container');\n",
       "if (notebookContainer) {{\n",
       "    x.observe(notebookContainer, {childList: true});\n",
       "}}\n",
       "\n",
       "// Listen for the clearing of the current output cell\n",
       "var outputEl = gd.closest('.output');\n",
       "if (outputEl) {{\n",
       "    x.observe(outputEl, {childList: true});\n",
       "}}\n",
       "\n",
       "                        })\n",
       "                };\n",
       "                });\n",
       "            </script>\n",
       "        </div>"
      ]
     },
     "metadata": {},
     "output_type": "display_data"
    }
   ],
   "source": [
    "df.iplot(kind='bubble',x='A',y='B',size='C')"
   ]
  },
  {
   "cell_type": "markdown",
   "metadata": {},
   "source": [
    "## scatter_matrix()\n",
    "\n",
    "Similar to sns.pairplot()"
   ]
  },
  {
   "cell_type": "code",
   "execution_count": 27,
   "metadata": {},
   "outputs": [
    {
     "data": {
      "application/vnd.plotly.v1+json": {
       "config": {
        "linkText": "Export to plot.ly",
        "plotlyServerURL": "https://plot.ly",
        "showLink": true
       },
       "data": [
        {
         "histfunc": "count",
         "histnorm": "",
         "marker": {
          "color": "rgba(255, 153, 51, 1.0)",
          "line": {
           "color": "#4D5663",
           "width": 1.3
          }
         },
         "name": "A",
         "nbinsx": 10,
         "opacity": 0.8,
         "orientation": "v",
         "type": "histogram",
         "x": [
          0.9273501686452831,
          -0.5336819713432426,
          -0.4719061159137588,
          -0.9892039772850318,
          1.745699378229749,
          -0.26335462861925224,
          0.7908256324744336,
          -0.018916685629151987,
          1.4362821330775597,
          -0.32503355428080577,
          0.153676829720251,
          1.1318065272893738,
          0.08839548036838218,
          -0.13371513443907548,
          0.04554308700723792,
          -0.05877157631492504,
          0.9319619775407781,
          -0.892681343719326,
          -0.23869875455176157,
          -0.8071351942969122,
          -0.8460637342785593,
          0.5435124105045299,
          1.8829768691003779,
          0.26018907025834476,
          -0.9630329187123825,
          0.5924332239870846,
          0.05224067716215473,
          -0.22741409274250976,
          0.12187361251470992,
          0.195255432340129,
          -3.1675899599066684,
          0.4368530139763862,
          1.9289359381994984,
          0.8056938127943846,
          -0.37292655824780185,
          0.6512746095656167,
          -0.9938636126479036,
          0.7862381402545336,
          -1.1287854744382666,
          0.6094151867668576,
          -1.3345012926132753,
          -0.02281986102852559,
          2.1763311981289886,
          -0.09963573401996252,
          0.8464995922182782,
          -1.2042004296695825,
          2.1203247152475537,
          0.36791612384551403,
          -0.23999914272661843,
          0.024080904242700003,
          0.03482469604660009,
          1.8265286417264184,
          0.49707787161574435,
          -0.5323481640582688,
          -0.5904516820742872,
          -0.31429352820806933,
          -0.20083676978802706,
          -0.24576824746640213,
          0.4490649374540152,
          0.009106977618565758,
          -0.2601190686513889,
          -0.4885809019711191,
          -0.7065650259075594,
          -0.5655889024607965,
          1.1242265905343243,
          -1.289422567292631,
          -0.11079106339526591,
          0.025175648703488762,
          -1.0654028367316437,
          0.5876369583983077,
          -1.2193627328117418,
          0.27503948246745363,
          0.20062669512915307,
          -0.712497095962588,
          -0.5936065482919237,
          0.3162171738816598,
          -2.0801283752733593,
          0.05481389727834878,
          0.29834235948809595,
          -0.25193217959399716,
          -0.18815985965566256,
          -1.0993840202389924,
          1.3720808925772439,
          -1.3901447430249643,
          0.2952706310041869,
          -0.14215402384411635,
          0.2557152281650664,
          0.05237368863656635,
          0.1665134157650504,
          0.32752167656534614,
          -0.02638737238095419,
          -0.07622496454221706,
          1.5158939538061444,
          1.2842668521004519,
          1.1900091488359847,
          0.11950465514627728,
          0.20792715338952203,
          -0.7069618004958248,
          -1.0060679633961014,
          0.7402869780165224
         ],
         "xaxis": "x",
         "yaxis": "y"
        },
        {
         "line": {
          "color": "rgba(128, 128, 128, 1.0)",
          "dash": "solid",
          "shape": "linear",
          "width": 1.3
         },
         "marker": {
          "size": 2,
          "symbol": "circle"
         },
         "mode": "markers",
         "name": "A",
         "text": "",
         "type": "scatter",
         "x": [
          -1.4475834439088642,
          1.936342110293859,
          1.5703019396317082,
          -1.141171509843668,
          0.7086983057483757,
          -0.21548691100100484,
          -0.4935357265485408,
          -0.40008675780020697,
          0.24466237321409023,
          -0.5575940599375178,
          0.7174291311785046,
          0.6066901397467638,
          0.7183279064527168,
          0.9037822643675042,
          0.7922052580156334,
          0.33548132017685217,
          -0.20261143372834065,
          0.7973085569924002,
          1.0992036024784997,
          -0.49476558867100884,
          -0.33780792682176386,
          -1.338637353195344,
          1.1385637433257803,
          -0.20322491634641116,
          0.6844714764071702,
          -0.16617105280152625,
          1.3721896447655835,
          -0.432825142025372,
          -0.6979376497189357,
          -1.827219084945071,
          -0.08870604821904153,
          -0.7593429321290202,
          -1.1452326196090716,
          -0.6591873413644148,
          -0.024453262800700207,
          2.8961064396206346,
          1.363739087484403,
          -0.020299241643240123,
          -0.5503581956789931,
          0.202981852523745,
          -0.04318579863195509,
          1.3640507313160912,
          -1.0280179913191263,
          0.21129179119723718,
          0.10297146234534578,
          -1.2433243782994525,
          -0.021709600661412465,
          1.1984399083378903,
          -1.3599613321180355,
          1.3891357969076896,
          0.07820929637177787,
          -0.6378218867551335,
          -1.0039159825678918,
          -2.126997043628774,
          0.06341984518776161,
          0.32731593946564225,
          2.0722346896488597,
          -1.8756884771290674,
          -1.8738446512520954,
          -0.1688759685449708,
          0.345763386677497,
          -1.4914130382877966,
          -1.4107957310164405,
          -0.4184816338943611,
          1.1964942739671964,
          -0.42009278182817616,
          0.10668530708683387,
          -0.7525150643124401,
          -0.010377553383409528,
          -0.2561262290407313,
          -0.5193080456284674,
          0.2376140021029851,
          0.22650863712631936,
          -0.023683051465336405,
          -0.10574186404763539,
          -1.3388266088658878,
          1.8649371415743328,
          -0.0011472808149724546,
          -0.5809929109198254,
          0.7474919614838859,
          -0.816872565749726,
          1.0410209931608316,
          -0.39785709352618437,
          -1.0815621564988975,
          1.176812583300365,
          0.9895727666875234,
          -0.756797865773887,
          -0.3816828597434053,
          0.42707439730370905,
          -0.1562011388869837,
          0.9675610510066449,
          0.02891219020418467,
          -0.6378898829804626,
          -0.8479768977153376,
          -0.41446797004090963,
          2.564737002195348,
          0.13364725564235924,
          -0.6973271644929159,
          -0.4527411973437712,
          -1.0237425044832327
         ],
         "xaxis": "x2",
         "y": [
          0.9273501686452831,
          -0.5336819713432426,
          -0.4719061159137588,
          -0.9892039772850318,
          1.745699378229749,
          -0.26335462861925224,
          0.7908256324744336,
          -0.018916685629151987,
          1.4362821330775597,
          -0.32503355428080577,
          0.153676829720251,
          1.1318065272893738,
          0.08839548036838218,
          -0.13371513443907548,
          0.04554308700723792,
          -0.05877157631492504,
          0.9319619775407781,
          -0.892681343719326,
          -0.23869875455176157,
          -0.8071351942969122,
          -0.8460637342785593,
          0.5435124105045299,
          1.8829768691003779,
          0.26018907025834476,
          -0.9630329187123825,
          0.5924332239870846,
          0.05224067716215473,
          -0.22741409274250976,
          0.12187361251470992,
          0.195255432340129,
          -3.1675899599066684,
          0.4368530139763862,
          1.9289359381994984,
          0.8056938127943846,
          -0.37292655824780185,
          0.6512746095656167,
          -0.9938636126479036,
          0.7862381402545336,
          -1.1287854744382666,
          0.6094151867668576,
          -1.3345012926132753,
          -0.02281986102852559,
          2.1763311981289886,
          -0.09963573401996252,
          0.8464995922182782,
          -1.2042004296695825,
          2.1203247152475537,
          0.36791612384551403,
          -0.23999914272661843,
          0.024080904242700003,
          0.03482469604660009,
          1.8265286417264184,
          0.49707787161574435,
          -0.5323481640582688,
          -0.5904516820742872,
          -0.31429352820806933,
          -0.20083676978802706,
          -0.24576824746640213,
          0.4490649374540152,
          0.009106977618565758,
          -0.2601190686513889,
          -0.4885809019711191,
          -0.7065650259075594,
          -0.5655889024607965,
          1.1242265905343243,
          -1.289422567292631,
          -0.11079106339526591,
          0.025175648703488762,
          -1.0654028367316437,
          0.5876369583983077,
          -1.2193627328117418,
          0.27503948246745363,
          0.20062669512915307,
          -0.712497095962588,
          -0.5936065482919237,
          0.3162171738816598,
          -2.0801283752733593,
          0.05481389727834878,
          0.29834235948809595,
          -0.25193217959399716,
          -0.18815985965566256,
          -1.0993840202389924,
          1.3720808925772439,
          -1.3901447430249643,
          0.2952706310041869,
          -0.14215402384411635,
          0.2557152281650664,
          0.05237368863656635,
          0.1665134157650504,
          0.32752167656534614,
          -0.02638737238095419,
          -0.07622496454221706,
          1.5158939538061444,
          1.2842668521004519,
          1.1900091488359847,
          0.11950465514627728,
          0.20792715338952203,
          -0.7069618004958248,
          -1.0060679633961014,
          0.7402869780165224
         ],
         "yaxis": "y2"
        },
        {
         "line": {
          "color": "rgba(128, 128, 128, 1.0)",
          "dash": "solid",
          "shape": "linear",
          "width": 1.3
         },
         "marker": {
          "size": 2,
          "symbol": "circle"
         },
         "mode": "markers",
         "name": "A",
         "text": "",
         "type": "scatter",
         "x": [
          1.4049242054570623,
          0.1547621834006053,
          0.6427377446553894,
          0.14176958512210536,
          0.6452742473253624,
          -1.1029515760211577,
          0.004636889360956238,
          -1.4867686806843832,
          1.5347473240196792,
          0.15995536296369012,
          0.31029386900621286,
          -1.549795310649013,
          0.4618488125890316,
          1.1201251521430575,
          0.4690802803947774,
          1.6432681308561372,
          0.008389568495615356,
          -0.01239621104004811,
          0.24131053638423328,
          -1.4103219963121891,
          1.2492004628011075,
          0.18955669364213737,
          0.8157350982642384,
          0.07675734152535334,
          -0.30505179092398904,
          -0.5078562267149158,
          -0.4179911704810528,
          0.5408776143582213,
          1.8372513308449336,
          -0.2501002967666486,
          0.1996512023214983,
          0.8691901065752327,
          0.4495597707471277,
          -2.801023933962865,
          -0.8238229519352759,
          0.04128400296717988,
          -0.6901701140888579,
          1.1916495037586128,
          -0.9295614751372788,
          -0.3231576891007971,
          -0.7040182646953186,
          1.9790020173304628,
          0.985673156309637,
          0.6222213952844792,
          -0.1690695981714178,
          1.3063478136705455,
          -0.5537556528688246,
          0.06401592476986435,
          -0.0008402575602733345,
          -0.5639327228761422,
          0.6608360365296245,
          0.2932081224527548,
          0.6024607368840637,
          0.6096916892907379,
          -0.8679904449478311,
          -0.12208563224647935,
          -1.132526357998367,
          -0.3968559663885494,
          0.5730640969363368,
          0.3827904667250426,
          -0.8200063265474274,
          -0.45552898404631365,
          0.08141056318368534,
          0.5051122350181024,
          -2.0250450421281125,
          0.014663387828365947,
          0.5667760720620605,
          0.2022882687234411,
          1.187387385536581,
          1.0189024742420798,
          -0.7298071957786113,
          0.05948535909929114,
          -0.5079171949110749,
          -0.7440860797142066,
          0.3268609879345079,
          1.4598066328833745,
          1.012654544868541,
          -0.6403355542078821,
          -0.08502020694767025,
          1.4850038202651428,
          0.08081454059719645,
          0.2627642445729847,
          -0.8642028436313269,
          -0.49831337549218374,
          -0.2800136845430416,
          0.040417289509109944,
          -1.144179761118651,
          1.807443770703011,
          0.3806342224989023,
          1.2287603745892146,
          0.8735308102245346,
          -0.8352237499555955,
          1.2123633864099363,
          0.5996684543315636,
          -1.2552732180664523,
          -0.33749497322565136,
          -0.3596282323596586,
          -0.36185868788703535,
          0.8894345743403884,
          -0.8404253713393572
         ],
         "xaxis": "x3",
         "y": [
          0.9273501686452831,
          -0.5336819713432426,
          -0.4719061159137588,
          -0.9892039772850318,
          1.745699378229749,
          -0.26335462861925224,
          0.7908256324744336,
          -0.018916685629151987,
          1.4362821330775597,
          -0.32503355428080577,
          0.153676829720251,
          1.1318065272893738,
          0.08839548036838218,
          -0.13371513443907548,
          0.04554308700723792,
          -0.05877157631492504,
          0.9319619775407781,
          -0.892681343719326,
          -0.23869875455176157,
          -0.8071351942969122,
          -0.8460637342785593,
          0.5435124105045299,
          1.8829768691003779,
          0.26018907025834476,
          -0.9630329187123825,
          0.5924332239870846,
          0.05224067716215473,
          -0.22741409274250976,
          0.12187361251470992,
          0.195255432340129,
          -3.1675899599066684,
          0.4368530139763862,
          1.9289359381994984,
          0.8056938127943846,
          -0.37292655824780185,
          0.6512746095656167,
          -0.9938636126479036,
          0.7862381402545336,
          -1.1287854744382666,
          0.6094151867668576,
          -1.3345012926132753,
          -0.02281986102852559,
          2.1763311981289886,
          -0.09963573401996252,
          0.8464995922182782,
          -1.2042004296695825,
          2.1203247152475537,
          0.36791612384551403,
          -0.23999914272661843,
          0.024080904242700003,
          0.03482469604660009,
          1.8265286417264184,
          0.49707787161574435,
          -0.5323481640582688,
          -0.5904516820742872,
          -0.31429352820806933,
          -0.20083676978802706,
          -0.24576824746640213,
          0.4490649374540152,
          0.009106977618565758,
          -0.2601190686513889,
          -0.4885809019711191,
          -0.7065650259075594,
          -0.5655889024607965,
          1.1242265905343243,
          -1.289422567292631,
          -0.11079106339526591,
          0.025175648703488762,
          -1.0654028367316437,
          0.5876369583983077,
          -1.2193627328117418,
          0.27503948246745363,
          0.20062669512915307,
          -0.712497095962588,
          -0.5936065482919237,
          0.3162171738816598,
          -2.0801283752733593,
          0.05481389727834878,
          0.29834235948809595,
          -0.25193217959399716,
          -0.18815985965566256,
          -1.0993840202389924,
          1.3720808925772439,
          -1.3901447430249643,
          0.2952706310041869,
          -0.14215402384411635,
          0.2557152281650664,
          0.05237368863656635,
          0.1665134157650504,
          0.32752167656534614,
          -0.02638737238095419,
          -0.07622496454221706,
          1.5158939538061444,
          1.2842668521004519,
          1.1900091488359847,
          0.11950465514627728,
          0.20792715338952203,
          -0.7069618004958248,
          -1.0060679633961014,
          0.7402869780165224
         ],
         "yaxis": "y3"
        },
        {
         "line": {
          "color": "rgba(128, 128, 128, 1.0)",
          "dash": "solid",
          "shape": "linear",
          "width": 1.3
         },
         "marker": {
          "size": 2,
          "symbol": "circle"
         },
         "mode": "markers",
         "name": "A",
         "text": "",
         "type": "scatter",
         "x": [
          0.6893397535031753,
          -0.634782770197293,
          -1.3651647455238947,
          0.5659178518454178,
          0.14146422009809448,
          0.20585568742835458,
          -0.323569057620845,
          0.24781586608556125,
          0.8208949499246398,
          1.3351105498079698,
          0.7989279478030678,
          -0.6468933836371301,
          0.39863035992129003,
          0.47095104852203645,
          0.2693234881822479,
          0.5149635994224956,
          0.540039861790419,
          -1.0560385502243055,
          1.420309355013242,
          -1.3271645563971741,
          0.02428842976034102,
          -1.1279761762651903,
          0.7425629834247508,
          0.12454951520226333,
          -0.8900025088723069,
          -1.0415293745293592,
          -1.032703442507068,
          0.08858842850306446,
          0.21673451116324674,
          1.0773810976744913,
          -0.8005023910645993,
          -0.8250117982933071,
          -0.875049873565815,
          0.12047064633653336,
          1.5518281540606154,
          -0.48950713262227397,
          1.158258147987117,
          0.11856343615655199,
          1.6570380736340358,
          2.127076507548714,
          -1.5071492237481672,
          1.3878540441851652,
          1.7967392604687493,
          -2.427511091257778,
          0.6638920325166114,
          -1.0243866636811134,
          -0.9977307088517342,
          1.1332705619033097,
          0.1787949995440567,
          1.8294622360138504,
          1.336117505283273,
          -0.9747308204149058,
          -0.21060626994445616,
          -1.6792949349020025,
          -1.6977453195697814,
          -1.486859332377673,
          0.4614839606236429,
          1.7033598737816464,
          0.3469648988028317,
          -0.6698873840875732,
          1.1598972264121405,
          0.6215349000091484,
          -1.2264167086553013,
          0.23438318536696298,
          1.0633039804419662,
          0.14760634745273152,
          1.2677451019504973,
          0.6535051309470021,
          -0.6851207475862858,
          -1.8591972638103833,
          -0.37396971449307076,
          -1.2208452591467445,
          0.18790967127387492,
          -0.6058533913589577,
          0.01130864506496672,
          -3.1060627472728273,
          -0.27687656929833604,
          0.34068588900417174,
          -0.04575381175627021,
          0.9099625078425607,
          -0.5794692122519473,
          -0.1965604817374992,
          -0.30034716768779113,
          -0.8263038743589,
          0.3559471996961158,
          -0.618517658506671,
          -0.5489259138475905,
          -1.192280245987357,
          -0.17765596325209876,
          -1.7786305738644168,
          0.6023764476041314,
          0.5177743526185985,
          1.625948563551156,
          0.732401806275617,
          0.5159331202280345,
          0.9004335661442393,
          0.12533332537820574,
          0.05145474359691806,
          -1.1901492124514266,
          1.3226574609114097
         ],
         "xaxis": "x4",
         "y": [
          0.9273501686452831,
          -0.5336819713432426,
          -0.4719061159137588,
          -0.9892039772850318,
          1.745699378229749,
          -0.26335462861925224,
          0.7908256324744336,
          -0.018916685629151987,
          1.4362821330775597,
          -0.32503355428080577,
          0.153676829720251,
          1.1318065272893738,
          0.08839548036838218,
          -0.13371513443907548,
          0.04554308700723792,
          -0.05877157631492504,
          0.9319619775407781,
          -0.892681343719326,
          -0.23869875455176157,
          -0.8071351942969122,
          -0.8460637342785593,
          0.5435124105045299,
          1.8829768691003779,
          0.26018907025834476,
          -0.9630329187123825,
          0.5924332239870846,
          0.05224067716215473,
          -0.22741409274250976,
          0.12187361251470992,
          0.195255432340129,
          -3.1675899599066684,
          0.4368530139763862,
          1.9289359381994984,
          0.8056938127943846,
          -0.37292655824780185,
          0.6512746095656167,
          -0.9938636126479036,
          0.7862381402545336,
          -1.1287854744382666,
          0.6094151867668576,
          -1.3345012926132753,
          -0.02281986102852559,
          2.1763311981289886,
          -0.09963573401996252,
          0.8464995922182782,
          -1.2042004296695825,
          2.1203247152475537,
          0.36791612384551403,
          -0.23999914272661843,
          0.024080904242700003,
          0.03482469604660009,
          1.8265286417264184,
          0.49707787161574435,
          -0.5323481640582688,
          -0.5904516820742872,
          -0.31429352820806933,
          -0.20083676978802706,
          -0.24576824746640213,
          0.4490649374540152,
          0.009106977618565758,
          -0.2601190686513889,
          -0.4885809019711191,
          -0.7065650259075594,
          -0.5655889024607965,
          1.1242265905343243,
          -1.289422567292631,
          -0.11079106339526591,
          0.025175648703488762,
          -1.0654028367316437,
          0.5876369583983077,
          -1.2193627328117418,
          0.27503948246745363,
          0.20062669512915307,
          -0.712497095962588,
          -0.5936065482919237,
          0.3162171738816598,
          -2.0801283752733593,
          0.05481389727834878,
          0.29834235948809595,
          -0.25193217959399716,
          -0.18815985965566256,
          -1.0993840202389924,
          1.3720808925772439,
          -1.3901447430249643,
          0.2952706310041869,
          -0.14215402384411635,
          0.2557152281650664,
          0.05237368863656635,
          0.1665134157650504,
          0.32752167656534614,
          -0.02638737238095419,
          -0.07622496454221706,
          1.5158939538061444,
          1.2842668521004519,
          1.1900091488359847,
          0.11950465514627728,
          0.20792715338952203,
          -0.7069618004958248,
          -1.0060679633961014,
          0.7402869780165224
         ],
         "yaxis": "y4"
        },
        {
         "line": {
          "color": "rgba(128, 128, 128, 1.0)",
          "dash": "solid",
          "shape": "linear",
          "width": 1.3
         },
         "marker": {
          "size": 2,
          "symbol": "circle"
         },
         "mode": "markers",
         "name": "B",
         "text": "",
         "type": "scatter",
         "x": [
          0.9273501686452831,
          -0.5336819713432426,
          -0.4719061159137588,
          -0.9892039772850318,
          1.745699378229749,
          -0.26335462861925224,
          0.7908256324744336,
          -0.018916685629151987,
          1.4362821330775597,
          -0.32503355428080577,
          0.153676829720251,
          1.1318065272893738,
          0.08839548036838218,
          -0.13371513443907548,
          0.04554308700723792,
          -0.05877157631492504,
          0.9319619775407781,
          -0.892681343719326,
          -0.23869875455176157,
          -0.8071351942969122,
          -0.8460637342785593,
          0.5435124105045299,
          1.8829768691003779,
          0.26018907025834476,
          -0.9630329187123825,
          0.5924332239870846,
          0.05224067716215473,
          -0.22741409274250976,
          0.12187361251470992,
          0.195255432340129,
          -3.1675899599066684,
          0.4368530139763862,
          1.9289359381994984,
          0.8056938127943846,
          -0.37292655824780185,
          0.6512746095656167,
          -0.9938636126479036,
          0.7862381402545336,
          -1.1287854744382666,
          0.6094151867668576,
          -1.3345012926132753,
          -0.02281986102852559,
          2.1763311981289886,
          -0.09963573401996252,
          0.8464995922182782,
          -1.2042004296695825,
          2.1203247152475537,
          0.36791612384551403,
          -0.23999914272661843,
          0.024080904242700003,
          0.03482469604660009,
          1.8265286417264184,
          0.49707787161574435,
          -0.5323481640582688,
          -0.5904516820742872,
          -0.31429352820806933,
          -0.20083676978802706,
          -0.24576824746640213,
          0.4490649374540152,
          0.009106977618565758,
          -0.2601190686513889,
          -0.4885809019711191,
          -0.7065650259075594,
          -0.5655889024607965,
          1.1242265905343243,
          -1.289422567292631,
          -0.11079106339526591,
          0.025175648703488762,
          -1.0654028367316437,
          0.5876369583983077,
          -1.2193627328117418,
          0.27503948246745363,
          0.20062669512915307,
          -0.712497095962588,
          -0.5936065482919237,
          0.3162171738816598,
          -2.0801283752733593,
          0.05481389727834878,
          0.29834235948809595,
          -0.25193217959399716,
          -0.18815985965566256,
          -1.0993840202389924,
          1.3720808925772439,
          -1.3901447430249643,
          0.2952706310041869,
          -0.14215402384411635,
          0.2557152281650664,
          0.05237368863656635,
          0.1665134157650504,
          0.32752167656534614,
          -0.02638737238095419,
          -0.07622496454221706,
          1.5158939538061444,
          1.2842668521004519,
          1.1900091488359847,
          0.11950465514627728,
          0.20792715338952203,
          -0.7069618004958248,
          -1.0060679633961014,
          0.7402869780165224
         ],
         "xaxis": "x5",
         "y": [
          -1.4475834439088642,
          1.936342110293859,
          1.5703019396317082,
          -1.141171509843668,
          0.7086983057483757,
          -0.21548691100100484,
          -0.4935357265485408,
          -0.40008675780020697,
          0.24466237321409023,
          -0.5575940599375178,
          0.7174291311785046,
          0.6066901397467638,
          0.7183279064527168,
          0.9037822643675042,
          0.7922052580156334,
          0.33548132017685217,
          -0.20261143372834065,
          0.7973085569924002,
          1.0992036024784997,
          -0.49476558867100884,
          -0.33780792682176386,
          -1.338637353195344,
          1.1385637433257803,
          -0.20322491634641116,
          0.6844714764071702,
          -0.16617105280152625,
          1.3721896447655835,
          -0.432825142025372,
          -0.6979376497189357,
          -1.827219084945071,
          -0.08870604821904153,
          -0.7593429321290202,
          -1.1452326196090716,
          -0.6591873413644148,
          -0.024453262800700207,
          2.8961064396206346,
          1.363739087484403,
          -0.020299241643240123,
          -0.5503581956789931,
          0.202981852523745,
          -0.04318579863195509,
          1.3640507313160912,
          -1.0280179913191263,
          0.21129179119723718,
          0.10297146234534578,
          -1.2433243782994525,
          -0.021709600661412465,
          1.1984399083378903,
          -1.3599613321180355,
          1.3891357969076896,
          0.07820929637177787,
          -0.6378218867551335,
          -1.0039159825678918,
          -2.126997043628774,
          0.06341984518776161,
          0.32731593946564225,
          2.0722346896488597,
          -1.8756884771290674,
          -1.8738446512520954,
          -0.1688759685449708,
          0.345763386677497,
          -1.4914130382877966,
          -1.4107957310164405,
          -0.4184816338943611,
          1.1964942739671964,
          -0.42009278182817616,
          0.10668530708683387,
          -0.7525150643124401,
          -0.010377553383409528,
          -0.2561262290407313,
          -0.5193080456284674,
          0.2376140021029851,
          0.22650863712631936,
          -0.023683051465336405,
          -0.10574186404763539,
          -1.3388266088658878,
          1.8649371415743328,
          -0.0011472808149724546,
          -0.5809929109198254,
          0.7474919614838859,
          -0.816872565749726,
          1.0410209931608316,
          -0.39785709352618437,
          -1.0815621564988975,
          1.176812583300365,
          0.9895727666875234,
          -0.756797865773887,
          -0.3816828597434053,
          0.42707439730370905,
          -0.1562011388869837,
          0.9675610510066449,
          0.02891219020418467,
          -0.6378898829804626,
          -0.8479768977153376,
          -0.41446797004090963,
          2.564737002195348,
          0.13364725564235924,
          -0.6973271644929159,
          -0.4527411973437712,
          -1.0237425044832327
         ],
         "yaxis": "y5"
        },
        {
         "histfunc": "count",
         "histnorm": "",
         "marker": {
          "color": "rgba(55, 128, 191, 1.0)",
          "line": {
           "color": "#4D5663",
           "width": 1.3
          }
         },
         "name": "B",
         "nbinsx": 10,
         "opacity": 0.8,
         "orientation": "v",
         "type": "histogram",
         "x": [
          -1.4475834439088642,
          1.936342110293859,
          1.5703019396317082,
          -1.141171509843668,
          0.7086983057483757,
          -0.21548691100100484,
          -0.4935357265485408,
          -0.40008675780020697,
          0.24466237321409023,
          -0.5575940599375178,
          0.7174291311785046,
          0.6066901397467638,
          0.7183279064527168,
          0.9037822643675042,
          0.7922052580156334,
          0.33548132017685217,
          -0.20261143372834065,
          0.7973085569924002,
          1.0992036024784997,
          -0.49476558867100884,
          -0.33780792682176386,
          -1.338637353195344,
          1.1385637433257803,
          -0.20322491634641116,
          0.6844714764071702,
          -0.16617105280152625,
          1.3721896447655835,
          -0.432825142025372,
          -0.6979376497189357,
          -1.827219084945071,
          -0.08870604821904153,
          -0.7593429321290202,
          -1.1452326196090716,
          -0.6591873413644148,
          -0.024453262800700207,
          2.8961064396206346,
          1.363739087484403,
          -0.020299241643240123,
          -0.5503581956789931,
          0.202981852523745,
          -0.04318579863195509,
          1.3640507313160912,
          -1.0280179913191263,
          0.21129179119723718,
          0.10297146234534578,
          -1.2433243782994525,
          -0.021709600661412465,
          1.1984399083378903,
          -1.3599613321180355,
          1.3891357969076896,
          0.07820929637177787,
          -0.6378218867551335,
          -1.0039159825678918,
          -2.126997043628774,
          0.06341984518776161,
          0.32731593946564225,
          2.0722346896488597,
          -1.8756884771290674,
          -1.8738446512520954,
          -0.1688759685449708,
          0.345763386677497,
          -1.4914130382877966,
          -1.4107957310164405,
          -0.4184816338943611,
          1.1964942739671964,
          -0.42009278182817616,
          0.10668530708683387,
          -0.7525150643124401,
          -0.010377553383409528,
          -0.2561262290407313,
          -0.5193080456284674,
          0.2376140021029851,
          0.22650863712631936,
          -0.023683051465336405,
          -0.10574186404763539,
          -1.3388266088658878,
          1.8649371415743328,
          -0.0011472808149724546,
          -0.5809929109198254,
          0.7474919614838859,
          -0.816872565749726,
          1.0410209931608316,
          -0.39785709352618437,
          -1.0815621564988975,
          1.176812583300365,
          0.9895727666875234,
          -0.756797865773887,
          -0.3816828597434053,
          0.42707439730370905,
          -0.1562011388869837,
          0.9675610510066449,
          0.02891219020418467,
          -0.6378898829804626,
          -0.8479768977153376,
          -0.41446797004090963,
          2.564737002195348,
          0.13364725564235924,
          -0.6973271644929159,
          -0.4527411973437712,
          -1.0237425044832327
         ],
         "xaxis": "x6",
         "yaxis": "y6"
        },
        {
         "line": {
          "color": "rgba(128, 128, 128, 1.0)",
          "dash": "solid",
          "shape": "linear",
          "width": 1.3
         },
         "marker": {
          "size": 2,
          "symbol": "circle"
         },
         "mode": "markers",
         "name": "B",
         "text": "",
         "type": "scatter",
         "x": [
          1.4049242054570623,
          0.1547621834006053,
          0.6427377446553894,
          0.14176958512210536,
          0.6452742473253624,
          -1.1029515760211577,
          0.004636889360956238,
          -1.4867686806843832,
          1.5347473240196792,
          0.15995536296369012,
          0.31029386900621286,
          -1.549795310649013,
          0.4618488125890316,
          1.1201251521430575,
          0.4690802803947774,
          1.6432681308561372,
          0.008389568495615356,
          -0.01239621104004811,
          0.24131053638423328,
          -1.4103219963121891,
          1.2492004628011075,
          0.18955669364213737,
          0.8157350982642384,
          0.07675734152535334,
          -0.30505179092398904,
          -0.5078562267149158,
          -0.4179911704810528,
          0.5408776143582213,
          1.8372513308449336,
          -0.2501002967666486,
          0.1996512023214983,
          0.8691901065752327,
          0.4495597707471277,
          -2.801023933962865,
          -0.8238229519352759,
          0.04128400296717988,
          -0.6901701140888579,
          1.1916495037586128,
          -0.9295614751372788,
          -0.3231576891007971,
          -0.7040182646953186,
          1.9790020173304628,
          0.985673156309637,
          0.6222213952844792,
          -0.1690695981714178,
          1.3063478136705455,
          -0.5537556528688246,
          0.06401592476986435,
          -0.0008402575602733345,
          -0.5639327228761422,
          0.6608360365296245,
          0.2932081224527548,
          0.6024607368840637,
          0.6096916892907379,
          -0.8679904449478311,
          -0.12208563224647935,
          -1.132526357998367,
          -0.3968559663885494,
          0.5730640969363368,
          0.3827904667250426,
          -0.8200063265474274,
          -0.45552898404631365,
          0.08141056318368534,
          0.5051122350181024,
          -2.0250450421281125,
          0.014663387828365947,
          0.5667760720620605,
          0.2022882687234411,
          1.187387385536581,
          1.0189024742420798,
          -0.7298071957786113,
          0.05948535909929114,
          -0.5079171949110749,
          -0.7440860797142066,
          0.3268609879345079,
          1.4598066328833745,
          1.012654544868541,
          -0.6403355542078821,
          -0.08502020694767025,
          1.4850038202651428,
          0.08081454059719645,
          0.2627642445729847,
          -0.8642028436313269,
          -0.49831337549218374,
          -0.2800136845430416,
          0.040417289509109944,
          -1.144179761118651,
          1.807443770703011,
          0.3806342224989023,
          1.2287603745892146,
          0.8735308102245346,
          -0.8352237499555955,
          1.2123633864099363,
          0.5996684543315636,
          -1.2552732180664523,
          -0.33749497322565136,
          -0.3596282323596586,
          -0.36185868788703535,
          0.8894345743403884,
          -0.8404253713393572
         ],
         "xaxis": "x7",
         "y": [
          -1.4475834439088642,
          1.936342110293859,
          1.5703019396317082,
          -1.141171509843668,
          0.7086983057483757,
          -0.21548691100100484,
          -0.4935357265485408,
          -0.40008675780020697,
          0.24466237321409023,
          -0.5575940599375178,
          0.7174291311785046,
          0.6066901397467638,
          0.7183279064527168,
          0.9037822643675042,
          0.7922052580156334,
          0.33548132017685217,
          -0.20261143372834065,
          0.7973085569924002,
          1.0992036024784997,
          -0.49476558867100884,
          -0.33780792682176386,
          -1.338637353195344,
          1.1385637433257803,
          -0.20322491634641116,
          0.6844714764071702,
          -0.16617105280152625,
          1.3721896447655835,
          -0.432825142025372,
          -0.6979376497189357,
          -1.827219084945071,
          -0.08870604821904153,
          -0.7593429321290202,
          -1.1452326196090716,
          -0.6591873413644148,
          -0.024453262800700207,
          2.8961064396206346,
          1.363739087484403,
          -0.020299241643240123,
          -0.5503581956789931,
          0.202981852523745,
          -0.04318579863195509,
          1.3640507313160912,
          -1.0280179913191263,
          0.21129179119723718,
          0.10297146234534578,
          -1.2433243782994525,
          -0.021709600661412465,
          1.1984399083378903,
          -1.3599613321180355,
          1.3891357969076896,
          0.07820929637177787,
          -0.6378218867551335,
          -1.0039159825678918,
          -2.126997043628774,
          0.06341984518776161,
          0.32731593946564225,
          2.0722346896488597,
          -1.8756884771290674,
          -1.8738446512520954,
          -0.1688759685449708,
          0.345763386677497,
          -1.4914130382877966,
          -1.4107957310164405,
          -0.4184816338943611,
          1.1964942739671964,
          -0.42009278182817616,
          0.10668530708683387,
          -0.7525150643124401,
          -0.010377553383409528,
          -0.2561262290407313,
          -0.5193080456284674,
          0.2376140021029851,
          0.22650863712631936,
          -0.023683051465336405,
          -0.10574186404763539,
          -1.3388266088658878,
          1.8649371415743328,
          -0.0011472808149724546,
          -0.5809929109198254,
          0.7474919614838859,
          -0.816872565749726,
          1.0410209931608316,
          -0.39785709352618437,
          -1.0815621564988975,
          1.176812583300365,
          0.9895727666875234,
          -0.756797865773887,
          -0.3816828597434053,
          0.42707439730370905,
          -0.1562011388869837,
          0.9675610510066449,
          0.02891219020418467,
          -0.6378898829804626,
          -0.8479768977153376,
          -0.41446797004090963,
          2.564737002195348,
          0.13364725564235924,
          -0.6973271644929159,
          -0.4527411973437712,
          -1.0237425044832327
         ],
         "yaxis": "y7"
        },
        {
         "line": {
          "color": "rgba(128, 128, 128, 1.0)",
          "dash": "solid",
          "shape": "linear",
          "width": 1.3
         },
         "marker": {
          "size": 2,
          "symbol": "circle"
         },
         "mode": "markers",
         "name": "B",
         "text": "",
         "type": "scatter",
         "x": [
          0.6893397535031753,
          -0.634782770197293,
          -1.3651647455238947,
          0.5659178518454178,
          0.14146422009809448,
          0.20585568742835458,
          -0.323569057620845,
          0.24781586608556125,
          0.8208949499246398,
          1.3351105498079698,
          0.7989279478030678,
          -0.6468933836371301,
          0.39863035992129003,
          0.47095104852203645,
          0.2693234881822479,
          0.5149635994224956,
          0.540039861790419,
          -1.0560385502243055,
          1.420309355013242,
          -1.3271645563971741,
          0.02428842976034102,
          -1.1279761762651903,
          0.7425629834247508,
          0.12454951520226333,
          -0.8900025088723069,
          -1.0415293745293592,
          -1.032703442507068,
          0.08858842850306446,
          0.21673451116324674,
          1.0773810976744913,
          -0.8005023910645993,
          -0.8250117982933071,
          -0.875049873565815,
          0.12047064633653336,
          1.5518281540606154,
          -0.48950713262227397,
          1.158258147987117,
          0.11856343615655199,
          1.6570380736340358,
          2.127076507548714,
          -1.5071492237481672,
          1.3878540441851652,
          1.7967392604687493,
          -2.427511091257778,
          0.6638920325166114,
          -1.0243866636811134,
          -0.9977307088517342,
          1.1332705619033097,
          0.1787949995440567,
          1.8294622360138504,
          1.336117505283273,
          -0.9747308204149058,
          -0.21060626994445616,
          -1.6792949349020025,
          -1.6977453195697814,
          -1.486859332377673,
          0.4614839606236429,
          1.7033598737816464,
          0.3469648988028317,
          -0.6698873840875732,
          1.1598972264121405,
          0.6215349000091484,
          -1.2264167086553013,
          0.23438318536696298,
          1.0633039804419662,
          0.14760634745273152,
          1.2677451019504973,
          0.6535051309470021,
          -0.6851207475862858,
          -1.8591972638103833,
          -0.37396971449307076,
          -1.2208452591467445,
          0.18790967127387492,
          -0.6058533913589577,
          0.01130864506496672,
          -3.1060627472728273,
          -0.27687656929833604,
          0.34068588900417174,
          -0.04575381175627021,
          0.9099625078425607,
          -0.5794692122519473,
          -0.1965604817374992,
          -0.30034716768779113,
          -0.8263038743589,
          0.3559471996961158,
          -0.618517658506671,
          -0.5489259138475905,
          -1.192280245987357,
          -0.17765596325209876,
          -1.7786305738644168,
          0.6023764476041314,
          0.5177743526185985,
          1.625948563551156,
          0.732401806275617,
          0.5159331202280345,
          0.9004335661442393,
          0.12533332537820574,
          0.05145474359691806,
          -1.1901492124514266,
          1.3226574609114097
         ],
         "xaxis": "x8",
         "y": [
          -1.4475834439088642,
          1.936342110293859,
          1.5703019396317082,
          -1.141171509843668,
          0.7086983057483757,
          -0.21548691100100484,
          -0.4935357265485408,
          -0.40008675780020697,
          0.24466237321409023,
          -0.5575940599375178,
          0.7174291311785046,
          0.6066901397467638,
          0.7183279064527168,
          0.9037822643675042,
          0.7922052580156334,
          0.33548132017685217,
          -0.20261143372834065,
          0.7973085569924002,
          1.0992036024784997,
          -0.49476558867100884,
          -0.33780792682176386,
          -1.338637353195344,
          1.1385637433257803,
          -0.20322491634641116,
          0.6844714764071702,
          -0.16617105280152625,
          1.3721896447655835,
          -0.432825142025372,
          -0.6979376497189357,
          -1.827219084945071,
          -0.08870604821904153,
          -0.7593429321290202,
          -1.1452326196090716,
          -0.6591873413644148,
          -0.024453262800700207,
          2.8961064396206346,
          1.363739087484403,
          -0.020299241643240123,
          -0.5503581956789931,
          0.202981852523745,
          -0.04318579863195509,
          1.3640507313160912,
          -1.0280179913191263,
          0.21129179119723718,
          0.10297146234534578,
          -1.2433243782994525,
          -0.021709600661412465,
          1.1984399083378903,
          -1.3599613321180355,
          1.3891357969076896,
          0.07820929637177787,
          -0.6378218867551335,
          -1.0039159825678918,
          -2.126997043628774,
          0.06341984518776161,
          0.32731593946564225,
          2.0722346896488597,
          -1.8756884771290674,
          -1.8738446512520954,
          -0.1688759685449708,
          0.345763386677497,
          -1.4914130382877966,
          -1.4107957310164405,
          -0.4184816338943611,
          1.1964942739671964,
          -0.42009278182817616,
          0.10668530708683387,
          -0.7525150643124401,
          -0.010377553383409528,
          -0.2561262290407313,
          -0.5193080456284674,
          0.2376140021029851,
          0.22650863712631936,
          -0.023683051465336405,
          -0.10574186404763539,
          -1.3388266088658878,
          1.8649371415743328,
          -0.0011472808149724546,
          -0.5809929109198254,
          0.7474919614838859,
          -0.816872565749726,
          1.0410209931608316,
          -0.39785709352618437,
          -1.0815621564988975,
          1.176812583300365,
          0.9895727666875234,
          -0.756797865773887,
          -0.3816828597434053,
          0.42707439730370905,
          -0.1562011388869837,
          0.9675610510066449,
          0.02891219020418467,
          -0.6378898829804626,
          -0.8479768977153376,
          -0.41446797004090963,
          2.564737002195348,
          0.13364725564235924,
          -0.6973271644929159,
          -0.4527411973437712,
          -1.0237425044832327
         ],
         "yaxis": "y8"
        },
        {
         "line": {
          "color": "rgba(128, 128, 128, 1.0)",
          "dash": "solid",
          "shape": "linear",
          "width": 1.3
         },
         "marker": {
          "size": 2,
          "symbol": "circle"
         },
         "mode": "markers",
         "name": "C",
         "text": "",
         "type": "scatter",
         "x": [
          0.9273501686452831,
          -0.5336819713432426,
          -0.4719061159137588,
          -0.9892039772850318,
          1.745699378229749,
          -0.26335462861925224,
          0.7908256324744336,
          -0.018916685629151987,
          1.4362821330775597,
          -0.32503355428080577,
          0.153676829720251,
          1.1318065272893738,
          0.08839548036838218,
          -0.13371513443907548,
          0.04554308700723792,
          -0.05877157631492504,
          0.9319619775407781,
          -0.892681343719326,
          -0.23869875455176157,
          -0.8071351942969122,
          -0.8460637342785593,
          0.5435124105045299,
          1.8829768691003779,
          0.26018907025834476,
          -0.9630329187123825,
          0.5924332239870846,
          0.05224067716215473,
          -0.22741409274250976,
          0.12187361251470992,
          0.195255432340129,
          -3.1675899599066684,
          0.4368530139763862,
          1.9289359381994984,
          0.8056938127943846,
          -0.37292655824780185,
          0.6512746095656167,
          -0.9938636126479036,
          0.7862381402545336,
          -1.1287854744382666,
          0.6094151867668576,
          -1.3345012926132753,
          -0.02281986102852559,
          2.1763311981289886,
          -0.09963573401996252,
          0.8464995922182782,
          -1.2042004296695825,
          2.1203247152475537,
          0.36791612384551403,
          -0.23999914272661843,
          0.024080904242700003,
          0.03482469604660009,
          1.8265286417264184,
          0.49707787161574435,
          -0.5323481640582688,
          -0.5904516820742872,
          -0.31429352820806933,
          -0.20083676978802706,
          -0.24576824746640213,
          0.4490649374540152,
          0.009106977618565758,
          -0.2601190686513889,
          -0.4885809019711191,
          -0.7065650259075594,
          -0.5655889024607965,
          1.1242265905343243,
          -1.289422567292631,
          -0.11079106339526591,
          0.025175648703488762,
          -1.0654028367316437,
          0.5876369583983077,
          -1.2193627328117418,
          0.27503948246745363,
          0.20062669512915307,
          -0.712497095962588,
          -0.5936065482919237,
          0.3162171738816598,
          -2.0801283752733593,
          0.05481389727834878,
          0.29834235948809595,
          -0.25193217959399716,
          -0.18815985965566256,
          -1.0993840202389924,
          1.3720808925772439,
          -1.3901447430249643,
          0.2952706310041869,
          -0.14215402384411635,
          0.2557152281650664,
          0.05237368863656635,
          0.1665134157650504,
          0.32752167656534614,
          -0.02638737238095419,
          -0.07622496454221706,
          1.5158939538061444,
          1.2842668521004519,
          1.1900091488359847,
          0.11950465514627728,
          0.20792715338952203,
          -0.7069618004958248,
          -1.0060679633961014,
          0.7402869780165224
         ],
         "xaxis": "x9",
         "y": [
          1.4049242054570623,
          0.1547621834006053,
          0.6427377446553894,
          0.14176958512210536,
          0.6452742473253624,
          -1.1029515760211577,
          0.004636889360956238,
          -1.4867686806843832,
          1.5347473240196792,
          0.15995536296369012,
          0.31029386900621286,
          -1.549795310649013,
          0.4618488125890316,
          1.1201251521430575,
          0.4690802803947774,
          1.6432681308561372,
          0.008389568495615356,
          -0.01239621104004811,
          0.24131053638423328,
          -1.4103219963121891,
          1.2492004628011075,
          0.18955669364213737,
          0.8157350982642384,
          0.07675734152535334,
          -0.30505179092398904,
          -0.5078562267149158,
          -0.4179911704810528,
          0.5408776143582213,
          1.8372513308449336,
          -0.2501002967666486,
          0.1996512023214983,
          0.8691901065752327,
          0.4495597707471277,
          -2.801023933962865,
          -0.8238229519352759,
          0.04128400296717988,
          -0.6901701140888579,
          1.1916495037586128,
          -0.9295614751372788,
          -0.3231576891007971,
          -0.7040182646953186,
          1.9790020173304628,
          0.985673156309637,
          0.6222213952844792,
          -0.1690695981714178,
          1.3063478136705455,
          -0.5537556528688246,
          0.06401592476986435,
          -0.0008402575602733345,
          -0.5639327228761422,
          0.6608360365296245,
          0.2932081224527548,
          0.6024607368840637,
          0.6096916892907379,
          -0.8679904449478311,
          -0.12208563224647935,
          -1.132526357998367,
          -0.3968559663885494,
          0.5730640969363368,
          0.3827904667250426,
          -0.8200063265474274,
          -0.45552898404631365,
          0.08141056318368534,
          0.5051122350181024,
          -2.0250450421281125,
          0.014663387828365947,
          0.5667760720620605,
          0.2022882687234411,
          1.187387385536581,
          1.0189024742420798,
          -0.7298071957786113,
          0.05948535909929114,
          -0.5079171949110749,
          -0.7440860797142066,
          0.3268609879345079,
          1.4598066328833745,
          1.012654544868541,
          -0.6403355542078821,
          -0.08502020694767025,
          1.4850038202651428,
          0.08081454059719645,
          0.2627642445729847,
          -0.8642028436313269,
          -0.49831337549218374,
          -0.2800136845430416,
          0.040417289509109944,
          -1.144179761118651,
          1.807443770703011,
          0.3806342224989023,
          1.2287603745892146,
          0.8735308102245346,
          -0.8352237499555955,
          1.2123633864099363,
          0.5996684543315636,
          -1.2552732180664523,
          -0.33749497322565136,
          -0.3596282323596586,
          -0.36185868788703535,
          0.8894345743403884,
          -0.8404253713393572
         ],
         "yaxis": "y9"
        },
        {
         "line": {
          "color": "rgba(128, 128, 128, 1.0)",
          "dash": "solid",
          "shape": "linear",
          "width": 1.3
         },
         "marker": {
          "size": 2,
          "symbol": "circle"
         },
         "mode": "markers",
         "name": "C",
         "text": "",
         "type": "scatter",
         "x": [
          -1.4475834439088642,
          1.936342110293859,
          1.5703019396317082,
          -1.141171509843668,
          0.7086983057483757,
          -0.21548691100100484,
          -0.4935357265485408,
          -0.40008675780020697,
          0.24466237321409023,
          -0.5575940599375178,
          0.7174291311785046,
          0.6066901397467638,
          0.7183279064527168,
          0.9037822643675042,
          0.7922052580156334,
          0.33548132017685217,
          -0.20261143372834065,
          0.7973085569924002,
          1.0992036024784997,
          -0.49476558867100884,
          -0.33780792682176386,
          -1.338637353195344,
          1.1385637433257803,
          -0.20322491634641116,
          0.6844714764071702,
          -0.16617105280152625,
          1.3721896447655835,
          -0.432825142025372,
          -0.6979376497189357,
          -1.827219084945071,
          -0.08870604821904153,
          -0.7593429321290202,
          -1.1452326196090716,
          -0.6591873413644148,
          -0.024453262800700207,
          2.8961064396206346,
          1.363739087484403,
          -0.020299241643240123,
          -0.5503581956789931,
          0.202981852523745,
          -0.04318579863195509,
          1.3640507313160912,
          -1.0280179913191263,
          0.21129179119723718,
          0.10297146234534578,
          -1.2433243782994525,
          -0.021709600661412465,
          1.1984399083378903,
          -1.3599613321180355,
          1.3891357969076896,
          0.07820929637177787,
          -0.6378218867551335,
          -1.0039159825678918,
          -2.126997043628774,
          0.06341984518776161,
          0.32731593946564225,
          2.0722346896488597,
          -1.8756884771290674,
          -1.8738446512520954,
          -0.1688759685449708,
          0.345763386677497,
          -1.4914130382877966,
          -1.4107957310164405,
          -0.4184816338943611,
          1.1964942739671964,
          -0.42009278182817616,
          0.10668530708683387,
          -0.7525150643124401,
          -0.010377553383409528,
          -0.2561262290407313,
          -0.5193080456284674,
          0.2376140021029851,
          0.22650863712631936,
          -0.023683051465336405,
          -0.10574186404763539,
          -1.3388266088658878,
          1.8649371415743328,
          -0.0011472808149724546,
          -0.5809929109198254,
          0.7474919614838859,
          -0.816872565749726,
          1.0410209931608316,
          -0.39785709352618437,
          -1.0815621564988975,
          1.176812583300365,
          0.9895727666875234,
          -0.756797865773887,
          -0.3816828597434053,
          0.42707439730370905,
          -0.1562011388869837,
          0.9675610510066449,
          0.02891219020418467,
          -0.6378898829804626,
          -0.8479768977153376,
          -0.41446797004090963,
          2.564737002195348,
          0.13364725564235924,
          -0.6973271644929159,
          -0.4527411973437712,
          -1.0237425044832327
         ],
         "xaxis": "x10",
         "y": [
          1.4049242054570623,
          0.1547621834006053,
          0.6427377446553894,
          0.14176958512210536,
          0.6452742473253624,
          -1.1029515760211577,
          0.004636889360956238,
          -1.4867686806843832,
          1.5347473240196792,
          0.15995536296369012,
          0.31029386900621286,
          -1.549795310649013,
          0.4618488125890316,
          1.1201251521430575,
          0.4690802803947774,
          1.6432681308561372,
          0.008389568495615356,
          -0.01239621104004811,
          0.24131053638423328,
          -1.4103219963121891,
          1.2492004628011075,
          0.18955669364213737,
          0.8157350982642384,
          0.07675734152535334,
          -0.30505179092398904,
          -0.5078562267149158,
          -0.4179911704810528,
          0.5408776143582213,
          1.8372513308449336,
          -0.2501002967666486,
          0.1996512023214983,
          0.8691901065752327,
          0.4495597707471277,
          -2.801023933962865,
          -0.8238229519352759,
          0.04128400296717988,
          -0.6901701140888579,
          1.1916495037586128,
          -0.9295614751372788,
          -0.3231576891007971,
          -0.7040182646953186,
          1.9790020173304628,
          0.985673156309637,
          0.6222213952844792,
          -0.1690695981714178,
          1.3063478136705455,
          -0.5537556528688246,
          0.06401592476986435,
          -0.0008402575602733345,
          -0.5639327228761422,
          0.6608360365296245,
          0.2932081224527548,
          0.6024607368840637,
          0.6096916892907379,
          -0.8679904449478311,
          -0.12208563224647935,
          -1.132526357998367,
          -0.3968559663885494,
          0.5730640969363368,
          0.3827904667250426,
          -0.8200063265474274,
          -0.45552898404631365,
          0.08141056318368534,
          0.5051122350181024,
          -2.0250450421281125,
          0.014663387828365947,
          0.5667760720620605,
          0.2022882687234411,
          1.187387385536581,
          1.0189024742420798,
          -0.7298071957786113,
          0.05948535909929114,
          -0.5079171949110749,
          -0.7440860797142066,
          0.3268609879345079,
          1.4598066328833745,
          1.012654544868541,
          -0.6403355542078821,
          -0.08502020694767025,
          1.4850038202651428,
          0.08081454059719645,
          0.2627642445729847,
          -0.8642028436313269,
          -0.49831337549218374,
          -0.2800136845430416,
          0.040417289509109944,
          -1.144179761118651,
          1.807443770703011,
          0.3806342224989023,
          1.2287603745892146,
          0.8735308102245346,
          -0.8352237499555955,
          1.2123633864099363,
          0.5996684543315636,
          -1.2552732180664523,
          -0.33749497322565136,
          -0.3596282323596586,
          -0.36185868788703535,
          0.8894345743403884,
          -0.8404253713393572
         ],
         "yaxis": "y10"
        },
        {
         "histfunc": "count",
         "histnorm": "",
         "marker": {
          "color": "rgba(50, 171, 96, 1.0)",
          "line": {
           "color": "#4D5663",
           "width": 1.3
          }
         },
         "name": "C",
         "nbinsx": 10,
         "opacity": 0.8,
         "orientation": "v",
         "type": "histogram",
         "x": [
          1.4049242054570623,
          0.1547621834006053,
          0.6427377446553894,
          0.14176958512210536,
          0.6452742473253624,
          -1.1029515760211577,
          0.004636889360956238,
          -1.4867686806843832,
          1.5347473240196792,
          0.15995536296369012,
          0.31029386900621286,
          -1.549795310649013,
          0.4618488125890316,
          1.1201251521430575,
          0.4690802803947774,
          1.6432681308561372,
          0.008389568495615356,
          -0.01239621104004811,
          0.24131053638423328,
          -1.4103219963121891,
          1.2492004628011075,
          0.18955669364213737,
          0.8157350982642384,
          0.07675734152535334,
          -0.30505179092398904,
          -0.5078562267149158,
          -0.4179911704810528,
          0.5408776143582213,
          1.8372513308449336,
          -0.2501002967666486,
          0.1996512023214983,
          0.8691901065752327,
          0.4495597707471277,
          -2.801023933962865,
          -0.8238229519352759,
          0.04128400296717988,
          -0.6901701140888579,
          1.1916495037586128,
          -0.9295614751372788,
          -0.3231576891007971,
          -0.7040182646953186,
          1.9790020173304628,
          0.985673156309637,
          0.6222213952844792,
          -0.1690695981714178,
          1.3063478136705455,
          -0.5537556528688246,
          0.06401592476986435,
          -0.0008402575602733345,
          -0.5639327228761422,
          0.6608360365296245,
          0.2932081224527548,
          0.6024607368840637,
          0.6096916892907379,
          -0.8679904449478311,
          -0.12208563224647935,
          -1.132526357998367,
          -0.3968559663885494,
          0.5730640969363368,
          0.3827904667250426,
          -0.8200063265474274,
          -0.45552898404631365,
          0.08141056318368534,
          0.5051122350181024,
          -2.0250450421281125,
          0.014663387828365947,
          0.5667760720620605,
          0.2022882687234411,
          1.187387385536581,
          1.0189024742420798,
          -0.7298071957786113,
          0.05948535909929114,
          -0.5079171949110749,
          -0.7440860797142066,
          0.3268609879345079,
          1.4598066328833745,
          1.012654544868541,
          -0.6403355542078821,
          -0.08502020694767025,
          1.4850038202651428,
          0.08081454059719645,
          0.2627642445729847,
          -0.8642028436313269,
          -0.49831337549218374,
          -0.2800136845430416,
          0.040417289509109944,
          -1.144179761118651,
          1.807443770703011,
          0.3806342224989023,
          1.2287603745892146,
          0.8735308102245346,
          -0.8352237499555955,
          1.2123633864099363,
          0.5996684543315636,
          -1.2552732180664523,
          -0.33749497322565136,
          -0.3596282323596586,
          -0.36185868788703535,
          0.8894345743403884,
          -0.8404253713393572
         ],
         "xaxis": "x11",
         "yaxis": "y11"
        },
        {
         "line": {
          "color": "rgba(128, 128, 128, 1.0)",
          "dash": "solid",
          "shape": "linear",
          "width": 1.3
         },
         "marker": {
          "size": 2,
          "symbol": "circle"
         },
         "mode": "markers",
         "name": "C",
         "text": "",
         "type": "scatter",
         "x": [
          0.6893397535031753,
          -0.634782770197293,
          -1.3651647455238947,
          0.5659178518454178,
          0.14146422009809448,
          0.20585568742835458,
          -0.323569057620845,
          0.24781586608556125,
          0.8208949499246398,
          1.3351105498079698,
          0.7989279478030678,
          -0.6468933836371301,
          0.39863035992129003,
          0.47095104852203645,
          0.2693234881822479,
          0.5149635994224956,
          0.540039861790419,
          -1.0560385502243055,
          1.420309355013242,
          -1.3271645563971741,
          0.02428842976034102,
          -1.1279761762651903,
          0.7425629834247508,
          0.12454951520226333,
          -0.8900025088723069,
          -1.0415293745293592,
          -1.032703442507068,
          0.08858842850306446,
          0.21673451116324674,
          1.0773810976744913,
          -0.8005023910645993,
          -0.8250117982933071,
          -0.875049873565815,
          0.12047064633653336,
          1.5518281540606154,
          -0.48950713262227397,
          1.158258147987117,
          0.11856343615655199,
          1.6570380736340358,
          2.127076507548714,
          -1.5071492237481672,
          1.3878540441851652,
          1.7967392604687493,
          -2.427511091257778,
          0.6638920325166114,
          -1.0243866636811134,
          -0.9977307088517342,
          1.1332705619033097,
          0.1787949995440567,
          1.8294622360138504,
          1.336117505283273,
          -0.9747308204149058,
          -0.21060626994445616,
          -1.6792949349020025,
          -1.6977453195697814,
          -1.486859332377673,
          0.4614839606236429,
          1.7033598737816464,
          0.3469648988028317,
          -0.6698873840875732,
          1.1598972264121405,
          0.6215349000091484,
          -1.2264167086553013,
          0.23438318536696298,
          1.0633039804419662,
          0.14760634745273152,
          1.2677451019504973,
          0.6535051309470021,
          -0.6851207475862858,
          -1.8591972638103833,
          -0.37396971449307076,
          -1.2208452591467445,
          0.18790967127387492,
          -0.6058533913589577,
          0.01130864506496672,
          -3.1060627472728273,
          -0.27687656929833604,
          0.34068588900417174,
          -0.04575381175627021,
          0.9099625078425607,
          -0.5794692122519473,
          -0.1965604817374992,
          -0.30034716768779113,
          -0.8263038743589,
          0.3559471996961158,
          -0.618517658506671,
          -0.5489259138475905,
          -1.192280245987357,
          -0.17765596325209876,
          -1.7786305738644168,
          0.6023764476041314,
          0.5177743526185985,
          1.625948563551156,
          0.732401806275617,
          0.5159331202280345,
          0.9004335661442393,
          0.12533332537820574,
          0.05145474359691806,
          -1.1901492124514266,
          1.3226574609114097
         ],
         "xaxis": "x12",
         "y": [
          1.4049242054570623,
          0.1547621834006053,
          0.6427377446553894,
          0.14176958512210536,
          0.6452742473253624,
          -1.1029515760211577,
          0.004636889360956238,
          -1.4867686806843832,
          1.5347473240196792,
          0.15995536296369012,
          0.31029386900621286,
          -1.549795310649013,
          0.4618488125890316,
          1.1201251521430575,
          0.4690802803947774,
          1.6432681308561372,
          0.008389568495615356,
          -0.01239621104004811,
          0.24131053638423328,
          -1.4103219963121891,
          1.2492004628011075,
          0.18955669364213737,
          0.8157350982642384,
          0.07675734152535334,
          -0.30505179092398904,
          -0.5078562267149158,
          -0.4179911704810528,
          0.5408776143582213,
          1.8372513308449336,
          -0.2501002967666486,
          0.1996512023214983,
          0.8691901065752327,
          0.4495597707471277,
          -2.801023933962865,
          -0.8238229519352759,
          0.04128400296717988,
          -0.6901701140888579,
          1.1916495037586128,
          -0.9295614751372788,
          -0.3231576891007971,
          -0.7040182646953186,
          1.9790020173304628,
          0.985673156309637,
          0.6222213952844792,
          -0.1690695981714178,
          1.3063478136705455,
          -0.5537556528688246,
          0.06401592476986435,
          -0.0008402575602733345,
          -0.5639327228761422,
          0.6608360365296245,
          0.2932081224527548,
          0.6024607368840637,
          0.6096916892907379,
          -0.8679904449478311,
          -0.12208563224647935,
          -1.132526357998367,
          -0.3968559663885494,
          0.5730640969363368,
          0.3827904667250426,
          -0.8200063265474274,
          -0.45552898404631365,
          0.08141056318368534,
          0.5051122350181024,
          -2.0250450421281125,
          0.014663387828365947,
          0.5667760720620605,
          0.2022882687234411,
          1.187387385536581,
          1.0189024742420798,
          -0.7298071957786113,
          0.05948535909929114,
          -0.5079171949110749,
          -0.7440860797142066,
          0.3268609879345079,
          1.4598066328833745,
          1.012654544868541,
          -0.6403355542078821,
          -0.08502020694767025,
          1.4850038202651428,
          0.08081454059719645,
          0.2627642445729847,
          -0.8642028436313269,
          -0.49831337549218374,
          -0.2800136845430416,
          0.040417289509109944,
          -1.144179761118651,
          1.807443770703011,
          0.3806342224989023,
          1.2287603745892146,
          0.8735308102245346,
          -0.8352237499555955,
          1.2123633864099363,
          0.5996684543315636,
          -1.2552732180664523,
          -0.33749497322565136,
          -0.3596282323596586,
          -0.36185868788703535,
          0.8894345743403884,
          -0.8404253713393572
         ],
         "yaxis": "y12"
        },
        {
         "line": {
          "color": "rgba(128, 128, 128, 1.0)",
          "dash": "solid",
          "shape": "linear",
          "width": 1.3
         },
         "marker": {
          "size": 2,
          "symbol": "circle"
         },
         "mode": "markers",
         "name": "D",
         "text": "",
         "type": "scatter",
         "x": [
          0.9273501686452831,
          -0.5336819713432426,
          -0.4719061159137588,
          -0.9892039772850318,
          1.745699378229749,
          -0.26335462861925224,
          0.7908256324744336,
          -0.018916685629151987,
          1.4362821330775597,
          -0.32503355428080577,
          0.153676829720251,
          1.1318065272893738,
          0.08839548036838218,
          -0.13371513443907548,
          0.04554308700723792,
          -0.05877157631492504,
          0.9319619775407781,
          -0.892681343719326,
          -0.23869875455176157,
          -0.8071351942969122,
          -0.8460637342785593,
          0.5435124105045299,
          1.8829768691003779,
          0.26018907025834476,
          -0.9630329187123825,
          0.5924332239870846,
          0.05224067716215473,
          -0.22741409274250976,
          0.12187361251470992,
          0.195255432340129,
          -3.1675899599066684,
          0.4368530139763862,
          1.9289359381994984,
          0.8056938127943846,
          -0.37292655824780185,
          0.6512746095656167,
          -0.9938636126479036,
          0.7862381402545336,
          -1.1287854744382666,
          0.6094151867668576,
          -1.3345012926132753,
          -0.02281986102852559,
          2.1763311981289886,
          -0.09963573401996252,
          0.8464995922182782,
          -1.2042004296695825,
          2.1203247152475537,
          0.36791612384551403,
          -0.23999914272661843,
          0.024080904242700003,
          0.03482469604660009,
          1.8265286417264184,
          0.49707787161574435,
          -0.5323481640582688,
          -0.5904516820742872,
          -0.31429352820806933,
          -0.20083676978802706,
          -0.24576824746640213,
          0.4490649374540152,
          0.009106977618565758,
          -0.2601190686513889,
          -0.4885809019711191,
          -0.7065650259075594,
          -0.5655889024607965,
          1.1242265905343243,
          -1.289422567292631,
          -0.11079106339526591,
          0.025175648703488762,
          -1.0654028367316437,
          0.5876369583983077,
          -1.2193627328117418,
          0.27503948246745363,
          0.20062669512915307,
          -0.712497095962588,
          -0.5936065482919237,
          0.3162171738816598,
          -2.0801283752733593,
          0.05481389727834878,
          0.29834235948809595,
          -0.25193217959399716,
          -0.18815985965566256,
          -1.0993840202389924,
          1.3720808925772439,
          -1.3901447430249643,
          0.2952706310041869,
          -0.14215402384411635,
          0.2557152281650664,
          0.05237368863656635,
          0.1665134157650504,
          0.32752167656534614,
          -0.02638737238095419,
          -0.07622496454221706,
          1.5158939538061444,
          1.2842668521004519,
          1.1900091488359847,
          0.11950465514627728,
          0.20792715338952203,
          -0.7069618004958248,
          -1.0060679633961014,
          0.7402869780165224
         ],
         "xaxis": "x13",
         "y": [
          0.6893397535031753,
          -0.634782770197293,
          -1.3651647455238947,
          0.5659178518454178,
          0.14146422009809448,
          0.20585568742835458,
          -0.323569057620845,
          0.24781586608556125,
          0.8208949499246398,
          1.3351105498079698,
          0.7989279478030678,
          -0.6468933836371301,
          0.39863035992129003,
          0.47095104852203645,
          0.2693234881822479,
          0.5149635994224956,
          0.540039861790419,
          -1.0560385502243055,
          1.420309355013242,
          -1.3271645563971741,
          0.02428842976034102,
          -1.1279761762651903,
          0.7425629834247508,
          0.12454951520226333,
          -0.8900025088723069,
          -1.0415293745293592,
          -1.032703442507068,
          0.08858842850306446,
          0.21673451116324674,
          1.0773810976744913,
          -0.8005023910645993,
          -0.8250117982933071,
          -0.875049873565815,
          0.12047064633653336,
          1.5518281540606154,
          -0.48950713262227397,
          1.158258147987117,
          0.11856343615655199,
          1.6570380736340358,
          2.127076507548714,
          -1.5071492237481672,
          1.3878540441851652,
          1.7967392604687493,
          -2.427511091257778,
          0.6638920325166114,
          -1.0243866636811134,
          -0.9977307088517342,
          1.1332705619033097,
          0.1787949995440567,
          1.8294622360138504,
          1.336117505283273,
          -0.9747308204149058,
          -0.21060626994445616,
          -1.6792949349020025,
          -1.6977453195697814,
          -1.486859332377673,
          0.4614839606236429,
          1.7033598737816464,
          0.3469648988028317,
          -0.6698873840875732,
          1.1598972264121405,
          0.6215349000091484,
          -1.2264167086553013,
          0.23438318536696298,
          1.0633039804419662,
          0.14760634745273152,
          1.2677451019504973,
          0.6535051309470021,
          -0.6851207475862858,
          -1.8591972638103833,
          -0.37396971449307076,
          -1.2208452591467445,
          0.18790967127387492,
          -0.6058533913589577,
          0.01130864506496672,
          -3.1060627472728273,
          -0.27687656929833604,
          0.34068588900417174,
          -0.04575381175627021,
          0.9099625078425607,
          -0.5794692122519473,
          -0.1965604817374992,
          -0.30034716768779113,
          -0.8263038743589,
          0.3559471996961158,
          -0.618517658506671,
          -0.5489259138475905,
          -1.192280245987357,
          -0.17765596325209876,
          -1.7786305738644168,
          0.6023764476041314,
          0.5177743526185985,
          1.625948563551156,
          0.732401806275617,
          0.5159331202280345,
          0.9004335661442393,
          0.12533332537820574,
          0.05145474359691806,
          -1.1901492124514266,
          1.3226574609114097
         ],
         "yaxis": "y13"
        },
        {
         "line": {
          "color": "rgba(128, 128, 128, 1.0)",
          "dash": "solid",
          "shape": "linear",
          "width": 1.3
         },
         "marker": {
          "size": 2,
          "symbol": "circle"
         },
         "mode": "markers",
         "name": "D",
         "text": "",
         "type": "scatter",
         "x": [
          -1.4475834439088642,
          1.936342110293859,
          1.5703019396317082,
          -1.141171509843668,
          0.7086983057483757,
          -0.21548691100100484,
          -0.4935357265485408,
          -0.40008675780020697,
          0.24466237321409023,
          -0.5575940599375178,
          0.7174291311785046,
          0.6066901397467638,
          0.7183279064527168,
          0.9037822643675042,
          0.7922052580156334,
          0.33548132017685217,
          -0.20261143372834065,
          0.7973085569924002,
          1.0992036024784997,
          -0.49476558867100884,
          -0.33780792682176386,
          -1.338637353195344,
          1.1385637433257803,
          -0.20322491634641116,
          0.6844714764071702,
          -0.16617105280152625,
          1.3721896447655835,
          -0.432825142025372,
          -0.6979376497189357,
          -1.827219084945071,
          -0.08870604821904153,
          -0.7593429321290202,
          -1.1452326196090716,
          -0.6591873413644148,
          -0.024453262800700207,
          2.8961064396206346,
          1.363739087484403,
          -0.020299241643240123,
          -0.5503581956789931,
          0.202981852523745,
          -0.04318579863195509,
          1.3640507313160912,
          -1.0280179913191263,
          0.21129179119723718,
          0.10297146234534578,
          -1.2433243782994525,
          -0.021709600661412465,
          1.1984399083378903,
          -1.3599613321180355,
          1.3891357969076896,
          0.07820929637177787,
          -0.6378218867551335,
          -1.0039159825678918,
          -2.126997043628774,
          0.06341984518776161,
          0.32731593946564225,
          2.0722346896488597,
          -1.8756884771290674,
          -1.8738446512520954,
          -0.1688759685449708,
          0.345763386677497,
          -1.4914130382877966,
          -1.4107957310164405,
          -0.4184816338943611,
          1.1964942739671964,
          -0.42009278182817616,
          0.10668530708683387,
          -0.7525150643124401,
          -0.010377553383409528,
          -0.2561262290407313,
          -0.5193080456284674,
          0.2376140021029851,
          0.22650863712631936,
          -0.023683051465336405,
          -0.10574186404763539,
          -1.3388266088658878,
          1.8649371415743328,
          -0.0011472808149724546,
          -0.5809929109198254,
          0.7474919614838859,
          -0.816872565749726,
          1.0410209931608316,
          -0.39785709352618437,
          -1.0815621564988975,
          1.176812583300365,
          0.9895727666875234,
          -0.756797865773887,
          -0.3816828597434053,
          0.42707439730370905,
          -0.1562011388869837,
          0.9675610510066449,
          0.02891219020418467,
          -0.6378898829804626,
          -0.8479768977153376,
          -0.41446797004090963,
          2.564737002195348,
          0.13364725564235924,
          -0.6973271644929159,
          -0.4527411973437712,
          -1.0237425044832327
         ],
         "xaxis": "x14",
         "y": [
          0.6893397535031753,
          -0.634782770197293,
          -1.3651647455238947,
          0.5659178518454178,
          0.14146422009809448,
          0.20585568742835458,
          -0.323569057620845,
          0.24781586608556125,
          0.8208949499246398,
          1.3351105498079698,
          0.7989279478030678,
          -0.6468933836371301,
          0.39863035992129003,
          0.47095104852203645,
          0.2693234881822479,
          0.5149635994224956,
          0.540039861790419,
          -1.0560385502243055,
          1.420309355013242,
          -1.3271645563971741,
          0.02428842976034102,
          -1.1279761762651903,
          0.7425629834247508,
          0.12454951520226333,
          -0.8900025088723069,
          -1.0415293745293592,
          -1.032703442507068,
          0.08858842850306446,
          0.21673451116324674,
          1.0773810976744913,
          -0.8005023910645993,
          -0.8250117982933071,
          -0.875049873565815,
          0.12047064633653336,
          1.5518281540606154,
          -0.48950713262227397,
          1.158258147987117,
          0.11856343615655199,
          1.6570380736340358,
          2.127076507548714,
          -1.5071492237481672,
          1.3878540441851652,
          1.7967392604687493,
          -2.427511091257778,
          0.6638920325166114,
          -1.0243866636811134,
          -0.9977307088517342,
          1.1332705619033097,
          0.1787949995440567,
          1.8294622360138504,
          1.336117505283273,
          -0.9747308204149058,
          -0.21060626994445616,
          -1.6792949349020025,
          -1.6977453195697814,
          -1.486859332377673,
          0.4614839606236429,
          1.7033598737816464,
          0.3469648988028317,
          -0.6698873840875732,
          1.1598972264121405,
          0.6215349000091484,
          -1.2264167086553013,
          0.23438318536696298,
          1.0633039804419662,
          0.14760634745273152,
          1.2677451019504973,
          0.6535051309470021,
          -0.6851207475862858,
          -1.8591972638103833,
          -0.37396971449307076,
          -1.2208452591467445,
          0.18790967127387492,
          -0.6058533913589577,
          0.01130864506496672,
          -3.1060627472728273,
          -0.27687656929833604,
          0.34068588900417174,
          -0.04575381175627021,
          0.9099625078425607,
          -0.5794692122519473,
          -0.1965604817374992,
          -0.30034716768779113,
          -0.8263038743589,
          0.3559471996961158,
          -0.618517658506671,
          -0.5489259138475905,
          -1.192280245987357,
          -0.17765596325209876,
          -1.7786305738644168,
          0.6023764476041314,
          0.5177743526185985,
          1.625948563551156,
          0.732401806275617,
          0.5159331202280345,
          0.9004335661442393,
          0.12533332537820574,
          0.05145474359691806,
          -1.1901492124514266,
          1.3226574609114097
         ],
         "yaxis": "y14"
        },
        {
         "line": {
          "color": "rgba(128, 128, 128, 1.0)",
          "dash": "solid",
          "shape": "linear",
          "width": 1.3
         },
         "marker": {
          "size": 2,
          "symbol": "circle"
         },
         "mode": "markers",
         "name": "D",
         "text": "",
         "type": "scatter",
         "x": [
          1.4049242054570623,
          0.1547621834006053,
          0.6427377446553894,
          0.14176958512210536,
          0.6452742473253624,
          -1.1029515760211577,
          0.004636889360956238,
          -1.4867686806843832,
          1.5347473240196792,
          0.15995536296369012,
          0.31029386900621286,
          -1.549795310649013,
          0.4618488125890316,
          1.1201251521430575,
          0.4690802803947774,
          1.6432681308561372,
          0.008389568495615356,
          -0.01239621104004811,
          0.24131053638423328,
          -1.4103219963121891,
          1.2492004628011075,
          0.18955669364213737,
          0.8157350982642384,
          0.07675734152535334,
          -0.30505179092398904,
          -0.5078562267149158,
          -0.4179911704810528,
          0.5408776143582213,
          1.8372513308449336,
          -0.2501002967666486,
          0.1996512023214983,
          0.8691901065752327,
          0.4495597707471277,
          -2.801023933962865,
          -0.8238229519352759,
          0.04128400296717988,
          -0.6901701140888579,
          1.1916495037586128,
          -0.9295614751372788,
          -0.3231576891007971,
          -0.7040182646953186,
          1.9790020173304628,
          0.985673156309637,
          0.6222213952844792,
          -0.1690695981714178,
          1.3063478136705455,
          -0.5537556528688246,
          0.06401592476986435,
          -0.0008402575602733345,
          -0.5639327228761422,
          0.6608360365296245,
          0.2932081224527548,
          0.6024607368840637,
          0.6096916892907379,
          -0.8679904449478311,
          -0.12208563224647935,
          -1.132526357998367,
          -0.3968559663885494,
          0.5730640969363368,
          0.3827904667250426,
          -0.8200063265474274,
          -0.45552898404631365,
          0.08141056318368534,
          0.5051122350181024,
          -2.0250450421281125,
          0.014663387828365947,
          0.5667760720620605,
          0.2022882687234411,
          1.187387385536581,
          1.0189024742420798,
          -0.7298071957786113,
          0.05948535909929114,
          -0.5079171949110749,
          -0.7440860797142066,
          0.3268609879345079,
          1.4598066328833745,
          1.012654544868541,
          -0.6403355542078821,
          -0.08502020694767025,
          1.4850038202651428,
          0.08081454059719645,
          0.2627642445729847,
          -0.8642028436313269,
          -0.49831337549218374,
          -0.2800136845430416,
          0.040417289509109944,
          -1.144179761118651,
          1.807443770703011,
          0.3806342224989023,
          1.2287603745892146,
          0.8735308102245346,
          -0.8352237499555955,
          1.2123633864099363,
          0.5996684543315636,
          -1.2552732180664523,
          -0.33749497322565136,
          -0.3596282323596586,
          -0.36185868788703535,
          0.8894345743403884,
          -0.8404253713393572
         ],
         "xaxis": "x15",
         "y": [
          0.6893397535031753,
          -0.634782770197293,
          -1.3651647455238947,
          0.5659178518454178,
          0.14146422009809448,
          0.20585568742835458,
          -0.323569057620845,
          0.24781586608556125,
          0.8208949499246398,
          1.3351105498079698,
          0.7989279478030678,
          -0.6468933836371301,
          0.39863035992129003,
          0.47095104852203645,
          0.2693234881822479,
          0.5149635994224956,
          0.540039861790419,
          -1.0560385502243055,
          1.420309355013242,
          -1.3271645563971741,
          0.02428842976034102,
          -1.1279761762651903,
          0.7425629834247508,
          0.12454951520226333,
          -0.8900025088723069,
          -1.0415293745293592,
          -1.032703442507068,
          0.08858842850306446,
          0.21673451116324674,
          1.0773810976744913,
          -0.8005023910645993,
          -0.8250117982933071,
          -0.875049873565815,
          0.12047064633653336,
          1.5518281540606154,
          -0.48950713262227397,
          1.158258147987117,
          0.11856343615655199,
          1.6570380736340358,
          2.127076507548714,
          -1.5071492237481672,
          1.3878540441851652,
          1.7967392604687493,
          -2.427511091257778,
          0.6638920325166114,
          -1.0243866636811134,
          -0.9977307088517342,
          1.1332705619033097,
          0.1787949995440567,
          1.8294622360138504,
          1.336117505283273,
          -0.9747308204149058,
          -0.21060626994445616,
          -1.6792949349020025,
          -1.6977453195697814,
          -1.486859332377673,
          0.4614839606236429,
          1.7033598737816464,
          0.3469648988028317,
          -0.6698873840875732,
          1.1598972264121405,
          0.6215349000091484,
          -1.2264167086553013,
          0.23438318536696298,
          1.0633039804419662,
          0.14760634745273152,
          1.2677451019504973,
          0.6535051309470021,
          -0.6851207475862858,
          -1.8591972638103833,
          -0.37396971449307076,
          -1.2208452591467445,
          0.18790967127387492,
          -0.6058533913589577,
          0.01130864506496672,
          -3.1060627472728273,
          -0.27687656929833604,
          0.34068588900417174,
          -0.04575381175627021,
          0.9099625078425607,
          -0.5794692122519473,
          -0.1965604817374992,
          -0.30034716768779113,
          -0.8263038743589,
          0.3559471996961158,
          -0.618517658506671,
          -0.5489259138475905,
          -1.192280245987357,
          -0.17765596325209876,
          -1.7786305738644168,
          0.6023764476041314,
          0.5177743526185985,
          1.625948563551156,
          0.732401806275617,
          0.5159331202280345,
          0.9004335661442393,
          0.12533332537820574,
          0.05145474359691806,
          -1.1901492124514266,
          1.3226574609114097
         ],
         "yaxis": "y15"
        },
        {
         "histfunc": "count",
         "histnorm": "",
         "marker": {
          "color": "rgba(128, 0, 128, 1.0)",
          "line": {
           "color": "#4D5663",
           "width": 1.3
          }
         },
         "name": "D",
         "nbinsx": 10,
         "opacity": 0.8,
         "orientation": "v",
         "type": "histogram",
         "x": [
          0.6893397535031753,
          -0.634782770197293,
          -1.3651647455238947,
          0.5659178518454178,
          0.14146422009809448,
          0.20585568742835458,
          -0.323569057620845,
          0.24781586608556125,
          0.8208949499246398,
          1.3351105498079698,
          0.7989279478030678,
          -0.6468933836371301,
          0.39863035992129003,
          0.47095104852203645,
          0.2693234881822479,
          0.5149635994224956,
          0.540039861790419,
          -1.0560385502243055,
          1.420309355013242,
          -1.3271645563971741,
          0.02428842976034102,
          -1.1279761762651903,
          0.7425629834247508,
          0.12454951520226333,
          -0.8900025088723069,
          -1.0415293745293592,
          -1.032703442507068,
          0.08858842850306446,
          0.21673451116324674,
          1.0773810976744913,
          -0.8005023910645993,
          -0.8250117982933071,
          -0.875049873565815,
          0.12047064633653336,
          1.5518281540606154,
          -0.48950713262227397,
          1.158258147987117,
          0.11856343615655199,
          1.6570380736340358,
          2.127076507548714,
          -1.5071492237481672,
          1.3878540441851652,
          1.7967392604687493,
          -2.427511091257778,
          0.6638920325166114,
          -1.0243866636811134,
          -0.9977307088517342,
          1.1332705619033097,
          0.1787949995440567,
          1.8294622360138504,
          1.336117505283273,
          -0.9747308204149058,
          -0.21060626994445616,
          -1.6792949349020025,
          -1.6977453195697814,
          -1.486859332377673,
          0.4614839606236429,
          1.7033598737816464,
          0.3469648988028317,
          -0.6698873840875732,
          1.1598972264121405,
          0.6215349000091484,
          -1.2264167086553013,
          0.23438318536696298,
          1.0633039804419662,
          0.14760634745273152,
          1.2677451019504973,
          0.6535051309470021,
          -0.6851207475862858,
          -1.8591972638103833,
          -0.37396971449307076,
          -1.2208452591467445,
          0.18790967127387492,
          -0.6058533913589577,
          0.01130864506496672,
          -3.1060627472728273,
          -0.27687656929833604,
          0.34068588900417174,
          -0.04575381175627021,
          0.9099625078425607,
          -0.5794692122519473,
          -0.1965604817374992,
          -0.30034716768779113,
          -0.8263038743589,
          0.3559471996961158,
          -0.618517658506671,
          -0.5489259138475905,
          -1.192280245987357,
          -0.17765596325209876,
          -1.7786305738644168,
          0.6023764476041314,
          0.5177743526185985,
          1.625948563551156,
          0.732401806275617,
          0.5159331202280345,
          0.9004335661442393,
          0.12533332537820574,
          0.05145474359691806,
          -1.1901492124514266,
          1.3226574609114097
         ],
         "xaxis": "x16",
         "yaxis": "y16"
        }
       ],
       "layout": {
        "bargap": 0.02,
        "legend": {
         "bgcolor": "#F5F6F9",
         "font": {
          "color": "#4D5663"
         }
        },
        "paper_bgcolor": "#F5F6F9",
        "plot_bgcolor": "#F5F6F9",
        "showlegend": false,
        "template": {
         "data": {
          "bar": [
           {
            "error_x": {
             "color": "#2a3f5f"
            },
            "error_y": {
             "color": "#2a3f5f"
            },
            "marker": {
             "line": {
              "color": "#E5ECF6",
              "width": 0.5
             }
            },
            "type": "bar"
           }
          ],
          "barpolar": [
           {
            "marker": {
             "line": {
              "color": "#E5ECF6",
              "width": 0.5
             }
            },
            "type": "barpolar"
           }
          ],
          "carpet": [
           {
            "aaxis": {
             "endlinecolor": "#2a3f5f",
             "gridcolor": "white",
             "linecolor": "white",
             "minorgridcolor": "white",
             "startlinecolor": "#2a3f5f"
            },
            "baxis": {
             "endlinecolor": "#2a3f5f",
             "gridcolor": "white",
             "linecolor": "white",
             "minorgridcolor": "white",
             "startlinecolor": "#2a3f5f"
            },
            "type": "carpet"
           }
          ],
          "choropleth": [
           {
            "colorbar": {
             "outlinewidth": 0,
             "ticks": ""
            },
            "type": "choropleth"
           }
          ],
          "contour": [
           {
            "colorbar": {
             "outlinewidth": 0,
             "ticks": ""
            },
            "colorscale": [
             [
              0,
              "#0d0887"
             ],
             [
              0.1111111111111111,
              "#46039f"
             ],
             [
              0.2222222222222222,
              "#7201a8"
             ],
             [
              0.3333333333333333,
              "#9c179e"
             ],
             [
              0.4444444444444444,
              "#bd3786"
             ],
             [
              0.5555555555555556,
              "#d8576b"
             ],
             [
              0.6666666666666666,
              "#ed7953"
             ],
             [
              0.7777777777777778,
              "#fb9f3a"
             ],
             [
              0.8888888888888888,
              "#fdca26"
             ],
             [
              1,
              "#f0f921"
             ]
            ],
            "type": "contour"
           }
          ],
          "contourcarpet": [
           {
            "colorbar": {
             "outlinewidth": 0,
             "ticks": ""
            },
            "type": "contourcarpet"
           }
          ],
          "heatmap": [
           {
            "colorbar": {
             "outlinewidth": 0,
             "ticks": ""
            },
            "colorscale": [
             [
              0,
              "#0d0887"
             ],
             [
              0.1111111111111111,
              "#46039f"
             ],
             [
              0.2222222222222222,
              "#7201a8"
             ],
             [
              0.3333333333333333,
              "#9c179e"
             ],
             [
              0.4444444444444444,
              "#bd3786"
             ],
             [
              0.5555555555555556,
              "#d8576b"
             ],
             [
              0.6666666666666666,
              "#ed7953"
             ],
             [
              0.7777777777777778,
              "#fb9f3a"
             ],
             [
              0.8888888888888888,
              "#fdca26"
             ],
             [
              1,
              "#f0f921"
             ]
            ],
            "type": "heatmap"
           }
          ],
          "heatmapgl": [
           {
            "colorbar": {
             "outlinewidth": 0,
             "ticks": ""
            },
            "colorscale": [
             [
              0,
              "#0d0887"
             ],
             [
              0.1111111111111111,
              "#46039f"
             ],
             [
              0.2222222222222222,
              "#7201a8"
             ],
             [
              0.3333333333333333,
              "#9c179e"
             ],
             [
              0.4444444444444444,
              "#bd3786"
             ],
             [
              0.5555555555555556,
              "#d8576b"
             ],
             [
              0.6666666666666666,
              "#ed7953"
             ],
             [
              0.7777777777777778,
              "#fb9f3a"
             ],
             [
              0.8888888888888888,
              "#fdca26"
             ],
             [
              1,
              "#f0f921"
             ]
            ],
            "type": "heatmapgl"
           }
          ],
          "histogram": [
           {
            "marker": {
             "colorbar": {
              "outlinewidth": 0,
              "ticks": ""
             }
            },
            "type": "histogram"
           }
          ],
          "histogram2d": [
           {
            "colorbar": {
             "outlinewidth": 0,
             "ticks": ""
            },
            "colorscale": [
             [
              0,
              "#0d0887"
             ],
             [
              0.1111111111111111,
              "#46039f"
             ],
             [
              0.2222222222222222,
              "#7201a8"
             ],
             [
              0.3333333333333333,
              "#9c179e"
             ],
             [
              0.4444444444444444,
              "#bd3786"
             ],
             [
              0.5555555555555556,
              "#d8576b"
             ],
             [
              0.6666666666666666,
              "#ed7953"
             ],
             [
              0.7777777777777778,
              "#fb9f3a"
             ],
             [
              0.8888888888888888,
              "#fdca26"
             ],
             [
              1,
              "#f0f921"
             ]
            ],
            "type": "histogram2d"
           }
          ],
          "histogram2dcontour": [
           {
            "colorbar": {
             "outlinewidth": 0,
             "ticks": ""
            },
            "colorscale": [
             [
              0,
              "#0d0887"
             ],
             [
              0.1111111111111111,
              "#46039f"
             ],
             [
              0.2222222222222222,
              "#7201a8"
             ],
             [
              0.3333333333333333,
              "#9c179e"
             ],
             [
              0.4444444444444444,
              "#bd3786"
             ],
             [
              0.5555555555555556,
              "#d8576b"
             ],
             [
              0.6666666666666666,
              "#ed7953"
             ],
             [
              0.7777777777777778,
              "#fb9f3a"
             ],
             [
              0.8888888888888888,
              "#fdca26"
             ],
             [
              1,
              "#f0f921"
             ]
            ],
            "type": "histogram2dcontour"
           }
          ],
          "mesh3d": [
           {
            "colorbar": {
             "outlinewidth": 0,
             "ticks": ""
            },
            "type": "mesh3d"
           }
          ],
          "parcoords": [
           {
            "line": {
             "colorbar": {
              "outlinewidth": 0,
              "ticks": ""
             }
            },
            "type": "parcoords"
           }
          ],
          "pie": [
           {
            "automargin": true,
            "type": "pie"
           }
          ],
          "scatter": [
           {
            "marker": {
             "colorbar": {
              "outlinewidth": 0,
              "ticks": ""
             }
            },
            "type": "scatter"
           }
          ],
          "scatter3d": [
           {
            "line": {
             "colorbar": {
              "outlinewidth": 0,
              "ticks": ""
             }
            },
            "marker": {
             "colorbar": {
              "outlinewidth": 0,
              "ticks": ""
             }
            },
            "type": "scatter3d"
           }
          ],
          "scattercarpet": [
           {
            "marker": {
             "colorbar": {
              "outlinewidth": 0,
              "ticks": ""
             }
            },
            "type": "scattercarpet"
           }
          ],
          "scattergeo": [
           {
            "marker": {
             "colorbar": {
              "outlinewidth": 0,
              "ticks": ""
             }
            },
            "type": "scattergeo"
           }
          ],
          "scattergl": [
           {
            "marker": {
             "colorbar": {
              "outlinewidth": 0,
              "ticks": ""
             }
            },
            "type": "scattergl"
           }
          ],
          "scattermapbox": [
           {
            "marker": {
             "colorbar": {
              "outlinewidth": 0,
              "ticks": ""
             }
            },
            "type": "scattermapbox"
           }
          ],
          "scatterpolar": [
           {
            "marker": {
             "colorbar": {
              "outlinewidth": 0,
              "ticks": ""
             }
            },
            "type": "scatterpolar"
           }
          ],
          "scatterpolargl": [
           {
            "marker": {
             "colorbar": {
              "outlinewidth": 0,
              "ticks": ""
             }
            },
            "type": "scatterpolargl"
           }
          ],
          "scatterternary": [
           {
            "marker": {
             "colorbar": {
              "outlinewidth": 0,
              "ticks": ""
             }
            },
            "type": "scatterternary"
           }
          ],
          "surface": [
           {
            "colorbar": {
             "outlinewidth": 0,
             "ticks": ""
            },
            "colorscale": [
             [
              0,
              "#0d0887"
             ],
             [
              0.1111111111111111,
              "#46039f"
             ],
             [
              0.2222222222222222,
              "#7201a8"
             ],
             [
              0.3333333333333333,
              "#9c179e"
             ],
             [
              0.4444444444444444,
              "#bd3786"
             ],
             [
              0.5555555555555556,
              "#d8576b"
             ],
             [
              0.6666666666666666,
              "#ed7953"
             ],
             [
              0.7777777777777778,
              "#fb9f3a"
             ],
             [
              0.8888888888888888,
              "#fdca26"
             ],
             [
              1,
              "#f0f921"
             ]
            ],
            "type": "surface"
           }
          ],
          "table": [
           {
            "cells": {
             "fill": {
              "color": "#EBF0F8"
             },
             "line": {
              "color": "white"
             }
            },
            "header": {
             "fill": {
              "color": "#C8D4E3"
             },
             "line": {
              "color": "white"
             }
            },
            "type": "table"
           }
          ]
         },
         "layout": {
          "annotationdefaults": {
           "arrowcolor": "#2a3f5f",
           "arrowhead": 0,
           "arrowwidth": 1
          },
          "coloraxis": {
           "colorbar": {
            "outlinewidth": 0,
            "ticks": ""
           }
          },
          "colorscale": {
           "diverging": [
            [
             0,
             "#8e0152"
            ],
            [
             0.1,
             "#c51b7d"
            ],
            [
             0.2,
             "#de77ae"
            ],
            [
             0.3,
             "#f1b6da"
            ],
            [
             0.4,
             "#fde0ef"
            ],
            [
             0.5,
             "#f7f7f7"
            ],
            [
             0.6,
             "#e6f5d0"
            ],
            [
             0.7,
             "#b8e186"
            ],
            [
             0.8,
             "#7fbc41"
            ],
            [
             0.9,
             "#4d9221"
            ],
            [
             1,
             "#276419"
            ]
           ],
           "sequential": [
            [
             0,
             "#0d0887"
            ],
            [
             0.1111111111111111,
             "#46039f"
            ],
            [
             0.2222222222222222,
             "#7201a8"
            ],
            [
             0.3333333333333333,
             "#9c179e"
            ],
            [
             0.4444444444444444,
             "#bd3786"
            ],
            [
             0.5555555555555556,
             "#d8576b"
            ],
            [
             0.6666666666666666,
             "#ed7953"
            ],
            [
             0.7777777777777778,
             "#fb9f3a"
            ],
            [
             0.8888888888888888,
             "#fdca26"
            ],
            [
             1,
             "#f0f921"
            ]
           ],
           "sequentialminus": [
            [
             0,
             "#0d0887"
            ],
            [
             0.1111111111111111,
             "#46039f"
            ],
            [
             0.2222222222222222,
             "#7201a8"
            ],
            [
             0.3333333333333333,
             "#9c179e"
            ],
            [
             0.4444444444444444,
             "#bd3786"
            ],
            [
             0.5555555555555556,
             "#d8576b"
            ],
            [
             0.6666666666666666,
             "#ed7953"
            ],
            [
             0.7777777777777778,
             "#fb9f3a"
            ],
            [
             0.8888888888888888,
             "#fdca26"
            ],
            [
             1,
             "#f0f921"
            ]
           ]
          },
          "colorway": [
           "#636efa",
           "#EF553B",
           "#00cc96",
           "#ab63fa",
           "#FFA15A",
           "#19d3f3",
           "#FF6692",
           "#B6E880",
           "#FF97FF",
           "#FECB52"
          ],
          "font": {
           "color": "#2a3f5f"
          },
          "geo": {
           "bgcolor": "white",
           "lakecolor": "white",
           "landcolor": "#E5ECF6",
           "showlakes": true,
           "showland": true,
           "subunitcolor": "white"
          },
          "hoverlabel": {
           "align": "left"
          },
          "hovermode": "closest",
          "mapbox": {
           "style": "light"
          },
          "paper_bgcolor": "white",
          "plot_bgcolor": "#E5ECF6",
          "polar": {
           "angularaxis": {
            "gridcolor": "white",
            "linecolor": "white",
            "ticks": ""
           },
           "bgcolor": "#E5ECF6",
           "radialaxis": {
            "gridcolor": "white",
            "linecolor": "white",
            "ticks": ""
           }
          },
          "scene": {
           "xaxis": {
            "backgroundcolor": "#E5ECF6",
            "gridcolor": "white",
            "gridwidth": 2,
            "linecolor": "white",
            "showbackground": true,
            "ticks": "",
            "zerolinecolor": "white"
           },
           "yaxis": {
            "backgroundcolor": "#E5ECF6",
            "gridcolor": "white",
            "gridwidth": 2,
            "linecolor": "white",
            "showbackground": true,
            "ticks": "",
            "zerolinecolor": "white"
           },
           "zaxis": {
            "backgroundcolor": "#E5ECF6",
            "gridcolor": "white",
            "gridwidth": 2,
            "linecolor": "white",
            "showbackground": true,
            "ticks": "",
            "zerolinecolor": "white"
           }
          },
          "shapedefaults": {
           "line": {
            "color": "#2a3f5f"
           }
          },
          "ternary": {
           "aaxis": {
            "gridcolor": "white",
            "linecolor": "white",
            "ticks": ""
           },
           "baxis": {
            "gridcolor": "white",
            "linecolor": "white",
            "ticks": ""
           },
           "bgcolor": "#E5ECF6",
           "caxis": {
            "gridcolor": "white",
            "linecolor": "white",
            "ticks": ""
           }
          },
          "title": {
           "x": 0.05
          },
          "xaxis": {
           "automargin": true,
           "gridcolor": "white",
           "linecolor": "white",
           "ticks": "",
           "title": {
            "standoff": 15
           },
           "zerolinecolor": "white",
           "zerolinewidth": 2
          },
          "yaxis": {
           "automargin": true,
           "gridcolor": "white",
           "linecolor": "white",
           "ticks": "",
           "title": {
            "standoff": 15
           },
           "zerolinecolor": "white",
           "zerolinewidth": 2
          }
         }
        },
        "title": {
         "font": {
          "color": "#4D5663"
         }
        },
        "xaxis": {
         "anchor": "y",
         "domain": [
          0,
          0.2125
         ],
         "gridcolor": "#E1E5ED",
         "showgrid": false,
         "tickfont": {
          "color": "#4D5663"
         },
         "title": {
          "font": {
           "color": "#4D5663"
          },
          "text": ""
         },
         "zerolinecolor": "#E1E5ED"
        },
        "xaxis10": {
         "anchor": "y10",
         "domain": [
          0.2625,
          0.475
         ],
         "gridcolor": "#E1E5ED",
         "showgrid": false,
         "tickfont": {
          "color": "#4D5663"
         },
         "title": {
          "font": {
           "color": "#4D5663"
          },
          "text": ""
         },
         "zerolinecolor": "#E1E5ED"
        },
        "xaxis11": {
         "anchor": "y11",
         "domain": [
          0.525,
          0.7375
         ],
         "gridcolor": "#E1E5ED",
         "showgrid": false,
         "tickfont": {
          "color": "#4D5663"
         },
         "title": {
          "font": {
           "color": "#4D5663"
          },
          "text": ""
         },
         "zerolinecolor": "#E1E5ED"
        },
        "xaxis12": {
         "anchor": "y12",
         "domain": [
          0.7875,
          1
         ],
         "gridcolor": "#E1E5ED",
         "showgrid": false,
         "tickfont": {
          "color": "#4D5663"
         },
         "title": {
          "font": {
           "color": "#4D5663"
          },
          "text": ""
         },
         "zerolinecolor": "#E1E5ED"
        },
        "xaxis13": {
         "anchor": "y13",
         "domain": [
          0,
          0.2125
         ],
         "gridcolor": "#E1E5ED",
         "showgrid": false,
         "tickfont": {
          "color": "#4D5663"
         },
         "title": {
          "font": {
           "color": "#4D5663"
          },
          "text": ""
         },
         "zerolinecolor": "#E1E5ED"
        },
        "xaxis14": {
         "anchor": "y14",
         "domain": [
          0.2625,
          0.475
         ],
         "gridcolor": "#E1E5ED",
         "showgrid": false,
         "tickfont": {
          "color": "#4D5663"
         },
         "title": {
          "font": {
           "color": "#4D5663"
          },
          "text": ""
         },
         "zerolinecolor": "#E1E5ED"
        },
        "xaxis15": {
         "anchor": "y15",
         "domain": [
          0.525,
          0.7375
         ],
         "gridcolor": "#E1E5ED",
         "showgrid": false,
         "tickfont": {
          "color": "#4D5663"
         },
         "title": {
          "font": {
           "color": "#4D5663"
          },
          "text": ""
         },
         "zerolinecolor": "#E1E5ED"
        },
        "xaxis16": {
         "anchor": "y16",
         "domain": [
          0.7875,
          1
         ],
         "gridcolor": "#E1E5ED",
         "showgrid": false,
         "tickfont": {
          "color": "#4D5663"
         },
         "title": {
          "font": {
           "color": "#4D5663"
          },
          "text": ""
         },
         "zerolinecolor": "#E1E5ED"
        },
        "xaxis2": {
         "anchor": "y2",
         "domain": [
          0.2625,
          0.475
         ],
         "gridcolor": "#E1E5ED",
         "showgrid": false,
         "tickfont": {
          "color": "#4D5663"
         },
         "title": {
          "font": {
           "color": "#4D5663"
          },
          "text": ""
         },
         "zerolinecolor": "#E1E5ED"
        },
        "xaxis3": {
         "anchor": "y3",
         "domain": [
          0.525,
          0.7375
         ],
         "gridcolor": "#E1E5ED",
         "showgrid": false,
         "tickfont": {
          "color": "#4D5663"
         },
         "title": {
          "font": {
           "color": "#4D5663"
          },
          "text": ""
         },
         "zerolinecolor": "#E1E5ED"
        },
        "xaxis4": {
         "anchor": "y4",
         "domain": [
          0.7875,
          1
         ],
         "gridcolor": "#E1E5ED",
         "showgrid": false,
         "tickfont": {
          "color": "#4D5663"
         },
         "title": {
          "font": {
           "color": "#4D5663"
          },
          "text": ""
         },
         "zerolinecolor": "#E1E5ED"
        },
        "xaxis5": {
         "anchor": "y5",
         "domain": [
          0,
          0.2125
         ],
         "gridcolor": "#E1E5ED",
         "showgrid": false,
         "tickfont": {
          "color": "#4D5663"
         },
         "title": {
          "font": {
           "color": "#4D5663"
          },
          "text": ""
         },
         "zerolinecolor": "#E1E5ED"
        },
        "xaxis6": {
         "anchor": "y6",
         "domain": [
          0.2625,
          0.475
         ],
         "gridcolor": "#E1E5ED",
         "showgrid": false,
         "tickfont": {
          "color": "#4D5663"
         },
         "title": {
          "font": {
           "color": "#4D5663"
          },
          "text": ""
         },
         "zerolinecolor": "#E1E5ED"
        },
        "xaxis7": {
         "anchor": "y7",
         "domain": [
          0.525,
          0.7375
         ],
         "gridcolor": "#E1E5ED",
         "showgrid": false,
         "tickfont": {
          "color": "#4D5663"
         },
         "title": {
          "font": {
           "color": "#4D5663"
          },
          "text": ""
         },
         "zerolinecolor": "#E1E5ED"
        },
        "xaxis8": {
         "anchor": "y8",
         "domain": [
          0.7875,
          1
         ],
         "gridcolor": "#E1E5ED",
         "showgrid": false,
         "tickfont": {
          "color": "#4D5663"
         },
         "title": {
          "font": {
           "color": "#4D5663"
          },
          "text": ""
         },
         "zerolinecolor": "#E1E5ED"
        },
        "xaxis9": {
         "anchor": "y9",
         "domain": [
          0,
          0.2125
         ],
         "gridcolor": "#E1E5ED",
         "showgrid": false,
         "tickfont": {
          "color": "#4D5663"
         },
         "title": {
          "font": {
           "color": "#4D5663"
          },
          "text": ""
         },
         "zerolinecolor": "#E1E5ED"
        },
        "yaxis": {
         "anchor": "x",
         "domain": [
          0.8025,
          1
         ],
         "gridcolor": "#E1E5ED",
         "showgrid": false,
         "tickfont": {
          "color": "#4D5663"
         },
         "title": {
          "font": {
           "color": "#4D5663"
          },
          "text": ""
         },
         "zerolinecolor": "#E1E5ED"
        },
        "yaxis10": {
         "anchor": "x10",
         "domain": [
          0.2675,
          0.465
         ],
         "gridcolor": "#E1E5ED",
         "showgrid": false,
         "tickfont": {
          "color": "#4D5663"
         },
         "title": {
          "font": {
           "color": "#4D5663"
          },
          "text": ""
         },
         "zerolinecolor": "#E1E5ED"
        },
        "yaxis11": {
         "anchor": "x11",
         "domain": [
          0.2675,
          0.465
         ],
         "gridcolor": "#E1E5ED",
         "showgrid": false,
         "tickfont": {
          "color": "#4D5663"
         },
         "title": {
          "font": {
           "color": "#4D5663"
          },
          "text": ""
         },
         "zerolinecolor": "#E1E5ED"
        },
        "yaxis12": {
         "anchor": "x12",
         "domain": [
          0.2675,
          0.465
         ],
         "gridcolor": "#E1E5ED",
         "showgrid": false,
         "tickfont": {
          "color": "#4D5663"
         },
         "title": {
          "font": {
           "color": "#4D5663"
          },
          "text": ""
         },
         "zerolinecolor": "#E1E5ED"
        },
        "yaxis13": {
         "anchor": "x13",
         "domain": [
          0,
          0.1975
         ],
         "gridcolor": "#E1E5ED",
         "showgrid": false,
         "tickfont": {
          "color": "#4D5663"
         },
         "title": {
          "font": {
           "color": "#4D5663"
          },
          "text": ""
         },
         "zerolinecolor": "#E1E5ED"
        },
        "yaxis14": {
         "anchor": "x14",
         "domain": [
          0,
          0.1975
         ],
         "gridcolor": "#E1E5ED",
         "showgrid": false,
         "tickfont": {
          "color": "#4D5663"
         },
         "title": {
          "font": {
           "color": "#4D5663"
          },
          "text": ""
         },
         "zerolinecolor": "#E1E5ED"
        },
        "yaxis15": {
         "anchor": "x15",
         "domain": [
          0,
          0.1975
         ],
         "gridcolor": "#E1E5ED",
         "showgrid": false,
         "tickfont": {
          "color": "#4D5663"
         },
         "title": {
          "font": {
           "color": "#4D5663"
          },
          "text": ""
         },
         "zerolinecolor": "#E1E5ED"
        },
        "yaxis16": {
         "anchor": "x16",
         "domain": [
          0,
          0.1975
         ],
         "gridcolor": "#E1E5ED",
         "showgrid": false,
         "tickfont": {
          "color": "#4D5663"
         },
         "title": {
          "font": {
           "color": "#4D5663"
          },
          "text": ""
         },
         "zerolinecolor": "#E1E5ED"
        },
        "yaxis2": {
         "anchor": "x2",
         "domain": [
          0.8025,
          1
         ],
         "gridcolor": "#E1E5ED",
         "showgrid": false,
         "tickfont": {
          "color": "#4D5663"
         },
         "title": {
          "font": {
           "color": "#4D5663"
          },
          "text": ""
         },
         "zerolinecolor": "#E1E5ED"
        },
        "yaxis3": {
         "anchor": "x3",
         "domain": [
          0.8025,
          1
         ],
         "gridcolor": "#E1E5ED",
         "showgrid": false,
         "tickfont": {
          "color": "#4D5663"
         },
         "title": {
          "font": {
           "color": "#4D5663"
          },
          "text": ""
         },
         "zerolinecolor": "#E1E5ED"
        },
        "yaxis4": {
         "anchor": "x4",
         "domain": [
          0.8025,
          1
         ],
         "gridcolor": "#E1E5ED",
         "showgrid": false,
         "tickfont": {
          "color": "#4D5663"
         },
         "title": {
          "font": {
           "color": "#4D5663"
          },
          "text": ""
         },
         "zerolinecolor": "#E1E5ED"
        },
        "yaxis5": {
         "anchor": "x5",
         "domain": [
          0.535,
          0.7325
         ],
         "gridcolor": "#E1E5ED",
         "showgrid": false,
         "tickfont": {
          "color": "#4D5663"
         },
         "title": {
          "font": {
           "color": "#4D5663"
          },
          "text": ""
         },
         "zerolinecolor": "#E1E5ED"
        },
        "yaxis6": {
         "anchor": "x6",
         "domain": [
          0.535,
          0.7325
         ],
         "gridcolor": "#E1E5ED",
         "showgrid": false,
         "tickfont": {
          "color": "#4D5663"
         },
         "title": {
          "font": {
           "color": "#4D5663"
          },
          "text": ""
         },
         "zerolinecolor": "#E1E5ED"
        },
        "yaxis7": {
         "anchor": "x7",
         "domain": [
          0.535,
          0.7325
         ],
         "gridcolor": "#E1E5ED",
         "showgrid": false,
         "tickfont": {
          "color": "#4D5663"
         },
         "title": {
          "font": {
           "color": "#4D5663"
          },
          "text": ""
         },
         "zerolinecolor": "#E1E5ED"
        },
        "yaxis8": {
         "anchor": "x8",
         "domain": [
          0.535,
          0.7325
         ],
         "gridcolor": "#E1E5ED",
         "showgrid": false,
         "tickfont": {
          "color": "#4D5663"
         },
         "title": {
          "font": {
           "color": "#4D5663"
          },
          "text": ""
         },
         "zerolinecolor": "#E1E5ED"
        },
        "yaxis9": {
         "anchor": "x9",
         "domain": [
          0.2675,
          0.465
         ],
         "gridcolor": "#E1E5ED",
         "showgrid": false,
         "tickfont": {
          "color": "#4D5663"
         },
         "title": {
          "font": {
           "color": "#4D5663"
          },
          "text": ""
         },
         "zerolinecolor": "#E1E5ED"
        }
       }
      },
      "text/html": [
       "<div>\n",
       "        \n",
       "        \n",
       "            <div id=\"1abed3f4-5044-47c8-bf59-12967acac664\" class=\"plotly-graph-div\" style=\"height:525px; width:100%;\"></div>\n",
       "            <script type=\"text/javascript\">\n",
       "                require([\"plotly\"], function(Plotly) {\n",
       "                    window.PLOTLYENV=window.PLOTLYENV || {};\n",
       "                    window.PLOTLYENV.BASE_URL='https://plot.ly';\n",
       "                    \n",
       "                if (document.getElementById(\"1abed3f4-5044-47c8-bf59-12967acac664\")) {\n",
       "                    Plotly.newPlot(\n",
       "                        '1abed3f4-5044-47c8-bf59-12967acac664',\n",
       "                        [{\"histfunc\": \"count\", \"histnorm\": \"\", \"marker\": {\"color\": \"rgba(255, 153, 51, 1.0)\", \"line\": {\"color\": \"#4D5663\", \"width\": 1.3}}, \"name\": \"A\", \"nbinsx\": 10, \"opacity\": 0.8, \"orientation\": \"v\", \"type\": \"histogram\", \"x\": [0.9273501686452831, -0.5336819713432426, -0.4719061159137588, -0.9892039772850318, 1.745699378229749, -0.26335462861925224, 0.7908256324744336, -0.018916685629151987, 1.4362821330775597, -0.32503355428080577, 0.153676829720251, 1.1318065272893738, 0.08839548036838218, -0.13371513443907548, 0.04554308700723792, -0.05877157631492504, 0.9319619775407781, -0.892681343719326, -0.23869875455176157, -0.8071351942969122, -0.8460637342785593, 0.5435124105045299, 1.8829768691003779, 0.26018907025834476, -0.9630329187123825, 0.5924332239870846, 0.05224067716215473, -0.22741409274250976, 0.12187361251470992, 0.195255432340129, -3.1675899599066684, 0.4368530139763862, 1.9289359381994984, 0.8056938127943846, -0.37292655824780185, 0.6512746095656167, -0.9938636126479036, 0.7862381402545336, -1.1287854744382666, 0.6094151867668576, -1.3345012926132753, -0.02281986102852559, 2.1763311981289886, -0.09963573401996252, 0.8464995922182782, -1.2042004296695825, 2.1203247152475537, 0.36791612384551403, -0.23999914272661843, 0.024080904242700003, 0.03482469604660009, 1.8265286417264184, 0.49707787161574435, -0.5323481640582688, -0.5904516820742872, -0.31429352820806933, -0.20083676978802706, -0.24576824746640213, 0.4490649374540152, 0.009106977618565758, -0.2601190686513889, -0.4885809019711191, -0.7065650259075594, -0.5655889024607965, 1.1242265905343243, -1.289422567292631, -0.11079106339526591, 0.025175648703488762, -1.0654028367316437, 0.5876369583983077, -1.2193627328117418, 0.27503948246745363, 0.20062669512915307, -0.712497095962588, -0.5936065482919237, 0.3162171738816598, -2.0801283752733593, 0.05481389727834878, 0.29834235948809595, -0.25193217959399716, -0.18815985965566256, -1.0993840202389924, 1.3720808925772439, -1.3901447430249643, 0.2952706310041869, -0.14215402384411635, 0.2557152281650664, 0.05237368863656635, 0.1665134157650504, 0.32752167656534614, -0.02638737238095419, -0.07622496454221706, 1.5158939538061444, 1.2842668521004519, 1.1900091488359847, 0.11950465514627728, 0.20792715338952203, -0.7069618004958248, -1.0060679633961014, 0.7402869780165224], \"xaxis\": \"x\", \"yaxis\": \"y\"}, {\"line\": {\"color\": \"rgba(128, 128, 128, 1.0)\", \"dash\": \"solid\", \"shape\": \"linear\", \"width\": 1.3}, \"marker\": {\"size\": 2, \"symbol\": \"circle\"}, \"mode\": \"markers\", \"name\": \"A\", \"text\": \"\", \"type\": \"scatter\", \"x\": [-1.4475834439088642, 1.936342110293859, 1.5703019396317082, -1.141171509843668, 0.7086983057483757, -0.21548691100100484, -0.4935357265485408, -0.40008675780020697, 0.24466237321409023, -0.5575940599375178, 0.7174291311785046, 0.6066901397467638, 0.7183279064527168, 0.9037822643675042, 0.7922052580156334, 0.33548132017685217, -0.20261143372834065, 0.7973085569924002, 1.0992036024784997, -0.49476558867100884, -0.33780792682176386, -1.338637353195344, 1.1385637433257803, -0.20322491634641116, 0.6844714764071702, -0.16617105280152625, 1.3721896447655835, -0.432825142025372, -0.6979376497189357, -1.827219084945071, -0.08870604821904153, -0.7593429321290202, -1.1452326196090716, -0.6591873413644148, -0.024453262800700207, 2.8961064396206346, 1.363739087484403, -0.020299241643240123, -0.5503581956789931, 0.202981852523745, -0.04318579863195509, 1.3640507313160912, -1.0280179913191263, 0.21129179119723718, 0.10297146234534578, -1.2433243782994525, -0.021709600661412465, 1.1984399083378903, -1.3599613321180355, 1.3891357969076896, 0.07820929637177787, -0.6378218867551335, -1.0039159825678918, -2.126997043628774, 0.06341984518776161, 0.32731593946564225, 2.0722346896488597, -1.8756884771290674, -1.8738446512520954, -0.1688759685449708, 0.345763386677497, -1.4914130382877966, -1.4107957310164405, -0.4184816338943611, 1.1964942739671964, -0.42009278182817616, 0.10668530708683387, -0.7525150643124401, -0.010377553383409528, -0.2561262290407313, -0.5193080456284674, 0.2376140021029851, 0.22650863712631936, -0.023683051465336405, -0.10574186404763539, -1.3388266088658878, 1.8649371415743328, -0.0011472808149724546, -0.5809929109198254, 0.7474919614838859, -0.816872565749726, 1.0410209931608316, -0.39785709352618437, -1.0815621564988975, 1.176812583300365, 0.9895727666875234, -0.756797865773887, -0.3816828597434053, 0.42707439730370905, -0.1562011388869837, 0.9675610510066449, 0.02891219020418467, -0.6378898829804626, -0.8479768977153376, -0.41446797004090963, 2.564737002195348, 0.13364725564235924, -0.6973271644929159, -0.4527411973437712, -1.0237425044832327], \"xaxis\": \"x2\", \"y\": [0.9273501686452831, -0.5336819713432426, -0.4719061159137588, -0.9892039772850318, 1.745699378229749, -0.26335462861925224, 0.7908256324744336, -0.018916685629151987, 1.4362821330775597, -0.32503355428080577, 0.153676829720251, 1.1318065272893738, 0.08839548036838218, -0.13371513443907548, 0.04554308700723792, -0.05877157631492504, 0.9319619775407781, -0.892681343719326, -0.23869875455176157, -0.8071351942969122, -0.8460637342785593, 0.5435124105045299, 1.8829768691003779, 0.26018907025834476, -0.9630329187123825, 0.5924332239870846, 0.05224067716215473, -0.22741409274250976, 0.12187361251470992, 0.195255432340129, -3.1675899599066684, 0.4368530139763862, 1.9289359381994984, 0.8056938127943846, -0.37292655824780185, 0.6512746095656167, -0.9938636126479036, 0.7862381402545336, -1.1287854744382666, 0.6094151867668576, -1.3345012926132753, -0.02281986102852559, 2.1763311981289886, -0.09963573401996252, 0.8464995922182782, -1.2042004296695825, 2.1203247152475537, 0.36791612384551403, -0.23999914272661843, 0.024080904242700003, 0.03482469604660009, 1.8265286417264184, 0.49707787161574435, -0.5323481640582688, -0.5904516820742872, -0.31429352820806933, -0.20083676978802706, -0.24576824746640213, 0.4490649374540152, 0.009106977618565758, -0.2601190686513889, -0.4885809019711191, -0.7065650259075594, -0.5655889024607965, 1.1242265905343243, -1.289422567292631, -0.11079106339526591, 0.025175648703488762, -1.0654028367316437, 0.5876369583983077, -1.2193627328117418, 0.27503948246745363, 0.20062669512915307, -0.712497095962588, -0.5936065482919237, 0.3162171738816598, -2.0801283752733593, 0.05481389727834878, 0.29834235948809595, -0.25193217959399716, -0.18815985965566256, -1.0993840202389924, 1.3720808925772439, -1.3901447430249643, 0.2952706310041869, -0.14215402384411635, 0.2557152281650664, 0.05237368863656635, 0.1665134157650504, 0.32752167656534614, -0.02638737238095419, -0.07622496454221706, 1.5158939538061444, 1.2842668521004519, 1.1900091488359847, 0.11950465514627728, 0.20792715338952203, -0.7069618004958248, -1.0060679633961014, 0.7402869780165224], \"yaxis\": \"y2\"}, {\"line\": {\"color\": \"rgba(128, 128, 128, 1.0)\", \"dash\": \"solid\", \"shape\": \"linear\", \"width\": 1.3}, \"marker\": {\"size\": 2, \"symbol\": \"circle\"}, \"mode\": \"markers\", \"name\": \"A\", \"text\": \"\", \"type\": \"scatter\", \"x\": [1.4049242054570623, 0.1547621834006053, 0.6427377446553894, 0.14176958512210536, 0.6452742473253624, -1.1029515760211577, 0.004636889360956238, -1.4867686806843832, 1.5347473240196792, 0.15995536296369012, 0.31029386900621286, -1.549795310649013, 0.4618488125890316, 1.1201251521430575, 0.4690802803947774, 1.6432681308561372, 0.008389568495615356, -0.01239621104004811, 0.24131053638423328, -1.4103219963121891, 1.2492004628011075, 0.18955669364213737, 0.8157350982642384, 0.07675734152535334, -0.30505179092398904, -0.5078562267149158, -0.4179911704810528, 0.5408776143582213, 1.8372513308449336, -0.2501002967666486, 0.1996512023214983, 0.8691901065752327, 0.4495597707471277, -2.801023933962865, -0.8238229519352759, 0.04128400296717988, -0.6901701140888579, 1.1916495037586128, -0.9295614751372788, -0.3231576891007971, -0.7040182646953186, 1.9790020173304628, 0.985673156309637, 0.6222213952844792, -0.1690695981714178, 1.3063478136705455, -0.5537556528688246, 0.06401592476986435, -0.0008402575602733345, -0.5639327228761422, 0.6608360365296245, 0.2932081224527548, 0.6024607368840637, 0.6096916892907379, -0.8679904449478311, -0.12208563224647935, -1.132526357998367, -0.3968559663885494, 0.5730640969363368, 0.3827904667250426, -0.8200063265474274, -0.45552898404631365, 0.08141056318368534, 0.5051122350181024, -2.0250450421281125, 0.014663387828365947, 0.5667760720620605, 0.2022882687234411, 1.187387385536581, 1.0189024742420798, -0.7298071957786113, 0.05948535909929114, -0.5079171949110749, -0.7440860797142066, 0.3268609879345079, 1.4598066328833745, 1.012654544868541, -0.6403355542078821, -0.08502020694767025, 1.4850038202651428, 0.08081454059719645, 0.2627642445729847, -0.8642028436313269, -0.49831337549218374, -0.2800136845430416, 0.040417289509109944, -1.144179761118651, 1.807443770703011, 0.3806342224989023, 1.2287603745892146, 0.8735308102245346, -0.8352237499555955, 1.2123633864099363, 0.5996684543315636, -1.2552732180664523, -0.33749497322565136, -0.3596282323596586, -0.36185868788703535, 0.8894345743403884, -0.8404253713393572], \"xaxis\": \"x3\", \"y\": [0.9273501686452831, -0.5336819713432426, -0.4719061159137588, -0.9892039772850318, 1.745699378229749, -0.26335462861925224, 0.7908256324744336, -0.018916685629151987, 1.4362821330775597, -0.32503355428080577, 0.153676829720251, 1.1318065272893738, 0.08839548036838218, -0.13371513443907548, 0.04554308700723792, -0.05877157631492504, 0.9319619775407781, -0.892681343719326, -0.23869875455176157, -0.8071351942969122, -0.8460637342785593, 0.5435124105045299, 1.8829768691003779, 0.26018907025834476, -0.9630329187123825, 0.5924332239870846, 0.05224067716215473, -0.22741409274250976, 0.12187361251470992, 0.195255432340129, -3.1675899599066684, 0.4368530139763862, 1.9289359381994984, 0.8056938127943846, -0.37292655824780185, 0.6512746095656167, -0.9938636126479036, 0.7862381402545336, -1.1287854744382666, 0.6094151867668576, -1.3345012926132753, -0.02281986102852559, 2.1763311981289886, -0.09963573401996252, 0.8464995922182782, -1.2042004296695825, 2.1203247152475537, 0.36791612384551403, -0.23999914272661843, 0.024080904242700003, 0.03482469604660009, 1.8265286417264184, 0.49707787161574435, -0.5323481640582688, -0.5904516820742872, -0.31429352820806933, -0.20083676978802706, -0.24576824746640213, 0.4490649374540152, 0.009106977618565758, -0.2601190686513889, -0.4885809019711191, -0.7065650259075594, -0.5655889024607965, 1.1242265905343243, -1.289422567292631, -0.11079106339526591, 0.025175648703488762, -1.0654028367316437, 0.5876369583983077, -1.2193627328117418, 0.27503948246745363, 0.20062669512915307, -0.712497095962588, -0.5936065482919237, 0.3162171738816598, -2.0801283752733593, 0.05481389727834878, 0.29834235948809595, -0.25193217959399716, -0.18815985965566256, -1.0993840202389924, 1.3720808925772439, -1.3901447430249643, 0.2952706310041869, -0.14215402384411635, 0.2557152281650664, 0.05237368863656635, 0.1665134157650504, 0.32752167656534614, -0.02638737238095419, -0.07622496454221706, 1.5158939538061444, 1.2842668521004519, 1.1900091488359847, 0.11950465514627728, 0.20792715338952203, -0.7069618004958248, -1.0060679633961014, 0.7402869780165224], \"yaxis\": \"y3\"}, {\"line\": {\"color\": \"rgba(128, 128, 128, 1.0)\", \"dash\": \"solid\", \"shape\": \"linear\", \"width\": 1.3}, \"marker\": {\"size\": 2, \"symbol\": \"circle\"}, \"mode\": \"markers\", \"name\": \"A\", \"text\": \"\", \"type\": \"scatter\", \"x\": [0.6893397535031753, -0.634782770197293, -1.3651647455238947, 0.5659178518454178, 0.14146422009809448, 0.20585568742835458, -0.323569057620845, 0.24781586608556125, 0.8208949499246398, 1.3351105498079698, 0.7989279478030678, -0.6468933836371301, 0.39863035992129003, 0.47095104852203645, 0.2693234881822479, 0.5149635994224956, 0.540039861790419, -1.0560385502243055, 1.420309355013242, -1.3271645563971741, 0.02428842976034102, -1.1279761762651903, 0.7425629834247508, 0.12454951520226333, -0.8900025088723069, -1.0415293745293592, -1.032703442507068, 0.08858842850306446, 0.21673451116324674, 1.0773810976744913, -0.8005023910645993, -0.8250117982933071, -0.875049873565815, 0.12047064633653336, 1.5518281540606154, -0.48950713262227397, 1.158258147987117, 0.11856343615655199, 1.6570380736340358, 2.127076507548714, -1.5071492237481672, 1.3878540441851652, 1.7967392604687493, -2.427511091257778, 0.6638920325166114, -1.0243866636811134, -0.9977307088517342, 1.1332705619033097, 0.1787949995440567, 1.8294622360138504, 1.336117505283273, -0.9747308204149058, -0.21060626994445616, -1.6792949349020025, -1.6977453195697814, -1.486859332377673, 0.4614839606236429, 1.7033598737816464, 0.3469648988028317, -0.6698873840875732, 1.1598972264121405, 0.6215349000091484, -1.2264167086553013, 0.23438318536696298, 1.0633039804419662, 0.14760634745273152, 1.2677451019504973, 0.6535051309470021, -0.6851207475862858, -1.8591972638103833, -0.37396971449307076, -1.2208452591467445, 0.18790967127387492, -0.6058533913589577, 0.01130864506496672, -3.1060627472728273, -0.27687656929833604, 0.34068588900417174, -0.04575381175627021, 0.9099625078425607, -0.5794692122519473, -0.1965604817374992, -0.30034716768779113, -0.8263038743589, 0.3559471996961158, -0.618517658506671, -0.5489259138475905, -1.192280245987357, -0.17765596325209876, -1.7786305738644168, 0.6023764476041314, 0.5177743526185985, 1.625948563551156, 0.732401806275617, 0.5159331202280345, 0.9004335661442393, 0.12533332537820574, 0.05145474359691806, -1.1901492124514266, 1.3226574609114097], \"xaxis\": \"x4\", \"y\": [0.9273501686452831, -0.5336819713432426, -0.4719061159137588, -0.9892039772850318, 1.745699378229749, -0.26335462861925224, 0.7908256324744336, -0.018916685629151987, 1.4362821330775597, -0.32503355428080577, 0.153676829720251, 1.1318065272893738, 0.08839548036838218, -0.13371513443907548, 0.04554308700723792, -0.05877157631492504, 0.9319619775407781, -0.892681343719326, -0.23869875455176157, -0.8071351942969122, -0.8460637342785593, 0.5435124105045299, 1.8829768691003779, 0.26018907025834476, -0.9630329187123825, 0.5924332239870846, 0.05224067716215473, -0.22741409274250976, 0.12187361251470992, 0.195255432340129, -3.1675899599066684, 0.4368530139763862, 1.9289359381994984, 0.8056938127943846, -0.37292655824780185, 0.6512746095656167, -0.9938636126479036, 0.7862381402545336, -1.1287854744382666, 0.6094151867668576, -1.3345012926132753, -0.02281986102852559, 2.1763311981289886, -0.09963573401996252, 0.8464995922182782, -1.2042004296695825, 2.1203247152475537, 0.36791612384551403, -0.23999914272661843, 0.024080904242700003, 0.03482469604660009, 1.8265286417264184, 0.49707787161574435, -0.5323481640582688, -0.5904516820742872, -0.31429352820806933, -0.20083676978802706, -0.24576824746640213, 0.4490649374540152, 0.009106977618565758, -0.2601190686513889, -0.4885809019711191, -0.7065650259075594, -0.5655889024607965, 1.1242265905343243, -1.289422567292631, -0.11079106339526591, 0.025175648703488762, -1.0654028367316437, 0.5876369583983077, -1.2193627328117418, 0.27503948246745363, 0.20062669512915307, -0.712497095962588, -0.5936065482919237, 0.3162171738816598, -2.0801283752733593, 0.05481389727834878, 0.29834235948809595, -0.25193217959399716, -0.18815985965566256, -1.0993840202389924, 1.3720808925772439, -1.3901447430249643, 0.2952706310041869, -0.14215402384411635, 0.2557152281650664, 0.05237368863656635, 0.1665134157650504, 0.32752167656534614, -0.02638737238095419, -0.07622496454221706, 1.5158939538061444, 1.2842668521004519, 1.1900091488359847, 0.11950465514627728, 0.20792715338952203, -0.7069618004958248, -1.0060679633961014, 0.7402869780165224], \"yaxis\": \"y4\"}, {\"line\": {\"color\": \"rgba(128, 128, 128, 1.0)\", \"dash\": \"solid\", \"shape\": \"linear\", \"width\": 1.3}, \"marker\": {\"size\": 2, \"symbol\": \"circle\"}, \"mode\": \"markers\", \"name\": \"B\", \"text\": \"\", \"type\": \"scatter\", \"x\": [0.9273501686452831, -0.5336819713432426, -0.4719061159137588, -0.9892039772850318, 1.745699378229749, -0.26335462861925224, 0.7908256324744336, -0.018916685629151987, 1.4362821330775597, -0.32503355428080577, 0.153676829720251, 1.1318065272893738, 0.08839548036838218, -0.13371513443907548, 0.04554308700723792, -0.05877157631492504, 0.9319619775407781, -0.892681343719326, -0.23869875455176157, -0.8071351942969122, -0.8460637342785593, 0.5435124105045299, 1.8829768691003779, 0.26018907025834476, -0.9630329187123825, 0.5924332239870846, 0.05224067716215473, -0.22741409274250976, 0.12187361251470992, 0.195255432340129, -3.1675899599066684, 0.4368530139763862, 1.9289359381994984, 0.8056938127943846, -0.37292655824780185, 0.6512746095656167, -0.9938636126479036, 0.7862381402545336, -1.1287854744382666, 0.6094151867668576, -1.3345012926132753, -0.02281986102852559, 2.1763311981289886, -0.09963573401996252, 0.8464995922182782, -1.2042004296695825, 2.1203247152475537, 0.36791612384551403, -0.23999914272661843, 0.024080904242700003, 0.03482469604660009, 1.8265286417264184, 0.49707787161574435, -0.5323481640582688, -0.5904516820742872, -0.31429352820806933, -0.20083676978802706, -0.24576824746640213, 0.4490649374540152, 0.009106977618565758, -0.2601190686513889, -0.4885809019711191, -0.7065650259075594, -0.5655889024607965, 1.1242265905343243, -1.289422567292631, -0.11079106339526591, 0.025175648703488762, -1.0654028367316437, 0.5876369583983077, -1.2193627328117418, 0.27503948246745363, 0.20062669512915307, -0.712497095962588, -0.5936065482919237, 0.3162171738816598, -2.0801283752733593, 0.05481389727834878, 0.29834235948809595, -0.25193217959399716, -0.18815985965566256, -1.0993840202389924, 1.3720808925772439, -1.3901447430249643, 0.2952706310041869, -0.14215402384411635, 0.2557152281650664, 0.05237368863656635, 0.1665134157650504, 0.32752167656534614, -0.02638737238095419, -0.07622496454221706, 1.5158939538061444, 1.2842668521004519, 1.1900091488359847, 0.11950465514627728, 0.20792715338952203, -0.7069618004958248, -1.0060679633961014, 0.7402869780165224], \"xaxis\": \"x5\", \"y\": [-1.4475834439088642, 1.936342110293859, 1.5703019396317082, -1.141171509843668, 0.7086983057483757, -0.21548691100100484, -0.4935357265485408, -0.40008675780020697, 0.24466237321409023, -0.5575940599375178, 0.7174291311785046, 0.6066901397467638, 0.7183279064527168, 0.9037822643675042, 0.7922052580156334, 0.33548132017685217, -0.20261143372834065, 0.7973085569924002, 1.0992036024784997, -0.49476558867100884, -0.33780792682176386, -1.338637353195344, 1.1385637433257803, -0.20322491634641116, 0.6844714764071702, -0.16617105280152625, 1.3721896447655835, -0.432825142025372, -0.6979376497189357, -1.827219084945071, -0.08870604821904153, -0.7593429321290202, -1.1452326196090716, -0.6591873413644148, -0.024453262800700207, 2.8961064396206346, 1.363739087484403, -0.020299241643240123, -0.5503581956789931, 0.202981852523745, -0.04318579863195509, 1.3640507313160912, -1.0280179913191263, 0.21129179119723718, 0.10297146234534578, -1.2433243782994525, -0.021709600661412465, 1.1984399083378903, -1.3599613321180355, 1.3891357969076896, 0.07820929637177787, -0.6378218867551335, -1.0039159825678918, -2.126997043628774, 0.06341984518776161, 0.32731593946564225, 2.0722346896488597, -1.8756884771290674, -1.8738446512520954, -0.1688759685449708, 0.345763386677497, -1.4914130382877966, -1.4107957310164405, -0.4184816338943611, 1.1964942739671964, -0.42009278182817616, 0.10668530708683387, -0.7525150643124401, -0.010377553383409528, -0.2561262290407313, -0.5193080456284674, 0.2376140021029851, 0.22650863712631936, -0.023683051465336405, -0.10574186404763539, -1.3388266088658878, 1.8649371415743328, -0.0011472808149724546, -0.5809929109198254, 0.7474919614838859, -0.816872565749726, 1.0410209931608316, -0.39785709352618437, -1.0815621564988975, 1.176812583300365, 0.9895727666875234, -0.756797865773887, -0.3816828597434053, 0.42707439730370905, -0.1562011388869837, 0.9675610510066449, 0.02891219020418467, -0.6378898829804626, -0.8479768977153376, -0.41446797004090963, 2.564737002195348, 0.13364725564235924, -0.6973271644929159, -0.4527411973437712, -1.0237425044832327], \"yaxis\": \"y5\"}, {\"histfunc\": \"count\", \"histnorm\": \"\", \"marker\": {\"color\": \"rgba(55, 128, 191, 1.0)\", \"line\": {\"color\": \"#4D5663\", \"width\": 1.3}}, \"name\": \"B\", \"nbinsx\": 10, \"opacity\": 0.8, \"orientation\": \"v\", \"type\": \"histogram\", \"x\": [-1.4475834439088642, 1.936342110293859, 1.5703019396317082, -1.141171509843668, 0.7086983057483757, -0.21548691100100484, -0.4935357265485408, -0.40008675780020697, 0.24466237321409023, -0.5575940599375178, 0.7174291311785046, 0.6066901397467638, 0.7183279064527168, 0.9037822643675042, 0.7922052580156334, 0.33548132017685217, -0.20261143372834065, 0.7973085569924002, 1.0992036024784997, -0.49476558867100884, -0.33780792682176386, -1.338637353195344, 1.1385637433257803, -0.20322491634641116, 0.6844714764071702, -0.16617105280152625, 1.3721896447655835, -0.432825142025372, -0.6979376497189357, -1.827219084945071, -0.08870604821904153, -0.7593429321290202, -1.1452326196090716, -0.6591873413644148, -0.024453262800700207, 2.8961064396206346, 1.363739087484403, -0.020299241643240123, -0.5503581956789931, 0.202981852523745, -0.04318579863195509, 1.3640507313160912, -1.0280179913191263, 0.21129179119723718, 0.10297146234534578, -1.2433243782994525, -0.021709600661412465, 1.1984399083378903, -1.3599613321180355, 1.3891357969076896, 0.07820929637177787, -0.6378218867551335, -1.0039159825678918, -2.126997043628774, 0.06341984518776161, 0.32731593946564225, 2.0722346896488597, -1.8756884771290674, -1.8738446512520954, -0.1688759685449708, 0.345763386677497, -1.4914130382877966, -1.4107957310164405, -0.4184816338943611, 1.1964942739671964, -0.42009278182817616, 0.10668530708683387, -0.7525150643124401, -0.010377553383409528, -0.2561262290407313, -0.5193080456284674, 0.2376140021029851, 0.22650863712631936, -0.023683051465336405, -0.10574186404763539, -1.3388266088658878, 1.8649371415743328, -0.0011472808149724546, -0.5809929109198254, 0.7474919614838859, -0.816872565749726, 1.0410209931608316, -0.39785709352618437, -1.0815621564988975, 1.176812583300365, 0.9895727666875234, -0.756797865773887, -0.3816828597434053, 0.42707439730370905, -0.1562011388869837, 0.9675610510066449, 0.02891219020418467, -0.6378898829804626, -0.8479768977153376, -0.41446797004090963, 2.564737002195348, 0.13364725564235924, -0.6973271644929159, -0.4527411973437712, -1.0237425044832327], \"xaxis\": \"x6\", \"yaxis\": \"y6\"}, {\"line\": {\"color\": \"rgba(128, 128, 128, 1.0)\", \"dash\": \"solid\", \"shape\": \"linear\", \"width\": 1.3}, \"marker\": {\"size\": 2, \"symbol\": \"circle\"}, \"mode\": \"markers\", \"name\": \"B\", \"text\": \"\", \"type\": \"scatter\", \"x\": [1.4049242054570623, 0.1547621834006053, 0.6427377446553894, 0.14176958512210536, 0.6452742473253624, -1.1029515760211577, 0.004636889360956238, -1.4867686806843832, 1.5347473240196792, 0.15995536296369012, 0.31029386900621286, -1.549795310649013, 0.4618488125890316, 1.1201251521430575, 0.4690802803947774, 1.6432681308561372, 0.008389568495615356, -0.01239621104004811, 0.24131053638423328, -1.4103219963121891, 1.2492004628011075, 0.18955669364213737, 0.8157350982642384, 0.07675734152535334, -0.30505179092398904, -0.5078562267149158, -0.4179911704810528, 0.5408776143582213, 1.8372513308449336, -0.2501002967666486, 0.1996512023214983, 0.8691901065752327, 0.4495597707471277, -2.801023933962865, -0.8238229519352759, 0.04128400296717988, -0.6901701140888579, 1.1916495037586128, -0.9295614751372788, -0.3231576891007971, -0.7040182646953186, 1.9790020173304628, 0.985673156309637, 0.6222213952844792, -0.1690695981714178, 1.3063478136705455, -0.5537556528688246, 0.06401592476986435, -0.0008402575602733345, -0.5639327228761422, 0.6608360365296245, 0.2932081224527548, 0.6024607368840637, 0.6096916892907379, -0.8679904449478311, -0.12208563224647935, -1.132526357998367, -0.3968559663885494, 0.5730640969363368, 0.3827904667250426, -0.8200063265474274, -0.45552898404631365, 0.08141056318368534, 0.5051122350181024, -2.0250450421281125, 0.014663387828365947, 0.5667760720620605, 0.2022882687234411, 1.187387385536581, 1.0189024742420798, -0.7298071957786113, 0.05948535909929114, -0.5079171949110749, -0.7440860797142066, 0.3268609879345079, 1.4598066328833745, 1.012654544868541, -0.6403355542078821, -0.08502020694767025, 1.4850038202651428, 0.08081454059719645, 0.2627642445729847, -0.8642028436313269, -0.49831337549218374, -0.2800136845430416, 0.040417289509109944, -1.144179761118651, 1.807443770703011, 0.3806342224989023, 1.2287603745892146, 0.8735308102245346, -0.8352237499555955, 1.2123633864099363, 0.5996684543315636, -1.2552732180664523, -0.33749497322565136, -0.3596282323596586, -0.36185868788703535, 0.8894345743403884, -0.8404253713393572], \"xaxis\": \"x7\", \"y\": [-1.4475834439088642, 1.936342110293859, 1.5703019396317082, -1.141171509843668, 0.7086983057483757, -0.21548691100100484, -0.4935357265485408, -0.40008675780020697, 0.24466237321409023, -0.5575940599375178, 0.7174291311785046, 0.6066901397467638, 0.7183279064527168, 0.9037822643675042, 0.7922052580156334, 0.33548132017685217, -0.20261143372834065, 0.7973085569924002, 1.0992036024784997, -0.49476558867100884, -0.33780792682176386, -1.338637353195344, 1.1385637433257803, -0.20322491634641116, 0.6844714764071702, -0.16617105280152625, 1.3721896447655835, -0.432825142025372, -0.6979376497189357, -1.827219084945071, -0.08870604821904153, -0.7593429321290202, -1.1452326196090716, -0.6591873413644148, -0.024453262800700207, 2.8961064396206346, 1.363739087484403, -0.020299241643240123, -0.5503581956789931, 0.202981852523745, -0.04318579863195509, 1.3640507313160912, -1.0280179913191263, 0.21129179119723718, 0.10297146234534578, -1.2433243782994525, -0.021709600661412465, 1.1984399083378903, -1.3599613321180355, 1.3891357969076896, 0.07820929637177787, -0.6378218867551335, -1.0039159825678918, -2.126997043628774, 0.06341984518776161, 0.32731593946564225, 2.0722346896488597, -1.8756884771290674, -1.8738446512520954, -0.1688759685449708, 0.345763386677497, -1.4914130382877966, -1.4107957310164405, -0.4184816338943611, 1.1964942739671964, -0.42009278182817616, 0.10668530708683387, -0.7525150643124401, -0.010377553383409528, -0.2561262290407313, -0.5193080456284674, 0.2376140021029851, 0.22650863712631936, -0.023683051465336405, -0.10574186404763539, -1.3388266088658878, 1.8649371415743328, -0.0011472808149724546, -0.5809929109198254, 0.7474919614838859, -0.816872565749726, 1.0410209931608316, -0.39785709352618437, -1.0815621564988975, 1.176812583300365, 0.9895727666875234, -0.756797865773887, -0.3816828597434053, 0.42707439730370905, -0.1562011388869837, 0.9675610510066449, 0.02891219020418467, -0.6378898829804626, -0.8479768977153376, -0.41446797004090963, 2.564737002195348, 0.13364725564235924, -0.6973271644929159, -0.4527411973437712, -1.0237425044832327], \"yaxis\": \"y7\"}, {\"line\": {\"color\": \"rgba(128, 128, 128, 1.0)\", \"dash\": \"solid\", \"shape\": \"linear\", \"width\": 1.3}, \"marker\": {\"size\": 2, \"symbol\": \"circle\"}, \"mode\": \"markers\", \"name\": \"B\", \"text\": \"\", \"type\": \"scatter\", \"x\": [0.6893397535031753, -0.634782770197293, -1.3651647455238947, 0.5659178518454178, 0.14146422009809448, 0.20585568742835458, -0.323569057620845, 0.24781586608556125, 0.8208949499246398, 1.3351105498079698, 0.7989279478030678, -0.6468933836371301, 0.39863035992129003, 0.47095104852203645, 0.2693234881822479, 0.5149635994224956, 0.540039861790419, -1.0560385502243055, 1.420309355013242, -1.3271645563971741, 0.02428842976034102, -1.1279761762651903, 0.7425629834247508, 0.12454951520226333, -0.8900025088723069, -1.0415293745293592, -1.032703442507068, 0.08858842850306446, 0.21673451116324674, 1.0773810976744913, -0.8005023910645993, -0.8250117982933071, -0.875049873565815, 0.12047064633653336, 1.5518281540606154, -0.48950713262227397, 1.158258147987117, 0.11856343615655199, 1.6570380736340358, 2.127076507548714, -1.5071492237481672, 1.3878540441851652, 1.7967392604687493, -2.427511091257778, 0.6638920325166114, -1.0243866636811134, -0.9977307088517342, 1.1332705619033097, 0.1787949995440567, 1.8294622360138504, 1.336117505283273, -0.9747308204149058, -0.21060626994445616, -1.6792949349020025, -1.6977453195697814, -1.486859332377673, 0.4614839606236429, 1.7033598737816464, 0.3469648988028317, -0.6698873840875732, 1.1598972264121405, 0.6215349000091484, -1.2264167086553013, 0.23438318536696298, 1.0633039804419662, 0.14760634745273152, 1.2677451019504973, 0.6535051309470021, -0.6851207475862858, -1.8591972638103833, -0.37396971449307076, -1.2208452591467445, 0.18790967127387492, -0.6058533913589577, 0.01130864506496672, -3.1060627472728273, -0.27687656929833604, 0.34068588900417174, -0.04575381175627021, 0.9099625078425607, -0.5794692122519473, -0.1965604817374992, -0.30034716768779113, -0.8263038743589, 0.3559471996961158, -0.618517658506671, -0.5489259138475905, -1.192280245987357, -0.17765596325209876, -1.7786305738644168, 0.6023764476041314, 0.5177743526185985, 1.625948563551156, 0.732401806275617, 0.5159331202280345, 0.9004335661442393, 0.12533332537820574, 0.05145474359691806, -1.1901492124514266, 1.3226574609114097], \"xaxis\": \"x8\", \"y\": [-1.4475834439088642, 1.936342110293859, 1.5703019396317082, -1.141171509843668, 0.7086983057483757, -0.21548691100100484, -0.4935357265485408, -0.40008675780020697, 0.24466237321409023, -0.5575940599375178, 0.7174291311785046, 0.6066901397467638, 0.7183279064527168, 0.9037822643675042, 0.7922052580156334, 0.33548132017685217, -0.20261143372834065, 0.7973085569924002, 1.0992036024784997, -0.49476558867100884, -0.33780792682176386, -1.338637353195344, 1.1385637433257803, -0.20322491634641116, 0.6844714764071702, -0.16617105280152625, 1.3721896447655835, -0.432825142025372, -0.6979376497189357, -1.827219084945071, -0.08870604821904153, -0.7593429321290202, -1.1452326196090716, -0.6591873413644148, -0.024453262800700207, 2.8961064396206346, 1.363739087484403, -0.020299241643240123, -0.5503581956789931, 0.202981852523745, -0.04318579863195509, 1.3640507313160912, -1.0280179913191263, 0.21129179119723718, 0.10297146234534578, -1.2433243782994525, -0.021709600661412465, 1.1984399083378903, -1.3599613321180355, 1.3891357969076896, 0.07820929637177787, -0.6378218867551335, -1.0039159825678918, -2.126997043628774, 0.06341984518776161, 0.32731593946564225, 2.0722346896488597, -1.8756884771290674, -1.8738446512520954, -0.1688759685449708, 0.345763386677497, -1.4914130382877966, -1.4107957310164405, -0.4184816338943611, 1.1964942739671964, -0.42009278182817616, 0.10668530708683387, -0.7525150643124401, -0.010377553383409528, -0.2561262290407313, -0.5193080456284674, 0.2376140021029851, 0.22650863712631936, -0.023683051465336405, -0.10574186404763539, -1.3388266088658878, 1.8649371415743328, -0.0011472808149724546, -0.5809929109198254, 0.7474919614838859, -0.816872565749726, 1.0410209931608316, -0.39785709352618437, -1.0815621564988975, 1.176812583300365, 0.9895727666875234, -0.756797865773887, -0.3816828597434053, 0.42707439730370905, -0.1562011388869837, 0.9675610510066449, 0.02891219020418467, -0.6378898829804626, -0.8479768977153376, -0.41446797004090963, 2.564737002195348, 0.13364725564235924, -0.6973271644929159, -0.4527411973437712, -1.0237425044832327], \"yaxis\": \"y8\"}, {\"line\": {\"color\": \"rgba(128, 128, 128, 1.0)\", \"dash\": \"solid\", \"shape\": \"linear\", \"width\": 1.3}, \"marker\": {\"size\": 2, \"symbol\": \"circle\"}, \"mode\": \"markers\", \"name\": \"C\", \"text\": \"\", \"type\": \"scatter\", \"x\": [0.9273501686452831, -0.5336819713432426, -0.4719061159137588, -0.9892039772850318, 1.745699378229749, -0.26335462861925224, 0.7908256324744336, -0.018916685629151987, 1.4362821330775597, -0.32503355428080577, 0.153676829720251, 1.1318065272893738, 0.08839548036838218, -0.13371513443907548, 0.04554308700723792, -0.05877157631492504, 0.9319619775407781, -0.892681343719326, -0.23869875455176157, -0.8071351942969122, -0.8460637342785593, 0.5435124105045299, 1.8829768691003779, 0.26018907025834476, -0.9630329187123825, 0.5924332239870846, 0.05224067716215473, -0.22741409274250976, 0.12187361251470992, 0.195255432340129, -3.1675899599066684, 0.4368530139763862, 1.9289359381994984, 0.8056938127943846, -0.37292655824780185, 0.6512746095656167, -0.9938636126479036, 0.7862381402545336, -1.1287854744382666, 0.6094151867668576, -1.3345012926132753, -0.02281986102852559, 2.1763311981289886, -0.09963573401996252, 0.8464995922182782, -1.2042004296695825, 2.1203247152475537, 0.36791612384551403, -0.23999914272661843, 0.024080904242700003, 0.03482469604660009, 1.8265286417264184, 0.49707787161574435, -0.5323481640582688, -0.5904516820742872, -0.31429352820806933, -0.20083676978802706, -0.24576824746640213, 0.4490649374540152, 0.009106977618565758, -0.2601190686513889, -0.4885809019711191, -0.7065650259075594, -0.5655889024607965, 1.1242265905343243, -1.289422567292631, -0.11079106339526591, 0.025175648703488762, -1.0654028367316437, 0.5876369583983077, -1.2193627328117418, 0.27503948246745363, 0.20062669512915307, -0.712497095962588, -0.5936065482919237, 0.3162171738816598, -2.0801283752733593, 0.05481389727834878, 0.29834235948809595, -0.25193217959399716, -0.18815985965566256, -1.0993840202389924, 1.3720808925772439, -1.3901447430249643, 0.2952706310041869, -0.14215402384411635, 0.2557152281650664, 0.05237368863656635, 0.1665134157650504, 0.32752167656534614, -0.02638737238095419, -0.07622496454221706, 1.5158939538061444, 1.2842668521004519, 1.1900091488359847, 0.11950465514627728, 0.20792715338952203, -0.7069618004958248, -1.0060679633961014, 0.7402869780165224], \"xaxis\": \"x9\", \"y\": [1.4049242054570623, 0.1547621834006053, 0.6427377446553894, 0.14176958512210536, 0.6452742473253624, -1.1029515760211577, 0.004636889360956238, -1.4867686806843832, 1.5347473240196792, 0.15995536296369012, 0.31029386900621286, -1.549795310649013, 0.4618488125890316, 1.1201251521430575, 0.4690802803947774, 1.6432681308561372, 0.008389568495615356, -0.01239621104004811, 0.24131053638423328, -1.4103219963121891, 1.2492004628011075, 0.18955669364213737, 0.8157350982642384, 0.07675734152535334, -0.30505179092398904, -0.5078562267149158, -0.4179911704810528, 0.5408776143582213, 1.8372513308449336, -0.2501002967666486, 0.1996512023214983, 0.8691901065752327, 0.4495597707471277, -2.801023933962865, -0.8238229519352759, 0.04128400296717988, -0.6901701140888579, 1.1916495037586128, -0.9295614751372788, -0.3231576891007971, -0.7040182646953186, 1.9790020173304628, 0.985673156309637, 0.6222213952844792, -0.1690695981714178, 1.3063478136705455, -0.5537556528688246, 0.06401592476986435, -0.0008402575602733345, -0.5639327228761422, 0.6608360365296245, 0.2932081224527548, 0.6024607368840637, 0.6096916892907379, -0.8679904449478311, -0.12208563224647935, -1.132526357998367, -0.3968559663885494, 0.5730640969363368, 0.3827904667250426, -0.8200063265474274, -0.45552898404631365, 0.08141056318368534, 0.5051122350181024, -2.0250450421281125, 0.014663387828365947, 0.5667760720620605, 0.2022882687234411, 1.187387385536581, 1.0189024742420798, -0.7298071957786113, 0.05948535909929114, -0.5079171949110749, -0.7440860797142066, 0.3268609879345079, 1.4598066328833745, 1.012654544868541, -0.6403355542078821, -0.08502020694767025, 1.4850038202651428, 0.08081454059719645, 0.2627642445729847, -0.8642028436313269, -0.49831337549218374, -0.2800136845430416, 0.040417289509109944, -1.144179761118651, 1.807443770703011, 0.3806342224989023, 1.2287603745892146, 0.8735308102245346, -0.8352237499555955, 1.2123633864099363, 0.5996684543315636, -1.2552732180664523, -0.33749497322565136, -0.3596282323596586, -0.36185868788703535, 0.8894345743403884, -0.8404253713393572], \"yaxis\": \"y9\"}, {\"line\": {\"color\": \"rgba(128, 128, 128, 1.0)\", \"dash\": \"solid\", \"shape\": \"linear\", \"width\": 1.3}, \"marker\": {\"size\": 2, \"symbol\": \"circle\"}, \"mode\": \"markers\", \"name\": \"C\", \"text\": \"\", \"type\": \"scatter\", \"x\": [-1.4475834439088642, 1.936342110293859, 1.5703019396317082, -1.141171509843668, 0.7086983057483757, -0.21548691100100484, -0.4935357265485408, -0.40008675780020697, 0.24466237321409023, -0.5575940599375178, 0.7174291311785046, 0.6066901397467638, 0.7183279064527168, 0.9037822643675042, 0.7922052580156334, 0.33548132017685217, -0.20261143372834065, 0.7973085569924002, 1.0992036024784997, -0.49476558867100884, -0.33780792682176386, -1.338637353195344, 1.1385637433257803, -0.20322491634641116, 0.6844714764071702, -0.16617105280152625, 1.3721896447655835, -0.432825142025372, -0.6979376497189357, -1.827219084945071, -0.08870604821904153, -0.7593429321290202, -1.1452326196090716, -0.6591873413644148, -0.024453262800700207, 2.8961064396206346, 1.363739087484403, -0.020299241643240123, -0.5503581956789931, 0.202981852523745, -0.04318579863195509, 1.3640507313160912, -1.0280179913191263, 0.21129179119723718, 0.10297146234534578, -1.2433243782994525, -0.021709600661412465, 1.1984399083378903, -1.3599613321180355, 1.3891357969076896, 0.07820929637177787, -0.6378218867551335, -1.0039159825678918, -2.126997043628774, 0.06341984518776161, 0.32731593946564225, 2.0722346896488597, -1.8756884771290674, -1.8738446512520954, -0.1688759685449708, 0.345763386677497, -1.4914130382877966, -1.4107957310164405, -0.4184816338943611, 1.1964942739671964, -0.42009278182817616, 0.10668530708683387, -0.7525150643124401, -0.010377553383409528, -0.2561262290407313, -0.5193080456284674, 0.2376140021029851, 0.22650863712631936, -0.023683051465336405, -0.10574186404763539, -1.3388266088658878, 1.8649371415743328, -0.0011472808149724546, -0.5809929109198254, 0.7474919614838859, -0.816872565749726, 1.0410209931608316, -0.39785709352618437, -1.0815621564988975, 1.176812583300365, 0.9895727666875234, -0.756797865773887, -0.3816828597434053, 0.42707439730370905, -0.1562011388869837, 0.9675610510066449, 0.02891219020418467, -0.6378898829804626, -0.8479768977153376, -0.41446797004090963, 2.564737002195348, 0.13364725564235924, -0.6973271644929159, -0.4527411973437712, -1.0237425044832327], \"xaxis\": \"x10\", \"y\": [1.4049242054570623, 0.1547621834006053, 0.6427377446553894, 0.14176958512210536, 0.6452742473253624, -1.1029515760211577, 0.004636889360956238, -1.4867686806843832, 1.5347473240196792, 0.15995536296369012, 0.31029386900621286, -1.549795310649013, 0.4618488125890316, 1.1201251521430575, 0.4690802803947774, 1.6432681308561372, 0.008389568495615356, -0.01239621104004811, 0.24131053638423328, -1.4103219963121891, 1.2492004628011075, 0.18955669364213737, 0.8157350982642384, 0.07675734152535334, -0.30505179092398904, -0.5078562267149158, -0.4179911704810528, 0.5408776143582213, 1.8372513308449336, -0.2501002967666486, 0.1996512023214983, 0.8691901065752327, 0.4495597707471277, -2.801023933962865, -0.8238229519352759, 0.04128400296717988, -0.6901701140888579, 1.1916495037586128, -0.9295614751372788, -0.3231576891007971, -0.7040182646953186, 1.9790020173304628, 0.985673156309637, 0.6222213952844792, -0.1690695981714178, 1.3063478136705455, -0.5537556528688246, 0.06401592476986435, -0.0008402575602733345, -0.5639327228761422, 0.6608360365296245, 0.2932081224527548, 0.6024607368840637, 0.6096916892907379, -0.8679904449478311, -0.12208563224647935, -1.132526357998367, -0.3968559663885494, 0.5730640969363368, 0.3827904667250426, -0.8200063265474274, -0.45552898404631365, 0.08141056318368534, 0.5051122350181024, -2.0250450421281125, 0.014663387828365947, 0.5667760720620605, 0.2022882687234411, 1.187387385536581, 1.0189024742420798, -0.7298071957786113, 0.05948535909929114, -0.5079171949110749, -0.7440860797142066, 0.3268609879345079, 1.4598066328833745, 1.012654544868541, -0.6403355542078821, -0.08502020694767025, 1.4850038202651428, 0.08081454059719645, 0.2627642445729847, -0.8642028436313269, -0.49831337549218374, -0.2800136845430416, 0.040417289509109944, -1.144179761118651, 1.807443770703011, 0.3806342224989023, 1.2287603745892146, 0.8735308102245346, -0.8352237499555955, 1.2123633864099363, 0.5996684543315636, -1.2552732180664523, -0.33749497322565136, -0.3596282323596586, -0.36185868788703535, 0.8894345743403884, -0.8404253713393572], \"yaxis\": \"y10\"}, {\"histfunc\": \"count\", \"histnorm\": \"\", \"marker\": {\"color\": \"rgba(50, 171, 96, 1.0)\", \"line\": {\"color\": \"#4D5663\", \"width\": 1.3}}, \"name\": \"C\", \"nbinsx\": 10, \"opacity\": 0.8, \"orientation\": \"v\", \"type\": \"histogram\", \"x\": [1.4049242054570623, 0.1547621834006053, 0.6427377446553894, 0.14176958512210536, 0.6452742473253624, -1.1029515760211577, 0.004636889360956238, -1.4867686806843832, 1.5347473240196792, 0.15995536296369012, 0.31029386900621286, -1.549795310649013, 0.4618488125890316, 1.1201251521430575, 0.4690802803947774, 1.6432681308561372, 0.008389568495615356, -0.01239621104004811, 0.24131053638423328, -1.4103219963121891, 1.2492004628011075, 0.18955669364213737, 0.8157350982642384, 0.07675734152535334, -0.30505179092398904, -0.5078562267149158, -0.4179911704810528, 0.5408776143582213, 1.8372513308449336, -0.2501002967666486, 0.1996512023214983, 0.8691901065752327, 0.4495597707471277, -2.801023933962865, -0.8238229519352759, 0.04128400296717988, -0.6901701140888579, 1.1916495037586128, -0.9295614751372788, -0.3231576891007971, -0.7040182646953186, 1.9790020173304628, 0.985673156309637, 0.6222213952844792, -0.1690695981714178, 1.3063478136705455, -0.5537556528688246, 0.06401592476986435, -0.0008402575602733345, -0.5639327228761422, 0.6608360365296245, 0.2932081224527548, 0.6024607368840637, 0.6096916892907379, -0.8679904449478311, -0.12208563224647935, -1.132526357998367, -0.3968559663885494, 0.5730640969363368, 0.3827904667250426, -0.8200063265474274, -0.45552898404631365, 0.08141056318368534, 0.5051122350181024, -2.0250450421281125, 0.014663387828365947, 0.5667760720620605, 0.2022882687234411, 1.187387385536581, 1.0189024742420798, -0.7298071957786113, 0.05948535909929114, -0.5079171949110749, -0.7440860797142066, 0.3268609879345079, 1.4598066328833745, 1.012654544868541, -0.6403355542078821, -0.08502020694767025, 1.4850038202651428, 0.08081454059719645, 0.2627642445729847, -0.8642028436313269, -0.49831337549218374, -0.2800136845430416, 0.040417289509109944, -1.144179761118651, 1.807443770703011, 0.3806342224989023, 1.2287603745892146, 0.8735308102245346, -0.8352237499555955, 1.2123633864099363, 0.5996684543315636, -1.2552732180664523, -0.33749497322565136, -0.3596282323596586, -0.36185868788703535, 0.8894345743403884, -0.8404253713393572], \"xaxis\": \"x11\", \"yaxis\": \"y11\"}, {\"line\": {\"color\": \"rgba(128, 128, 128, 1.0)\", \"dash\": \"solid\", \"shape\": \"linear\", \"width\": 1.3}, \"marker\": {\"size\": 2, \"symbol\": \"circle\"}, \"mode\": \"markers\", \"name\": \"C\", \"text\": \"\", \"type\": \"scatter\", \"x\": [0.6893397535031753, -0.634782770197293, -1.3651647455238947, 0.5659178518454178, 0.14146422009809448, 0.20585568742835458, -0.323569057620845, 0.24781586608556125, 0.8208949499246398, 1.3351105498079698, 0.7989279478030678, -0.6468933836371301, 0.39863035992129003, 0.47095104852203645, 0.2693234881822479, 0.5149635994224956, 0.540039861790419, -1.0560385502243055, 1.420309355013242, -1.3271645563971741, 0.02428842976034102, -1.1279761762651903, 0.7425629834247508, 0.12454951520226333, -0.8900025088723069, -1.0415293745293592, -1.032703442507068, 0.08858842850306446, 0.21673451116324674, 1.0773810976744913, -0.8005023910645993, -0.8250117982933071, -0.875049873565815, 0.12047064633653336, 1.5518281540606154, -0.48950713262227397, 1.158258147987117, 0.11856343615655199, 1.6570380736340358, 2.127076507548714, -1.5071492237481672, 1.3878540441851652, 1.7967392604687493, -2.427511091257778, 0.6638920325166114, -1.0243866636811134, -0.9977307088517342, 1.1332705619033097, 0.1787949995440567, 1.8294622360138504, 1.336117505283273, -0.9747308204149058, -0.21060626994445616, -1.6792949349020025, -1.6977453195697814, -1.486859332377673, 0.4614839606236429, 1.7033598737816464, 0.3469648988028317, -0.6698873840875732, 1.1598972264121405, 0.6215349000091484, -1.2264167086553013, 0.23438318536696298, 1.0633039804419662, 0.14760634745273152, 1.2677451019504973, 0.6535051309470021, -0.6851207475862858, -1.8591972638103833, -0.37396971449307076, -1.2208452591467445, 0.18790967127387492, -0.6058533913589577, 0.01130864506496672, -3.1060627472728273, -0.27687656929833604, 0.34068588900417174, -0.04575381175627021, 0.9099625078425607, -0.5794692122519473, -0.1965604817374992, -0.30034716768779113, -0.8263038743589, 0.3559471996961158, -0.618517658506671, -0.5489259138475905, -1.192280245987357, -0.17765596325209876, -1.7786305738644168, 0.6023764476041314, 0.5177743526185985, 1.625948563551156, 0.732401806275617, 0.5159331202280345, 0.9004335661442393, 0.12533332537820574, 0.05145474359691806, -1.1901492124514266, 1.3226574609114097], \"xaxis\": \"x12\", \"y\": [1.4049242054570623, 0.1547621834006053, 0.6427377446553894, 0.14176958512210536, 0.6452742473253624, -1.1029515760211577, 0.004636889360956238, -1.4867686806843832, 1.5347473240196792, 0.15995536296369012, 0.31029386900621286, -1.549795310649013, 0.4618488125890316, 1.1201251521430575, 0.4690802803947774, 1.6432681308561372, 0.008389568495615356, -0.01239621104004811, 0.24131053638423328, -1.4103219963121891, 1.2492004628011075, 0.18955669364213737, 0.8157350982642384, 0.07675734152535334, -0.30505179092398904, -0.5078562267149158, -0.4179911704810528, 0.5408776143582213, 1.8372513308449336, -0.2501002967666486, 0.1996512023214983, 0.8691901065752327, 0.4495597707471277, -2.801023933962865, -0.8238229519352759, 0.04128400296717988, -0.6901701140888579, 1.1916495037586128, -0.9295614751372788, -0.3231576891007971, -0.7040182646953186, 1.9790020173304628, 0.985673156309637, 0.6222213952844792, -0.1690695981714178, 1.3063478136705455, -0.5537556528688246, 0.06401592476986435, -0.0008402575602733345, -0.5639327228761422, 0.6608360365296245, 0.2932081224527548, 0.6024607368840637, 0.6096916892907379, -0.8679904449478311, -0.12208563224647935, -1.132526357998367, -0.3968559663885494, 0.5730640969363368, 0.3827904667250426, -0.8200063265474274, -0.45552898404631365, 0.08141056318368534, 0.5051122350181024, -2.0250450421281125, 0.014663387828365947, 0.5667760720620605, 0.2022882687234411, 1.187387385536581, 1.0189024742420798, -0.7298071957786113, 0.05948535909929114, -0.5079171949110749, -0.7440860797142066, 0.3268609879345079, 1.4598066328833745, 1.012654544868541, -0.6403355542078821, -0.08502020694767025, 1.4850038202651428, 0.08081454059719645, 0.2627642445729847, -0.8642028436313269, -0.49831337549218374, -0.2800136845430416, 0.040417289509109944, -1.144179761118651, 1.807443770703011, 0.3806342224989023, 1.2287603745892146, 0.8735308102245346, -0.8352237499555955, 1.2123633864099363, 0.5996684543315636, -1.2552732180664523, -0.33749497322565136, -0.3596282323596586, -0.36185868788703535, 0.8894345743403884, -0.8404253713393572], \"yaxis\": \"y12\"}, {\"line\": {\"color\": \"rgba(128, 128, 128, 1.0)\", \"dash\": \"solid\", \"shape\": \"linear\", \"width\": 1.3}, \"marker\": {\"size\": 2, \"symbol\": \"circle\"}, \"mode\": \"markers\", \"name\": \"D\", \"text\": \"\", \"type\": \"scatter\", \"x\": [0.9273501686452831, -0.5336819713432426, -0.4719061159137588, -0.9892039772850318, 1.745699378229749, -0.26335462861925224, 0.7908256324744336, -0.018916685629151987, 1.4362821330775597, -0.32503355428080577, 0.153676829720251, 1.1318065272893738, 0.08839548036838218, -0.13371513443907548, 0.04554308700723792, -0.05877157631492504, 0.9319619775407781, -0.892681343719326, -0.23869875455176157, -0.8071351942969122, -0.8460637342785593, 0.5435124105045299, 1.8829768691003779, 0.26018907025834476, -0.9630329187123825, 0.5924332239870846, 0.05224067716215473, -0.22741409274250976, 0.12187361251470992, 0.195255432340129, -3.1675899599066684, 0.4368530139763862, 1.9289359381994984, 0.8056938127943846, -0.37292655824780185, 0.6512746095656167, -0.9938636126479036, 0.7862381402545336, -1.1287854744382666, 0.6094151867668576, -1.3345012926132753, -0.02281986102852559, 2.1763311981289886, -0.09963573401996252, 0.8464995922182782, -1.2042004296695825, 2.1203247152475537, 0.36791612384551403, -0.23999914272661843, 0.024080904242700003, 0.03482469604660009, 1.8265286417264184, 0.49707787161574435, -0.5323481640582688, -0.5904516820742872, -0.31429352820806933, -0.20083676978802706, -0.24576824746640213, 0.4490649374540152, 0.009106977618565758, -0.2601190686513889, -0.4885809019711191, -0.7065650259075594, -0.5655889024607965, 1.1242265905343243, -1.289422567292631, -0.11079106339526591, 0.025175648703488762, -1.0654028367316437, 0.5876369583983077, -1.2193627328117418, 0.27503948246745363, 0.20062669512915307, -0.712497095962588, -0.5936065482919237, 0.3162171738816598, -2.0801283752733593, 0.05481389727834878, 0.29834235948809595, -0.25193217959399716, -0.18815985965566256, -1.0993840202389924, 1.3720808925772439, -1.3901447430249643, 0.2952706310041869, -0.14215402384411635, 0.2557152281650664, 0.05237368863656635, 0.1665134157650504, 0.32752167656534614, -0.02638737238095419, -0.07622496454221706, 1.5158939538061444, 1.2842668521004519, 1.1900091488359847, 0.11950465514627728, 0.20792715338952203, -0.7069618004958248, -1.0060679633961014, 0.7402869780165224], \"xaxis\": \"x13\", \"y\": [0.6893397535031753, -0.634782770197293, -1.3651647455238947, 0.5659178518454178, 0.14146422009809448, 0.20585568742835458, -0.323569057620845, 0.24781586608556125, 0.8208949499246398, 1.3351105498079698, 0.7989279478030678, -0.6468933836371301, 0.39863035992129003, 0.47095104852203645, 0.2693234881822479, 0.5149635994224956, 0.540039861790419, -1.0560385502243055, 1.420309355013242, -1.3271645563971741, 0.02428842976034102, -1.1279761762651903, 0.7425629834247508, 0.12454951520226333, -0.8900025088723069, -1.0415293745293592, -1.032703442507068, 0.08858842850306446, 0.21673451116324674, 1.0773810976744913, -0.8005023910645993, -0.8250117982933071, -0.875049873565815, 0.12047064633653336, 1.5518281540606154, -0.48950713262227397, 1.158258147987117, 0.11856343615655199, 1.6570380736340358, 2.127076507548714, -1.5071492237481672, 1.3878540441851652, 1.7967392604687493, -2.427511091257778, 0.6638920325166114, -1.0243866636811134, -0.9977307088517342, 1.1332705619033097, 0.1787949995440567, 1.8294622360138504, 1.336117505283273, -0.9747308204149058, -0.21060626994445616, -1.6792949349020025, -1.6977453195697814, -1.486859332377673, 0.4614839606236429, 1.7033598737816464, 0.3469648988028317, -0.6698873840875732, 1.1598972264121405, 0.6215349000091484, -1.2264167086553013, 0.23438318536696298, 1.0633039804419662, 0.14760634745273152, 1.2677451019504973, 0.6535051309470021, -0.6851207475862858, -1.8591972638103833, -0.37396971449307076, -1.2208452591467445, 0.18790967127387492, -0.6058533913589577, 0.01130864506496672, -3.1060627472728273, -0.27687656929833604, 0.34068588900417174, -0.04575381175627021, 0.9099625078425607, -0.5794692122519473, -0.1965604817374992, -0.30034716768779113, -0.8263038743589, 0.3559471996961158, -0.618517658506671, -0.5489259138475905, -1.192280245987357, -0.17765596325209876, -1.7786305738644168, 0.6023764476041314, 0.5177743526185985, 1.625948563551156, 0.732401806275617, 0.5159331202280345, 0.9004335661442393, 0.12533332537820574, 0.05145474359691806, -1.1901492124514266, 1.3226574609114097], \"yaxis\": \"y13\"}, {\"line\": {\"color\": \"rgba(128, 128, 128, 1.0)\", \"dash\": \"solid\", \"shape\": \"linear\", \"width\": 1.3}, \"marker\": {\"size\": 2, \"symbol\": \"circle\"}, \"mode\": \"markers\", \"name\": \"D\", \"text\": \"\", \"type\": \"scatter\", \"x\": [-1.4475834439088642, 1.936342110293859, 1.5703019396317082, -1.141171509843668, 0.7086983057483757, -0.21548691100100484, -0.4935357265485408, -0.40008675780020697, 0.24466237321409023, -0.5575940599375178, 0.7174291311785046, 0.6066901397467638, 0.7183279064527168, 0.9037822643675042, 0.7922052580156334, 0.33548132017685217, -0.20261143372834065, 0.7973085569924002, 1.0992036024784997, -0.49476558867100884, -0.33780792682176386, -1.338637353195344, 1.1385637433257803, -0.20322491634641116, 0.6844714764071702, -0.16617105280152625, 1.3721896447655835, -0.432825142025372, -0.6979376497189357, -1.827219084945071, -0.08870604821904153, -0.7593429321290202, -1.1452326196090716, -0.6591873413644148, -0.024453262800700207, 2.8961064396206346, 1.363739087484403, -0.020299241643240123, -0.5503581956789931, 0.202981852523745, -0.04318579863195509, 1.3640507313160912, -1.0280179913191263, 0.21129179119723718, 0.10297146234534578, -1.2433243782994525, -0.021709600661412465, 1.1984399083378903, -1.3599613321180355, 1.3891357969076896, 0.07820929637177787, -0.6378218867551335, -1.0039159825678918, -2.126997043628774, 0.06341984518776161, 0.32731593946564225, 2.0722346896488597, -1.8756884771290674, -1.8738446512520954, -0.1688759685449708, 0.345763386677497, -1.4914130382877966, -1.4107957310164405, -0.4184816338943611, 1.1964942739671964, -0.42009278182817616, 0.10668530708683387, -0.7525150643124401, -0.010377553383409528, -0.2561262290407313, -0.5193080456284674, 0.2376140021029851, 0.22650863712631936, -0.023683051465336405, -0.10574186404763539, -1.3388266088658878, 1.8649371415743328, -0.0011472808149724546, -0.5809929109198254, 0.7474919614838859, -0.816872565749726, 1.0410209931608316, -0.39785709352618437, -1.0815621564988975, 1.176812583300365, 0.9895727666875234, -0.756797865773887, -0.3816828597434053, 0.42707439730370905, -0.1562011388869837, 0.9675610510066449, 0.02891219020418467, -0.6378898829804626, -0.8479768977153376, -0.41446797004090963, 2.564737002195348, 0.13364725564235924, -0.6973271644929159, -0.4527411973437712, -1.0237425044832327], \"xaxis\": \"x14\", \"y\": [0.6893397535031753, -0.634782770197293, -1.3651647455238947, 0.5659178518454178, 0.14146422009809448, 0.20585568742835458, -0.323569057620845, 0.24781586608556125, 0.8208949499246398, 1.3351105498079698, 0.7989279478030678, -0.6468933836371301, 0.39863035992129003, 0.47095104852203645, 0.2693234881822479, 0.5149635994224956, 0.540039861790419, -1.0560385502243055, 1.420309355013242, -1.3271645563971741, 0.02428842976034102, -1.1279761762651903, 0.7425629834247508, 0.12454951520226333, -0.8900025088723069, -1.0415293745293592, -1.032703442507068, 0.08858842850306446, 0.21673451116324674, 1.0773810976744913, -0.8005023910645993, -0.8250117982933071, -0.875049873565815, 0.12047064633653336, 1.5518281540606154, -0.48950713262227397, 1.158258147987117, 0.11856343615655199, 1.6570380736340358, 2.127076507548714, -1.5071492237481672, 1.3878540441851652, 1.7967392604687493, -2.427511091257778, 0.6638920325166114, -1.0243866636811134, -0.9977307088517342, 1.1332705619033097, 0.1787949995440567, 1.8294622360138504, 1.336117505283273, -0.9747308204149058, -0.21060626994445616, -1.6792949349020025, -1.6977453195697814, -1.486859332377673, 0.4614839606236429, 1.7033598737816464, 0.3469648988028317, -0.6698873840875732, 1.1598972264121405, 0.6215349000091484, -1.2264167086553013, 0.23438318536696298, 1.0633039804419662, 0.14760634745273152, 1.2677451019504973, 0.6535051309470021, -0.6851207475862858, -1.8591972638103833, -0.37396971449307076, -1.2208452591467445, 0.18790967127387492, -0.6058533913589577, 0.01130864506496672, -3.1060627472728273, -0.27687656929833604, 0.34068588900417174, -0.04575381175627021, 0.9099625078425607, -0.5794692122519473, -0.1965604817374992, -0.30034716768779113, -0.8263038743589, 0.3559471996961158, -0.618517658506671, -0.5489259138475905, -1.192280245987357, -0.17765596325209876, -1.7786305738644168, 0.6023764476041314, 0.5177743526185985, 1.625948563551156, 0.732401806275617, 0.5159331202280345, 0.9004335661442393, 0.12533332537820574, 0.05145474359691806, -1.1901492124514266, 1.3226574609114097], \"yaxis\": \"y14\"}, {\"line\": {\"color\": \"rgba(128, 128, 128, 1.0)\", \"dash\": \"solid\", \"shape\": \"linear\", \"width\": 1.3}, \"marker\": {\"size\": 2, \"symbol\": \"circle\"}, \"mode\": \"markers\", \"name\": \"D\", \"text\": \"\", \"type\": \"scatter\", \"x\": [1.4049242054570623, 0.1547621834006053, 0.6427377446553894, 0.14176958512210536, 0.6452742473253624, -1.1029515760211577, 0.004636889360956238, -1.4867686806843832, 1.5347473240196792, 0.15995536296369012, 0.31029386900621286, -1.549795310649013, 0.4618488125890316, 1.1201251521430575, 0.4690802803947774, 1.6432681308561372, 0.008389568495615356, -0.01239621104004811, 0.24131053638423328, -1.4103219963121891, 1.2492004628011075, 0.18955669364213737, 0.8157350982642384, 0.07675734152535334, -0.30505179092398904, -0.5078562267149158, -0.4179911704810528, 0.5408776143582213, 1.8372513308449336, -0.2501002967666486, 0.1996512023214983, 0.8691901065752327, 0.4495597707471277, -2.801023933962865, -0.8238229519352759, 0.04128400296717988, -0.6901701140888579, 1.1916495037586128, -0.9295614751372788, -0.3231576891007971, -0.7040182646953186, 1.9790020173304628, 0.985673156309637, 0.6222213952844792, -0.1690695981714178, 1.3063478136705455, -0.5537556528688246, 0.06401592476986435, -0.0008402575602733345, -0.5639327228761422, 0.6608360365296245, 0.2932081224527548, 0.6024607368840637, 0.6096916892907379, -0.8679904449478311, -0.12208563224647935, -1.132526357998367, -0.3968559663885494, 0.5730640969363368, 0.3827904667250426, -0.8200063265474274, -0.45552898404631365, 0.08141056318368534, 0.5051122350181024, -2.0250450421281125, 0.014663387828365947, 0.5667760720620605, 0.2022882687234411, 1.187387385536581, 1.0189024742420798, -0.7298071957786113, 0.05948535909929114, -0.5079171949110749, -0.7440860797142066, 0.3268609879345079, 1.4598066328833745, 1.012654544868541, -0.6403355542078821, -0.08502020694767025, 1.4850038202651428, 0.08081454059719645, 0.2627642445729847, -0.8642028436313269, -0.49831337549218374, -0.2800136845430416, 0.040417289509109944, -1.144179761118651, 1.807443770703011, 0.3806342224989023, 1.2287603745892146, 0.8735308102245346, -0.8352237499555955, 1.2123633864099363, 0.5996684543315636, -1.2552732180664523, -0.33749497322565136, -0.3596282323596586, -0.36185868788703535, 0.8894345743403884, -0.8404253713393572], \"xaxis\": \"x15\", \"y\": [0.6893397535031753, -0.634782770197293, -1.3651647455238947, 0.5659178518454178, 0.14146422009809448, 0.20585568742835458, -0.323569057620845, 0.24781586608556125, 0.8208949499246398, 1.3351105498079698, 0.7989279478030678, -0.6468933836371301, 0.39863035992129003, 0.47095104852203645, 0.2693234881822479, 0.5149635994224956, 0.540039861790419, -1.0560385502243055, 1.420309355013242, -1.3271645563971741, 0.02428842976034102, -1.1279761762651903, 0.7425629834247508, 0.12454951520226333, -0.8900025088723069, -1.0415293745293592, -1.032703442507068, 0.08858842850306446, 0.21673451116324674, 1.0773810976744913, -0.8005023910645993, -0.8250117982933071, -0.875049873565815, 0.12047064633653336, 1.5518281540606154, -0.48950713262227397, 1.158258147987117, 0.11856343615655199, 1.6570380736340358, 2.127076507548714, -1.5071492237481672, 1.3878540441851652, 1.7967392604687493, -2.427511091257778, 0.6638920325166114, -1.0243866636811134, -0.9977307088517342, 1.1332705619033097, 0.1787949995440567, 1.8294622360138504, 1.336117505283273, -0.9747308204149058, -0.21060626994445616, -1.6792949349020025, -1.6977453195697814, -1.486859332377673, 0.4614839606236429, 1.7033598737816464, 0.3469648988028317, -0.6698873840875732, 1.1598972264121405, 0.6215349000091484, -1.2264167086553013, 0.23438318536696298, 1.0633039804419662, 0.14760634745273152, 1.2677451019504973, 0.6535051309470021, -0.6851207475862858, -1.8591972638103833, -0.37396971449307076, -1.2208452591467445, 0.18790967127387492, -0.6058533913589577, 0.01130864506496672, -3.1060627472728273, -0.27687656929833604, 0.34068588900417174, -0.04575381175627021, 0.9099625078425607, -0.5794692122519473, -0.1965604817374992, -0.30034716768779113, -0.8263038743589, 0.3559471996961158, -0.618517658506671, -0.5489259138475905, -1.192280245987357, -0.17765596325209876, -1.7786305738644168, 0.6023764476041314, 0.5177743526185985, 1.625948563551156, 0.732401806275617, 0.5159331202280345, 0.9004335661442393, 0.12533332537820574, 0.05145474359691806, -1.1901492124514266, 1.3226574609114097], \"yaxis\": \"y15\"}, {\"histfunc\": \"count\", \"histnorm\": \"\", \"marker\": {\"color\": \"rgba(128, 0, 128, 1.0)\", \"line\": {\"color\": \"#4D5663\", \"width\": 1.3}}, \"name\": \"D\", \"nbinsx\": 10, \"opacity\": 0.8, \"orientation\": \"v\", \"type\": \"histogram\", \"x\": [0.6893397535031753, -0.634782770197293, -1.3651647455238947, 0.5659178518454178, 0.14146422009809448, 0.20585568742835458, -0.323569057620845, 0.24781586608556125, 0.8208949499246398, 1.3351105498079698, 0.7989279478030678, -0.6468933836371301, 0.39863035992129003, 0.47095104852203645, 0.2693234881822479, 0.5149635994224956, 0.540039861790419, -1.0560385502243055, 1.420309355013242, -1.3271645563971741, 0.02428842976034102, -1.1279761762651903, 0.7425629834247508, 0.12454951520226333, -0.8900025088723069, -1.0415293745293592, -1.032703442507068, 0.08858842850306446, 0.21673451116324674, 1.0773810976744913, -0.8005023910645993, -0.8250117982933071, -0.875049873565815, 0.12047064633653336, 1.5518281540606154, -0.48950713262227397, 1.158258147987117, 0.11856343615655199, 1.6570380736340358, 2.127076507548714, -1.5071492237481672, 1.3878540441851652, 1.7967392604687493, -2.427511091257778, 0.6638920325166114, -1.0243866636811134, -0.9977307088517342, 1.1332705619033097, 0.1787949995440567, 1.8294622360138504, 1.336117505283273, -0.9747308204149058, -0.21060626994445616, -1.6792949349020025, -1.6977453195697814, -1.486859332377673, 0.4614839606236429, 1.7033598737816464, 0.3469648988028317, -0.6698873840875732, 1.1598972264121405, 0.6215349000091484, -1.2264167086553013, 0.23438318536696298, 1.0633039804419662, 0.14760634745273152, 1.2677451019504973, 0.6535051309470021, -0.6851207475862858, -1.8591972638103833, -0.37396971449307076, -1.2208452591467445, 0.18790967127387492, -0.6058533913589577, 0.01130864506496672, -3.1060627472728273, -0.27687656929833604, 0.34068588900417174, -0.04575381175627021, 0.9099625078425607, -0.5794692122519473, -0.1965604817374992, -0.30034716768779113, -0.8263038743589, 0.3559471996961158, -0.618517658506671, -0.5489259138475905, -1.192280245987357, -0.17765596325209876, -1.7786305738644168, 0.6023764476041314, 0.5177743526185985, 1.625948563551156, 0.732401806275617, 0.5159331202280345, 0.9004335661442393, 0.12533332537820574, 0.05145474359691806, -1.1901492124514266, 1.3226574609114097], \"xaxis\": \"x16\", \"yaxis\": \"y16\"}],\n",
       "                        {\"bargap\": 0.02, \"legend\": {\"bgcolor\": \"#F5F6F9\", \"font\": {\"color\": \"#4D5663\"}}, \"paper_bgcolor\": \"#F5F6F9\", \"plot_bgcolor\": \"#F5F6F9\", \"showlegend\": false, \"template\": {\"data\": {\"bar\": [{\"error_x\": {\"color\": \"#2a3f5f\"}, \"error_y\": {\"color\": \"#2a3f5f\"}, \"marker\": {\"line\": {\"color\": \"#E5ECF6\", \"width\": 0.5}}, \"type\": \"bar\"}], \"barpolar\": [{\"marker\": {\"line\": {\"color\": \"#E5ECF6\", \"width\": 0.5}}, \"type\": \"barpolar\"}], \"carpet\": [{\"aaxis\": {\"endlinecolor\": \"#2a3f5f\", \"gridcolor\": \"white\", \"linecolor\": \"white\", \"minorgridcolor\": \"white\", \"startlinecolor\": \"#2a3f5f\"}, \"baxis\": {\"endlinecolor\": \"#2a3f5f\", \"gridcolor\": \"white\", \"linecolor\": \"white\", \"minorgridcolor\": \"white\", \"startlinecolor\": \"#2a3f5f\"}, \"type\": \"carpet\"}], \"choropleth\": [{\"colorbar\": {\"outlinewidth\": 0, \"ticks\": \"\"}, \"type\": \"choropleth\"}], \"contour\": [{\"colorbar\": {\"outlinewidth\": 0, \"ticks\": \"\"}, \"colorscale\": [[0.0, \"#0d0887\"], [0.1111111111111111, \"#46039f\"], [0.2222222222222222, \"#7201a8\"], [0.3333333333333333, \"#9c179e\"], [0.4444444444444444, \"#bd3786\"], [0.5555555555555556, \"#d8576b\"], [0.6666666666666666, \"#ed7953\"], [0.7777777777777778, \"#fb9f3a\"], [0.8888888888888888, \"#fdca26\"], [1.0, \"#f0f921\"]], \"type\": \"contour\"}], \"contourcarpet\": [{\"colorbar\": {\"outlinewidth\": 0, \"ticks\": \"\"}, \"type\": \"contourcarpet\"}], \"heatmap\": [{\"colorbar\": {\"outlinewidth\": 0, \"ticks\": \"\"}, \"colorscale\": [[0.0, \"#0d0887\"], [0.1111111111111111, \"#46039f\"], [0.2222222222222222, \"#7201a8\"], [0.3333333333333333, \"#9c179e\"], [0.4444444444444444, \"#bd3786\"], [0.5555555555555556, \"#d8576b\"], [0.6666666666666666, \"#ed7953\"], [0.7777777777777778, \"#fb9f3a\"], [0.8888888888888888, \"#fdca26\"], [1.0, \"#f0f921\"]], \"type\": \"heatmap\"}], \"heatmapgl\": [{\"colorbar\": {\"outlinewidth\": 0, \"ticks\": \"\"}, \"colorscale\": [[0.0, \"#0d0887\"], [0.1111111111111111, \"#46039f\"], [0.2222222222222222, \"#7201a8\"], [0.3333333333333333, \"#9c179e\"], [0.4444444444444444, \"#bd3786\"], [0.5555555555555556, \"#d8576b\"], [0.6666666666666666, \"#ed7953\"], [0.7777777777777778, \"#fb9f3a\"], [0.8888888888888888, \"#fdca26\"], [1.0, \"#f0f921\"]], \"type\": \"heatmapgl\"}], \"histogram\": [{\"marker\": {\"colorbar\": {\"outlinewidth\": 0, \"ticks\": \"\"}}, \"type\": \"histogram\"}], \"histogram2d\": [{\"colorbar\": {\"outlinewidth\": 0, \"ticks\": \"\"}, \"colorscale\": [[0.0, \"#0d0887\"], [0.1111111111111111, \"#46039f\"], [0.2222222222222222, \"#7201a8\"], [0.3333333333333333, \"#9c179e\"], [0.4444444444444444, \"#bd3786\"], [0.5555555555555556, \"#d8576b\"], [0.6666666666666666, \"#ed7953\"], [0.7777777777777778, \"#fb9f3a\"], [0.8888888888888888, \"#fdca26\"], [1.0, \"#f0f921\"]], \"type\": \"histogram2d\"}], \"histogram2dcontour\": [{\"colorbar\": {\"outlinewidth\": 0, \"ticks\": \"\"}, \"colorscale\": [[0.0, \"#0d0887\"], [0.1111111111111111, \"#46039f\"], [0.2222222222222222, \"#7201a8\"], [0.3333333333333333, \"#9c179e\"], [0.4444444444444444, \"#bd3786\"], [0.5555555555555556, \"#d8576b\"], [0.6666666666666666, \"#ed7953\"], [0.7777777777777778, \"#fb9f3a\"], [0.8888888888888888, \"#fdca26\"], [1.0, \"#f0f921\"]], \"type\": \"histogram2dcontour\"}], \"mesh3d\": [{\"colorbar\": {\"outlinewidth\": 0, \"ticks\": \"\"}, \"type\": \"mesh3d\"}], \"parcoords\": [{\"line\": {\"colorbar\": {\"outlinewidth\": 0, \"ticks\": \"\"}}, \"type\": \"parcoords\"}], \"pie\": [{\"automargin\": true, \"type\": \"pie\"}], \"scatter\": [{\"marker\": {\"colorbar\": {\"outlinewidth\": 0, \"ticks\": \"\"}}, \"type\": \"scatter\"}], \"scatter3d\": [{\"line\": {\"colorbar\": {\"outlinewidth\": 0, \"ticks\": \"\"}}, \"marker\": {\"colorbar\": {\"outlinewidth\": 0, \"ticks\": \"\"}}, \"type\": \"scatter3d\"}], \"scattercarpet\": [{\"marker\": {\"colorbar\": {\"outlinewidth\": 0, \"ticks\": \"\"}}, \"type\": \"scattercarpet\"}], \"scattergeo\": [{\"marker\": {\"colorbar\": {\"outlinewidth\": 0, \"ticks\": \"\"}}, \"type\": \"scattergeo\"}], \"scattergl\": [{\"marker\": {\"colorbar\": {\"outlinewidth\": 0, \"ticks\": \"\"}}, \"type\": \"scattergl\"}], \"scattermapbox\": [{\"marker\": {\"colorbar\": {\"outlinewidth\": 0, \"ticks\": \"\"}}, \"type\": \"scattermapbox\"}], \"scatterpolar\": [{\"marker\": {\"colorbar\": {\"outlinewidth\": 0, \"ticks\": \"\"}}, \"type\": \"scatterpolar\"}], \"scatterpolargl\": [{\"marker\": {\"colorbar\": {\"outlinewidth\": 0, \"ticks\": \"\"}}, \"type\": \"scatterpolargl\"}], \"scatterternary\": [{\"marker\": {\"colorbar\": {\"outlinewidth\": 0, \"ticks\": \"\"}}, \"type\": \"scatterternary\"}], \"surface\": [{\"colorbar\": {\"outlinewidth\": 0, \"ticks\": \"\"}, \"colorscale\": [[0.0, \"#0d0887\"], [0.1111111111111111, \"#46039f\"], [0.2222222222222222, \"#7201a8\"], [0.3333333333333333, \"#9c179e\"], [0.4444444444444444, \"#bd3786\"], [0.5555555555555556, \"#d8576b\"], [0.6666666666666666, \"#ed7953\"], [0.7777777777777778, \"#fb9f3a\"], [0.8888888888888888, \"#fdca26\"], [1.0, \"#f0f921\"]], \"type\": \"surface\"}], \"table\": [{\"cells\": {\"fill\": {\"color\": \"#EBF0F8\"}, \"line\": {\"color\": \"white\"}}, \"header\": {\"fill\": {\"color\": \"#C8D4E3\"}, \"line\": {\"color\": \"white\"}}, \"type\": \"table\"}]}, \"layout\": {\"annotationdefaults\": {\"arrowcolor\": \"#2a3f5f\", \"arrowhead\": 0, \"arrowwidth\": 1}, \"coloraxis\": {\"colorbar\": {\"outlinewidth\": 0, \"ticks\": \"\"}}, \"colorscale\": {\"diverging\": [[0, \"#8e0152\"], [0.1, \"#c51b7d\"], [0.2, \"#de77ae\"], [0.3, \"#f1b6da\"], [0.4, \"#fde0ef\"], [0.5, \"#f7f7f7\"], [0.6, \"#e6f5d0\"], [0.7, \"#b8e186\"], [0.8, \"#7fbc41\"], [0.9, \"#4d9221\"], [1, \"#276419\"]], \"sequential\": [[0.0, \"#0d0887\"], [0.1111111111111111, \"#46039f\"], [0.2222222222222222, \"#7201a8\"], [0.3333333333333333, \"#9c179e\"], [0.4444444444444444, \"#bd3786\"], [0.5555555555555556, \"#d8576b\"], [0.6666666666666666, \"#ed7953\"], [0.7777777777777778, \"#fb9f3a\"], [0.8888888888888888, \"#fdca26\"], [1.0, \"#f0f921\"]], \"sequentialminus\": [[0.0, \"#0d0887\"], [0.1111111111111111, \"#46039f\"], [0.2222222222222222, \"#7201a8\"], [0.3333333333333333, \"#9c179e\"], [0.4444444444444444, \"#bd3786\"], [0.5555555555555556, \"#d8576b\"], [0.6666666666666666, \"#ed7953\"], [0.7777777777777778, \"#fb9f3a\"], [0.8888888888888888, \"#fdca26\"], [1.0, \"#f0f921\"]]}, \"colorway\": [\"#636efa\", \"#EF553B\", \"#00cc96\", \"#ab63fa\", \"#FFA15A\", \"#19d3f3\", \"#FF6692\", \"#B6E880\", \"#FF97FF\", \"#FECB52\"], \"font\": {\"color\": \"#2a3f5f\"}, \"geo\": {\"bgcolor\": \"white\", \"lakecolor\": \"white\", \"landcolor\": \"#E5ECF6\", \"showlakes\": true, \"showland\": true, \"subunitcolor\": \"white\"}, \"hoverlabel\": {\"align\": \"left\"}, \"hovermode\": \"closest\", \"mapbox\": {\"style\": \"light\"}, \"paper_bgcolor\": \"white\", \"plot_bgcolor\": \"#E5ECF6\", \"polar\": {\"angularaxis\": {\"gridcolor\": \"white\", \"linecolor\": \"white\", \"ticks\": \"\"}, \"bgcolor\": \"#E5ECF6\", \"radialaxis\": {\"gridcolor\": \"white\", \"linecolor\": \"white\", \"ticks\": \"\"}}, \"scene\": {\"xaxis\": {\"backgroundcolor\": \"#E5ECF6\", \"gridcolor\": \"white\", \"gridwidth\": 2, \"linecolor\": \"white\", \"showbackground\": true, \"ticks\": \"\", \"zerolinecolor\": \"white\"}, \"yaxis\": {\"backgroundcolor\": \"#E5ECF6\", \"gridcolor\": \"white\", \"gridwidth\": 2, \"linecolor\": \"white\", \"showbackground\": true, \"ticks\": \"\", \"zerolinecolor\": \"white\"}, \"zaxis\": {\"backgroundcolor\": \"#E5ECF6\", \"gridcolor\": \"white\", \"gridwidth\": 2, \"linecolor\": \"white\", \"showbackground\": true, \"ticks\": \"\", \"zerolinecolor\": \"white\"}}, \"shapedefaults\": {\"line\": {\"color\": \"#2a3f5f\"}}, \"ternary\": {\"aaxis\": {\"gridcolor\": \"white\", \"linecolor\": \"white\", \"ticks\": \"\"}, \"baxis\": {\"gridcolor\": \"white\", \"linecolor\": \"white\", \"ticks\": \"\"}, \"bgcolor\": \"#E5ECF6\", \"caxis\": {\"gridcolor\": \"white\", \"linecolor\": \"white\", \"ticks\": \"\"}}, \"title\": {\"x\": 0.05}, \"xaxis\": {\"automargin\": true, \"gridcolor\": \"white\", \"linecolor\": \"white\", \"ticks\": \"\", \"title\": {\"standoff\": 15}, \"zerolinecolor\": \"white\", \"zerolinewidth\": 2}, \"yaxis\": {\"automargin\": true, \"gridcolor\": \"white\", \"linecolor\": \"white\", \"ticks\": \"\", \"title\": {\"standoff\": 15}, \"zerolinecolor\": \"white\", \"zerolinewidth\": 2}}}, \"title\": {\"font\": {\"color\": \"#4D5663\"}}, \"xaxis\": {\"anchor\": \"y\", \"domain\": [0.0, 0.2125], \"gridcolor\": \"#E1E5ED\", \"showgrid\": false, \"tickfont\": {\"color\": \"#4D5663\"}, \"title\": {\"font\": {\"color\": \"#4D5663\"}, \"text\": \"\"}, \"zerolinecolor\": \"#E1E5ED\"}, \"xaxis10\": {\"anchor\": \"y10\", \"domain\": [0.2625, 0.475], \"gridcolor\": \"#E1E5ED\", \"showgrid\": false, \"tickfont\": {\"color\": \"#4D5663\"}, \"title\": {\"font\": {\"color\": \"#4D5663\"}, \"text\": \"\"}, \"zerolinecolor\": \"#E1E5ED\"}, \"xaxis11\": {\"anchor\": \"y11\", \"domain\": [0.525, 0.7375], \"gridcolor\": \"#E1E5ED\", \"showgrid\": false, \"tickfont\": {\"color\": \"#4D5663\"}, \"title\": {\"font\": {\"color\": \"#4D5663\"}, \"text\": \"\"}, \"zerolinecolor\": \"#E1E5ED\"}, \"xaxis12\": {\"anchor\": \"y12\", \"domain\": [0.7875, 1.0], \"gridcolor\": \"#E1E5ED\", \"showgrid\": false, \"tickfont\": {\"color\": \"#4D5663\"}, \"title\": {\"font\": {\"color\": \"#4D5663\"}, \"text\": \"\"}, \"zerolinecolor\": \"#E1E5ED\"}, \"xaxis13\": {\"anchor\": \"y13\", \"domain\": [0.0, 0.2125], \"gridcolor\": \"#E1E5ED\", \"showgrid\": false, \"tickfont\": {\"color\": \"#4D5663\"}, \"title\": {\"font\": {\"color\": \"#4D5663\"}, \"text\": \"\"}, \"zerolinecolor\": \"#E1E5ED\"}, \"xaxis14\": {\"anchor\": \"y14\", \"domain\": [0.2625, 0.475], \"gridcolor\": \"#E1E5ED\", \"showgrid\": false, \"tickfont\": {\"color\": \"#4D5663\"}, \"title\": {\"font\": {\"color\": \"#4D5663\"}, \"text\": \"\"}, \"zerolinecolor\": \"#E1E5ED\"}, \"xaxis15\": {\"anchor\": \"y15\", \"domain\": [0.525, 0.7375], \"gridcolor\": \"#E1E5ED\", \"showgrid\": false, \"tickfont\": {\"color\": \"#4D5663\"}, \"title\": {\"font\": {\"color\": \"#4D5663\"}, \"text\": \"\"}, \"zerolinecolor\": \"#E1E5ED\"}, \"xaxis16\": {\"anchor\": \"y16\", \"domain\": [0.7875, 1.0], \"gridcolor\": \"#E1E5ED\", \"showgrid\": false, \"tickfont\": {\"color\": \"#4D5663\"}, \"title\": {\"font\": {\"color\": \"#4D5663\"}, \"text\": \"\"}, \"zerolinecolor\": \"#E1E5ED\"}, \"xaxis2\": {\"anchor\": \"y2\", \"domain\": [0.2625, 0.475], \"gridcolor\": \"#E1E5ED\", \"showgrid\": false, \"tickfont\": {\"color\": \"#4D5663\"}, \"title\": {\"font\": {\"color\": \"#4D5663\"}, \"text\": \"\"}, \"zerolinecolor\": \"#E1E5ED\"}, \"xaxis3\": {\"anchor\": \"y3\", \"domain\": [0.525, 0.7375], \"gridcolor\": \"#E1E5ED\", \"showgrid\": false, \"tickfont\": {\"color\": \"#4D5663\"}, \"title\": {\"font\": {\"color\": \"#4D5663\"}, \"text\": \"\"}, \"zerolinecolor\": \"#E1E5ED\"}, \"xaxis4\": {\"anchor\": \"y4\", \"domain\": [0.7875, 1.0], \"gridcolor\": \"#E1E5ED\", \"showgrid\": false, \"tickfont\": {\"color\": \"#4D5663\"}, \"title\": {\"font\": {\"color\": \"#4D5663\"}, \"text\": \"\"}, \"zerolinecolor\": \"#E1E5ED\"}, \"xaxis5\": {\"anchor\": \"y5\", \"domain\": [0.0, 0.2125], \"gridcolor\": \"#E1E5ED\", \"showgrid\": false, \"tickfont\": {\"color\": \"#4D5663\"}, \"title\": {\"font\": {\"color\": \"#4D5663\"}, \"text\": \"\"}, \"zerolinecolor\": \"#E1E5ED\"}, \"xaxis6\": {\"anchor\": \"y6\", \"domain\": [0.2625, 0.475], \"gridcolor\": \"#E1E5ED\", \"showgrid\": false, \"tickfont\": {\"color\": \"#4D5663\"}, \"title\": {\"font\": {\"color\": \"#4D5663\"}, \"text\": \"\"}, \"zerolinecolor\": \"#E1E5ED\"}, \"xaxis7\": {\"anchor\": \"y7\", \"domain\": [0.525, 0.7375], \"gridcolor\": \"#E1E5ED\", \"showgrid\": false, \"tickfont\": {\"color\": \"#4D5663\"}, \"title\": {\"font\": {\"color\": \"#4D5663\"}, \"text\": \"\"}, \"zerolinecolor\": \"#E1E5ED\"}, \"xaxis8\": {\"anchor\": \"y8\", \"domain\": [0.7875, 1.0], \"gridcolor\": \"#E1E5ED\", \"showgrid\": false, \"tickfont\": {\"color\": \"#4D5663\"}, \"title\": {\"font\": {\"color\": \"#4D5663\"}, \"text\": \"\"}, \"zerolinecolor\": \"#E1E5ED\"}, \"xaxis9\": {\"anchor\": \"y9\", \"domain\": [0.0, 0.2125], \"gridcolor\": \"#E1E5ED\", \"showgrid\": false, \"tickfont\": {\"color\": \"#4D5663\"}, \"title\": {\"font\": {\"color\": \"#4D5663\"}, \"text\": \"\"}, \"zerolinecolor\": \"#E1E5ED\"}, \"yaxis\": {\"anchor\": \"x\", \"domain\": [0.8025, 1.0], \"gridcolor\": \"#E1E5ED\", \"showgrid\": false, \"tickfont\": {\"color\": \"#4D5663\"}, \"title\": {\"font\": {\"color\": \"#4D5663\"}, \"text\": \"\"}, \"zerolinecolor\": \"#E1E5ED\"}, \"yaxis10\": {\"anchor\": \"x10\", \"domain\": [0.2675, 0.465], \"gridcolor\": \"#E1E5ED\", \"showgrid\": false, \"tickfont\": {\"color\": \"#4D5663\"}, \"title\": {\"font\": {\"color\": \"#4D5663\"}, \"text\": \"\"}, \"zerolinecolor\": \"#E1E5ED\"}, \"yaxis11\": {\"anchor\": \"x11\", \"domain\": [0.2675, 0.465], \"gridcolor\": \"#E1E5ED\", \"showgrid\": false, \"tickfont\": {\"color\": \"#4D5663\"}, \"title\": {\"font\": {\"color\": \"#4D5663\"}, \"text\": \"\"}, \"zerolinecolor\": \"#E1E5ED\"}, \"yaxis12\": {\"anchor\": \"x12\", \"domain\": [0.2675, 0.465], \"gridcolor\": \"#E1E5ED\", \"showgrid\": false, \"tickfont\": {\"color\": \"#4D5663\"}, \"title\": {\"font\": {\"color\": \"#4D5663\"}, \"text\": \"\"}, \"zerolinecolor\": \"#E1E5ED\"}, \"yaxis13\": {\"anchor\": \"x13\", \"domain\": [0.0, 0.1975], \"gridcolor\": \"#E1E5ED\", \"showgrid\": false, \"tickfont\": {\"color\": \"#4D5663\"}, \"title\": {\"font\": {\"color\": \"#4D5663\"}, \"text\": \"\"}, \"zerolinecolor\": \"#E1E5ED\"}, \"yaxis14\": {\"anchor\": \"x14\", \"domain\": [0.0, 0.1975], \"gridcolor\": \"#E1E5ED\", \"showgrid\": false, \"tickfont\": {\"color\": \"#4D5663\"}, \"title\": {\"font\": {\"color\": \"#4D5663\"}, \"text\": \"\"}, \"zerolinecolor\": \"#E1E5ED\"}, \"yaxis15\": {\"anchor\": \"x15\", \"domain\": [0.0, 0.1975], \"gridcolor\": \"#E1E5ED\", \"showgrid\": false, \"tickfont\": {\"color\": \"#4D5663\"}, \"title\": {\"font\": {\"color\": \"#4D5663\"}, \"text\": \"\"}, \"zerolinecolor\": \"#E1E5ED\"}, \"yaxis16\": {\"anchor\": \"x16\", \"domain\": [0.0, 0.1975], \"gridcolor\": \"#E1E5ED\", \"showgrid\": false, \"tickfont\": {\"color\": \"#4D5663\"}, \"title\": {\"font\": {\"color\": \"#4D5663\"}, \"text\": \"\"}, \"zerolinecolor\": \"#E1E5ED\"}, \"yaxis2\": {\"anchor\": \"x2\", \"domain\": [0.8025, 1.0], \"gridcolor\": \"#E1E5ED\", \"showgrid\": false, \"tickfont\": {\"color\": \"#4D5663\"}, \"title\": {\"font\": {\"color\": \"#4D5663\"}, \"text\": \"\"}, \"zerolinecolor\": \"#E1E5ED\"}, \"yaxis3\": {\"anchor\": \"x3\", \"domain\": [0.8025, 1.0], \"gridcolor\": \"#E1E5ED\", \"showgrid\": false, \"tickfont\": {\"color\": \"#4D5663\"}, \"title\": {\"font\": {\"color\": \"#4D5663\"}, \"text\": \"\"}, \"zerolinecolor\": \"#E1E5ED\"}, \"yaxis4\": {\"anchor\": \"x4\", \"domain\": [0.8025, 1.0], \"gridcolor\": \"#E1E5ED\", \"showgrid\": false, \"tickfont\": {\"color\": \"#4D5663\"}, \"title\": {\"font\": {\"color\": \"#4D5663\"}, \"text\": \"\"}, \"zerolinecolor\": \"#E1E5ED\"}, \"yaxis5\": {\"anchor\": \"x5\", \"domain\": [0.535, 0.7325], \"gridcolor\": \"#E1E5ED\", \"showgrid\": false, \"tickfont\": {\"color\": \"#4D5663\"}, \"title\": {\"font\": {\"color\": \"#4D5663\"}, \"text\": \"\"}, \"zerolinecolor\": \"#E1E5ED\"}, \"yaxis6\": {\"anchor\": \"x6\", \"domain\": [0.535, 0.7325], \"gridcolor\": \"#E1E5ED\", \"showgrid\": false, \"tickfont\": {\"color\": \"#4D5663\"}, \"title\": {\"font\": {\"color\": \"#4D5663\"}, \"text\": \"\"}, \"zerolinecolor\": \"#E1E5ED\"}, \"yaxis7\": {\"anchor\": \"x7\", \"domain\": [0.535, 0.7325], \"gridcolor\": \"#E1E5ED\", \"showgrid\": false, \"tickfont\": {\"color\": \"#4D5663\"}, \"title\": {\"font\": {\"color\": \"#4D5663\"}, \"text\": \"\"}, \"zerolinecolor\": \"#E1E5ED\"}, \"yaxis8\": {\"anchor\": \"x8\", \"domain\": [0.535, 0.7325], \"gridcolor\": \"#E1E5ED\", \"showgrid\": false, \"tickfont\": {\"color\": \"#4D5663\"}, \"title\": {\"font\": {\"color\": \"#4D5663\"}, \"text\": \"\"}, \"zerolinecolor\": \"#E1E5ED\"}, \"yaxis9\": {\"anchor\": \"x9\", \"domain\": [0.2675, 0.465], \"gridcolor\": \"#E1E5ED\", \"showgrid\": false, \"tickfont\": {\"color\": \"#4D5663\"}, \"title\": {\"font\": {\"color\": \"#4D5663\"}, \"text\": \"\"}, \"zerolinecolor\": \"#E1E5ED\"}},\n",
       "                        {\"showLink\": true, \"linkText\": \"Export to plot.ly\", \"plotlyServerURL\": \"https://plot.ly\", \"responsive\": true}\n",
       "                    ).then(function(){\n",
       "                            \n",
       "var gd = document.getElementById('1abed3f4-5044-47c8-bf59-12967acac664');\n",
       "var x = new MutationObserver(function (mutations, observer) {{\n",
       "        var display = window.getComputedStyle(gd).display;\n",
       "        if (!display || display === 'none') {{\n",
       "            console.log([gd, 'removed!']);\n",
       "            Plotly.purge(gd);\n",
       "            observer.disconnect();\n",
       "        }}\n",
       "}});\n",
       "\n",
       "// Listen for the removal of the full notebook cells\n",
       "var notebookContainer = gd.closest('#notebook-container');\n",
       "if (notebookContainer) {{\n",
       "    x.observe(notebookContainer, {childList: true});\n",
       "}}\n",
       "\n",
       "// Listen for the clearing of the current output cell\n",
       "var outputEl = gd.closest('.output');\n",
       "if (outputEl) {{\n",
       "    x.observe(outputEl, {childList: true});\n",
       "}}\n",
       "\n",
       "                        })\n",
       "                };\n",
       "                });\n",
       "            </script>\n",
       "        </div>"
      ]
     },
     "metadata": {},
     "output_type": "display_data"
    }
   ],
   "source": [
    "df.scatter_matrix()"
   ]
  },
  {
   "cell_type": "markdown",
   "metadata": {
    "collapsed": true
   },
   "source": [
    "# Great Job!"
   ]
  }
 ],
 "metadata": {
  "kernelspec": {
   "display_name": "Python 3",
   "language": "python",
   "name": "python3"
  },
  "language_info": {
   "codemirror_mode": {
    "name": "ipython",
    "version": 3
   },
   "file_extension": ".py",
   "mimetype": "text/x-python",
   "name": "python",
   "nbconvert_exporter": "python",
   "pygments_lexer": "ipython3",
   "version": "3.7.4"
  },
  "toc": {
   "base_numbering": 1,
   "nav_menu": {},
   "number_sections": true,
   "sideBar": true,
   "skip_h1_title": false,
   "title_cell": "Table of Contents",
   "title_sidebar": "Contents",
   "toc_cell": false,
   "toc_position": {},
   "toc_section_display": true,
   "toc_window_display": false
  }
 },
 "nbformat": 4,
 "nbformat_minor": 1
}
