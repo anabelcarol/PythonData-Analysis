{
 "cells": [
  {
   "cell_type": "markdown",
   "metadata": {
    "collapsed": true
   },
   "source": [
    "# Regression Plots\n",
    "\n",
    "Seaborn has many built-in capabilities for regression plots, however we won't really discuss regression until the machine learning section of the course, so we will only cover the **lmplot()** function for now.\n",
    "\n",
    "**lmplot** allows you to display linear models, but it also conveniently allows you to split up those plots based off of features, as well as coloring the hue based off of features.\n",
    "\n",
    "Let's explore how this works:\n",
    "\n",
    "`import seaborn as sns\n",
    " %matplotlib inline\n",
    " tips = sns.load_dataset('tips')\n",
    " tips.head()`\n",
    "\n",
    "## lmplot()\n",
    "\n",
    "`sns.lmplot(x='total_bill',y='tip',data=tips)\n",
    " sns.lmplot(x='total_bill',y='tip',data=tips,hue='sex')\n",
    " sns.lmplot(x='total_bill',y='tip',data=tips,hue='sex',palette='coolwarm')`\n",
    "\n",
    "### Working with Markers\n",
    "\n",
    "lmplot kwargs get passed through to **regplot** which is a more general form of lmplot(). regplot has a scatter_kws parameter that gets passed to plt.scatter. So you want to set the s parameter in that dictionary, which corresponds (a bit confusingly) to the squared markersize. In other words you end up passing a dictionary with the base matplotlib arguments, in this case, s for size of a scatter plot. In general, you probably won't remember this off the top of your head, but instead reference the documentation.\n",
    "\n",
    "#### http://matplotlib.org/api/markers_api.html\n",
    "`sns.lmplot(x='total_bill',y='tip',data=tips,hue='sex',palette='coolwarm', markers=['o','v'],scatter_kws={'s':100})`\n",
    "\n",
    "## Using a Grid\n",
    "\n",
    "We can add more variable separation through columns and rows with the use of a grid. Just indicate this with the col or row arguments:\n",
    "\n",
    "`sns.lmplot(x='total_bill',y='tip',data=tips,col='sex')\n",
    " sns.lmplot(x=\"total_bill\", y=\"tip\", row=\"sex\", col=\"time\",data=tips)\n",
    " sns.lmplot(x='total_bill',y='tip',data=tips,col='day',hue='sex',palette='coolwarm')`\n",
    "\n",
    "## Aspect and Size\n",
    "\n",
    "Seaborn figures can have their size and aspect ratio adjusted with the **size** and **aspect** parameters:\n",
    "\n",
    "`sns.lmplot(x='total_bill',y='tip',data=tips,col='day',hue='sex',palette='coolwarm', aspect=0.6,size=8)`"
   ]
  }
 ],
 "metadata": {
  "kernelspec": {
   "display_name": "Python 3",
   "language": "python",
   "name": "python3"
  },
  "language_info": {
   "codemirror_mode": {
    "name": "ipython",
    "version": 3
   },
   "file_extension": ".py",
   "mimetype": "text/x-python",
   "name": "python",
   "nbconvert_exporter": "python",
   "pygments_lexer": "ipython3",
   "version": "3.7.4"
  },
  "toc": {
   "base_numbering": 1,
   "nav_menu": {},
   "number_sections": true,
   "sideBar": true,
   "skip_h1_title": false,
   "title_cell": "Table of Contents",
   "title_sidebar": "Contents",
   "toc_cell": false,
   "toc_position": {},
   "toc_section_display": true,
   "toc_window_display": false
  }
 },
 "nbformat": 4,
 "nbformat_minor": 1
}
