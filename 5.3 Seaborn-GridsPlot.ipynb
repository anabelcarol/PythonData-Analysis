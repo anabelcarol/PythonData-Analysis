{
 "cells": [
  {
   "cell_type": "markdown",
   "metadata": {
    "collapsed": true
   },
   "source": [
    "# Grids\n",
    "\n",
    "Grids are general types of plots that allow you to map plot types to rows and columns of a grid, this helps you create similar plots separated by features.\n",
    "\n",
    "`import seaborn as sns\n",
    " import matplotlib.pyplot as plt\n",
    " %matplotlib inline\n",
    " iris = sns.load_dataset('iris')\n",
    " iris.head()`\n",
    "\n",
    "## PairGrid\n",
    "\n",
    "Pairgrid is a subplot grid for plotting pairwise relationships in a dataset.\n",
    "\n",
    "#### Just the Grid\n",
    "\n",
    "`sns.PairGrid(iris)`\n",
    "\n",
    "#### Then you map to the grid\n",
    "\n",
    "`g = sns.PairGrid(iris)\n",
    "g.map(plt.scatter)`\n",
    "\n",
    "#### Map to upper,lower, and diagonal\n",
    "\n",
    "`g = sns.PairGrid(iris)\n",
    " g.map_diag(plt.hist)\n",
    " g.map_upper(plt.scatter)\n",
    " g.map_lower(sns.kdeplot)`\n",
    "\n",
    "## pairplot\n",
    "pairplot is a simpler version of PairGrid (you'll use quite often)\n",
    "\n",
    "`sns.pairplot(iris)\n",
    "sns.pairplot(iris,hue='species',palette='rainbow')`\n",
    "\n",
    "## Facet Grid\n",
    "\n",
    "FacetGrid is the general way to create grids of plots based off of a feature:\n",
    "\n",
    "`tips = sns.load_dataset('tips')\n",
    "tips.head()`\n",
    "\n",
    "#### Just the Grid\n",
    "\n",
    "`g = sns.FacetGrid(tips, col=\"time\", row=\"smoker\")\n",
    "g = sns.FacetGrid(tips, col=\"time\",  row=\"smoker\")\n",
    "g = g.map(plt.hist, \"total_bill\")\n",
    "g = sns.FacetGrid(tips, col=\"time\",  row=\"smoker\",hue='sex')`\n",
    "\n",
    "#### Notice hwo the arguments come after plt.scatter call\n",
    "`g = g.map(plt.scatter, \"total_bill\", \"tip\").add_legend()`\n",
    "\n",
    "## JointGrid\n",
    "\n",
    "JointGrid is the general version for jointplot() type grids, for a quick example:\n",
    "\n",
    "`g = sns.JointGrid(x=\"total_bill\", y=\"tip\", data=tips)`\n",
    "`g = sns.JointGrid(x=\"total_bill\", y=\"tip\", data=tips)`\n",
    "`g = g.plot(sns.regplot, sns.distplot)`"
   ]
  }
 ],
 "metadata": {
  "kernelspec": {
   "display_name": "Python 3",
   "language": "python",
   "name": "python3"
  },
  "language_info": {
   "codemirror_mode": {
    "name": "ipython",
    "version": 3
   },
   "file_extension": ".py",
   "mimetype": "text/x-python",
   "name": "python",
   "nbconvert_exporter": "python",
   "pygments_lexer": "ipython3",
   "version": "3.7.4"
  },
  "toc": {
   "base_numbering": 1,
   "nav_menu": {},
   "number_sections": true,
   "sideBar": true,
   "skip_h1_title": false,
   "title_cell": "Table of Contents",
   "title_sidebar": "Contents",
   "toc_cell": false,
   "toc_position": {},
   "toc_section_display": true,
   "toc_window_display": false
  }
 },
 "nbformat": 4,
 "nbformat_minor": 1
}
