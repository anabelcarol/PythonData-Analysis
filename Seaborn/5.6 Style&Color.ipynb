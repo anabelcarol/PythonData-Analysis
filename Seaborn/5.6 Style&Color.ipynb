{
 "cells": [
  {
   "cell_type": "markdown",
   "metadata": {
    "collapsed": true
   },
   "source": [
    "# Style and Color\n",
    "\n",
    "We've shown a few times how to control figure aesthetics in seaborn, but let's now go over it formally:\n",
    "\n",
    "`import seaborn as sns\n",
    " import matplotlib.pyplot as plt\n",
    " %matplotlib inline\n",
    " tips = sns.load_dataset('tips')`\n",
    "\n",
    "## Styles\n",
    "\n",
    "You can set particular styles:\n",
    "\n",
    "`sns.countplot(x='sex',data=tips)\n",
    " sns.set_style('white')\n",
    " sns.countplot(x='sex',data=tips)\n",
    " sns.set_style('ticks')\n",
    " sns.countplot(x='sex',data=tips,palette='deep')`\n",
    "\n",
    "## Spine Removal\n",
    "\n",
    "`sns.countplot(x='sex',data=tips)\n",
    " sns.despine()\n",
    " sns.countplot(x='sex',data=tips)\n",
    " sns.despine(left=True)`\n",
    "\n",
    "## Size and Aspect\n",
    "\n",
    "You can use matplotlib's **plt.figure(figsize=(width,height) ** to change the size of most seaborn plots.\n",
    "\n",
    "You can control the size and aspect ratio of most seaborn grid plots by passing in parameters: size, and aspect. For example:\n",
    "\n",
    "# Non Grid Plot\n",
    "`plt.figure(figsize=(12,3))\n",
    " sns.countplot(x='sex',data=tips)`\n",
    "\n",
    "# Grid Type Plot\n",
    "`sns.lmplot(x='total_bill',y='tip',size=2,aspect=4,data=tips)`\n",
    "\n",
    "## Scale and Context\n",
    "\n",
    "The set_context() allows you to override default parameters:\n",
    "\n",
    "`sns.set_context('poster',font_scale=4)\n",
    " sns.countplot(x='sex',data=tips,palette='coolwarm')`\n",
    "\n",
    "Check out the documentation page for more info on these topics:\n",
    "https://stanford.edu/~mwaskom/software/seaborn/tutorial/aesthetics.html\n",
    "\n",
    "`sns.puppyplot()`"
   ]
  }
 ],
 "metadata": {
  "kernelspec": {
   "display_name": "Python 3",
   "language": "python",
   "name": "python3"
  },
  "language_info": {
   "codemirror_mode": {
    "name": "ipython",
    "version": 3
   },
   "file_extension": ".py",
   "mimetype": "text/x-python",
   "name": "python",
   "nbconvert_exporter": "python",
   "pygments_lexer": "ipython3",
   "version": "3.7.4"
  },
  "toc": {
   "base_numbering": 1,
   "nav_menu": {},
   "number_sections": true,
   "sideBar": true,
   "skip_h1_title": false,
   "title_cell": "Table of Contents",
   "title_sidebar": "Contents",
   "toc_cell": false,
   "toc_position": {},
   "toc_section_display": true,
   "toc_window_display": false
  }
 },
 "nbformat": 4,
 "nbformat_minor": 1
}
