{
 "cells": [
  {
   "cell_type": "markdown",
   "metadata": {
    "collapsed": true
   },
   "source": [
    "# Matrix Plots\n",
    "\n",
    "Matrix plots allow you to plot data as color-encoded matrices and can also be used to indicate clusters within the data (later in the machine learning section we will learn how to formally cluster data).\n",
    "\n",
    "Let's begin by exploring seaborn's heatmap and clutermap:\n",
    "\n",
    "`import seaborn as sns`\n",
    "`%matplotlib inline`\n",
    "\n",
    "`flights = sns.load_dataset('flights')`\n",
    "\n",
    "`tips = sns.load_dataset('tips')`\n",
    "\n",
    "`tips.head()`\n",
    "\n",
    "`flights.head()`\n",
    "\n",
    "## Heatmap\n",
    "\n",
    "In order for a heatmap to work properly, your data should already be in a matrix form, the sns.heatmap function basically just colors it in for you. For example:\n",
    "\n",
    "`tips.head()`\n",
    "\n",
    "# Matrix form for correlation data\n",
    "`tips.corr()`\n",
    "\n",
    "`sns.heatmap(tips.corr())`\n",
    "\n",
    "`sns.heatmap(tips.corr(),cmap='coolwarm',annot=True)`\n",
    "\n",
    "Or for the flights data:\n",
    "\n",
    "`flights.pivot_table(values='passengers',index='month',columns='year')`\n",
    "\n",
    "`pvflights = flights.pivot_table(values='passengers',index='month',columns='year')`\n",
    "`sns.heatmap(pvflights)`\n",
    "\n",
    "`sns.heatmap(pvflights,cmap='magma',linecolor='white',linewidths=1)`\n",
    "\n",
    "## clustermap\n",
    "\n",
    "The clustermap uses hierarchal clustering to produce a clustered version of the heatmap. For example:\n",
    "\n",
    "`sns.clustermap(pvflights)`\n",
    "\n",
    "Notice now how the years and months are no longer in order, instead they are grouped by similarity in value (passenger count). That means we can begin to infer things from this plot, such as August and July being similar (makes sense, since they are both summer travel months)\n",
    "\n",
    "# More options to get the information a little clearer like normalization\n",
    "`sns.clustermap(pvflights,cmap='coolwarm',standard_scale=1)`"
   ]
  }
 ],
 "metadata": {
  "kernelspec": {
   "display_name": "Python 3",
   "language": "python",
   "name": "python3"
  },
  "language_info": {
   "codemirror_mode": {
    "name": "ipython",
    "version": 3
   },
   "file_extension": ".py",
   "mimetype": "text/x-python",
   "name": "python",
   "nbconvert_exporter": "python",
   "pygments_lexer": "ipython3",
   "version": "3.7.4"
  },
  "toc": {
   "base_numbering": 1,
   "nav_menu": {},
   "number_sections": true,
   "sideBar": true,
   "skip_h1_title": false,
   "title_cell": "Table of Contents",
   "title_sidebar": "Contents",
   "toc_cell": false,
   "toc_position": {},
   "toc_section_display": true,
   "toc_window_display": false
  }
 },
 "nbformat": 4,
 "nbformat_minor": 1
}
