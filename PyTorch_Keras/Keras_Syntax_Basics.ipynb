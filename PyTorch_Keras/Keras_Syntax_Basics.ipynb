{
  "nbformat": 4,
  "nbformat_minor": 0,
  "metadata": {
    "kernelspec": {
      "display_name": "Python 3",
      "language": "python",
      "name": "python3"
    },
    "language_info": {
      "codemirror_mode": {
        "name": "ipython",
        "version": 3
      },
      "file_extension": ".py",
      "mimetype": "text/x-python",
      "name": "python",
      "nbconvert_exporter": "python",
      "pygments_lexer": "ipython3",
      "version": "3.7.4"
    },
    "colab": {
      "name": "Keras-Syntax-Basics.ipynb",
      "provenance": [],
      "collapsed_sections": [
        "QntkIstkJ2Kj"
      ],
      "include_colab_link": true
    }
  },
  "cells": [
    {
      "cell_type": "markdown",
      "metadata": {
        "id": "view-in-github",
        "colab_type": "text"
      },
      "source": [
        "<a href=\"https://colab.research.google.com/github/anabelcarol/PythonData-Analysis/blob/master/PyTorch_Keras/Keras_Syntax_Basics.ipynb\" target=\"_parent\"><img src=\"https://colab.research.google.com/assets/colab-badge.svg\" alt=\"Open In Colab\"/></a>"
      ]
    },
    {
      "cell_type": "markdown",
      "metadata": {
        "id": "0hjorsSaJ2Jl",
        "colab_type": "text"
      },
      "source": [
        "# Keras Syntax Basics\n",
        "\n",
        "With TensorFlow 2.0 , Keras is now the main API choice. Let's work through a simple regression project to understand the basics of the Keras syntax and adding layers."
      ]
    },
    {
      "cell_type": "markdown",
      "metadata": {
        "id": "z2BqpW_5J2Jo",
        "colab_type": "text"
      },
      "source": [
        "## The Data\n",
        "\n",
        "To learn the basic syntax of Keras, we will use a very simple fake data set, in the subsequent lectures we will focus on real datasets, along with feature engineering! For now, let's focus on the syntax of TensorFlow 2.0.\n",
        "\n",
        "Let's pretend this data are measurements of some rare gem stones, with 2 measurement features and a sale price. Our final goal would be to try to predict the sale price of a new gem stone we just mined from the ground, in order to try to set a fair price in the market.\n",
        "\n",
        "### Load the Data"
      ]
    },
    {
      "cell_type": "code",
      "metadata": {
        "id": "CA7MVHQJJ2Jp",
        "colab_type": "code",
        "colab": {}
      },
      "source": [
        "import pandas as pd"
      ],
      "execution_count": 0,
      "outputs": []
    },
    {
      "cell_type": "code",
      "metadata": {
        "id": "-MGf5eGbNAeO",
        "colab_type": "code",
        "outputId": "39ca777b-50e8-4be8-85e9-a8cbf6725943",
        "colab": {
          "base_uri": "https://localhost:8080/",
          "height": 122
        }
      },
      "source": [
        "from google.colab import drive\n",
        "drive.mount('/content/drive')"
      ],
      "execution_count": 0,
      "outputs": [
        {
          "output_type": "stream",
          "text": [
            "Go to this URL in a browser: https://accounts.google.com/o/oauth2/auth?client_id=947318989803-6bn6qk8qdgf4n4g3pfee6491hc0brc4i.apps.googleusercontent.com&redirect_uri=urn%3aietf%3awg%3aoauth%3a2.0%3aoob&response_type=code&scope=email%20https%3a%2f%2fwww.googleapis.com%2fauth%2fdocs.test%20https%3a%2f%2fwww.googleapis.com%2fauth%2fdrive%20https%3a%2f%2fwww.googleapis.com%2fauth%2fdrive.photos.readonly%20https%3a%2f%2fwww.googleapis.com%2fauth%2fpeopleapi.readonly\n",
            "\n",
            "Enter your authorization code:\n",
            "··········\n",
            "Mounted at /content/drive\n"
          ],
          "name": "stdout"
        }
      ]
    },
    {
      "cell_type": "code",
      "metadata": {
        "id": "T8BuvI_nN03Z",
        "colab_type": "code",
        "colab": {}
      },
      "source": [
        "# \n",
        "# from google.colab import drive\n",
        "# drive.mount('/content/gdrive', force_remount=True)\n",
        "# root_dir = \"/content/gdrive/My Drive/\"\n",
        "# base_dir = root_dir + 'fastai-v3/'"
      ],
      "execution_count": 0,
      "outputs": []
    },
    {
      "cell_type": "code",
      "metadata": {
        "id": "GAiFAjgWJ2Jv",
        "colab_type": "code",
        "colab": {}
      },
      "source": [
        "df = pd.read_csv('/content/drive/My Drive/Colab_Notebooks/DeepLearning_TensorFlow/TensorFlow_FILES/DATA/fake_reg.csv') "
      ],
      "execution_count": 0,
      "outputs": []
    },
    {
      "cell_type": "code",
      "metadata": {
        "id": "782Y3XbIJ2Jz",
        "colab_type": "code",
        "outputId": "0e52944d-23ce-48ec-f6ec-b229448a9061",
        "colab": {
          "base_uri": "https://localhost:8080/",
          "height": 204
        }
      },
      "source": [
        "df.head()"
      ],
      "execution_count": 0,
      "outputs": [
        {
          "output_type": "execute_result",
          "data": {
            "text/html": [
              "<div>\n",
              "<style scoped>\n",
              "    .dataframe tbody tr th:only-of-type {\n",
              "        vertical-align: middle;\n",
              "    }\n",
              "\n",
              "    .dataframe tbody tr th {\n",
              "        vertical-align: top;\n",
              "    }\n",
              "\n",
              "    .dataframe thead th {\n",
              "        text-align: right;\n",
              "    }\n",
              "</style>\n",
              "<table border=\"1\" class=\"dataframe\">\n",
              "  <thead>\n",
              "    <tr style=\"text-align: right;\">\n",
              "      <th></th>\n",
              "      <th>price</th>\n",
              "      <th>feature1</th>\n",
              "      <th>feature2</th>\n",
              "    </tr>\n",
              "  </thead>\n",
              "  <tbody>\n",
              "    <tr>\n",
              "      <th>0</th>\n",
              "      <td>461.527929</td>\n",
              "      <td>999.787558</td>\n",
              "      <td>999.766096</td>\n",
              "    </tr>\n",
              "    <tr>\n",
              "      <th>1</th>\n",
              "      <td>548.130011</td>\n",
              "      <td>998.861615</td>\n",
              "      <td>1001.042403</td>\n",
              "    </tr>\n",
              "    <tr>\n",
              "      <th>2</th>\n",
              "      <td>410.297162</td>\n",
              "      <td>1000.070267</td>\n",
              "      <td>998.844015</td>\n",
              "    </tr>\n",
              "    <tr>\n",
              "      <th>3</th>\n",
              "      <td>540.382220</td>\n",
              "      <td>999.952251</td>\n",
              "      <td>1000.440940</td>\n",
              "    </tr>\n",
              "    <tr>\n",
              "      <th>4</th>\n",
              "      <td>546.024553</td>\n",
              "      <td>1000.446011</td>\n",
              "      <td>1000.338531</td>\n",
              "    </tr>\n",
              "  </tbody>\n",
              "</table>\n",
              "</div>"
            ],
            "text/plain": [
              "        price     feature1     feature2\n",
              "0  461.527929   999.787558   999.766096\n",
              "1  548.130011   998.861615  1001.042403\n",
              "2  410.297162  1000.070267   998.844015\n",
              "3  540.382220   999.952251  1000.440940\n",
              "4  546.024553  1000.446011  1000.338531"
            ]
          },
          "metadata": {
            "tags": []
          },
          "execution_count": 6
        }
      ]
    },
    {
      "cell_type": "markdown",
      "metadata": {
        "id": "Y_YnIDLUJ2J2",
        "colab_type": "text"
      },
      "source": [
        "### Explore the data\n",
        "\n",
        "Let's take a quick look, we should see strong correlation between the features and the \"price\" of this made up product."
      ]
    },
    {
      "cell_type": "code",
      "metadata": {
        "id": "OQX_oKJ5J2J2",
        "colab_type": "code",
        "outputId": "aff617df-1de9-4928-bd9e-5d41d765324e",
        "colab": {
          "base_uri": "https://localhost:8080/",
          "height": 71
        }
      },
      "source": [
        "import seaborn as sns\n",
        "import matplotlib.pyplot as plt"
      ],
      "execution_count": 0,
      "outputs": [
        {
          "output_type": "stream",
          "text": [
            "/usr/local/lib/python3.6/dist-packages/statsmodels/tools/_testing.py:19: FutureWarning: pandas.util.testing is deprecated. Use the functions in the public API at pandas.testing instead.\n",
            "  import pandas.util.testing as tm\n"
          ],
          "name": "stderr"
        }
      ]
    },
    {
      "cell_type": "code",
      "metadata": {
        "id": "c_C6UkkRJ2J5",
        "colab_type": "code",
        "outputId": "6de315d7-eb8f-4432-982d-580cd8fac81c",
        "colab": {
          "base_uri": "https://localhost:8080/",
          "height": 587
        }
      },
      "source": [
        "sns.pairplot(df)"
      ],
      "execution_count": 0,
      "outputs": [
        {
          "output_type": "execute_result",
          "data": {
            "text/plain": [
              "<seaborn.axisgrid.PairGrid at 0x7fd47019bcf8>"
            ]
          },
          "metadata": {
            "tags": []
          },
          "execution_count": 8
        },
        {
          "output_type": "display_data",
          "data": {
            "image/png": "[encoded data removed]",
            "text/plain": [
              "<Figure size 540x540 with 12 Axes>"
            ]
          },
          "metadata": {
            "tags": [],
            "needs_background": "light"
          }
        }
      ]
    },
    {
      "cell_type": "markdown",
      "metadata": {
        "id": "F4mc3cVfJ2J8",
        "colab_type": "text"
      },
      "source": [
        "Feel free to visualize more, but this data is fake, so we will focus on feature engineering and exploratory data analysis later on in the course in much more detail!"
      ]
    },
    {
      "cell_type": "markdown",
      "metadata": {
        "id": "EGQxhtKfJ2J8",
        "colab_type": "text"
      },
      "source": [
        "### Test/Train Split"
      ]
    },
    {
      "cell_type": "code",
      "metadata": {
        "id": "JUWuAYxqJ2J9",
        "colab_type": "code",
        "colab": {}
      },
      "source": [
        "from sklearn.model_selection import train_test_split"
      ],
      "execution_count": 0,
      "outputs": []
    },
    {
      "cell_type": "code",
      "metadata": {
        "id": "kC1m10UrJ2J_",
        "colab_type": "code",
        "colab": {}
      },
      "source": [
        "# Convert Pandas to Numpy for Keras\n",
        "\n",
        "# Features\n",
        "X = df[['feature1','feature2']].values\n",
        "\n",
        "# Label\n",
        "y = df['price'].values\n",
        "\n",
        "# Split\n",
        "X_train, X_test, y_train, y_test = train_test_split(X,y,test_size=0.3,random_state=42)"
      ],
      "execution_count": 0,
      "outputs": []
    },
    {
      "cell_type": "code",
      "metadata": {
        "id": "gAuso7ykJ2KC",
        "colab_type": "code",
        "outputId": "24e08b30-9b14-487f-8c34-704b1a7e04c2",
        "colab": {
          "base_uri": "https://localhost:8080/",
          "height": 34
        }
      },
      "source": [
        "X_train.shape"
      ],
      "execution_count": 0,
      "outputs": [
        {
          "output_type": "execute_result",
          "data": {
            "text/plain": [
              "(700, 2)"
            ]
          },
          "metadata": {
            "tags": []
          },
          "execution_count": 11
        }
      ]
    },
    {
      "cell_type": "code",
      "metadata": {
        "id": "XT0cYg8kJ2KF",
        "colab_type": "code",
        "outputId": "1aa638f6-08c9-4a39-ab0c-abc8e4dcd761",
        "colab": {
          "base_uri": "https://localhost:8080/",
          "height": 34
        }
      },
      "source": [
        "X_test.shape"
      ],
      "execution_count": 0,
      "outputs": [
        {
          "output_type": "execute_result",
          "data": {
            "text/plain": [
              "(300, 2)"
            ]
          },
          "metadata": {
            "tags": []
          },
          "execution_count": 12
        }
      ]
    },
    {
      "cell_type": "code",
      "metadata": {
        "id": "PsTxdheVJ2KH",
        "colab_type": "code",
        "outputId": "d859236b-2e95-467f-a57d-42f3557b5991",
        "colab": {
          "base_uri": "https://localhost:8080/",
          "height": 34
        }
      },
      "source": [
        "y_train.shape"
      ],
      "execution_count": 0,
      "outputs": [
        {
          "output_type": "execute_result",
          "data": {
            "text/plain": [
              "(700,)"
            ]
          },
          "metadata": {
            "tags": []
          },
          "execution_count": 13
        }
      ]
    },
    {
      "cell_type": "code",
      "metadata": {
        "id": "y3zNaqe7J2KK",
        "colab_type": "code",
        "outputId": "eedfaa74-27ec-420e-a913-de9052149b1d",
        "colab": {
          "base_uri": "https://localhost:8080/",
          "height": 34
        }
      },
      "source": [
        "y_test.shape"
      ],
      "execution_count": 0,
      "outputs": [
        {
          "output_type": "execute_result",
          "data": {
            "text/plain": [
              "(300,)"
            ]
          },
          "metadata": {
            "tags": []
          },
          "execution_count": 14
        }
      ]
    },
    {
      "cell_type": "markdown",
      "metadata": {
        "id": "VxAcCNzfJ2KM",
        "colab_type": "text"
      },
      "source": [
        "## Normalizing/Scaling the Data\n",
        "\n",
        "We scale the feature data.\n",
        "\n",
        "[Why we don't need to scale the label](https://stats.stackexchange.com/questions/111467/is-it-necessary-to-scale-the-target-value-in-addition-to-scaling-features-for-re)"
      ]
    },
    {
      "cell_type": "code",
      "metadata": {
        "id": "CfA3exYfJ2KM",
        "colab_type": "code",
        "colab": {}
      },
      "source": [
        "from sklearn.preprocessing import MinMaxScaler"
      ],
      "execution_count": 0,
      "outputs": []
    },
    {
      "cell_type": "code",
      "metadata": {
        "id": "4brN7lCHJ2KP",
        "colab_type": "code",
        "colab": {}
      },
      "source": [
        "# help(MinMaxScaler)"
      ],
      "execution_count": 0,
      "outputs": []
    },
    {
      "cell_type": "code",
      "metadata": {
        "id": "kwkbMR6GJ2KR",
        "colab_type": "code",
        "colab": {}
      },
      "source": [
        "scaler = MinMaxScaler()"
      ],
      "execution_count": 0,
      "outputs": []
    },
    {
      "cell_type": "code",
      "metadata": {
        "id": "-_v_mjyeJ2KT",
        "colab_type": "code",
        "colab": {}
      },
      "source": [
        "# Notice to prevent data leakage from the test set, we only fit our scaler to the training set"
      ],
      "execution_count": 0,
      "outputs": []
    },
    {
      "cell_type": "code",
      "metadata": {
        "id": "VuuxySkxJ2KU",
        "colab_type": "code",
        "outputId": "d6a35c87-be37-4a47-da84-bd86ffaea440",
        "colab": {
          "base_uri": "https://localhost:8080/",
          "height": 34
        }
      },
      "source": [
        "scaler.fit(X_train) # fit does calculations of std and mean of data"
      ],
      "execution_count": 0,
      "outputs": [
        {
          "output_type": "execute_result",
          "data": {
            "text/plain": [
              "MinMaxScaler(copy=True, feature_range=(0, 1))"
            ]
          },
          "metadata": {
            "tags": []
          },
          "execution_count": 18
        }
      ]
    },
    {
      "cell_type": "code",
      "metadata": {
        "id": "mQPh5vTUJ2KV",
        "colab_type": "code",
        "colab": {}
      },
      "source": [
        "X_train = scaler.transform(X_train)"
      ],
      "execution_count": 0,
      "outputs": []
    },
    {
      "cell_type": "code",
      "metadata": {
        "id": "kl08jZxFZqS_",
        "colab_type": "code",
        "outputId": "7af67951-9797-4adb-c0e4-37cffeb4b139",
        "colab": {
          "base_uri": "https://localhost:8080/",
          "height": 34
        }
      },
      "source": [
        "X_train.max()"
      ],
      "execution_count": 0,
      "outputs": [
        {
          "output_type": "execute_result",
          "data": {
            "text/plain": [
              "1.0"
            ]
          },
          "metadata": {
            "tags": []
          },
          "execution_count": 21
        }
      ]
    },
    {
      "cell_type": "code",
      "metadata": {
        "id": "WDuaPuX_Zt48",
        "colab_type": "code",
        "outputId": "21671d15-825d-43f4-e8a3-539e4c8d2e95",
        "colab": {
          "base_uri": "https://localhost:8080/",
          "height": 34
        }
      },
      "source": [
        "X_train.min()"
      ],
      "execution_count": 0,
      "outputs": [
        {
          "output_type": "execute_result",
          "data": {
            "text/plain": [
              "0.0"
            ]
          },
          "metadata": {
            "tags": []
          },
          "execution_count": 23
        }
      ]
    },
    {
      "cell_type": "code",
      "metadata": {
        "id": "w_cTiRjDZnKS",
        "colab_type": "code",
        "colab": {}
      },
      "source": [
        "X_test = scaler.transform(X_test) # fitting the X_test will be cheating"
      ],
      "execution_count": 0,
      "outputs": []
    },
    {
      "cell_type": "markdown",
      "metadata": {
        "id": "mYbtolzkJ2KX",
        "colab_type": "text"
      },
      "source": [
        "# TensorFlow 2.0 Syntax\n",
        "\n",
        "\n",
        "## Import Options\n",
        "\n",
        "There are several ways you can import Keras from Tensorflow (this is hugely a personal style choice, please use any import methods you prefer). We will use the method shown in the **official TF documentation**."
      ]
    },
    {
      "cell_type": "code",
      "metadata": {
        "id": "0Fy8jx-BJ2KZ",
        "colab_type": "code",
        "colab": {}
      },
      "source": [
        "from tensorflow.keras.models import Sequential"
      ],
      "execution_count": 0,
      "outputs": []
    },
    {
      "cell_type": "code",
      "metadata": {
        "id": "9zry4Ds-aHeW",
        "colab_type": "code",
        "colab": {}
      },
      "source": [
        "from tensorflow.keras.layers import Dense"
      ],
      "execution_count": 0,
      "outputs": []
    },
    {
      "cell_type": "code",
      "metadata": {
        "id": "1WK9lfPrJ2KY",
        "colab_type": "code",
        "colab": {}
      },
      "source": [
        "import tensorflow as tf"
      ],
      "execution_count": 0,
      "outputs": []
    },
    {
      "cell_type": "code",
      "metadata": {
        "id": "m5PnMQm1J2Kb",
        "colab_type": "code",
        "outputId": "4f8f2d0d-9afd-4621-b6af-266bbcb5c5df",
        "colab": {
          "base_uri": "https://localhost:8080/",
          "height": 1000
        }
      },
      "source": [
        "help(Sequential)"
      ],
      "execution_count": 0,
      "outputs": [
        {
          "output_type": "stream",
          "text": [
            "Help on class Sequential in module tensorflow.python.keras.engine.sequential:\n",
            "\n",
            "class Sequential(tensorflow.python.keras.engine.training.Model)\n",
            " |  `Sequential` groups a linear stack of layers into a `tf.keras.Model`.\n",
            " |  \n",
            " |  `Sequential` provides training and inference features on this model.\n",
            " |  \n",
            " |  Examples:\n",
            " |  \n",
            " |  >>> # Optionally, the first layer can receive an `input_shape` argument:\n",
            " |  >>> model = tf.keras.Sequential()\n",
            " |  >>> model.add(tf.keras.layers.Dense(8, input_shape=(16,)))\n",
            " |  >>> # Afterwards, we do automatic shape inference:\n",
            " |  >>> model.add(tf.keras.layers.Dense(4))\n",
            " |  \n",
            " |  >>> # This is identical to the following:\n",
            " |  >>> model = tf.keras.Sequential()\n",
            " |  >>> model.add(tf.keras.layers.Dense(8, input_dim=16))\n",
            " |  \n",
            " |  >>> # And to the following:\n",
            " |  >>> model = tf.keras.Sequential()\n",
            " |  >>> model.add(tf.keras.layers.Dense(8, batch_input_shape=(None, 16)))\n",
            " |  \n",
            " |  >>> # Note that you can also omit the `input_shape` argument.\n",
            " |  >>> # In that case the model doesn't have any weights until the first call\n",
            " |  >>> # to a training/evaluation method (since it isn't yet built):\n",
            " |  >>> model = tf.keras.Sequential()\n",
            " |  >>> model.add(tf.keras.layers.Dense(8))\n",
            " |  >>> model.add(tf.keras.layers.Dense(4))\n",
            " |  >>> # model.weights not created yet\n",
            " |  \n",
            " |  >>> # Whereas if you specify the input shape, the model gets built\n",
            " |  >>> # continuously as you are adding layers:\n",
            " |  >>> model = tf.keras.Sequential()\n",
            " |  >>> model.add(tf.keras.layers.Dense(8, input_shape=(16,)))\n",
            " |  >>> model.add(tf.keras.layers.Dense(4))\n",
            " |  >>> len(model.weights)\n",
            " |  4\n",
            " |  \n",
            " |  >>> # When using the delayed-build pattern (no input shape specified), you can\n",
            " |  >>> # choose to manually build your model by calling\n",
            " |  >>> # `build(batch_input_shape)`:\n",
            " |  >>> model = tf.keras.Sequential()\n",
            " |  >>> model.add(tf.keras.layers.Dense(8))\n",
            " |  >>> model.add(tf.keras.layers.Dense(4))\n",
            " |  >>> model.build((None, 16))\n",
            " |  >>> len(model.weights)\n",
            " |  4\n",
            " |  \n",
            " |  ```python\n",
            " |  # Note that when using the delayed-build pattern (no input shape specified),\n",
            " |  # the model gets built the first time you call `fit` (or other training and\n",
            " |  # evaluation methods).\n",
            " |  model = tf.keras.Sequential()\n",
            " |  model.add(tf.keras.layers.Dense(8))\n",
            " |  model.add(tf.keras.layers.Dense(1))\n",
            " |  model.compile(optimizer='sgd', loss='mse')\n",
            " |  # This builds the model for the first time:\n",
            " |  model.fit(x, y, batch_size=32, epochs=10)\n",
            " |  ```\n",
            " |  \n",
            " |  Method resolution order:\n",
            " |      Sequential\n",
            " |      tensorflow.python.keras.engine.training.Model\n",
            " |      tensorflow.python.keras.engine.network.Network\n",
            " |      tensorflow.python.keras.engine.base_layer.Layer\n",
            " |      tensorflow.python.module.module.Module\n",
            " |      tensorflow.python.training.tracking.tracking.AutoTrackable\n",
            " |      tensorflow.python.training.tracking.base.Trackable\n",
            " |      tensorflow.python.keras.utils.version_utils.LayerVersionSelector\n",
            " |      tensorflow.python.keras.utils.version_utils.ModelVersionSelector\n",
            " |      builtins.object\n",
            " |  \n",
            " |  Methods defined here:\n",
            " |  \n",
            " |  __init__(self, layers=None, name=None)\n",
            " |      Creates a `Sequential` model instance.\n",
            " |      \n",
            " |      Args:\n",
            " |        layers: Optional list of layers to add to the model.\n",
            " |        name: Optional name for the model.\n",
            " |  \n",
            " |  add(self, layer)\n",
            " |      Adds a layer instance on top of the layer stack.\n",
            " |      \n",
            " |      Arguments:\n",
            " |          layer: layer instance.\n",
            " |      \n",
            " |      Raises:\n",
            " |          TypeError: If `layer` is not a layer instance.\n",
            " |          ValueError: In case the `layer` argument does not\n",
            " |              know its input shape.\n",
            " |          ValueError: In case the `layer` argument has\n",
            " |              multiple output tensors, or is already connected\n",
            " |              somewhere else (forbidden in `Sequential` models).\n",
            " |  \n",
            " |  build(self, input_shape=None)\n",
            " |      Builds the model based on input shapes received.\n",
            " |      \n",
            " |      This is to be used for subclassed models, which do not know at instantiation\n",
            " |      time what their inputs look like.\n",
            " |      \n",
            " |      This method only exists for users who want to call `model.build()` in a\n",
            " |      standalone way (as a substitute for calling the model on real data to\n",
            " |      build it). It will never be called by the framework (and thus it will\n",
            " |      never throw unexpected errors in an unrelated workflow).\n",
            " |      \n",
            " |      Args:\n",
            " |       input_shape: Single tuple, TensorShape, or list of shapes, where shapes\n",
            " |           are tuples, integers, or TensorShapes.\n",
            " |      \n",
            " |      Raises:\n",
            " |        ValueError:\n",
            " |          1. In case of invalid user-provided data (not of type tuple,\n",
            " |             list, or TensorShape).\n",
            " |          2. If the model requires call arguments that are agnostic\n",
            " |             to the input shapes (positional or kwarg in call signature).\n",
            " |          3. If not all layers were properly built.\n",
            " |          4. If float type inputs are not supported within the layers.\n",
            " |      \n",
            " |        In each of these cases, the user should build their model by calling it\n",
            " |        on real tensor data.\n",
            " |  \n",
            " |  call(self, inputs, training=None, mask=None)\n",
            " |      Calls the model on new inputs.\n",
            " |      \n",
            " |      In this case `call` just reapplies\n",
            " |      all ops in the graph to the new inputs\n",
            " |      (e.g. build a new computational graph from the provided inputs).\n",
            " |      \n",
            " |      Arguments:\n",
            " |          inputs: A tensor or list of tensors.\n",
            " |          training: Boolean or boolean scalar tensor, indicating whether to run\n",
            " |            the `Network` in training mode or inference mode.\n",
            " |          mask: A mask or list of masks. A mask can be\n",
            " |              either a tensor or None (no mask).\n",
            " |      \n",
            " |      Returns:\n",
            " |          A tensor if there is a single output, or\n",
            " |          a list of tensors if there are more than one outputs.\n",
            " |  \n",
            " |  compute_mask(self, inputs, mask)\n",
            " |      Computes an output mask tensor.\n",
            " |      \n",
            " |      Arguments:\n",
            " |          inputs: Tensor or list of tensors.\n",
            " |          mask: Tensor or list of tensors.\n",
            " |      \n",
            " |      Returns:\n",
            " |          None or a tensor (or list of tensors,\n",
            " |              one per output tensor of the layer).\n",
            " |  \n",
            " |  compute_output_shape(self, input_shape)\n",
            " |      Computes the output shape of the layer.\n",
            " |      \n",
            " |      If the layer has not been built, this method will call `build` on the\n",
            " |      layer. This assumes that the layer will later be used with inputs that\n",
            " |      match the input shape provided here.\n",
            " |      \n",
            " |      Arguments:\n",
            " |          input_shape: Shape tuple (tuple of integers)\n",
            " |              or list of shape tuples (one per output tensor of the layer).\n",
            " |              Shape tuples can include None for free dimensions,\n",
            " |              instead of an integer.\n",
            " |      \n",
            " |      Returns:\n",
            " |          An input shape tuple.\n",
            " |  \n",
            " |  get_config(self)\n",
            " |      Returns the config of the layer.\n",
            " |      \n",
            " |      A layer config is a Python dictionary (serializable)\n",
            " |      containing the configuration of a layer.\n",
            " |      The same layer can be reinstantiated later\n",
            " |      (without its trained weights) from this configuration.\n",
            " |      \n",
            " |      The config of a layer does not include connectivity\n",
            " |      information, nor the layer class name. These are handled\n",
            " |      by `Network` (one layer of abstraction above).\n",
            " |      \n",
            " |      Returns:\n",
            " |          Python dictionary.\n",
            " |  \n",
            " |  pop(self)\n",
            " |      Removes the last layer in the model.\n",
            " |      \n",
            " |      Raises:\n",
            " |          TypeError: if there are no layers in the model.\n",
            " |  \n",
            " |  predict_classes(self, x, batch_size=32, verbose=0)\n",
            " |      Generate class predictions for the input samples. (deprecated)\n",
            " |      \n",
            " |      Warning: THIS FUNCTION IS DEPRECATED. It will be removed after 2021-01-01.\n",
            " |      Instructions for updating:\n",
            " |      Please use instead:* `np.argmax(model.predict(x), axis=-1)`,   if your model does multi-class classification   (e.g. if it uses a `softmax` last-layer activation).* `(model.predict(x) > 0.5).astype(\"int32\")`,   if your model does binary classification   (e.g. if it uses a `sigmoid` last-layer activation).\n",
            " |      \n",
            " |      The input samples are processed batch by batch.\n",
            " |      \n",
            " |      Arguments:\n",
            " |          x: input data, as a Numpy array or list of Numpy arrays\n",
            " |              (if the model has multiple inputs).\n",
            " |          batch_size: integer.\n",
            " |          verbose: verbosity mode, 0 or 1.\n",
            " |      \n",
            " |      Returns:\n",
            " |          A numpy array of class predictions.\n",
            " |  \n",
            " |  predict_proba(self, x, batch_size=32, verbose=0)\n",
            " |      Generates class probability predictions for the input samples. (deprecated)\n",
            " |      \n",
            " |      Warning: THIS FUNCTION IS DEPRECATED. It will be removed after 2021-01-01.\n",
            " |      Instructions for updating:\n",
            " |      Please use `model.predict()` instead.\n",
            " |      \n",
            " |      The input samples are processed batch by batch.\n",
            " |      \n",
            " |      Arguments:\n",
            " |          x: input data, as a Numpy array or list of Numpy arrays\n",
            " |              (if the model has multiple inputs).\n",
            " |          batch_size: integer.\n",
            " |          verbose: verbosity mode, 0 or 1.\n",
            " |      \n",
            " |      Returns:\n",
            " |          A Numpy array of probability predictions.\n",
            " |  \n",
            " |  ----------------------------------------------------------------------\n",
            " |  Class methods defined here:\n",
            " |  \n",
            " |  from_config(config, custom_objects=None) from builtins.type\n",
            " |      Instantiates a Model from its config (output of `get_config()`).\n",
            " |      \n",
            " |      Arguments:\n",
            " |          config: Model config dictionary.\n",
            " |          custom_objects: Optional dictionary mapping names\n",
            " |              (strings) to custom classes or functions to be\n",
            " |              considered during deserialization.\n",
            " |      \n",
            " |      Returns:\n",
            " |          A model instance.\n",
            " |      \n",
            " |      Raises:\n",
            " |          ValueError: In case of improperly formatted config dict.\n",
            " |  \n",
            " |  ----------------------------------------------------------------------\n",
            " |  Data descriptors defined here:\n",
            " |  \n",
            " |  dynamic\n",
            " |      Whether the layer is dynamic (eager-only); set in the constructor.\n",
            " |  \n",
            " |  input_spec\n",
            " |      Gets the network's input specs.\n",
            " |      \n",
            " |      Returns:\n",
            " |          A list of `InputSpec` instances (one per input to the model)\n",
            " |              or a single instance if the model has only one input.\n",
            " |  \n",
            " |  layers\n",
            " |  \n",
            " |  ----------------------------------------------------------------------\n",
            " |  Methods inherited from tensorflow.python.keras.engine.training.Model:\n",
            " |  \n",
            " |  compile(self, optimizer='rmsprop', loss=None, metrics=None, loss_weights=None, sample_weight_mode=None, weighted_metrics=None, **kwargs)\n",
            " |      Configures the model for training.\n",
            " |      \n",
            " |      Arguments:\n",
            " |          optimizer: String (name of optimizer) or optimizer instance.\n",
            " |              See `tf.keras.optimizers`.\n",
            " |          loss: String (name of objective function), objective function or\n",
            " |              `tf.keras.losses.Loss` instance. See `tf.keras.losses`.\n",
            " |              An objective function is any callable with the signature\n",
            " |              `loss = fn(y_true, y_pred)`, where\n",
            " |              y_true = ground truth values with shape = `[batch_size, d0, .. dN]`,\n",
            " |              except sparse loss functions such as sparse categorical crossentropy\n",
            " |              where shape = `[batch_size, d0, .. dN-1]`.\n",
            " |              y_pred = predicted values with shape = `[batch_size, d0, .. dN]`.\n",
            " |              It returns a weighted loss float tensor.\n",
            " |              If a custom `Loss` instance is used and reduction is set to NONE,\n",
            " |              return value has the shape [batch_size, d0, .. dN-1] ie. per-sample\n",
            " |              or per-timestep loss values; otherwise, it is a scalar.\n",
            " |              If the model has multiple outputs, you can use a different loss on\n",
            " |              each output by passing a dictionary or a list of losses. The loss\n",
            " |              value that will be minimized by the model will then be the sum of\n",
            " |              all individual losses.\n",
            " |          metrics: List of metrics to be evaluated by the model during training\n",
            " |              and testing.\n",
            " |              Each of this can be a string (name of a built-in function), function\n",
            " |              or a `tf.keras.metrics.Metric` instance. See `tf.keras.metrics`.\n",
            " |              Typically you will use `metrics=['accuracy']`. A function is any\n",
            " |              callable with the signature `result = fn(y_true, y_pred)`.\n",
            " |              To specify different metrics for different outputs of a\n",
            " |              multi-output model, you could also pass a dictionary, such as\n",
            " |              `metrics={'output_a': 'accuracy', 'output_b': ['accuracy', 'mse']}`.\n",
            " |              You can also pass a list (len = len(outputs)) of lists of metrics\n",
            " |              such as `metrics=[['accuracy'], ['accuracy', 'mse']]` or\n",
            " |              `metrics=['accuracy', ['accuracy', 'mse']]`.\n",
            " |              When you pass the strings 'accuracy' or 'acc', we convert this to\n",
            " |              one of `tf.keras.metrics.BinaryAccuracy`,\n",
            " |              `tf.keras.metrics.CategoricalAccuracy`,\n",
            " |              `tf.keras.metrics.SparseCategoricalAccuracy` based on the loss\n",
            " |              function used and the model output shape. We do a similar conversion\n",
            " |              for the strings 'crossentropy' and 'ce' as well.\n",
            " |          loss_weights: Optional list or dictionary specifying scalar\n",
            " |              coefficients (Python floats) to weight the loss contributions\n",
            " |              of different model outputs.\n",
            " |              The loss value that will be minimized by the model\n",
            " |              will then be the *weighted sum* of all individual losses,\n",
            " |              weighted by the `loss_weights` coefficients.\n",
            " |              If a list, it is expected to have a 1:1 mapping\n",
            " |              to the model's outputs. If a dict, it is expected to map\n",
            " |              output names (strings) to scalar coefficients.\n",
            " |          sample_weight_mode: If you need to do timestep-wise\n",
            " |              sample weighting (2D weights), set this to `\"temporal\"`.\n",
            " |              `None` defaults to sample-wise weights (1D).\n",
            " |              If the model has multiple outputs, you can use a different\n",
            " |              `sample_weight_mode` on each output by passing a\n",
            " |              dictionary or a list of modes.\n",
            " |          weighted_metrics: List of metrics to be evaluated and weighted\n",
            " |              by sample_weight or class_weight during training and testing.\n",
            " |          **kwargs: Any additional arguments. For eager execution, pass\n",
            " |              `run_eagerly=True`.\n",
            " |      \n",
            " |      Raises:\n",
            " |          ValueError: In case of invalid arguments for\n",
            " |              `optimizer`, `loss`, `metrics` or `sample_weight_mode`.\n",
            " |  \n",
            " |  evaluate(self, x=None, y=None, batch_size=None, verbose=1, sample_weight=None, steps=None, callbacks=None, max_queue_size=10, workers=1, use_multiprocessing=False, return_dict=False)\n",
            " |      Returns the loss value & metrics values for the model in test mode.\n",
            " |      \n",
            " |      Computation is done in batches.\n",
            " |      \n",
            " |      Arguments:\n",
            " |          x: Input data. It could be: - A Numpy array (or array-like), or a list\n",
            " |            of arrays (in case the model has multiple inputs). - A TensorFlow\n",
            " |            tensor, or a list of tensors (in case the model has multiple inputs).\n",
            " |            - A dict mapping input names to the corresponding array/tensors, if\n",
            " |            the model has named inputs. - A `tf.data` dataset. - A generator or\n",
            " |            `keras.utils.Sequence` instance. A more detailed description of\n",
            " |            unpacking behavior for iterator types (Dataset, generator, Sequence)\n",
            " |            is given in the `Unpacking behavior for iterator-like inputs` section\n",
            " |            of `Model.fit`.\n",
            " |          y: Target data. Like the input data `x`, it could be either Numpy\n",
            " |            array(s) or TensorFlow tensor(s). It should be consistent with `x`\n",
            " |            (you cannot have Numpy inputs and tensor targets, or inversely). If\n",
            " |            `x` is a dataset, generator or `keras.utils.Sequence` instance, `y`\n",
            " |            should not be specified (since targets will be obtained from the\n",
            " |            iterator/dataset).\n",
            " |          batch_size: Integer or `None`. Number of samples per gradient update. If\n",
            " |            unspecified, `batch_size` will default to 32. Do not specify the\n",
            " |            `batch_size` if your data is in the form of a dataset, generators,\n",
            " |            or `keras.utils.Sequence` instances (since they generate batches).\n",
            " |          verbose: 0 or 1. Verbosity mode. 0 = silent, 1 = progress bar.\n",
            " |          sample_weight: Optional Numpy array of weights for the test samples,\n",
            " |            used for weighting the loss function. You can either pass a flat (1D)\n",
            " |            Numpy array with the same length as the input samples\n",
            " |              (1:1 mapping between weights and samples), or in the case of\n",
            " |                temporal data, you can pass a 2D array with shape `(samples,\n",
            " |                sequence_length)`, to apply a different weight to every timestep\n",
            " |                of every sample. In this case you should make sure to specify\n",
            " |                `sample_weight_mode=\"temporal\"` in `compile()`. This argument is\n",
            " |                not supported when `x` is a dataset, instead pass sample weights\n",
            " |                as the third element of `x`.\n",
            " |          steps: Integer or `None`. Total number of steps (batches of samples)\n",
            " |            before declaring the evaluation round finished. Ignored with the\n",
            " |            default value of `None`. If x is a `tf.data` dataset and `steps` is\n",
            " |            None, 'evaluate' will run until the dataset is exhausted. This\n",
            " |            argument is not supported with array inputs.\n",
            " |          callbacks: List of `keras.callbacks.Callback` instances. List of\n",
            " |            callbacks to apply during evaluation. See\n",
            " |            [callbacks](/api_docs/python/tf/keras/callbacks).\n",
            " |          max_queue_size: Integer. Used for generator or `keras.utils.Sequence`\n",
            " |            input only. Maximum size for the generator queue. If unspecified,\n",
            " |            `max_queue_size` will default to 10.\n",
            " |          workers: Integer. Used for generator or `keras.utils.Sequence` input\n",
            " |            only. Maximum number of processes to spin up when using process-based\n",
            " |            threading. If unspecified, `workers` will default to 1. If 0, will\n",
            " |            execute the generator on the main thread.\n",
            " |          use_multiprocessing: Boolean. Used for generator or\n",
            " |            `keras.utils.Sequence` input only. If `True`, use process-based\n",
            " |            threading. If unspecified, `use_multiprocessing` will default to\n",
            " |            `False`. Note that because this implementation relies on\n",
            " |            multiprocessing, you should not pass non-picklable arguments to the\n",
            " |            generator as they can't be passed easily to children processes.\n",
            " |          return_dict: If `True`, loss and metric results are returned as a dict,\n",
            " |            with each key being the name of the metric. If `False`, they are\n",
            " |            returned as a list.\n",
            " |      \n",
            " |      See the discussion of `Unpacking behavior for iterator-like inputs` for\n",
            " |      `Model.fit`.\n",
            " |      \n",
            " |      Returns:\n",
            " |          Scalar test loss (if the model has a single output and no metrics)\n",
            " |          or list of scalars (if the model has multiple outputs\n",
            " |          and/or metrics). The attribute `model.metrics_names` will give you\n",
            " |          the display labels for the scalar outputs.\n",
            " |      \n",
            " |      Raises:\n",
            " |          ValueError: in case of invalid arguments.\n",
            " |  \n",
            " |  evaluate_generator(self, generator, steps=None, callbacks=None, max_queue_size=10, workers=1, use_multiprocessing=False, verbose=0)\n",
            " |      Evaluates the model on a data generator. (deprecated)\n",
            " |      \n",
            " |      Warning: THIS FUNCTION IS DEPRECATED. It will be removed in a future version.\n",
            " |      Instructions for updating:\n",
            " |      Please use Model.evaluate, which supports generators.\n",
            " |      \n",
            " |      DEPRECATED:\n",
            " |        `Model.evaluate` now supports generators, so there is no longer any need\n",
            " |        to use this endpoint.\n",
            " |  \n",
            " |  fit(self, x=None, y=None, batch_size=None, epochs=1, verbose=1, callbacks=None, validation_split=0.0, validation_data=None, shuffle=True, class_weight=None, sample_weight=None, initial_epoch=0, steps_per_epoch=None, validation_steps=None, validation_batch_size=None, validation_freq=1, max_queue_size=10, workers=1, use_multiprocessing=False)\n",
            " |      Trains the model for a fixed number of epochs (iterations on a dataset).\n",
            " |      \n",
            " |      Arguments:\n",
            " |          x: Input data. It could be:\n",
            " |            - A Numpy array (or array-like), or a list of arrays\n",
            " |              (in case the model has multiple inputs).\n",
            " |            - A TensorFlow tensor, or a list of tensors\n",
            " |              (in case the model has multiple inputs).\n",
            " |            - A dict mapping input names to the corresponding array/tensors,\n",
            " |              if the model has named inputs.\n",
            " |            - A `tf.data` dataset. Should return a tuple\n",
            " |              of either `(inputs, targets)` or\n",
            " |              `(inputs, targets, sample_weights)`.\n",
            " |            - A generator or `keras.utils.Sequence` returning `(inputs, targets)`\n",
            " |              or `(inputs, targets, sample_weights)`.\n",
            " |            A more detailed description of unpacking behavior for iterator types\n",
            " |            (Dataset, generator, Sequence) is given below.\n",
            " |          y: Target data. Like the input data `x`,\n",
            " |            it could be either Numpy array(s) or TensorFlow tensor(s).\n",
            " |            It should be consistent with `x` (you cannot have Numpy inputs and\n",
            " |            tensor targets, or inversely). If `x` is a dataset, generator,\n",
            " |            or `keras.utils.Sequence` instance, `y` should\n",
            " |            not be specified (since targets will be obtained from `x`).\n",
            " |          batch_size: Integer or `None`.\n",
            " |              Number of samples per gradient update.\n",
            " |              If unspecified, `batch_size` will default to 32.\n",
            " |              Do not specify the `batch_size` if your data is in the\n",
            " |              form of datasets, generators, or `keras.utils.Sequence` instances\n",
            " |              (since they generate batches).\n",
            " |          epochs: Integer. Number of epochs to train the model.\n",
            " |              An epoch is an iteration over the entire `x` and `y`\n",
            " |              data provided.\n",
            " |              Note that in conjunction with `initial_epoch`,\n",
            " |              `epochs` is to be understood as \"final epoch\".\n",
            " |              The model is not trained for a number of iterations\n",
            " |              given by `epochs`, but merely until the epoch\n",
            " |              of index `epochs` is reached.\n",
            " |          verbose: 0, 1, or 2. Verbosity mode.\n",
            " |              0 = silent, 1 = progress bar, 2 = one line per epoch.\n",
            " |              Note that the progress bar is not particularly useful when\n",
            " |              logged to a file, so verbose=2 is recommended when not running\n",
            " |              interactively (eg, in a production environment).\n",
            " |          callbacks: List of `keras.callbacks.Callback` instances.\n",
            " |              List of callbacks to apply during training.\n",
            " |              See `tf.keras.callbacks`.\n",
            " |          validation_split: Float between 0 and 1.\n",
            " |              Fraction of the training data to be used as validation data.\n",
            " |              The model will set apart this fraction of the training data,\n",
            " |              will not train on it, and will evaluate\n",
            " |              the loss and any model metrics\n",
            " |              on this data at the end of each epoch.\n",
            " |              The validation data is selected from the last samples\n",
            " |              in the `x` and `y` data provided, before shuffling. This argument is\n",
            " |              not supported when `x` is a dataset, generator or\n",
            " |             `keras.utils.Sequence` instance.\n",
            " |          validation_data: Data on which to evaluate\n",
            " |              the loss and any model metrics at the end of each epoch.\n",
            " |              The model will not be trained on this data.\n",
            " |              `validation_data` will override `validation_split`.\n",
            " |              `validation_data` could be:\n",
            " |                - tuple `(x_val, y_val)` of Numpy arrays or tensors\n",
            " |                - tuple `(x_val, y_val, val_sample_weights)` of Numpy arrays\n",
            " |                - dataset\n",
            " |              For the first two cases, `batch_size` must be provided.\n",
            " |              For the last case, `validation_steps` could be provided.\n",
            " |              Note that `validation_data` does not support all the data types that\n",
            " |              are supported in `x`, eg, dict, generator or `keras.utils.Sequence`.\n",
            " |          shuffle: Boolean (whether to shuffle the training data\n",
            " |              before each epoch) or str (for 'batch'). This argument is ignored\n",
            " |              when `x` is a generator. 'batch' is a special option for dealing\n",
            " |              with the limitations of HDF5 data; it shuffles in batch-sized\n",
            " |              chunks. Has no effect when `steps_per_epoch` is not `None`.\n",
            " |          class_weight: Optional dictionary mapping class indices (integers)\n",
            " |              to a weight (float) value, used for weighting the loss function\n",
            " |              (during training only).\n",
            " |              This can be useful to tell the model to\n",
            " |              \"pay more attention\" to samples from\n",
            " |              an under-represented class.\n",
            " |          sample_weight: Optional Numpy array of weights for\n",
            " |              the training samples, used for weighting the loss function\n",
            " |              (during training only). You can either pass a flat (1D)\n",
            " |              Numpy array with the same length as the input samples\n",
            " |              (1:1 mapping between weights and samples),\n",
            " |              or in the case of temporal data,\n",
            " |              you can pass a 2D array with shape\n",
            " |              `(samples, sequence_length)`,\n",
            " |              to apply a different weight to every timestep of every sample.\n",
            " |              In this case you should make sure to specify\n",
            " |              `sample_weight_mode=\"temporal\"` in `compile()`. This argument is not\n",
            " |              supported when `x` is a dataset, generator, or\n",
            " |             `keras.utils.Sequence` instance, instead provide the sample_weights\n",
            " |              as the third element of `x`.\n",
            " |          initial_epoch: Integer.\n",
            " |              Epoch at which to start training\n",
            " |              (useful for resuming a previous training run).\n",
            " |          steps_per_epoch: Integer or `None`.\n",
            " |              Total number of steps (batches of samples)\n",
            " |              before declaring one epoch finished and starting the\n",
            " |              next epoch. When training with input tensors such as\n",
            " |              TensorFlow data tensors, the default `None` is equal to\n",
            " |              the number of samples in your dataset divided by\n",
            " |              the batch size, or 1 if that cannot be determined. If x is a\n",
            " |              `tf.data` dataset, and 'steps_per_epoch'\n",
            " |              is None, the epoch will run until the input dataset is exhausted.\n",
            " |              When passing an infinitely repeating dataset, you must specify the\n",
            " |              `steps_per_epoch` argument. This argument is not supported with\n",
            " |              array inputs.\n",
            " |          validation_steps: Only relevant if `validation_data` is provided and\n",
            " |              is a `tf.data` dataset. Total number of steps (batches of\n",
            " |              samples) to draw before stopping when performing validation\n",
            " |              at the end of every epoch. If 'validation_steps' is None, validation\n",
            " |              will run until the `validation_data` dataset is exhausted. In the\n",
            " |              case of an infinitely repeated dataset, it will run into an\n",
            " |              infinite loop. If 'validation_steps' is specified and only part of\n",
            " |              the dataset will be consumed, the evaluation will start from the\n",
            " |              beginning of the dataset at each epoch. This ensures that the same\n",
            " |              validation samples are used every time.\n",
            " |          validation_batch_size: Integer or `None`.\n",
            " |              Number of samples per validation batch.\n",
            " |              If unspecified, will default to `batch_size`.\n",
            " |              Do not specify the `validation_batch_size` if your data is in the\n",
            " |              form of datasets, generators, or `keras.utils.Sequence` instances\n",
            " |              (since they generate batches).\n",
            " |          validation_freq: Only relevant if validation data is provided. Integer\n",
            " |              or `collections_abc.Container` instance (e.g. list, tuple, etc.).\n",
            " |              If an integer, specifies how many training epochs to run before a\n",
            " |              new validation run is performed, e.g. `validation_freq=2` runs\n",
            " |              validation every 2 epochs. If a Container, specifies the epochs on\n",
            " |              which to run validation, e.g. `validation_freq=[1, 2, 10]` runs\n",
            " |              validation at the end of the 1st, 2nd, and 10th epochs.\n",
            " |          max_queue_size: Integer. Used for generator or `keras.utils.Sequence`\n",
            " |              input only. Maximum size for the generator queue.\n",
            " |              If unspecified, `max_queue_size` will default to 10.\n",
            " |          workers: Integer. Used for generator or `keras.utils.Sequence` input\n",
            " |              only. Maximum number of processes to spin up\n",
            " |              when using process-based threading. If unspecified, `workers`\n",
            " |              will default to 1. If 0, will execute the generator on the main\n",
            " |              thread.\n",
            " |          use_multiprocessing: Boolean. Used for generator or\n",
            " |              `keras.utils.Sequence` input only. If `True`, use process-based\n",
            " |              threading. If unspecified, `use_multiprocessing` will default to\n",
            " |              `False`. Note that because this implementation relies on\n",
            " |              multiprocessing, you should not pass non-picklable arguments to\n",
            " |              the generator as they can't be passed easily to children processes.\n",
            " |      \n",
            " |      Unpacking behavior for iterator-like inputs:\n",
            " |          A common pattern is to pass a tf.data.Dataset, generator, or\n",
            " |        tf.keras.utils.Sequence to the `x` argument of fit, which will in fact\n",
            " |        yield not only features (x) but optionally targets (y) and sample weights.\n",
            " |        Keras requires that the output of such iterator-likes be unambiguous. The\n",
            " |        iterator should return a tuple of length 1, 2, or 3, where the optional\n",
            " |        second and third elements will be used for y and sample_weight\n",
            " |        respectively. Any other type provided will be wrapped in a length one\n",
            " |        tuple, effectively treating everything as 'x'. When yielding dicts, they\n",
            " |        should still adhere to the top-level tuple structure.\n",
            " |        e.g. `({\"x0\": x0, \"x1\": x1}, y)`. Keras will not attempt to separate\n",
            " |        features, targets, and weights from the keys of a single dict.\n",
            " |          A notable unsupported data type is the namedtuple. The reason is that\n",
            " |        it behaves like both an ordered datatype (tuple) and a mapping\n",
            " |        datatype (dict). So given a namedtuple of the form:\n",
            " |            `namedtuple(\"example_tuple\", [\"y\", \"x\"])`\n",
            " |        it is ambiguous whether to reverse the order of the elements when\n",
            " |        interpreting the value. Even worse is a tuple of the form:\n",
            " |            `namedtuple(\"other_tuple\", [\"x\", \"y\", \"z\"])`\n",
            " |        where it is unclear if the tuple was intended to be unpacked into x, y,\n",
            " |        and sample_weight or passed through as a single element to `x`. As a\n",
            " |        result the data processing code will simply raise a ValueError if it\n",
            " |        encounters a namedtuple. (Along with instructions to remedy the issue.)\n",
            " |      \n",
            " |      Returns:\n",
            " |          A `History` object. Its `History.history` attribute is\n",
            " |          a record of training loss values and metrics values\n",
            " |          at successive epochs, as well as validation loss values\n",
            " |          and validation metrics values (if applicable).\n",
            " |      \n",
            " |      Raises:\n",
            " |          RuntimeError: If the model was never compiled.\n",
            " |          ValueError: In case of mismatch between the provided input data\n",
            " |              and what the model expects.\n",
            " |  \n",
            " |  fit_generator(self, generator, steps_per_epoch=None, epochs=1, verbose=1, callbacks=None, validation_data=None, validation_steps=None, validation_freq=1, class_weight=None, max_queue_size=10, workers=1, use_multiprocessing=False, shuffle=True, initial_epoch=0)\n",
            " |      Fits the model on data yielded batch-by-batch by a Python generator. (deprecated)\n",
            " |      \n",
            " |      Warning: THIS FUNCTION IS DEPRECATED. It will be removed in a future version.\n",
            " |      Instructions for updating:\n",
            " |      Please use Model.fit, which supports generators.\n",
            " |      \n",
            " |      DEPRECATED:\n",
            " |        `Model.fit` now supports generators, so there is no longer any need to use\n",
            " |        this endpoint.\n",
            " |  \n",
            " |  get_weights(self)\n",
            " |      Retrieves the weights of the model.\n",
            " |      \n",
            " |      Returns:\n",
            " |          A flat list of Numpy arrays.\n",
            " |  \n",
            " |  load_weights(self, filepath, by_name=False, skip_mismatch=False)\n",
            " |      Loads all layer weights, either from a TensorFlow or an HDF5 weight file.\n",
            " |      \n",
            " |      If `by_name` is False weights are loaded based on the network's\n",
            " |      topology. This means the architecture should be the same as when the weights\n",
            " |      were saved.  Note that layers that don't have weights are not taken into\n",
            " |      account in the topological ordering, so adding or removing layers is fine as\n",
            " |      long as they don't have weights.\n",
            " |      \n",
            " |      If `by_name` is True, weights are loaded into layers only if they share the\n",
            " |      same name. This is useful for fine-tuning or transfer-learning models where\n",
            " |      some of the layers have changed.\n",
            " |      \n",
            " |      Only topological loading (`by_name=False`) is supported when loading weights\n",
            " |      from the TensorFlow format. Note that topological loading differs slightly\n",
            " |      between TensorFlow and HDF5 formats for user-defined classes inheriting from\n",
            " |      `tf.keras.Model`: HDF5 loads based on a flattened list of weights, while the\n",
            " |      TensorFlow format loads based on the object-local names of attributes to\n",
            " |      which layers are assigned in the `Model`'s constructor.\n",
            " |      \n",
            " |      Arguments:\n",
            " |          filepath: String, path to the weights file to load. For weight files in\n",
            " |              TensorFlow format, this is the file prefix (the same as was passed\n",
            " |              to `save_weights`).\n",
            " |          by_name: Boolean, whether to load weights by name or by topological\n",
            " |              order. Only topological loading is supported for weight files in\n",
            " |              TensorFlow format.\n",
            " |          skip_mismatch: Boolean, whether to skip loading of layers where there is\n",
            " |              a mismatch in the number of weights, or a mismatch in the shape of\n",
            " |              the weight (only valid when `by_name=True`).\n",
            " |      \n",
            " |      Returns:\n",
            " |          When loading a weight file in TensorFlow format, returns the same status\n",
            " |          object as `tf.train.Checkpoint.restore`. When graph building, restore\n",
            " |          ops are run automatically as soon as the network is built (on first call\n",
            " |          for user-defined classes inheriting from `Model`, immediately if it is\n",
            " |          already built).\n",
            " |      \n",
            " |          When loading weights in HDF5 format, returns `None`.\n",
            " |      \n",
            " |      Raises:\n",
            " |          ImportError: If h5py is not available and the weight file is in HDF5\n",
            " |              format.\n",
            " |          ValueError: If `skip_mismatch` is set to `True` when `by_name` is\n",
            " |            `False`.\n",
            " |  \n",
            " |  make_predict_function(self)\n",
            " |      Creates a function that executes one step of inference.\n",
            " |      \n",
            " |      This method can be overridden to support custom inference logic.\n",
            " |      This method is called by `Model.predict` and `Model.predict_on_batch`.\n",
            " |      \n",
            " |      Typically, this method directly controls `tf.function` and\n",
            " |      `tf.distribute.Strategy` settings, and delegates the actual evaluation\n",
            " |      logic to `Model.predict_step`.\n",
            " |      \n",
            " |      This function is cached the first time `Model.predict` or\n",
            " |      `Model.predict_on_batch` is called. The cache is cleared whenever\n",
            " |      `Model.compile` is called.\n",
            " |      \n",
            " |      Returns:\n",
            " |        Function. The function created by this method should accept a\n",
            " |        `tf.data.Iterator`, and return the outputs of the `Model`.\n",
            " |  \n",
            " |  make_test_function(self)\n",
            " |      Creates a function that executes one step of evaluation.\n",
            " |      \n",
            " |      This method can be overridden to support custom evaluation logic.\n",
            " |      This method is called by `Model.evaluate` and `Model.test_on_batch`.\n",
            " |      \n",
            " |      Typically, this method directly controls `tf.function` and\n",
            " |      `tf.distribute.Strategy` settings, and delegates the actual evaluation\n",
            " |      logic to `Model.test_step`.\n",
            " |      \n",
            " |      This function is cached the first time `Model.evaluate` or\n",
            " |      `Model.test_on_batch` is called. The cache is cleared whenever\n",
            " |      `Model.compile` is called.\n",
            " |      \n",
            " |      Returns:\n",
            " |        Function. The function created by this method should accept a\n",
            " |        `tf.data.Iterator`, and return a `dict` containing values that will\n",
            " |        be passed to `tf.keras.Callbacks.on_test_batch_end`.\n",
            " |  \n",
            " |  make_train_function(self)\n",
            " |      Creates a function that executes one step of training.\n",
            " |      \n",
            " |      This method can be overridden to support custom training logic.\n",
            " |      This method is called by `Model.fit` and `Model.train_on_batch`.\n",
            " |      \n",
            " |      Typically, this method directly controls `tf.function` and\n",
            " |      `tf.distribute.Strategy` settings, and delegates the actual training\n",
            " |      logic to `Model.train_step`.\n",
            " |      \n",
            " |      This function is cached the first time `Model.fit` or\n",
            " |      `Model.train_on_batch` is called. The cache is cleared whenever\n",
            " |      `Model.compile` is called.\n",
            " |      \n",
            " |      Returns:\n",
            " |        Function. The function created by this method should accept a\n",
            " |        `tf.data.Iterator`, and return a `dict` containing values that will\n",
            " |        be passed to `tf.keras.Callbacks.on_train_batch_end`, such as\n",
            " |        `{'loss': 0.2, 'accuracy': 0.7}`.\n",
            " |  \n",
            " |  predict(self, x, batch_size=None, verbose=0, steps=None, callbacks=None, max_queue_size=10, workers=1, use_multiprocessing=False)\n",
            " |      Generates output predictions for the input samples.\n",
            " |      \n",
            " |      Computation is done in batches. This method is designed for performance in\n",
            " |      large scale inputs. For small amount of inputs that fit in one batch,\n",
            " |      directly using `__call__` is recommended for faster execution, e.g.,\n",
            " |      `model(x)`, or `model(x, training=False)` if you have layers such as\n",
            " |      `tf.keras.layers.BatchNormalization` that behaves differently during\n",
            " |      inference.\n",
            " |      \n",
            " |      Arguments:\n",
            " |          x: Input samples. It could be:\n",
            " |            - A Numpy array (or array-like), or a list of arrays\n",
            " |              (in case the model has multiple inputs).\n",
            " |            - A TensorFlow tensor, or a list of tensors\n",
            " |              (in case the model has multiple inputs).\n",
            " |            - A `tf.data` dataset.\n",
            " |            - A generator or `keras.utils.Sequence` instance.\n",
            " |            A more detailed description of unpacking behavior for iterator types\n",
            " |            (Dataset, generator, Sequence) is given in the `Unpacking behavior\n",
            " |            for iterator-like inputs` section of `Model.fit`.\n",
            " |          batch_size: Integer or `None`.\n",
            " |              Number of samples per batch.\n",
            " |              If unspecified, `batch_size` will default to 32.\n",
            " |              Do not specify the `batch_size` if your data is in the\n",
            " |              form of dataset, generators, or `keras.utils.Sequence` instances\n",
            " |              (since they generate batches).\n",
            " |          verbose: Verbosity mode, 0 or 1.\n",
            " |          steps: Total number of steps (batches of samples)\n",
            " |              before declaring the prediction round finished.\n",
            " |              Ignored with the default value of `None`. If x is a `tf.data`\n",
            " |              dataset and `steps` is None, `predict` will\n",
            " |              run until the input dataset is exhausted.\n",
            " |          callbacks: List of `keras.callbacks.Callback` instances.\n",
            " |              List of callbacks to apply during prediction.\n",
            " |              See [callbacks](/api_docs/python/tf/keras/callbacks).\n",
            " |          max_queue_size: Integer. Used for generator or `keras.utils.Sequence`\n",
            " |              input only. Maximum size for the generator queue.\n",
            " |              If unspecified, `max_queue_size` will default to 10.\n",
            " |          workers: Integer. Used for generator or `keras.utils.Sequence` input\n",
            " |              only. Maximum number of processes to spin up when using\n",
            " |              process-based threading. If unspecified, `workers` will default\n",
            " |              to 1. If 0, will execute the generator on the main thread.\n",
            " |          use_multiprocessing: Boolean. Used for generator or\n",
            " |              `keras.utils.Sequence` input only. If `True`, use process-based\n",
            " |              threading. If unspecified, `use_multiprocessing` will default to\n",
            " |              `False`. Note that because this implementation relies on\n",
            " |              multiprocessing, you should not pass non-picklable arguments to\n",
            " |              the generator as they can't be passed easily to children processes.\n",
            " |      \n",
            " |      See the discussion of `Unpacking behavior for iterator-like inputs` for\n",
            " |      `Model.fit`. Note that Model.predict uses the same interpretation rules as\n",
            " |      `Model.fit` and `Model.evaluate`, so inputs must be unambiguous for all\n",
            " |      three methods.\n",
            " |      \n",
            " |      Returns:\n",
            " |          Numpy array(s) of predictions.\n",
            " |      \n",
            " |      Raises:\n",
            " |          ValueError: In case of mismatch between the provided\n",
            " |              input data and the model's expectations,\n",
            " |              or in case a stateful model receives a number of samples\n",
            " |              that is not a multiple of the batch size.\n",
            " |  \n",
            " |  predict_generator(self, generator, steps=None, callbacks=None, max_queue_size=10, workers=1, use_multiprocessing=False, verbose=0)\n",
            " |      Generates predictions for the input samples from a data generator. (deprecated)\n",
            " |      \n",
            " |      Warning: THIS FUNCTION IS DEPRECATED. It will be removed in a future version.\n",
            " |      Instructions for updating:\n",
            " |      Please use Model.predict, which supports generators.\n",
            " |      \n",
            " |      DEPRECATED:\n",
            " |        `Model.predict` now supports generators, so there is no longer any need\n",
            " |        to use this endpoint.\n",
            " |  \n",
            " |  predict_on_batch(self, x)\n",
            " |      Returns predictions for a single batch of samples.\n",
            " |      \n",
            " |      Arguments:\n",
            " |          x: Input data. It could be: - A Numpy array (or array-like), or a list\n",
            " |            of arrays (in case the model has multiple inputs). - A TensorFlow\n",
            " |            tensor, or a list of tensors (in case the model has multiple inputs).\n",
            " |      \n",
            " |      Returns:\n",
            " |          Numpy array(s) of predictions.\n",
            " |      \n",
            " |      Raises:\n",
            " |          ValueError: In case of mismatch between given number of inputs and\n",
            " |            expectations of the model.\n",
            " |  \n",
            " |  predict_step(self, data)\n",
            " |      The logic for one inference step.\n",
            " |      \n",
            " |      This method can be overridden to support custom inference logic.\n",
            " |      This method is called by `Model.make_predict_function`.\n",
            " |      \n",
            " |      This method should contain the mathemetical logic for one step of inference.\n",
            " |      This typically includes the forward pass.\n",
            " |      \n",
            " |      Configuration details for *how* this logic is run (e.g. `tf.function` and\n",
            " |      `tf.distribute.Strategy` settings), should be left to\n",
            " |      `Model.make_predict_function`, which can also be overridden.\n",
            " |      \n",
            " |      Arguments:\n",
            " |        data: A nested structure of `Tensor`s.\n",
            " |      \n",
            " |      Returns:\n",
            " |        The result of one inference step, typically the output of calling the\n",
            " |        `Model` on data.\n",
            " |  \n",
            " |  reset_metrics(self)\n",
            " |      Resets the state of metrics.\n",
            " |  \n",
            " |  test_on_batch(self, x, y=None, sample_weight=None, reset_metrics=True, return_dict=False)\n",
            " |      Test the model on a single batch of samples.\n",
            " |      \n",
            " |      Arguments:\n",
            " |          x: Input data. It could be: - A Numpy array (or array-like), or a list\n",
            " |            of arrays (in case the model has multiple inputs). - A TensorFlow\n",
            " |            tensor, or a list of tensors (in case the model has multiple inputs).\n",
            " |            - A dict mapping input names to the corresponding array/tensors, if\n",
            " |            the model has named inputs.\n",
            " |          y: Target data. Like the input data `x`, it could be either Numpy\n",
            " |            array(s) or TensorFlow tensor(s). It should be consistent with `x`\n",
            " |            (you cannot have Numpy inputs and tensor targets, or inversely).\n",
            " |          sample_weight: Optional array of the same length as x, containing\n",
            " |            weights to apply to the model's loss for each sample. In the case of\n",
            " |            temporal data, you can pass a 2D array with shape (samples,\n",
            " |            sequence_length), to apply a different weight to every timestep of\n",
            " |            every sample. In this case you should make sure to specify\n",
            " |            sample_weight_mode=\"temporal\" in compile().\n",
            " |          reset_metrics: If `True`, the metrics returned will be only for this\n",
            " |            batch. If `False`, the metrics will be statefully accumulated across\n",
            " |            batches.\n",
            " |          return_dict: If `True`, loss and metric results are returned as a dict,\n",
            " |            with each key being the name of the metric. If `False`, they are\n",
            " |            returned as a list.\n",
            " |      \n",
            " |      Returns:\n",
            " |          Scalar test loss (if the model has a single output and no metrics)\n",
            " |          or list of scalars (if the model has multiple outputs\n",
            " |          and/or metrics). The attribute `model.metrics_names` will give you\n",
            " |          the display labels for the scalar outputs.\n",
            " |      \n",
            " |      Raises:\n",
            " |          ValueError: In case of invalid user-provided arguments.\n",
            " |  \n",
            " |  test_step(self, data)\n",
            " |      The logic for one evaluation step.\n",
            " |      \n",
            " |      This method can be overridden to support custom evaluation logic.\n",
            " |      This method is called by `Model.make_test_function`.\n",
            " |      \n",
            " |      This function should contain the mathemetical logic for one step of\n",
            " |      evaluation.\n",
            " |      This typically includes the forward pass, loss calculation, and metrics\n",
            " |      updates.\n",
            " |      \n",
            " |      Configuration details for *how* this logic is run (e.g. `tf.function` and\n",
            " |      `tf.distribute.Strategy` settings), should be left to\n",
            " |      `Model.make_test_function`, which can also be overridden.\n",
            " |      \n",
            " |      Arguments:\n",
            " |        data: A nested structure of `Tensor`s.\n",
            " |      \n",
            " |      Returns:\n",
            " |        A `dict` containing values that will be passed to\n",
            " |        `tf.keras.callbacks.CallbackList.on_train_batch_end`. Typically, the\n",
            " |        values of the `Model`'s metrics are returned.\n",
            " |  \n",
            " |  train_on_batch(self, x, y=None, sample_weight=None, class_weight=None, reset_metrics=True, return_dict=False)\n",
            " |      Runs a single gradient update on a single batch of data.\n",
            " |      \n",
            " |      Arguments:\n",
            " |          x: Input data. It could be:\n",
            " |            - A Numpy array (or array-like), or a list of arrays\n",
            " |                (in case the model has multiple inputs).\n",
            " |            - A TensorFlow tensor, or a list of tensors\n",
            " |                (in case the model has multiple inputs).\n",
            " |            - A dict mapping input names to the corresponding array/tensors,\n",
            " |                if the model has named inputs.\n",
            " |          y: Target data. Like the input data `x`, it could be either Numpy\n",
            " |            array(s) or TensorFlow tensor(s). It should be consistent with `x`\n",
            " |            (you cannot have Numpy inputs and tensor targets, or inversely).\n",
            " |          sample_weight: Optional array of the same length as x, containing\n",
            " |            weights to apply to the model's loss for each sample. In the case of\n",
            " |            temporal data, you can pass a 2D array with shape (samples,\n",
            " |            sequence_length), to apply a different weight to every timestep of\n",
            " |            every sample. In this case you should make sure to specify\n",
            " |            sample_weight_mode=\"temporal\" in compile().\n",
            " |          class_weight: Optional dictionary mapping class indices (integers) to a\n",
            " |            weight (float) to apply to the model's loss for the samples from this\n",
            " |            class during training. This can be useful to tell the model to \"pay\n",
            " |            more attention\" to samples from an under-represented class.\n",
            " |          reset_metrics: If `True`, the metrics returned will be only for this\n",
            " |            batch. If `False`, the metrics will be statefully accumulated across\n",
            " |            batches.\n",
            " |          return_dict: If `True`, loss and metric results are returned as a dict,\n",
            " |            with each key being the name of the metric. If `False`, they are\n",
            " |            returned as a list.\n",
            " |      \n",
            " |      Returns:\n",
            " |          Scalar training loss\n",
            " |          (if the model has a single output and no metrics)\n",
            " |          or list of scalars (if the model has multiple outputs\n",
            " |          and/or metrics). The attribute `model.metrics_names` will give you\n",
            " |          the display labels for the scalar outputs.\n",
            " |      \n",
            " |      Raises:\n",
            " |        ValueError: In case of invalid user-provided arguments.\n",
            " |  \n",
            " |  train_step(self, data)\n",
            " |      The logic for one training step.\n",
            " |      \n",
            " |      This method can be overridden to support custom training logic.\n",
            " |      This method is called by `Model.make_train_function`.\n",
            " |      \n",
            " |      This method should contain the mathemetical logic for one step of training.\n",
            " |      This typically includes the forward pass, loss calculation, backpropagation,\n",
            " |      and metric updates.\n",
            " |      \n",
            " |      Configuration details for *how* this logic is run (e.g. `tf.function` and\n",
            " |      `tf.distribute.Strategy` settings), should be left to\n",
            " |      `Model.make_train_function`, which can also be overridden.\n",
            " |      \n",
            " |      Arguments:\n",
            " |        data: A nested structure of `Tensor`s.\n",
            " |      \n",
            " |      Returns:\n",
            " |        A `dict` containing values that will be passed to\n",
            " |        `tf.keras.callbacks.CallbackList.on_train_batch_end`. Typically, the\n",
            " |        values of the `Model`'s metrics are returned. Example:\n",
            " |        `{'loss': 0.2, 'accuracy': 0.7}`.\n",
            " |  \n",
            " |  ----------------------------------------------------------------------\n",
            " |  Data descriptors inherited from tensorflow.python.keras.engine.training.Model:\n",
            " |  \n",
            " |  distribute_strategy\n",
            " |      The `tf.distribute.Strategy` this model was created under.\n",
            " |  \n",
            " |  metrics\n",
            " |      Returns the model's metrics added using `compile`, `add_metric` APIs.\n",
            " |      \n",
            " |      Note: `metrics` are available only after a `keras.Model` has been\n",
            " |      trained/evaluated on actual data.\n",
            " |      \n",
            " |      Examples:\n",
            " |      \n",
            " |      >>> inputs = tf.keras.layers.Input(shape=(3,))\n",
            " |      >>> outputs = tf.keras.layers.Dense(2)(inputs)\n",
            " |      >>> model = tf.keras.models.Model(inputs=inputs, outputs=outputs)\n",
            " |      >>> model.compile(optimizer=\"Adam\", loss=\"mse\", metrics=[\"mae\"])\n",
            " |      >>> [m.name for m in model.metrics]\n",
            " |      []\n",
            " |      \n",
            " |      >>> x = np.random.random((2, 3))\n",
            " |      >>> y = np.random.randint(0, 2, (2, 2))\n",
            " |      >>> _ = model.fit(x, y, verbose=0)\n",
            " |      >>> [m.name for m in model.metrics]\n",
            " |      ['loss', 'mae']\n",
            " |      \n",
            " |      >>> inputs = tf.keras.layers.Input(shape=(3,))\n",
            " |      >>> d = tf.keras.layers.Dense(2, name='out')\n",
            " |      >>> output_1 = d(inputs)\n",
            " |      >>> output_2 = d(inputs)\n",
            " |      >>> model = tf.keras.models.Model(\n",
            " |      ...    inputs=inputs, outputs=[output_1, output_2])\n",
            " |      >>> model.add_metric(\n",
            " |      ...    tf.reduce_sum(output_2), name='mean', aggregation='mean')\n",
            " |      >>> model.compile(optimizer=\"Adam\", loss=\"mse\", metrics=[\"mae\", \"acc\"])\n",
            " |      >>> _ = model.fit(x, (y, y), verbose=0)\n",
            " |      >>> [m.name for m in model.metrics]\n",
            " |      ['loss', 'out_loss', 'out_1_loss', 'out_mae', 'out_acc', 'out_1_mae',\n",
            " |      'out_1_acc', 'mean']\n",
            " |  \n",
            " |  metrics_names\n",
            " |      Returns the model's display labels for all outputs.\n",
            " |      \n",
            " |      Note: `metrics_names` are available only after a `keras.Model` has been\n",
            " |      trained/evaluated on actual data.\n",
            " |      \n",
            " |      Examples:\n",
            " |      \n",
            " |      >>> inputs = tf.keras.layers.Input(shape=(3,))\n",
            " |      >>> outputs = tf.keras.layers.Dense(2)(inputs)\n",
            " |      >>> model = tf.keras.models.Model(inputs=inputs, outputs=outputs)\n",
            " |      >>> model.compile(optimizer=\"Adam\", loss=\"mse\", metrics=[\"mae\"])\n",
            " |      >>> model.metrics_names\n",
            " |      []\n",
            " |      \n",
            " |      >>> x = np.random.random((2, 3))\n",
            " |      >>> y = np.random.randint(0, 2, (2, 2))\n",
            " |      >>> _ = model.fit(x, y, verbose=0)\n",
            " |      >>> model.metrics_names\n",
            " |      ['loss', 'mae']\n",
            " |      \n",
            " |      >>> inputs = tf.keras.layers.Input(shape=(3,))\n",
            " |      >>> d = tf.keras.layers.Dense(2, name='out')\n",
            " |      >>> output_1 = d(inputs)\n",
            " |      >>> output_2 = d(inputs)\n",
            " |      >>> model = tf.keras.models.Model(\n",
            " |      ...    inputs=inputs, outputs=[output_1, output_2])\n",
            " |      >>> model.compile(optimizer=\"Adam\", loss=\"mse\", metrics=[\"mae\", \"acc\"])\n",
            " |      >>> _ = model.fit(x, (y, y), verbose=0)\n",
            " |      >>> model.metrics_names\n",
            " |      ['loss', 'out_loss', 'out_1_loss', 'out_mae', 'out_acc', 'out_1_mae',\n",
            " |      'out_1_acc']\n",
            " |  \n",
            " |  run_eagerly\n",
            " |      Settable attribute indicating whether the model should run eagerly.\n",
            " |      \n",
            " |      Running eagerly means that your model will be run step by step,\n",
            " |      like Python code. Your model might run slower, but it should become easier\n",
            " |      for you to debug it by stepping into individual layer calls.\n",
            " |      \n",
            " |      By default, we will attempt to compile your model to a static graph to\n",
            " |      deliver the best execution performance.\n",
            " |      \n",
            " |      Returns:\n",
            " |        Boolean, whether the model should run eagerly.\n",
            " |  \n",
            " |  ----------------------------------------------------------------------\n",
            " |  Methods inherited from tensorflow.python.keras.engine.network.Network:\n",
            " |  \n",
            " |  __setattr__(self, name, value)\n",
            " |      Support self.foo = trackable syntax.\n",
            " |  \n",
            " |  get_layer(self, name=None, index=None)\n",
            " |      Retrieves a layer based on either its name (unique) or index.\n",
            " |      \n",
            " |      If `name` and `index` are both provided, `index` will take precedence.\n",
            " |      Indices are based on order of horizontal graph traversal (bottom-up).\n",
            " |      \n",
            " |      Arguments:\n",
            " |          name: String, name of layer.\n",
            " |          index: Integer, index of layer.\n",
            " |      \n",
            " |      Returns:\n",
            " |          A layer instance.\n",
            " |      \n",
            " |      Raises:\n",
            " |          ValueError: In case of invalid layer name or index.\n",
            " |  \n",
            " |  reset_states(self)\n",
            " |  \n",
            " |  save(self, filepath, overwrite=True, include_optimizer=True, save_format=None, signatures=None, options=None)\n",
            " |      Saves the model to Tensorflow SavedModel or a single HDF5 file.\n",
            " |      \n",
            " |      The savefile includes:\n",
            " |          - The model architecture, allowing to re-instantiate the model.\n",
            " |          - The model weights.\n",
            " |          - The state of the optimizer, allowing to resume training\n",
            " |              exactly where you left off.\n",
            " |      \n",
            " |      This allows you to save the entirety of the state of a model\n",
            " |      in a single file.\n",
            " |      \n",
            " |      Saved models can be reinstantiated via `keras.models.load_model`.\n",
            " |      The model returned by `load_model` is a compiled model ready to be used\n",
            " |      (unless the saved model was never compiled in the first place).\n",
            " |      \n",
            " |      Models built with the Sequential and Functional API can be saved to both the\n",
            " |      HDF5 and SavedModel formats. Subclassed models can only be saved with the\n",
            " |      SavedModel format.\n",
            " |      \n",
            " |      Note that the model weights may have different scoped names after being\n",
            " |      loaded. Scoped names include the model/layer names, such as\n",
            " |      \"dense_1/kernel:0\"`. It is recommended that you use the layer properties to\n",
            " |       access specific variables, e.g. `model.get_layer(\"dense_1\").kernel`.\n",
            " |      \n",
            " |      Arguments:\n",
            " |          filepath: String, path to SavedModel or H5 file to save the model.\n",
            " |          overwrite: Whether to silently overwrite any existing file at the\n",
            " |              target location, or provide the user with a manual prompt.\n",
            " |          include_optimizer: If True, save optimizer's state together.\n",
            " |          save_format: Either 'tf' or 'h5', indicating whether to save the model\n",
            " |              to Tensorflow SavedModel or HDF5. Defaults to 'tf' in TF 2.X, and\n",
            " |              'h5' in TF 1.X.\n",
            " |          signatures: Signatures to save with the SavedModel. Applicable to the\n",
            " |              'tf' format only. Please see the `signatures` argument in\n",
            " |              `tf.saved_model.save` for details.\n",
            " |          options: Optional `tf.saved_model.SaveOptions` object that specifies\n",
            " |              options for saving to SavedModel.\n",
            " |      \n",
            " |      Example:\n",
            " |      \n",
            " |      ```python\n",
            " |      from keras.models import load_model\n",
            " |      \n",
            " |      model.save('my_model.h5')  # creates a HDF5 file 'my_model.h5'\n",
            " |      del model  # deletes the existing model\n",
            " |      \n",
            " |      # returns a compiled model\n",
            " |      # identical to the previous one\n",
            " |      model = load_model('my_model.h5')\n",
            " |      ```\n",
            " |  \n",
            " |  save_weights(self, filepath, overwrite=True, save_format=None)\n",
            " |      Saves all layer weights.\n",
            " |      \n",
            " |      Either saves in HDF5 or in TensorFlow format based on the `save_format`\n",
            " |      argument.\n",
            " |      \n",
            " |      When saving in HDF5 format, the weight file has:\n",
            " |        - `layer_names` (attribute), a list of strings\n",
            " |            (ordered names of model layers).\n",
            " |        - For every layer, a `group` named `layer.name`\n",
            " |            - For every such layer group, a group attribute `weight_names`,\n",
            " |                a list of strings\n",
            " |                (ordered names of weights tensor of the layer).\n",
            " |            - For every weight in the layer, a dataset\n",
            " |                storing the weight value, named after the weight tensor.\n",
            " |      \n",
            " |      When saving in TensorFlow format, all objects referenced by the network are\n",
            " |      saved in the same format as `tf.train.Checkpoint`, including any `Layer`\n",
            " |      instances or `Optimizer` instances assigned to object attributes. For\n",
            " |      networks constructed from inputs and outputs using `tf.keras.Model(inputs,\n",
            " |      outputs)`, `Layer` instances used by the network are tracked/saved\n",
            " |      automatically. For user-defined classes which inherit from `tf.keras.Model`,\n",
            " |      `Layer` instances must be assigned to object attributes, typically in the\n",
            " |      constructor. See the documentation of `tf.train.Checkpoint` and\n",
            " |      `tf.keras.Model` for details.\n",
            " |      \n",
            " |      While the formats are the same, do not mix `save_weights` and\n",
            " |      `tf.train.Checkpoint`. Checkpoints saved by `Model.save_weights` should be\n",
            " |      loaded using `Model.load_weights`. Checkpoints saved using\n",
            " |      `tf.train.Checkpoint.save` should be restored using the corresponding\n",
            " |      `tf.train.Checkpoint.restore`. Prefer `tf.train.Checkpoint` over\n",
            " |      `save_weights` for training checkpoints.\n",
            " |      \n",
            " |      The TensorFlow format matches objects and variables by starting at a root\n",
            " |      object, `self` for `save_weights`, and greedily matching attribute\n",
            " |      names. For `Model.save` this is the `Model`, and for `Checkpoint.save` this\n",
            " |      is the `Checkpoint` even if the `Checkpoint` has a model attached. This\n",
            " |      means saving a `tf.keras.Model` using `save_weights` and loading into a\n",
            " |      `tf.train.Checkpoint` with a `Model` attached (or vice versa) will not match\n",
            " |      the `Model`'s variables. See the [guide to training\n",
            " |      checkpoints](https://www.tensorflow.org/guide/checkpoint) for details\n",
            " |      on the TensorFlow format.\n",
            " |      \n",
            " |      Arguments:\n",
            " |          filepath: String, path to the file to save the weights to. When saving\n",
            " |              in TensorFlow format, this is the prefix used for checkpoint files\n",
            " |              (multiple files are generated). Note that the '.h5' suffix causes\n",
            " |              weights to be saved in HDF5 format.\n",
            " |          overwrite: Whether to silently overwrite any existing file at the\n",
            " |              target location, or provide the user with a manual prompt.\n",
            " |          save_format: Either 'tf' or 'h5'. A `filepath` ending in '.h5' or\n",
            " |              '.keras' will default to HDF5 if `save_format` is `None`. Otherwise\n",
            " |              `None` defaults to 'tf'.\n",
            " |      \n",
            " |      Raises:\n",
            " |          ImportError: If h5py is not available when attempting to save in HDF5\n",
            " |              format.\n",
            " |          ValueError: For invalid/unknown format arguments.\n",
            " |  \n",
            " |  summary(self, line_length=None, positions=None, print_fn=None)\n",
            " |      Prints a string summary of the network.\n",
            " |      \n",
            " |      Arguments:\n",
            " |          line_length: Total length of printed lines\n",
            " |              (e.g. set this to adapt the display to different\n",
            " |              terminal window sizes).\n",
            " |          positions: Relative or absolute positions of log elements\n",
            " |              in each line. If not provided,\n",
            " |              defaults to `[.33, .55, .67, 1.]`.\n",
            " |          print_fn: Print function to use. Defaults to `print`.\n",
            " |              It will be called on each line of the summary.\n",
            " |              You can set it to a custom function\n",
            " |              in order to capture the string summary.\n",
            " |      \n",
            " |      Raises:\n",
            " |          ValueError: if `summary()` is called before the model is built.\n",
            " |  \n",
            " |  to_json(self, **kwargs)\n",
            " |      Returns a JSON string containing the network configuration.\n",
            " |      \n",
            " |      To load a network from a JSON save file, use\n",
            " |      `keras.models.model_from_json(json_string, custom_objects={})`.\n",
            " |      \n",
            " |      Arguments:\n",
            " |          **kwargs: Additional keyword arguments\n",
            " |              to be passed to `json.dumps()`.\n",
            " |      \n",
            " |      Returns:\n",
            " |          A JSON string.\n",
            " |  \n",
            " |  to_yaml(self, **kwargs)\n",
            " |      Returns a yaml string containing the network configuration.\n",
            " |      \n",
            " |      To load a network from a yaml save file, use\n",
            " |      `keras.models.model_from_yaml(yaml_string, custom_objects={})`.\n",
            " |      \n",
            " |      `custom_objects` should be a dictionary mapping\n",
            " |      the names of custom losses / layers / etc to the corresponding\n",
            " |      functions / classes.\n",
            " |      \n",
            " |      Arguments:\n",
            " |          **kwargs: Additional keyword arguments\n",
            " |              to be passed to `yaml.dump()`.\n",
            " |      \n",
            " |      Returns:\n",
            " |          A YAML string.\n",
            " |      \n",
            " |      Raises:\n",
            " |          ImportError: if yaml module is not found.\n",
            " |  \n",
            " |  ----------------------------------------------------------------------\n",
            " |  Data descriptors inherited from tensorflow.python.keras.engine.network.Network:\n",
            " |  \n",
            " |  non_trainable_weights\n",
            " |      List of all non-trainable weights tracked by this layer.\n",
            " |      \n",
            " |      Non-trainable weights are *not* updated during training. They are expected\n",
            " |      to be updated manually in `call()`.\n",
            " |      \n",
            " |      Returns:\n",
            " |        A list of non-trainable variables.\n",
            " |  \n",
            " |  state_updates\n",
            " |      Returns the `updates` from all layers that are stateful.\n",
            " |      \n",
            " |      This is useful for separating training updates and\n",
            " |      state updates, e.g. when we need to update a layer's internal state\n",
            " |      during prediction.\n",
            " |      \n",
            " |      Returns:\n",
            " |          A list of update ops.\n",
            " |  \n",
            " |  stateful\n",
            " |  \n",
            " |  trainable_weights\n",
            " |      List of all trainable weights tracked by this layer.\n",
            " |      \n",
            " |      Trainable weights are updated via gradient descent during training.\n",
            " |      \n",
            " |      Returns:\n",
            " |        A list of trainable variables.\n",
            " |  \n",
            " |  weights\n",
            " |      Returns the list of all layer variables/weights.\n",
            " |      \n",
            " |      Returns:\n",
            " |        A list of variables.\n",
            " |  \n",
            " |  ----------------------------------------------------------------------\n",
            " |  Methods inherited from tensorflow.python.keras.engine.base_layer.Layer:\n",
            " |  \n",
            " |  __call__(self, *args, **kwargs)\n",
            " |      Wraps `call`, applying pre- and post-processing steps.\n",
            " |      \n",
            " |      Arguments:\n",
            " |        *args: Positional arguments to be passed to `self.call`.\n",
            " |        **kwargs: Keyword arguments to be passed to `self.call`.\n",
            " |      \n",
            " |      Returns:\n",
            " |        Output tensor(s).\n",
            " |      \n",
            " |      Note:\n",
            " |        - The following optional keyword arguments are reserved for specific uses:\n",
            " |          * `training`: Boolean scalar tensor of Python boolean indicating\n",
            " |            whether the `call` is meant for training or inference.\n",
            " |          * `mask`: Boolean input mask.\n",
            " |        - If the layer's `call` method takes a `mask` argument (as some Keras\n",
            " |          layers do), its default value will be set to the mask generated\n",
            " |          for `inputs` by the previous layer (if `input` did come from\n",
            " |          a layer that generated a corresponding mask, i.e. if it came from\n",
            " |          a Keras layer with masking support.\n",
            " |      \n",
            " |      Raises:\n",
            " |        ValueError: if the layer's `call` method returns None (an invalid value).\n",
            " |        RuntimeError: if `super().__init__()` was not called in the constructor.\n",
            " |  \n",
            " |  __delattr__(self, name)\n",
            " |      Implement delattr(self, name).\n",
            " |  \n",
            " |  __getstate__(self)\n",
            " |  \n",
            " |  __setstate__(self, state)\n",
            " |  \n",
            " |  add_loss(self, losses, inputs=None)\n",
            " |      Add loss tensor(s), potentially dependent on layer inputs.\n",
            " |      \n",
            " |      Some losses (for instance, activity regularization losses) may be dependent\n",
            " |      on the inputs passed when calling a layer. Hence, when reusing the same\n",
            " |      layer on different inputs `a` and `b`, some entries in `layer.losses` may\n",
            " |      be dependent on `a` and some on `b`. This method automatically keeps track\n",
            " |      of dependencies.\n",
            " |      \n",
            " |      This method can be used inside a subclassed layer or model's `call`\n",
            " |      function, in which case `losses` should be a Tensor or list of Tensors.\n",
            " |      \n",
            " |      Example:\n",
            " |      \n",
            " |      ```python\n",
            " |      class MyLayer(tf.keras.layers.Layer):\n",
            " |        def call(inputs, self):\n",
            " |          self.add_loss(tf.abs(tf.reduce_mean(inputs)), inputs=True)\n",
            " |          return inputs\n",
            " |      ```\n",
            " |      \n",
            " |      This method can also be called directly on a Functional Model during\n",
            " |      construction. In this case, any loss Tensors passed to this Model must\n",
            " |      be symbolic and be able to be traced back to the model's `Input`s. These\n",
            " |      losses become part of the model's topology and are tracked in `get_config`.\n",
            " |      \n",
            " |      Example:\n",
            " |      \n",
            " |      ```python\n",
            " |      inputs = tf.keras.Input(shape=(10,))\n",
            " |      x = tf.keras.layers.Dense(10)(inputs)\n",
            " |      outputs = tf.keras.layers.Dense(1)(x)\n",
            " |      model = tf.keras.Model(inputs, outputs)\n",
            " |      # Activity regularization.\n",
            " |      model.add_loss(tf.abs(tf.reduce_mean(x)))\n",
            " |      ```\n",
            " |      \n",
            " |      If this is not the case for your loss (if, for example, your loss references\n",
            " |      a `Variable` of one of the model's layers), you can wrap your loss in a\n",
            " |      zero-argument lambda. These losses are not tracked as part of the model's\n",
            " |      topology since they can't be serialized.\n",
            " |      \n",
            " |      Example:\n",
            " |      \n",
            " |      ```python\n",
            " |      inputs = tf.keras.Input(shape=(10,))\n",
            " |      x = tf.keras.layers.Dense(10)(inputs)\n",
            " |      outputs = tf.keras.layers.Dense(1)(x)\n",
            " |      model = tf.keras.Model(inputs, outputs)\n",
            " |      # Weight regularization.\n",
            " |      model.add_loss(lambda: tf.reduce_mean(x.kernel))\n",
            " |      ```\n",
            " |      \n",
            " |      The `get_losses_for` method allows to retrieve the losses relevant to a\n",
            " |      specific set of inputs.\n",
            " |      \n",
            " |      Arguments:\n",
            " |        losses: Loss tensor, or list/tuple of tensors. Rather than tensors, losses\n",
            " |          may also be zero-argument callables which create a loss tensor.\n",
            " |        inputs: Ignored when executing eagerly. If anything other than None is\n",
            " |          passed, it signals the losses are conditional on some of the layer's\n",
            " |          inputs, and thus they should only be run where these inputs are\n",
            " |          available. This is the case for activity regularization losses, for\n",
            " |          instance. If `None` is passed, the losses are assumed\n",
            " |          to be unconditional, and will apply across all dataflows of the layer\n",
            " |          (e.g. weight regularization losses).\n",
            " |  \n",
            " |  add_metric(self, value, aggregation=None, name=None)\n",
            " |      Adds metric tensor to the layer.\n",
            " |      \n",
            " |      Args:\n",
            " |        value: Metric tensor.\n",
            " |        aggregation: Sample-wise metric reduction function. If `aggregation=None`,\n",
            " |          it indicates that the metric tensor provided has been aggregated\n",
            " |          already. eg, `bin_acc = BinaryAccuracy(name='acc')` followed by\n",
            " |          `model.add_metric(bin_acc(y_true, y_pred))`. If aggregation='mean', the\n",
            " |          given metric tensor will be sample-wise reduced using `mean` function.\n",
            " |          eg, `model.add_metric(tf.reduce_sum(outputs), name='output_mean',\n",
            " |          aggregation='mean')`.\n",
            " |        name: String metric name.\n",
            " |      \n",
            " |      Raises:\n",
            " |        ValueError: If `aggregation` is anything other than None or `mean`.\n",
            " |  \n",
            " |  add_update(self, updates, inputs=None)\n",
            " |      Add update op(s), potentially dependent on layer inputs. (deprecated arguments)\n",
            " |      \n",
            " |      Warning: SOME ARGUMENTS ARE DEPRECATED: `(inputs)`. They will be removed in a future version.\n",
            " |      Instructions for updating:\n",
            " |      `inputs` is now automatically inferred\n",
            " |      \n",
            " |      Weight updates (for instance, the updates of the moving mean and variance\n",
            " |      in a BatchNormalization layer) may be dependent on the inputs passed\n",
            " |      when calling a layer. Hence, when reusing the same layer on\n",
            " |      different inputs `a` and `b`, some entries in `layer.updates` may be\n",
            " |      dependent on `a` and some on `b`. This method automatically keeps track\n",
            " |      of dependencies.\n",
            " |      \n",
            " |      The `get_updates_for` method allows to retrieve the updates relevant to a\n",
            " |      specific set of inputs.\n",
            " |      \n",
            " |      This call is ignored when eager execution is enabled (in that case, variable\n",
            " |      updates are run on the fly and thus do not need to be tracked for later\n",
            " |      execution).\n",
            " |      \n",
            " |      Arguments:\n",
            " |        updates: Update op, or list/tuple of update ops, or zero-arg callable\n",
            " |          that returns an update op. A zero-arg callable should be passed in\n",
            " |          order to disable running the updates by setting `trainable=False`\n",
            " |          on this Layer, when executing in Eager mode.\n",
            " |        inputs: Deprecated, will be automatically inferred.\n",
            " |  \n",
            " |  add_variable(self, *args, **kwargs)\n",
            " |      Deprecated, do NOT use! Alias for `add_weight`. (deprecated)\n",
            " |      \n",
            " |      Warning: THIS FUNCTION IS DEPRECATED. It will be removed in a future version.\n",
            " |      Instructions for updating:\n",
            " |      Please use `layer.add_weight` method instead.\n",
            " |  \n",
            " |  add_weight(self, name=None, shape=None, dtype=None, initializer=None, regularizer=None, trainable=None, constraint=None, partitioner=None, use_resource=None, synchronization=<VariableSynchronization.AUTO: 0>, aggregation=<VariableAggregation.NONE: 0>, **kwargs)\n",
            " |      Adds a new variable to the layer.\n",
            " |      \n",
            " |      Arguments:\n",
            " |        name: Variable name.\n",
            " |        shape: Variable shape. Defaults to scalar if unspecified.\n",
            " |        dtype: The type of the variable. Defaults to `self.dtype` or `float32`.\n",
            " |        initializer: Initializer instance (callable).\n",
            " |        regularizer: Regularizer instance (callable).\n",
            " |        trainable: Boolean, whether the variable should be part of the layer's\n",
            " |          \"trainable_variables\" (e.g. variables, biases)\n",
            " |          or \"non_trainable_variables\" (e.g. BatchNorm mean and variance).\n",
            " |          Note that `trainable` cannot be `True` if `synchronization`\n",
            " |          is set to `ON_READ`.\n",
            " |        constraint: Constraint instance (callable).\n",
            " |        partitioner: Partitioner to be passed to the `Trackable` API.\n",
            " |        use_resource: Whether to use `ResourceVariable`.\n",
            " |        synchronization: Indicates when a distributed a variable will be\n",
            " |          aggregated. Accepted values are constants defined in the class\n",
            " |          `tf.VariableSynchronization`. By default the synchronization is set to\n",
            " |          `AUTO` and the current `DistributionStrategy` chooses\n",
            " |          when to synchronize. If `synchronization` is set to `ON_READ`,\n",
            " |          `trainable` must not be set to `True`.\n",
            " |        aggregation: Indicates how a distributed variable will be aggregated.\n",
            " |          Accepted values are constants defined in the class\n",
            " |          `tf.VariableAggregation`.\n",
            " |        **kwargs: Additional keyword arguments. Accepted values are `getter`,\n",
            " |          `collections`, `experimental_autocast` and `caching_device`.\n",
            " |      \n",
            " |      Returns:\n",
            " |        The created variable. Usually either a `Variable` or `ResourceVariable`\n",
            " |        instance. If `partitioner` is not `None`, a `PartitionedVariable`\n",
            " |        instance is returned.\n",
            " |      \n",
            " |      Raises:\n",
            " |        RuntimeError: If called with partitioned variable regularization and\n",
            " |          eager execution is enabled.\n",
            " |        ValueError: When giving unsupported dtype and no initializer or when\n",
            " |          trainable has been set to True with synchronization set as `ON_READ`.\n",
            " |  \n",
            " |  apply(self, inputs, *args, **kwargs)\n",
            " |      Deprecated, do NOT use! (deprecated)\n",
            " |      \n",
            " |      Warning: THIS FUNCTION IS DEPRECATED. It will be removed in a future version.\n",
            " |      Instructions for updating:\n",
            " |      Please use `layer.__call__` method instead.\n",
            " |      \n",
            " |      This is an alias of `self.__call__`.\n",
            " |      \n",
            " |      Arguments:\n",
            " |        inputs: Input tensor(s).\n",
            " |        *args: additional positional arguments to be passed to `self.call`.\n",
            " |        **kwargs: additional keyword arguments to be passed to `self.call`.\n",
            " |      \n",
            " |      Returns:\n",
            " |        Output tensor(s).\n",
            " |  \n",
            " |  compute_output_signature(self, input_signature)\n",
            " |      Compute the output tensor signature of the layer based on the inputs.\n",
            " |      \n",
            " |      Unlike a TensorShape object, a TensorSpec object contains both shape\n",
            " |      and dtype information for a tensor. This method allows layers to provide\n",
            " |      output dtype information if it is different from the input dtype.\n",
            " |      For any layer that doesn't implement this function,\n",
            " |      the framework will fall back to use `compute_output_shape`, and will\n",
            " |      assume that the output dtype matches the input dtype.\n",
            " |      \n",
            " |      Args:\n",
            " |        input_signature: Single TensorSpec or nested structure of TensorSpec\n",
            " |          objects, describing a candidate input for the layer.\n",
            " |      \n",
            " |      Returns:\n",
            " |        Single TensorSpec or nested structure of TensorSpec objects, describing\n",
            " |          how the layer would transform the provided input.\n",
            " |      \n",
            " |      Raises:\n",
            " |        TypeError: If input_signature contains a non-TensorSpec object.\n",
            " |  \n",
            " |  count_params(self)\n",
            " |      Count the total number of scalars composing the weights.\n",
            " |      \n",
            " |      Returns:\n",
            " |          An integer count.\n",
            " |      \n",
            " |      Raises:\n",
            " |          ValueError: if the layer isn't yet built\n",
            " |            (in which case its weights aren't yet defined).\n",
            " |  \n",
            " |  get_input_at(self, node_index)\n",
            " |      Retrieves the input tensor(s) of a layer at a given node.\n",
            " |      \n",
            " |      Arguments:\n",
            " |          node_index: Integer, index of the node\n",
            " |              from which to retrieve the attribute.\n",
            " |              E.g. `node_index=0` will correspond to the\n",
            " |              first time the layer was called.\n",
            " |      \n",
            " |      Returns:\n",
            " |          A tensor (or list of tensors if the layer has multiple inputs).\n",
            " |      \n",
            " |      Raises:\n",
            " |        RuntimeError: If called in Eager mode.\n",
            " |  \n",
            " |  get_input_mask_at(self, node_index)\n",
            " |      Retrieves the input mask tensor(s) of a layer at a given node.\n",
            " |      \n",
            " |      Arguments:\n",
            " |          node_index: Integer, index of the node\n",
            " |              from which to retrieve the attribute.\n",
            " |              E.g. `node_index=0` will correspond to the\n",
            " |              first time the layer was called.\n",
            " |      \n",
            " |      Returns:\n",
            " |          A mask tensor\n",
            " |          (or list of tensors if the layer has multiple inputs).\n",
            " |  \n",
            " |  get_input_shape_at(self, node_index)\n",
            " |      Retrieves the input shape(s) of a layer at a given node.\n",
            " |      \n",
            " |      Arguments:\n",
            " |          node_index: Integer, index of the node\n",
            " |              from which to retrieve the attribute.\n",
            " |              E.g. `node_index=0` will correspond to the\n",
            " |              first time the layer was called.\n",
            " |      \n",
            " |      Returns:\n",
            " |          A shape tuple\n",
            " |          (or list of shape tuples if the layer has multiple inputs).\n",
            " |      \n",
            " |      Raises:\n",
            " |        RuntimeError: If called in Eager mode.\n",
            " |  \n",
            " |  get_losses_for(self, inputs)\n",
            " |      Retrieves losses relevant to a specific set of inputs.\n",
            " |      \n",
            " |      Arguments:\n",
            " |        inputs: Input tensor or list/tuple of input tensors.\n",
            " |      \n",
            " |      Returns:\n",
            " |        List of loss tensors of the layer that depend on `inputs`.\n",
            " |  \n",
            " |  get_output_at(self, node_index)\n",
            " |      Retrieves the output tensor(s) of a layer at a given node.\n",
            " |      \n",
            " |      Arguments:\n",
            " |          node_index: Integer, index of the node\n",
            " |              from which to retrieve the attribute.\n",
            " |              E.g. `node_index=0` will correspond to the\n",
            " |              first time the layer was called.\n",
            " |      \n",
            " |      Returns:\n",
            " |          A tensor (or list of tensors if the layer has multiple outputs).\n",
            " |      \n",
            " |      Raises:\n",
            " |        RuntimeError: If called in Eager mode.\n",
            " |  \n",
            " |  get_output_mask_at(self, node_index)\n",
            " |      Retrieves the output mask tensor(s) of a layer at a given node.\n",
            " |      \n",
            " |      Arguments:\n",
            " |          node_index: Integer, index of the node\n",
            " |              from which to retrieve the attribute.\n",
            " |              E.g. `node_index=0` will correspond to the\n",
            " |              first time the layer was called.\n",
            " |      \n",
            " |      Returns:\n",
            " |          A mask tensor\n",
            " |          (or list of tensors if the layer has multiple outputs).\n",
            " |  \n",
            " |  get_output_shape_at(self, node_index)\n",
            " |      Retrieves the output shape(s) of a layer at a given node.\n",
            " |      \n",
            " |      Arguments:\n",
            " |          node_index: Integer, index of the node\n",
            " |              from which to retrieve the attribute.\n",
            " |              E.g. `node_index=0` will correspond to the\n",
            " |              first time the layer was called.\n",
            " |      \n",
            " |      Returns:\n",
            " |          A shape tuple\n",
            " |          (or list of shape tuples if the layer has multiple outputs).\n",
            " |      \n",
            " |      Raises:\n",
            " |        RuntimeError: If called in Eager mode.\n",
            " |  \n",
            " |  get_updates_for(self, inputs)\n",
            " |      Retrieves updates relevant to a specific set of inputs.\n",
            " |      \n",
            " |      Arguments:\n",
            " |        inputs: Input tensor or list/tuple of input tensors.\n",
            " |      \n",
            " |      Returns:\n",
            " |        List of update ops of the layer that depend on `inputs`.\n",
            " |  \n",
            " |  set_weights(self, weights)\n",
            " |      Sets the weights of the layer, from Numpy arrays.\n",
            " |      \n",
            " |      The weights of a layer represent the state of the layer. This function\n",
            " |      sets the weight values from numpy arrays. The weight values should be\n",
            " |      passed in the order they are created by the layer. Note that the layer's\n",
            " |      weights must be instantiated before calling this function by calling\n",
            " |      the layer.\n",
            " |      \n",
            " |      For example, a Dense layer returns a list of two values-- per-output\n",
            " |      weights and the bias value. These can be used to set the weights of another\n",
            " |      Dense layer:\n",
            " |      \n",
            " |      >>> a = tf.keras.layers.Dense(1,\n",
            " |      ...   kernel_initializer=tf.constant_initializer(1.))\n",
            " |      >>> a_out = a(tf.convert_to_tensor([[1., 2., 3.]]))\n",
            " |      >>> a.get_weights()\n",
            " |      [array([[1.],\n",
            " |             [1.],\n",
            " |             [1.]], dtype=float32), array([0.], dtype=float32)]\n",
            " |      >>> b = tf.keras.layers.Dense(1,\n",
            " |      ...   kernel_initializer=tf.constant_initializer(2.))\n",
            " |      >>> b_out = b(tf.convert_to_tensor([[10., 20., 30.]]))\n",
            " |      >>> b.get_weights()\n",
            " |      [array([[2.],\n",
            " |             [2.],\n",
            " |             [2.]], dtype=float32), array([0.], dtype=float32)]\n",
            " |      >>> b.set_weights(a.get_weights())\n",
            " |      >>> b.get_weights()\n",
            " |      [array([[1.],\n",
            " |             [1.],\n",
            " |             [1.]], dtype=float32), array([0.], dtype=float32)]\n",
            " |      \n",
            " |      Arguments:\n",
            " |          weights: a list of Numpy arrays. The number\n",
            " |              of arrays and their shape must match\n",
            " |              number of the dimensions of the weights\n",
            " |              of the layer (i.e. it should match the\n",
            " |              output of `get_weights`).\n",
            " |      \n",
            " |      Raises:\n",
            " |          ValueError: If the provided weights list does not match the\n",
            " |              layer's specifications.\n",
            " |  \n",
            " |  ----------------------------------------------------------------------\n",
            " |  Data descriptors inherited from tensorflow.python.keras.engine.base_layer.Layer:\n",
            " |  \n",
            " |  activity_regularizer\n",
            " |      Optional regularizer function for the output of this layer.\n",
            " |  \n",
            " |  dtype\n",
            " |      Dtype used by the weights of the layer, set in the constructor.\n",
            " |  \n",
            " |  inbound_nodes\n",
            " |      Deprecated, do NOT use! Only for compatibility with external Keras.\n",
            " |  \n",
            " |  input\n",
            " |      Retrieves the input tensor(s) of a layer.\n",
            " |      \n",
            " |      Only applicable if the layer has exactly one input,\n",
            " |      i.e. if it is connected to one incoming layer.\n",
            " |      \n",
            " |      Returns:\n",
            " |          Input tensor or list of input tensors.\n",
            " |      \n",
            " |      Raises:\n",
            " |        RuntimeError: If called in Eager mode.\n",
            " |        AttributeError: If no inbound nodes are found.\n",
            " |  \n",
            " |  input_mask\n",
            " |      Retrieves the input mask tensor(s) of a layer.\n",
            " |      \n",
            " |      Only applicable if the layer has exactly one inbound node,\n",
            " |      i.e. if it is connected to one incoming layer.\n",
            " |      \n",
            " |      Returns:\n",
            " |          Input mask tensor (potentially None) or list of input\n",
            " |          mask tensors.\n",
            " |      \n",
            " |      Raises:\n",
            " |          AttributeError: if the layer is connected to\n",
            " |          more than one incoming layers.\n",
            " |  \n",
            " |  input_shape\n",
            " |      Retrieves the input shape(s) of a layer.\n",
            " |      \n",
            " |      Only applicable if the layer has exactly one input,\n",
            " |      i.e. if it is connected to one incoming layer, or if all inputs\n",
            " |      have the same shape.\n",
            " |      \n",
            " |      Returns:\n",
            " |          Input shape, as an integer shape tuple\n",
            " |          (or list of shape tuples, one tuple per input tensor).\n",
            " |      \n",
            " |      Raises:\n",
            " |          AttributeError: if the layer has no defined input_shape.\n",
            " |          RuntimeError: if called in Eager mode.\n",
            " |  \n",
            " |  losses\n",
            " |      Losses which are associated with this `Layer`.\n",
            " |      \n",
            " |      Variable regularization tensors are created when this property is accessed,\n",
            " |      so it is eager safe: accessing `losses` under a `tf.GradientTape` will\n",
            " |      propagate gradients back to the corresponding variables.\n",
            " |      \n",
            " |      Returns:\n",
            " |        A list of tensors.\n",
            " |  \n",
            " |  name\n",
            " |      Name of the layer (string), set in the constructor.\n",
            " |  \n",
            " |  non_trainable_variables\n",
            " |  \n",
            " |  outbound_nodes\n",
            " |      Deprecated, do NOT use! Only for compatibility with external Keras.\n",
            " |  \n",
            " |  output\n",
            " |      Retrieves the output tensor(s) of a layer.\n",
            " |      \n",
            " |      Only applicable if the layer has exactly one output,\n",
            " |      i.e. if it is connected to one incoming layer.\n",
            " |      \n",
            " |      Returns:\n",
            " |        Output tensor or list of output tensors.\n",
            " |      \n",
            " |      Raises:\n",
            " |        AttributeError: if the layer is connected to more than one incoming\n",
            " |          layers.\n",
            " |        RuntimeError: if called in Eager mode.\n",
            " |  \n",
            " |  output_mask\n",
            " |      Retrieves the output mask tensor(s) of a layer.\n",
            " |      \n",
            " |      Only applicable if the layer has exactly one inbound node,\n",
            " |      i.e. if it is connected to one incoming layer.\n",
            " |      \n",
            " |      Returns:\n",
            " |          Output mask tensor (potentially None) or list of output\n",
            " |          mask tensors.\n",
            " |      \n",
            " |      Raises:\n",
            " |          AttributeError: if the layer is connected to\n",
            " |          more than one incoming layers.\n",
            " |  \n",
            " |  output_shape\n",
            " |      Retrieves the output shape(s) of a layer.\n",
            " |      \n",
            " |      Only applicable if the layer has one output,\n",
            " |      or if all outputs have the same shape.\n",
            " |      \n",
            " |      Returns:\n",
            " |          Output shape, as an integer shape tuple\n",
            " |          (or list of shape tuples, one tuple per output tensor).\n",
            " |      \n",
            " |      Raises:\n",
            " |          AttributeError: if the layer has no defined output shape.\n",
            " |          RuntimeError: if called in Eager mode.\n",
            " |  \n",
            " |  trainable\n",
            " |  \n",
            " |  trainable_variables\n",
            " |      Sequence of trainable variables owned by this module and its submodules.\n",
            " |      \n",
            " |      Note: this method uses reflection to find variables on the current instance\n",
            " |      and submodules. For performance reasons you may wish to cache the result\n",
            " |      of calling this method if you don't expect the return value to change.\n",
            " |      \n",
            " |      Returns:\n",
            " |        A sequence of variables for the current module (sorted by attribute\n",
            " |        name) followed by variables from all submodules recursively (breadth\n",
            " |        first).\n",
            " |  \n",
            " |  updates\n",
            " |  \n",
            " |  variables\n",
            " |      Returns the list of all layer variables/weights.\n",
            " |      \n",
            " |      Alias of `self.weights`.\n",
            " |      \n",
            " |      Returns:\n",
            " |        A list of variables.\n",
            " |  \n",
            " |  ----------------------------------------------------------------------\n",
            " |  Class methods inherited from tensorflow.python.module.module.Module:\n",
            " |  \n",
            " |  with_name_scope(method) from builtins.type\n",
            " |      Decorator to automatically enter the module name scope.\n",
            " |      \n",
            " |      >>> class MyModule(tf.Module):\n",
            " |      ...   @tf.Module.with_name_scope\n",
            " |      ...   def __call__(self, x):\n",
            " |      ...     if not hasattr(self, 'w'):\n",
            " |      ...       self.w = tf.Variable(tf.random.normal([x.shape[1], 3]))\n",
            " |      ...     return tf.matmul(x, self.w)\n",
            " |      \n",
            " |      Using the above module would produce `tf.Variable`s and `tf.Tensor`s whose\n",
            " |      names included the module name:\n",
            " |      \n",
            " |      >>> mod = MyModule()\n",
            " |      >>> mod(tf.ones([1, 2]))\n",
            " |      <tf.Tensor: shape=(1, 3), dtype=float32, numpy=..., dtype=float32)>\n",
            " |      >>> mod.w\n",
            " |      <tf.Variable 'my_module/Variable:0' shape=(2, 3) dtype=float32,\n",
            " |      numpy=..., dtype=float32)>\n",
            " |      \n",
            " |      Args:\n",
            " |        method: The method to wrap.\n",
            " |      \n",
            " |      Returns:\n",
            " |        The original method wrapped such that it enters the module's name scope.\n",
            " |  \n",
            " |  ----------------------------------------------------------------------\n",
            " |  Data descriptors inherited from tensorflow.python.module.module.Module:\n",
            " |  \n",
            " |  name_scope\n",
            " |      Returns a `tf.name_scope` instance for this class.\n",
            " |  \n",
            " |  submodules\n",
            " |      Sequence of all sub-modules.\n",
            " |      \n",
            " |      Submodules are modules which are properties of this module, or found as\n",
            " |      properties of modules which are properties of this module (and so on).\n",
            " |      \n",
            " |      >>> a = tf.Module()\n",
            " |      >>> b = tf.Module()\n",
            " |      >>> c = tf.Module()\n",
            " |      >>> a.b = b\n",
            " |      >>> b.c = c\n",
            " |      >>> list(a.submodules) == [b, c]\n",
            " |      True\n",
            " |      >>> list(b.submodules) == [c]\n",
            " |      True\n",
            " |      >>> list(c.submodules) == []\n",
            " |      True\n",
            " |      \n",
            " |      Returns:\n",
            " |        A sequence of all submodules.\n",
            " |  \n",
            " |  ----------------------------------------------------------------------\n",
            " |  Data descriptors inherited from tensorflow.python.training.tracking.base.Trackable:\n",
            " |  \n",
            " |  __dict__\n",
            " |      dictionary for instance variables (if defined)\n",
            " |  \n",
            " |  __weakref__\n",
            " |      list of weak references to the object (if defined)\n",
            " |  \n",
            " |  ----------------------------------------------------------------------\n",
            " |  Static methods inherited from tensorflow.python.keras.utils.version_utils.LayerVersionSelector:\n",
            " |  \n",
            " |  __new__(cls, *args, **kwargs)\n",
            " |      Create and return a new object.  See help(type) for accurate signature.\n",
            "\n"
          ],
          "name": "stdout"
        }
      ]
    },
    {
      "cell_type": "markdown",
      "metadata": {
        "id": "u6pOjtAiJ2Kd",
        "colab_type": "text"
      },
      "source": [
        "## Creating a Model\n",
        "\n",
        "There are two ways to create models through the TF 2 Keras API, either pass in a list of layers all at once, or add them one by one.\n",
        "\n",
        "Let's show both methods (its up to you to choose which method you prefer)."
      ]
    },
    {
      "cell_type": "code",
      "metadata": {
        "id": "HuQ9BcRTJ2Kd",
        "colab_type": "code",
        "colab": {}
      },
      "source": [
        "from tensorflow.keras.models import Sequential\n",
        "from tensorflow.keras.layers import Dense, Activation"
      ],
      "execution_count": 0,
      "outputs": []
    },
    {
      "cell_type": "markdown",
      "metadata": {
        "id": "_EeKNCPzJ2Ke",
        "colab_type": "text"
      },
      "source": [
        "### Model - as a list of layers"
      ]
    },
    {
      "cell_type": "code",
      "metadata": {
        "id": "LWhPJOMPJ2Kf",
        "colab_type": "code",
        "colab": {}
      },
      "source": [
        "model = Sequential([\n",
        "    Dense(units=4, activation='relu'),\n",
        "    Dense(units=2, activation = 'relu'),\n",
        "    Dense(units=1)\n",
        "])"
      ],
      "execution_count": 0,
      "outputs": []
    },
    {
      "cell_type": "code",
      "metadata": {
        "id": "iyS5YXs0bWkb",
        "colab_type": "code",
        "colab": {}
      },
      "source": [
        "# units = number of neurons per layer\n",
        "# activation = string col sigmoid/.."
      ],
      "execution_count": 0,
      "outputs": []
    },
    {
      "cell_type": "markdown",
      "metadata": {
        "id": "FWwWLksFJ2Kg",
        "colab_type": "text"
      },
      "source": [
        "### Model - adding in layers one by one"
      ]
    },
    {
      "cell_type": "markdown",
      "metadata": {
        "id": "zIEsqtcuJ2Ki",
        "colab_type": "text"
      },
      "source": [
        "Let's go ahead and build a simple model and then compile it by defining our solver"
      ]
    },
    {
      "cell_type": "code",
      "metadata": {
        "id": "l5ofvKwNJ2Ki",
        "colab_type": "code",
        "colab": {}
      },
      "source": [
        "model = Sequential()\n",
        "\n",
        "model.add(Dense(4,activation='relu'))\n",
        "model.add(Dense(4,activation='relu'))\n",
        "model.add(Dense(4,activation='relu'))\n",
        "\n",
        "# Final output node for prediction\n",
        "# last layer a single neuron: predicting the price, then compared qith the true price\n",
        "model.add(Dense(1))\n",
        "\n",
        "model.compile(optimizer='rmsprop',loss='mse')\n",
        "\n",
        "# optimizer = example ADAM\n",
        "# loss = string that change based on the objective\n",
        "# for multi-class classification problem\n",
        "# model.compile(  optimizer='rmsprop',\n",
        "#                 loss = 'categorical_crossentropy',\n",
        "#                 metrics = ['accuracy'])\n",
        "\n",
        "# for binary classification problem\n",
        "# model.compile(  optimizer='rmsprop',\n",
        "#                 loss = 'binary_crossentropy',\n",
        "#                 metrics = ['accuracy'])\n",
        "\n",
        "# for mean-squared error regression problem\n",
        "# model.compile(  optimizer='rmsprop',\n",
        "#                 loss = 'mse')"
      ],
      "execution_count": 0,
      "outputs": []
    },
    {
      "cell_type": "markdown",
      "metadata": {
        "id": "QntkIstkJ2Kj",
        "colab_type": "text"
      },
      "source": [
        "### Choosing an optimizer and loss\n",
        "\n",
        "Keep in mind what kind of problem you are trying to solve:\n",
        "\n",
        "    # For a multi-class classification problem\n",
        "    model.compile(optimizer='rmsprop',\n",
        "                  loss='categorical_crossentropy',\n",
        "                  metrics=['accuracy'])\n",
        "\n",
        "    # For a binary classification problem\n",
        "    model.compile(optimizer='rmsprop',\n",
        "                  loss='binary_crossentropy',\n",
        "                  metrics=['accuracy'])\n",
        "\n",
        "    # For a mean squared error regression problem\n",
        "    model.compile(optimizer='rmsprop',\n",
        "                  loss='mse')"
      ]
    },
    {
      "cell_type": "markdown",
      "metadata": {
        "id": "Fk7V4w5AJ2Kj",
        "colab_type": "text"
      },
      "source": [
        "# Training\n",
        "\n",
        "Below are some common definitions that are necessary to know and understand to correctly utilize Keras:\n",
        "\n",
        "* Sample: one element of a dataset.\n",
        "    * Example: one image is a sample in a convolutional network\n",
        "    * Example: one audio file is a sample for a speech recognition model\n",
        "* Batch: a set of N samples. The samples in a batch are processed independently, in parallel. If training, a batch results in only one update to the model.A batch generally approximates the distribution of the input data better than a single input. The larger the batch, the better the approximation; however, it is also true that the batch will take longer to process and will still result in only one update. For inference (evaluate/predict), it is recommended to pick a batch size that is as large as you can afford without going out of memory (since larger batches will usually result in faster evaluation/prediction).\n",
        "* Epoch: an arbitrary cutoff, generally defined as \"one pass over the entire dataset\", used to separate training into distinct phases, which is useful for logging and periodic evaluation.\n",
        "* When using validation_data or validation_split with the fit method of Keras models, evaluation will be run at the end of every epoch.\n",
        "* Within Keras, there is the ability to add callbacks specifically designed to be run at the end of an epoch. Examples of these are learning rate changes and model checkpointing (saving)."
      ]
    },
    {
      "cell_type": "code",
      "metadata": {
        "id": "kllf_AhrJ2Kk",
        "colab_type": "code",
        "outputId": "093a3aa2-3c47-42ac-9633-2586d6ec07da",
        "colab": {
          "base_uri": "https://localhost:8080/",
          "height": 1000
        }
      },
      "source": [
        "model.fit(X_train,y_train,epochs=250)\n",
        "# epochs = 1 : we go trough the entire dataset one time\n",
        "# epochs = 250 : model goes 250 times through data\n",
        "# we can add EARLY STOPPING optimzed on some validation test\n",
        "# callbacks\n",
        "# verbose = higher number of details about the runnig script\n",
        "# mse very high at the begining"
      ],
      "execution_count": 0,
      "outputs": [
        {
          "output_type": "stream",
          "text": [
            "Epoch 1/250\n",
            "22/22 [==============================] - 0s 1ms/step - loss: 256476.2969\n",
            "Epoch 2/250\n",
            "22/22 [==============================] - 0s 1ms/step - loss: 256365.0312\n",
            "Epoch 3/250\n",
            "22/22 [==============================] - 0s 1ms/step - loss: 256241.0938\n",
            "Epoch 4/250\n",
            "22/22 [==============================] - 0s 1ms/step - loss: 256092.0156\n",
            "Epoch 5/250\n",
            "22/22 [==============================] - 0s 1ms/step - loss: 255920.1875\n",
            "Epoch 6/250\n",
            "22/22 [==============================] - 0s 1ms/step - loss: 255723.4531\n",
            "Epoch 7/250\n",
            "22/22 [==============================] - 0s 1ms/step - loss: 255499.8906\n",
            "Epoch 8/250\n",
            "22/22 [==============================] - 0s 1ms/step - loss: 255247.1562\n",
            "Epoch 9/250\n",
            "22/22 [==============================] - 0s 1ms/step - loss: 254963.7656\n",
            "Epoch 10/250\n",
            "22/22 [==============================] - 0s 1ms/step - loss: 254644.8438\n",
            "Epoch 11/250\n",
            "22/22 [==============================] - 0s 1ms/step - loss: 254292.2500\n",
            "Epoch 12/250\n",
            "22/22 [==============================] - 0s 1ms/step - loss: 253899.7031\n",
            "Epoch 13/250\n",
            "22/22 [==============================] - 0s 1ms/step - loss: 253466.3125\n",
            "Epoch 14/250\n",
            "22/22 [==============================] - 0s 1ms/step - loss: 252986.1719\n",
            "Epoch 15/250\n",
            "22/22 [==============================] - 0s 1ms/step - loss: 252459.3594\n",
            "Epoch 16/250\n",
            "22/22 [==============================] - 0s 1ms/step - loss: 251878.4219\n",
            "Epoch 17/250\n",
            "22/22 [==============================] - 0s 2ms/step - loss: 251247.0156\n",
            "Epoch 18/250\n",
            "22/22 [==============================] - 0s 1ms/step - loss: 250561.2188\n",
            "Epoch 19/250\n",
            "22/22 [==============================] - 0s 1ms/step - loss: 249814.3281\n",
            "Epoch 20/250\n",
            "22/22 [==============================] - 0s 1ms/step - loss: 248999.9375\n",
            "Epoch 21/250\n",
            "22/22 [==============================] - 0s 2ms/step - loss: 248121.6719\n",
            "Epoch 22/250\n",
            "22/22 [==============================] - 0s 1ms/step - loss: 247179.2656\n",
            "Epoch 23/250\n",
            "22/22 [==============================] - 0s 1ms/step - loss: 246163.0469\n",
            "Epoch 24/250\n",
            "22/22 [==============================] - 0s 1ms/step - loss: 245071.4219\n",
            "Epoch 25/250\n",
            "22/22 [==============================] - 0s 1ms/step - loss: 243895.0625\n",
            "Epoch 26/250\n",
            "22/22 [==============================] - 0s 1ms/step - loss: 242633.7188\n",
            "Epoch 27/250\n",
            "22/22 [==============================] - 0s 1ms/step - loss: 241294.5156\n",
            "Epoch 28/250\n",
            "22/22 [==============================] - 0s 1ms/step - loss: 239869.0469\n",
            "Epoch 29/250\n",
            "22/22 [==============================] - 0s 2ms/step - loss: 238348.2969\n",
            "Epoch 30/250\n",
            "22/22 [==============================] - 0s 1ms/step - loss: 236731.3438\n",
            "Epoch 31/250\n",
            "22/22 [==============================] - 0s 1ms/step - loss: 235013.4844\n",
            "Epoch 32/250\n",
            "22/22 [==============================] - 0s 1ms/step - loss: 233186.6562\n",
            "Epoch 33/250\n",
            "22/22 [==============================] - 0s 1ms/step - loss: 231265.6406\n",
            "Epoch 34/250\n",
            "22/22 [==============================] - 0s 1ms/step - loss: 229232.7969\n",
            "Epoch 35/250\n",
            "22/22 [==============================] - 0s 1ms/step - loss: 227089.0469\n",
            "Epoch 36/250\n",
            "22/22 [==============================] - 0s 1ms/step - loss: 224842.8750\n",
            "Epoch 37/250\n",
            "22/22 [==============================] - 0s 1ms/step - loss: 222464.0469\n",
            "Epoch 38/250\n",
            "22/22 [==============================] - 0s 1ms/step - loss: 219961.4375\n",
            "Epoch 39/250\n",
            "22/22 [==============================] - 0s 1ms/step - loss: 217353.5312\n",
            "Epoch 40/250\n",
            "22/22 [==============================] - 0s 1ms/step - loss: 214607.5000\n",
            "Epoch 41/250\n",
            "22/22 [==============================] - 0s 1ms/step - loss: 211733.1875\n",
            "Epoch 42/250\n",
            "22/22 [==============================] - 0s 1ms/step - loss: 208745.5781\n",
            "Epoch 43/250\n",
            "22/22 [==============================] - 0s 1ms/step - loss: 205618.3750\n",
            "Epoch 44/250\n",
            "22/22 [==============================] - 0s 1ms/step - loss: 202371.7656\n",
            "Epoch 45/250\n",
            "22/22 [==============================] - 0s 1ms/step - loss: 198964.6875\n",
            "Epoch 46/250\n",
            "22/22 [==============================] - 0s 1ms/step - loss: 195441.1406\n",
            "Epoch 47/250\n",
            "22/22 [==============================] - 0s 1ms/step - loss: 191786.5312\n",
            "Epoch 48/250\n",
            "22/22 [==============================] - 0s 1ms/step - loss: 187979.0469\n",
            "Epoch 49/250\n",
            "22/22 [==============================] - 0s 1ms/step - loss: 184046.7656\n",
            "Epoch 50/250\n",
            "22/22 [==============================] - 0s 1ms/step - loss: 180002.5000\n",
            "Epoch 51/250\n",
            "22/22 [==============================] - 0s 1ms/step - loss: 175789.5938\n",
            "Epoch 52/250\n",
            "22/22 [==============================] - 0s 1ms/step - loss: 171453.0469\n",
            "Epoch 53/250\n",
            "22/22 [==============================] - 0s 1ms/step - loss: 166996.9375\n",
            "Epoch 54/250\n",
            "22/22 [==============================] - 0s 1ms/step - loss: 162455.3906\n",
            "Epoch 55/250\n",
            "22/22 [==============================] - 0s 1ms/step - loss: 157724.7812\n",
            "Epoch 56/250\n",
            "22/22 [==============================] - 0s 1ms/step - loss: 152885.6406\n",
            "Epoch 57/250\n",
            "22/22 [==============================] - 0s 1ms/step - loss: 147942.3281\n",
            "Epoch 58/250\n",
            "22/22 [==============================] - 0s 1ms/step - loss: 142875.8125\n",
            "Epoch 59/250\n",
            "22/22 [==============================] - 0s 2ms/step - loss: 137715.9844\n",
            "Epoch 60/250\n",
            "22/22 [==============================] - 0s 1ms/step - loss: 132454.4062\n",
            "Epoch 61/250\n",
            "22/22 [==============================] - 0s 1ms/step - loss: 127088.8125\n",
            "Epoch 62/250\n",
            "22/22 [==============================] - 0s 1ms/step - loss: 121648.9219\n",
            "Epoch 63/250\n",
            "22/22 [==============================] - 0s 1ms/step - loss: 116144.2656\n",
            "Epoch 64/250\n",
            "22/22 [==============================] - 0s 1ms/step - loss: 110540.1250\n",
            "Epoch 65/250\n",
            "22/22 [==============================] - 0s 1ms/step - loss: 104921.2109\n",
            "Epoch 66/250\n",
            "22/22 [==============================] - 0s 1ms/step - loss: 99260.0469\n",
            "Epoch 67/250\n",
            "22/22 [==============================] - 0s 1ms/step - loss: 93562.5938\n",
            "Epoch 68/250\n",
            "22/22 [==============================] - 0s 1ms/step - loss: 87831.7266\n",
            "Epoch 69/250\n",
            "22/22 [==============================] - 0s 1ms/step - loss: 82083.8906\n",
            "Epoch 70/250\n",
            "22/22 [==============================] - 0s 1ms/step - loss: 76379.5703\n",
            "Epoch 71/250\n",
            "22/22 [==============================] - 0s 1ms/step - loss: 70699.7031\n",
            "Epoch 72/250\n",
            "22/22 [==============================] - 0s 1ms/step - loss: 65065.4414\n",
            "Epoch 73/250\n",
            "22/22 [==============================] - 0s 1ms/step - loss: 59493.9414\n",
            "Epoch 74/250\n",
            "22/22 [==============================] - 0s 1ms/step - loss: 54028.7188\n",
            "Epoch 75/250\n",
            "22/22 [==============================] - 0s 1ms/step - loss: 48673.0352\n",
            "Epoch 76/250\n",
            "22/22 [==============================] - 0s 1ms/step - loss: 43506.0742\n",
            "Epoch 77/250\n",
            "22/22 [==============================] - 0s 1ms/step - loss: 38434.5312\n",
            "Epoch 78/250\n",
            "22/22 [==============================] - 0s 1ms/step - loss: 33574.1953\n",
            "Epoch 79/250\n",
            "22/22 [==============================] - 0s 1ms/step - loss: 28949.4121\n",
            "Epoch 80/250\n",
            "22/22 [==============================] - 0s 1ms/step - loss: 24559.9375\n",
            "Epoch 81/250\n",
            "22/22 [==============================] - 0s 1ms/step - loss: 20488.4551\n",
            "Epoch 82/250\n",
            "22/22 [==============================] - 0s 1ms/step - loss: 16721.6309\n",
            "Epoch 83/250\n",
            "22/22 [==============================] - 0s 1ms/step - loss: 13293.9961\n",
            "Epoch 84/250\n",
            "22/22 [==============================] - 0s 1ms/step - loss: 10254.9492\n",
            "Epoch 85/250\n",
            "22/22 [==============================] - 0s 1ms/step - loss: 7639.5664\n",
            "Epoch 86/250\n",
            "22/22 [==============================] - 0s 1ms/step - loss: 5494.9868\n",
            "Epoch 87/250\n",
            "22/22 [==============================] - 0s 1ms/step - loss: 3815.2800\n",
            "Epoch 88/250\n",
            "22/22 [==============================] - 0s 1ms/step - loss: 2633.3811\n",
            "Epoch 89/250\n",
            "22/22 [==============================] - 0s 1ms/step - loss: 1935.5922\n",
            "Epoch 90/250\n",
            "22/22 [==============================] - 0s 1ms/step - loss: 1645.7233\n",
            "Epoch 91/250\n",
            "22/22 [==============================] - 0s 1ms/step - loss: 1570.8831\n",
            "Epoch 92/250\n",
            "22/22 [==============================] - 0s 1ms/step - loss: 1541.7222\n",
            "Epoch 93/250\n",
            "22/22 [==============================] - 0s 1ms/step - loss: 1521.7816\n",
            "Epoch 94/250\n",
            "22/22 [==============================] - 0s 1ms/step - loss: 1492.8866\n",
            "Epoch 95/250\n",
            "22/22 [==============================] - 0s 1ms/step - loss: 1464.5680\n",
            "Epoch 96/250\n",
            "22/22 [==============================] - 0s 1ms/step - loss: 1436.5120\n",
            "Epoch 97/250\n",
            "22/22 [==============================] - 0s 1ms/step - loss: 1410.7161\n",
            "Epoch 98/250\n",
            "22/22 [==============================] - 0s 1ms/step - loss: 1382.0897\n",
            "Epoch 99/250\n",
            "22/22 [==============================] - 0s 1ms/step - loss: 1356.0201\n",
            "Epoch 100/250\n",
            "22/22 [==============================] - 0s 1ms/step - loss: 1333.8196\n",
            "Epoch 101/250\n",
            "22/22 [==============================] - 0s 1ms/step - loss: 1305.7952\n",
            "Epoch 102/250\n",
            "22/22 [==============================] - 0s 1ms/step - loss: 1279.1365\n",
            "Epoch 103/250\n",
            "22/22 [==============================] - 0s 1ms/step - loss: 1252.6407\n",
            "Epoch 104/250\n",
            "22/22 [==============================] - 0s 1ms/step - loss: 1227.3207\n",
            "Epoch 105/250\n",
            "22/22 [==============================] - 0s 1ms/step - loss: 1200.9270\n",
            "Epoch 106/250\n",
            "22/22 [==============================] - 0s 1ms/step - loss: 1178.9724\n",
            "Epoch 107/250\n",
            "22/22 [==============================] - 0s 1ms/step - loss: 1153.7997\n",
            "Epoch 108/250\n",
            "22/22 [==============================] - 0s 1ms/step - loss: 1130.6245\n",
            "Epoch 109/250\n",
            "22/22 [==============================] - 0s 1ms/step - loss: 1104.4141\n",
            "Epoch 110/250\n",
            "22/22 [==============================] - 0s 1ms/step - loss: 1080.5066\n",
            "Epoch 111/250\n",
            "22/22 [==============================] - 0s 1ms/step - loss: 1056.0630\n",
            "Epoch 112/250\n",
            "22/22 [==============================] - 0s 1ms/step - loss: 1032.0074\n",
            "Epoch 113/250\n",
            "22/22 [==============================] - 0s 1ms/step - loss: 1008.4509\n",
            "Epoch 114/250\n",
            "22/22 [==============================] - 0s 1ms/step - loss: 983.2710\n",
            "Epoch 115/250\n",
            "22/22 [==============================] - 0s 1ms/step - loss: 961.0804\n",
            "Epoch 116/250\n",
            "22/22 [==============================] - 0s 2ms/step - loss: 936.6716\n",
            "Epoch 117/250\n",
            "22/22 [==============================] - 0s 1ms/step - loss: 915.2451\n",
            "Epoch 118/250\n",
            "22/22 [==============================] - 0s 1ms/step - loss: 892.2902\n",
            "Epoch 119/250\n",
            "22/22 [==============================] - 0s 1ms/step - loss: 870.5698\n",
            "Epoch 120/250\n",
            "22/22 [==============================] - 0s 1ms/step - loss: 849.9100\n",
            "Epoch 121/250\n",
            "22/22 [==============================] - 0s 1ms/step - loss: 826.6098\n",
            "Epoch 122/250\n",
            "22/22 [==============================] - 0s 1ms/step - loss: 805.4211\n",
            "Epoch 123/250\n",
            "22/22 [==============================] - 0s 1ms/step - loss: 785.3981\n",
            "Epoch 124/250\n",
            "22/22 [==============================] - 0s 1ms/step - loss: 762.9423\n",
            "Epoch 125/250\n",
            "22/22 [==============================] - 0s 1ms/step - loss: 744.2211\n",
            "Epoch 126/250\n",
            "22/22 [==============================] - 0s 1ms/step - loss: 723.3151\n",
            "Epoch 127/250\n",
            "22/22 [==============================] - 0s 1ms/step - loss: 702.6788\n",
            "Epoch 128/250\n",
            "22/22 [==============================] - 0s 1ms/step - loss: 682.8408\n",
            "Epoch 129/250\n",
            "22/22 [==============================] - 0s 1ms/step - loss: 660.5968\n",
            "Epoch 130/250\n",
            "22/22 [==============================] - 0s 1ms/step - loss: 643.5262\n",
            "Epoch 131/250\n",
            "22/22 [==============================] - 0s 1ms/step - loss: 621.0785\n",
            "Epoch 132/250\n",
            "22/22 [==============================] - 0s 1ms/step - loss: 600.1390\n",
            "Epoch 133/250\n",
            "22/22 [==============================] - 0s 1ms/step - loss: 579.3382\n",
            "Epoch 134/250\n",
            "22/22 [==============================] - 0s 1ms/step - loss: 562.6347\n",
            "Epoch 135/250\n",
            "22/22 [==============================] - 0s 1ms/step - loss: 545.3181\n",
            "Epoch 136/250\n",
            "22/22 [==============================] - 0s 1ms/step - loss: 525.1668\n",
            "Epoch 137/250\n",
            "22/22 [==============================] - 0s 1ms/step - loss: 507.7065\n",
            "Epoch 138/250\n",
            "22/22 [==============================] - 0s 1ms/step - loss: 490.3333\n",
            "Epoch 139/250\n",
            "22/22 [==============================] - 0s 1ms/step - loss: 471.6389\n",
            "Epoch 140/250\n",
            "22/22 [==============================] - 0s 1ms/step - loss: 457.2591\n",
            "Epoch 141/250\n",
            "22/22 [==============================] - 0s 1ms/step - loss: 437.3199\n",
            "Epoch 142/250\n",
            "22/22 [==============================] - 0s 1ms/step - loss: 422.5002\n",
            "Epoch 143/250\n",
            "22/22 [==============================] - 0s 1ms/step - loss: 408.1268\n",
            "Epoch 144/250\n",
            "22/22 [==============================] - 0s 1ms/step - loss: 388.5771\n",
            "Epoch 145/250\n",
            "22/22 [==============================] - 0s 1ms/step - loss: 374.7110\n",
            "Epoch 146/250\n",
            "22/22 [==============================] - 0s 1ms/step - loss: 359.9746\n",
            "Epoch 147/250\n",
            "22/22 [==============================] - 0s 1ms/step - loss: 344.4530\n",
            "Epoch 148/250\n",
            "22/22 [==============================] - 0s 1ms/step - loss: 329.2806\n",
            "Epoch 149/250\n",
            "22/22 [==============================] - 0s 1ms/step - loss: 314.6974\n",
            "Epoch 150/250\n",
            "22/22 [==============================] - 0s 1ms/step - loss: 301.1185\n",
            "Epoch 151/250\n",
            "22/22 [==============================] - 0s 1ms/step - loss: 287.4129\n",
            "Epoch 152/250\n",
            "22/22 [==============================] - 0s 2ms/step - loss: 273.8887\n",
            "Epoch 153/250\n",
            "22/22 [==============================] - 0s 1ms/step - loss: 261.7113\n",
            "Epoch 154/250\n",
            "22/22 [==============================] - 0s 1ms/step - loss: 249.6542\n",
            "Epoch 155/250\n",
            "22/22 [==============================] - 0s 1ms/step - loss: 238.0395\n",
            "Epoch 156/250\n",
            "22/22 [==============================] - 0s 1ms/step - loss: 225.5504\n",
            "Epoch 157/250\n",
            "22/22 [==============================] - 0s 1ms/step - loss: 213.2365\n",
            "Epoch 158/250\n",
            "22/22 [==============================] - 0s 1ms/step - loss: 202.2266\n",
            "Epoch 159/250\n",
            "22/22 [==============================] - 0s 1ms/step - loss: 191.8657\n",
            "Epoch 160/250\n",
            "22/22 [==============================] - 0s 1ms/step - loss: 180.9742\n",
            "Epoch 161/250\n",
            "22/22 [==============================] - 0s 1ms/step - loss: 170.5734\n",
            "Epoch 162/250\n",
            "22/22 [==============================] - 0s 1ms/step - loss: 161.2958\n",
            "Epoch 163/250\n",
            "22/22 [==============================] - 0s 1ms/step - loss: 151.6192\n",
            "Epoch 164/250\n",
            "22/22 [==============================] - 0s 1ms/step - loss: 143.6294\n",
            "Epoch 165/250\n",
            "22/22 [==============================] - 0s 1ms/step - loss: 135.4019\n",
            "Epoch 166/250\n",
            "22/22 [==============================] - 0s 1ms/step - loss: 127.4591\n",
            "Epoch 167/250\n",
            "22/22 [==============================] - 0s 1ms/step - loss: 120.5311\n",
            "Epoch 168/250\n",
            "22/22 [==============================] - 0s 1ms/step - loss: 112.6406\n",
            "Epoch 169/250\n",
            "22/22 [==============================] - 0s 1ms/step - loss: 106.0919\n",
            "Epoch 170/250\n",
            "22/22 [==============================] - 0s 1ms/step - loss: 98.2728\n",
            "Epoch 171/250\n",
            "22/22 [==============================] - 0s 1ms/step - loss: 91.4012\n",
            "Epoch 172/250\n",
            "22/22 [==============================] - 0s 1ms/step - loss: 85.0735\n",
            "Epoch 173/250\n",
            "22/22 [==============================] - 0s 1ms/step - loss: 80.1331\n",
            "Epoch 174/250\n",
            "22/22 [==============================] - 0s 1ms/step - loss: 73.9680\n",
            "Epoch 175/250\n",
            "22/22 [==============================] - 0s 1ms/step - loss: 69.8940\n",
            "Epoch 176/250\n",
            "22/22 [==============================] - 0s 1ms/step - loss: 65.6198\n",
            "Epoch 177/250\n",
            "22/22 [==============================] - 0s 1ms/step - loss: 61.3210\n",
            "Epoch 178/250\n",
            "22/22 [==============================] - 0s 1ms/step - loss: 57.4528\n",
            "Epoch 179/250\n",
            "22/22 [==============================] - 0s 1ms/step - loss: 53.4845\n",
            "Epoch 180/250\n",
            "22/22 [==============================] - 0s 1ms/step - loss: 49.7531\n",
            "Epoch 181/250\n",
            "22/22 [==============================] - 0s 1ms/step - loss: 47.2519\n",
            "Epoch 182/250\n",
            "22/22 [==============================] - 0s 2ms/step - loss: 44.1671\n",
            "Epoch 183/250\n",
            "22/22 [==============================] - 0s 1ms/step - loss: 41.4655\n",
            "Epoch 184/250\n",
            "22/22 [==============================] - 0s 1ms/step - loss: 38.6235\n",
            "Epoch 185/250\n",
            "22/22 [==============================] - 0s 1ms/step - loss: 36.7439\n",
            "Epoch 186/250\n",
            "22/22 [==============================] - 0s 1ms/step - loss: 34.8911\n",
            "Epoch 187/250\n",
            "22/22 [==============================] - 0s 1ms/step - loss: 33.5660\n",
            "Epoch 188/250\n",
            "22/22 [==============================] - 0s 1ms/step - loss: 32.7916\n",
            "Epoch 189/250\n",
            "22/22 [==============================] - 0s 1ms/step - loss: 30.9311\n",
            "Epoch 190/250\n",
            "22/22 [==============================] - 0s 1ms/step - loss: 29.9668\n",
            "Epoch 191/250\n",
            "22/22 [==============================] - 0s 1ms/step - loss: 29.2900\n",
            "Epoch 192/250\n",
            "22/22 [==============================] - 0s 2ms/step - loss: 28.2932\n",
            "Epoch 193/250\n",
            "22/22 [==============================] - 0s 1ms/step - loss: 27.7762\n",
            "Epoch 194/250\n",
            "22/22 [==============================] - 0s 1ms/step - loss: 26.9080\n",
            "Epoch 195/250\n",
            "22/22 [==============================] - 0s 1ms/step - loss: 26.8085\n",
            "Epoch 196/250\n",
            "22/22 [==============================] - 0s 1ms/step - loss: 26.1486\n",
            "Epoch 197/250\n",
            "22/22 [==============================] - 0s 1ms/step - loss: 26.1146\n",
            "Epoch 198/250\n",
            "22/22 [==============================] - 0s 1ms/step - loss: 25.6940\n",
            "Epoch 199/250\n",
            "22/22 [==============================] - 0s 1ms/step - loss: 25.2966\n",
            "Epoch 200/250\n",
            "22/22 [==============================] - 0s 1ms/step - loss: 24.7811\n",
            "Epoch 201/250\n",
            "22/22 [==============================] - 0s 1ms/step - loss: 25.1415\n",
            "Epoch 202/250\n",
            "22/22 [==============================] - 0s 1ms/step - loss: 24.6739\n",
            "Epoch 203/250\n",
            "22/22 [==============================] - 0s 1ms/step - loss: 24.9472\n",
            "Epoch 204/250\n",
            "22/22 [==============================] - 0s 1ms/step - loss: 24.5347\n",
            "Epoch 205/250\n",
            "22/22 [==============================] - 0s 1ms/step - loss: 24.4246\n",
            "Epoch 206/250\n",
            "22/22 [==============================] - 0s 1ms/step - loss: 24.6755\n",
            "Epoch 207/250\n",
            "22/22 [==============================] - 0s 1ms/step - loss: 24.3290\n",
            "Epoch 208/250\n",
            "22/22 [==============================] - 0s 1ms/step - loss: 24.4208\n",
            "Epoch 209/250\n",
            "22/22 [==============================] - 0s 1ms/step - loss: 24.7305\n",
            "Epoch 210/250\n",
            "22/22 [==============================] - 0s 1ms/step - loss: 24.2328\n",
            "Epoch 211/250\n",
            "22/22 [==============================] - 0s 1ms/step - loss: 24.2467\n",
            "Epoch 212/250\n",
            "22/22 [==============================] - 0s 1ms/step - loss: 24.5688\n",
            "Epoch 213/250\n",
            "22/22 [==============================] - 0s 1ms/step - loss: 24.3200\n",
            "Epoch 214/250\n",
            "22/22 [==============================] - 0s 1ms/step - loss: 24.2115\n",
            "Epoch 215/250\n",
            "22/22 [==============================] - 0s 1ms/step - loss: 24.3984\n",
            "Epoch 216/250\n",
            "22/22 [==============================] - 0s 1ms/step - loss: 24.0976\n",
            "Epoch 217/250\n",
            "22/22 [==============================] - 0s 1ms/step - loss: 24.5542\n",
            "Epoch 218/250\n",
            "22/22 [==============================] - 0s 1ms/step - loss: 24.2833\n",
            "Epoch 219/250\n",
            "22/22 [==============================] - 0s 1ms/step - loss: 24.4071\n",
            "Epoch 220/250\n",
            "22/22 [==============================] - 0s 1ms/step - loss: 24.2431\n",
            "Epoch 221/250\n",
            "22/22 [==============================] - 0s 1ms/step - loss: 24.4357\n",
            "Epoch 222/250\n",
            "22/22 [==============================] - 0s 1ms/step - loss: 24.3824\n",
            "Epoch 223/250\n",
            "22/22 [==============================] - 0s 1ms/step - loss: 24.1076\n",
            "Epoch 224/250\n",
            "22/22 [==============================] - 0s 1ms/step - loss: 24.0368\n",
            "Epoch 225/250\n",
            "22/22 [==============================] - 0s 1ms/step - loss: 24.2435\n",
            "Epoch 226/250\n",
            "22/22 [==============================] - 0s 2ms/step - loss: 24.2765\n",
            "Epoch 227/250\n",
            "22/22 [==============================] - 0s 1ms/step - loss: 24.1014\n",
            "Epoch 228/250\n",
            "22/22 [==============================] - 0s 1ms/step - loss: 24.0282\n",
            "Epoch 229/250\n",
            "22/22 [==============================] - 0s 1ms/step - loss: 24.1997\n",
            "Epoch 230/250\n",
            "22/22 [==============================] - 0s 1ms/step - loss: 23.9873\n",
            "Epoch 231/250\n",
            "22/22 [==============================] - 0s 1ms/step - loss: 24.2378\n",
            "Epoch 232/250\n",
            "22/22 [==============================] - 0s 1ms/step - loss: 24.2739\n",
            "Epoch 233/250\n",
            "22/22 [==============================] - 0s 1ms/step - loss: 24.2686\n",
            "Epoch 234/250\n",
            "22/22 [==============================] - 0s 1ms/step - loss: 24.0130\n",
            "Epoch 235/250\n",
            "22/22 [==============================] - 0s 1ms/step - loss: 24.1651\n",
            "Epoch 236/250\n",
            "22/22 [==============================] - 0s 1ms/step - loss: 24.6250\n",
            "Epoch 237/250\n",
            "22/22 [==============================] - 0s 1ms/step - loss: 24.1107\n",
            "Epoch 238/250\n",
            "22/22 [==============================] - 0s 1ms/step - loss: 24.6343\n",
            "Epoch 239/250\n",
            "22/22 [==============================] - 0s 1ms/step - loss: 24.3399\n",
            "Epoch 240/250\n",
            "22/22 [==============================] - 0s 1ms/step - loss: 24.4881\n",
            "Epoch 241/250\n",
            "22/22 [==============================] - 0s 1ms/step - loss: 24.2001\n",
            "Epoch 242/250\n",
            "22/22 [==============================] - 0s 1ms/step - loss: 24.2208\n",
            "Epoch 243/250\n",
            "22/22 [==============================] - 0s 1ms/step - loss: 24.3775\n",
            "Epoch 244/250\n",
            "22/22 [==============================] - 0s 2ms/step - loss: 24.3613\n",
            "Epoch 245/250\n",
            "22/22 [==============================] - 0s 1ms/step - loss: 24.1070\n",
            "Epoch 246/250\n",
            "22/22 [==============================] - 0s 1ms/step - loss: 23.9422\n",
            "Epoch 247/250\n",
            "22/22 [==============================] - 0s 1ms/step - loss: 24.3183\n",
            "Epoch 248/250\n",
            "22/22 [==============================] - 0s 1ms/step - loss: 24.4343\n",
            "Epoch 249/250\n",
            "22/22 [==============================] - 0s 1ms/step - loss: 24.1477\n",
            "Epoch 250/250\n",
            "22/22 [==============================] - 0s 1ms/step - loss: 24.6751\n"
          ],
          "name": "stdout"
        },
        {
          "output_type": "execute_result",
          "data": {
            "text/plain": [
              "<tensorflow.python.keras.callbacks.History at 0x7fd41b14b470>"
            ]
          },
          "metadata": {
            "tags": []
          },
          "execution_count": 34
        }
      ]
    },
    {
      "cell_type": "markdown",
      "metadata": {
        "id": "31w8KIdVJ2Km",
        "colab_type": "text"
      },
      "source": [
        "## Evaluation\n",
        "\n",
        "Let's evaluate our performance on our training set and our test set. We can compare these two performances to check for overfitting."
      ]
    },
    {
      "cell_type": "code",
      "metadata": {
        "id": "1r1i_TH_J2Km",
        "colab_type": "code",
        "colab": {}
      },
      "source": [
        "# model.history.history"
      ],
      "execution_count": 0,
      "outputs": []
    },
    {
      "cell_type": "code",
      "metadata": {
        "id": "TbSSJgohfJhN",
        "colab_type": "code",
        "colab": {}
      },
      "source": [
        "loss_df = pd.DataFrame(model.history.history)"
      ],
      "execution_count": 0,
      "outputs": []
    },
    {
      "cell_type": "code",
      "metadata": {
        "id": "SZjgubFafV0Y",
        "colab_type": "code",
        "outputId": "6e4a9f17-d084-40b0-8e99-cda70cf67888",
        "colab": {
          "base_uri": "https://localhost:8080/",
          "height": 204
        }
      },
      "source": [
        "loss_df.head()"
      ],
      "execution_count": 0,
      "outputs": [
        {
          "output_type": "execute_result",
          "data": {
            "text/html": [
              "<div>\n",
              "<style scoped>\n",
              "    .dataframe tbody tr th:only-of-type {\n",
              "        vertical-align: middle;\n",
              "    }\n",
              "\n",
              "    .dataframe tbody tr th {\n",
              "        vertical-align: top;\n",
              "    }\n",
              "\n",
              "    .dataframe thead th {\n",
              "        text-align: right;\n",
              "    }\n",
              "</style>\n",
              "<table border=\"1\" class=\"dataframe\">\n",
              "  <thead>\n",
              "    <tr style=\"text-align: right;\">\n",
              "      <th></th>\n",
              "      <th>loss</th>\n",
              "    </tr>\n",
              "  </thead>\n",
              "  <tbody>\n",
              "    <tr>\n",
              "      <th>0</th>\n",
              "      <td>256476.296875</td>\n",
              "    </tr>\n",
              "    <tr>\n",
              "      <th>1</th>\n",
              "      <td>256365.031250</td>\n",
              "    </tr>\n",
              "    <tr>\n",
              "      <th>2</th>\n",
              "      <td>256241.093750</td>\n",
              "    </tr>\n",
              "    <tr>\n",
              "      <th>3</th>\n",
              "      <td>256092.015625</td>\n",
              "    </tr>\n",
              "    <tr>\n",
              "      <th>4</th>\n",
              "      <td>255920.187500</td>\n",
              "    </tr>\n",
              "  </tbody>\n",
              "</table>\n",
              "</div>"
            ],
            "text/plain": [
              "            loss\n",
              "0  256476.296875\n",
              "1  256365.031250\n",
              "2  256241.093750\n",
              "3  256092.015625\n",
              "4  255920.187500"
            ]
          },
          "metadata": {
            "tags": []
          },
          "execution_count": 37
        }
      ]
    },
    {
      "cell_type": "code",
      "metadata": {
        "id": "Hli6kZeJffIC",
        "colab_type": "code",
        "outputId": "8d5cb924-fd90-4e7d-8c7c-c98bccee7cfe",
        "colab": {
          "base_uri": "https://localhost:8080/",
          "height": 282
        }
      },
      "source": [
        "loss_df.plot()"
      ],
      "execution_count": 0,
      "outputs": [
        {
          "output_type": "execute_result",
          "data": {
            "text/plain": [
              "<matplotlib.axes._subplots.AxesSubplot at 0x7fd417bb9fd0>"
            ]
          },
          "metadata": {
            "tags": []
          },
          "execution_count": 38
        },
        {
          "output_type": "display_data",
          "data": {
            "image/png": "[encoded data removed]",
            "text/plain": [
              "<Figure size 432x288 with 1 Axes>"
            ]
          },
          "metadata": {
            "tags": [],
            "needs_background": "light"
          }
        }
      ]
    },
    {
      "cell_type": "code",
      "metadata": {
        "id": "EoIhJBuhJ2Ko",
        "colab_type": "code",
        "colab": {}
      },
      "source": [
        "# loss = model.history.history['loss']"
      ],
      "execution_count": 0,
      "outputs": []
    },
    {
      "cell_type": "code",
      "metadata": {
        "scrolled": true,
        "id": "Dj4QFohzJ2Kp",
        "colab_type": "code",
        "outputId": "c5dc88ab-1bea-47f5-c795-ad26f828b372",
        "colab": {}
      },
      "source": [
        "# sns.lineplot(x=range(len(loss)),y=loss)\n",
        "# plt.title(\"Training Loss per Epoch\");"
      ],
      "execution_count": 0,
      "outputs": [
        {
          "output_type": "display_data",
          "data": {
            "image/png": "[encoded data removed]",
            "text/plain": [
              "<Figure size 432x288 with 1 Axes>"
            ]
          },
          "metadata": {
            "tags": [],
            "needs_background": "light"
          }
        }
      ]
    },
    {
      "cell_type": "markdown",
      "metadata": {
        "id": "qn-ZzgxpJ2Kq",
        "colab_type": "text"
      },
      "source": [
        "### Compare final evaluation (MSE) on training set and test set.\n",
        "\n",
        "These should hopefully be fairly close to each other."
      ]
    },
    {
      "cell_type": "code",
      "metadata": {
        "id": "WcMdsvmEgTkK",
        "colab_type": "code",
        "outputId": "a3ad8e23-d093-4ef8-e052-3874ba1dba1b",
        "colab": {
          "base_uri": "https://localhost:8080/",
          "height": 34
        }
      },
      "source": [
        "test_score = model.evaluate(X_test,y_test,verbose=0); test_score"
      ],
      "execution_count": 0,
      "outputs": [
        {
          "output_type": "execute_result",
          "data": {
            "text/plain": [
              "25.1223201751709"
            ]
          },
          "metadata": {
            "tags": []
          },
          "execution_count": 42
        }
      ]
    },
    {
      "cell_type": "code",
      "metadata": {
        "id": "J3h6_B8HgOYT",
        "colab_type": "code",
        "colab": {}
      },
      "source": [
        "# returns the mean scquare error of 25.12 on the test set"
      ],
      "execution_count": 0,
      "outputs": []
    },
    {
      "cell_type": "code",
      "metadata": {
        "id": "5Q--oQJKJ2Ks",
        "colab_type": "code",
        "outputId": "28e31ebc-1658-4388-cbcc-71208ff51485",
        "colab": {
          "base_uri": "https://localhost:8080/",
          "height": 34
        }
      },
      "source": [
        "training_score = model.evaluate(X_train,y_train,verbose=0)\n",
        "training_score"
      ],
      "execution_count": 0,
      "outputs": [
        {
          "output_type": "execute_result",
          "data": {
            "text/plain": [
              "23.728424072265625"
            ]
          },
          "metadata": {
            "tags": []
          },
          "execution_count": 43
        }
      ]
    },
    {
      "cell_type": "code",
      "metadata": {
        "id": "ESsJGZxLgrfE",
        "colab_type": "code",
        "colab": {}
      },
      "source": [
        "# returns the mean scquare error of 25.12 on the training set"
      ],
      "execution_count": 0,
      "outputs": []
    },
    {
      "cell_type": "code",
      "metadata": {
        "id": "73bZ6Wz_J2Kq",
        "colab_type": "code",
        "outputId": "ccbcad8f-8861-41ca-ef72-353b50a02a99",
        "colab": {}
      },
      "source": [
        "# model.metrics_names"
      ],
      "execution_count": 0,
      "outputs": [
        {
          "output_type": "execute_result",
          "data": {
            "text/plain": [
              "['loss']"
            ]
          },
          "metadata": {
            "tags": []
          },
          "execution_count": 29
        }
      ]
    },
    {
      "cell_type": "code",
      "metadata": {
        "id": "CZNZvkKcJ2Kt",
        "colab_type": "code",
        "outputId": "c1efe9dd-e9ae-44db-9488-108436835782",
        "colab": {}
      },
      "source": [
        "# training_score"
      ],
      "execution_count": 0,
      "outputs": [
        {
          "output_type": "execute_result",
          "data": {
            "text/plain": [
              "24.55682439531599"
            ]
          },
          "metadata": {
            "tags": []
          },
          "execution_count": 31
        }
      ]
    },
    {
      "cell_type": "code",
      "metadata": {
        "id": "k3xu5F7TJ2Ku",
        "colab_type": "code",
        "outputId": "7e588a65-d235-4320-9de5-ad309dfc47f3",
        "colab": {}
      },
      "source": [
        "# test_score"
      ],
      "execution_count": 0,
      "outputs": [
        {
          "output_type": "execute_result",
          "data": {
            "text/plain": [
              "26.798187001546225"
            ]
          },
          "metadata": {
            "tags": []
          },
          "execution_count": 32
        }
      ]
    },
    {
      "cell_type": "markdown",
      "metadata": {
        "id": "3oAgP8DrJ2Kw",
        "colab_type": "text"
      },
      "source": [
        "### Further Evaluations"
      ]
    },
    {
      "cell_type": "code",
      "metadata": {
        "id": "vvRNzBVchv1l",
        "colab_type": "code",
        "colab": {}
      },
      "source": [
        "# Predictions of prices"
      ],
      "execution_count": 0,
      "outputs": []
    },
    {
      "cell_type": "code",
      "metadata": {
        "id": "lPKqkOd_J2Kw",
        "colab_type": "code",
        "colab": {}
      },
      "source": [
        "test_predictions = model.predict(X_test)"
      ],
      "execution_count": 0,
      "outputs": []
    },
    {
      "cell_type": "code",
      "metadata": {
        "id": "kBfcoAzdJ2Kx",
        "colab_type": "code",
        "outputId": "3a829e8f-bca0-4299-91b8-2a41df0f789f",
        "colab": {
          "base_uri": "https://localhost:8080/",
          "height": 34
        }
      },
      "source": [
        "test_predictions.shape"
      ],
      "execution_count": 0,
      "outputs": [
        {
          "output_type": "execute_result",
          "data": {
            "text/plain": [
              "(300, 1)"
            ]
          },
          "metadata": {
            "tags": []
          },
          "execution_count": 46
        }
      ]
    },
    {
      "cell_type": "code",
      "metadata": {
        "id": "0mLNQbB1J2K1",
        "colab_type": "code",
        "colab": {}
      },
      "source": [
        "test_predictions = pd.Series(test_predictions.reshape(300,))"
      ],
      "execution_count": 0,
      "outputs": []
    },
    {
      "cell_type": "code",
      "metadata": {
        "id": "agXjF-ebJ2K2",
        "colab_type": "code",
        "outputId": "4f9ed86c-1ee4-4ce1-ea86-d37379219bca",
        "colab": {
          "base_uri": "https://localhost:8080/",
          "height": 34
        }
      },
      "source": [
        "test_predictions.shape"
      ],
      "execution_count": 0,
      "outputs": [
        {
          "output_type": "execute_result",
          "data": {
            "text/plain": [
              "(300,)"
            ]
          },
          "metadata": {
            "tags": []
          },
          "execution_count": 49
        }
      ]
    },
    {
      "cell_type": "code",
      "metadata": {
        "id": "Bqfk-fmEhcQ4",
        "colab_type": "code",
        "colab": {}
      },
      "source": [
        "# True value of Prices"
      ],
      "execution_count": 0,
      "outputs": []
    },
    {
      "cell_type": "code",
      "metadata": {
        "id": "N6uTt76gJ2Kz",
        "colab_type": "code",
        "colab": {}
      },
      "source": [
        "pred_df = pd.DataFrame(y_test,columns=['Test_true_Y'])"
      ],
      "execution_count": 0,
      "outputs": []
    },
    {
      "cell_type": "code",
      "metadata": {
        "id": "aCrUkYe7J2K0",
        "colab_type": "code",
        "outputId": "8b81bc10-c635-4f0f-eb7f-14c598d4fd22",
        "colab": {
          "base_uri": "https://localhost:8080/",
          "height": 34
        }
      },
      "source": [
        "pred_df.shape"
      ],
      "execution_count": 0,
      "outputs": [
        {
          "output_type": "execute_result",
          "data": {
            "text/plain": [
              "(300, 1)"
            ]
          },
          "metadata": {
            "tags": []
          },
          "execution_count": 58
        }
      ]
    },
    {
      "cell_type": "code",
      "metadata": {
        "id": "EMhmzEXFhz3t",
        "colab_type": "code",
        "colab": {}
      },
      "source": [
        "# Concatenate True VALUES with PREDCITIONS"
      ],
      "execution_count": 0,
      "outputs": []
    },
    {
      "cell_type": "code",
      "metadata": {
        "id": "uFqJ0DmzJ2K3",
        "colab_type": "code",
        "colab": {}
      },
      "source": [
        "pred_df = pd.concat([pred_df,test_predictions],axis=1)"
      ],
      "execution_count": 0,
      "outputs": []
    },
    {
      "cell_type": "code",
      "metadata": {
        "id": "AE0siWG0J2K4",
        "colab_type": "code",
        "colab": {}
      },
      "source": [
        "pred_df.columns = ['Test_True_Y','Model Predictions']"
      ],
      "execution_count": 0,
      "outputs": []
    },
    {
      "cell_type": "code",
      "metadata": {
        "id": "hHOW_Oy6J2K5",
        "colab_type": "code",
        "outputId": "50c0043b-97a0-49ef-f72b-75878155e19d",
        "colab": {
          "base_uri": "https://localhost:8080/",
          "height": 419
        }
      },
      "source": [
        "pred_df"
      ],
      "execution_count": 0,
      "outputs": [
        {
          "output_type": "execute_result",
          "data": {
            "text/html": [
              "<div>\n",
              "<style scoped>\n",
              "    .dataframe tbody tr th:only-of-type {\n",
              "        vertical-align: middle;\n",
              "    }\n",
              "\n",
              "    .dataframe tbody tr th {\n",
              "        vertical-align: top;\n",
              "    }\n",
              "\n",
              "    .dataframe thead th {\n",
              "        text-align: right;\n",
              "    }\n",
              "</style>\n",
              "<table border=\"1\" class=\"dataframe\">\n",
              "  <thead>\n",
              "    <tr style=\"text-align: right;\">\n",
              "      <th></th>\n",
              "      <th>Test_True_Y</th>\n",
              "      <th>Model Predictions</th>\n",
              "    </tr>\n",
              "  </thead>\n",
              "  <tbody>\n",
              "    <tr>\n",
              "      <th>0</th>\n",
              "      <td>402.296319</td>\n",
              "      <td>405.530182</td>\n",
              "    </tr>\n",
              "    <tr>\n",
              "      <th>1</th>\n",
              "      <td>624.156198</td>\n",
              "      <td>623.974243</td>\n",
              "    </tr>\n",
              "    <tr>\n",
              "      <th>2</th>\n",
              "      <td>582.455066</td>\n",
              "      <td>592.548828</td>\n",
              "    </tr>\n",
              "    <tr>\n",
              "      <th>3</th>\n",
              "      <td>578.588606</td>\n",
              "      <td>572.591431</td>\n",
              "    </tr>\n",
              "    <tr>\n",
              "      <th>4</th>\n",
              "      <td>371.224104</td>\n",
              "      <td>366.777283</td>\n",
              "    </tr>\n",
              "    <tr>\n",
              "      <th>...</th>\n",
              "      <td>...</td>\n",
              "      <td>...</td>\n",
              "    </tr>\n",
              "    <tr>\n",
              "      <th>295</th>\n",
              "      <td>525.704657</td>\n",
              "      <td>529.375305</td>\n",
              "    </tr>\n",
              "    <tr>\n",
              "      <th>296</th>\n",
              "      <td>502.909473</td>\n",
              "      <td>515.595703</td>\n",
              "    </tr>\n",
              "    <tr>\n",
              "      <th>297</th>\n",
              "      <td>612.727910</td>\n",
              "      <td>610.078979</td>\n",
              "    </tr>\n",
              "    <tr>\n",
              "      <th>298</th>\n",
              "      <td>417.569725</td>\n",
              "      <td>417.227173</td>\n",
              "    </tr>\n",
              "    <tr>\n",
              "      <th>299</th>\n",
              "      <td>410.538250</td>\n",
              "      <td>411.103882</td>\n",
              "    </tr>\n",
              "  </tbody>\n",
              "</table>\n",
              "<p>300 rows × 2 columns</p>\n",
              "</div>"
            ],
            "text/plain": [
              "     Test_True_Y  Model Predictions\n",
              "0     402.296319         405.530182\n",
              "1     624.156198         623.974243\n",
              "2     582.455066         592.548828\n",
              "3     578.588606         572.591431\n",
              "4     371.224104         366.777283\n",
              "..           ...                ...\n",
              "295   525.704657         529.375305\n",
              "296   502.909473         515.595703\n",
              "297   612.727910         610.078979\n",
              "298   417.569725         417.227173\n",
              "299   410.538250         411.103882\n",
              "\n",
              "[300 rows x 2 columns]"
            ]
          },
          "metadata": {
            "tags": []
          },
          "execution_count": 61
        }
      ]
    },
    {
      "cell_type": "markdown",
      "metadata": {
        "id": "zaWXUDwYJ2K7",
        "colab_type": "text"
      },
      "source": [
        "Let's compare to the real test labels!"
      ]
    },
    {
      "cell_type": "code",
      "metadata": {
        "id": "Fde1zblTJ2K7",
        "colab_type": "code",
        "outputId": "37018fdb-8599-42ad-8057-aaef6d0e11ae",
        "colab": {
          "base_uri": "https://localhost:8080/",
          "height": 297
        }
      },
      "source": [
        "sns.scatterplot(data=pred_df, x='Test_True_Y',y='Model Predictions')"
      ],
      "execution_count": 0,
      "outputs": [
        {
          "output_type": "execute_result",
          "data": {
            "text/plain": [
              "<matplotlib.axes._subplots.AxesSubplot at 0x7fd417a8b828>"
            ]
          },
          "metadata": {
            "tags": []
          },
          "execution_count": 62
        },
        {
          "output_type": "display_data",
          "data": {
            "image/png": "[encoded data removed]",
            "text/plain": [
              "<Figure size 432x288 with 1 Axes>"
            ]
          },
          "metadata": {
            "tags": [],
            "needs_background": "light"
          }
        }
      ]
    },
    {
      "cell_type": "code",
      "metadata": {
        "id": "uS4AjOdpJ2K8",
        "colab_type": "code",
        "colab": {}
      },
      "source": [
        "pred_df['Error'] = pred_df['Test Y'] - pred_df['Model Predictions']"
      ],
      "execution_count": 0,
      "outputs": []
    },
    {
      "cell_type": "code",
      "metadata": {
        "id": "XkWaLZFJJ2K9",
        "colab_type": "code",
        "outputId": "91e0728a-513a-45e1-a62f-3d15c462ee6e",
        "colab": {}
      },
      "source": [
        "sns.distplot(pred_df['Error'],bins=50)"
      ],
      "execution_count": 0,
      "outputs": [
        {
          "output_type": "execute_result",
          "data": {
            "text/plain": [
              "<matplotlib.axes._subplots.AxesSubplot at 0x2599b269048>"
            ]
          },
          "metadata": {
            "tags": []
          },
          "execution_count": 44
        },
        {
          "output_type": "display_data",
          "data": {
            "image/png": "[encoded data removed]",
            "text/plain": [
              "<Figure size 432x288 with 1 Axes>"
            ]
          },
          "metadata": {
            "tags": [],
            "needs_background": "light"
          }
        }
      ]
    },
    {
      "cell_type": "code",
      "metadata": {
        "id": "t9fA9A_3J2K-",
        "colab_type": "code",
        "colab": {}
      },
      "source": [
        "from sklearn.metrics import mean_absolute_error,mean_squared_error"
      ],
      "execution_count": 0,
      "outputs": []
    },
    {
      "cell_type": "code",
      "metadata": {
        "id": "4ZE2PQXZJ2LA",
        "colab_type": "code",
        "outputId": "240f3ee7-5ec5-406e-f15d-b5444cfa646c",
        "colab": {
          "base_uri": "https://localhost:8080/",
          "height": 34
        }
      },
      "source": [
        "mean_absolute_error(pred_df['Test_True_Y'],pred_df['Model Predictions'])"
      ],
      "execution_count": 0,
      "outputs": [
        {
          "output_type": "execute_result",
          "data": {
            "text/plain": [
              "4.02089818466277"
            ]
          },
          "metadata": {
            "tags": []
          },
          "execution_count": 64
        }
      ]
    },
    {
      "cell_type": "code",
      "metadata": {
        "id": "U0-1qAbHjWzt",
        "colab_type": "code",
        "outputId": "5af321f0-651f-438c-af9b-d363eaa6e3ad",
        "colab": {
          "base_uri": "https://localhost:8080/",
          "height": 297
        }
      },
      "source": [
        "df.describe()"
      ],
      "execution_count": 0,
      "outputs": [
        {
          "output_type": "execute_result",
          "data": {
            "text/html": [
              "<div>\n",
              "<style scoped>\n",
              "    .dataframe tbody tr th:only-of-type {\n",
              "        vertical-align: middle;\n",
              "    }\n",
              "\n",
              "    .dataframe tbody tr th {\n",
              "        vertical-align: top;\n",
              "    }\n",
              "\n",
              "    .dataframe thead th {\n",
              "        text-align: right;\n",
              "    }\n",
              "</style>\n",
              "<table border=\"1\" class=\"dataframe\">\n",
              "  <thead>\n",
              "    <tr style=\"text-align: right;\">\n",
              "      <th></th>\n",
              "      <th>price</th>\n",
              "      <th>feature1</th>\n",
              "      <th>feature2</th>\n",
              "    </tr>\n",
              "  </thead>\n",
              "  <tbody>\n",
              "    <tr>\n",
              "      <th>count</th>\n",
              "      <td>1000.000000</td>\n",
              "      <td>1000.000000</td>\n",
              "      <td>1000.000000</td>\n",
              "    </tr>\n",
              "    <tr>\n",
              "      <th>mean</th>\n",
              "      <td>498.673029</td>\n",
              "      <td>1000.014171</td>\n",
              "      <td>999.979847</td>\n",
              "    </tr>\n",
              "    <tr>\n",
              "      <th>std</th>\n",
              "      <td>93.785431</td>\n",
              "      <td>0.974018</td>\n",
              "      <td>0.948330</td>\n",
              "    </tr>\n",
              "    <tr>\n",
              "      <th>min</th>\n",
              "      <td>223.346793</td>\n",
              "      <td>997.058347</td>\n",
              "      <td>996.995651</td>\n",
              "    </tr>\n",
              "    <tr>\n",
              "      <th>25%</th>\n",
              "      <td>433.025732</td>\n",
              "      <td>999.332068</td>\n",
              "      <td>999.316106</td>\n",
              "    </tr>\n",
              "    <tr>\n",
              "      <th>50%</th>\n",
              "      <td>502.382117</td>\n",
              "      <td>1000.009915</td>\n",
              "      <td>1000.002243</td>\n",
              "    </tr>\n",
              "    <tr>\n",
              "      <th>75%</th>\n",
              "      <td>564.921588</td>\n",
              "      <td>1000.637580</td>\n",
              "      <td>1000.645380</td>\n",
              "    </tr>\n",
              "    <tr>\n",
              "      <th>max</th>\n",
              "      <td>774.407854</td>\n",
              "      <td>1003.207934</td>\n",
              "      <td>1002.666308</td>\n",
              "    </tr>\n",
              "  </tbody>\n",
              "</table>\n",
              "</div>"
            ],
            "text/plain": [
              "             price     feature1     feature2\n",
              "count  1000.000000  1000.000000  1000.000000\n",
              "mean    498.673029  1000.014171   999.979847\n",
              "std      93.785431     0.974018     0.948330\n",
              "min     223.346793   997.058347   996.995651\n",
              "25%     433.025732   999.332068   999.316106\n",
              "50%     502.382117  1000.009915  1000.002243\n",
              "75%     564.921588  1000.637580  1000.645380\n",
              "max     774.407854  1003.207934  1002.666308"
            ]
          },
          "metadata": {
            "tags": []
          },
          "execution_count": 66
        }
      ]
    },
    {
      "cell_type": "markdown",
      "metadata": {
        "id": "RQui5wlai5xQ",
        "colab_type": "text"
      },
      "source": [
        "Comments: This means, On avg, I am 4 dollars off from my Price. \n",
        "4 is 10% of 498 mean"
      ]
    },
    {
      "cell_type": "code",
      "metadata": {
        "id": "PdcHaHKsJ2LB",
        "colab_type": "code",
        "outputId": "ac43cd97-7f69-4daf-9fc2-6d7b2524c36e",
        "colab": {
          "base_uri": "https://localhost:8080/",
          "height": 34
        }
      },
      "source": [
        "mean_squared_error(pred_df['Test_True_Y'],pred_df['Model Predictions'])"
      ],
      "execution_count": 0,
      "outputs": [
        {
          "output_type": "execute_result",
          "data": {
            "text/plain": [
              "25.122324941374504"
            ]
          },
          "metadata": {
            "tags": []
          },
          "execution_count": 65
        }
      ]
    },
    {
      "cell_type": "code",
      "metadata": {
        "id": "MLDP3cTajpMs",
        "colab_type": "code",
        "colab": {}
      },
      "source": [
        "# ROOT MEAN SQUARED ERROR"
      ],
      "execution_count": 0,
      "outputs": []
    },
    {
      "cell_type": "code",
      "metadata": {
        "id": "t_04Is9KjsHg",
        "colab_type": "code",
        "outputId": "3c36a878-5514-4ad0-d31a-4d65774f48a9",
        "colab": {
          "base_uri": "https://localhost:8080/",
          "height": 34
        }
      },
      "source": [
        "mean_squared_error(pred_df['Test_True_Y'],pred_df['Model Predictions'])**0.5"
      ],
      "execution_count": 0,
      "outputs": [
        {
          "output_type": "execute_result",
          "data": {
            "text/plain": [
              "5.0122175672425175"
            ]
          },
          "metadata": {
            "tags": []
          },
          "execution_count": 67
        }
      ]
    },
    {
      "cell_type": "code",
      "metadata": {
        "id": "y9JoRblxJ2LD",
        "colab_type": "code",
        "outputId": "19adaa77-1677-469d-d78b-51f352fd99c4",
        "colab": {}
      },
      "source": [
        "# Essentially the same thing, difference just due to precision\n",
        "test_score"
      ],
      "execution_count": 0,
      "outputs": [
        {
          "output_type": "execute_result",
          "data": {
            "text/plain": [
              "26.798187001546225"
            ]
          },
          "metadata": {
            "tags": []
          },
          "execution_count": 48
        }
      ]
    },
    {
      "cell_type": "code",
      "metadata": {
        "id": "_aLZMc_qJ2LF",
        "colab_type": "code",
        "outputId": "6f8726e0-49e6-4bb3-e1cf-d18bdf0a50bb",
        "colab": {}
      },
      "source": [
        "#RMSE\n",
        "test_score**0.5"
      ],
      "execution_count": 0,
      "outputs": [
        {
          "output_type": "execute_result",
          "data": {
            "text/plain": [
              "5.176696533654085"
            ]
          },
          "metadata": {
            "tags": []
          },
          "execution_count": 49
        }
      ]
    },
    {
      "cell_type": "markdown",
      "metadata": {
        "id": "eWGkqCSuJ2LI",
        "colab_type": "text"
      },
      "source": [
        "# Predicting on brand new data\n",
        "\n",
        "What if we just saw a brand new gemstone from the ground? What should we price it at? This is the **exact** same procedure as predicting on a new test data!"
      ]
    },
    {
      "cell_type": "code",
      "metadata": {
        "id": "-yj_eDKGJ2LI",
        "colab_type": "code",
        "colab": {}
      },
      "source": [
        "# [[Feature1, Feature2]]\n",
        "new_gem = [[998,1000]]"
      ],
      "execution_count": 0,
      "outputs": []
    },
    {
      "cell_type": "code",
      "metadata": {
        "id": "_bbHyS5vJ2LJ",
        "colab_type": "code",
        "outputId": "65a6388e-574f-4047-e115-d3066090b5d9",
        "colab": {
          "base_uri": "https://localhost:8080/",
          "height": 34
        }
      },
      "source": [
        "# Don't forget to scale!\n",
        "scaler.transform(new_gem)"
      ],
      "execution_count": 0,
      "outputs": [
        {
          "output_type": "execute_result",
          "data": {
            "text/plain": [
              "array([[0.14117652, 0.53968792]])"
            ]
          },
          "metadata": {
            "tags": []
          },
          "execution_count": 69
        }
      ]
    },
    {
      "cell_type": "code",
      "metadata": {
        "id": "0z8p5gg_J2LM",
        "colab_type": "code",
        "colab": {}
      },
      "source": [
        "new_gem = scaler.transform(new_gem)"
      ],
      "execution_count": 0,
      "outputs": []
    },
    {
      "cell_type": "code",
      "metadata": {
        "id": "wSZuX7bxJ2LN",
        "colab_type": "code",
        "outputId": "753a1d4b-343b-4d31-db53-ff9fdd300fa0",
        "colab": {
          "base_uri": "https://localhost:8080/",
          "height": 34
        }
      },
      "source": [
        "model.predict(new_gem)"
      ],
      "execution_count": 0,
      "outputs": [
        {
          "output_type": "execute_result",
          "data": {
            "text/plain": [
              "array([[419.8977]], dtype=float32)"
            ]
          },
          "metadata": {
            "tags": []
          },
          "execution_count": 71
        }
      ]
    },
    {
      "cell_type": "markdown",
      "metadata": {
        "id": "CFnsLbnGJ2LP",
        "colab_type": "text"
      },
      "source": [
        "## Saving and Loading a Model"
      ]
    },
    {
      "cell_type": "code",
      "metadata": {
        "id": "8fPM9htIJ2LP",
        "colab_type": "code",
        "colab": {}
      },
      "source": [
        "from tensorflow.keras.models import load_model"
      ],
      "execution_count": 0,
      "outputs": []
    },
    {
      "cell_type": "code",
      "metadata": {
        "id": "03EIQj2MJ2LR",
        "colab_type": "code",
        "colab": {}
      },
      "source": [
        "model.save('my_gem_model.h5')  # creates a HDF5 file 'my_model.h5'"
      ],
      "execution_count": 0,
      "outputs": []
    },
    {
      "cell_type": "code",
      "metadata": {
        "id": "NfywA4grJ2LS",
        "colab_type": "code",
        "colab": {}
      },
      "source": [
        "later_model = load_model('my_gem_model.h5')"
      ],
      "execution_count": 0,
      "outputs": []
    },
    {
      "cell_type": "code",
      "metadata": {
        "id": "0L__zAd_J2LT",
        "colab_type": "code",
        "outputId": "41fd0ee8-c1ec-431b-c02b-182555100b2f",
        "colab": {
          "base_uri": "https://localhost:8080/",
          "height": 34
        }
      },
      "source": [
        "later_model.predict(new_gem)"
      ],
      "execution_count": 0,
      "outputs": [
        {
          "output_type": "execute_result",
          "data": {
            "text/plain": [
              "array([[419.8977]], dtype=float32)"
            ]
          },
          "metadata": {
            "tags": []
          },
          "execution_count": 75
        }
      ]
    }
  ]
}